{
 "cells": [
  {
   "cell_type": "markdown",
   "id": "7NtHLUGvMKUt",
   "metadata": {
    "id": "7NtHLUGvMKUt",
    "papermill": {
     "duration": 0.012296,
     "end_time": "2023-03-04T15:22:32.352873",
     "exception": false,
     "start_time": "2023-03-04T15:22:32.340577",
     "status": "completed"
    },
    "tags": []
   },
   "source": [
    "#### Installing necessary "
   ]
  },
  {
   "cell_type": "code",
   "execution_count": 1,
   "id": "kJSSW73cMKVO",
   "metadata": {
    "colab": {
     "base_uri": "https://localhost:8080/"
    },
    "execution": {
     "iopub.execute_input": "2023-07-15T12:54:37.180280Z",
     "iopub.status.busy": "2023-07-15T12:54:37.179868Z",
     "iopub.status.idle": "2023-07-15T12:54:48.029918Z",
     "shell.execute_reply": "2023-07-15T12:54:48.028054Z",
     "shell.execute_reply.started": "2023-07-15T12:54:37.180249Z"
    },
    "id": "kJSSW73cMKVO",
    "outputId": "9f9a9e89-5197-4c12-cb07-dddab2a3f414",
    "papermill": {
     "duration": 32.598531,
     "end_time": "2023-03-04T15:23:04.962493",
     "exception": false,
     "start_time": "2023-03-04T15:22:32.363962",
     "status": "completed"
    },
    "tags": []
   },
   "outputs": [
    {
     "name": "stdout",
     "output_type": "stream",
     "text": [
      "--2023-07-15 13:00:50--  https://dl.google.com/linux/linux_signing_key.pub\n",
      "Resolving dl.google.com (dl.google.com)... 142.251.2.93, 142.251.2.91, 142.251.2.136, ...\n",
      "Connecting to dl.google.com (dl.google.com)|142.251.2.93|:443... connected.\n",
      "HTTP request sent, awaiting response... 200 OK\n",
      "Length: 14605 (14K) [application/octet-stream]\n",
      "Saving to: ‘linux_signing_key.pub’\n",
      "\n",
      "\r",
      "linux_signing_key.p   0%[                    ]       0  --.-KB/s               \r",
      "linux_signing_key.p 100%[===================>]  14.26K  --.-KB/s    in 0.001s  \n",
      "\n",
      "2023-07-15 13:00:50 (11.4 MB/s) - ‘linux_signing_key.pub’ saved [14605/14605]\n",
      "\n",
      "OK\n",
      "Get:1 https://cloud.r-project.org/bin/linux/ubuntu focal-cran40/ InRelease [3,622 B]\n",
      "Get:2 http://dl.google.com/linux/chrome/deb stable InRelease [1,825 B]\n",
      "Get:3 https://developer.download.nvidia.com/compute/cuda/repos/ubuntu2004/x86_64  InRelease [1,581 B]\n",
      "Hit:4 http://archive.ubuntu.com/ubuntu focal InRelease\n",
      "Hit:5 http://ppa.launchpad.net/c2d4u.team/c2d4u4.0+/ubuntu focal InRelease\n",
      "Get:6 http://security.ubuntu.com/ubuntu focal-security InRelease [114 kB]\n",
      "Get:7 http://dl.google.com/linux/chrome/deb stable/main amd64 Packages [1,077 B]\n",
      "Get:8 http://archive.ubuntu.com/ubuntu focal-updates InRelease [114 kB]\n",
      "Get:9 https://developer.download.nvidia.com/compute/cuda/repos/ubuntu2004/x86_64  Packages [1,084 kB]\n",
      "Hit:10 http://ppa.launchpad.net/cran/libgit2/ubuntu focal InRelease\n",
      "Hit:11 http://ppa.launchpad.net/deadsnakes/ppa/ubuntu focal InRelease\n",
      "Get:12 http://archive.ubuntu.com/ubuntu focal-backports InRelease [108 kB]\n",
      "Hit:13 http://ppa.launchpad.net/graphics-drivers/ppa/ubuntu focal InRelease\n",
      "Get:14 http://archive.ubuntu.com/ubuntu focal-updates/main amd64 Packages [3,347 kB]\n",
      "Hit:15 http://ppa.launchpad.net/ubuntugis/ppa/ubuntu focal InRelease\n",
      "Get:16 http://archive.ubuntu.com/ubuntu focal-updates/universe amd64 Packages [1,372 kB]\n",
      "Fetched 6,148 kB in 2s (2,619 kB/s)\n",
      "Reading package lists... Done\n",
      "Reading package lists... Done\n",
      "Building dependency tree       \n",
      "Reading state information... Done\n",
      "The following additional packages will be installed:\n",
      "  libu2f-udev libudev1 udev\n",
      "The following NEW packages will be installed:\n",
      "  google-chrome-stable libu2f-udev udev\n",
      "The following packages will be upgraded:\n",
      "  libudev1\n",
      "1 upgraded, 3 newly installed, 0 to remove and 14 not upgraded.\n",
      "Need to get 95.8 MB of archives.\n",
      "After this operation, 331 MB of additional disk space will be used.\n",
      "Get:1 http://dl.google.com/linux/chrome/deb stable/main amd64 google-chrome-stable amd64 114.0.5735.198-1 [94.3 MB]\n",
      "Get:2 http://archive.ubuntu.com/ubuntu focal-updates/main amd64 libudev1 amd64 245.4-4ubuntu3.22 [75.4 kB]\n",
      "Get:3 http://archive.ubuntu.com/ubuntu focal-updates/main amd64 udev amd64 245.4-4ubuntu3.22 [1,366 kB]\n",
      "Get:4 http://archive.ubuntu.com/ubuntu focal/main amd64 libu2f-udev all 1.1.10-1 [6,108 B]\n",
      "Fetched 95.8 MB in 4s (25.0 MB/s)\n",
      "debconf: unable to initialize frontend: Dialog\n",
      "debconf: (No usable dialog-like program is installed, so the dialog based frontend cannot be used. at /usr/share/perl5/Debconf/FrontEnd/Dialog.pm line 76, <> line 4.)\n",
      "debconf: falling back to frontend: Readline\n",
      "debconf: unable to initialize frontend: Readline\n",
      "debconf: (This frontend requires a controlling tty.)\n",
      "debconf: falling back to frontend: Teletype\n",
      "dpkg-preconfigure: unable to re-open stdin: \n",
      "(Reading database ... 123105 files and directories currently installed.)\n",
      "Preparing to unpack .../libudev1_245.4-4ubuntu3.22_amd64.deb ...\n",
      "Unpacking libudev1:amd64 (245.4-4ubuntu3.22) over (245.4-4ubuntu3.21) ...\n",
      "Setting up libudev1:amd64 (245.4-4ubuntu3.22) ...\n",
      "Selecting previously unselected package udev.\n",
      "(Reading database ... 123105 files and directories currently installed.)\n",
      "Preparing to unpack .../udev_245.4-4ubuntu3.22_amd64.deb ...\n",
      "Unpacking udev (245.4-4ubuntu3.22) ...\n",
      "Selecting previously unselected package libu2f-udev.\n",
      "Preparing to unpack .../libu2f-udev_1.1.10-1_all.deb ...\n",
      "Unpacking libu2f-udev (1.1.10-1) ...\n",
      "Selecting previously unselected package google-chrome-stable.\n",
      "Preparing to unpack .../google-chrome-stable_114.0.5735.198-1_amd64.deb ...\n",
      "Unpacking google-chrome-stable (114.0.5735.198-1) ...\n",
      "Setting up udev (245.4-4ubuntu3.22) ...\n",
      "invoke-rc.d: could not determine current runlevel\n",
      "invoke-rc.d: policy-rc.d denied execution of start.\n",
      "Setting up libu2f-udev (1.1.10-1) ...\n",
      "Failed to send reload request: No such file or directory\n",
      "Setting up google-chrome-stable (114.0.5735.198-1) ...\n",
      "update-alternatives: using /usr/bin/google-chrome-stable to provide /usr/bin/x-www-browser (x-www-browser) in auto mode\n",
      "update-alternatives: using /usr/bin/google-chrome-stable to provide /usr/bin/gnome-www-browser (gnome-www-browser) in auto mode\n",
      "update-alternatives: using /usr/bin/google-chrome-stable to provide /usr/bin/google-chrome (google-chrome) in auto mode\n",
      "Processing triggers for libc-bin (2.31-0ubuntu9.9) ...\n",
      "Processing triggers for systemd (245.4-4ubuntu3.22) ...\n",
      "Processing triggers for man-db (2.9.1-1) ...\n",
      "Processing triggers for mime-support (3.64ubuntu1) ...\n"
     ]
    }
   ],
   "source": [
    "# install google chrome\n",
    "!wget https://dl.google.com/linux/linux_signing_key.pub\n",
    "!sudo apt-key add linux_signing_key.pub\n",
    "!echo 'deb [arch=amd64] http://dl.google.com/linux/chrome/deb/ stable main' >> /etc/apt/sources.list.d/google-chrome.list\n",
    "!sudo apt-get -y update\n",
    "!sudo apt-get install -y google-chrome-stable"
   ]
  },
  {
   "cell_type": "code",
   "execution_count": 2,
   "id": "qiG91POkMKVa",
   "metadata": {
    "colab": {
     "base_uri": "https://localhost:8080/"
    },
    "execution": {
     "iopub.execute_input": "2023-07-15T12:54:48.032823Z",
     "iopub.status.busy": "2023-07-15T12:54:48.032430Z",
     "iopub.status.idle": "2023-07-15T12:55:04.144905Z",
     "shell.execute_reply": "2023-07-15T12:55:04.143572Z",
     "shell.execute_reply.started": "2023-07-15T12:54:48.032786Z"
    },
    "id": "qiG91POkMKVa",
    "outputId": "faa38f91-24d4-4de3-8adb-791851b1199b",
    "papermill": {
     "duration": 2.849145,
     "end_time": "2023-03-04T15:23:07.830381",
     "exception": false,
     "start_time": "2023-03-04T15:23:04.981236",
     "status": "completed"
    },
    "tags": []
   },
   "outputs": [
    {
     "name": "stdout",
     "output_type": "stream",
     "text": [
      "--2023-07-15 13:01:25--  http://chromedriver.storage.googleapis.com/114.0.5735.90/chromedriver_linux64.zip\n",
      "Resolving chromedriver.storage.googleapis.com (chromedriver.storage.googleapis.com)... 142.250.101.128, 2607:f8b0:4023:c06::80\n",
      "Connecting to chromedriver.storage.googleapis.com (chromedriver.storage.googleapis.com)|142.250.101.128|:80... connected.\n",
      "HTTP request sent, awaiting response... 200 OK\n",
      "Length: 7407250 (7.1M) [application/zip]\n",
      "Saving to: ‘/tmp/chromedriver.zip’\n",
      "\n",
      "\r",
      "/tmp/chromedriver.z   0%[                    ]       0  --.-KB/s               \r",
      "/tmp/chromedriver.z 100%[===================>]   7.06M  --.-KB/s    in 0.06s   \n",
      "\n",
      "2023-07-15 13:01:25 (123 MB/s) - ‘/tmp/chromedriver.zip’ saved [7407250/7407250]\n",
      "\n",
      "Archive:  /tmp/chromedriver.zip\n",
      "  inflating: /usr/local/bin/chromedriver  \n"
     ]
    }
   ],
   "source": [
    "# install chromedriver\n",
    "# !apt-get install -y qq unzip\n",
    "!wget -O /tmp/chromedriver.zip http://chromedriver.storage.googleapis.com/`curl -sS chromedriver.storage.googleapis.com/LATEST_RELEASE`/chromedriver_linux64.zip\n",
    "!unzip /tmp/chromedriver.zip chromedriver -d /usr/local/bin/"
   ]
  },
  {
   "cell_type": "code",
   "execution_count": 3,
   "id": "tAdHm4rgMKVd",
   "metadata": {
    "colab": {
     "base_uri": "https://localhost:8080/"
    },
    "execution": {
     "iopub.execute_input": "2023-07-15T12:55:04.147203Z",
     "iopub.status.busy": "2023-07-15T12:55:04.146704Z",
     "iopub.status.idle": "2023-07-15T12:55:21.218468Z",
     "shell.execute_reply": "2023-07-15T12:55:21.216970Z",
     "shell.execute_reply.started": "2023-07-15T12:55:04.147164Z"
    },
    "id": "tAdHm4rgMKVd",
    "outputId": "1ac3e8dc-c723-4e6c-f472-d5034a8b2c19",
    "papermill": {
     "duration": 40.399829,
     "end_time": "2023-03-04T15:23:48.249069",
     "exception": false,
     "start_time": "2023-03-04T15:23:07.849240",
     "status": "completed"
    },
    "tags": []
   },
   "outputs": [
    {
     "name": "stdout",
     "output_type": "stream",
     "text": [
      "Reading package lists... Done\n",
      "Building dependency tree       \n",
      "Reading state information... Done\n",
      "The following additional packages will be installed:\n",
      "  apparmor chromium-browser chromium-chromedriver liblzo2-2 snapd\n",
      "  squashfs-tools\n",
      "Suggested packages:\n",
      "  apparmor-profiles-extra apparmor-utils zenity | kdialog\n",
      "The following NEW packages will be installed:\n",
      "  apparmor chromium-browser chromium-chromedriver liblzo2-2 python3-selenium\n",
      "  snapd squashfs-tools\n",
      "0 upgraded, 7 newly installed, 0 to remove and 14 not upgraded.\n",
      "Need to get 38.7 MB of archives.\n",
      "After this operation, 174 MB of additional disk space will be used.\n",
      "Get:1 http://archive.ubuntu.com/ubuntu focal-updates/main amd64 apparmor amd64 2.13.3-7ubuntu5.2 [502 kB]\n",
      "Get:2 http://archive.ubuntu.com/ubuntu focal/main amd64 liblzo2-2 amd64 2.10-2 [50.8 kB]\n",
      "Get:3 http://archive.ubuntu.com/ubuntu focal-updates/main amd64 squashfs-tools amd64 1:4.4-1ubuntu0.3 [117 kB]\n",
      "Get:4 http://archive.ubuntu.com/ubuntu focal-updates/main amd64 snapd amd64 2.58+20.04.1 [37.9 MB]\n",
      "Get:5 http://archive.ubuntu.com/ubuntu focal-updates/universe amd64 chromium-browser amd64 1:85.0.4183.83-0ubuntu0.20.04.3 [48.5 kB]\n",
      "Get:6 http://archive.ubuntu.com/ubuntu focal-updates/universe amd64 chromium-chromedriver amd64 1:85.0.4183.83-0ubuntu0.20.04.3 [2,496 B]\n",
      "Get:7 http://archive.ubuntu.com/ubuntu focal/universe amd64 python3-selenium all 4.0.0~a1+dfsg1-1.1 [86.2 kB]\n",
      "Fetched 38.7 MB in 2s (20.6 MB/s)\n",
      "debconf: unable to initialize frontend: Dialog\n",
      "debconf: (No usable dialog-like program is installed, so the dialog based frontend cannot be used. at /usr/share/perl5/Debconf/FrontEnd/Dialog.pm line 76, <> line 7.)\n",
      "debconf: falling back to frontend: Readline\n",
      "debconf: unable to initialize frontend: Readline\n",
      "debconf: (This frontend requires a controlling tty.)\n",
      "debconf: falling back to frontend: Teletype\n",
      "dpkg-preconfigure: unable to re-open stdin: \n",
      "Selecting previously unselected package apparmor.\n",
      "(Reading database ... 123337 files and directories currently installed.)\n",
      "Preparing to unpack .../apparmor_2.13.3-7ubuntu5.2_amd64.deb ...\n",
      "Unpacking apparmor (2.13.3-7ubuntu5.2) ...\n",
      "Selecting previously unselected package liblzo2-2:amd64.\n",
      "Preparing to unpack .../liblzo2-2_2.10-2_amd64.deb ...\n",
      "Unpacking liblzo2-2:amd64 (2.10-2) ...\n",
      "Selecting previously unselected package squashfs-tools.\n",
      "Preparing to unpack .../squashfs-tools_1%3a4.4-1ubuntu0.3_amd64.deb ...\n",
      "Unpacking squashfs-tools (1:4.4-1ubuntu0.3) ...\n",
      "Selecting previously unselected package snapd.\n",
      "Preparing to unpack .../snapd_2.58+20.04.1_amd64.deb ...\n",
      "Unpacking snapd (2.58+20.04.1) ...\n",
      "Setting up apparmor (2.13.3-7ubuntu5.2) ...\n",
      "debconf: unable to initialize frontend: Dialog\n",
      "debconf: (No usable dialog-like program is installed, so the dialog based frontend cannot be used. at /usr/share/perl5/Debconf/FrontEnd/Dialog.pm line 76.)\n",
      "debconf: falling back to frontend: Readline\n",
      "Created symlink /etc/systemd/system/sysinit.target.wants/apparmor.service → /lib/systemd/system/apparmor.service.\n",
      "Setting up liblzo2-2:amd64 (2.10-2) ...\n",
      "Setting up squashfs-tools (1:4.4-1ubuntu0.3) ...\n",
      "Setting up snapd (2.58+20.04.1) ...\n",
      "Created symlink /etc/systemd/system/multi-user.target.wants/snapd.aa-prompt-listener.service → /lib/systemd/system/snapd.aa-prompt-listener.service.\n",
      "Created symlink /etc/systemd/system/multi-user.target.wants/snapd.apparmor.service → /lib/systemd/system/snapd.apparmor.service.\n",
      "Created symlink /etc/systemd/system/multi-user.target.wants/snapd.autoimport.service → /lib/systemd/system/snapd.autoimport.service.\n",
      "Created symlink /etc/systemd/system/multi-user.target.wants/snapd.core-fixup.service → /lib/systemd/system/snapd.core-fixup.service.\n",
      "Created symlink /etc/systemd/system/multi-user.target.wants/snapd.recovery-chooser-trigger.service → /lib/systemd/system/snapd.recovery-chooser-trigger.service.\n",
      "Created symlink /etc/systemd/system/multi-user.target.wants/snapd.seeded.service → /lib/systemd/system/snapd.seeded.service.\n",
      "Created symlink /etc/systemd/system/cloud-final.service.wants/snapd.seeded.service → /lib/systemd/system/snapd.seeded.service.\n",
      "Created symlink /etc/systemd/system/multi-user.target.wants/snapd.service → /lib/systemd/system/snapd.service.\n",
      "Created symlink /etc/systemd/system/timers.target.wants/snapd.snap-repair.timer → /lib/systemd/system/snapd.snap-repair.timer.\n",
      "Created symlink /etc/systemd/system/sockets.target.wants/snapd.socket → /lib/systemd/system/snapd.socket.\n",
      "Created symlink /etc/systemd/system/final.target.wants/snapd.system-shutdown.service → /lib/systemd/system/snapd.system-shutdown.service.\n",
      "Selecting previously unselected package chromium-browser.\n",
      "(Reading database ... 123633 files and directories currently installed.)\n",
      "Preparing to unpack .../chromium-browser_1%3a85.0.4183.83-0ubuntu0.20.04.3_amd64.deb ...\n",
      "debconf: unable to initialize frontend: Dialog\n",
      "debconf: (No usable dialog-like program is installed, so the dialog based frontend cannot be used. at /usr/share/perl5/Debconf/FrontEnd/Dialog.pm line 76.)\n",
      "debconf: falling back to frontend: Readline\n",
      "=> Installing the chromium snap\n",
      "==> Checking connectivity with the snap store\n",
      "===> System doesn't have a working snapd, skipping\n",
      "Unpacking chromium-browser (1:85.0.4183.83-0ubuntu0.20.04.3) ...\n",
      "Selecting previously unselected package chromium-chromedriver.\n",
      "Preparing to unpack .../chromium-chromedriver_1%3a85.0.4183.83-0ubuntu0.20.04.3_amd64.deb ...\n",
      "Unpacking chromium-chromedriver (1:85.0.4183.83-0ubuntu0.20.04.3) ...\n",
      "Selecting previously unselected package python3-selenium.\n",
      "Preparing to unpack .../python3-selenium_4.0.0~a1+dfsg1-1.1_all.deb ...\n",
      "Unpacking python3-selenium (4.0.0~a1+dfsg1-1.1) ...\n",
      "Setting up python3-selenium (4.0.0~a1+dfsg1-1.1) ...\n",
      "Setting up chromium-browser (1:85.0.4183.83-0ubuntu0.20.04.3) ...\n",
      "Setting up chromium-chromedriver (1:85.0.4183.83-0ubuntu0.20.04.3) ...\n",
      "Processing triggers for mime-support (3.64ubuntu1) ...\n",
      "Processing triggers for hicolor-icon-theme (0.17-2) ...\n",
      "Processing triggers for libc-bin (2.31-0ubuntu9.9) ...\n",
      "Processing triggers for systemd (245.4-4ubuntu3.22) ...\n",
      "Processing triggers for man-db (2.9.1-1) ...\n",
      "Processing triggers for dbus (1.12.16-2ubuntu2.3) ...\n"
     ]
    }
   ],
   "source": [
    "# install selenium\n",
    "!sudo apt install -y python3-selenium\n",
    "!pip install selenium > /dev/null"
   ]
  },
  {
   "cell_type": "code",
   "execution_count": 4,
   "id": "pbJyBI3kMKVg",
   "metadata": {
    "colab": {
     "base_uri": "https://localhost:8080/"
    },
    "execution": {
     "iopub.execute_input": "2023-07-15T12:55:21.223121Z",
     "iopub.status.busy": "2023-07-15T12:55:21.222664Z",
     "iopub.status.idle": "2023-07-15T12:55:22.361750Z",
     "shell.execute_reply": "2023-07-15T12:55:22.360254Z",
     "shell.execute_reply.started": "2023-07-15T12:55:21.223078Z"
    },
    "id": "pbJyBI3kMKVg",
    "outputId": "a3447824-6df6-468a-e313-985137589ca6",
    "papermill": {
     "duration": 1.247594,
     "end_time": "2023-03-04T15:23:49.520153",
     "exception": false,
     "start_time": "2023-03-04T15:23:48.272559",
     "status": "completed"
    },
    "tags": []
   },
   "outputs": [
    {
     "name": "stdout",
     "output_type": "stream",
     "text": [
      "Google Chrome 114.0.5735.198 \n"
     ]
    }
   ],
   "source": [
    "# To check Google Chrome's version\n",
    "!google-chrome --version"
   ]
  },
  {
   "cell_type": "code",
   "execution_count": 5,
   "id": "0Xqt7ZWVMKVj",
   "metadata": {
    "colab": {
     "base_uri": "https://localhost:8080/"
    },
    "execution": {
     "iopub.execute_input": "2023-07-15T12:55:22.366052Z",
     "iopub.status.busy": "2023-07-15T12:55:22.364281Z",
     "iopub.status.idle": "2023-07-15T12:55:23.477907Z",
     "shell.execute_reply": "2023-07-15T12:55:23.476287Z",
     "shell.execute_reply.started": "2023-07-15T12:55:22.365982Z"
    },
    "id": "0Xqt7ZWVMKVj",
    "outputId": "fa95c7ce-58c8-4fe2-a8f5-bfac1201c528",
    "papermill": {
     "duration": 1.166835,
     "end_time": "2023-03-04T15:23:50.711714",
     "exception": false,
     "start_time": "2023-03-04T15:23:49.544879",
     "status": "completed"
    },
    "tags": []
   },
   "outputs": [
    {
     "name": "stdout",
     "output_type": "stream",
     "text": [
      "ChromeDriver 114.0.5735.90 (386bc09e8f4f2e025eddae123f36f6263096ae49-refs/branch-heads/5735@{#1052})\n"
     ]
    }
   ],
   "source": [
    "# To check Chrome Driver's version\n",
    "!chromedriver -v"
   ]
  },
  {
   "cell_type": "code",
   "execution_count": 5,
   "id": "Q9V1n0EiMKVn",
   "metadata": {
    "id": "Q9V1n0EiMKVn",
    "papermill": {
     "duration": 0.02289,
     "end_time": "2023-03-04T15:23:50.758368",
     "exception": false,
     "start_time": "2023-03-04T15:23:50.735478",
     "status": "completed"
    },
    "tags": []
   },
   "outputs": [],
   "source": []
  },
  {
   "cell_type": "markdown",
   "id": "XJ5IHsrtMKVr",
   "metadata": {
    "id": "XJ5IHsrtMKVr",
    "papermill": {
     "duration": 0.023212,
     "end_time": "2023-03-04T15:23:50.804895",
     "exception": false,
     "start_time": "2023-03-04T15:23:50.781683",
     "status": "completed"
    },
    "tags": []
   },
   "source": [
    "#### Importing necessary packages"
   ]
  },
  {
   "cell_type": "code",
   "execution_count": 6,
   "id": "qEgts72hMKVu",
   "metadata": {
    "execution": {
     "iopub.execute_input": "2023-07-15T12:55:23.481128Z",
     "iopub.status.busy": "2023-07-15T12:55:23.480658Z",
     "iopub.status.idle": "2023-07-15T12:55:23.489804Z",
     "shell.execute_reply": "2023-07-15T12:55:23.488130Z",
     "shell.execute_reply.started": "2023-07-15T12:55:23.481078Z"
    },
    "id": "qEgts72hMKVu",
    "papermill": {
     "duration": 0.065098,
     "end_time": "2023-03-04T15:23:50.893233",
     "exception": false,
     "start_time": "2023-03-04T15:23:50.828135",
     "status": "completed"
    },
    "tags": []
   },
   "outputs": [],
   "source": [
    "from selenium import webdriver\n",
    "from selenium.webdriver.common.by import By\n",
    "# from selenium.webdriver.chrome.service import Service\n",
    "# from webdriver_manager.chrome import ChromeDriverManager\n",
    "# from selenium.webdriver.chrome.options import Options\n",
    "\n",
    "chrome_options = webdriver.ChromeOptions()\n",
    "\n",
    "chrome_options.add_argument('--headless')\n",
    "chrome_options.add_argument('--no-sandbox')\n",
    "chrome_options.add_argument('--disable-dev-shm-usage')\n",
    "chrome_options.add_argument('--disable-gpu')\n",
    "# chrome_options.add_argument(\"--window-size=1920,1080\")"
   ]
  },
  {
   "cell_type": "code",
   "execution_count": 7,
   "id": "D_2ATNwHMKVy",
   "metadata": {
    "_cell_guid": "b1076dfc-b9ad-4769-8c92-a6c4dae69d19",
    "_uuid": "8f2839f25d086af736a60e9eeb907d3b93b6e0e5",
    "execution": {
     "iopub.execute_input": "2023-07-15T12:55:23.492592Z",
     "iopub.status.busy": "2023-07-15T12:55:23.491487Z",
     "iopub.status.idle": "2023-07-15T12:55:23.503256Z",
     "shell.execute_reply": "2023-07-15T12:55:23.502382Z",
     "shell.execute_reply.started": "2023-07-15T12:55:23.492546Z"
    },
    "id": "D_2ATNwHMKVy",
    "papermill": {
     "duration": 0.22968,
     "end_time": "2023-03-04T15:23:51.146590",
     "exception": false,
     "start_time": "2023-03-04T15:23:50.916910",
     "status": "completed"
    },
    "tags": []
   },
   "outputs": [],
   "source": [
    "import requests\n",
    "import json\n",
    "import pandas as pd\n",
    "import numpy as np\n",
    "import re\n",
    "\n",
    "from tqdm import tqdm\n",
    "from bs4 import BeautifulSoup"
   ]
  },
  {
   "cell_type": "markdown",
   "id": "V4QVMna3MKV1",
   "metadata": {
    "id": "V4QVMna3MKV1",
    "papermill": {
     "duration": 0.022884,
     "end_time": "2023-03-04T15:23:51.192800",
     "exception": false,
     "start_time": "2023-03-04T15:23:51.169916",
     "status": "completed"
    },
    "tags": []
   },
   "source": [
    "#### Parameters"
   ]
  },
  {
   "cell_type": "code",
   "execution_count": 11,
   "id": "chnXSgp_MKV4",
   "metadata": {
    "colab": {
     "base_uri": "https://localhost:8080/"
    },
    "execution": {
     "iopub.execute_input": "2023-07-15T12:55:23.505276Z",
     "iopub.status.busy": "2023-07-15T12:55:23.504830Z",
     "iopub.status.idle": "2023-07-15T12:55:23.518405Z",
     "shell.execute_reply": "2023-07-15T12:55:23.516603Z",
     "shell.execute_reply.started": "2023-07-15T12:55:23.505233Z"
    },
    "id": "chnXSgp_MKV4",
    "outputId": "78bd2876-2272-4ced-f6a4-302ce895009a",
    "papermill": {
     "duration": 0.035202,
     "end_time": "2023-03-04T15:23:51.251216",
     "exception": false,
     "start_time": "2023-03-04T15:23:51.216014",
     "status": "completed"
    },
    "tags": []
   },
   "outputs": [
    {
     "name": "stdout",
     "output_type": "stream",
     "text": [
      "Start:  0 \tEnd:  100\n"
     ]
    }
   ],
   "source": [
    "start = 0\n",
    "offset = 50\n",
    "no_of_urls_to_scrape = 100\n",
    "\n",
    "end = start + no_of_urls_to_scrape\n",
    "print(\"Start: \", start, \"\\tEnd: \", end)"
   ]
  },
  {
   "cell_type": "code",
   "execution_count": 12,
   "id": "LidmWCBjMKV7",
   "metadata": {
    "execution": {
     "iopub.execute_input": "2023-07-15T12:55:23.521873Z",
     "iopub.status.busy": "2023-07-15T12:55:23.521259Z",
     "iopub.status.idle": "2023-07-15T12:55:24.216206Z",
     "shell.execute_reply": "2023-07-15T12:55:24.214192Z",
     "shell.execute_reply.started": "2023-07-15T12:55:23.521823Z"
    },
    "id": "LidmWCBjMKV7",
    "papermill": {
     "duration": 0.864513,
     "end_time": "2023-03-04T15:23:52.139279",
     "exception": false,
     "start_time": "2023-03-04T15:23:51.274766",
     "status": "completed"
    },
    "tags": []
   },
   "outputs": [],
   "source": [
    "driver = webdriver.Chrome(options = chrome_options)"
   ]
  },
  {
   "cell_type": "markdown",
   "id": "YfwiGdKCMKV9",
   "metadata": {
    "id": "YfwiGdKCMKV9",
    "papermill": {
     "duration": 0.023889,
     "end_time": "2023-03-04T15:23:52.190874",
     "exception": false,
     "start_time": "2023-03-04T15:23:52.166985",
     "status": "completed"
    },
    "tags": []
   },
   "source": [
    "#### Read test dataset"
   ]
  },
  {
   "cell_type": "code",
   "execution_count": 13,
   "id": "nRJa9m93lxdE",
   "metadata": {
    "colab": {
     "base_uri": "https://localhost:8080/"
    },
    "execution": {
     "iopub.execute_input": "2023-07-15T12:55:24.230122Z",
     "iopub.status.busy": "2023-07-15T12:55:24.229377Z",
     "iopub.status.idle": "2023-07-15T12:55:24.682582Z",
     "shell.execute_reply": "2023-07-15T12:55:24.681401Z",
     "shell.execute_reply.started": "2023-07-15T12:55:24.230057Z"
    },
    "id": "nRJa9m93lxdE",
    "outputId": "b4db7921-bbbc-4d9b-8b80-76c0d19a7b68"
   },
   "outputs": [
    {
     "name": "stdout",
     "output_type": "stream",
     "text": [
      "['https://gujaratmitra.in/rahulgandhi-modi-surnamecase-highcourt-supremecourt-petition/', 'article_url']\n",
      "['https://gujaratmitra.in/ravichandran-ashwins-brilliant-performance-helps-india-beat-west-indies-in-first-test/', 'article_url']\n",
      "['https://gujaratmitra.in/chndrayaan-3-isro-india-scientist-launch-moon/', 'article_url']\n",
      "['https://gujaratmitra.in/samajwadiparty-azamkhan-jail-judicialcustody/', 'article_url']\n",
      "['https://gujaratmitra.in/devotees-wearing-short-clothes-are-no-longer-allowed-in-the-temple-of-dakor/', 'article_url']\n",
      "['https://gujaratmitra.in/balwant-patel-of-vihan-seva-sahakari-mandali-was-elected-as-the-chairman-of-surat-district-bank/', 'article_url']\n",
      "['https://gujaratmitra.in/ukai-dam-hathnur-dam-tapi-river-south-gujarat/', 'article_url']\n",
      "['https://gujaratmitra.in/balwant-patel-of-vihan-seva-sahakari-mandali-was-elected-as-the-chairman-of-surat-district-bank/', 'article_url']\n",
      "['https://gujaratmitra.in/thieves-police-surat-bihar-bunglow/', 'article_url']\n",
      "['https://gujaratmitra.in/marathicinema-death-police-deadbody-home-rabindramahajani/', 'article_url']\n",
      "['https://gujaratmitra.in/surat-police-death-hospital-accident-bike-brts/', 'article_url']\n",
      "['https://gujaratmitra.in/pm-uae-france-india/', 'article_url']\n",
      "['https://gujaratmitra.in/ukai-dam-hathnur-dam-tapi-river-south-gujarat/', 'article_url']\n",
      "['https://gujaratmitra.in/chndrayaan-3-isro-india-scientist-launch-moon/', 'article_url']\n",
      "['https://gujaratmitra.in/balwant-patel-of-vihan-seva-sahakari-mandali-was-elected-as-the-chairman-of-surat-district-bank/', 'article_url']\n",
      "['https://gujaratmitra.in/devotees-wearing-short-clothes-are-no-longer-allowed-in-the-temple-of-dakor/', 'article_url']\n",
      "['https://gujaratmitra.in/thieves-police-surat-bihar-bunglow/', 'article_url']\n",
      "['https://gujaratmitra.in/people-taking-advantage-of-the-polices-campaign-against-the-menace-of-interest-evasion/', 'article_url']\n",
      "['https://gujaratmitra.in/samajwadiparty-azamkhan-jail-judicialcustody/', 'article_url']\n",
      "['https://gujaratmitra.in/a-farmer-became-a-millionaire-in-30-days-by-selling-tomatoes/', 'article_url']\n",
      "['https://gujaratmitra.in/marathicinema-death-police-deadbody-home-rabindramahajani/', 'article_url']\n",
      "['https://gujaratmitra.in/surat-police-death-hospital-accident-bike-brts/', 'article_url']\n",
      "['https://gujaratmitra.in/bayofbengal-gujarat-monsoon-rain/', 'article_url']\n",
      "['https://gujaratmitra.in/pm-uae-france-india/', 'article_url']\n",
      "['https://gujaratmitra.in/as-the-prices-increased-people-started-buying-pulses-instead-of-vegetables/', 'article_url']\n",
      "['https://gujaratmitra.in/vudas-drainage-scam-in-pm-housing-scheme/', 'article_url']\n",
      "['https://gujaratmitra.in/surat-police-took-out-a-procession-of-3-taporis-for-entering-peoples-houses-with-swords-to-loot/', 'article_url']\n",
      "['https://gujaratmitra.in/khanpurs-vavkuwa-aldari-mata-falls-banned-for-tourists/', 'article_url']\n",
      "['https://gujaratmitra.in/sewage-water-enters-houses-in-east-area-of-anand/', 'article_url']\n",
      "['https://gujaratmitra.in/the-chancellor-laid-down-the-rules-to-be-permanent/', 'article_url']\n",
      "['https://gujaratmitra.in/armed-robbers-who-attacked-kaprada-petrol-pump-looted-lakhs-of-rupees/', 'article_url']\n",
      "['https://gujaratmitra.in/surat-child-death-deadbody-pm-hospital-police-disease/', 'article_url']\n",
      "['https://gujaratmitra.in/mahudha-kanya-vidyalaya-timings-to-noon/', 'article_url']\n",
      "['https://gujaratmitra.in/spain-faith-threat-money-money-saving-house-god/', 'article_url']\n",
      "['https://gujaratmitra.in/ravichandran-ashwins-brilliant-performance-helps-india-beat-west-indies-in-first-test/', 'article_url']\n",
      "['https://gujaratmitra.in/the-governments-poor-planning-is-responsible-for-the-disastrous-floods-in-new-delhi/', 'article_url']\n",
      "['https://gujaratmitra.in/tomatoes-and-tomatoes/', 'article_url']\n",
      "['https://gujaratmitra.in/modeling-surat-textile-strike-paper-china/', 'article_url']\n",
      "['https://gujaratmitra.in/the-melodious-journey-with-the-dialogues-of-the-film-guide/', 'article_url']\n",
      "['https://gujaratmitra.in/breadliner-puff-fungus-video-notice/', 'article_url']\n",
      "['https://gujaratmitra.in/it-is-necessary-to-stop-conversions/', 'article_url']\n",
      "['https://gujaratmitra.in/how-long-will-the-congress-come-under-attack/', 'article_url']\n",
      "['https://gujaratmitra.in/page/2/', 'article_url']\n",
      "['https://gujaratmitra.in/page/3/', 'article_url']\n",
      "['https://gujaratmitra.in/page/4/', 'article_url']\n",
      "['https://gujaratmitra.in/page/5/', 'article_url']\n",
      "['https://gujaratmitra.in/page/2/', 'article_url']\n",
      "['https://gujaratmitra.in/page/1446/', 'article_url']\n",
      "['https://gujaratmitra.in/ukai-dam-hathnur-dam-tapi-river-south-gujarat/', 'article_url']\n",
      "['https://gujaratmitra.in/chndrayaan-3-isro-india-scientist-launch-moon/', 'article_url']\n",
      "['https://gujaratmitra.in/balwant-patel-of-vihan-seva-sahakari-mandali-was-elected-as-the-chairman-of-surat-district-bank/', 'article_url']\n",
      "['https://gujaratmitra.in/devotees-wearing-short-clothes-are-no-longer-allowed-in-the-temple-of-dakor/', 'article_url']\n",
      "['https://gujaratmitra.in/thieves-police-surat-bihar-bunglow/', 'article_url']\n",
      "['https://gujaratmitra.in/people-taking-advantage-of-the-polices-campaign-against-the-menace-of-interest-evasion/', 'article_url']\n",
      "['https://gujaratmitra.in/samajwadiparty-azamkhan-jail-judicialcustody/', 'article_url']\n",
      "['https://gujaratmitra.in/a-farmer-became-a-millionaire-in-30-days-by-selling-tomatoes/', 'article_url']\n",
      "['https://gujaratmitra.in/marathicinema-death-police-deadbody-home-rabindramahajani/', 'article_url']\n",
      "['https://gujaratmitra.in/surat-police-death-hospital-accident-bike-brts/', 'article_url']\n",
      "['https://gujaratmitra.in/bayofbengal-gujarat-monsoon-rain/', 'article_url']\n",
      "['https://gujaratmitra.in/pm-uae-france-india/', 'article_url']\n",
      "['https://gujaratmitra.in/as-the-prices-increased-people-started-buying-pulses-instead-of-vegetables/', 'article_url']\n",
      "['https://gujaratmitra.in/vudas-drainage-scam-in-pm-housing-scheme/', 'article_url']\n",
      "['https://gujaratmitra.in/surat-police-took-out-a-procession-of-3-taporis-for-entering-peoples-houses-with-swords-to-loot/', 'article_url']\n",
      "['https://gujaratmitra.in/khanpurs-vavkuwa-aldari-mata-falls-banned-for-tourists/', 'article_url']\n",
      "['https://gujaratmitra.in/sewage-water-enters-houses-in-east-area-of-anand/', 'article_url']\n",
      "['https://gujaratmitra.in/the-chancellor-laid-down-the-rules-to-be-permanent/', 'article_url']\n",
      "['https://gujaratmitra.in/armed-robbers-who-attacked-kaprada-petrol-pump-looted-lakhs-of-rupees/', 'article_url']\n",
      "['https://gujaratmitra.in/surat-child-death-deadbody-pm-hospital-police-disease/', 'article_url']\n",
      "['https://gujaratmitra.in/mahudha-kanya-vidyalaya-timings-to-noon/', 'article_url']\n",
      "['https://gujaratmitra.in/spain-faith-threat-money-money-saving-house-god/', 'article_url']\n",
      "['https://gujaratmitra.in/ravichandran-ashwins-brilliant-performance-helps-india-beat-west-indies-in-first-test/', 'article_url']\n",
      "['https://gujaratmitra.in/the-governments-poor-planning-is-responsible-for-the-disastrous-floods-in-new-delhi/', 'article_url']\n",
      "['https://gujaratmitra.in/tomatoes-and-tomatoes/', 'article_url']\n",
      "['https://gujaratmitra.in/modeling-surat-textile-strike-paper-china/', 'article_url']\n",
      "['https://gujaratmitra.in/the-melodious-journey-with-the-dialogues-of-the-film-guide/', 'article_url']\n",
      "['https://gujaratmitra.in/breadliner-puff-fungus-video-notice/', 'article_url']\n",
      "['https://gujaratmitra.in/it-is-necessary-to-stop-conversions/', 'article_url']\n",
      "['https://gujaratmitra.in/how-long-will-the-congress-come-under-attack/', 'article_url']\n",
      "['https://gujaratmitra.in/latest-news/', 'article_url']\n",
      "['https://gujaratmitra.in/surats-thug-doctor-turned-monk-to-escape-from-the-police-called-his-wife-to-a-hotel-and-got-caught/', 'article_url']\n",
      "['https://gujaratmitra.in/women-are-the-idols-of-renunciation-and-meditation/', 'article_url']\n",
      "['https://gujaratmitra.in/isros-heavy-lift-launcher-ready-for-chandrayaan-3-mission-at-surat-larsen-toubro/', 'article_url']\n",
      "['https://gujaratmitra.in/siddhi-vinayak-corporation-is-the-new-identity-of-chhaganlal-narottamdas-generation-which-has-been-trusted-for-95-years/', 'article_url']\n",
      "['https://gujaratmitra.in/launch-of-chandrayaan-3/', 'article_url']\n",
      "['https://gujaratmitra.in/an-83-year-old-man-from-katargam-died-of-leg-infection/', 'article_url']\n",
      "['https://gujaratmitra.in/physio-student-studying-in-surat-civil-attempted-suicide-by-tying-a-rope-around-her-neck-and-posting-a-photo-on-social-media/', 'article_url']\n",
      "['https://gujaratmitra.in/bayofbengal-gujarat-monsoon-rain/', 'article_url']\n",
      "['https://gujaratmitra.in/surat-child-death-deadbody-pm-hospital-police-disease/', 'article_url']\n",
      "['https://gujaratmitra.in/a-woman-died-in-a-fire-in-citylights-flat-due-to-gas-leakage-while-making-prasadi-for-worship/', 'article_url']\n",
      "['https://gujaratmitra.in/surat-newcivilhospital-emergency-pregnantlady-delivery-autorickshaw/', 'article_url']\n",
      "['https://gujaratmitra.in/in-the-dilapidated-school-of-1856-in-bharuch-students-are-forced-to-study-under-a-tree/', 'article_url']\n",
      "['https://gujaratmitra.in/dipa-karmakar-returns-from-gymnastics-selection-trials/', 'article_url']\n",
      "['https://gujaratmitra.in/breadliner-puff-fungus-video-notice/', 'article_url']\n",
      "['https://gujaratmitra.in/gofirst-airlines-akasa-ceo-vinaydube-internationalflights/', 'article_url']\n",
      "['https://gujaratmitra.in/floods-in-delhi-rajghat-flooded-red-fort-also-closed/', 'article_url']\n",
      "['https://gujaratmitra.in/mahudha-kanya-vidyalaya-timings-to-noon/', 'article_url']\n",
      "['https://gujaratmitra.in/ravichandran-ashwins-brilliant-performance-helps-india-beat-west-indies-in-first-test/', 'article_url']\n",
      "['https://gujaratmitra.in/bharuch-mp-mansukh-vasawa-came-to-know-that-there-were-potholes-on-the-road-while-traveling-in-the-st-bus/', 'article_url']\n",
      "['https://gujaratmitra.in/surat-police-death-hospital-accident-bike-brts/', 'article_url']\n",
      "['https://gujaratmitra.in/as-the-prices-increased-people-started-buying-pulses-instead-of-vegetables/', 'article_url']\n",
      "['https://gujaratmitra.in/pm-uae-france-india/', 'article_url']\n",
      "['https://gujaratmitra.in/pmmodi-frnace-emmmanuelmacro-india-friendship-indian-army-bastilleday/', 'article_url']\n",
      "['https://gujaratmitra.in/india-chandrayaan-3-sandart-sudarsanpattnaik-viral/', 'article_url']\n",
      "['https://gujaratmitra.in/mahima-of-rivers/', 'article_url']\n",
      "['https://gujaratmitra.in/balwant-patel-of-vihan-seva-sahakari-mandali-was-elected-as-the-chairman-of-surat-district-bank/', 'article_url']\n",
      "['https://gujaratmitra.in/india-chndrayaan-3-launch-tallest-om-innaugration-gujarat-mehsana/', 'article_url']\n",
      "['https://gujaratmitra.in/a-farmer-became-a-millionaire-in-30-days-by-selling-tomatoes/', 'article_url']\n",
      "['https://gujaratmitra.in/vudas-drainage-scam-in-pm-housing-scheme/', 'article_url']\n",
      "['https://gujaratmitra.in/spain-faith-threat-money-money-saving-house-god/', 'article_url']\n"
     ]
    }
   ],
   "source": [
    "url=\"https://gujaratmitra.in/\"\n",
    "main_list=[]\n",
    "response=requests.get(url).content\n",
    "soup=BeautifulSoup(response,\"html.parser\")\n",
    "main=soup.find(\"div\",attrs={'id':'home-main-wrap'})\n",
    "anchors=main.find_all('a')\n",
    "\n",
    "for anchor in anchors:\n",
    "    sublist=[]\n",
    "    href=anchor.get(\"href\")\n",
    "    if(href.startswith(\"https://gujaratmitra.in/\")):\n",
    "        sublist.append(href)\n",
    "        sublist.append(\"article_url\")\n",
    "        main_list.append(sublist)\n",
    "for link in main_list:\n",
    "  print(link)\n"
   ]
  },
  {
   "cell_type": "code",
   "execution_count": 14,
   "id": "ld0SicucwTKG",
   "metadata": {
    "execution": {
     "iopub.execute_input": "2023-07-15T12:55:24.684384Z",
     "iopub.status.busy": "2023-07-15T12:55:24.684037Z",
     "iopub.status.idle": "2023-07-15T12:55:24.696198Z",
     "shell.execute_reply": "2023-07-15T12:55:24.694736Z",
     "shell.execute_reply.started": "2023-07-15T12:55:24.684353Z"
    },
    "id": "ld0SicucwTKG"
   },
   "outputs": [],
   "source": [
    "df=pd.DataFrame(main_list,columns=[\"url\",\"category\"])\n",
    "df.to_csv(\"gujaratMitra.csv\")"
   ]
  },
  {
   "cell_type": "code",
   "execution_count": 15,
   "id": "nYLscEYYxF7h",
   "metadata": {
    "colab": {
     "base_uri": "https://localhost:8080/",
     "height": 363
    },
    "execution": {
     "iopub.execute_input": "2023-07-15T12:55:24.699107Z",
     "iopub.status.busy": "2023-07-15T12:55:24.698279Z",
     "iopub.status.idle": "2023-07-15T12:55:24.717353Z",
     "shell.execute_reply": "2023-07-15T12:55:24.715671Z",
     "shell.execute_reply.started": "2023-07-15T12:55:24.699064Z"
    },
    "id": "nYLscEYYxF7h",
    "outputId": "de476e46-af97-4b45-ccf9-29d2444a569b"
   },
   "outputs": [
    {
     "data": {
      "text/html": [
       "\n",
       "\n",
       "  <div id=\"df-65909503-aba3-430a-94aa-da65becab6c0\">\n",
       "    <div class=\"colab-df-container\">\n",
       "      <div>\n",
       "<style scoped>\n",
       "    .dataframe tbody tr th:only-of-type {\n",
       "        vertical-align: middle;\n",
       "    }\n",
       "\n",
       "    .dataframe tbody tr th {\n",
       "        vertical-align: top;\n",
       "    }\n",
       "\n",
       "    .dataframe thead th {\n",
       "        text-align: right;\n",
       "    }\n",
       "</style>\n",
       "<table border=\"1\" class=\"dataframe\">\n",
       "  <thead>\n",
       "    <tr style=\"text-align: right;\">\n",
       "      <th></th>\n",
       "      <th>url</th>\n",
       "      <th>category</th>\n",
       "    </tr>\n",
       "  </thead>\n",
       "  <tbody>\n",
       "    <tr>\n",
       "      <th>0</th>\n",
       "      <td>https://gujaratmitra.in/rahulgandhi-modi-surna...</td>\n",
       "      <td>article_url</td>\n",
       "    </tr>\n",
       "    <tr>\n",
       "      <th>1</th>\n",
       "      <td>https://gujaratmitra.in/ravichandran-ashwins-b...</td>\n",
       "      <td>article_url</td>\n",
       "    </tr>\n",
       "    <tr>\n",
       "      <th>2</th>\n",
       "      <td>https://gujaratmitra.in/chndrayaan-3-isro-indi...</td>\n",
       "      <td>article_url</td>\n",
       "    </tr>\n",
       "    <tr>\n",
       "      <th>3</th>\n",
       "      <td>https://gujaratmitra.in/samajwadiparty-azamkha...</td>\n",
       "      <td>article_url</td>\n",
       "    </tr>\n",
       "    <tr>\n",
       "      <th>4</th>\n",
       "      <td>https://gujaratmitra.in/devotees-wearing-short...</td>\n",
       "      <td>article_url</td>\n",
       "    </tr>\n",
       "    <tr>\n",
       "      <th>5</th>\n",
       "      <td>https://gujaratmitra.in/balwant-patel-of-vihan...</td>\n",
       "      <td>article_url</td>\n",
       "    </tr>\n",
       "    <tr>\n",
       "      <th>6</th>\n",
       "      <td>https://gujaratmitra.in/ukai-dam-hathnur-dam-t...</td>\n",
       "      <td>article_url</td>\n",
       "    </tr>\n",
       "    <tr>\n",
       "      <th>7</th>\n",
       "      <td>https://gujaratmitra.in/balwant-patel-of-vihan...</td>\n",
       "      <td>article_url</td>\n",
       "    </tr>\n",
       "    <tr>\n",
       "      <th>8</th>\n",
       "      <td>https://gujaratmitra.in/thieves-police-surat-b...</td>\n",
       "      <td>article_url</td>\n",
       "    </tr>\n",
       "    <tr>\n",
       "      <th>9</th>\n",
       "      <td>https://gujaratmitra.in/marathicinema-death-po...</td>\n",
       "      <td>article_url</td>\n",
       "    </tr>\n",
       "  </tbody>\n",
       "</table>\n",
       "</div>\n",
       "      <button class=\"colab-df-convert\" onclick=\"convertToInteractive('df-65909503-aba3-430a-94aa-da65becab6c0')\"\n",
       "              title=\"Convert this dataframe to an interactive table.\"\n",
       "              style=\"display:none;\">\n",
       "\n",
       "  <svg xmlns=\"http://www.w3.org/2000/svg\" height=\"24px\"viewBox=\"0 0 24 24\"\n",
       "       width=\"24px\">\n",
       "    <path d=\"M0 0h24v24H0V0z\" fill=\"none\"/>\n",
       "    <path d=\"M18.56 5.44l.94 2.06.94-2.06 2.06-.94-2.06-.94-.94-2.06-.94 2.06-2.06.94zm-11 1L8.5 8.5l.94-2.06 2.06-.94-2.06-.94L8.5 2.5l-.94 2.06-2.06.94zm10 10l.94 2.06.94-2.06 2.06-.94-2.06-.94-.94-2.06-.94 2.06-2.06.94z\"/><path d=\"M17.41 7.96l-1.37-1.37c-.4-.4-.92-.59-1.43-.59-.52 0-1.04.2-1.43.59L10.3 9.45l-7.72 7.72c-.78.78-.78 2.05 0 2.83L4 21.41c.39.39.9.59 1.41.59.51 0 1.02-.2 1.41-.59l7.78-7.78 2.81-2.81c.8-.78.8-2.07 0-2.86zM5.41 20L4 18.59l7.72-7.72 1.47 1.35L5.41 20z\"/>\n",
       "  </svg>\n",
       "      </button>\n",
       "\n",
       "\n",
       "\n",
       "    <div id=\"df-f867acd9-fd64-4f60-807d-17bb6779fe5a\">\n",
       "      <button class=\"colab-df-quickchart\" onclick=\"quickchart('df-f867acd9-fd64-4f60-807d-17bb6779fe5a')\"\n",
       "              title=\"Suggest charts.\"\n",
       "              style=\"display:none;\">\n",
       "\n",
       "<svg xmlns=\"http://www.w3.org/2000/svg\" height=\"24px\"viewBox=\"0 0 24 24\"\n",
       "     width=\"24px\">\n",
       "    <g>\n",
       "        <path d=\"M19 3H5c-1.1 0-2 .9-2 2v14c0 1.1.9 2 2 2h14c1.1 0 2-.9 2-2V5c0-1.1-.9-2-2-2zM9 17H7v-7h2v7zm4 0h-2V7h2v10zm4 0h-2v-4h2v4z\"/>\n",
       "    </g>\n",
       "</svg>\n",
       "      </button>\n",
       "    </div>\n",
       "\n",
       "<style>\n",
       "  .colab-df-quickchart {\n",
       "    background-color: #E8F0FE;\n",
       "    border: none;\n",
       "    border-radius: 50%;\n",
       "    cursor: pointer;\n",
       "    display: none;\n",
       "    fill: #1967D2;\n",
       "    height: 32px;\n",
       "    padding: 0 0 0 0;\n",
       "    width: 32px;\n",
       "  }\n",
       "\n",
       "  .colab-df-quickchart:hover {\n",
       "    background-color: #E2EBFA;\n",
       "    box-shadow: 0px 1px 2px rgba(60, 64, 67, 0.3), 0px 1px 3px 1px rgba(60, 64, 67, 0.15);\n",
       "    fill: #174EA6;\n",
       "  }\n",
       "\n",
       "  [theme=dark] .colab-df-quickchart {\n",
       "    background-color: #3B4455;\n",
       "    fill: #D2E3FC;\n",
       "  }\n",
       "\n",
       "  [theme=dark] .colab-df-quickchart:hover {\n",
       "    background-color: #434B5C;\n",
       "    box-shadow: 0px 1px 3px 1px rgba(0, 0, 0, 0.15);\n",
       "    filter: drop-shadow(0px 1px 2px rgba(0, 0, 0, 0.3));\n",
       "    fill: #FFFFFF;\n",
       "  }\n",
       "</style>\n",
       "\n",
       "    <script>\n",
       "      async function quickchart(key) {\n",
       "        const containerElement = document.querySelector('#' + key);\n",
       "        const charts = await google.colab.kernel.invokeFunction(\n",
       "            'suggestCharts', [key], {});\n",
       "      }\n",
       "    </script>\n",
       "\n",
       "      <script>\n",
       "\n",
       "function displayQuickchartButton(domScope) {\n",
       "  let quickchartButtonEl =\n",
       "    domScope.querySelector('#df-f867acd9-fd64-4f60-807d-17bb6779fe5a button.colab-df-quickchart');\n",
       "  quickchartButtonEl.style.display =\n",
       "    google.colab.kernel.accessAllowed ? 'block' : 'none';\n",
       "}\n",
       "\n",
       "        displayQuickchartButton(document);\n",
       "      </script>\n",
       "      <style>\n",
       "    .colab-df-container {\n",
       "      display:flex;\n",
       "      flex-wrap:wrap;\n",
       "      gap: 12px;\n",
       "    }\n",
       "\n",
       "    .colab-df-convert {\n",
       "      background-color: #E8F0FE;\n",
       "      border: none;\n",
       "      border-radius: 50%;\n",
       "      cursor: pointer;\n",
       "      display: none;\n",
       "      fill: #1967D2;\n",
       "      height: 32px;\n",
       "      padding: 0 0 0 0;\n",
       "      width: 32px;\n",
       "    }\n",
       "\n",
       "    .colab-df-convert:hover {\n",
       "      background-color: #E2EBFA;\n",
       "      box-shadow: 0px 1px 2px rgba(60, 64, 67, 0.3), 0px 1px 3px 1px rgba(60, 64, 67, 0.15);\n",
       "      fill: #174EA6;\n",
       "    }\n",
       "\n",
       "    [theme=dark] .colab-df-convert {\n",
       "      background-color: #3B4455;\n",
       "      fill: #D2E3FC;\n",
       "    }\n",
       "\n",
       "    [theme=dark] .colab-df-convert:hover {\n",
       "      background-color: #434B5C;\n",
       "      box-shadow: 0px 1px 3px 1px rgba(0, 0, 0, 0.15);\n",
       "      filter: drop-shadow(0px 1px 2px rgba(0, 0, 0, 0.3));\n",
       "      fill: #FFFFFF;\n",
       "    }\n",
       "  </style>\n",
       "\n",
       "      <script>\n",
       "        const buttonEl =\n",
       "          document.querySelector('#df-65909503-aba3-430a-94aa-da65becab6c0 button.colab-df-convert');\n",
       "        buttonEl.style.display =\n",
       "          google.colab.kernel.accessAllowed ? 'block' : 'none';\n",
       "\n",
       "        async function convertToInteractive(key) {\n",
       "          const element = document.querySelector('#df-65909503-aba3-430a-94aa-da65becab6c0');\n",
       "          const dataTable =\n",
       "            await google.colab.kernel.invokeFunction('convertToInteractive',\n",
       "                                                     [key], {});\n",
       "          if (!dataTable) return;\n",
       "\n",
       "          const docLinkHtml = 'Like what you see? Visit the ' +\n",
       "            '<a target=\"_blank\" href=https://colab.research.google.com/notebooks/data_table.ipynb>data table notebook</a>'\n",
       "            + ' to learn more about interactive tables.';\n",
       "          element.innerHTML = '';\n",
       "          dataTable['output_type'] = 'display_data';\n",
       "          await google.colab.output.renderOutput(dataTable, element);\n",
       "          const docLink = document.createElement('div');\n",
       "          docLink.innerHTML = docLinkHtml;\n",
       "          element.appendChild(docLink);\n",
       "        }\n",
       "      </script>\n",
       "    </div>\n",
       "  </div>\n"
      ],
      "text/plain": [
       "                                                 url     category\n",
       "0  https://gujaratmitra.in/rahulgandhi-modi-surna...  article_url\n",
       "1  https://gujaratmitra.in/ravichandran-ashwins-b...  article_url\n",
       "2  https://gujaratmitra.in/chndrayaan-3-isro-indi...  article_url\n",
       "3  https://gujaratmitra.in/samajwadiparty-azamkha...  article_url\n",
       "4  https://gujaratmitra.in/devotees-wearing-short...  article_url\n",
       "5  https://gujaratmitra.in/balwant-patel-of-vihan...  article_url\n",
       "6  https://gujaratmitra.in/ukai-dam-hathnur-dam-t...  article_url\n",
       "7  https://gujaratmitra.in/balwant-patel-of-vihan...  article_url\n",
       "8  https://gujaratmitra.in/thieves-police-surat-b...  article_url\n",
       "9  https://gujaratmitra.in/marathicinema-death-po...  article_url"
      ]
     },
     "execution_count": 15,
     "metadata": {},
     "output_type": "execute_result"
    }
   ],
   "source": [
    "df.head(10)"
   ]
  },
  {
   "cell_type": "code",
   "execution_count": 18,
   "id": "hXY6vuvWMKV-",
   "metadata": {
    "colab": {
     "base_uri": "https://localhost:8080/"
    },
    "execution": {
     "iopub.execute_input": "2023-07-15T12:55:24.720261Z",
     "iopub.status.busy": "2023-07-15T12:55:24.719861Z",
     "iopub.status.idle": "2023-07-15T12:55:24.738221Z",
     "shell.execute_reply": "2023-07-15T12:55:24.736936Z",
     "shell.execute_reply.started": "2023-07-15T12:55:24.720227Z"
    },
    "id": "hXY6vuvWMKV-",
    "outputId": "4e2356cf-fe12-4ec5-8bd9-c5070409f73d",
    "papermill": {
     "duration": 0.069528,
     "end_time": "2023-03-04T15:23:52.283745",
     "exception": false,
     "start_time": "2023-03-04T15:23:52.214217",
     "status": "completed"
    },
    "tags": []
   },
   "outputs": [
    {
     "name": "stdout",
     "output_type": "stream",
     "text": [
      "Output Data:\n",
      "(100, 3)\n",
      "   Unnamed: 0                                                url     category\n",
      "0           0  https://gujaratmitra.in/rahulgandhi-modi-surna...  article_url\n",
      "1           1  https://gujaratmitra.in/ravichandran-ashwins-b...  article_url\n",
      "2           2  https://gujaratmitra.in/chndrayaan-3-isro-indi...  article_url\n",
      "3           3  https://gujaratmitra.in/samajwadiparty-azamkha...  article_url\n",
      "4           4  https://gujaratmitra.in/devotees-wearing-short...  article_url\n"
     ]
    }
   ],
   "source": [
    "samples_count = 0\n",
    "out_df = None\n",
    "for chunk in pd.read_csv('/content/gujaratMitra.csv', chunksize = no_of_urls_to_scrape):\n",
    "    if samples_count == start:\n",
    "        out_df = chunk.copy()\n",
    "        break\n",
    "    samples_count += int(chunk.shape[0])\n",
    "\n",
    "\n",
    "if out_df is not None:\n",
    "    print(\"Output Data:\")\n",
    "    print(out_df.shape)\n",
    "    print(out_df.head())\n",
    "else:\n",
    "    exit('Something went wrong with reading the input data...')"
   ]
  },
  {
   "cell_type": "code",
   "execution_count": 19,
   "id": "tCabb6gTMKV_",
   "metadata": {
    "colab": {
     "base_uri": "https://localhost:8080/"
    },
    "execution": {
     "iopub.execute_input": "2023-07-15T12:55:24.740495Z",
     "iopub.status.busy": "2023-07-15T12:55:24.740061Z",
     "iopub.status.idle": "2023-07-15T12:55:24.747414Z",
     "shell.execute_reply": "2023-07-15T12:55:24.745951Z",
     "shell.execute_reply.started": "2023-07-15T12:55:24.740464Z"
    },
    "id": "tCabb6gTMKV_",
    "outputId": "2999be90-ffa8-434d-c23d-dd3433ddb538",
    "papermill": {
     "duration": 0.059929,
     "end_time": "2023-03-04T15:23:52.367689",
     "exception": false,
     "start_time": "2023-03-04T15:23:52.307760",
     "status": "completed"
    },
    "tags": []
   },
   "outputs": [
    {
     "name": "stdout",
     "output_type": "stream",
     "text": [
      "https://gujaratmitra.in/rahulgandhi-modi-surnamecase-highcourt-supremecourt-petition/\n"
     ]
    }
   ],
   "source": [
    "url = out_df['url'][0]\n",
    "print(url)"
   ]
  },
  {
   "cell_type": "markdown",
   "id": "HP0aHuXAMKWC",
   "metadata": {
    "id": "HP0aHuXAMKWC",
    "papermill": {
     "duration": 0.036825,
     "end_time": "2023-03-04T15:23:52.441009",
     "exception": false,
     "start_time": "2023-03-04T15:23:52.404184",
     "status": "completed"
    },
    "tags": []
   },
   "source": [
    "#### Scrape news content"
   ]
  },
  {
   "cell_type": "code",
   "execution_count": 20,
   "id": "aA0vgsX1MKWD",
   "metadata": {
    "execution": {
     "iopub.execute_input": "2023-07-15T12:55:24.750051Z",
     "iopub.status.busy": "2023-07-15T12:55:24.749476Z",
     "iopub.status.idle": "2023-07-15T12:55:24.760969Z",
     "shell.execute_reply": "2023-07-15T12:55:24.759384Z",
     "shell.execute_reply.started": "2023-07-15T12:55:24.750004Z"
    },
    "id": "aA0vgsX1MKWD",
    "papermill": {
     "duration": 0.052999,
     "end_time": "2023-03-04T15:23:52.526413",
     "exception": false,
     "start_time": "2023-03-04T15:23:52.473414",
     "status": "completed"
    },
    "tags": []
   },
   "outputs": [],
   "source": [
    "def find_tag_sequence(element):\n",
    "    parent_elements = []\n",
    "    while element is not None:\n",
    "        p_name = getattr(element, 'name', None)\n",
    "        parent_elements.append(p_name)\n",
    "        element = element.parent\n",
    "\n",
    "        if element.parent is None:\n",
    "            break\n",
    "    return '>'.join(parent_elements[::-1])"
   ]
  },
  {
   "cell_type": "code",
   "execution_count": 21,
   "id": "myBPtZBfMKWE",
   "metadata": {
    "execution": {
     "iopub.execute_input": "2023-07-15T12:55:24.763041Z",
     "iopub.status.busy": "2023-07-15T12:55:24.762535Z",
     "iopub.status.idle": "2023-07-15T12:55:24.775887Z",
     "shell.execute_reply": "2023-07-15T12:55:24.774586Z",
     "shell.execute_reply.started": "2023-07-15T12:55:24.762995Z"
    },
    "id": "myBPtZBfMKWE",
    "papermill": {
     "duration": 0.048327,
     "end_time": "2023-03-04T15:23:52.599939",
     "exception": false,
     "start_time": "2023-03-04T15:23:52.551612",
     "status": "completed"
    },
    "tags": []
   },
   "outputs": [],
   "source": [
    "def find_neighbours_and_parent(element):\n",
    "    parent_tag = None\n",
    "    prev_tag = None\n",
    "    next_tag = None\n",
    "    child_tags = None\n",
    "\n",
    "    if element is not None:\n",
    "        #### Next sibling\n",
    "        next_sib = element.find_next_sibling()\n",
    "        if next_sib is not None:\n",
    "            next_tag = getattr(next_sib, 'name', None)\n",
    "\n",
    "        #### Previous sibling\n",
    "        previous_sib = element.find_previous_sibling()\n",
    "        if previous_sib is not None:\n",
    "            prev_tag = getattr(previous_sib, 'name', None)\n",
    "\n",
    "        #### Element parent\n",
    "        if element.parent is not None:\n",
    "            parent = element.parent\n",
    "            parent_tag = getattr(parent, 'name', None)\n",
    "\n",
    "        #### Children\n",
    "        childs = element.find_all(recursive=False)\n",
    "        if childs is not None:\n",
    "            child_tag_names = []\n",
    "            for child in childs:\n",
    "                child_tag_names.append(getattr(child, 'name', None))\n",
    "            child_tags = list(set(child_tag_names.copy()))\n",
    "\n",
    "    return {'next_sibling': next_tag, 'parent_node': parent_tag, 'prev_sibling': prev_tag, 'child_nodes': child_tags}"
   ]
  },
  {
   "cell_type": "code",
   "execution_count": 22,
   "id": "KIiGC85oMKWF",
   "metadata": {
    "execution": {
     "iopub.execute_input": "2023-07-15T12:55:24.778059Z",
     "iopub.status.busy": "2023-07-15T12:55:24.777650Z",
     "iopub.status.idle": "2023-07-15T12:55:24.794840Z",
     "shell.execute_reply": "2023-07-15T12:55:24.793449Z",
     "shell.execute_reply.started": "2023-07-15T12:55:24.778028Z"
    },
    "id": "KIiGC85oMKWF",
    "papermill": {
     "duration": 0.045545,
     "end_time": "2023-03-04T15:23:52.676232",
     "exception": false,
     "start_time": "2023-03-04T15:23:52.630687",
     "status": "completed"
    },
    "tags": []
   },
   "outputs": [],
   "source": [
    "def extract_visual_features(web_element):\n",
    "    features = {\n",
    "        'x': np.nan,\n",
    "        'y': np.nan,\n",
    "        'height': np.nan,\n",
    "        'width': np.nan,\n",
    "        'is_visible': np.nan,\n",
    "        'aria_role': np.nan,\n",
    "        'bgcolor': np.nan,\n",
    "        'font_color': np.nan,\n",
    "        'font_size': np.nan,\n",
    "        'font_style': np.nan,\n",
    "        'font_family': np.nan,\n",
    "    }\n",
    "\n",
    "\n",
    "    try:\n",
    "        loc = web_element.rect\n",
    "        features['x'] = loc.get('x', np.nan)\n",
    "        features['y'] = loc.get('y', np.nan)\n",
    "        features['height'] = loc.get('height', np.nan)\n",
    "        features['width'] = loc.get('width', np.nan)\n",
    "    except:\n",
    "        pass\n",
    "\n",
    "    try:\n",
    "        is_display = web_element.is_displayed()\n",
    "        features['is_visible'] = is_display\n",
    "    except:\n",
    "        pass\n",
    "\n",
    "    try:\n",
    "        aria_role = web_element.aria_role\n",
    "        features['aria_role'] = aria_role\n",
    "    except:\n",
    "        pass\n",
    "\n",
    "    try:\n",
    "        bgcolor = web_element.value_of_css_property('background-color')\n",
    "        bgcolor = [int(val.strip()) for val in bgcolor.replace('rgba(','').replace(')','').split(',') if val.strip()!='']\n",
    "        features['bgcolor'] = bgcolor\n",
    "    except:\n",
    "        pass\n",
    "\n",
    "    try:\n",
    "        font_size = web_element.value_of_css_property('font-size')\n",
    "        features['font_size'] = font_size\n",
    "    except:\n",
    "        pass\n",
    "\n",
    "    try:\n",
    "        font_style = web_element.value_of_css_property('font-style')\n",
    "        features['font_style'] = font_style\n",
    "    except:\n",
    "        pass\n",
    "\n",
    "    try:\n",
    "        font_family = web_element.value_of_css_property('font-family')\n",
    "        features['font_family'] = font_family\n",
    "    except:\n",
    "        pass\n",
    "\n",
    "    try:\n",
    "        font_color = web_element.value_of_css_property('color')\n",
    "        font_color = [int(val.strip()) for val in font_color.replace('rgba(','').replace(')','').split(',') if val.strip()!='']\n",
    "        features['font_color'] = font_color\n",
    "    except:\n",
    "        pass\n",
    "\n",
    "\n",
    "    return features"
   ]
  },
  {
   "cell_type": "code",
   "execution_count": 22,
   "id": "i_SoKqdzMKWJ",
   "metadata": {
    "id": "i_SoKqdzMKWJ",
    "papermill": {
     "duration": 0.023472,
     "end_time": "2023-03-04T15:23:52.724760",
     "exception": false,
     "start_time": "2023-03-04T15:23:52.701288",
     "status": "completed"
    },
    "tags": []
   },
   "outputs": [],
   "source": []
  },
  {
   "cell_type": "markdown",
   "id": "fZEHGWWzMKWN",
   "metadata": {
    "id": "fZEHGWWzMKWN",
    "papermill": {
     "duration": 0.023064,
     "end_time": "2023-03-04T15:23:52.771801",
     "exception": false,
     "start_time": "2023-03-04T15:23:52.748737",
     "status": "completed"
    },
    "tags": []
   },
   "source": [
    "#### Extraction methods"
   ]
  },
  {
   "cell_type": "code",
   "execution_count": 23,
   "id": "cfc1vp-3MKWO",
   "metadata": {
    "execution": {
     "iopub.execute_input": "2023-07-15T12:55:24.797360Z",
     "iopub.status.busy": "2023-07-15T12:55:24.796577Z",
     "iopub.status.idle": "2023-07-15T12:55:24.814025Z",
     "shell.execute_reply": "2023-07-15T12:55:24.813055Z",
     "shell.execute_reply.started": "2023-07-15T12:55:24.797321Z"
    },
    "id": "cfc1vp-3MKWO",
    "papermill": {
     "duration": 0.038483,
     "end_time": "2023-03-04T15:23:52.833631",
     "exception": false,
     "start_time": "2023-03-04T15:23:52.795148",
     "status": "completed"
    },
    "tags": []
   },
   "outputs": [],
   "source": [
    "def extract_title(soup, driver):\n",
    "    try:\n",
    "        #### Title Tag\n",
    "        title = soup.title\n",
    "        features = {}\n",
    "        title_tag = np.nan\n",
    "        if title is not None:\n",
    "            title_tag = str(title)\n",
    "            tag_sequence = ''\n",
    "            try:\n",
    "                tag_sequence = find_tag_sequence(title)\n",
    "            except:\n",
    "                pass\n",
    "            if tag_sequence!='':\n",
    "                features['tag_sequence'] = tag_sequence\n",
    "\n",
    "            neighbours = {}\n",
    "            try:\n",
    "                neighbours = find_neighbours_and_parent(title)\n",
    "            except:\n",
    "                pass\n",
    "            for key, value in neighbours.items():\n",
    "                features[key] = value\n",
    "\n",
    "            visual_features = {}\n",
    "            try:\n",
    "                if driver is not None:\n",
    "                    title = driver.title\n",
    "                    visual_features = extract_visual_features(title)\n",
    "                    for key, value in visual_features.items():\n",
    "                        features[key] = value\n",
    "            except:\n",
    "                pass\n",
    "        else:\n",
    "            title_tag = np.nan\n",
    "\n",
    "        if len(features)>0:\n",
    "            features = json.dumps(features, ensure_ascii=False)\n",
    "        else:\n",
    "            features = np.nan\n",
    "        return title_tag, features\n",
    "    except:\n",
    "        return np.nan, np.nan"
   ]
  },
  {
   "cell_type": "code",
   "execution_count": 24,
   "id": "Ix-wdL1JMKWQ",
   "metadata": {
    "colab": {
     "base_uri": "https://localhost:8080/"
    },
    "execution": {
     "iopub.execute_input": "2023-07-15T12:55:24.816193Z",
     "iopub.status.busy": "2023-07-15T12:55:24.815269Z"
    },
    "id": "Ix-wdL1JMKWQ",
    "outputId": "7a4b1c8e-9d3b-478a-8c59-4ac451ec00c7"
   },
   "outputs": [
    {
     "name": "stdout",
     "output_type": "stream",
     "text": [
      "<title>મોદી સરનેમ કેસ: રાહુલ ગાંધીએ હાઇકોર્ટના આદેશને હવે સુપ્રીમ કોર્ટમાં પડકાર્યો – Gujaratmitra Daily Newspaper</title> {\"tag_sequence\": \"html>head>meta>meta>title\", \"next_sibling\": \"meta\", \"parent_node\": \"meta\", \"prev_sibling\": \"meta\", \"child_nodes\": [], \"x\": NaN, \"y\": NaN, \"height\": NaN, \"width\": NaN, \"is_visible\": NaN, \"aria_role\": NaN, \"bgcolor\": NaN, \"font_color\": NaN, \"font_size\": NaN, \"font_style\": NaN, \"font_family\": NaN}\n"
     ]
    }
   ],
   "source": [
    "response=requests.get(url).content\n",
    "soup=BeautifulSoup(response,'html.parser')\n",
    "driver.get(url)\n",
    "title_tag,features=extract_title(soup,driver)\n",
    "print(title_tag,features)"
   ]
  },
  {
   "cell_type": "code",
   "execution_count": 25,
   "id": "rrv1z8zjMKWR",
   "metadata": {
    "id": "rrv1z8zjMKWR",
    "papermill": {
     "duration": 0.053373,
     "end_time": "2023-03-04T15:23:52.912922",
     "exception": false,
     "start_time": "2023-03-04T15:23:52.859549",
     "status": "completed"
    },
    "tags": []
   },
   "outputs": [],
   "source": [
    "def extract_headline_category_pdate(soup, driver):\n",
    "    try:\n",
    "        #### Headline\n",
    "        headline = np.nan\n",
    "        headline_features = {}\n",
    "\n",
    "        #### Category\n",
    "        category = np.nan\n",
    "        category_features = {}\n",
    "\n",
    "        #### Publish Date\n",
    "        publish_date = np.nan\n",
    "        pdate_features = {}\n",
    "\n",
    "        main_div = soup.find('header', attrs={'id':'post-header'})\n",
    "        if main_div is not None:\n",
    "            # sub_div = main_div.find('div', attrs={'class':'mdm-content-section-wrap'})\n",
    "            if main_div is not None:\n",
    "                # content_div = sub_div.find('div', attrs={'class':'mdm-blue-box-content'})\n",
    "                if main_div is not None:\n",
    "                    h1 = main_div.find('h1',attrs={'class':'post-title entry-title left'})\n",
    "                    if h1 is not None:\n",
    "                        headline = str(h1)\n",
    "\n",
    "                        tag_sequence = ''\n",
    "                        try:\n",
    "                            tag_sequence = find_tag_sequence(h1)\n",
    "                        except:\n",
    "                            pass\n",
    "                        if tag_sequence!='':\n",
    "                            headline_features['tag_sequence'] = tag_sequence\n",
    "\n",
    "                        try:\n",
    "                            neighbours = find_neighbours_and_parent(h1)\n",
    "                        except:\n",
    "                            pass\n",
    "                        for key, value in neighbours.items():\n",
    "                            headline_features[key] = value\n",
    "\n",
    "\n",
    "                    pdate_div=main_div.find('span',attrs={'class':\"post-date updated\"})\n",
    "                    pdate=pdate_div.find(\"time\")\n",
    "                    if pdate is not None:\n",
    "                      if pdate is not None:\n",
    "                          publish_date = str(pdate)\n",
    "\n",
    "                          tag_sequence = ''\n",
    "                          try:\n",
    "                              tag_sequence = find_tag_sequence(pdate)\n",
    "                          except:\n",
    "                              pass\n",
    "                          if tag_sequence!='':\n",
    "                              pdate_features['tag_sequence'] = tag_sequence\n",
    "\n",
    "                          try:\n",
    "                              neighbours = find_neighbours_and_parent(pdate)\n",
    "                          except:\n",
    "                              pass\n",
    "                          for key, value in neighbours.items():\n",
    "                              pdate_features[key] = value\n",
    "            try:\n",
    "                if driver is not None:\n",
    "                    main_div_ = driver.find_element(By.ID, 'post-header')\n",
    "                    if main_div_ is not None:\n",
    "                        # sub_div_ = main_div_.find_element(By.CSS_SELECTOR, 'div.mdm-content-section-wrap')\n",
    "                        if main_div_ is not None:\n",
    "                            # content_div_ = sub_div_.find_element(By.CSS_SELECTOR, 'div.mdm-blue-box-content')\n",
    "                            if main_div_ is not None:\n",
    "                                ### Headline\n",
    "                                h1_ = main_div_.find_element(By.CSS_SELECTOR, 'h1.post-title')\n",
    "                                if h1_ is not None:\n",
    "                                    visual_features = extract_visual_features(h1_)\n",
    "                                    for key, value in visual_features.items():\n",
    "                                        headline_features[key] = value\n",
    "\n",
    "                                # date_div_=main_div_.find_element(By.CSS_SELECTOR,\"div.mdm-story-date-cover\")\n",
    "                                pdate_div_=main_div_.find_element(By.CSS_SELECTOR,\"span.post-date\")\n",
    "                                pdate_=pdate_div_.find_element(By.TAG_NAME,\"time\")\n",
    "                                if pdate_ is not None:\n",
    "                                  if pdate_ is not None:\n",
    "                                      visual_features = extract_visual_features(pdate_)\n",
    "                                      for key, value in visual_features.items():\n",
    "                                              pdate_features[key] = value\n",
    "            except:\n",
    "                pass\n",
    "\n",
    "            headline = str(headline)\n",
    "            category = str(category)\n",
    "            publish_date = str(publish_date)\n",
    "        else:\n",
    "            headline = np.nan\n",
    "            category = np.nan\n",
    "            publish_date = np.nan\n",
    "\n",
    "\n",
    "        if len(headline_features)>0:\n",
    "            headline_features = json.dumps(headline_features, ensure_ascii=False)\n",
    "        else:\n",
    "            headline_features = np.nan\n",
    "\n",
    "        if len(category_features)>0:\n",
    "            category_features = json.dumps(category_features, ensure_ascii=False)\n",
    "        else:\n",
    "            category_features = np.nan\n",
    "\n",
    "        if len(pdate_features)>0:\n",
    "            pdate_features = json.dumps(pdate_features, ensure_ascii=False)\n",
    "        else:\n",
    "            pdate_features = np.nan\n",
    "        return headline, headline_features, category, category_features, publish_date, pdate_features\n",
    "    except:\n",
    "        print(\"Except at end\")\n",
    "        return np.nan, np.nan, np.nan, np.nan, np.nan, np.nan"
   ]
  },
  {
   "cell_type": "code",
   "execution_count": 26,
   "id": "RwDbikn3MKWU",
   "metadata": {
    "colab": {
     "base_uri": "https://localhost:8080/"
    },
    "id": "RwDbikn3MKWU",
    "outputId": "6ae1af7f-a481-41e0-c3a5-46242cc816a4"
   },
   "outputs": [
    {
     "name": "stdout",
     "output_type": "stream",
     "text": [
      "<h1 class=\"post-title entry-title left\" itemprop=\"headline\">મોદી સરનેમ કેસ: રાહુલ ગાંધીએ હાઇકોર્ટના આદેશને હવે સુપ્રીમ કોર્ટમાં પડકાર્યો</h1> {\"tag_sequence\": \"html>body>div>div>div>meta>div>div>div>div>div>div>div>article>header>h1\", \"next_sibling\": \"div\", \"parent_node\": \"header\", \"prev_sibling\": \"a\", \"child_nodes\": [], \"x\": 22.203125, \"y\": 122.390625, \"height\": 92, \"width\": 721, \"is_visible\": true, \"aria_role\": NaN, \"bgcolor\": [0, 0, 0, 0], \"font_color\": [34, 34, 34, 1], \"font_size\": \"41.6px\", \"font_style\": \"normal\", \"font_family\": \"\\\"Work Sans\\\", sans-serif\"} nan nan <time class=\"post-date updated\" datetime=\"2023-07-15\" itemprop=\"datePublished\">July 15, 2023</time> {\"tag_sequence\": \"html>body>div>div>div>meta>div>div>div>div>div>div>div>article>header>div>div>div>div>div>span>time\", \"next_sibling\": null, \"parent_node\": \"span\", \"prev_sibling\": null, \"child_nodes\": [], \"x\": 153.40625, \"y\": 255.890625, \"height\": 15, \"width\": 76, \"is_visible\": true, \"aria_role\": NaN, \"bgcolor\": [0, 0, 0, 0], \"font_color\": [187, 187, 187, 1], \"font_size\": \"12.8px\", \"font_style\": \"normal\", \"font_family\": \"Lato, sans-serif\"}\n"
     ]
    }
   ],
   "source": [
    "# response=requests.get(url).content\n",
    "# print(response.status_code)\n",
    "# soup=BeautifulSoup(response,'html.parser')\n",
    "# driver=webdriver.Chrome(options=chrome_options)\n",
    "driver.get(url)\n",
    "h,hf,cat,catf,pdate,pdatef=extract_headline_category_pdate(soup,driver)\n",
    "print(h,hf,cat,catf,pdate,pdatef)"
   ]
  },
  {
   "cell_type": "code",
   "execution_count": 27,
   "id": "CS_i37gzMKWV",
   "metadata": {
    "id": "CS_i37gzMKWV",
    "papermill": {
     "duration": 0.042208,
     "end_time": "2023-03-04T15:23:52.979366",
     "exception": false,
     "start_time": "2023-03-04T15:23:52.937158",
     "status": "completed"
    },
    "tags": []
   },
   "outputs": [],
   "source": [
    "def extract_article_content(soup, driver):\n",
    "    try:\n",
    "        #### Article\n",
    "        article_div = soup.find_all('div', attrs={'id': 'content-main'})\n",
    "        para_list = []\n",
    "        features = []\n",
    "        if article_div is not None:\n",
    "          for i in article_div:\n",
    "              paras = i.find_all('p')\n",
    "              for i in range(len(paras)):\n",
    "                  features.append({})\n",
    "\n",
    "              if paras is not None:\n",
    "                  count = 0\n",
    "                  for para in paras:\n",
    "                      para_list.append(str(para))\n",
    "                      tag_sequence = ''\n",
    "                      try:\n",
    "                          tag_sequence = find_tag_sequence(para)\n",
    "                      except:\n",
    "                          pass\n",
    "                      if tag_sequence != '':\n",
    "                          features[count]['tag_sequence'] = tag_sequence\n",
    "\n",
    "                      neighbours = {}\n",
    "                      try:\n",
    "                          neighbours = find_neighbours_and_parent(para)\n",
    "                      except:\n",
    "                          pass\n",
    "                      for key, value in neighbours.items():\n",
    "                          features[count][key] = value\n",
    "                      count += 1\n",
    "        try:\n",
    "            if driver is not None:\n",
    "                article_divs = driver.find_element(By.ID, 'content-main')\n",
    "                if article_divs is not None:\n",
    "                    paras_ = article_divs.find_elements(By.TAG_NAME, 'p')\n",
    "                    if paras_:\n",
    "                            count = 0\n",
    "                            for para_ in paras_:\n",
    "                                visual_features = {}\n",
    "                                try:\n",
    "                                    visual_features = extract_visual_features(para_)\n",
    "                                except:\n",
    "                                    pass\n",
    "                                for key, value in visual_features.items():\n",
    "                                    features[count][key] = value\n",
    "                            count += 1\n",
    "        except:\n",
    "            pass\n",
    "        para_list = json.dumps(para_list, ensure_ascii=False)\n",
    "        features = json.dumps(features, ensure_ascii=False)\n",
    "        return para_list, features\n",
    "    except:\n",
    "        return np.nan, np.nan\n"
   ]
  },
  {
   "cell_type": "code",
   "execution_count": 28,
   "id": "AOCNcisiPQxd",
   "metadata": {
    "colab": {
     "base_uri": "https://localhost:8080/"
    },
    "id": "AOCNcisiPQxd",
    "outputId": "32bbd6c0-d151-4522-93ad-81a885b84afa"
   },
   "outputs": [
    {
     "name": "stdout",
     "output_type": "stream",
     "text": [
      "[\"<p>નવી દિલ્હી: કોંગ્રેસ (Congress) નેતા રાહુલ ગાંધીની (Rahul Gandhi) મુશ્કેલીઓ સતત વધી રહી છે. રાહુલ ગાંધીએ મોદી સરનેમ કેસમાં (Modi surname case) સજા પર રોક લગાવવા માટે સુપ્રીમ કોર્ટ (Supreme Court) પહોંચ્યા છે. કોંગ્રેસના નેતાએ 2019ના માનહાનિ કેસના સંદર્ભમાં ગુજરાત હાઈકોર્ટના (Gujarat Highcourt) આદેશને સુપ્રીમ કોર્ટમાં પડકાર્યો છે. 7 જુલાઈના રોજ હાઈકોર્ટે રાહુલ ગાંધીની અરજી ફગાવી દીધી હતી અને સેશન્સ કોર્ટે દોષિત ઠરાવવાનો ઇનકાર કરતા હુકમને યથાવત રાખ્યો હતો.</p>\", \"<p>આ પહેલા ભાજપના ધારાસભ્ય પૂર્ણેશ મોદીએ ગુજરાતમાં કોંગ્રેસના નેતા સામે માનહાનિનો કેસ દાખલ કરીને તેમને સજા અપાવી હતી, તેમણે પણ સુપ્રીમ કોર્ટમાં અરજી દાખલ કરી હતી. વાસ્તવમાં 23 માર્ચે સુરતની CJM કોર્ટે 2019માં મોદી સરનેમ અંગે કરેલી ટિપ્પણીના કેસમાં રાહુલ ગાંધીને બે વર્ષની સજા સંભળાવી હતી.</p>\", \"<p>રાહુલ ગાંધીએ 13 એપ્રિલ 2019ના રોજ કર્ણાટકના કોલારમાં એક ચૂંટણી રેલીમાં કહ્યું હતું કે નીરવ મોદી, લલિત મોદી, નરેન્દ્ર મોદીની અટક કેમ સામાન્ય છે? બધા ચોરની અટક મોદી કેમ છે? કોંગેસ નેતા રાહુલ ગાંધીના આ નિવેદનને લઈને ભાજપના ધારાસભ્ય અને પૂર્વ મંત્રી પૂર્ણેશ મોદીએ તેમની વિરુદ્ધ કલમ 499, 500 હેઠળ ફોજદારી માનહાનિનો કેસ દાખલ કર્યો હતો. તેમની ફરિયાદમાં બીજેપી ધારાસભ્યએ આરોપ લગાવ્યો હતો કે રાહુલે 2019માં ચૂંટણી રેલીને સંબોધિત કરતી વખતે કથિત રીતે કહીને સમગ્ર મોદી સમુદાયને બદનામ કર્યો હતો કે બધા ચોરોની અટક મોદી કેમ છે.</p>\", \"<p>રાહુલ ગાંધી સામેના માનહાનિના કેસમાં ચાર વર્ષ બાદ 23 માર્ચે સુરતની નીચલી અદાલતે રાહુલ ગાંધીને દોષિત ઠેરવીને બે વર્ષની સજા ફટકારી હતી. રાહુલ કેરળના વાયનાડથી સાંસદ હતા. દોષિત ઠર્યા બાદ લોકપ્રતિનિધિત્વ કાયદા હેઠળ તેમનું સંસદનું સભ્યપદ રદ કરવામાં આવ્યું હતું. રાહુલ ગાંધી ને નીચલી કોર્ટના આદેશ વિરુદ્ધ સુરત સેશન્સ કોર્ટની મદદ લીધી હતી. પરંતુ સુરત સેશન્સ કોર્ટે તેમની અરજી રદ્દ કરી હતી. ત્યાર બાદ તેમણે હોઇકોર્ટમાં અરજી દાખલ કરી હતી. જે બાદ હાઇકોર્ટે કહ્યુ હતુ કે એક અંતરાલ બાદ આ કેસમાં ચુકાદો આપવામાં આવશે. જો કે રાહુલ ગાંધી અહીં અટક્યા નહીં ‘મોદી સરનેમ’ માનહાનિ કેસમાં નીચલી અદાલત દ્વારા આપવામાં આવેલી 2 વર્ષની સજા પર રોક લગાવવાનો ઇનકાર કરતાં કોર્ટે રાહુલ ગાંધીની અરજી ફગાવી દીધી હતી. હાઈકોર્ટના જજ જસ્ટિસ હેમંત પ્રિચકે નીચલી કોર્ટના નિર્ણયને યોગ્ય ગણાવ્યો હતો.</p>\"] [{\"tag_sequence\": \"html>body>div>div>div>meta>div>div>div>div>div>div>div>article>div>div>div>div>p\", \"next_sibling\": \"p\", \"parent_node\": \"div\", \"prev_sibling\": \"section\", \"child_nodes\": [], \"x\": 22.203125, \"y\": 1563.0625, \"height\": 149, \"width\": 721, \"is_visible\": true, \"aria_role\": NaN, \"bgcolor\": [0, 0, 0, 0], \"font_color\": [34, 34, 34, 1], \"font_size\": \"16px\", \"font_style\": \"normal\", \"font_family\": \"Lato, sans-serif\"}, {\"tag_sequence\": \"html>body>div>div>div>meta>div>div>div>div>div>div>div>article>div>div>div>div>p\", \"next_sibling\": \"p\", \"parent_node\": \"div\", \"prev_sibling\": \"p\", \"child_nodes\": []}, {\"tag_sequence\": \"html>body>div>div>div>meta>div>div>div>div>div>div>div>article>div>div>div>div>p\", \"next_sibling\": \"p\", \"parent_node\": \"div\", \"prev_sibling\": \"p\", \"child_nodes\": []}, {\"tag_sequence\": \"html>body>div>div>div>meta>div>div>div>div>div>div>div>article>div>div>div>div>p\", \"next_sibling\": \"div\", \"parent_node\": \"div\", \"prev_sibling\": \"p\", \"child_nodes\": []}]\n"
     ]
    }
   ],
   "source": [
    "# response=requests.get(url).content\n",
    "# soup=BeautifulSoup(response,\"html.parser\")\n",
    "# driver=webdriver.Chrome(options=chrome_options)\n",
    "# driver.get(url)\n",
    "p_list,features=extract_article_content(soup,driver)\n",
    "print(p_list,features)"
   ]
  },
  {
   "cell_type": "code",
   "execution_count": 29,
   "id": "vibJ5LNsMKWX",
   "metadata": {
    "id": "vibJ5LNsMKWX",
    "papermill": {
     "duration": 0.044526,
     "end_time": "2023-03-04T15:23:53.048109",
     "exception": false,
     "start_time": "2023-03-04T15:23:53.003583",
     "status": "completed"
    },
    "tags": []
   },
   "outputs": [],
   "source": [
    "def extract_images(soup, driver):\n",
    "    try:\n",
    "        image = None\n",
    "        features = {}\n",
    "\n",
    "        #### Images\n",
    "        main_div = soup.find('div', attrs={'id':'post-feat-img'})\n",
    "        if main_div is not None:\n",
    "            # sub_div = main_div.find('div', attrs={'class':'infinite-wrapper'})\n",
    "            if main_div is not None:\n",
    "                # content_div = sub_div.find('div', attrs={'class':'arr--hero-image'})\n",
    "                if main_div is not None:\n",
    "                    images = main_div.find('img')\n",
    "                    if images is not None:\n",
    "\n",
    "                        image = str(images)\n",
    "                        match = re.search(r'<img.*?>', image)\n",
    "                        if match is not None:\n",
    "                            image = image[match.span()[0]:match.span()[1]]\n",
    "\n",
    "                        tag_sequence = ''\n",
    "                        try:\n",
    "                            tag_sequence = find_tag_sequence(images)\n",
    "                        except:\n",
    "                            pass\n",
    "                        if tag_sequence!='':\n",
    "                            features['tag_sequence'] = tag_sequence\n",
    "\n",
    "                        neighbours = {}\n",
    "                        try:\n",
    "                            neighbours = find_neighbours_and_parent(images)\n",
    "                        except:\n",
    "                            pass\n",
    "                        for key, value in neighbours.items():\n",
    "                            features[key] = value\n",
    "\n",
    "\n",
    "            if driver is not None:\n",
    "                main_div_ = driver.find_element(By.ID, 'post-feat-img')\n",
    "                if main_div_ is not None:\n",
    "                    # sub_div_ = main_div_.find_element(By.CSS_SELECTOR, 'div.infinite-wrapper')\n",
    "                    if main_div_ is not None:\n",
    "                        # content_div_ = sub_div_.find_element(By.CSS_SELECTOR, 'div.arr--hero-image')\n",
    "                        if main_div_ is not None:\n",
    "                            images_ = main_div_.find_element(By.TAG_NAME, 'img')\n",
    "                            if images_ is not None:\n",
    "                                visual_features = {}\n",
    "                                try:\n",
    "                                    visual_features = extract_visual_features(images_)\n",
    "                                except:\n",
    "                                    pass\n",
    "                                for key, value in visual_features.items():\n",
    "                                    features[key] = value\n",
    "\n",
    "            image = str(image)\n",
    "        else:\n",
    "            image = np.nan\n",
    "\n",
    "        if len(features)>0:\n",
    "            features = json.dumps(features, ensure_ascii=False)\n",
    "        else:\n",
    "            features = np.nan\n",
    "\n",
    "        return image, features\n",
    "    except Exception as e:\n",
    "#         print(\"Exception (img): \", e)\n",
    "        return np.nan, np.nan"
   ]
  },
  {
   "cell_type": "code",
   "execution_count": 30,
   "id": "kWD0wGFDTa2y",
   "metadata": {
    "colab": {
     "base_uri": "https://localhost:8080/"
    },
    "id": "kWD0wGFDTa2y",
    "outputId": "3e00687a-01ba-464f-cad9-2a4a8eefc3b4"
   },
   "outputs": [
    {
     "name": "stdout",
     "output_type": "stream",
     "text": [
      "<img alt=\"\" class=\"attachment- size- wp-post-image\" data-lazy-sizes=\"(max-width: 901px) 100vw, 901px\" data-lazy-src=\"https://gujaratmitra.in/wp-content/uploads/2023/07/a1-18.jpg\" data-lazy-srcset=\"https://gujaratmitra.in/wp-content/uploads/2023/07/a1-18.jpg 901w, https://gujaratmitra.in/wp-content/uploads/2023/07/a1-18-300x166.jpg 300w, https://gujaratmitra.in/wp-content/uploads/2023/07/a1-18-768x426.jpg 768w\" decoding=\"async\" height=\"500\" src=\"data:image/svg+xml,%3Csvg%20xmlns='http://www.w3.org/2000/svg'%20viewBox='0%200%20901%20500'%3E%3C/svg%3E\" width=\"901\"/> {\"tag_sequence\": \"html>body>div>div>div>meta>div>div>div>div>div>div>div>article>div>img\", \"next_sibling\": \"noscript\", \"parent_node\": \"div\", \"prev_sibling\": null, \"child_nodes\": [], \"x\": -10, \"y\": 303.890625, \"height\": 436, \"width\": 785, \"is_visible\": true, \"aria_role\": NaN, \"bgcolor\": [0, 0, 0, 0], \"font_color\": [34, 34, 34, 1], \"font_size\": \"16px\", \"font_style\": \"normal\", \"font_family\": \"Lato, sans-serif\"}\n"
     ]
    }
   ],
   "source": [
    "# response=requests.get(url).content\n",
    "# soup=BeautifulSoup(response,\"html.parser\")\n",
    "# driver=webdriver.Chrome(options=chrome_options)\n",
    "# driver.get(url)\n",
    "img,imgf=extract_images(soup,driver)\n",
    "print(img,imgf)"
   ]
  },
  {
   "cell_type": "code",
   "execution_count": 31,
   "id": "kgJWMgSCMKWZ",
   "metadata": {
    "id": "kgJWMgSCMKWZ",
    "papermill": {
     "duration": 0.040597,
     "end_time": "2023-03-04T15:23:53.112810",
     "exception": false,
     "start_time": "2023-03-04T15:23:53.072213",
     "status": "completed"
    },
    "tags": []
   },
   "outputs": [],
   "source": [
    "def extract_tags(soup, driver):\n",
    "    try:\n",
    "        #### Tags\n",
    "        main_div=soup.find('div',attrs={'class':'post-tags'})\n",
    "        anchors = main_div.find_all('a')\n",
    "        tags_list = []\n",
    "        features = []\n",
    "        if anchors is not None:\n",
    "            for count in range(len(anchors)):\n",
    "                features.append({})\n",
    "\n",
    "                anchor = anchors[count]\n",
    "                tags_list.append(str(anchor))\n",
    "\n",
    "                tag_sequence = ''\n",
    "                try:\n",
    "                    tag_sequence = find_tag_sequence(anchor)\n",
    "                except:\n",
    "                    pass\n",
    "                if tag_sequence!='':\n",
    "                    features[count]['tag_sequence'] = tag_sequence\n",
    "\n",
    "                neighbours = {}\n",
    "                try:\n",
    "                    neighbours = find_neighbours_and_parent(anchor)\n",
    "                except:\n",
    "                    pass\n",
    "                for key, value in neighbours.items():\n",
    "                    features[count][key] = value\n",
    "\n",
    "            if driver is not None:\n",
    "                main_div_= driver.find_element(By.CSS_SELECTOR, 'div.post-tags')\n",
    "                anchors_=main_div_.find_elements(By.TAG_NAME,'a')\n",
    "                if anchors_ is not None:\n",
    "                    count = 0\n",
    "                    for anchor_ in anchors_:\n",
    "\n",
    "                        visual_features = {}\n",
    "                        try:\n",
    "                            visual_features = extract_visual_features(anchor_)\n",
    "                        except:\n",
    "                            pass\n",
    "\n",
    "                        for key, value in visual_features.items():\n",
    "                            features[count][key] = value\n",
    "                        count += 1\n",
    "\n",
    "            tags_list = json.dumps(tags_list, ensure_ascii=False)\n",
    "        else:\n",
    "            tags_list = np.nan\n",
    "\n",
    "\n",
    "        if len(features)>0:\n",
    "            features = json.dumps(features, ensure_ascii=False)\n",
    "        else:\n",
    "            features = np.nan\n",
    "        return tags_list, features\n",
    "    except Exception as e:\n",
    "        return np.nan, np.nan"
   ]
  },
  {
   "cell_type": "code",
   "execution_count": 32,
   "id": "gBhh448_MKWa",
   "metadata": {
    "colab": {
     "base_uri": "https://localhost:8080/"
    },
    "id": "gBhh448_MKWa",
    "outputId": "9da56e4d-2ad1-4a95-b4f3-daf0df9c76b3",
    "papermill": {
     "duration": 0.023625,
     "end_time": "2023-03-04T15:23:53.160257",
     "exception": false,
     "start_time": "2023-03-04T15:23:53.136632",
     "status": "completed"
    },
    "tags": []
   },
   "outputs": [
    {
     "name": "stdout",
     "output_type": "stream",
     "text": [
      "[\"<a href=\\\"https://gujaratmitra.in/tag/congress-leader/\\\" rel=\\\"tag\\\">congress Leader</a>\", \"<a href=\\\"https://gujaratmitra.in/tag/featured/\\\" rel=\\\"tag\\\">Featured</a>\", \"<a href=\\\"https://gujaratmitra.in/tag/modi-surname-case/\\\" rel=\\\"tag\\\">Modi Surname case</a>\", \"<a href=\\\"https://gujaratmitra.in/tag/rahul-gandhi/\\\" rel=\\\"tag\\\">rahul gandhi</a>\", \"<a href=\\\"https://gujaratmitra.in/tag/supreme-court/\\\" rel=\\\"tag\\\">Supreme Court</a>\"] [{\"tag_sequence\": \"html>body>div>div>div>meta>div>div>div>div>div>div>div>article>div>div>div>div>div>span>a\", \"next_sibling\": \"a\", \"parent_node\": \"span\", \"prev_sibling\": null, \"child_nodes\": [], \"x\": 126.984375, \"y\": 3430.84375, \"height\": 14, \"width\": 121, \"is_visible\": true, \"aria_role\": NaN, \"bgcolor\": [0, 0, 0, 0], \"font_color\": [168, 168, 168, 1], \"font_size\": \"12px\", \"font_style\": \"normal\", \"font_family\": \"Montserrat, sans-serif\"}, {\"tag_sequence\": \"html>body>div>div>div>meta>div>div>div>div>div>div>div>article>div>div>div>div>div>span>a\", \"next_sibling\": \"a\", \"parent_node\": \"span\", \"prev_sibling\": \"a\", \"child_nodes\": [], \"x\": 255.015625, \"y\": 3430.84375, \"height\": 14, \"width\": 64, \"is_visible\": true, \"aria_role\": NaN, \"bgcolor\": [0, 0, 0, 0], \"font_color\": [168, 168, 168, 1], \"font_size\": \"12px\", \"font_style\": \"normal\", \"font_family\": \"Montserrat, sans-serif\"}, {\"tag_sequence\": \"html>body>div>div>div>meta>div>div>div>div>div>div>div>article>div>div>div>div>div>span>a\", \"next_sibling\": \"a\", \"parent_node\": \"span\", \"prev_sibling\": \"a\", \"child_nodes\": [], \"x\": 326.140625, \"y\": 3430.84375, \"height\": 14, \"width\": 132, \"is_visible\": true, \"aria_role\": NaN, \"bgcolor\": [0, 0, 0, 0], \"font_color\": [168, 168, 168, 1], \"font_size\": \"12px\", \"font_style\": \"normal\", \"font_family\": \"Montserrat, sans-serif\"}, {\"tag_sequence\": \"html>body>div>div>div>meta>div>div>div>div>div>div>div>article>div>div>div>div>div>span>a\", \"next_sibling\": \"a\", \"parent_node\": \"span\", \"prev_sibling\": \"a\", \"child_nodes\": [], \"x\": 464.828125, \"y\": 3430.84375, \"height\": 14, \"width\": 92, \"is_visible\": true, \"aria_role\": NaN, \"bgcolor\": [0, 0, 0, 0], \"font_color\": [168, 168, 168, 1], \"font_size\": \"12px\", \"font_style\": \"normal\", \"font_family\": \"Montserrat, sans-serif\"}, {\"tag_sequence\": \"html>body>div>div>div>meta>div>div>div>div>div>div>div>article>div>div>div>div>div>span>a\", \"next_sibling\": null, \"parent_node\": \"span\", \"prev_sibling\": \"a\", \"child_nodes\": [], \"x\": 563.953125, \"y\": 3430.84375, \"height\": 14, \"width\": 105, \"is_visible\": true, \"aria_role\": NaN, \"bgcolor\": [0, 0, 0, 0], \"font_color\": [168, 168, 168, 1], \"font_size\": \"12px\", \"font_style\": \"normal\", \"font_family\": \"Montserrat, sans-serif\"}]\n"
     ]
    }
   ],
   "source": [
    "# response=requests.get(url).content\n",
    "# soup=BeautifulSoup(response,)\n",
    "# driver.get(url)\n",
    "l,f=extract_tags(soup,driver)\n",
    "print(l,f)"
   ]
  },
  {
   "cell_type": "code",
   "execution_count": 32,
   "id": "Bfr_C5x2MKWb",
   "metadata": {
    "id": "Bfr_C5x2MKWb",
    "papermill": {
     "duration": 0.023359,
     "end_time": "2023-03-04T15:23:53.207142",
     "exception": false,
     "start_time": "2023-03-04T15:23:53.183783",
     "status": "completed"
    },
    "tags": []
   },
   "outputs": [],
   "source": []
  },
  {
   "cell_type": "code",
   "execution_count": 33,
   "id": "mbaIZS5OMKWc",
   "metadata": {
    "id": "mbaIZS5OMKWc",
    "papermill": {
     "duration": 0.039605,
     "end_time": "2023-03-04T15:23:53.270495",
     "exception": false,
     "start_time": "2023-03-04T15:23:53.230890",
     "status": "completed"
    },
    "tags": []
   },
   "outputs": [],
   "source": [
    "def scrape_news_contents(source_code, url, sample_id, driver=None):\n",
    "    soup = BeautifulSoup(source_code, 'html.parser')\n",
    "\n",
    "    article = {\n",
    "    \t'url': url,\n",
    "        'sample_id': sample_id,\n",
    "        'title': np.nan,\n",
    "        'title_features': np.nan,\n",
    "        'headline': np.nan,\n",
    "        'headline_features': np.nan,\n",
    "        'category': np.nan,\n",
    "        'category_features': np.nan,\n",
    "        'publish_date': np.nan,\n",
    "        'publish_date_features': np.nan,\n",
    "        'article': np.nan,\n",
    "        'article_features': np.nan,\n",
    "        'images': np.nan,\n",
    "        'images_features': np.nan,\n",
    "        'tags': np.nan,\n",
    "        'tags_features': np.nan,\n",
    "        'source': soup,\n",
    "    }\n",
    "\n",
    "    title_tag, title_features = extract_title(soup, driver)\n",
    "    article['title'] = title_tag\n",
    "    article['title_features'] = title_features\n",
    "\n",
    "    headline, headline_features, category, category_features, publish_date, date_features = extract_headline_category_pdate(soup, driver)\n",
    "    article['headline'] = headline\n",
    "    article['headline_features'] = headline_features\n",
    "\n",
    "    article['category'] = category\n",
    "    article['category_features'] = category_features\n",
    "\n",
    "    article['publish_date'] = publish_date\n",
    "    article['publish_date_features'] = date_features\n",
    "\n",
    "    content, article_features = extract_article_content(soup, driver)\n",
    "    article['article'] = content\n",
    "    article['article_features'] = article_features\n",
    "\n",
    "    images, images_features = extract_images(soup,driver)\n",
    "    article['images'] = images\n",
    "    article['images_features'] = images_features\n",
    "\n",
    "    tags, tags_features = extract_tags(soup, driver)\n",
    "    article['tags'] = tags\n",
    "    article['tags_features'] = tags_features\n",
    "\n",
    "    return article"
   ]
  },
  {
   "cell_type": "code",
   "execution_count": 34,
   "id": "LtEjRvW3MKWd",
   "metadata": {
    "id": "LtEjRvW3MKWd",
    "papermill": {
     "duration": 0.023221,
     "end_time": "2023-03-04T15:23:53.317601",
     "exception": false,
     "start_time": "2023-03-04T15:23:53.294380",
     "status": "completed"
    },
    "tags": []
   },
   "outputs": [],
   "source": [
    "response=requests.get(url).content\n",
    "# soup=BeautifulSoup(response,\"html.parser\")\n",
    "driver=webdriver.Chrome(options=chrome_options)\n",
    "driver.get(url)\n",
    "article=scrape_news_contents(response,url,1,driver)\n",
    "# print(article)"
   ]
  },
  {
   "cell_type": "code",
   "execution_count": 34,
   "id": "Loa_lPmsMKWe",
   "metadata": {
    "id": "Loa_lPmsMKWe",
    "papermill": {
     "duration": 0.023016,
     "end_time": "2023-03-04T15:23:53.364177",
     "exception": false,
     "start_time": "2023-03-04T15:23:53.341161",
     "status": "completed"
    },
    "tags": []
   },
   "outputs": [],
   "source": []
  },
  {
   "cell_type": "code",
   "execution_count": 35,
   "id": "sNkvv9NlMKWe",
   "metadata": {
    "id": "sNkvv9NlMKWe",
    "papermill": {
     "duration": 0.045575,
     "end_time": "2023-03-04T15:23:53.433292",
     "exception": false,
     "start_time": "2023-03-04T15:23:53.387717",
     "status": "completed"
    },
    "tags": []
   },
   "outputs": [],
   "source": [
    "def scrape_misc_contents(source_code, article, driver=None):\n",
    "    misc_content = []\n",
    "    misc_features = []\n",
    "\n",
    "    try:\n",
    "        ### Extracting the article features from the json to remove from misc content (leaf nodes)\n",
    "        article_fields = []\n",
    "        for field in SINGLE_ENTRIES:\n",
    "            article_fields.append(article[field])\n",
    "\n",
    "        for field in MULTIPLE_ENTRIES:\n",
    "            entries = article[field]\n",
    "            if type(entries)==str:\n",
    "                entries = json.loads(entries)\n",
    "                for entry in entries:\n",
    "                    article_fields.append(entry)\n",
    "\n",
    "\n",
    "        ### Extracting all leaf nodes from the soup object and removing the noisy tags, article fields\n",
    "        all_leaf_nodes = []\n",
    "        leaf_node_features = []\n",
    "        soup = BeautifulSoup(source_code, 'html.parser')\n",
    "        body = soup.find('body')\n",
    "        for child in body.recursiveChildGenerator():\n",
    "            name = getattr(child, \"name\", None)\n",
    "            if name is None:\n",
    "                if not child.isspace(): # leaf node, don't print spaces\n",
    "                    p_name = getattr(child.parent, 'name', None)\n",
    "                    if p_name is not None and p_name not in EXCLUDE_TAGS and str(child.parent) not in article_fields:\n",
    "                        entry = {}\n",
    "                        entry['misc_features'] = {}\n",
    "                        entry['misc_features']['tag_sequence'] = find_tag_sequence(child.parent)\n",
    "                        neighbours = find_neighbours_and_parent(child.parent)\n",
    "                        for key, value in neighbours.items():\n",
    "                            entry['misc_features'][key] = value\n",
    "\n",
    "                        all_leaf_nodes.append(str(child.parent))\n",
    "                        leaf_node_features.append(entry)\n",
    "\n",
    "\n",
    "        ### Extracting the features for the leaf nodes (only for soup leaf nodes from above) using selenium\n",
    "        leaf_node_selenium_features = {}\n",
    "        if driver is not None:\n",
    "            body_element = driver.find_element(By.TAG_NAME, 'body')\n",
    "            if body_element is not None:\n",
    "                childs = body_element.find_elements(By.XPATH,\".//*\")\n",
    "                for child in childs:\n",
    "                    try:\n",
    "                        html_content = child.get_attribute('outerHTML')\n",
    "                        if html_content in all_leaf_nodes:\n",
    "                            index = all_leaf_nodes.index(html_content)\n",
    "                            leaf_node_selenium_features[index] = extract_visual_features(child)\n",
    "                    except:\n",
    "                        pass\n",
    "\n",
    "\n",
    "        ### Combining the features of soup and selenium\n",
    "        for index, tag_html in enumerate(all_leaf_nodes):\n",
    "            sel_feature = leaf_node_selenium_features.get(index, None)\n",
    "            if sel_feature is not None:\n",
    "                if len(sel_feature)>0:\n",
    "                    for key, value in sel_feature.items():\n",
    "                        leaf_node_features[index]['misc_features'][key] = value\n",
    "\n",
    "            misc_content.append(all_leaf_nodes[index])\n",
    "            misc_features.append(json.dumps(leaf_node_features[index].get('misc_features', {})))\n",
    "    except Exception as e:\n",
    "        print(\"Exception in misc: \", e)\n",
    "        pass\n",
    "\n",
    "    return misc_content, misc_features"
   ]
  },
  {
   "cell_type": "code",
   "execution_count": 35,
   "id": "DiGiy9mFMKWg",
   "metadata": {
    "id": "DiGiy9mFMKWg",
    "papermill": {
     "duration": 0.024364,
     "end_time": "2023-03-04T15:23:53.481546",
     "exception": false,
     "start_time": "2023-03-04T15:23:53.457182",
     "status": "completed"
    },
    "tags": []
   },
   "outputs": [],
   "source": []
  },
  {
   "cell_type": "markdown",
   "id": "l0KKVVMGMKWh",
   "metadata": {
    "id": "l0KKVVMGMKWh",
    "papermill": {
     "duration": 0.024125,
     "end_time": "2023-03-04T15:23:53.529603",
     "exception": false,
     "start_time": "2023-03-04T15:23:53.505478",
     "status": "completed"
    },
    "tags": []
   },
   "source": [
    "#### Crawling the links"
   ]
  },
  {
   "cell_type": "code",
   "execution_count": 36,
   "id": "rMCr9jp9MKWi",
   "metadata": {
    "colab": {
     "base_uri": "https://localhost:8080/"
    },
    "id": "rMCr9jp9MKWi",
    "outputId": "08390c85-dc4c-4ff2-bafc-66b071df3486",
    "papermill": {
     "duration": 0.037025,
     "end_time": "2023-03-04T15:23:53.590540",
     "exception": false,
     "start_time": "2023-03-04T15:23:53.553515",
     "status": "completed"
    },
    "tags": []
   },
   "outputs": [
    {
     "data": {
      "text/plain": [
       "['url',\n",
       " 'sample_id',\n",
       " 'title',\n",
       " 'title_features',\n",
       " 'headline',\n",
       " 'headline_features',\n",
       " 'category',\n",
       " 'category_features',\n",
       " 'publish_date',\n",
       " 'publish_date_features',\n",
       " 'article',\n",
       " 'article_features',\n",
       " 'images',\n",
       " 'images_features',\n",
       " 'tags',\n",
       " 'tags_features',\n",
       " 'source']"
      ]
     },
     "execution_count": 36,
     "metadata": {},
     "output_type": "execute_result"
    }
   ],
   "source": [
    "column_names = [\n",
    "    'url', 'sample_id', 'title', 'title_features', 'headline',\n",
    "    'headline_features', 'category', 'category_features', 'publish_date',\n",
    "    'publish_date_features', 'article', 'article_features', 'images', 'images_features',\n",
    "    'tags', 'tags_features', 'source'\n",
    "]\n",
    "column_names"
   ]
  },
  {
   "cell_type": "code",
   "execution_count": 37,
   "id": "QLI0wEpXMKW3",
   "metadata": {
    "id": "QLI0wEpXMKW3",
    "papermill": {
     "duration": 0.033739,
     "end_time": "2023-03-04T15:23:53.648621",
     "exception": false,
     "start_time": "2023-03-04T15:23:53.614882",
     "status": "completed"
    },
    "tags": []
   },
   "outputs": [],
   "source": [
    "SINGLE_ENTRIES = ['title', 'headline', 'category', 'publish_date', 'images']\n",
    "MULTIPLE_ENTRIES = ['article', 'tags']\n",
    "EXCLUDE_TAGS = ['script', 'style', 'header', 'footer', 'iframe', 'formgroup', 'form']"
   ]
  },
  {
   "cell_type": "code",
   "execution_count": 38,
   "id": "niQW7vQzMKW5",
   "metadata": {
    "colab": {
     "base_uri": "https://localhost:8080/"
    },
    "id": "niQW7vQzMKW5",
    "outputId": "1c7ca164-e085-4cac-cbd1-874851494754",
    "papermill": {
     "duration": 0.037306,
     "end_time": "2023-03-04T15:23:53.709558",
     "exception": false,
     "start_time": "2023-03-04T15:23:53.672252",
     "status": "completed"
    },
    "tags": []
   },
   "outputs": [
    {
     "data": {
      "text/plain": [
       "('./GujaratMitra0_100.csv', './GujaratMitra0_100_misc.csv')"
      ]
     },
     "execution_count": 38,
     "metadata": {},
     "output_type": "execute_result"
    }
   ],
   "source": [
    "output_file_name = './GujaratMitra{}_{}.csv'.format(start, end)\n",
    "output_file_name_misc = './GujaratMitra{}_{}_misc.csv'.format(start, end)\n",
    "output_file_name, output_file_name_misc"
   ]
  },
  {
   "cell_type": "code",
   "execution_count": 38,
   "id": "hdYcmcjRMKW7",
   "metadata": {
    "id": "hdYcmcjRMKW7",
    "papermill": {
     "duration": 0.023382,
     "end_time": "2023-03-04T15:23:53.756790",
     "exception": false,
     "start_time": "2023-03-04T15:23:53.733408",
     "status": "completed"
    },
    "tags": []
   },
   "outputs": [],
   "source": []
  },
  {
   "cell_type": "code",
   "execution_count": 39,
   "id": "ku4kKS1FMKW9",
   "metadata": {
    "colab": {
     "base_uri": "https://localhost:8080/"
    },
    "id": "ku4kKS1FMKW9",
    "outputId": "030cdd3b-35cd-4ab4-90f5-ac75566f0e13",
    "papermill": {
     "duration": 18726.364218,
     "end_time": "2023-03-04T20:36:00.144794",
     "exception": false,
     "start_time": "2023-03-04T15:23:53.780576",
     "status": "completed"
    },
    "tags": []
   },
   "outputs": [
    {
     "metadata": {
      "tags": null
     },
     "name": "stdout",
     "output_type": "stream",
     "text": [
      "Extracting the contents from the source\n"
     ]
    },
    {
     "name": "stderr",
     "output_type": "stream",
     "text": [
      " 75%|███████▌  | 75/100 [2:45:24<1:08:31, 164.44s/it]"
     ]
    },
    {
     "name": "stdout",
     "output_type": "stream",
     "text": [
      "Exception:  HTTPSConnectionPool(host='gujaratmitra.in', port=443): Max retries exceeded with url: /breadliner-puff-fungus-video-notice/ (Caused by ConnectTimeoutError(<urllib3.connection.HTTPSConnection object at 0x78b75a4a9b40>, 'Connection to gujaratmitra.in timed out. (connect timeout=None)'))\n"
     ]
    },
    {
     "name": "stderr",
     "output_type": "stream",
     "text": [
      "100%|██████████| 100/100 [3:40:26<00:00, 132.27s/it]\n"
     ]
    },
    {
     "name": "stdout",
     "output_type": "stream",
     "text": [
      "Saving the pandas data frame\n"
     ]
    }
   ],
   "source": [
    "print(\"Extracting the contents from the source\")\n",
    "final_data = []\n",
    "final_misc_content = []\n",
    "final_misc_features = []\n",
    "\n",
    "for i in tqdm(range(start, start + min(end, out_df.shape[0]))):\n",
    "    url = out_df['url'][i]\n",
    "    sample_id = i\n",
    "\n",
    "    try:\n",
    "        response = requests.get(url)\n",
    "        if response.status_code==200:\n",
    "            driver.get(url)\n",
    "            article = scrape_news_contents(response.content, url, sample_id, driver)\n",
    "            final_data.append(article)\n",
    "            misc_content, misc_features = scrape_misc_contents(response.content, article, driver)\n",
    "#             print(\"misc Len: \", len(misc_content))\n",
    "#             print(\"misc Feat: \", len(misc_features))\n",
    "\n",
    "            for i in range(len(misc_content)):\n",
    "                if misc_content[i] not in final_misc_content:\n",
    "                    final_misc_content.append(misc_content[i])\n",
    "                    final_misc_features.append(misc_features[i])\n",
    "#             print(\"Misc Len: \", len(final_misc_content))\n",
    "#             print(\"Feat Len: \", len(final_misc_features))\n",
    "\n",
    "        else:\n",
    "            print(\"Status Code: \", response.status_code)\n",
    "    except Exception as e:\n",
    "        print(\"Exception: \", e)\n",
    "        driver = webdriver.Chrome(options = chrome_options)\n",
    "\n",
    "\n",
    "    if (i+1)%100 == 0:\n",
    "        print(\"Saving the checkpoint at {}\".format((i+1)/100))\n",
    "        df = pd.DataFrame(final_data, columns=column_names)\n",
    "        df.to_csv(output_file_name)\n",
    "\n",
    "        misc_df = pd.DataFrame(data={'misc': final_misc_content, 'misc_features': final_misc_features}, columns=['misc', 'misc_features'])\n",
    "        misc_df.to_csv(output_file_name_misc)\n",
    "\n",
    "print(\"Saving the pandas data frame\")\n",
    "df = pd.DataFrame(final_data, columns=column_names)\n",
    "df.to_csv(output_file_name)\n",
    "\n",
    "misc_df = pd.DataFrame(data={'misc': final_misc_content, 'misc_features': final_misc_features}, columns=['misc', 'misc_features'])\n",
    "misc_df.to_csv(output_file_name_misc)"
   ]
  },
  {
   "cell_type": "code",
   "execution_count": 40,
   "id": "CZrRfP32MKW_",
   "metadata": {
    "colab": {
     "base_uri": "https://localhost:8080/",
     "height": 791
    },
    "id": "CZrRfP32MKW_",
    "outputId": "1e232d52-7154-4892-cd3c-d48e6b93f230",
    "papermill": {
     "duration": 0.188969,
     "end_time": "2023-03-04T20:36:00.421215",
     "exception": false,
     "start_time": "2023-03-04T20:36:00.232246",
     "status": "completed"
    },
    "tags": []
   },
   "outputs": [
    {
     "data": {
      "text/html": [
       "\n",
       "\n",
       "  <div id=\"df-2c6953af-fee9-419f-942d-c18a5c219c22\">\n",
       "    <div class=\"colab-df-container\">\n",
       "      <div>\n",
       "<style scoped>\n",
       "    .dataframe tbody tr th:only-of-type {\n",
       "        vertical-align: middle;\n",
       "    }\n",
       "\n",
       "    .dataframe tbody tr th {\n",
       "        vertical-align: top;\n",
       "    }\n",
       "\n",
       "    .dataframe thead th {\n",
       "        text-align: right;\n",
       "    }\n",
       "</style>\n",
       "<table border=\"1\" class=\"dataframe\">\n",
       "  <thead>\n",
       "    <tr style=\"text-align: right;\">\n",
       "      <th></th>\n",
       "      <th>url</th>\n",
       "      <th>sample_id</th>\n",
       "      <th>title</th>\n",
       "      <th>title_features</th>\n",
       "      <th>headline</th>\n",
       "      <th>headline_features</th>\n",
       "      <th>category</th>\n",
       "      <th>category_features</th>\n",
       "      <th>publish_date</th>\n",
       "      <th>publish_date_features</th>\n",
       "      <th>article</th>\n",
       "      <th>article_features</th>\n",
       "      <th>images</th>\n",
       "      <th>images_features</th>\n",
       "      <th>tags</th>\n",
       "      <th>tags_features</th>\n",
       "      <th>source</th>\n",
       "    </tr>\n",
       "  </thead>\n",
       "  <tbody>\n",
       "    <tr>\n",
       "      <th>0</th>\n",
       "      <td>https://gujaratmitra.in/rahulgandhi-modi-surna...</td>\n",
       "      <td>0</td>\n",
       "      <td>&lt;title&gt;મોદી સરનેમ કેસ: રાહુલ ગાંધીએ હાઇકોર્ટના...</td>\n",
       "      <td>{\"tag_sequence\": \"html&gt;head&gt;meta&gt;meta&gt;title\", ...</td>\n",
       "      <td>&lt;h1 class=\"post-title entry-title left\" itempr...</td>\n",
       "      <td>{\"tag_sequence\": \"html&gt;body&gt;div&gt;div&gt;div&gt;meta&gt;d...</td>\n",
       "      <td>nan</td>\n",
       "      <td>NaN</td>\n",
       "      <td>&lt;time class=\"post-date updated\" datetime=\"2023...</td>\n",
       "      <td>{\"tag_sequence\": \"html&gt;body&gt;div&gt;div&gt;div&gt;meta&gt;d...</td>\n",
       "      <td>[\"&lt;p&gt;નવી દિલ્હી: કોંગ્રેસ (Congress) નેતા રાહુ...</td>\n",
       "      <td>[{\"tag_sequence\": \"html&gt;body&gt;div&gt;div&gt;div&gt;meta&gt;...</td>\n",
       "      <td>&lt;img alt=\"\" class=\"attachment- size- wp-post-i...</td>\n",
       "      <td>{\"tag_sequence\": \"html&gt;body&gt;div&gt;div&gt;div&gt;meta&gt;d...</td>\n",
       "      <td>NaN</td>\n",
       "      <td>NaN</td>\n",
       "      <td>[html, \\n, [\\n, [\\n,  Google tag (gtag.js) , \\...</td>\n",
       "    </tr>\n",
       "    <tr>\n",
       "      <th>1</th>\n",
       "      <td>https://gujaratmitra.in/ravichandran-ashwins-b...</td>\n",
       "      <td>1</td>\n",
       "      <td>&lt;title&gt;આ ખેલાડી પર ભરોસો નહીં કરવાનો રોહિતને ર...</td>\n",
       "      <td>{\"tag_sequence\": \"html&gt;head&gt;meta&gt;meta&gt;title\", ...</td>\n",
       "      <td>&lt;h1 class=\"post-title entry-title left\" itempr...</td>\n",
       "      <td>{\"tag_sequence\": \"html&gt;body&gt;div&gt;div&gt;div&gt;meta&gt;d...</td>\n",
       "      <td>nan</td>\n",
       "      <td>NaN</td>\n",
       "      <td>&lt;time class=\"post-date updated\" datetime=\"2023...</td>\n",
       "      <td>{\"tag_sequence\": \"html&gt;body&gt;div&gt;div&gt;div&gt;meta&gt;d...</td>\n",
       "      <td>[\"&lt;p&gt;નવી દિલ્હી: વેસ્ટ ઈન્ડિઝના (West Indies) ...</td>\n",
       "      <td>[{\"tag_sequence\": \"html&gt;body&gt;div&gt;div&gt;div&gt;meta&gt;...</td>\n",
       "      <td>&lt;img alt=\"\" class=\"attachment- size- wp-post-i...</td>\n",
       "      <td>{\"tag_sequence\": \"html&gt;body&gt;div&gt;div&gt;div&gt;meta&gt;d...</td>\n",
       "      <td>NaN</td>\n",
       "      <td>NaN</td>\n",
       "      <td>[html, \\n, [\\n, [\\n,  Google tag (gtag.js) , \\...</td>\n",
       "    </tr>\n",
       "    <tr>\n",
       "      <th>2</th>\n",
       "      <td>https://gujaratmitra.in/chndrayaan-3-isro-indi...</td>\n",
       "      <td>2</td>\n",
       "      <td>&lt;title&gt;ચંદ્રયાન-3ની પ્રથમ ભ્રમણકક્ષા બદલાઇ, આટ...</td>\n",
       "      <td>{\"tag_sequence\": \"html&gt;head&gt;meta&gt;meta&gt;title\", ...</td>\n",
       "      <td>&lt;h1 class=\"post-title entry-title left\" itempr...</td>\n",
       "      <td>{\"tag_sequence\": \"html&gt;body&gt;div&gt;div&gt;div&gt;meta&gt;d...</td>\n",
       "      <td>nan</td>\n",
       "      <td>NaN</td>\n",
       "      <td>&lt;time class=\"post-date updated\" datetime=\"2023...</td>\n",
       "      <td>{\"tag_sequence\": \"html&gt;body&gt;div&gt;div&gt;div&gt;meta&gt;d...</td>\n",
       "      <td>[\"&lt;p&gt;નવી દિલ્હી: ભારતના (India) ત્રીજા મૂન મિશ...</td>\n",
       "      <td>[{\"tag_sequence\": \"html&gt;body&gt;div&gt;div&gt;div&gt;meta&gt;...</td>\n",
       "      <td>&lt;img alt=\"\" class=\"attachment- size- wp-post-i...</td>\n",
       "      <td>{\"tag_sequence\": \"html&gt;body&gt;div&gt;div&gt;div&gt;meta&gt;d...</td>\n",
       "      <td>NaN</td>\n",
       "      <td>NaN</td>\n",
       "      <td>[html, \\n, [\\n, [\\n,  Google tag (gtag.js) , \\...</td>\n",
       "    </tr>\n",
       "    <tr>\n",
       "      <th>3</th>\n",
       "      <td>https://gujaratmitra.in/samajwadiparty-azamkha...</td>\n",
       "      <td>3</td>\n",
       "      <td>&lt;title&gt;સપાના નેતા આઝમ ખાનને ભડકાઉ ભાષણનાં કેસમ...</td>\n",
       "      <td>{\"tag_sequence\": \"html&gt;head&gt;meta&gt;meta&gt;title\", ...</td>\n",
       "      <td>&lt;h1 class=\"post-title entry-title left\" itempr...</td>\n",
       "      <td>{\"tag_sequence\": \"html&gt;body&gt;div&gt;div&gt;div&gt;meta&gt;d...</td>\n",
       "      <td>nan</td>\n",
       "      <td>NaN</td>\n",
       "      <td>&lt;time class=\"post-date updated\" datetime=\"2023...</td>\n",
       "      <td>{\"tag_sequence\": \"html&gt;body&gt;div&gt;div&gt;div&gt;meta&gt;d...</td>\n",
       "      <td>[\"&lt;p&gt;નવી દિલ્હી: સપાના નેતા (Samajwadi party) ...</td>\n",
       "      <td>[{\"tag_sequence\": \"html&gt;body&gt;div&gt;div&gt;div&gt;meta&gt;...</td>\n",
       "      <td>&lt;img alt=\"\" class=\"attachment- size- wp-post-i...</td>\n",
       "      <td>{\"tag_sequence\": \"html&gt;body&gt;div&gt;div&gt;div&gt;meta&gt;d...</td>\n",
       "      <td>NaN</td>\n",
       "      <td>NaN</td>\n",
       "      <td>[html, \\n, [\\n, [\\n,  Google tag (gtag.js) , \\...</td>\n",
       "    </tr>\n",
       "    <tr>\n",
       "      <th>4</th>\n",
       "      <td>https://gujaratmitra.in/devotees-wearing-short...</td>\n",
       "      <td>4</td>\n",
       "      <td>&lt;title&gt;ડાકોરના મંદિરમાં ટુંકા વસ્ત્રો પહેરી આવ...</td>\n",
       "      <td>{\"tag_sequence\": \"html&gt;head&gt;meta&gt;meta&gt;title\", ...</td>\n",
       "      <td>&lt;h1 class=\"post-title entry-title left\" itempr...</td>\n",
       "      <td>{\"tag_sequence\": \"html&gt;body&gt;div&gt;div&gt;div&gt;meta&gt;d...</td>\n",
       "      <td>nan</td>\n",
       "      <td>NaN</td>\n",
       "      <td>&lt;time class=\"post-date updated\" datetime=\"2023...</td>\n",
       "      <td>{\"tag_sequence\": \"html&gt;body&gt;div&gt;div&gt;div&gt;meta&gt;d...</td>\n",
       "      <td>[\"&lt;p&gt;નડિયાદ: દ્વારકા (Dwarka) બાદ હવે ડાકોરના ...</td>\n",
       "      <td>[{\"tag_sequence\": \"html&gt;body&gt;div&gt;div&gt;div&gt;meta&gt;...</td>\n",
       "      <td>&lt;img alt=\"\" class=\"attachment- size- wp-post-i...</td>\n",
       "      <td>{\"tag_sequence\": \"html&gt;body&gt;div&gt;div&gt;div&gt;meta&gt;d...</td>\n",
       "      <td>NaN</td>\n",
       "      <td>NaN</td>\n",
       "      <td>[html, \\n, [\\n, [\\n,  Google tag (gtag.js) , \\...</td>\n",
       "    </tr>\n",
       "  </tbody>\n",
       "</table>\n",
       "</div>\n",
       "      <button class=\"colab-df-convert\" onclick=\"convertToInteractive('df-2c6953af-fee9-419f-942d-c18a5c219c22')\"\n",
       "              title=\"Convert this dataframe to an interactive table.\"\n",
       "              style=\"display:none;\">\n",
       "\n",
       "  <svg xmlns=\"http://www.w3.org/2000/svg\" height=\"24px\"viewBox=\"0 0 24 24\"\n",
       "       width=\"24px\">\n",
       "    <path d=\"M0 0h24v24H0V0z\" fill=\"none\"/>\n",
       "    <path d=\"M18.56 5.44l.94 2.06.94-2.06 2.06-.94-2.06-.94-.94-2.06-.94 2.06-2.06.94zm-11 1L8.5 8.5l.94-2.06 2.06-.94-2.06-.94L8.5 2.5l-.94 2.06-2.06.94zm10 10l.94 2.06.94-2.06 2.06-.94-2.06-.94-.94-2.06-.94 2.06-2.06.94z\"/><path d=\"M17.41 7.96l-1.37-1.37c-.4-.4-.92-.59-1.43-.59-.52 0-1.04.2-1.43.59L10.3 9.45l-7.72 7.72c-.78.78-.78 2.05 0 2.83L4 21.41c.39.39.9.59 1.41.59.51 0 1.02-.2 1.41-.59l7.78-7.78 2.81-2.81c.8-.78.8-2.07 0-2.86zM5.41 20L4 18.59l7.72-7.72 1.47 1.35L5.41 20z\"/>\n",
       "  </svg>\n",
       "      </button>\n",
       "\n",
       "\n",
       "\n",
       "    <div id=\"df-6de403b6-3a40-4a90-ad9c-4b0126754fa3\">\n",
       "      <button class=\"colab-df-quickchart\" onclick=\"quickchart('df-6de403b6-3a40-4a90-ad9c-4b0126754fa3')\"\n",
       "              title=\"Suggest charts.\"\n",
       "              style=\"display:none;\">\n",
       "\n",
       "<svg xmlns=\"http://www.w3.org/2000/svg\" height=\"24px\"viewBox=\"0 0 24 24\"\n",
       "     width=\"24px\">\n",
       "    <g>\n",
       "        <path d=\"M19 3H5c-1.1 0-2 .9-2 2v14c0 1.1.9 2 2 2h14c1.1 0 2-.9 2-2V5c0-1.1-.9-2-2-2zM9 17H7v-7h2v7zm4 0h-2V7h2v10zm4 0h-2v-4h2v4z\"/>\n",
       "    </g>\n",
       "</svg>\n",
       "      </button>\n",
       "    </div>\n",
       "\n",
       "<style>\n",
       "  .colab-df-quickchart {\n",
       "    background-color: #E8F0FE;\n",
       "    border: none;\n",
       "    border-radius: 50%;\n",
       "    cursor: pointer;\n",
       "    display: none;\n",
       "    fill: #1967D2;\n",
       "    height: 32px;\n",
       "    padding: 0 0 0 0;\n",
       "    width: 32px;\n",
       "  }\n",
       "\n",
       "  .colab-df-quickchart:hover {\n",
       "    background-color: #E2EBFA;\n",
       "    box-shadow: 0px 1px 2px rgba(60, 64, 67, 0.3), 0px 1px 3px 1px rgba(60, 64, 67, 0.15);\n",
       "    fill: #174EA6;\n",
       "  }\n",
       "\n",
       "  [theme=dark] .colab-df-quickchart {\n",
       "    background-color: #3B4455;\n",
       "    fill: #D2E3FC;\n",
       "  }\n",
       "\n",
       "  [theme=dark] .colab-df-quickchart:hover {\n",
       "    background-color: #434B5C;\n",
       "    box-shadow: 0px 1px 3px 1px rgba(0, 0, 0, 0.15);\n",
       "    filter: drop-shadow(0px 1px 2px rgba(0, 0, 0, 0.3));\n",
       "    fill: #FFFFFF;\n",
       "  }\n",
       "</style>\n",
       "\n",
       "    <script>\n",
       "      async function quickchart(key) {\n",
       "        const containerElement = document.querySelector('#' + key);\n",
       "        const charts = await google.colab.kernel.invokeFunction(\n",
       "            'suggestCharts', [key], {});\n",
       "      }\n",
       "    </script>\n",
       "\n",
       "      <script>\n",
       "\n",
       "function displayQuickchartButton(domScope) {\n",
       "  let quickchartButtonEl =\n",
       "    domScope.querySelector('#df-6de403b6-3a40-4a90-ad9c-4b0126754fa3 button.colab-df-quickchart');\n",
       "  quickchartButtonEl.style.display =\n",
       "    google.colab.kernel.accessAllowed ? 'block' : 'none';\n",
       "}\n",
       "\n",
       "        displayQuickchartButton(document);\n",
       "      </script>\n",
       "      <style>\n",
       "    .colab-df-container {\n",
       "      display:flex;\n",
       "      flex-wrap:wrap;\n",
       "      gap: 12px;\n",
       "    }\n",
       "\n",
       "    .colab-df-convert {\n",
       "      background-color: #E8F0FE;\n",
       "      border: none;\n",
       "      border-radius: 50%;\n",
       "      cursor: pointer;\n",
       "      display: none;\n",
       "      fill: #1967D2;\n",
       "      height: 32px;\n",
       "      padding: 0 0 0 0;\n",
       "      width: 32px;\n",
       "    }\n",
       "\n",
       "    .colab-df-convert:hover {\n",
       "      background-color: #E2EBFA;\n",
       "      box-shadow: 0px 1px 2px rgba(60, 64, 67, 0.3), 0px 1px 3px 1px rgba(60, 64, 67, 0.15);\n",
       "      fill: #174EA6;\n",
       "    }\n",
       "\n",
       "    [theme=dark] .colab-df-convert {\n",
       "      background-color: #3B4455;\n",
       "      fill: #D2E3FC;\n",
       "    }\n",
       "\n",
       "    [theme=dark] .colab-df-convert:hover {\n",
       "      background-color: #434B5C;\n",
       "      box-shadow: 0px 1px 3px 1px rgba(0, 0, 0, 0.15);\n",
       "      filter: drop-shadow(0px 1px 2px rgba(0, 0, 0, 0.3));\n",
       "      fill: #FFFFFF;\n",
       "    }\n",
       "  </style>\n",
       "\n",
       "      <script>\n",
       "        const buttonEl =\n",
       "          document.querySelector('#df-2c6953af-fee9-419f-942d-c18a5c219c22 button.colab-df-convert');\n",
       "        buttonEl.style.display =\n",
       "          google.colab.kernel.accessAllowed ? 'block' : 'none';\n",
       "\n",
       "        async function convertToInteractive(key) {\n",
       "          const element = document.querySelector('#df-2c6953af-fee9-419f-942d-c18a5c219c22');\n",
       "          const dataTable =\n",
       "            await google.colab.kernel.invokeFunction('convertToInteractive',\n",
       "                                                     [key], {});\n",
       "          if (!dataTable) return;\n",
       "\n",
       "          const docLinkHtml = 'Like what you see? Visit the ' +\n",
       "            '<a target=\"_blank\" href=https://colab.research.google.com/notebooks/data_table.ipynb>data table notebook</a>'\n",
       "            + ' to learn more about interactive tables.';\n",
       "          element.innerHTML = '';\n",
       "          dataTable['output_type'] = 'display_data';\n",
       "          await google.colab.output.renderOutput(dataTable, element);\n",
       "          const docLink = document.createElement('div');\n",
       "          docLink.innerHTML = docLinkHtml;\n",
       "          element.appendChild(docLink);\n",
       "        }\n",
       "      </script>\n",
       "    </div>\n",
       "  </div>\n"
      ],
      "text/plain": [
       "                                                 url  sample_id  \\\n",
       "0  https://gujaratmitra.in/rahulgandhi-modi-surna...          0   \n",
       "1  https://gujaratmitra.in/ravichandran-ashwins-b...          1   \n",
       "2  https://gujaratmitra.in/chndrayaan-3-isro-indi...          2   \n",
       "3  https://gujaratmitra.in/samajwadiparty-azamkha...          3   \n",
       "4  https://gujaratmitra.in/devotees-wearing-short...          4   \n",
       "\n",
       "                                               title  \\\n",
       "0  <title>મોદી સરનેમ કેસ: રાહુલ ગાંધીએ હાઇકોર્ટના...   \n",
       "1  <title>આ ખેલાડી પર ભરોસો નહીં કરવાનો રોહિતને ર...   \n",
       "2  <title>ચંદ્રયાન-3ની પ્રથમ ભ્રમણકક્ષા બદલાઇ, આટ...   \n",
       "3  <title>સપાના નેતા આઝમ ખાનને ભડકાઉ ભાષણનાં કેસમ...   \n",
       "4  <title>ડાકોરના મંદિરમાં ટુંકા વસ્ત્રો પહેરી આવ...   \n",
       "\n",
       "                                      title_features  \\\n",
       "0  {\"tag_sequence\": \"html>head>meta>meta>title\", ...   \n",
       "1  {\"tag_sequence\": \"html>head>meta>meta>title\", ...   \n",
       "2  {\"tag_sequence\": \"html>head>meta>meta>title\", ...   \n",
       "3  {\"tag_sequence\": \"html>head>meta>meta>title\", ...   \n",
       "4  {\"tag_sequence\": \"html>head>meta>meta>title\", ...   \n",
       "\n",
       "                                            headline  \\\n",
       "0  <h1 class=\"post-title entry-title left\" itempr...   \n",
       "1  <h1 class=\"post-title entry-title left\" itempr...   \n",
       "2  <h1 class=\"post-title entry-title left\" itempr...   \n",
       "3  <h1 class=\"post-title entry-title left\" itempr...   \n",
       "4  <h1 class=\"post-title entry-title left\" itempr...   \n",
       "\n",
       "                                   headline_features category  \\\n",
       "0  {\"tag_sequence\": \"html>body>div>div>div>meta>d...      nan   \n",
       "1  {\"tag_sequence\": \"html>body>div>div>div>meta>d...      nan   \n",
       "2  {\"tag_sequence\": \"html>body>div>div>div>meta>d...      nan   \n",
       "3  {\"tag_sequence\": \"html>body>div>div>div>meta>d...      nan   \n",
       "4  {\"tag_sequence\": \"html>body>div>div>div>meta>d...      nan   \n",
       "\n",
       "   category_features                                       publish_date  \\\n",
       "0                NaN  <time class=\"post-date updated\" datetime=\"2023...   \n",
       "1                NaN  <time class=\"post-date updated\" datetime=\"2023...   \n",
       "2                NaN  <time class=\"post-date updated\" datetime=\"2023...   \n",
       "3                NaN  <time class=\"post-date updated\" datetime=\"2023...   \n",
       "4                NaN  <time class=\"post-date updated\" datetime=\"2023...   \n",
       "\n",
       "                               publish_date_features  \\\n",
       "0  {\"tag_sequence\": \"html>body>div>div>div>meta>d...   \n",
       "1  {\"tag_sequence\": \"html>body>div>div>div>meta>d...   \n",
       "2  {\"tag_sequence\": \"html>body>div>div>div>meta>d...   \n",
       "3  {\"tag_sequence\": \"html>body>div>div>div>meta>d...   \n",
       "4  {\"tag_sequence\": \"html>body>div>div>div>meta>d...   \n",
       "\n",
       "                                             article  \\\n",
       "0  [\"<p>નવી દિલ્હી: કોંગ્રેસ (Congress) નેતા રાહુ...   \n",
       "1  [\"<p>નવી દિલ્હી: વેસ્ટ ઈન્ડિઝના (West Indies) ...   \n",
       "2  [\"<p>નવી દિલ્હી: ભારતના (India) ત્રીજા મૂન મિશ...   \n",
       "3  [\"<p>નવી દિલ્હી: સપાના નેતા (Samajwadi party) ...   \n",
       "4  [\"<p>નડિયાદ: દ્વારકા (Dwarka) બાદ હવે ડાકોરના ...   \n",
       "\n",
       "                                    article_features  \\\n",
       "0  [{\"tag_sequence\": \"html>body>div>div>div>meta>...   \n",
       "1  [{\"tag_sequence\": \"html>body>div>div>div>meta>...   \n",
       "2  [{\"tag_sequence\": \"html>body>div>div>div>meta>...   \n",
       "3  [{\"tag_sequence\": \"html>body>div>div>div>meta>...   \n",
       "4  [{\"tag_sequence\": \"html>body>div>div>div>meta>...   \n",
       "\n",
       "                                              images  \\\n",
       "0  <img alt=\"\" class=\"attachment- size- wp-post-i...   \n",
       "1  <img alt=\"\" class=\"attachment- size- wp-post-i...   \n",
       "2  <img alt=\"\" class=\"attachment- size- wp-post-i...   \n",
       "3  <img alt=\"\" class=\"attachment- size- wp-post-i...   \n",
       "4  <img alt=\"\" class=\"attachment- size- wp-post-i...   \n",
       "\n",
       "                                     images_features  tags  tags_features  \\\n",
       "0  {\"tag_sequence\": \"html>body>div>div>div>meta>d...   NaN            NaN   \n",
       "1  {\"tag_sequence\": \"html>body>div>div>div>meta>d...   NaN            NaN   \n",
       "2  {\"tag_sequence\": \"html>body>div>div>div>meta>d...   NaN            NaN   \n",
       "3  {\"tag_sequence\": \"html>body>div>div>div>meta>d...   NaN            NaN   \n",
       "4  {\"tag_sequence\": \"html>body>div>div>div>meta>d...   NaN            NaN   \n",
       "\n",
       "                                              source  \n",
       "0  [html, \\n, [\\n, [\\n,  Google tag (gtag.js) , \\...  \n",
       "1  [html, \\n, [\\n, [\\n,  Google tag (gtag.js) , \\...  \n",
       "2  [html, \\n, [\\n, [\\n,  Google tag (gtag.js) , \\...  \n",
       "3  [html, \\n, [\\n, [\\n,  Google tag (gtag.js) , \\...  \n",
       "4  [html, \\n, [\\n, [\\n,  Google tag (gtag.js) , \\...  "
      ]
     },
     "execution_count": 40,
     "metadata": {},
     "output_type": "execute_result"
    }
   ],
   "source": [
    "df.head()"
   ]
  },
  {
   "cell_type": "code",
   "execution_count": null,
   "id": "XNJcFd7QMKXA",
   "metadata": {
    "id": "XNJcFd7QMKXA",
    "papermill": {
     "duration": 0.120178,
     "end_time": "2023-03-04T20:36:00.632504",
     "exception": false,
     "start_time": "2023-03-04T20:36:00.512326",
     "status": "completed"
    },
    "tags": []
   },
   "outputs": [],
   "source": [
    "# df.info()"
   ]
  },
  {
   "cell_type": "code",
   "execution_count": null,
   "id": "Ys5bFs_eMKXC",
   "metadata": {
    "id": "Ys5bFs_eMKXC",
    "papermill": {
     "duration": 0.102037,
     "end_time": "2023-03-04T20:36:00.851921",
     "exception": false,
     "start_time": "2023-03-04T20:36:00.749884",
     "status": "completed"
    },
    "tags": []
   },
   "outputs": [],
   "source": [
    "misc_df.head()"
   ]
  },
  {
   "cell_type": "code",
   "execution_count": null,
   "id": "QJvxg-GsMKXD",
   "metadata": {
    "id": "QJvxg-GsMKXD",
    "papermill": {
     "duration": 0.109288,
     "end_time": "2023-03-04T20:36:01.050505",
     "exception": false,
     "start_time": "2023-03-04T20:36:00.941217",
     "status": "completed"
    },
    "tags": []
   },
   "outputs": [],
   "source": [
    "misc_df.info()"
   ]
  },
  {
   "cell_type": "markdown",
   "id": "so6ydlN_MKXE",
   "metadata": {
    "id": "so6ydlN_MKXE",
    "papermill": {
     "duration": 0.090891,
     "end_time": "2023-03-04T20:36:01.234780",
     "exception": false,
     "start_time": "2023-03-04T20:36:01.143889",
     "status": "completed"
    },
    "tags": []
   },
   "source": [
    "## Rough"
   ]
  },
  {
   "cell_type": "code",
   "execution_count": null,
   "id": "xZB8cDCUMKXF",
   "metadata": {
    "id": "xZB8cDCUMKXF",
    "papermill": {
     "duration": 0.113563,
     "end_time": "2023-03-04T20:36:01.442960",
     "exception": false,
     "start_time": "2023-03-04T20:36:01.329397",
     "status": "completed"
    },
    "tags": []
   },
   "outputs": [],
   "source": [
    "# index = 2\n",
    "# url = out_df['url'][index]\n",
    "# sample_id = out_df['sample_id'][index]\n",
    "# print(\"Sample ID: \", sample_id, \"\\tURL: \", url)"
   ]
  },
  {
   "cell_type": "code",
   "execution_count": null,
   "id": "Ok_GbOZWMKXG",
   "metadata": {
    "id": "Ok_GbOZWMKXG",
    "papermill": {
     "duration": 0.102145,
     "end_time": "2023-03-04T20:36:01.638459",
     "exception": false,
     "start_time": "2023-03-04T20:36:01.536314",
     "status": "completed"
    },
    "tags": []
   },
   "outputs": [],
   "source": [
    "# print(\"Extracting the contents from the source\")\n",
    "# article = {}\n",
    "# response = requests.get(url)\n",
    "# if response.status_code==200:\n",
    "#     driver.get(url)\n",
    "#     article = scrape_news_contents(response.content, url, sample_id, driver)\n",
    "# else:\n",
    "#     print(\"Status Code: \", response.status_code)"
   ]
  },
  {
   "cell_type": "code",
   "execution_count": null,
   "id": "CdQHt_E6MKXH",
   "metadata": {
    "id": "CdQHt_E6MKXH",
    "papermill": {
     "duration": 0.099755,
     "end_time": "2023-03-04T20:36:01.828035",
     "exception": false,
     "start_time": "2023-03-04T20:36:01.728280",
     "status": "completed"
    },
    "tags": []
   },
   "outputs": [],
   "source": [
    "# column_names = list(article.keys())\n",
    "# column_names"
   ]
  },
  {
   "cell_type": "code",
   "execution_count": null,
   "id": "L8En5xrKMKXJ",
   "metadata": {
    "id": "L8En5xrKMKXJ",
    "papermill": {
     "duration": 0.101518,
     "end_time": "2023-03-04T20:36:02.020907",
     "exception": false,
     "start_time": "2023-03-04T20:36:01.919389",
     "status": "completed"
    },
    "tags": []
   },
   "outputs": [],
   "source": [
    "# df = pd.DataFrame(data=[article], columns = column_names)\n",
    "# df.shape"
   ]
  },
  {
   "cell_type": "code",
   "execution_count": null,
   "id": "AHEtafUBMKXK",
   "metadata": {
    "id": "AHEtafUBMKXK",
    "papermill": {
     "duration": 0.102675,
     "end_time": "2023-03-04T20:36:02.215229",
     "exception": false,
     "start_time": "2023-03-04T20:36:02.112554",
     "status": "completed"
    },
    "tags": []
   },
   "outputs": [],
   "source": [
    "# df.head()"
   ]
  },
  {
   "cell_type": "code",
   "execution_count": null,
   "id": "VR610Y9wMKXN",
   "metadata": {
    "id": "VR610Y9wMKXN",
    "papermill": {
     "duration": 0.09038,
     "end_time": "2023-03-04T20:36:02.396540",
     "exception": false,
     "start_time": "2023-03-04T20:36:02.306160",
     "status": "completed"
    },
    "tags": []
   },
   "outputs": [],
   "source": []
  }
 ],
 "metadata": {
  "colab": {
   "provenance": []
  },
  "kernelspec": {
   "display_name": "Python 3 (ipykernel)",
   "language": "python",
   "name": "python3"
  },
  "language_info": {
   "codemirror_mode": {
    "name": "ipython",
    "version": 3
   },
   "file_extension": ".py",
   "mimetype": "text/x-python",
   "name": "python",
   "nbconvert_exporter": "python",
   "pygments_lexer": "ipython3",
   "version": "3.9.13"
  },
  "papermill": {
   "default_parameters": {},
   "duration": 18823.062061,
   "end_time": "2023-03-04T20:36:05.150203",
   "environment_variables": {},
   "exception": null,
   "input_path": "__notebook__.ipynb",
   "output_path": "__notebook__.ipynb",
   "parameters": {},
   "start_time": "2023-03-04T15:22:22.088142",
   "version": "2.4.0"
  }
 },
 "nbformat": 4,
 "nbformat_minor": 5
}
