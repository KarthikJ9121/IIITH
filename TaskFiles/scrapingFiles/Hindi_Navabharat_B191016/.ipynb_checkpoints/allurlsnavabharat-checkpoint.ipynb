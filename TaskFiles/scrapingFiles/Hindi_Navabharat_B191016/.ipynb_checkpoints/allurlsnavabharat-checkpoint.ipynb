{
 "cells": [
  {
   "cell_type": "code",
   "execution_count": 2,
   "metadata": {
    "_cell_guid": "b1076dfc-b9ad-4769-8c92-a6c4dae69d19",
    "_uuid": "8f2839f25d086af736a60e9eeb907d3b93b6e0e5",
    "execution": {
     "iopub.execute_input": "2023-07-12T12:09:48.013620Z",
     "iopub.status.busy": "2023-07-12T12:09:48.013223Z",
     "iopub.status.idle": "2023-07-12T12:10:16.177223Z",
     "shell.execute_reply": "2023-07-12T12:10:16.176023Z",
     "shell.execute_reply.started": "2023-07-12T12:09:48.013586Z"
    }
   },
   "outputs": [
    {
     "name": "stdout",
     "output_type": "stream",
     "text": [
      "--2023-07-12 12:09:49--  https://dl.google.com/linux/linux_signing_key.pub\n",
      "Resolving dl.google.com (dl.google.com)... 64.233.187.93, 64.233.187.136, 64.233.187.91, ...\n",
      "Connecting to dl.google.com (dl.google.com)|64.233.187.93|:443... connected.\n",
      "HTTP request sent, awaiting response... 200 OK\n",
      "Length: 14605 (14K) [application/octet-stream]\n",
      "Saving to: ‘linux_signing_key.pub’\n",
      "\n",
      "linux_signing_key.p 100%[===================>]  14.26K  --.-KB/s    in 0s      \n",
      "\n",
      "2023-07-12 12:09:49 (39.6 MB/s) - ‘linux_signing_key.pub’ saved [14605/14605]\n",
      "\n",
      "OK\n",
      "Get:1 http://packages.cloud.google.com/apt gcsfuse-focal InRelease [5002 B]\n",
      "Get:2 http://dl.google.com/linux/chrome/deb stable InRelease [1825 B]\n",
      "Get:3 https://packages.cloud.google.com/apt cloud-sdk InRelease [6361 B]       \n",
      "Get:4 http://dl.google.com/linux/chrome/deb stable/main amd64 Packages [1079 B]\n",
      "Get:5 http://security.ubuntu.com/ubuntu focal-security InRelease [114 kB]     \n",
      "Hit:6 http://archive.ubuntu.com/ubuntu focal InRelease   \n",
      "Get:7 https://packages.cloud.google.com/apt cloud-sdk/main amd64 Packages [478 kB]\n",
      "Get:8 http://archive.ubuntu.com/ubuntu focal-updates InRelease [114 kB]        \n",
      "Get:9 http://security.ubuntu.com/ubuntu focal-security/main amd64 Packages [2866 kB]\n",
      "Get:10 http://archive.ubuntu.com/ubuntu focal-backports InRelease [108 kB]\n",
      "Get:11 http://archive.ubuntu.com/ubuntu focal-updates/main amd64 Packages [3347 kB]\n",
      "Get:12 http://security.ubuntu.com/ubuntu focal-security/universe amd64 Packages [1070 kB]\n",
      "Get:13 http://archive.ubuntu.com/ubuntu focal-updates/universe amd64 Packages [1369 kB]\n",
      "Fetched 9480 kB in 3s (2756 kB/s)                       \n",
      "Reading package lists... Done\n",
      "Reading package lists... Done\n",
      "Building dependency tree       \n",
      "Reading state information... Done\n",
      "The following additional packages will be installed:\n",
      "  libgbm1 libu2f-udev libwayland-server0\n",
      "The following NEW packages will be installed:\n",
      "  google-chrome-stable libgbm1 libu2f-udev libwayland-server0\n",
      "0 upgraded, 4 newly installed, 0 to remove and 6 not upgraded.\n",
      "Need to get 94.4 MB of archives.\n",
      "After this operation, 322 MB of additional disk space will be used.\n",
      "Get:1 http://dl.google.com/linux/chrome/deb stable/main amd64 google-chrome-stable amd64 114.0.5735.198-1 [94.3 MB]\n",
      "Get:2 http://archive.ubuntu.com/ubuntu focal-updates/main amd64 libwayland-server0 amd64 1.18.0-1ubuntu0.1 [31.3 kB]\n",
      "Get:3 http://archive.ubuntu.com/ubuntu focal-updates/main amd64 libgbm1 amd64 21.2.6-0ubuntu0.1~20.04.2 [29.2 kB]\n",
      "Get:4 http://archive.ubuntu.com/ubuntu focal/main amd64 libu2f-udev all 1.1.10-1 [6108 B]\n",
      "Fetched 94.4 MB in 1s (80.0 MB/s)                                              \n",
      "Selecting previously unselected package libwayland-server0:amd64.\n",
      "(Reading database ... 108206 files and directories currently installed.)\n",
      "Preparing to unpack .../libwayland-server0_1.18.0-1ubuntu0.1_amd64.deb ...\n",
      "Unpacking libwayland-server0:amd64 (1.18.0-1ubuntu0.1) ...\n",
      "Selecting previously unselected package libgbm1:amd64.\n",
      "Preparing to unpack .../libgbm1_21.2.6-0ubuntu0.1~20.04.2_amd64.deb ...\n",
      "Unpacking libgbm1:amd64 (21.2.6-0ubuntu0.1~20.04.2) ...\n",
      "Selecting previously unselected package libu2f-udev.\n",
      "Preparing to unpack .../libu2f-udev_1.1.10-1_all.deb ...\n",
      "Unpacking libu2f-udev (1.1.10-1) ...\n",
      "Selecting previously unselected package google-chrome-stable.\n",
      "Preparing to unpack .../google-chrome-stable_114.0.5735.198-1_amd64.deb ...\n",
      "Unpacking google-chrome-stable (114.0.5735.198-1) ...\n",
      "Setting up libwayland-server0:amd64 (1.18.0-1ubuntu0.1) ...\n",
      "Setting up libgbm1:amd64 (21.2.6-0ubuntu0.1~20.04.2) ...\n",
      "Setting up libu2f-udev (1.1.10-1) ...\n",
      "Failed to send reload request: No such file or directory\n",
      "Setting up google-chrome-stable (114.0.5735.198-1) ...\n",
      "update-alternatives: using /usr/bin/google-chrome-stable to provide /usr/bin/x-www-browser (x-www-browser) in auto mode\n",
      "update-alternatives: using /usr/bin/google-chrome-stable to provide /usr/bin/gnome-www-browser (gnome-www-browser) in auto mode\n",
      "update-alternatives: using /usr/bin/google-chrome-stable to provide /usr/bin/google-chrome (google-chrome) in auto mode\n",
      "Processing triggers for libc-bin (2.31-0ubuntu9.9) ...\n",
      "Processing triggers for man-db (2.9.1-1) ...\n",
      "Processing triggers for mime-support (3.64ubuntu1) ...\n"
     ]
    }
   ],
   "source": [
    "# install google chrome\n",
    "!wget https://dl.google.com/linux/linux_signing_key.pub\n",
    "!sudo apt-key add linux_signing_key.pub\n",
    "!echo 'deb [arch=amd64] http://dl.google.com/linux/chrome/deb/ stable main' >> /etc/apt/sources.list.d/google-chrome.list\n",
    "!sudo apt-get -y update\n",
    "!sudo apt-get install -y google-chrome-stable"
   ]
  },
  {
   "cell_type": "code",
   "execution_count": 3,
   "metadata": {
    "execution": {
     "iopub.execute_input": "2023-07-12T12:10:16.179744Z",
     "iopub.status.busy": "2023-07-12T12:10:16.179103Z",
     "iopub.status.idle": "2023-07-12T12:10:19.969162Z",
     "shell.execute_reply": "2023-07-12T12:10:19.966904Z",
     "shell.execute_reply.started": "2023-07-12T12:10:16.179599Z"
    }
   },
   "outputs": [
    {
     "name": "stdout",
     "output_type": "stream",
     "text": [
      "curl: /opt/conda/lib/libcurl.so.4: no version information available (required by curl)\n",
      "--2023-07-12 12:10:17--  http://chromedriver.storage.googleapis.com/114.0.5735.90/chromedriver_linux64.zip\n",
      "Resolving chromedriver.storage.googleapis.com (chromedriver.storage.googleapis.com)... 64.233.187.128, 2404:6800:4008:c05::80\n",
      "Connecting to chromedriver.storage.googleapis.com (chromedriver.storage.googleapis.com)|64.233.187.128|:80... connected.\n",
      "HTTP request sent, awaiting response... 200 OK\n",
      "Length: 7407250 (7.1M) [application/zip]\n",
      "Saving to: ‘/tmp/chromedriver.zip’\n",
      "\n",
      "/tmp/chromedriver.z 100%[===================>]   7.06M  7.08MB/s    in 1.0s    \n",
      "\n",
      "2023-07-12 12:10:18 (7.08 MB/s) - ‘/tmp/chromedriver.zip’ saved [7407250/7407250]\n",
      "\n",
      "Archive:  /tmp/chromedriver.zip\n",
      "  inflating: /usr/local/bin/chromedriver  \n"
     ]
    }
   ],
   "source": [
    "# install chromedriver\n",
    "# !apt-get install -y qq unzip\n",
    "!wget -O /tmp/chromedriver.zip http://chromedriver.storage.googleapis.com/`curl -sS chromedriver.storage.googleapis.com/LATEST_RELEASE`/chromedriver_linux64.zip\n",
    "!unzip /tmp/chromedriver.zip chromedriver -d /usr/local/bin/"
   ]
  },
  {
   "cell_type": "code",
   "execution_count": 4,
   "metadata": {
    "execution": {
     "iopub.execute_input": "2023-07-12T12:10:19.975395Z",
     "iopub.status.busy": "2023-07-12T12:10:19.974354Z",
     "iopub.status.idle": "2023-07-12T12:10:39.088182Z",
     "shell.execute_reply": "2023-07-12T12:10:39.086327Z",
     "shell.execute_reply.started": "2023-07-12T12:10:19.975350Z"
    }
   },
   "outputs": [
    {
     "name": "stdout",
     "output_type": "stream",
     "text": [
      "Reading package lists... Done\n",
      "Building dependency tree       \n",
      "Reading state information... Done\n",
      "python3-selenium is already the newest version (4.0.0~a1+dfsg1-1.1).\n",
      "0 upgraded, 0 newly installed, 0 to remove and 6 not upgraded.\n"
     ]
    }
   ],
   "source": [
    "# install selenium\n",
    "!sudo apt install -y python3-selenium\n",
    "!pip install selenium > /dev/null"
   ]
  },
  {
   "cell_type": "code",
   "execution_count": 5,
   "metadata": {
    "execution": {
     "iopub.execute_input": "2023-07-12T12:10:39.090473Z",
     "iopub.status.busy": "2023-07-12T12:10:39.090100Z",
     "iopub.status.idle": "2023-07-12T12:10:40.383498Z",
     "shell.execute_reply": "2023-07-12T12:10:40.381669Z",
     "shell.execute_reply.started": "2023-07-12T12:10:39.090442Z"
    }
   },
   "outputs": [
    {
     "name": "stdout",
     "output_type": "stream",
     "text": [
      "Google Chrome 114.0.5735.198 \n"
     ]
    }
   ],
   "source": [
    "# To check Google Chrome's version\n",
    "!google-chrome --version"
   ]
  },
  {
   "cell_type": "code",
   "execution_count": 6,
   "metadata": {
    "execution": {
     "iopub.execute_input": "2023-07-12T12:10:40.386948Z",
     "iopub.status.busy": "2023-07-12T12:10:40.386323Z",
     "iopub.status.idle": "2023-07-12T12:10:41.554671Z",
     "shell.execute_reply": "2023-07-12T12:10:41.552338Z",
     "shell.execute_reply.started": "2023-07-12T12:10:40.386889Z"
    }
   },
   "outputs": [
    {
     "name": "stdout",
     "output_type": "stream",
     "text": [
      "Google Chrome 114.0.5735.198 \n"
     ]
    }
   ],
   "source": [
    "# To check Google Chrome's version\n",
    "!google-chrome --version"
   ]
  },
  {
   "cell_type": "code",
   "execution_count": 7,
   "metadata": {
    "execution": {
     "iopub.execute_input": "2023-07-12T12:10:41.559230Z",
     "iopub.status.busy": "2023-07-12T12:10:41.557940Z",
     "iopub.status.idle": "2023-07-12T12:10:41.608966Z",
     "shell.execute_reply": "2023-07-12T12:10:41.607546Z",
     "shell.execute_reply.started": "2023-07-12T12:10:41.559184Z"
    }
   },
   "outputs": [],
   "source": [
    "from selenium import webdriver\n",
    "from selenium.webdriver.common.by import By\n",
    "# from selenium.webdriver.chrome.service import Service\n",
    "# from webdriver_manager.chrome import ChromeDriverManager\n",
    "# from selenium.webdriver.chrome.options import Options\n",
    "\n",
    "chrome_options = webdriver.ChromeOptions()\n",
    "\n",
    "chrome_options.add_argument('--headless')\n",
    "chrome_options.add_argument('--no-sandbox')\n",
    "chrome_options.add_argument('--disable-dev-shm-usage')\n",
    "chrome_options.add_argument('--disable-gpu')\n",
    "# chrome_options.add_argument(\"--window-size=1920,1080\")"
   ]
  },
  {
   "cell_type": "code",
   "execution_count": 8,
   "metadata": {
    "execution": {
     "iopub.execute_input": "2023-07-12T12:10:41.611717Z",
     "iopub.status.busy": "2023-07-12T12:10:41.610925Z",
     "iopub.status.idle": "2023-07-12T12:10:41.854922Z",
     "shell.execute_reply": "2023-07-12T12:10:41.853451Z",
     "shell.execute_reply.started": "2023-07-12T12:10:41.611674Z"
    }
   },
   "outputs": [],
   "source": [
    "import requests\n",
    "import json\n",
    "import pandas as pd\n",
    "import numpy as np\n",
    "import re\n",
    "\n",
    "from tqdm import tqdm\n",
    "from bs4 import BeautifulSoup"
   ]
  },
  {
   "cell_type": "code",
   "execution_count": 9,
   "metadata": {
    "execution": {
     "iopub.execute_input": "2023-07-12T12:10:41.857014Z",
     "iopub.status.busy": "2023-07-12T12:10:41.856104Z",
     "iopub.status.idle": "2023-07-12T12:10:50.900915Z",
     "shell.execute_reply": "2023-07-12T12:10:50.898845Z",
     "shell.execute_reply.started": "2023-07-12T12:10:41.856975Z"
    }
   },
   "outputs": [],
   "source": [
    "driver=webdriver.Chrome(options=chrome_options)\n",
    "driver.get(\"https://www.navabharat.com/\")"
   ]
  },
  {
   "cell_type": "code",
   "execution_count": 10,
   "metadata": {
    "execution": {
     "iopub.execute_input": "2023-07-12T12:10:50.904301Z",
     "iopub.status.busy": "2023-07-12T12:10:50.903601Z",
     "iopub.status.idle": "2023-07-12T12:10:55.877154Z",
     "shell.execute_reply": "2023-07-12T12:10:55.875842Z",
     "shell.execute_reply.started": "2023-07-12T12:10:50.904239Z"
    }
   },
   "outputs": [
    {
     "data": {
      "text/plain": [
       "[<li class=\"menu-item menu-item-type-custom menu-item-object-custom menu-item-1416\" id=\"menu-item-1416\"><a href=\"https://navabharat.com/\">होम</a></li>,\n",
       " <li class=\"menu-item menu-item-type-taxonomy menu-item-object-category menu-item-33\" id=\"menu-item-33\"><a href=\"https://www.navabharat.com/nbwp/?cat=13\">विशेष</a></li>,\n",
       " <li class=\"menu-item menu-item-type-taxonomy menu-item-object-category menu-item-16\" id=\"menu-item-16\"><a href=\"https://www.navabharat.com/nbwp/?cat=3\">भोपाल एवं मध्य</a></li>,\n",
       " <li class=\"menu-item menu-item-type-taxonomy menu-item-object-category menu-item-11\" id=\"menu-item-11\"><a href=\"https://www.navabharat.com/nbwp/?cat=10\">इंदौर एवं मालवा</a></li>,\n",
       " <li class=\"menu-item menu-item-type-taxonomy menu-item-object-category menu-item-14\" id=\"menu-item-14\"><a href=\"https://www.navabharat.com/nbwp/?cat=11\">जबलपुर एवं महाकोशल</a></li>,\n",
       " <li class=\"menu-item menu-item-type-taxonomy menu-item-object-category menu-item-13\" id=\"menu-item-13\"><a href=\"https://www.navabharat.com/nbwp/?cat=4\">ग्वालियर एवं चंबल</a></li>,\n",
       " <li class=\"menu-item menu-item-type-taxonomy menu-item-object-category menu-item-20\" id=\"menu-item-20\"><a href=\"https://www.navabharat.com/nbwp/?cat=12\">सतना एवं विंध्य</a></li>,\n",
       " <li class=\"menu-item menu-item-type-taxonomy menu-item-object-category menu-item-15\" id=\"menu-item-15\"><a href=\"https://www.navabharat.com/nbwp/?cat=6\">देश</a></li>,\n",
       " <li class=\"menu-item menu-item-type-taxonomy menu-item-object-category menu-item-18\" id=\"menu-item-18\"><a href=\"https://www.navabharat.com/nbwp/?cat=7\">विदेश</a></li>,\n",
       " <li class=\"menu-item menu-item-type-taxonomy menu-item-object-category menu-item-12\" id=\"menu-item-12\"><a href=\"https://www.navabharat.com/nbwp/?cat=8\">खेल</a></li>,\n",
       " <li class=\"menu-item menu-item-type-taxonomy menu-item-object-category menu-item-19\" id=\"menu-item-19\"><a href=\"https://www.navabharat.com/nbwp/?cat=5\">व्यापार</a></li>,\n",
       " <li class=\"menu-item menu-item-type-taxonomy menu-item-object-category menu-item-17\" id=\"menu-item-17\"><a href=\"https://www.navabharat.com/nbwp/?cat=9\">मनोरंजन</a></li>,\n",
       " <li class=\"menu-item menu-item-type-custom menu-item-object-custom menu-item-34\" id=\"menu-item-34\"><a href=\"https://navabharat.com/epaper/\">ई-पेपर</a></li>,\n",
       " <li class=\"menu-item menu-item-type-post_type menu-item-object-page menu-item-32\" id=\"menu-item-32\"><a href=\"https://www.navabharat.com/nbwp/?page_id=2\">संपर्क</a></li>]"
      ]
     },
     "execution_count": 10,
     "metadata": {},
     "output_type": "execute_result"
    }
   ],
   "source": [
    "response = requests.get(\"https://www.navabharat.com\").content\n",
    "soup = BeautifulSoup(response, \"html.parser\")\n",
    "navLinks=[]\n",
    "lists_div=soup.find('ul',attrs={'class':'menu'})\n",
    "lists=lists_div.find_all(\"li\")\n",
    "# list_div\n",
    "lists\n",
    "\n"
   ]
  },
  {
   "cell_type": "code",
   "execution_count": 11,
   "metadata": {
    "execution": {
     "iopub.execute_input": "2023-07-12T12:10:55.882362Z",
     "iopub.status.busy": "2023-07-12T12:10:55.881494Z",
     "iopub.status.idle": "2023-07-12T12:10:55.889851Z",
     "shell.execute_reply": "2023-07-12T12:10:55.888448Z",
     "shell.execute_reply.started": "2023-07-12T12:10:55.882321Z"
    }
   },
   "outputs": [
    {
     "name": "stdout",
     "output_type": "stream",
     "text": [
      "https://navabharat.com/\n",
      "https://www.navabharat.com/nbwp/?cat=13\n",
      "https://www.navabharat.com/nbwp/?cat=3\n",
      "https://www.navabharat.com/nbwp/?cat=10\n",
      "https://www.navabharat.com/nbwp/?cat=11\n",
      "https://www.navabharat.com/nbwp/?cat=4\n",
      "https://www.navabharat.com/nbwp/?cat=12\n",
      "https://www.navabharat.com/nbwp/?cat=6\n",
      "https://www.navabharat.com/nbwp/?cat=7\n",
      "https://www.navabharat.com/nbwp/?cat=8\n",
      "https://www.navabharat.com/nbwp/?cat=5\n",
      "https://www.navabharat.com/nbwp/?cat=9\n",
      "https://navabharat.com/epaper/\n",
      "https://www.navabharat.com/nbwp/?page_id=2\n"
     ]
    }
   ],
   "source": [
    "for link in lists:\n",
    "  anchor=link.find('a')\n",
    "  print(anchor.get('href'))"
   ]
  },
  {
   "cell_type": "code",
   "execution_count": 12,
   "metadata": {
    "execution": {
     "iopub.execute_input": "2023-07-12T12:10:55.893265Z",
     "iopub.status.busy": "2023-07-12T12:10:55.892091Z",
     "iopub.status.idle": "2023-07-12T12:10:55.906589Z",
     "shell.execute_reply": "2023-07-12T12:10:55.904976Z",
     "shell.execute_reply.started": "2023-07-12T12:10:55.893217Z"
    }
   },
   "outputs": [
    {
     "name": "stdout",
     "output_type": "stream",
     "text": [
      "होम\n",
      "विशेष\n",
      "भोपाल एवं मध्य\n",
      "इंदौर एवं मालवा\n",
      "जबलपुर एवं महाकोशल\n",
      "ग्वालियर एवं चंबल\n",
      "सतना एवं विंध्य\n",
      "देश\n",
      "विदेश\n",
      "खेल\n",
      "व्यापार\n",
      "मनोरंजन\n",
      "ई-पेपर\n",
      "संपर्क\n"
     ]
    }
   ],
   "source": [
    "for link in lists:\n",
    "  anchor=link.find('a')\n",
    "  print(anchor.text)"
   ]
  },
  {
   "cell_type": "code",
   "execution_count": 24,
   "metadata": {
    "execution": {
     "iopub.execute_input": "2023-07-12T12:22:44.394268Z",
     "iopub.status.busy": "2023-07-12T12:22:44.393786Z",
     "iopub.status.idle": "2023-07-12T12:22:44.403569Z",
     "shell.execute_reply": "2023-07-12T12:22:44.401800Z",
     "shell.execute_reply.started": "2023-07-12T12:22:44.394232Z"
    }
   },
   "outputs": [],
   "source": [
    "def getInfo(url):\n",
    "  sublist=[]\n",
    "  # print(url)\n",
    "  response=requests.get(url).content\n",
    "  soup=BeautifulSoup(response,'html.parser')\n",
    "  links=soup.find_all('h3',attrs={'class':\"entry-title\"})\n",
    "  if(url==\"https://navabharat.com/\"):\n",
    "        links=soup.find_all('h3',attrs={'class':\"twp-post-title\"})\n",
    "        \n",
    "#   print(links)\n",
    "  for link in links:\n",
    "    anchor=link.find('a')\n",
    "    href=anchor.get('href')\n",
    "    sublist.append(href)\n",
    "  return sublist"
   ]
  },
  {
   "cell_type": "code",
   "execution_count": 26,
   "metadata": {
    "execution": {
     "iopub.execute_input": "2023-07-12T12:23:50.016840Z",
     "iopub.status.busy": "2023-07-12T12:23:50.016348Z",
     "iopub.status.idle": "2023-07-12T12:24:20.153376Z",
     "shell.execute_reply": "2023-07-12T12:24:20.152233Z",
     "shell.execute_reply.started": "2023-07-12T12:23:50.016801Z"
    }
   },
   "outputs": [
    {
     "name": "stdout",
     "output_type": "stream",
     "text": [
      "['https://www.navabharat.com/nbwp/?p=123476', 'https://www.navabharat.com/nbwp/?p=123474', 'https://www.navabharat.com/nbwp/?p=123471', 'https://www.navabharat.com/nbwp/?p=123469', 'https://www.navabharat.com/nbwp/?p=123467', 'https://www.navabharat.com/nbwp/?p=123366', 'https://www.navabharat.com/nbwp/?p=123357', 'https://www.navabharat.com/nbwp/?p=123350', 'https://www.navabharat.com/nbwp/?p=123338', 'https://www.navabharat.com/nbwp/?p=123332', 'https://www.navabharat.com/nbwp/?p=123465', 'https://www.navabharat.com/nbwp/?p=123330', 'https://www.navabharat.com/nbwp/?p=123331', 'https://www.navabharat.com/nbwp/?p=123312', 'https://www.navabharat.com/nbwp/?p=123308', 'https://www.navabharat.com/nbwp/?p=123460', 'https://www.navabharat.com/nbwp/?p=123451', 'https://www.navabharat.com/nbwp/?p=123439', 'https://www.navabharat.com/nbwp/?p=123412', 'https://www.navabharat.com/nbwp/?p=123402', 'https://www.navabharat.com/nbwp/?p=123488', 'https://www.navabharat.com/nbwp/?p=123485', 'https://www.navabharat.com/nbwp/?p=123482', 'https://www.navabharat.com/nbwp/?p=123395', 'https://www.navabharat.com/nbwp/?p=123390', 'https://www.navabharat.com/nbwp/?p=123430', 'https://www.navabharat.com/nbwp/?p=123424', 'https://www.navabharat.com/nbwp/?p=123385', 'https://www.navabharat.com/nbwp/?p=123377', 'https://www.navabharat.com/nbwp/?p=123341', 'https://www.navabharat.com/nbwp/?p=123463', 'https://www.navabharat.com/nbwp/?p=123457', 'https://www.navabharat.com/nbwp/?p=123454', 'https://www.navabharat.com/nbwp/?p=123448', 'https://www.navabharat.com/nbwp/?p=123445', 'https://www.navabharat.com/nbwp/?p=123476', 'https://www.navabharat.com/nbwp/?p=123474', 'https://www.navabharat.com/nbwp/?p=123471', 'https://www.navabharat.com/nbwp/?p=123469', 'https://www.navabharat.com/nbwp/?p=123467', 'https://www.navabharat.com/nbwp/?p=123434', 'https://www.navabharat.com/nbwp/?p=123374', 'https://www.navabharat.com/nbwp/?p=123369', 'https://www.navabharat.com/nbwp/?p=123364', 'https://www.navabharat.com/nbwp/?p=123356', 'https://www.navabharat.com/nbwp/?p=123414', 'https://www.navabharat.com/nbwp/?p=123407', 'https://www.navabharat.com/nbwp/?p=123397', 'https://www.navabharat.com/nbwp/?p=123388', 'https://www.navabharat.com/nbwp/?p=123360', 'https://www.navabharat.com/nbwp/?p=123381', 'https://www.navabharat.com/nbwp/?p=123379', 'https://www.navabharat.com/nbwp/?p=123271', 'https://www.navabharat.com/nbwp/?p=123269', 'https://www.navabharat.com/nbwp/?p=123266', 'https://www.navabharat.com/nbwp/?p=123432', 'https://www.navabharat.com/nbwp/?p=123427', 'https://www.navabharat.com/nbwp/?p=123421', 'https://www.navabharat.com/nbwp/?p=123416', 'https://www.navabharat.com/nbwp/?p=123398', 'https://www.navabharat.com/nbwp/?p=123366', 'https://www.navabharat.com/nbwp/?p=123357', 'https://www.navabharat.com/nbwp/?p=123350', 'https://www.navabharat.com/nbwp/?p=123338', 'https://www.navabharat.com/nbwp/?p=123332', 'https://www.navabharat.com/nbwp/?p=123319', 'https://www.navabharat.com/nbwp/?p=123324', 'https://www.navabharat.com/nbwp/?p=123320', 'https://www.navabharat.com/nbwp/?p=123279', 'https://www.navabharat.com/nbwp/?p=123277', 'https://www.navabharat.com/nbwp/?p=123465', 'https://www.navabharat.com/nbwp/?p=123330', 'https://www.navabharat.com/nbwp/?p=123331', 'https://www.navabharat.com/nbwp/?p=123312', 'https://www.navabharat.com/nbwp/?p=123308', 'https://www.navabharat.com/nbwp/?p=123307', 'https://www.navabharat.com/nbwp/?p=123302', 'https://www.navabharat.com/nbwp/?p=123298', 'https://www.navabharat.com/nbwp/?p=123289', 'https://www.navabharat.com/nbwp/?p=123290', 'https://www.navabharat.com/nbwp/?p=123460', 'https://www.navabharat.com/nbwp/?p=123451', 'https://www.navabharat.com/nbwp/?p=123439', 'https://www.navabharat.com/nbwp/?p=123412', 'https://www.navabharat.com/nbwp/?p=123402', 'https://www.navabharat.com/nbwp/?p=123174', 'https://www.navabharat.com/nbwp/?p=123171', 'https://www.navabharat.com/nbwp/?p=123162', 'https://www.navabharat.com/nbwp/?p=123119', 'https://www.navabharat.com/nbwp/?p=123111', 'https://www.navabharat.com/nbwp/?p=123430', 'https://www.navabharat.com/nbwp/?p=123424', 'https://www.navabharat.com/nbwp/?p=123385', 'https://www.navabharat.com/nbwp/?p=123377', 'https://www.navabharat.com/nbwp/?p=123341', 'https://www.navabharat.com/nbwp/?p=123188', 'https://www.navabharat.com/nbwp/?p=123185', 'https://www.navabharat.com/nbwp/?p=123151', 'https://www.navabharat.com/nbwp/?p=123144', 'https://www.navabharat.com/nbwp/?p=123140', 'https://www.navabharat.com/nbwp/?p=123488', 'https://www.navabharat.com/nbwp/?p=123485', 'https://www.navabharat.com/nbwp/?p=123482', 'https://www.navabharat.com/nbwp/?p=123395', 'https://www.navabharat.com/nbwp/?p=123390', 'https://www.navabharat.com/nbwp/?p=123206', 'https://www.navabharat.com/nbwp/?p=123203', 'https://www.navabharat.com/nbwp/?p=123200', 'https://www.navabharat.com/nbwp/?p=123197', 'https://www.navabharat.com/nbwp/?p=123194', 'https://www.navabharat.com/nbwp/?p=123463', 'https://www.navabharat.com/nbwp/?p=123457', 'https://www.navabharat.com/nbwp/?p=123454', 'https://www.navabharat.com/nbwp/?p=123448', 'https://www.navabharat.com/nbwp/?p=123445', 'https://www.navabharat.com/nbwp/?p=123191', 'https://www.navabharat.com/nbwp/?p=123182', 'https://www.navabharat.com/nbwp/?p=123179', 'https://www.navabharat.com/nbwp/?p=123167', 'https://www.navabharat.com/nbwp/?p=123155', 'https://www.navabharat.com/nbwp/?p=123476', 'https://www.navabharat.com/nbwp/?p=123474', 'https://www.navabharat.com/nbwp/?p=123471', 'https://www.navabharat.com/nbwp/?p=123469', 'https://www.navabharat.com/nbwp/?p=123467', 'https://www.navabharat.com/nbwp/?p=123347', 'https://www.navabharat.com/nbwp/?p=123346', 'https://www.navabharat.com/nbwp/?p=123265', 'https://www.navabharat.com/nbwp/?p=123258', 'https://www.navabharat.com/nbwp/?p=123255', 'https://www.navabharat.com/nbwp/?p=123434', 'https://www.navabharat.com/nbwp/?p=123374', 'https://www.navabharat.com/nbwp/?p=123369', 'https://www.navabharat.com/nbwp/?p=123364', 'https://www.navabharat.com/nbwp/?p=123356', 'https://www.navabharat.com/nbwp/?p=123149', 'https://www.navabharat.com/nbwp/?p=123132', 'https://www.navabharat.com/nbwp/?p=123107', 'https://www.navabharat.com/nbwp/?p=123087', 'https://www.navabharat.com/nbwp/?p=123156', 'https://www.navabharat.com/nbwp/?p=123414', 'https://www.navabharat.com/nbwp/?p=123407', 'https://www.navabharat.com/nbwp/?p=123397', 'https://www.navabharat.com/nbwp/?p=123388', 'https://www.navabharat.com/nbwp/?p=123360', 'https://www.navabharat.com/nbwp/?p=123101', 'https://www.navabharat.com/nbwp/?p=123093', 'https://www.navabharat.com/nbwp/?p=123085', 'https://www.navabharat.com/nbwp/?p=123074', 'https://www.navabharat.com/nbwp/?p=123070', 'https://www.navabharat.com/nbwp/?p=123381', 'https://www.navabharat.com/nbwp/?p=123379', 'https://www.navabharat.com/nbwp/?p=123271', 'https://www.navabharat.com/nbwp/?p=123269', 'https://www.navabharat.com/nbwp/?p=123266', 'https://www.navabharat.com/nbwp/?p=123260', 'https://www.navabharat.com/nbwp/?p=123125', 'https://www.navabharat.com/nbwp/?p=123128', 'https://www.navabharat.com/nbwp/?p=123008', 'https://www.navabharat.com/nbwp/?p=123005', 'https://www.navabharat.com/nbwp/?p=123432', 'https://www.navabharat.com/nbwp/?p=123427', 'https://www.navabharat.com/nbwp/?p=123421', 'https://www.navabharat.com/nbwp/?p=123416', 'https://www.navabharat.com/nbwp/?p=123398', 'https://www.navabharat.com/nbwp/?p=123143', 'https://www.navabharat.com/nbwp/?p=123137', 'https://www.navabharat.com/nbwp/?p=123116', 'https://www.navabharat.com/nbwp/?p=123114', 'https://www.navabharat.com/nbwp/?p=123108']\n"
     ]
    }
   ],
   "source": [
    "# link=lists[1] to check\n",
    "data=[]\n",
    "temp_list=[]\n",
    "for link in lists:\n",
    "    anchor=link.find('a')\n",
    "    url=anchor.get(\"href\")\n",
    "    returned_list=getInfo(url)\n",
    "    temp_list.append(returned_list)\n",
    "for list in temp_list:\n",
    "    for link in list:\n",
    "        data.append(link)\n",
    "print(data)"
   ]
  },
  {
   "cell_type": "code",
   "execution_count": 27,
   "metadata": {
    "execution": {
     "iopub.execute_input": "2023-07-12T12:24:46.391864Z",
     "iopub.status.busy": "2023-07-12T12:24:46.391401Z",
     "iopub.status.idle": "2023-07-12T12:24:46.398563Z",
     "shell.execute_reply": "2023-07-12T12:24:46.396948Z",
     "shell.execute_reply.started": "2023-07-12T12:24:46.391830Z"
    }
   },
   "outputs": [
    {
     "name": "stdout",
     "output_type": "stream",
     "text": [
      "170\n"
     ]
    }
   ],
   "source": [
    "print(len(data))"
   ]
  },
  {
   "cell_type": "code",
   "execution_count": 32,
   "metadata": {
    "execution": {
     "iopub.execute_input": "2023-07-12T12:27:22.003043Z",
     "iopub.status.busy": "2023-07-12T12:27:22.002408Z",
     "iopub.status.idle": "2023-07-12T12:27:22.026977Z",
     "shell.execute_reply": "2023-07-12T12:27:22.025558Z",
     "shell.execute_reply.started": "2023-07-12T12:27:22.002988Z"
    }
   },
   "outputs": [
    {
     "data": {
      "text/html": [
       "<div>\n",
       "<style scoped>\n",
       "    .dataframe tbody tr th:only-of-type {\n",
       "        vertical-align: middle;\n",
       "    }\n",
       "\n",
       "    .dataframe tbody tr th {\n",
       "        vertical-align: top;\n",
       "    }\n",
       "\n",
       "    .dataframe thead th {\n",
       "        text-align: right;\n",
       "    }\n",
       "</style>\n",
       "<table border=\"1\" class=\"dataframe\">\n",
       "  <thead>\n",
       "    <tr style=\"text-align: right;\">\n",
       "      <th></th>\n",
       "      <th>url</th>\n",
       "    </tr>\n",
       "  </thead>\n",
       "  <tbody>\n",
       "    <tr>\n",
       "      <th>0</th>\n",
       "      <td>https://www.navabharat.com/nbwp/?p=123476</td>\n",
       "    </tr>\n",
       "    <tr>\n",
       "      <th>1</th>\n",
       "      <td>https://www.navabharat.com/nbwp/?p=123474</td>\n",
       "    </tr>\n",
       "    <tr>\n",
       "      <th>2</th>\n",
       "      <td>https://www.navabharat.com/nbwp/?p=123471</td>\n",
       "    </tr>\n",
       "    <tr>\n",
       "      <th>3</th>\n",
       "      <td>https://www.navabharat.com/nbwp/?p=123469</td>\n",
       "    </tr>\n",
       "    <tr>\n",
       "      <th>4</th>\n",
       "      <td>https://www.navabharat.com/nbwp/?p=123467</td>\n",
       "    </tr>\n",
       "  </tbody>\n",
       "</table>\n",
       "</div>"
      ],
      "text/plain": [
       "                                         url\n",
       "0  https://www.navabharat.com/nbwp/?p=123476\n",
       "1  https://www.navabharat.com/nbwp/?p=123474\n",
       "2  https://www.navabharat.com/nbwp/?p=123471\n",
       "3  https://www.navabharat.com/nbwp/?p=123469\n",
       "4  https://www.navabharat.com/nbwp/?p=123467"
      ]
     },
     "execution_count": 32,
     "metadata": {},
     "output_type": "execute_result"
    }
   ],
   "source": [
    "df=pd.DataFrame(data,columns=['url'])\n",
    "df.to_csv(\"navabharat.csv\")\n",
    "df.head()"
   ]
  },
  {
   "cell_type": "code",
   "execution_count": null,
   "metadata": {},
   "outputs": [],
   "source": []
  }
 ],
 "metadata": {
  "kernelspec": {
   "display_name": "Python 3 (ipykernel)",
   "language": "python",
   "name": "python3"
  },
  "language_info": {
   "codemirror_mode": {
    "name": "ipython",
    "version": 3
   },
   "file_extension": ".py",
   "mimetype": "text/x-python",
   "name": "python",
   "nbconvert_exporter": "python",
   "pygments_lexer": "ipython3",
   "version": "3.9.13"
  }
 },
 "nbformat": 4,
 "nbformat_minor": 4
}
