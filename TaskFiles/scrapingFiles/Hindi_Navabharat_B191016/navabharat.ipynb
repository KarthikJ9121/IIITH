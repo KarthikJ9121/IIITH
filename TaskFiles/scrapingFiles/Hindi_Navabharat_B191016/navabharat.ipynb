{
 "cells": [
  {
   "cell_type": "markdown",
   "id": "664fabb6",
   "metadata": {
    "id": "7NtHLUGvMKUt",
    "papermill": {
     "duration": 0.012296,
     "end_time": "2023-03-04T15:22:32.352873",
     "exception": false,
     "start_time": "2023-03-04T15:22:32.340577",
     "status": "completed"
    },
    "tags": []
   },
   "source": [
    "#### Installing necessary packages"
   ]
  },
  {
   "cell_type": "code",
   "execution_count": 1,
   "id": "d8f59f2c",
   "metadata": {
    "colab": {
     "base_uri": "https://localhost:8080/"
    },
    "execution": {
     "iopub.execute_input": "2023-07-12T12:46:30.626176Z",
     "iopub.status.busy": "2023-07-12T12:46:30.625308Z",
     "iopub.status.idle": "2023-07-12T12:47:00.136228Z",
     "shell.execute_reply": "2023-07-12T12:47:00.134984Z",
     "shell.execute_reply.started": "2023-07-12T12:46:30.626132Z"
    },
    "id": "kJSSW73cMKVO",
    "outputId": "980c78fa-1d53-46b4-ad26-5464bf1ef98b",
    "papermill": {
     "duration": 32.598531,
     "end_time": "2023-03-04T15:23:04.962493",
     "exception": false,
     "start_time": "2023-03-04T15:22:32.363962",
     "status": "completed"
    },
    "tags": []
   },
   "outputs": [
    {
     "name": "stdout",
     "output_type": "stream",
     "text": [
      "--2023-07-12 12:46:31--  https://dl.google.com/linux/linux_signing_key.pub\n",
      "Resolving dl.google.com (dl.google.com)... 173.194.69.190, 173.194.69.91, 173.194.69.136, ...\n",
      "Connecting to dl.google.com (dl.google.com)|173.194.69.190|:443... connected.\n",
      "HTTP request sent, awaiting response... 200 OK\n",
      "Length: 14605 (14K) [application/octet-stream]\n",
      "Saving to: ‘linux_signing_key.pub’\n",
      "\n",
      "linux_signing_key.p 100%[===================>]  14.26K  --.-KB/s    in 0s      \n",
      "\n",
      "2023-07-12 12:46:31 (38.8 MB/s) - ‘linux_signing_key.pub’ saved [14605/14605]\n",
      "\n",
      "OK\n",
      "Get:1 http://dl.google.com/linux/chrome/deb stable InRelease [1825 B]\n",
      "Hit:2 http://archive.ubuntu.com/ubuntu focal InRelease                         \n",
      "Get:3 http://packages.cloud.google.com/apt gcsfuse-focal InRelease [5002 B]    \n",
      "Get:4 http://archive.ubuntu.com/ubuntu focal-updates InRelease [114 kB]        \n",
      "Get:5 https://packages.cloud.google.com/apt cloud-sdk InRelease [6361 B]       \n",
      "Get:6 http://archive.ubuntu.com/ubuntu focal-backports InRelease [108 kB]      \n",
      "Get:7 http://security.ubuntu.com/ubuntu focal-security InRelease [114 kB]      \n",
      "Get:8 http://dl.google.com/linux/chrome/deb stable/main amd64 Packages [1079 B]\n",
      "Get:9 https://packages.cloud.google.com/apt cloud-sdk/main amd64 Packages [478 kB]\n",
      "Get:10 http://archive.ubuntu.com/ubuntu focal-updates/universe amd64 Packages [1369 kB]\n",
      "Get:11 http://archive.ubuntu.com/ubuntu focal-updates/main amd64 Packages [3347 kB]\n",
      "Get:12 http://security.ubuntu.com/ubuntu focal-security/universe amd64 Packages [1070 kB]\n",
      "Get:13 http://security.ubuntu.com/ubuntu focal-security/main amd64 Packages [2866 kB]\n",
      "Fetched 9480 kB in 2s (5085 kB/s)\n",
      "Reading package lists... Done\n",
      "Reading package lists... Done\n",
      "Building dependency tree       \n",
      "Reading state information... Done\n",
      "The following additional packages will be installed:\n",
      "  libgbm1 libu2f-udev libwayland-server0 udev\n",
      "The following NEW packages will be installed:\n",
      "  google-chrome-stable libgbm1 libu2f-udev libwayland-server0 udev\n",
      "0 upgraded, 5 newly installed, 0 to remove and 6 not upgraded.\n",
      "Need to get 95.8 MB of archives.\n",
      "After this operation, 331 MB of additional disk space will be used.\n",
      "Get:1 http://dl.google.com/linux/chrome/deb stable/main amd64 google-chrome-stable amd64 114.0.5735.198-1 [94.3 MB]\n",
      "Get:2 http://archive.ubuntu.com/ubuntu focal-updates/main amd64 libwayland-server0 amd64 1.18.0-1ubuntu0.1 [31.3 kB]\n",
      "Get:3 http://archive.ubuntu.com/ubuntu focal-updates/main amd64 libgbm1 amd64 21.2.6-0ubuntu0.1~20.04.2 [29.2 kB]\n",
      "Get:4 http://archive.ubuntu.com/ubuntu focal-updates/main amd64 udev amd64 245.4-4ubuntu3.22 [1366 kB]\n",
      "Get:5 http://archive.ubuntu.com/ubuntu focal/main amd64 libu2f-udev all 1.1.10-1 [6108 B]\n",
      "Fetched 95.8 MB in 1s (89.0 MB/s)                                             \n",
      "Selecting previously unselected package libwayland-server0:amd64.\n",
      "(Reading database ... 107656 files and directories currently installed.)\n",
      "Preparing to unpack .../libwayland-server0_1.18.0-1ubuntu0.1_amd64.deb ...\n",
      "Unpacking libwayland-server0:amd64 (1.18.0-1ubuntu0.1) ...\n",
      "Selecting previously unselected package libgbm1:amd64.\n",
      "Preparing to unpack .../libgbm1_21.2.6-0ubuntu0.1~20.04.2_amd64.deb ...\n",
      "Unpacking libgbm1:amd64 (21.2.6-0ubuntu0.1~20.04.2) ...\n",
      "Selecting previously unselected package udev.\n",
      "Preparing to unpack .../udev_245.4-4ubuntu3.22_amd64.deb ...\n",
      "Unpacking udev (245.4-4ubuntu3.22) ...\n",
      "Selecting previously unselected package libu2f-udev.\n",
      "Preparing to unpack .../libu2f-udev_1.1.10-1_all.deb ...\n",
      "Unpacking libu2f-udev (1.1.10-1) ...\n",
      "Selecting previously unselected package google-chrome-stable.\n",
      "Preparing to unpack .../google-chrome-stable_114.0.5735.198-1_amd64.deb ...\n",
      "Unpacking google-chrome-stable (114.0.5735.198-1) ...\n",
      "Setting up libwayland-server0:amd64 (1.18.0-1ubuntu0.1) ...\n",
      "Setting up libgbm1:amd64 (21.2.6-0ubuntu0.1~20.04.2) ...\n",
      "Setting up udev (245.4-4ubuntu3.22) ...\n",
      "invoke-rc.d: could not determine current runlevel\n",
      "invoke-rc.d: policy-rc.d denied execution of start.\n",
      "Setting up libu2f-udev (1.1.10-1) ...\n",
      "Failed to send reload request: No such file or directory\n",
      "Setting up google-chrome-stable (114.0.5735.198-1) ...\n",
      "update-alternatives: using /usr/bin/google-chrome-stable to provide /usr/bin/x-www-browser (x-www-browser) in auto mode\n",
      "update-alternatives: using /usr/bin/google-chrome-stable to provide /usr/bin/gnome-www-browser (gnome-www-browser) in auto mode\n",
      "update-alternatives: using /usr/bin/google-chrome-stable to provide /usr/bin/google-chrome (google-chrome) in auto mode\n",
      "Processing triggers for libc-bin (2.31-0ubuntu9.9) ...\n",
      "Processing triggers for systemd (245.4-4ubuntu3.22) ...\n",
      "Processing triggers for man-db (2.9.1-1) ...\n",
      "Processing triggers for mime-support (3.64ubuntu1) ...\n"
     ]
    }
   ],
   "source": [
    "# install google chrome\n",
    "!wget https://dl.google.com/linux/linux_signing_key.pub\n",
    "!sudo apt-key add linux_signing_key.pub\n",
    "!echo 'deb [arch=amd64] http://dl.google.com/linux/chrome/deb/ stable main' >> /etc/apt/sources.list.d/google-chrome.list\n",
    "!sudo apt-get -y update\n",
    "!sudo apt-get install -y google-chrome-stable"
   ]
  },
  {
   "cell_type": "code",
   "execution_count": 2,
   "id": "5d4d8870",
   "metadata": {
    "colab": {
     "base_uri": "https://localhost:8080/"
    },
    "execution": {
     "iopub.execute_input": "2023-07-12T12:47:12.132159Z",
     "iopub.status.busy": "2023-07-12T12:47:12.131692Z",
     "iopub.status.idle": "2023-07-12T12:47:15.524775Z",
     "shell.execute_reply": "2023-07-12T12:47:15.523337Z",
     "shell.execute_reply.started": "2023-07-12T12:47:12.132124Z"
    },
    "id": "qiG91POkMKVa",
    "outputId": "81e0d971-cb86-48e1-e31c-cd33bd65e755",
    "papermill": {
     "duration": 2.849145,
     "end_time": "2023-03-04T15:23:07.830381",
     "exception": false,
     "start_time": "2023-03-04T15:23:04.981236",
     "status": "completed"
    },
    "tags": []
   },
   "outputs": [
    {
     "name": "stdout",
     "output_type": "stream",
     "text": [
      "curl: /opt/conda/lib/libcurl.so.4: no version information available (required by curl)\n",
      "--2023-07-12 12:47:13--  http://chromedriver.storage.googleapis.com/114.0.5735.90/chromedriver_linux64.zip\n",
      "Resolving chromedriver.storage.googleapis.com (chromedriver.storage.googleapis.com)... 173.194.69.128, 2a00:1450:4013:c04::80\n",
      "Connecting to chromedriver.storage.googleapis.com (chromedriver.storage.googleapis.com)|173.194.69.128|:80... connected.\n",
      "HTTP request sent, awaiting response... 200 OK\n",
      "Length: 7407250 (7.1M) [application/zip]\n",
      "Saving to: ‘/tmp/chromedriver.zip’\n",
      "\n",
      "/tmp/chromedriver.z 100%[===================>]   7.06M  9.25MB/s    in 0.8s    \n",
      "\n",
      "2023-07-12 12:47:14 (9.25 MB/s) - ‘/tmp/chromedriver.zip’ saved [7407250/7407250]\n",
      "\n",
      "Archive:  /tmp/chromedriver.zip\n",
      "  inflating: /usr/local/bin/chromedriver  \n"
     ]
    }
   ],
   "source": [
    "# install chromedriver\n",
    "# !apt-get install -y qq unzip\n",
    "!wget -O /tmp/chromedriver.zip http://chromedriver.storage.googleapis.com/`curl -sS chromedriver.storage.googleapis.com/LATEST_RELEASE`/chromedriver_linux64.zip\n",
    "!unzip /tmp/chromedriver.zip chromedriver -d /usr/local/bin/"
   ]
  },
  {
   "cell_type": "code",
   "execution_count": 3,
   "id": "a5c4b931",
   "metadata": {
    "colab": {
     "base_uri": "https://localhost:8080/"
    },
    "execution": {
     "iopub.execute_input": "2023-07-12T12:47:27.874233Z",
     "iopub.status.busy": "2023-07-12T12:47:27.873756Z",
     "iopub.status.idle": "2023-07-12T12:48:00.700463Z",
     "shell.execute_reply": "2023-07-12T12:48:00.698965Z",
     "shell.execute_reply.started": "2023-07-12T12:47:27.874193Z"
    },
    "id": "tAdHm4rgMKVd",
    "outputId": "b8db1663-7eb4-4bb5-ef9e-f4b5aa7c5f8c",
    "papermill": {
     "duration": 40.399829,
     "end_time": "2023-03-04T15:23:48.249069",
     "exception": false,
     "start_time": "2023-03-04T15:23:07.849240",
     "status": "completed"
    },
    "tags": []
   },
   "outputs": [
    {
     "name": "stdout",
     "output_type": "stream",
     "text": [
      "Reading package lists... Done\n",
      "Building dependency tree       \n",
      "Reading state information... Done\n",
      "The following additional packages will be installed:\n",
      "  apparmor chromium-browser chromium-chromedriver liblzo2-2 snapd\n",
      "  squashfs-tools\n",
      "Suggested packages:\n",
      "  apparmor-profiles-extra apparmor-utils zenity | kdialog\n",
      "The following NEW packages will be installed:\n",
      "  apparmor chromium-browser chromium-chromedriver liblzo2-2 python3-selenium\n",
      "  snapd squashfs-tools\n",
      "0 upgraded, 7 newly installed, 0 to remove and 6 not upgraded.\n",
      "Need to get 38.7 MB of archives.\n",
      "After this operation, 174 MB of additional disk space will be used.\n",
      "Get:1 http://archive.ubuntu.com/ubuntu focal-updates/main amd64 apparmor amd64 2.13.3-7ubuntu5.2 [502 kB]\n",
      "Get:2 http://archive.ubuntu.com/ubuntu focal/main amd64 liblzo2-2 amd64 2.10-2 [50.8 kB]\n",
      "Get:3 http://archive.ubuntu.com/ubuntu focal-updates/main amd64 squashfs-tools amd64 1:4.4-1ubuntu0.3 [117 kB]\n",
      "Get:4 http://archive.ubuntu.com/ubuntu focal-updates/main amd64 snapd amd64 2.58+20.04.1 [37.9 MB]\n",
      "Get:5 http://archive.ubuntu.com/ubuntu focal-updates/universe amd64 chromium-browser amd64 1:85.0.4183.83-0ubuntu0.20.04.3 [48.5 kB]\n",
      "Get:6 http://archive.ubuntu.com/ubuntu focal-updates/universe amd64 chromium-chromedriver amd64 1:85.0.4183.83-0ubuntu0.20.04.3 [2496 B]\n",
      "Get:7 http://archive.ubuntu.com/ubuntu focal/universe amd64 python3-selenium all 4.0.0~a1+dfsg1-1.1 [86.2 kB]\n",
      "Fetched 38.7 MB in 1s (62.9 MB/s)           \u001b[0m\u001b[33m\n",
      "Preconfiguring packages ...\n",
      "\n",
      "\u001b7\u001b[0;23r\u001b8\u001b[1ASelecting previously unselected package apparmor.\n",
      "(Reading database ... 107904 files and directories currently installed.)\n",
      "Preparing to unpack .../apparmor_2.13.3-7ubuntu5.2_amd64.deb ...\n",
      "\u001b7\u001b[24;0f\u001b[42m\u001b[30mProgress: [  0%]\u001b[49m\u001b[39m [..........................................................] \u001b8\u001b7\u001b[24;0f\u001b[42m\u001b[30mProgress: [  3%]\u001b[49m\u001b[39m [##........................................................] \u001b8Unpacking apparmor (2.13.3-7ubuntu5.2) ...\n",
      "\u001b7\u001b[24;0f\u001b[42m\u001b[30mProgress: [  7%]\u001b[49m\u001b[39m [####......................................................] \u001b8Selecting previously unselected package liblzo2-2:amd64.\n",
      "Preparing to unpack .../liblzo2-2_2.10-2_amd64.deb ...\n",
      "\u001b7\u001b[24;0f\u001b[42m\u001b[30mProgress: [ 10%]\u001b[49m\u001b[39m [######....................................................] \u001b8Unpacking liblzo2-2:amd64 (2.10-2) ...\n",
      "\u001b7\u001b[24;0f\u001b[42m\u001b[30mProgress: [ 14%]\u001b[49m\u001b[39m [########..................................................] \u001b8Selecting previously unselected package squashfs-tools.\n",
      "Preparing to unpack .../squashfs-tools_1%3a4.4-1ubuntu0.3_amd64.deb ...\n",
      "\u001b7\u001b[24;0f\u001b[42m\u001b[30mProgress: [ 17%]\u001b[49m\u001b[39m [#########.................................................] \u001b8Unpacking squashfs-tools (1:4.4-1ubuntu0.3) ...\n",
      "\u001b7\u001b[24;0f\u001b[42m\u001b[30mProgress: [ 21%]\u001b[49m\u001b[39m [############..............................................] \u001b8Selecting previously unselected package snapd.\n",
      "Preparing to unpack .../snapd_2.58+20.04.1_amd64.deb ...\n",
      "\u001b7\u001b[24;0f\u001b[42m\u001b[30mProgress: [ 24%]\u001b[49m\u001b[39m [##############............................................] \u001b8Unpacking snapd (2.58+20.04.1) ...\n",
      "\u001b7\u001b[24;0f\u001b[42m\u001b[30mProgress: [ 28%]\u001b[49m\u001b[39m [################..........................................] \u001b8Setting up apparmor (2.13.3-7ubuntu5.2) ...\n",
      "\u001b7\u001b[24;0f\u001b[42m\u001b[30mProgress: [ 31%]\u001b[49m\u001b[39m [##################........................................] \u001b8Created symlink /etc/systemd/system/sysinit.target.wants/apparmor.service → /lib/systemd/system/apparmor.service.\n",
      "\u001b7\u001b[24;0f\u001b[42m\u001b[30mProgress: [ 34%]\u001b[49m\u001b[39m [###################.......................................] \u001b8Setting up liblzo2-2:amd64 (2.10-2) ...\n",
      "\u001b7\u001b[24;0f\u001b[42m\u001b[30mProgress: [ 38%]\u001b[49m\u001b[39m [######################....................................] \u001b8\u001b7\u001b[24;0f\u001b[42m\u001b[30mProgress: [ 41%]\u001b[49m\u001b[39m [########################..................................] \u001b8Setting up squashfs-tools (1:4.4-1ubuntu0.3) ...\n",
      "\u001b7\u001b[24;0f\u001b[42m\u001b[30mProgress: [ 45%]\u001b[49m\u001b[39m [##########################................................] \u001b8\u001b7\u001b[24;0f\u001b[42m\u001b[30mProgress: [ 48%]\u001b[49m\u001b[39m [############################..............................] \u001b8Setting up snapd (2.58+20.04.1) ...\n",
      "\u001b7\u001b[24;0f\u001b[42m\u001b[30mProgress: [ 52%]\u001b[49m\u001b[39m [#############################.............................] \u001b8Created symlink /etc/systemd/system/multi-user.target.wants/snapd.aa-prompt-listener.service → /lib/systemd/system/snapd.aa-prompt-listener.service.\n",
      "Created symlink /etc/systemd/system/multi-user.target.wants/snapd.apparmor.service → /lib/systemd/system/snapd.apparmor.service.\n",
      "Created symlink /etc/systemd/system/multi-user.target.wants/snapd.autoimport.service → /lib/systemd/system/snapd.autoimport.service.\n",
      "Created symlink /etc/systemd/system/multi-user.target.wants/snapd.core-fixup.service → /lib/systemd/system/snapd.core-fixup.service.\n",
      "Created symlink /etc/systemd/system/multi-user.target.wants/snapd.recovery-chooser-trigger.service → /lib/systemd/system/snapd.recovery-chooser-trigger.service.\n",
      "Created symlink /etc/systemd/system/multi-user.target.wants/snapd.seeded.service → /lib/systemd/system/snapd.seeded.service.\n",
      "Created symlink /etc/systemd/system/cloud-final.service.wants/snapd.seeded.service → /lib/systemd/system/snapd.seeded.service.\n",
      "Created symlink /etc/systemd/system/multi-user.target.wants/snapd.service → /lib/systemd/system/snapd.service.\n",
      "Created symlink /etc/systemd/system/timers.target.wants/snapd.snap-repair.timer → /lib/systemd/system/snapd.snap-repair.timer.\n",
      "Created symlink /etc/systemd/system/sockets.target.wants/snapd.socket → /lib/systemd/system/snapd.socket.\n",
      "Created symlink /etc/systemd/system/final.target.wants/snapd.system-shutdown.service → /lib/systemd/system/snapd.system-shutdown.service.\n",
      "\u001b7\u001b[24;0f\u001b[42m\u001b[30mProgress: [ 55%]\u001b[49m\u001b[39m [################################..........................] \u001b8Selecting previously unselected package chromium-browser.\n",
      "(Reading database ... 108200 files and directories currently installed.)\n",
      "Preparing to unpack .../chromium-browser_1%3a85.0.4183.83-0ubuntu0.20.04.3_amd64.deb ...\n",
      "\u001b7\u001b[24;0f\u001b[42m\u001b[30mProgress: [ 59%]\u001b[49m\u001b[39m [##################################........................] \u001b8=> Installing the chromium snap\n",
      "==> Checking connectivity with the snap store\n",
      "===> System doesn't have a working snapd, skipping\n",
      "Unpacking chromium-browser (1:85.0.4183.83-0ubuntu0.20.04.3) ...\n",
      "\u001b7\u001b[24;0f\u001b[42m\u001b[30mProgress: [ 62%]\u001b[49m\u001b[39m [####################################......................] \u001b8Selecting previously unselected package chromium-chromedriver.\n",
      "Preparing to unpack .../chromium-chromedriver_1%3a85.0.4183.83-0ubuntu0.20.04.3_amd64.deb ...\n",
      "\u001b7\u001b[24;0f\u001b[42m\u001b[30mProgress: [ 66%]\u001b[49m\u001b[39m [######################################....................] \u001b8Unpacking chromium-chromedriver (1:85.0.4183.83-0ubuntu0.20.04.3) ...\n",
      "\u001b7\u001b[24;0f\u001b[42m\u001b[30mProgress: [ 69%]\u001b[49m\u001b[39m [#######################################...................] \u001b8Selecting previously unselected package python3-selenium.\n",
      "Preparing to unpack .../python3-selenium_4.0.0~a1+dfsg1-1.1_all.deb ...\n",
      "\u001b7\u001b[24;0f\u001b[42m\u001b[30mProgress: [ 72%]\u001b[49m\u001b[39m [##########################################................] \u001b8Unpacking python3-selenium (4.0.0~a1+dfsg1-1.1) ...\n",
      "\u001b7\u001b[24;0f\u001b[42m\u001b[30mProgress: [ 76%]\u001b[49m\u001b[39m [############################################..............] \u001b8Setting up python3-selenium (4.0.0~a1+dfsg1-1.1) ...\n",
      "\u001b7\u001b[24;0f\u001b[42m\u001b[30mProgress: [ 79%]\u001b[49m\u001b[39m [##############################################............] \u001b8\u001b7\u001b[24;0f\u001b[42m\u001b[30mProgress: [ 83%]\u001b[49m\u001b[39m [################################################..........] \u001b8Setting up chromium-browser (1:85.0.4183.83-0ubuntu0.20.04.3) ...\n",
      "\u001b7\u001b[24;0f\u001b[42m\u001b[30mProgress: [ 86%]\u001b[49m\u001b[39m [##################################################........] \u001b8\u001b7\u001b[24;0f\u001b[42m\u001b[30mProgress: [ 90%]\u001b[49m\u001b[39m [####################################################......] \u001b8Setting up chromium-chromedriver (1:85.0.4183.83-0ubuntu0.20.04.3) ...\n",
      "\u001b7\u001b[24;0f\u001b[42m\u001b[30mProgress: [ 93%]\u001b[49m\u001b[39m [#####################################################.....] \u001b8\u001b7\u001b[24;0f\u001b[42m\u001b[30mProgress: [ 97%]\u001b[49m\u001b[39m [########################################################..] \u001b8Processing triggers for mime-support (3.64ubuntu1) ...\n",
      "Processing triggers for hicolor-icon-theme (0.17-2) ...\n",
      "Processing triggers for libc-bin (2.31-0ubuntu9.9) ...\n",
      "Processing triggers for systemd (245.4-4ubuntu3.22) ...\n",
      "Processing triggers for man-db (2.9.1-1) ...\n",
      "Processing triggers for dbus (1.12.16-2ubuntu2.3) ...\n",
      "\n",
      "\u001b7\u001b[0;24r\u001b8\u001b[1A\u001b[J"
     ]
    }
   ],
   "source": [
    "# install selenium\n",
    "!sudo apt install -y python3-selenium\n",
    "!pip install selenium > /dev/null"
   ]
  },
  {
   "cell_type": "code",
   "execution_count": 4,
   "id": "15fb20b7",
   "metadata": {
    "colab": {
     "base_uri": "https://localhost:8080/"
    },
    "execution": {
     "iopub.execute_input": "2023-07-12T12:48:07.352440Z",
     "iopub.status.busy": "2023-07-12T12:48:07.351950Z",
     "iopub.status.idle": "2023-07-12T12:48:08.591712Z",
     "shell.execute_reply": "2023-07-12T12:48:08.590106Z",
     "shell.execute_reply.started": "2023-07-12T12:48:07.352400Z"
    },
    "id": "pbJyBI3kMKVg",
    "outputId": "2b486e10-3fd8-440e-fc13-e684c5795465",
    "papermill": {
     "duration": 1.247594,
     "end_time": "2023-03-04T15:23:49.520153",
     "exception": false,
     "start_time": "2023-03-04T15:23:48.272559",
     "status": "completed"
    },
    "tags": []
   },
   "outputs": [
    {
     "name": "stdout",
     "output_type": "stream",
     "text": [
      "Google Chrome 114.0.5735.198 \n"
     ]
    }
   ],
   "source": [
    "# To check Google Chrome's version\n",
    "!google-chrome --version"
   ]
  },
  {
   "cell_type": "code",
   "execution_count": 5,
   "id": "a12c1d73",
   "metadata": {
    "colab": {
     "base_uri": "https://localhost:8080/"
    },
    "execution": {
     "iopub.execute_input": "2023-07-12T12:48:10.662936Z",
     "iopub.status.busy": "2023-07-12T12:48:10.662449Z",
     "iopub.status.idle": "2023-07-12T12:48:11.784183Z",
     "shell.execute_reply": "2023-07-12T12:48:11.782938Z",
     "shell.execute_reply.started": "2023-07-12T12:48:10.662898Z"
    },
    "id": "0Xqt7ZWVMKVj",
    "outputId": "c750ee40-4d2f-4009-bf77-eb834c4bdc1f",
    "papermill": {
     "duration": 1.166835,
     "end_time": "2023-03-04T15:23:50.711714",
     "exception": false,
     "start_time": "2023-03-04T15:23:49.544879",
     "status": "completed"
    },
    "tags": []
   },
   "outputs": [
    {
     "name": "stdout",
     "output_type": "stream",
     "text": [
      "ChromeDriver 114.0.5735.90 (386bc09e8f4f2e025eddae123f36f6263096ae49-refs/branch-heads/5735@{#1052})\n"
     ]
    }
   ],
   "source": [
    "# To check Chrome Driver's version\n",
    "!chromedriver -v"
   ]
  },
  {
   "cell_type": "code",
   "execution_count": null,
   "id": "42c3775a",
   "metadata": {
    "id": "Q9V1n0EiMKVn",
    "papermill": {
     "duration": 0.02289,
     "end_time": "2023-03-04T15:23:50.758368",
     "exception": false,
     "start_time": "2023-03-04T15:23:50.735478",
     "status": "completed"
    },
    "tags": []
   },
   "outputs": [],
   "source": []
  },
  {
   "cell_type": "markdown",
   "id": "88056261",
   "metadata": {
    "id": "XJ5IHsrtMKVr",
    "papermill": {
     "duration": 0.023212,
     "end_time": "2023-03-04T15:23:50.804895",
     "exception": false,
     "start_time": "2023-03-04T15:23:50.781683",
     "status": "completed"
    },
    "tags": []
   },
   "source": [
    "#### Importing necessary packages"
   ]
  },
  {
   "cell_type": "code",
   "execution_count": 6,
   "id": "7df94bb6",
   "metadata": {
    "execution": {
     "iopub.execute_input": "2023-07-12T12:48:13.625204Z",
     "iopub.status.busy": "2023-07-12T12:48:13.624758Z",
     "iopub.status.idle": "2023-07-12T12:48:13.668081Z",
     "shell.execute_reply": "2023-07-12T12:48:13.666906Z",
     "shell.execute_reply.started": "2023-07-12T12:48:13.625167Z"
    },
    "id": "qEgts72hMKVu",
    "papermill": {
     "duration": 0.065098,
     "end_time": "2023-03-04T15:23:50.893233",
     "exception": false,
     "start_time": "2023-03-04T15:23:50.828135",
     "status": "completed"
    },
    "tags": []
   },
   "outputs": [],
   "source": [
    "from selenium import webdriver\n",
    "from selenium.webdriver.common.by import By\n",
    "# from selenium.webdriver.chrome.service import Service\n",
    "# from webdriver_manager.chrome import ChromeDriverManager\n",
    "# from selenium.webdriver.chrome.options import Options\n",
    "\n",
    "chrome_options = webdriver.ChromeOptions()\n",
    "\n",
    "chrome_options.add_argument('--headless')\n",
    "chrome_options.add_argument('--no-sandbox')\n",
    "chrome_options.add_argument('--disable-dev-shm-usage')\n",
    "chrome_options.add_argument('--disable-gpu')\n",
    "# chrome_options.add_argument(\"--window-size=1920,1080\")"
   ]
  },
  {
   "cell_type": "code",
   "execution_count": 7,
   "id": "ade80965",
   "metadata": {
    "_cell_guid": "b1076dfc-b9ad-4769-8c92-a6c4dae69d19",
    "_uuid": "8f2839f25d086af736a60e9eeb907d3b93b6e0e5",
    "execution": {
     "iopub.execute_input": "2023-07-12T12:48:16.428163Z",
     "iopub.status.busy": "2023-07-12T12:48:16.427713Z",
     "iopub.status.idle": "2023-07-12T12:48:16.669455Z",
     "shell.execute_reply": "2023-07-12T12:48:16.668495Z",
     "shell.execute_reply.started": "2023-07-12T12:48:16.428128Z"
    },
    "id": "D_2ATNwHMKVy",
    "papermill": {
     "duration": 0.22968,
     "end_time": "2023-03-04T15:23:51.146590",
     "exception": false,
     "start_time": "2023-03-04T15:23:50.916910",
     "status": "completed"
    },
    "tags": []
   },
   "outputs": [],
   "source": [
    "import requests\n",
    "import json\n",
    "import pandas as pd\n",
    "import numpy as np\n",
    "import re\n",
    "\n",
    "from tqdm import tqdm\n",
    "from bs4 import BeautifulSoup"
   ]
  },
  {
   "cell_type": "markdown",
   "id": "97cdb420",
   "metadata": {
    "id": "V4QVMna3MKV1",
    "papermill": {
     "duration": 0.022884,
     "end_time": "2023-03-04T15:23:51.192800",
     "exception": false,
     "start_time": "2023-03-04T15:23:51.169916",
     "status": "completed"
    },
    "tags": []
   },
   "source": [
    "#### Parameters"
   ]
  },
  {
   "cell_type": "code",
   "execution_count": 8,
   "id": "4f761054",
   "metadata": {
    "colab": {
     "base_uri": "https://localhost:8080/"
    },
    "execution": {
     "iopub.execute_input": "2023-07-12T12:48:26.592514Z",
     "iopub.status.busy": "2023-07-12T12:48:26.591652Z",
     "iopub.status.idle": "2023-07-12T12:48:26.599322Z",
     "shell.execute_reply": "2023-07-12T12:48:26.598025Z",
     "shell.execute_reply.started": "2023-07-12T12:48:26.592479Z"
    },
    "id": "chnXSgp_MKV4",
    "outputId": "1226249a-3ba9-4638-d9f4-d8a8662f6793",
    "papermill": {
     "duration": 0.035202,
     "end_time": "2023-03-04T15:23:51.251216",
     "exception": false,
     "start_time": "2023-03-04T15:23:51.216014",
     "status": "completed"
    },
    "tags": []
   },
   "outputs": [
    {
     "name": "stdout",
     "output_type": "stream",
     "text": [
      "Start:  0 \tEnd:  1000\n"
     ]
    }
   ],
   "source": [
    "start = 0\n",
    "offset = 50\n",
    "no_of_urls_to_scrape = 1000\n",
    "\n",
    "end = start + no_of_urls_to_scrape\n",
    "print(\"Start: \", start, \"\\tEnd: \", end)"
   ]
  },
  {
   "cell_type": "code",
   "execution_count": 9,
   "id": "a27fae2c",
   "metadata": {
    "execution": {
     "iopub.execute_input": "2023-07-12T12:48:30.678047Z",
     "iopub.status.busy": "2023-07-12T12:48:30.677639Z",
     "iopub.status.idle": "2023-07-12T12:48:31.979116Z",
     "shell.execute_reply": "2023-07-12T12:48:31.978192Z",
     "shell.execute_reply.started": "2023-07-12T12:48:30.678015Z"
    },
    "id": "LidmWCBjMKV7",
    "papermill": {
     "duration": 0.864513,
     "end_time": "2023-03-04T15:23:52.139279",
     "exception": false,
     "start_time": "2023-03-04T15:23:51.274766",
     "status": "completed"
    },
    "tags": []
   },
   "outputs": [],
   "source": [
    "driver = webdriver.Chrome(options = chrome_options)"
   ]
  },
  {
   "cell_type": "markdown",
   "id": "22ee1ede",
   "metadata": {
    "id": "YfwiGdKCMKV9",
    "papermill": {
     "duration": 0.023889,
     "end_time": "2023-03-04T15:23:52.190874",
     "exception": false,
     "start_time": "2023-03-04T15:23:52.166985",
     "status": "completed"
    },
    "tags": []
   },
   "source": [
    "#### Read test dataset"
   ]
  },
  {
   "cell_type": "code",
   "execution_count": 10,
   "id": "ae9e430b",
   "metadata": {
    "execution": {
     "iopub.execute_input": "2023-07-12T12:48:34.868247Z",
     "iopub.status.busy": "2023-07-12T12:48:34.867838Z",
     "iopub.status.idle": "2023-07-12T12:48:40.154158Z",
     "shell.execute_reply": "2023-07-12T12:48:40.152821Z",
     "shell.execute_reply.started": "2023-07-12T12:48:34.868218Z"
    },
    "id": "nRJa9m93lxdE"
   },
   "outputs": [],
   "source": [
    "url=\"https://www.navabharat.com/\"\n",
    "main_list=[]\n",
    "response=requests.get(url).content\n",
    "soup=BeautifulSoup(response,\"html.parser\")\n",
    "main=soup.find_all(\"div\",attrs={'class':'twp-desc'})\n",
    "# print(main)\n",
    "\n",
    "for link in soup.find_all('h3',attrs={'class':\"twp-post-title\"}):\n",
    "  sub_list=[]\n",
    "  sub_list.append(link.find('a').get(\"href\"))\n",
    "  sub_list.append(\"article_url\")\n",
    "  main_list.append(sub_list)\n",
    "\n",
    "# for link in main_list:\n",
    "#   print(link)"
   ]
  },
  {
   "cell_type": "code",
   "execution_count": 11,
   "id": "25f177fa",
   "metadata": {
    "execution": {
     "iopub.execute_input": "2023-07-12T12:48:51.733295Z",
     "iopub.status.busy": "2023-07-12T12:48:51.732870Z",
     "iopub.status.idle": "2023-07-12T12:48:51.749162Z",
     "shell.execute_reply": "2023-07-12T12:48:51.748247Z",
     "shell.execute_reply.started": "2023-07-12T12:48:51.733262Z"
    },
    "id": "ld0SicucwTKG"
   },
   "outputs": [],
   "source": [
    "df=pd.DataFrame(main_list,columns=[\"url\",\"category\"])\n",
    "df.to_csv(\"navaharathUpd.csv\")"
   ]
  },
  {
   "cell_type": "code",
   "execution_count": 14,
   "id": "4de2d006",
   "metadata": {
    "colab": {
     "base_uri": "https://localhost:8080/",
     "height": 363
    },
    "execution": {
     "iopub.execute_input": "2023-07-12T12:49:39.749631Z",
     "iopub.status.busy": "2023-07-12T12:49:39.749211Z",
     "iopub.status.idle": "2023-07-12T12:49:39.756657Z",
     "shell.execute_reply": "2023-07-12T12:49:39.755447Z",
     "shell.execute_reply.started": "2023-07-12T12:49:39.749601Z"
    },
    "id": "nYLscEYYxF7h",
    "outputId": "1998eee1-3a3d-41b9-abba-cec8f566188c"
   },
   "outputs": [
    {
     "name": "stdout",
     "output_type": "stream",
     "text": [
      "60\n"
     ]
    }
   ],
   "source": [
    "df.head(50)\n",
    "# print(len(main_list))"
   ]
  },
  {
   "cell_type": "code",
   "execution_count": 16,
   "id": "0bb1ea80",
   "metadata": {
    "colab": {
     "base_uri": "https://localhost:8080/"
    },
    "execution": {
     "iopub.execute_input": "2023-07-12T12:50:38.157082Z",
     "iopub.status.busy": "2023-07-12T12:50:38.155908Z",
     "iopub.status.idle": "2023-07-12T12:50:38.173127Z",
     "shell.execute_reply": "2023-07-12T12:50:38.171843Z",
     "shell.execute_reply.started": "2023-07-12T12:50:38.157024Z"
    },
    "id": "hXY6vuvWMKV-",
    "outputId": "b71ab86b-ac3f-46c5-863e-91e936c95cef",
    "papermill": {
     "duration": 0.069528,
     "end_time": "2023-03-04T15:23:52.283745",
     "exception": false,
     "start_time": "2023-03-04T15:23:52.214217",
     "status": "completed"
    },
    "tags": []
   },
   "outputs": [
    {
     "name": "stdout",
     "output_type": "stream",
     "text": [
      "Output Data:\n",
      "(60, 3)\n",
      "   Unnamed: 0                                        url     category\n",
      "0           0  https://www.navabharat.com/nbwp/?p=123476  article_url\n",
      "1           1  https://www.navabharat.com/nbwp/?p=123474  article_url\n",
      "2           2  https://www.navabharat.com/nbwp/?p=123471  article_url\n",
      "3           3  https://www.navabharat.com/nbwp/?p=123469  article_url\n",
      "4           4  https://www.navabharat.com/nbwp/?p=123467  article_url\n"
     ]
    }
   ],
   "source": [
    "samples_count = 0\n",
    "out_df = None\n",
    "for chunk in pd.read_csv('/kaggle/working/navaharathUpd.csv', chunksize = no_of_urls_to_scrape):\n",
    "    if samples_count == start:\n",
    "        out_df = chunk.copy()\n",
    "        break\n",
    "    samples_count += int(chunk.shape[0])\n",
    "\n",
    "\n",
    "if out_df is not None:\n",
    "    print(\"Output Data:\")\n",
    "    print(out_df.shape)\n",
    "    print(out_df.head())\n",
    "else:\n",
    "    exit('Something went wrong with reading the input data...')"
   ]
  },
  {
   "cell_type": "code",
   "execution_count": 17,
   "id": "43067a87",
   "metadata": {
    "colab": {
     "base_uri": "https://localhost:8080/"
    },
    "execution": {
     "iopub.execute_input": "2023-07-12T12:50:41.857775Z",
     "iopub.status.busy": "2023-07-12T12:50:41.856847Z",
     "iopub.status.idle": "2023-07-12T12:50:41.863898Z",
     "shell.execute_reply": "2023-07-12T12:50:41.862766Z",
     "shell.execute_reply.started": "2023-07-12T12:50:41.857735Z"
    },
    "id": "tCabb6gTMKV_",
    "outputId": "439b5400-ecff-4a41-dea9-de2b2cbbbca3",
    "papermill": {
     "duration": 0.059929,
     "end_time": "2023-03-04T15:23:52.367689",
     "exception": false,
     "start_time": "2023-03-04T15:23:52.307760",
     "status": "completed"
    },
    "tags": []
   },
   "outputs": [
    {
     "name": "stdout",
     "output_type": "stream",
     "text": [
      "https://www.navabharat.com/nbwp/?p=123476\n"
     ]
    }
   ],
   "source": [
    "url = out_df['url'][0]\n",
    "#sample Link\n",
    "# url='https://www.navabharat.com/nbwp/?p=123271'\n",
    "print(url)"
   ]
  },
  {
   "cell_type": "code",
   "execution_count": 38,
   "id": "672b5b12",
   "metadata": {
    "execution": {
     "iopub.execute_input": "2023-07-12T13:12:54.198784Z",
     "iopub.status.busy": "2023-07-12T13:12:54.197598Z",
     "iopub.status.idle": "2023-07-12T13:12:55.517869Z",
     "shell.execute_reply": "2023-07-12T13:12:55.516816Z",
     "shell.execute_reply.started": "2023-07-12T13:12:54.198729Z"
    }
   },
   "outputs": [
    {
     "data": {
      "text/plain": [
       "403"
      ]
     },
     "execution_count": 38,
     "metadata": {},
     "output_type": "execute_result"
    }
   ],
   "source": [
    "url = out_df['url'][2]\n",
    "response = requests.get(url)\n",
    "response.status_code"
   ]
  },
  {
   "cell_type": "markdown",
   "id": "ad8c369c",
   "metadata": {
    "id": "ZAFt9QEsMKWB"
   },
   "source": []
  },
  {
   "cell_type": "markdown",
   "id": "9e2efca6",
   "metadata": {
    "id": "HP0aHuXAMKWC",
    "papermill": {
     "duration": 0.036825,
     "end_time": "2023-03-04T15:23:52.441009",
     "exception": false,
     "start_time": "2023-03-04T15:23:52.404184",
     "status": "completed"
    },
    "tags": []
   },
   "source": [
    "#### Scrape news content"
   ]
  },
  {
   "cell_type": "code",
   "execution_count": 18,
   "id": "2b8f1126",
   "metadata": {
    "execution": {
     "iopub.execute_input": "2023-07-12T12:50:47.410984Z",
     "iopub.status.busy": "2023-07-12T12:50:47.410525Z",
     "iopub.status.idle": "2023-07-12T12:50:47.417446Z",
     "shell.execute_reply": "2023-07-12T12:50:47.416499Z",
     "shell.execute_reply.started": "2023-07-12T12:50:47.410950Z"
    },
    "id": "aA0vgsX1MKWD",
    "papermill": {
     "duration": 0.052999,
     "end_time": "2023-03-04T15:23:52.526413",
     "exception": false,
     "start_time": "2023-03-04T15:23:52.473414",
     "status": "completed"
    },
    "tags": []
   },
   "outputs": [],
   "source": [
    "def find_tag_sequence(element):\n",
    "    parent_elements = []\n",
    "    while element is not None:\n",
    "        p_name = getattr(element, 'name', None)\n",
    "        parent_elements.append(p_name)\n",
    "        element = element.parent\n",
    "\n",
    "        if element.parent is None:\n",
    "            break\n",
    "    return '>'.join(parent_elements[::-1])"
   ]
  },
  {
   "cell_type": "code",
   "execution_count": 19,
   "id": "b056236b",
   "metadata": {
    "execution": {
     "iopub.execute_input": "2023-07-12T12:50:51.856623Z",
     "iopub.status.busy": "2023-07-12T12:50:51.856157Z",
     "iopub.status.idle": "2023-07-12T12:50:51.867251Z",
     "shell.execute_reply": "2023-07-12T12:50:51.865822Z",
     "shell.execute_reply.started": "2023-07-12T12:50:51.856586Z"
    },
    "id": "myBPtZBfMKWE",
    "papermill": {
     "duration": 0.048327,
     "end_time": "2023-03-04T15:23:52.599939",
     "exception": false,
     "start_time": "2023-03-04T15:23:52.551612",
     "status": "completed"
    },
    "tags": []
   },
   "outputs": [],
   "source": [
    "def find_neighbours_and_parent(element):\n",
    "    parent_tag = None\n",
    "    prev_tag = None\n",
    "    next_tag = None\n",
    "    child_tags = None\n",
    "\n",
    "    if element is not None:\n",
    "        #### Next sibling\n",
    "        next_sib = element.find_next_sibling()\n",
    "        if next_sib is not None:\n",
    "            next_tag = getattr(next_sib, 'name', None)\n",
    "\n",
    "        #### Previous sibling\n",
    "        previous_sib = element.find_previous_sibling()\n",
    "        if previous_sib is not None:\n",
    "            prev_tag = getattr(previous_sib, 'name', None)\n",
    "\n",
    "        #### Element parent\n",
    "        if element.parent is not None:\n",
    "            parent = element.parent\n",
    "            parent_tag = getattr(parent, 'name', None)\n",
    "\n",
    "        #### Children\n",
    "        childs = element.find_all(recursive=False)\n",
    "        if childs is not None:\n",
    "            child_tag_names = []\n",
    "            for child in childs:\n",
    "                child_tag_names.append(getattr(child, 'name', None))\n",
    "            child_tags = list(set(child_tag_names.copy()))\n",
    "\n",
    "    return {'next_sibling': next_tag, 'parent_node': parent_tag, 'prev_sibling': prev_tag, 'child_nodes': child_tags}"
   ]
  },
  {
   "cell_type": "code",
   "execution_count": 20,
   "id": "d8dbabd5",
   "metadata": {
    "execution": {
     "iopub.execute_input": "2023-07-12T12:51:05.896684Z",
     "iopub.status.busy": "2023-07-12T12:51:05.896269Z",
     "iopub.status.idle": "2023-07-12T12:51:05.911956Z",
     "shell.execute_reply": "2023-07-12T12:51:05.910648Z",
     "shell.execute_reply.started": "2023-07-12T12:51:05.896652Z"
    },
    "id": "KIiGC85oMKWF",
    "papermill": {
     "duration": 0.045545,
     "end_time": "2023-03-04T15:23:52.676232",
     "exception": false,
     "start_time": "2023-03-04T15:23:52.630687",
     "status": "completed"
    },
    "tags": []
   },
   "outputs": [],
   "source": [
    "def extract_visual_features(web_element):\n",
    "    features = {\n",
    "        'x': np.nan,\n",
    "        'y': np.nan,\n",
    "        'height': np.nan,\n",
    "        'width': np.nan,\n",
    "        'is_visible': np.nan,\n",
    "        'aria_role': np.nan,\n",
    "        'bgcolor': np.nan,\n",
    "        'font_color': np.nan,\n",
    "        'font_size': np.nan,\n",
    "        'font_style': np.nan,\n",
    "        'font_family': np.nan,\n",
    "    }\n",
    "\n",
    "\n",
    "    try:\n",
    "        loc = web_element.rect\n",
    "        features['x'] = loc.get('x', np.nan)\n",
    "        features['y'] = loc.get('y', np.nan)\n",
    "        features['height'] = loc.get('height', np.nan)\n",
    "        features['width'] = loc.get('width', np.nan)\n",
    "    except:\n",
    "        pass\n",
    "\n",
    "    try:\n",
    "        is_display = web_element.is_displayed()\n",
    "        features['is_visible'] = is_display\n",
    "    except:\n",
    "        pass\n",
    "\n",
    "    try:\n",
    "        aria_role = web_element.aria_role\n",
    "        features['aria_role'] = aria_role\n",
    "    except:\n",
    "        pass\n",
    "\n",
    "    try:\n",
    "        bgcolor = web_element.value_of_css_property('background-color')\n",
    "        bgcolor = [int(val.strip()) for val in bgcolor.replace('rgba(','').replace(')','').split(',') if val.strip()!='']\n",
    "        features['bgcolor'] = bgcolor\n",
    "    except:\n",
    "        pass\n",
    "\n",
    "    try:\n",
    "        font_size = web_element.value_of_css_property('font-size')\n",
    "        features['font_size'] = font_size\n",
    "    except:\n",
    "        pass\n",
    "\n",
    "    try:\n",
    "        font_style = web_element.value_of_css_property('font-style')\n",
    "        features['font_style'] = font_style\n",
    "    except:\n",
    "        pass\n",
    "\n",
    "    try:\n",
    "        font_family = web_element.value_of_css_property('font-family')\n",
    "        features['font_family'] = font_family\n",
    "    except:\n",
    "        pass\n",
    "\n",
    "    try:\n",
    "        font_color = web_element.value_of_css_property('color')\n",
    "        font_color = [int(val.strip()) for val in font_color.replace('rgba(','').replace(')','').split(',') if val.strip()!='']\n",
    "        features['font_color'] = font_color\n",
    "    except:\n",
    "        pass\n",
    "\n",
    "\n",
    "    return features"
   ]
  },
  {
   "cell_type": "code",
   "execution_count": null,
   "id": "41acaa0a",
   "metadata": {
    "id": "i_SoKqdzMKWJ",
    "papermill": {
     "duration": 0.023472,
     "end_time": "2023-03-04T15:23:52.724760",
     "exception": false,
     "start_time": "2023-03-04T15:23:52.701288",
     "status": "completed"
    },
    "tags": []
   },
   "outputs": [],
   "source": []
  },
  {
   "cell_type": "markdown",
   "id": "34ef5eb5",
   "metadata": {
    "id": "fZEHGWWzMKWN",
    "papermill": {
     "duration": 0.023064,
     "end_time": "2023-03-04T15:23:52.771801",
     "exception": false,
     "start_time": "2023-03-04T15:23:52.748737",
     "status": "completed"
    },
    "tags": []
   },
   "source": [
    "#### Extraction methods"
   ]
  },
  {
   "cell_type": "code",
   "execution_count": 21,
   "id": "cd926f31",
   "metadata": {
    "execution": {
     "iopub.execute_input": "2023-07-12T12:51:19.089006Z",
     "iopub.status.busy": "2023-07-12T12:51:19.088546Z",
     "iopub.status.idle": "2023-07-12T12:51:19.101012Z",
     "shell.execute_reply": "2023-07-12T12:51:19.099644Z",
     "shell.execute_reply.started": "2023-07-12T12:51:19.088972Z"
    },
    "id": "cfc1vp-3MKWO",
    "papermill": {
     "duration": 0.038483,
     "end_time": "2023-03-04T15:23:52.833631",
     "exception": false,
     "start_time": "2023-03-04T15:23:52.795148",
     "status": "completed"
    },
    "tags": []
   },
   "outputs": [],
   "source": [
    "def extract_title(soup, driver):\n",
    "    try:\n",
    "        #### Title Tag\n",
    "        title = soup.title\n",
    "        # print(title)\n",
    "        features = {}\n",
    "        title_tag = np.nan\n",
    "        if title is not None:\n",
    "            title_tag = str(title)\n",
    "#             print(title_tag)\n",
    "            tag_sequence = ''\n",
    "            try:\n",
    "                tag_sequence = find_tag_sequence(title)\n",
    "            except:\n",
    "                pass\n",
    "            if tag_sequence!='':\n",
    "                features['tag_sequence'] = tag_sequence\n",
    "\n",
    "            neighbours = {}\n",
    "            try:\n",
    "                neighbours = find_neighbours_and_parent(title)\n",
    "            except:\n",
    "                pass\n",
    "            for key, value in neighbours.items():\n",
    "                features[key] = value\n",
    "\n",
    "            visual_features = {}\n",
    "            try:\n",
    "                if driver is not None:\n",
    "                    title = driver.title\n",
    "                    visual_features = extract_visual_features(title)\n",
    "                    for key, value in visual_features.items():\n",
    "                        features[key] = value\n",
    "            except:\n",
    "                pass\n",
    "        else:\n",
    "            title_tag = np.nan\n",
    "\n",
    "        if len(features)>0:\n",
    "            features = json.dumps(features, ensure_ascii=False)\n",
    "        else:\n",
    "            features = np.nan\n",
    "        return title_tag, features\n",
    "    except:\n",
    "        return np.nan, np.nan"
   ]
  },
  {
   "cell_type": "code",
   "execution_count": 22,
   "id": "55688f79",
   "metadata": {
    "colab": {
     "base_uri": "https://localhost:8080/"
    },
    "execution": {
     "iopub.execute_input": "2023-07-12T12:51:25.970065Z",
     "iopub.status.busy": "2023-07-12T12:51:25.969659Z",
     "iopub.status.idle": "2023-07-12T12:51:32.099119Z",
     "shell.execute_reply": "2023-07-12T12:51:32.097937Z",
     "shell.execute_reply.started": "2023-07-12T12:51:25.970034Z"
    },
    "id": "Ix-wdL1JMKWQ",
    "outputId": "cf99104a-4640-4938-e130-a77310380f21"
   },
   "outputs": [
    {
     "name": "stdout",
     "output_type": "stream",
     "text": [
      "<title>बंगाल में पंचायत चुनाव परिणाम के दिन भी हिंसा और रक्तपात की काली सच्चाई देखी गई: मजुमदार</title> {\"tag_sequence\": \"html>head>meta>title\", \"next_sibling\": \"style\", \"parent_node\": \"meta\", \"prev_sibling\": \"link\", \"child_nodes\": [], \"x\": NaN, \"y\": NaN, \"height\": NaN, \"width\": NaN, \"is_visible\": NaN, \"aria_role\": NaN, \"bgcolor\": NaN, \"font_color\": NaN, \"font_size\": NaN, \"font_style\": NaN, \"font_family\": NaN}\n"
     ]
    }
   ],
   "source": [
    "response=requests.get(url).content\n",
    "# print(requests.get(url).status_code)\n",
    "soup=BeautifulSoup(response,'html.parser')\n",
    "title_tag,features=extract_title(soup,driver)\n",
    "print(title_tag,features)"
   ]
  },
  {
   "cell_type": "code",
   "execution_count": 23,
   "id": "0006b97d",
   "metadata": {
    "execution": {
     "iopub.execute_input": "2023-07-12T12:51:39.044895Z",
     "iopub.status.busy": "2023-07-12T12:51:39.044475Z",
     "iopub.status.idle": "2023-07-12T12:51:39.073635Z",
     "shell.execute_reply": "2023-07-12T12:51:39.072480Z",
     "shell.execute_reply.started": "2023-07-12T12:51:39.044862Z"
    },
    "id": "rrv1z8zjMKWR",
    "papermill": {
     "duration": 0.053373,
     "end_time": "2023-03-04T15:23:52.912922",
     "exception": false,
     "start_time": "2023-03-04T15:23:52.859549",
     "status": "completed"
    },
    "tags": []
   },
   "outputs": [],
   "source": [
    "def extract_headline_category_pdate(soup, driver):\n",
    "    try:\n",
    "        #### Headline\n",
    "        headline = np.nan\n",
    "        headline_features = {}\n",
    "\n",
    "        #### Category\n",
    "        category = np.nan\n",
    "        category_features = {}\n",
    "\n",
    "        #### Publish Date\n",
    "        publish_date = np.nan\n",
    "        pdate_features = {}\n",
    "\n",
    "        main_div = soup.find('div', attrs={'class':'content-area'})\n",
    "        # print(main_div)\n",
    "        if main_div is not None:\n",
    "            sub_div = main_div.find('main', attrs={'class':'site-main'})\n",
    "            if sub_div is not None:\n",
    "                content_div = sub_div.find('header', attrs={'class':'entry-header'})\n",
    "                if content_div is not None:\n",
    "                    h1 = content_div.find('h1',attrs={'class':'entry-title'})\n",
    "                    if h1 is not None:\n",
    "                        headline = str(h1)\n",
    "\n",
    "                        tag_sequence = ''\n",
    "                        try:\n",
    "                            tag_sequence = find_tag_sequence(h1)\n",
    "                        except:\n",
    "                            pass\n",
    "                        if tag_sequence!='':\n",
    "                            headline_features['tag_sequence'] = tag_sequence\n",
    "\n",
    "                        try:\n",
    "                            neighbours = find_neighbours_and_parent(h1)\n",
    "                        except:\n",
    "                            pass\n",
    "                        for key, value in neighbours.items():\n",
    "                            headline_features[key] = value\n",
    "\n",
    "                    spans = content_div.find_all('span')\n",
    "                    if spans is not None and len(spans)>0:\n",
    "                        cat = spans[0]\n",
    "                        if cat is not None:\n",
    "                            category = str(cat)\n",
    "\n",
    "                            tag_sequence = ''\n",
    "                            try:\n",
    "                                tag_sequence = find_tag_sequence(cat)\n",
    "                            except:\n",
    "                                pass\n",
    "                            if tag_sequence!='':\n",
    "                                category_features['tag_sequence'] = tag_sequence\n",
    "\n",
    "                            try:\n",
    "                                neighbours = find_neighbours_and_parent(cat)\n",
    "                            except:\n",
    "                                pass\n",
    "                            for key, value in neighbours.items():\n",
    "                                category_features[key] = value\n",
    "\n",
    "                        if len(spans)>1:\n",
    "                            pdate =main_div.find(\"span\",attrs={'class':'posts-date'})\n",
    "#                             print(pdate)\n",
    "                            if pdate is not None:\n",
    "                                publish_date = str(pdate)\n",
    "\n",
    "                                tag_sequence = ''\n",
    "                                try:\n",
    "                                    tag_sequence = find_tag_sequence(pdate)\n",
    "                                except:\n",
    "                                    pass\n",
    "                                if tag_sequence!='':\n",
    "                                    pdate_features['tag_sequence'] = tag_sequence\n",
    "\n",
    "                                try:\n",
    "                                    neighbours = find_neighbours_and_parent(pdate)\n",
    "                                except:\n",
    "                                    pass\n",
    "                                for key, value in neighbours.items():\n",
    "                                    pdate_features[key] = value\n",
    "\n",
    "\n",
    "            try:\n",
    "                if driver is not None:\n",
    "                    main_div_ = driver.find_element(By.CSS_SELECTOR, 'div.content-area')\n",
    "                    # print(main_div_.get_attribute(\"outerHTML\"))\n",
    "                    if main_div_ is not None:\n",
    "                        sub_div_ = main_div_.find_element(By.CSS_SELECTOR, 'main.site-main')\n",
    "                        if sub_div_ is not None:\n",
    "                            content_div_ = sub_div_.find_element(By.CSS_SELECTOR, 'header.entry-header')\n",
    "#                             print(content_div_)\n",
    "                            if content_div_ is not None:\n",
    "\n",
    "                                ### Headline\n",
    "                                h1_ = content_div_.find_element(By.CSS_SELECTOR, 'h1.entry-title')\n",
    "                                if h1_ is not None:\n",
    "                                    visual_features = extract_visual_features(h1_)\n",
    "#                                     print(visual_features)\n",
    "                                    for key, value in visual_features.items():\n",
    "                                        headline_features[key] = value\n",
    "\n",
    "#                                 spans_div_ = content_div_.find_element(By.CSS_SELECTOR, 'div.twp-author-desc')\n",
    "                                # print(spans_div_)\n",
    "\n",
    "                                cat_=content_div_.find_element(By.CSS_SELECTOR,\"span.twp-caption\")\n",
    "                                # print(cat_)\n",
    "                                if cat_ is not None:\n",
    "                                    visual_features = extract_visual_features(cat_)\n",
    "                                    # print(visual_features)\n",
    "                                    for key, value in visual_features.items():\n",
    "                                        category_features[key] = value\n",
    "                                    # print(category_features)\n",
    "\n",
    "\n",
    "                                pdate_ = main_div_.find_element(By.CSS_SELECTOR,\"span.posts-date\")\n",
    "                                if pdate_ is not None:\n",
    "                                    visual_features = extract_visual_features(pdate_)\n",
    "                                    for key, value in visual_features.items():\n",
    "                                            pdate_features[key] = value\n",
    "                                    # print(pdate_features)\n",
    "            except:\n",
    "                pass\n",
    "\n",
    "            headline = str(headline)\n",
    "            category = str(category)\n",
    "            publish_date = str(publish_date)\n",
    "        else:\n",
    "            headline = np.nan\n",
    "            category = np.nan\n",
    "            publish_date = np.nan\n",
    "\n",
    "\n",
    "        if len(headline_features)>0:\n",
    "            headline_features = json.dumps(headline_features, ensure_ascii=False)\n",
    "        else:\n",
    "            headline_features = np.nan\n",
    "\n",
    "        if len(category_features)>0:\n",
    "            category_features = json.dumps(category_features, ensure_ascii=False)\n",
    "        else:\n",
    "            category_features = np.nan\n",
    "\n",
    "        if len(pdate_features)>0:\n",
    "            pdate_features = json.dumps(pdate_features, ensure_ascii=False)\n",
    "        else:\n",
    "            pdate_features = np.nan\n",
    "        return headline, headline_features, category, category_features, publish_date, pdate_features\n",
    "    except:\n",
    "        print(\"Except at end\")\n",
    "        return np.nan, np.nan, np.nan, np.nan, np.nan, np.nan"
   ]
  },
  {
   "cell_type": "code",
   "execution_count": 24,
   "id": "5bdcd741",
   "metadata": {
    "colab": {
     "base_uri": "https://localhost:8080/"
    },
    "execution": {
     "iopub.execute_input": "2023-07-12T12:51:43.836134Z",
     "iopub.status.busy": "2023-07-12T12:51:43.835745Z",
     "iopub.status.idle": "2023-07-12T12:51:55.484243Z",
     "shell.execute_reply": "2023-07-12T12:51:55.483087Z",
     "shell.execute_reply.started": "2023-07-12T12:51:43.836102Z"
    },
    "id": "RwDbikn3MKWU",
    "outputId": "3c86d013-1c45-45d5-b892-fcfd724b0d60"
   },
   "outputs": [
    {
     "name": "stdout",
     "output_type": "stream",
     "text": [
      "<h1 class=\"entry-title twp-secondary-title\">\n",
      "<a href=\"https://www.navabharat.com/nbwp/?p=123476\" rel=\"bookmark\">\n",
      "\t\t\tबंगाल में पंचायत चुनाव परिणाम के दिन भी हिंसा और रक्तपात की काली सच्चाई देखी गई: मजुमदार\t\t\t</a>\n",
      "</h1> {\"tag_sequence\": \"html>body>div>div>div>main>article>header>h1\", \"next_sibling\": \"div\", \"parent_node\": \"header\", \"prev_sibling\": \"div\", \"child_nodes\": [\"a\"], \"x\": 55, \"y\": 447.59375, \"height\": 138, \"width\": 675, \"is_visible\": true, \"aria_role\": \"heading\", \"bgcolor\": [0, 0, 0, 0], \"font_color\": [0, 0, 0, 1], \"font_size\": \"28px\", \"font_style\": \"normal\", \"font_family\": \"Merriweather\"} <span class=\"twp-single-post-author\">\n",
      "<a href=\"https://www.navabharat.com/nbwp/?author=1\">\n",
      "<span class=\"twp-author-image\"><img src=\"https://secure.gravatar.com/avatar/12ed5b59390bd18ede2355bba16a6945?s=150&amp;d=blank&amp;r=g\"/></span>\n",
      "<span class=\"twp-caption\">नव भारत न्यूज</span>\n",
      "</a>\n",
      "</span> {\"tag_sequence\": \"html>body>div>div>div>main>article>header>div>span\", \"next_sibling\": \"span\", \"parent_node\": \"div\", \"prev_sibling\": null, \"child_nodes\": [\"a\"], \"x\": 98, \"y\": 611.984375, \"height\": 21, \"width\": 138, \"is_visible\": true, \"aria_role\": \"none\", \"bgcolor\": [0, 0, 0, 0], \"font_color\": [0, 0, 0, 1], \"font_size\": \"14px\", \"font_style\": \"normal\", \"font_family\": \"Merriweather\"} <span class=\"item-metadata posts-date\">\n",
      "<i class=\"fa fa-clock-o\"></i>\n",
      "        \t        July 12, 2023        \t</span> {\"tag_sequence\": \"html>body>div>div>div>main>article>header>div>span\", \"next_sibling\": null, \"parent_node\": \"div\", \"prev_sibling\": \"span\", \"child_nodes\": [\"i\"], \"x\": 251, \"y\": 607.59375, \"height\": 26, \"width\": 93, \"is_visible\": true, \"aria_role\": \"none\", \"bgcolor\": [0, 0, 0, 0], \"font_color\": [0, 0, 0, 1], \"font_size\": \"14px\", \"font_style\": \"normal\", \"font_family\": \"Merriweather\"}\n"
     ]
    }
   ],
   "source": [
    "response=requests.get(url).content\n",
    "# print(response.status_code)\n",
    "soup=BeautifulSoup(response,'html.parser')\n",
    "driver=webdriver.Chrome(options=chrome_options)\n",
    "driver.get(url)\n",
    "h,hf,cat,catf,pdate,pdatef=extract_headline_category_pdate(soup,driver)\n",
    "print(h,hf,cat,catf,pdate,pdatef)"
   ]
  },
  {
   "cell_type": "code",
   "execution_count": 25,
   "id": "ac7cc51c",
   "metadata": {
    "execution": {
     "iopub.execute_input": "2023-07-12T12:52:12.297934Z",
     "iopub.status.busy": "2023-07-12T12:52:12.297481Z",
     "iopub.status.idle": "2023-07-12T12:52:12.313476Z",
     "shell.execute_reply": "2023-07-12T12:52:12.312641Z",
     "shell.execute_reply.started": "2023-07-12T12:52:12.297898Z"
    },
    "id": "CS_i37gzMKWV",
    "papermill": {
     "duration": 0.042208,
     "end_time": "2023-03-04T15:23:52.979366",
     "exception": false,
     "start_time": "2023-03-04T15:23:52.937158",
     "status": "completed"
    },
    "tags": []
   },
   "outputs": [],
   "source": [
    "def extract_article_content(soup, driver):\n",
    "    try:\n",
    "        #### Article\n",
    "        article_div = soup.find('main', attrs={'class': 'site-main'})\n",
    "        # print(article_div)\n",
    "        para_list = []\n",
    "        features = []\n",
    "        if article_div is not None:\n",
    "            paras = article_div.find_all('p')\n",
    "            for i in range(len(paras)):\n",
    "                features.append({})\n",
    "\n",
    "            if paras is not None:\n",
    "                count = 0\n",
    "\n",
    "                for para in paras:\n",
    "                    if(para.find(\"img\")):\n",
    "                        continue\n",
    "                    para_list.append(str(para))\n",
    "                    tag_sequence = ''\n",
    "                    try:\n",
    "                        tag_sequence = find_tag_sequence(para)\n",
    "                    except:\n",
    "                        pass\n",
    "                    if tag_sequence!='':\n",
    "                        features[count]['tag_sequence'] = tag_sequence\n",
    "\n",
    "                    neighbours = {}\n",
    "                    try:\n",
    "                        neighbours = find_neighbours_and_parent(para)\n",
    "                    except:\n",
    "                        pass\n",
    "                    for key, value in neighbours.items():\n",
    "                        features[count][key] = value\n",
    "\n",
    "                    count += 1\n",
    "\n",
    "                try:\n",
    "                    if driver is not None:\n",
    "                        article_div_ = driver.find_element(By.CSS_SELECTOR, 'main.site-main')\n",
    "                        if article_div_ is not None:\n",
    "                            paras_ = article_div_.find_elements(By.TAG_NAME, 'p')\n",
    "                            if paras_ is not None:\n",
    "                                count = 0\n",
    "\n",
    "                                for para_ in paras_:\n",
    "                                    visual_features = {}\n",
    "                                    try:\n",
    "                                        visual_features = extract_visual_features(para_)\n",
    "                                    except:\n",
    "                                        pass\n",
    "                                    for key, value in visual_features.items():\n",
    "                                        features[count][key] = value\n",
    "\n",
    "                                    count += 1\n",
    "                except:\n",
    "                    pass\n",
    "\n",
    "            para_list = json.dumps(para_list, ensure_ascii=False)\n",
    "        else:\n",
    "            para_list = np.nan\n",
    "\n",
    "        if len(features)>0:\n",
    "            features = json.dumps(features, ensure_ascii=False)\n",
    "        else:\n",
    "            features = np.nan\n",
    "        return para_list, features\n",
    "    except:\n",
    "        return np.nan, np.nan"
   ]
  },
  {
   "cell_type": "code",
   "execution_count": null,
   "id": "392844ce",
   "metadata": {
    "id": "B5iSDkzneNgS"
   },
   "outputs": [],
   "source": []
  },
  {
   "cell_type": "code",
   "execution_count": 26,
   "id": "299c2022",
   "metadata": {
    "colab": {
     "base_uri": "https://localhost:8080/"
    },
    "execution": {
     "iopub.execute_input": "2023-07-12T12:52:25.877269Z",
     "iopub.status.busy": "2023-07-12T12:52:25.876846Z",
     "iopub.status.idle": "2023-07-12T12:52:26.486417Z",
     "shell.execute_reply": "2023-07-12T12:52:26.485176Z",
     "shell.execute_reply.started": "2023-07-12T12:52:25.877237Z"
    },
    "id": "AOCNcisiPQxd",
    "outputId": "fae89ddc-18ec-41ee-fb13-9ea27911751e"
   },
   "outputs": [
    {
     "name": "stdout",
     "output_type": "stream",
     "text": [
      "[\"<p><strong>कोलकाता, 12 जुलाई (वार्ता)</strong> पश्चिम बंगाल भारतीय जनता पार्टी (भाजपा) के अध्यक्ष सुकांत मजूमदार ने कहा कि तृणमूल कांग्रेस का आतंक पंचायत चुनाव परिणाम की घोषणा के दिन भी जारी रहा और चुनाव हिंसा तथा रक्तपात की काली सच्चाई देखी गई है।</p>\", \"<p>श्री मजूमदार कल रात किये श्रृखंलाबद्ध ट्वीट में कहा, “बंगाल में हालिया पंचायत चुनावों ने हिंसा और रक्तपात का एक परेशान करने वाला दृश्य उजागर किया है, जिससे पूरा देश सदमे में है। परिणाम की घोषणा के दौरान भी भाजपा कार्यकर्ताओं पर बेरहमी से हमला कर उनकी हत्या कर दी गई।”</p>\", \"<p>उन्होंने कहा कि यह गंभीर वास्तविकता मुख्यमंत्री ममता बनर्जी के शासन के तहत हिंसा के काले चेहरे को दर्शाती है, उन्होंने शांति बहाल करने और लोगों की रक्षा के लिए तत्काल कार्रवाई का आह्वान किया है।</p>\", \"<p>उन्होंने कहा कि मुख्यमंत्री ममता बनर्जी हर ऐसी हिंसक घटना के लिए ज़िम्मेदार हैं। बालुरघाट से भाजपा के सांसद ने कहा कि डायमंड हार्बर चुनावी हिंसा और धांधली का एक डरावना मॉडल है। डायमंड हार्बर के मतदान केंद्रों पर कई लोगों की मौत हुई है, वहां रक्तपात का एकमात्र उद्देश्य तृणमूल की जीत सुनिश्चित करना था।</p>\", \"<p>उन्होंने आरोप लगाया कि ऐसा प्रतीत होता है कि चुनाव आयोग पिशी-भाइपो आयोग में तब्दील हो गया है, जिसकी काली छाया हमारे लोकतंत्र पर पड़ रही है।</p>\", \"<p>उन्होंने कहा, “महिला मुख्यमंत्री के राज में पंचायत चुनाव के दौरान महिलाओं के साथ जो क्रूर व्यवहार हुआ वह पूरी तरह से अमानवीय है। मतगणना केंद्र में भाजपा एजेंट के रूप में उनकी भूमिका के लिए उन्हें निशाना बनाया गया, जिसके परिणामस्वरूप उन पर हमला हुआ, उनके कपड़े फाड़ दिए गए और उन्हें बाहर फेंका गया। यहां तक कि उनके पति पर भी हमला हुआ।”</p>\", \"<p>उन्होंने सवाल किया, “जो लोग लोकतंत्र के बारे में जोर-शोर से बोलते हैं, वे अब कहां हैं।” उन्होंने कहा, “हमें ऐसी हिंसा की निंदा करनी चाहिए और महिलाओं के अधिकारों और सुरक्षा के लिए खड़ा होना चाहिए।”</p>\"] [{\"tag_sequence\": \"html>body>div>div>div>main>article>div>p\", \"next_sibling\": \"p\", \"parent_node\": \"div\", \"prev_sibling\": \"p\", \"child_nodes\": [\"strong\"], \"x\": 55, \"y\": 660.59375, \"height\": 0, \"width\": 675, \"is_visible\": true, \"aria_role\": \"none\", \"bgcolor\": [0, 0, 0, 0], \"font_color\": [0, 0, 0, 1], \"font_size\": \"14px\", \"font_style\": \"normal\", \"font_family\": \"Merriweather\"}, {\"tag_sequence\": \"html>body>div>div>div>main>article>div>p\", \"next_sibling\": \"div\", \"parent_node\": \"div\", \"prev_sibling\": \"p\", \"child_nodes\": [], \"x\": 55, \"y\": 660.59375, \"height\": 147, \"width\": 675, \"is_visible\": true, \"aria_role\": \"paragraph\", \"bgcolor\": [0, 0, 0, 0], \"font_color\": [0, 0, 0, 1], \"font_size\": \"14px\", \"font_style\": \"normal\", \"font_family\": \"Merriweather\"}, {\"tag_sequence\": \"html>body>div>div>div>main>article>div>p\", \"next_sibling\": \"p\", \"parent_node\": \"div\", \"prev_sibling\": \"div\", \"child_nodes\": [], \"x\": 55, \"y\": 827.59375, \"height\": 105, \"width\": 675, \"is_visible\": true, \"aria_role\": \"paragraph\", \"bgcolor\": [0, 0, 0, 0], \"font_color\": [0, 0, 0, 1], \"font_size\": \"14px\", \"font_style\": \"normal\", \"font_family\": \"Merriweather\"}, {\"tag_sequence\": \"html>body>div>div>div>main>article>div>p\", \"next_sibling\": \"p\", \"parent_node\": \"div\", \"prev_sibling\": \"p\", \"child_nodes\": [], \"x\": 55, \"y\": 952.59375, \"height\": 84, \"width\": 675, \"is_visible\": true, \"aria_role\": \"paragraph\", \"bgcolor\": [0, 0, 0, 0], \"font_color\": [0, 0, 0, 1], \"font_size\": \"14px\", \"font_style\": \"normal\", \"font_family\": \"Merriweather\"}, {\"tag_sequence\": \"html>body>div>div>div>main>article>div>p\", \"next_sibling\": \"div\", \"parent_node\": \"div\", \"prev_sibling\": \"p\", \"child_nodes\": [], \"x\": 55, \"y\": 1056.59375, \"height\": 105, \"width\": 675, \"is_visible\": true, \"aria_role\": \"paragraph\", \"bgcolor\": [0, 0, 0, 0], \"font_color\": [0, 0, 0, 1], \"font_size\": \"14px\", \"font_style\": \"normal\", \"font_family\": \"Merriweather\"}, {\"tag_sequence\": \"html>body>div>div>div>main>article>div>p\", \"next_sibling\": \"p\", \"parent_node\": \"div\", \"prev_sibling\": \"div\", \"child_nodes\": [], \"x\": 55, \"y\": 1181.59375, \"height\": 63, \"width\": 675, \"is_visible\": true, \"aria_role\": \"paragraph\", \"bgcolor\": [0, 0, 0, 0], \"font_color\": [0, 0, 0, 1], \"font_size\": \"14px\", \"font_style\": \"normal\", \"font_family\": \"Merriweather\"}, {\"tag_sequence\": \"html>body>div>div>div>main>article>div>p\", \"next_sibling\": null, \"parent_node\": \"div\", \"prev_sibling\": \"p\", \"child_nodes\": [], \"x\": 55, \"y\": 1264.59375, \"height\": 126, \"width\": 675, \"is_visible\": true, \"aria_role\": \"paragraph\", \"bgcolor\": [0, 0, 0, 0], \"font_color\": [0, 0, 0, 1], \"font_size\": \"14px\", \"font_style\": \"normal\", \"font_family\": \"Merriweather\"}, {\"x\": 55, \"y\": 1410.59375, \"height\": 63, \"width\": 675, \"is_visible\": true, \"aria_role\": \"paragraph\", \"bgcolor\": [0, 0, 0, 0], \"font_color\": [0, 0, 0, 1], \"font_size\": \"14px\", \"font_style\": \"normal\", \"font_family\": \"Merriweather\"}]\n"
     ]
    }
   ],
   "source": [
    "# response=requests.get(url).content\n",
    "# soup=BeautifulSoup(response,\"html.parser\")\n",
    "# driver=webdriver.Chrome(options=chrome_options)\n",
    "# driver.get(url)\n",
    "p_list,features=extract_article_content(soup,driver)\n",
    "print(p_list,features)"
   ]
  },
  {
   "cell_type": "code",
   "execution_count": null,
   "id": "3cc35a2c",
   "metadata": {
    "id": "B8FUGOnugAs2"
   },
   "outputs": [],
   "source": []
  },
  {
   "cell_type": "code",
   "execution_count": 27,
   "id": "56fbe600",
   "metadata": {
    "execution": {
     "iopub.execute_input": "2023-07-12T12:52:36.032346Z",
     "iopub.status.busy": "2023-07-12T12:52:36.031109Z",
     "iopub.status.idle": "2023-07-12T12:52:36.048822Z",
     "shell.execute_reply": "2023-07-12T12:52:36.047511Z",
     "shell.execute_reply.started": "2023-07-12T12:52:36.032307Z"
    },
    "id": "vibJ5LNsMKWX",
    "papermill": {
     "duration": 0.044526,
     "end_time": "2023-03-04T15:23:53.048109",
     "exception": false,
     "start_time": "2023-03-04T15:23:53.003583",
     "status": "completed"
    },
    "tags": []
   },
   "outputs": [],
   "source": [
    "def extract_images(soup, driver):\n",
    "    try:\n",
    "        image = None\n",
    "        features = {}\n",
    "\n",
    "        #### Images\n",
    "        main_div = soup.find('div', attrs={'class':'site-content'})\n",
    "        # print(main_div)\n",
    "        if main_div is not None:\n",
    "            sub_div = main_div.find('div', attrs={'class':'content-area'})\n",
    "            if sub_div is not None:\n",
    "                content_div = sub_div.find('main', attrs={'class':'site-main'})\n",
    "                # print(content_div)\n",
    "                if content_div is not None:\n",
    "                    # print(content_div)\n",
    "                    images = content_div.find('img',attrs={'class':\"alignleft\"})\n",
    "                    # print(images)\n",
    "                    if images is not None:\n",
    "\n",
    "                        image = str(images)\n",
    "                        match = re.search(r'<img.*?>', image)\n",
    "                        if match is not None:\n",
    "                            image = image[match.span()[0]:match.span()[1]]\n",
    "\n",
    "                        tag_sequence = ''\n",
    "                        try:\n",
    "                            tag_sequence = find_tag_sequence(image)\n",
    "                        except:\n",
    "                            pass\n",
    "                        if tag_sequence!='':\n",
    "                            features['tag_sequence'] = tag_sequence\n",
    "\n",
    "                        neighbours = {}\n",
    "                        try:\n",
    "                            neighbours = find_neighbours_and_parent(image)\n",
    "                        except:\n",
    "                            pass\n",
    "                        for key, value in neighbours.items():\n",
    "                            features[key] = value\n",
    "\n",
    "            if driver is not None:\n",
    "                main_div_ = driver.find_element(By.CSS_SELECTOR, 'div.site-content')\n",
    "                if main_div_ is not None:\n",
    "                    sub_div_ = main_div_.find_element(By.CSS_SELECTOR, 'div.content-area')\n",
    "                    if sub_div_ is not None:\n",
    "                        content_div_ = sub_div_.find_element(By.CSS_SELECTOR, 'main.site-main')\n",
    "\n",
    "                        if content_div_ is not None:\n",
    "                            images_ = content_div_.find_element(By.CSS_SELECTOR, 'img.alignleft')\n",
    "                            # print(images_)\n",
    "                            if images_ is not None:\n",
    "                                visual_features = {}\n",
    "                                try:\n",
    "                                    visual_features = extract_visual_features(images_)\n",
    "                                except:\n",
    "                                    pass\n",
    "                                for key, value in visual_features.items():\n",
    "                                    features[key] = value\n",
    "\n",
    "            image = str(image)\n",
    "        else:\n",
    "            image = np.nan\n",
    "\n",
    "        if len(features)>0:\n",
    "            features = json.dumps(features, ensure_ascii=False)\n",
    "        else:\n",
    "            features = np.nan\n",
    "\n",
    "        return image, features\n",
    "    except Exception as e:\n",
    "#         print(\"Exception (img): \", e)\n",
    "        return np.nan, np.nan"
   ]
  },
  {
   "cell_type": "code",
   "execution_count": 28,
   "id": "adeb3e5c",
   "metadata": {
    "colab": {
     "base_uri": "https://localhost:8080/"
    },
    "execution": {
     "iopub.execute_input": "2023-07-12T12:52:39.423052Z",
     "iopub.status.busy": "2023-07-12T12:52:39.422624Z",
     "iopub.status.idle": "2023-07-12T12:52:39.554074Z",
     "shell.execute_reply": "2023-07-12T12:52:39.553052Z",
     "shell.execute_reply.started": "2023-07-12T12:52:39.423018Z"
    },
    "id": "kWD0wGFDTa2y",
    "outputId": "bc959231-aa73-4d20-bf74-8465a38ba0d9"
   },
   "outputs": [
    {
     "name": "stdout",
     "output_type": "stream",
     "text": [
      "<img alt=\"\" class=\"alignleft size-medium wp-image-123479\" decoding=\"async\" height=\"183\" sizes=\"(max-width: 300px) 100vw, 300px\" src=\"https://navabharat.com/nbwp/wp-content/uploads/2023/07/15-7-300x183.jpg\" srcset=\"https://navabharat.com/nbwp/wp-content/uploads/2023/07/15-7-300x183.jpg 300w, https://navabharat.com/nbwp/wp-content/uploads/2023/07/15-7.jpg 550w\" width=\"300\"/> {\"x\": 55, \"y\": 660.59375, \"height\": 183, \"width\": 300, \"is_visible\": true, \"aria_role\": \"none\", \"bgcolor\": [0, 0, 0, 0], \"font_color\": [0, 0, 0, 1], \"font_size\": \"14px\", \"font_style\": \"normal\", \"font_family\": \"Merriweather\"}\n"
     ]
    }
   ],
   "source": [
    "# response=requests.get(url).content\n",
    "# soup=BeautifulSoup(response,\"html.parser\")\n",
    "# driver=webdriver.Chrome(options=chrome_options)\n",
    "# driver.get(url)\n",
    "img,imgf=extract_images(soup,driver)\n",
    "\n",
    "print(img,imgf)"
   ]
  },
  {
   "cell_type": "code",
   "execution_count": 29,
   "id": "3c3b0997",
   "metadata": {
    "execution": {
     "iopub.execute_input": "2023-07-12T12:52:43.450838Z",
     "iopub.status.busy": "2023-07-12T12:52:43.450416Z",
     "iopub.status.idle": "2023-07-12T12:52:43.465487Z",
     "shell.execute_reply": "2023-07-12T12:52:43.464461Z",
     "shell.execute_reply.started": "2023-07-12T12:52:43.450804Z"
    },
    "id": "kgJWMgSCMKWZ",
    "papermill": {
     "duration": 0.040597,
     "end_time": "2023-03-04T15:23:53.112810",
     "exception": false,
     "start_time": "2023-03-04T15:23:53.072213",
     "status": "completed"
    },
    "tags": []
   },
   "outputs": [],
   "source": [
    "def extract_tags(soup, driver):\n",
    "    try:\n",
    "        #### Tags\n",
    "        anchors = soup.find_all('a', attrs={'class': 'btn btn-sm btn-outline-secondary m-1'})\n",
    "        tags_list = []\n",
    "        features = []\n",
    "        if anchors is not None:\n",
    "\n",
    "            for count in range(len(anchors)):\n",
    "                features.append({})\n",
    "\n",
    "                anchor = anchors[count]\n",
    "                tags_list.append(str(anchor))\n",
    "\n",
    "                tag_sequence = ''\n",
    "                try:\n",
    "                    tag_sequence = find_tag_sequence(anchor)\n",
    "                except:\n",
    "                    pass\n",
    "                if tag_sequence!='':\n",
    "                    features[count]['tag_sequence'] = tag_sequence\n",
    "\n",
    "                neighbours = {}\n",
    "                try:\n",
    "                    neighbours = find_neighbours_and_parent(anchor)\n",
    "                except:\n",
    "                    pass\n",
    "                for key, value in neighbours.items():\n",
    "                    features[count][key] = value\n",
    "\n",
    "\n",
    "            if driver is not None:\n",
    "                anchors_ = driver.find_elements(By.CSS_SELECTOR, 'a.btn.btn-sm.btn-outline-secondary.m-1')\n",
    "                if anchors_ is not None:\n",
    "                    count = 0\n",
    "                    for anchor_ in anchors_:\n",
    "\n",
    "                        visual_features = {}\n",
    "                        try:\n",
    "                            visual_features = extract_visual_features(anchor_)\n",
    "                        except:\n",
    "                            pass\n",
    "\n",
    "                        for key, value in visual_features.items():\n",
    "                            features[count][key] = value\n",
    "                        count += 1\n",
    "\n",
    "            tags_list = json.dumps(tags_list, ensure_ascii=False)\n",
    "        else:\n",
    "            tags_list = np.nan\n",
    "\n",
    "\n",
    "        if len(features)>0:\n",
    "            features = json.dumps(features, ensure_ascii=False)\n",
    "        else:\n",
    "            features = np.nan\n",
    "        return tags_list, features\n",
    "    except Exception as e:\n",
    "#         print(\"Exception (tag): \", e)\n",
    "        return np.nan, np.nan"
   ]
  },
  {
   "cell_type": "code",
   "execution_count": null,
   "id": "173d4fcd",
   "metadata": {
    "id": "gBhh448_MKWa",
    "papermill": {
     "duration": 0.023625,
     "end_time": "2023-03-04T15:23:53.160257",
     "exception": false,
     "start_time": "2023-03-04T15:23:53.136632",
     "status": "completed"
    },
    "tags": []
   },
   "outputs": [],
   "source": []
  },
  {
   "cell_type": "code",
   "execution_count": null,
   "id": "33190d9b",
   "metadata": {
    "id": "Bfr_C5x2MKWb",
    "papermill": {
     "duration": 0.023359,
     "end_time": "2023-03-04T15:23:53.207142",
     "exception": false,
     "start_time": "2023-03-04T15:23:53.183783",
     "status": "completed"
    },
    "tags": []
   },
   "outputs": [],
   "source": []
  },
  {
   "cell_type": "code",
   "execution_count": 30,
   "id": "07cbc8ad",
   "metadata": {
    "execution": {
     "iopub.execute_input": "2023-07-12T12:52:48.164441Z",
     "iopub.status.busy": "2023-07-12T12:52:48.164041Z",
     "iopub.status.idle": "2023-07-12T12:52:48.176542Z",
     "shell.execute_reply": "2023-07-12T12:52:48.175323Z",
     "shell.execute_reply.started": "2023-07-12T12:52:48.164412Z"
    },
    "id": "mbaIZS5OMKWc",
    "papermill": {
     "duration": 0.039605,
     "end_time": "2023-03-04T15:23:53.270495",
     "exception": false,
     "start_time": "2023-03-04T15:23:53.230890",
     "status": "completed"
    },
    "tags": []
   },
   "outputs": [],
   "source": [
    "def scrape_news_contents(source_code, url, sample_id, driver=None):\n",
    "    soup = BeautifulSoup(source_code, 'html.parser')\n",
    "\n",
    "    article = {\n",
    "    \t'url': url,\n",
    "        'sample_id': sample_id,\n",
    "        'title': np.nan,\n",
    "        'title_features': np.nan,\n",
    "        'headline': np.nan,\n",
    "        'headline_features': np.nan,\n",
    "        'category': np.nan,\n",
    "        'category_features': np.nan,\n",
    "        'publish_date': np.nan,\n",
    "        'publish_date_features': np.nan,\n",
    "        'article': np.nan,\n",
    "        'article_features': np.nan,\n",
    "        'images': np.nan,\n",
    "        'images_features': np.nan,\n",
    "        'tags': np.nan,\n",
    "        'tags_features': np.nan,\n",
    "        'source': soup,\n",
    "    }\n",
    "\n",
    "    title_tag, title_features = extract_title(soup, driver)\n",
    "    article['title'] = title_tag\n",
    "    article['title_features'] = title_features\n",
    "\n",
    "    headline, headline_features, category, category_features, publish_date, date_features = extract_headline_category_pdate(soup, driver)\n",
    "    article['headline'] = headline\n",
    "    article['headline_features'] = headline_features\n",
    "\n",
    "    article['category'] = category\n",
    "    article['category_features'] = category_features\n",
    "\n",
    "    article['publish_date'] = publish_date\n",
    "    article['publish_date_features'] = date_features\n",
    "\n",
    "    content, article_features = extract_article_content(soup, driver)\n",
    "    article['article'] = content\n",
    "    article['article_features'] = article_features\n",
    "\n",
    "    images, images_features = extract_images(soup,driver)\n",
    "    article['images'] = images\n",
    "    article['images_features'] = images_features\n",
    "\n",
    "    # tags, tags_features = extract_tags(soup, driver)\n",
    "    # article['tags'] = tags\n",
    "    # article['tags_features'] = tags_features\n",
    "\n",
    "    return article"
   ]
  },
  {
   "cell_type": "code",
   "execution_count": 31,
   "id": "468a8e2a",
   "metadata": {
    "execution": {
     "iopub.execute_input": "2023-07-12T12:52:54.359801Z",
     "iopub.status.busy": "2023-07-12T12:52:54.359341Z",
     "iopub.status.idle": "2023-07-12T12:53:04.271297Z",
     "shell.execute_reply": "2023-07-12T12:53:04.270381Z",
     "shell.execute_reply.started": "2023-07-12T12:52:54.359763Z"
    },
    "id": "LtEjRvW3MKWd",
    "papermill": {
     "duration": 0.023221,
     "end_time": "2023-03-04T15:23:53.317601",
     "exception": false,
     "start_time": "2023-03-04T15:23:53.294380",
     "status": "completed"
    },
    "tags": []
   },
   "outputs": [],
   "source": [
    "response=requests.get(url).content\n",
    "# soup=BeautifulSoup(response,\"html.parser\")\n",
    "driver=webdriver.Chrome(options=chrome_options)\n",
    "driver.get(url)\n",
    "article=scrape_news_contents(response,url,1,driver)\n",
    "# print(article)"
   ]
  },
  {
   "cell_type": "code",
   "execution_count": null,
   "id": "af542cb4",
   "metadata": {
    "id": "Loa_lPmsMKWe",
    "papermill": {
     "duration": 0.023016,
     "end_time": "2023-03-04T15:23:53.364177",
     "exception": false,
     "start_time": "2023-03-04T15:23:53.341161",
     "status": "completed"
    },
    "tags": []
   },
   "outputs": [],
   "source": []
  },
  {
   "cell_type": "code",
   "execution_count": 32,
   "id": "98597b09",
   "metadata": {
    "execution": {
     "iopub.execute_input": "2023-07-12T12:53:04.274441Z",
     "iopub.status.busy": "2023-07-12T12:53:04.274081Z",
     "iopub.status.idle": "2023-07-12T12:53:04.294734Z",
     "shell.execute_reply": "2023-07-12T12:53:04.293317Z",
     "shell.execute_reply.started": "2023-07-12T12:53:04.274410Z"
    },
    "id": "sNkvv9NlMKWe",
    "papermill": {
     "duration": 0.045575,
     "end_time": "2023-03-04T15:23:53.433292",
     "exception": false,
     "start_time": "2023-03-04T15:23:53.387717",
     "status": "completed"
    },
    "tags": []
   },
   "outputs": [],
   "source": [
    "def scrape_misc_contents(source_code, article, driver=None):\n",
    "    misc_content = []\n",
    "    misc_features = []\n",
    "\n",
    "    try:\n",
    "        ### Extracting the article features from the json to remove from misc content (leaf nodes)\n",
    "        article_fields = []\n",
    "        for field in SINGLE_ENTRIES:\n",
    "            article_fields.append(article[field])\n",
    "\n",
    "        for field in MULTIPLE_ENTRIES:\n",
    "            entries = article[field]\n",
    "            if type(entries)==str:\n",
    "                entries = json.loads(entries)\n",
    "                for entry in entries:\n",
    "                    article_fields.append(entry)\n",
    "\n",
    "\n",
    "        ### Extracting all leaf nodes from the soup object and removing the noisy tags, article fields\n",
    "        all_leaf_nodes = []\n",
    "        leaf_node_features = []\n",
    "        soup = BeautifulSoup(source_code, 'html.parser')\n",
    "        body = soup.find('body')\n",
    "        for child in body.recursiveChildGenerator():\n",
    "            name = getattr(child, \"name\", None)\n",
    "            if name is None:\n",
    "                if not child.isspace(): # leaf node, don't print spaces\n",
    "                    p_name = getattr(child.parent, 'name', None)\n",
    "                    if p_name is not None and p_name not in EXCLUDE_TAGS and str(child.parent) not in article_fields:\n",
    "                        entry = {}\n",
    "                        entry['misc_features'] = {}\n",
    "                        entry['misc_features']['tag_sequence'] = find_tag_sequence(child.parent)\n",
    "                        neighbours = find_neighbours_and_parent(child.parent)\n",
    "                        for key, value in neighbours.items():\n",
    "                            entry['misc_features'][key] = value\n",
    "\n",
    "                        all_leaf_nodes.append(str(child.parent))\n",
    "                        leaf_node_features.append(entry)\n",
    "\n",
    "\n",
    "        ### Extracting the features for the leaf nodes (only for soup leaf nodes from above) using selenium\n",
    "        leaf_node_selenium_features = {}\n",
    "        if driver is not None:\n",
    "            body_element = driver.find_element(By.TAG_NAME, 'body')\n",
    "            if body_element is not None:\n",
    "                childs = body_element.find_elements(By.XPATH,\".//*\")\n",
    "                for child in childs:\n",
    "                    try:\n",
    "                        html_content = child.get_attribute('outerHTML')\n",
    "                        if html_content in all_leaf_nodes:\n",
    "                            index = all_leaf_nodes.index(html_content)\n",
    "                            leaf_node_selenium_features[index] = extract_visual_features(child)\n",
    "                    except:\n",
    "                        pass\n",
    "\n",
    "\n",
    "        ### Combining the features of soup and selenium\n",
    "        for index, tag_html in enumerate(all_leaf_nodes):\n",
    "            sel_feature = leaf_node_selenium_features.get(index, None)\n",
    "            if sel_feature is not None:\n",
    "                if len(sel_feature)>0:\n",
    "                    for key, value in sel_feature.items():\n",
    "                        leaf_node_features[index]['misc_features'][key] = value\n",
    "\n",
    "            misc_content.append(all_leaf_nodes[index])\n",
    "            misc_features.append(json.dumps(leaf_node_features[index].get('misc_features', {})))\n",
    "    except Exception as e:\n",
    "        print(\"Exception in misc: \", e)\n",
    "        pass\n",
    "\n",
    "    return misc_content, misc_features"
   ]
  },
  {
   "cell_type": "code",
   "execution_count": null,
   "id": "d2584688",
   "metadata": {
    "id": "DiGiy9mFMKWg",
    "papermill": {
     "duration": 0.024364,
     "end_time": "2023-03-04T15:23:53.481546",
     "exception": false,
     "start_time": "2023-03-04T15:23:53.457182",
     "status": "completed"
    },
    "tags": []
   },
   "outputs": [],
   "source": []
  },
  {
   "cell_type": "markdown",
   "id": "a5f53a49",
   "metadata": {
    "id": "l0KKVVMGMKWh",
    "papermill": {
     "duration": 0.024125,
     "end_time": "2023-03-04T15:23:53.529603",
     "exception": false,
     "start_time": "2023-03-04T15:23:53.505478",
     "status": "completed"
    },
    "tags": []
   },
   "source": [
    "#### Crawling the links"
   ]
  },
  {
   "cell_type": "code",
   "execution_count": 33,
   "id": "af8a72e7",
   "metadata": {
    "colab": {
     "base_uri": "https://localhost:8080/"
    },
    "execution": {
     "iopub.execute_input": "2023-07-12T12:53:11.240215Z",
     "iopub.status.busy": "2023-07-12T12:53:11.239783Z",
     "iopub.status.idle": "2023-07-12T12:53:11.249280Z",
     "shell.execute_reply": "2023-07-12T12:53:11.248090Z",
     "shell.execute_reply.started": "2023-07-12T12:53:11.240181Z"
    },
    "id": "rMCr9jp9MKWi",
    "outputId": "77359711-eab3-45e9-dc2f-d807d994988d",
    "papermill": {
     "duration": 0.037025,
     "end_time": "2023-03-04T15:23:53.590540",
     "exception": false,
     "start_time": "2023-03-04T15:23:53.553515",
     "status": "completed"
    },
    "tags": []
   },
   "outputs": [
    {
     "data": {
      "text/plain": [
       "['url',\n",
       " 'sample_id',\n",
       " 'title',\n",
       " 'title_features',\n",
       " 'headline',\n",
       " 'headline_features',\n",
       " 'category',\n",
       " 'category_features',\n",
       " 'publish_date',\n",
       " 'publish_date_features',\n",
       " 'article',\n",
       " 'article_features',\n",
       " 'images',\n",
       " 'images_features',\n",
       " 'tags',\n",
       " 'tags_features',\n",
       " 'source']"
      ]
     },
     "execution_count": 33,
     "metadata": {},
     "output_type": "execute_result"
    }
   ],
   "source": [
    "column_names = [\n",
    "    'url', 'sample_id', 'title', 'title_features', 'headline',\n",
    "    'headline_features', 'category', 'category_features', 'publish_date',\n",
    "    'publish_date_features', 'article', 'article_features', 'images', 'images_features',\n",
    "    'tags', 'tags_features', 'source'\n",
    "]\n",
    "column_names"
   ]
  },
  {
   "cell_type": "code",
   "execution_count": 34,
   "id": "8777e3bd",
   "metadata": {
    "execution": {
     "iopub.execute_input": "2023-07-12T12:53:16.981199Z",
     "iopub.status.busy": "2023-07-12T12:53:16.980770Z",
     "iopub.status.idle": "2023-07-12T12:53:16.987476Z",
     "shell.execute_reply": "2023-07-12T12:53:16.986093Z",
     "shell.execute_reply.started": "2023-07-12T12:53:16.981154Z"
    },
    "id": "QLI0wEpXMKW3",
    "papermill": {
     "duration": 0.033739,
     "end_time": "2023-03-04T15:23:53.648621",
     "exception": false,
     "start_time": "2023-03-04T15:23:53.614882",
     "status": "completed"
    },
    "tags": []
   },
   "outputs": [],
   "source": [
    "SINGLE_ENTRIES = ['title', 'headline', 'category', 'publish_date', 'images']\n",
    "MULTIPLE_ENTRIES = ['article', 'tags']\n",
    "EXCLUDE_TAGS = ['script', 'style', 'header', 'footer', 'iframe', 'formgroup', 'form']"
   ]
  },
  {
   "cell_type": "code",
   "execution_count": 35,
   "id": "2b73bc52",
   "metadata": {
    "colab": {
     "base_uri": "https://localhost:8080/"
    },
    "execution": {
     "iopub.execute_input": "2023-07-12T12:53:20.709322Z",
     "iopub.status.busy": "2023-07-12T12:53:20.708418Z",
     "iopub.status.idle": "2023-07-12T12:53:20.715458Z",
     "shell.execute_reply": "2023-07-12T12:53:20.714705Z",
     "shell.execute_reply.started": "2023-07-12T12:53:20.709270Z"
    },
    "id": "niQW7vQzMKW5",
    "outputId": "b2e71cf5-471e-4de5-a56b-269ecb0d331c",
    "papermill": {
     "duration": 0.037306,
     "end_time": "2023-03-04T15:23:53.709558",
     "exception": false,
     "start_time": "2023-03-04T15:23:53.672252",
     "status": "completed"
    },
    "tags": []
   },
   "outputs": [
    {
     "data": {
      "text/plain": [
       "('./navabharath_0_1000.csv', './navabharath_0_1000_misc.csv')"
      ]
     },
     "execution_count": 35,
     "metadata": {},
     "output_type": "execute_result"
    }
   ],
   "source": [
    "output_file_name = './navabharath_{}_{}.csv'.format(start, end)\n",
    "output_file_name_misc = './navabharath_{}_{}_misc.csv'.format(start, end)\n",
    "output_file_name, output_file_name_misc"
   ]
  },
  {
   "cell_type": "code",
   "execution_count": null,
   "id": "606cafeb",
   "metadata": {
    "id": "hdYcmcjRMKW7",
    "papermill": {
     "duration": 0.023382,
     "end_time": "2023-03-04T15:23:53.756790",
     "exception": false,
     "start_time": "2023-03-04T15:23:53.733408",
     "status": "completed"
    },
    "tags": []
   },
   "outputs": [],
   "source": []
  },
  {
   "cell_type": "code",
   "execution_count": null,
   "id": "5a2a10ca",
   "metadata": {
    "colab": {
     "base_uri": "https://localhost:8080/"
    },
    "id": "ku4kKS1FMKW9",
    "outputId": "cd380fec-8d32-4569-a23c-a9ee3c4fc7b7",
    "papermill": {
     "duration": 18726.364218,
     "end_time": "2023-03-04T20:36:00.144794",
     "exception": false,
     "start_time": "2023-03-04T15:23:53.780576",
     "status": "completed"
    },
    "tags": []
   },
   "outputs": [],
   "source": [
    "print(\"Extracting the contents from the source\")\n",
    "final_data = []\n",
    "final_misc_content = []\n",
    "final_misc_features = []\n",
    "\n",
    "for i in tqdm(range(start, start + min(end, out_df.shape[0]))):\n",
    "    url = out_df['url'][i]\n",
    "    sample_id = i\n",
    "\n",
    "    try:\n",
    "        response = requests.get(url)\n",
    "        if response.status_code==200:\n",
    "            driver.get(url)\n",
    "            article = scrape_news_contents(response.content, url, sample_id, driver)\n",
    "            final_data.append(article)\n",
    "            misc_content, misc_features = scrape_misc_contents(response.content, article, driver)\n",
    "#             print(\"misc Len: \", len(misc_content))\n",
    "#             print(\"misc Feat: \", len(misc_features))\n",
    "\n",
    "            for i in range(len(misc_content)):\n",
    "                if misc_content[i] not in final_misc_content:\n",
    "                    final_misc_content.append(misc_content[i])\n",
    "                    final_misc_features.append(misc_features[i])\n",
    "#             print(\"Misc Len: \", len(final_misc_content))\n",
    "#             print(\"Feat Len: \", len(final_misc_features))\n",
    "\n",
    "        else:\n",
    "            print(\"Status Code: \", response.status_code)\n",
    "    except Exception as e:\n",
    "        print(\"Exception: \", e)\n",
    "        driver = webdriver.Chrome(options = chrome_options)\n",
    "\n",
    "\n",
    "    if (i+1)%100 == 0:\n",
    "        print(\"Saving the checkpoint at {}\".format((i+1)/100))\n",
    "        df = pd.DataFrame(final_data, columns=column_names)\n",
    "        df.to_csv(output_file_name)\n",
    "\n",
    "        misc_df = pd.DataFrame(data={'misc': final_misc_content, 'misc_features': final_misc_features}, columns=['misc', 'misc_features'])\n",
    "        misc_df.to_csv(output_file_name_misc)\n",
    "\n",
    "print(\"Saving the pandas data frame\")\n",
    "df = pd.DataFrame(final_data, columns=column_names)\n",
    "df.to_csv(output_file_name)\n",
    "\n",
    "misc_df = pd.DataFrame(data={'misc': final_misc_content, 'misc_features': final_misc_features}, columns=['misc', 'misc_features'])\n",
    "misc_df.to_csv(output_file_name_misc)"
   ]
  },
  {
   "cell_type": "code",
   "execution_count": null,
   "id": "ca683fc6",
   "metadata": {
    "colab": {
     "base_uri": "https://localhost:8080/",
     "height": 113
    },
    "execution": {
     "iopub.execute_input": "2023-03-04T20:36:00.321421Z",
     "iopub.status.busy": "2023-03-04T20:36:00.321019Z",
     "iopub.status.idle": "2023-03-04T20:36:00.418032Z",
     "shell.execute_reply": "2023-03-04T20:36:00.416981Z"
    },
    "id": "CZrRfP32MKW_",
    "outputId": "dcc69109-66ac-4c65-84c5-fd51d75fb8b8",
    "papermill": {
     "duration": 0.188969,
     "end_time": "2023-03-04T20:36:00.421215",
     "exception": false,
     "start_time": "2023-03-04T20:36:00.232246",
     "status": "completed"
    },
    "tags": []
   },
   "outputs": [
    {
     "data": {
      "text/html": [
       "\n",
       "\n",
       "  <div id=\"df-222dae88-01da-4c50-8fbb-3fda2e2c87d0\">\n",
       "    <div class=\"colab-df-container\">\n",
       "      <div>\n",
       "<style scoped>\n",
       "    .dataframe tbody tr th:only-of-type {\n",
       "        vertical-align: middle;\n",
       "    }\n",
       "\n",
       "    .dataframe tbody tr th {\n",
       "        vertical-align: top;\n",
       "    }\n",
       "\n",
       "    .dataframe thead th {\n",
       "        text-align: right;\n",
       "    }\n",
       "</style>\n",
       "<table border=\"1\" class=\"dataframe\">\n",
       "  <thead>\n",
       "    <tr style=\"text-align: right;\">\n",
       "      <th></th>\n",
       "      <th>url</th>\n",
       "      <th>sample_id</th>\n",
       "      <th>title</th>\n",
       "      <th>title_features</th>\n",
       "      <th>headline</th>\n",
       "      <th>headline_features</th>\n",
       "      <th>category</th>\n",
       "      <th>category_features</th>\n",
       "      <th>publish_date</th>\n",
       "      <th>publish_date_features</th>\n",
       "      <th>article</th>\n",
       "      <th>article_features</th>\n",
       "      <th>images</th>\n",
       "      <th>images_features</th>\n",
       "      <th>tags</th>\n",
       "      <th>tags_features</th>\n",
       "      <th>source</th>\n",
       "    </tr>\n",
       "  </thead>\n",
       "  <tbody>\n",
       "  </tbody>\n",
       "</table>\n",
       "</div>\n",
       "      <button class=\"colab-df-convert\" onclick=\"convertToInteractive('df-222dae88-01da-4c50-8fbb-3fda2e2c87d0')\"\n",
       "              title=\"Convert this dataframe to an interactive table.\"\n",
       "              style=\"display:none;\">\n",
       "\n",
       "  <svg xmlns=\"http://www.w3.org/2000/svg\" height=\"24px\"viewBox=\"0 0 24 24\"\n",
       "       width=\"24px\">\n",
       "    <path d=\"M0 0h24v24H0V0z\" fill=\"none\"/>\n",
       "    <path d=\"M18.56 5.44l.94 2.06.94-2.06 2.06-.94-2.06-.94-.94-2.06-.94 2.06-2.06.94zm-11 1L8.5 8.5l.94-2.06 2.06-.94-2.06-.94L8.5 2.5l-.94 2.06-2.06.94zm10 10l.94 2.06.94-2.06 2.06-.94-2.06-.94-.94-2.06-.94 2.06-2.06.94z\"/><path d=\"M17.41 7.96l-1.37-1.37c-.4-.4-.92-.59-1.43-.59-.52 0-1.04.2-1.43.59L10.3 9.45l-7.72 7.72c-.78.78-.78 2.05 0 2.83L4 21.41c.39.39.9.59 1.41.59.51 0 1.02-.2 1.41-.59l7.78-7.78 2.81-2.81c.8-.78.8-2.07 0-2.86zM5.41 20L4 18.59l7.72-7.72 1.47 1.35L5.41 20z\"/>\n",
       "  </svg>\n",
       "      </button>\n",
       "\n",
       "\n",
       "\n",
       "    <div id=\"df-267e2f3f-9916-45b7-b1a9-40662fff8d7e\">\n",
       "      <button class=\"colab-df-quickchart\" onclick=\"quickchart('df-267e2f3f-9916-45b7-b1a9-40662fff8d7e')\"\n",
       "              title=\"Suggest charts.\"\n",
       "              style=\"display:none;\">\n",
       "\n",
       "<svg xmlns=\"http://www.w3.org/2000/svg\" height=\"24px\"viewBox=\"0 0 24 24\"\n",
       "     width=\"24px\">\n",
       "    <g>\n",
       "        <path d=\"M19 3H5c-1.1 0-2 .9-2 2v14c0 1.1.9 2 2 2h14c1.1 0 2-.9 2-2V5c0-1.1-.9-2-2-2zM9 17H7v-7h2v7zm4 0h-2V7h2v10zm4 0h-2v-4h2v4z\"/>\n",
       "    </g>\n",
       "</svg>\n",
       "      </button>\n",
       "    </div>\n",
       "\n",
       "<style>\n",
       "  .colab-df-quickchart {\n",
       "    background-color: #E8F0FE;\n",
       "    border: none;\n",
       "    border-radius: 50%;\n",
       "    cursor: pointer;\n",
       "    display: none;\n",
       "    fill: #1967D2;\n",
       "    height: 32px;\n",
       "    padding: 0 0 0 0;\n",
       "    width: 32px;\n",
       "  }\n",
       "\n",
       "  .colab-df-quickchart:hover {\n",
       "    background-color: #E2EBFA;\n",
       "    box-shadow: 0px 1px 2px rgba(60, 64, 67, 0.3), 0px 1px 3px 1px rgba(60, 64, 67, 0.15);\n",
       "    fill: #174EA6;\n",
       "  }\n",
       "\n",
       "  [theme=dark] .colab-df-quickchart {\n",
       "    background-color: #3B4455;\n",
       "    fill: #D2E3FC;\n",
       "  }\n",
       "\n",
       "  [theme=dark] .colab-df-quickchart:hover {\n",
       "    background-color: #434B5C;\n",
       "    box-shadow: 0px 1px 3px 1px rgba(0, 0, 0, 0.15);\n",
       "    filter: drop-shadow(0px 1px 2px rgba(0, 0, 0, 0.3));\n",
       "    fill: #FFFFFF;\n",
       "  }\n",
       "</style>\n",
       "\n",
       "    <script>\n",
       "      async function quickchart(key) {\n",
       "        const containerElement = document.querySelector('#' + key);\n",
       "        const charts = await google.colab.kernel.invokeFunction(\n",
       "            'suggestCharts', [key], {});\n",
       "      }\n",
       "    </script>\n",
       "\n",
       "      <script>\n",
       "\n",
       "function displayQuickchartButton(domScope) {\n",
       "  let quickchartButtonEl =\n",
       "    domScope.querySelector('#df-267e2f3f-9916-45b7-b1a9-40662fff8d7e button.colab-df-quickchart');\n",
       "  quickchartButtonEl.style.display =\n",
       "    google.colab.kernel.accessAllowed ? 'block' : 'none';\n",
       "}\n",
       "\n",
       "        displayQuickchartButton(document);\n",
       "      </script>\n",
       "      <style>\n",
       "    .colab-df-container {\n",
       "      display:flex;\n",
       "      flex-wrap:wrap;\n",
       "      gap: 12px;\n",
       "    }\n",
       "\n",
       "    .colab-df-convert {\n",
       "      background-color: #E8F0FE;\n",
       "      border: none;\n",
       "      border-radius: 50%;\n",
       "      cursor: pointer;\n",
       "      display: none;\n",
       "      fill: #1967D2;\n",
       "      height: 32px;\n",
       "      padding: 0 0 0 0;\n",
       "      width: 32px;\n",
       "    }\n",
       "\n",
       "    .colab-df-convert:hover {\n",
       "      background-color: #E2EBFA;\n",
       "      box-shadow: 0px 1px 2px rgba(60, 64, 67, 0.3), 0px 1px 3px 1px rgba(60, 64, 67, 0.15);\n",
       "      fill: #174EA6;\n",
       "    }\n",
       "\n",
       "    [theme=dark] .colab-df-convert {\n",
       "      background-color: #3B4455;\n",
       "      fill: #D2E3FC;\n",
       "    }\n",
       "\n",
       "    [theme=dark] .colab-df-convert:hover {\n",
       "      background-color: #434B5C;\n",
       "      box-shadow: 0px 1px 3px 1px rgba(0, 0, 0, 0.15);\n",
       "      filter: drop-shadow(0px 1px 2px rgba(0, 0, 0, 0.3));\n",
       "      fill: #FFFFFF;\n",
       "    }\n",
       "  </style>\n",
       "\n",
       "      <script>\n",
       "        const buttonEl =\n",
       "          document.querySelector('#df-222dae88-01da-4c50-8fbb-3fda2e2c87d0 button.colab-df-convert');\n",
       "        buttonEl.style.display =\n",
       "          google.colab.kernel.accessAllowed ? 'block' : 'none';\n",
       "\n",
       "        async function convertToInteractive(key) {\n",
       "          const element = document.querySelector('#df-222dae88-01da-4c50-8fbb-3fda2e2c87d0');\n",
       "          const dataTable =\n",
       "            await google.colab.kernel.invokeFunction('convertToInteractive',\n",
       "                                                     [key], {});\n",
       "          if (!dataTable) return;\n",
       "\n",
       "          const docLinkHtml = 'Like what you see? Visit the ' +\n",
       "            '<a target=\"_blank\" href=https://colab.research.google.com/notebooks/data_table.ipynb>data table notebook</a>'\n",
       "            + ' to learn more about interactive tables.';\n",
       "          element.innerHTML = '';\n",
       "          dataTable['output_type'] = 'display_data';\n",
       "          await google.colab.output.renderOutput(dataTable, element);\n",
       "          const docLink = document.createElement('div');\n",
       "          docLink.innerHTML = docLinkHtml;\n",
       "          element.appendChild(docLink);\n",
       "        }\n",
       "      </script>\n",
       "    </div>\n",
       "  </div>\n"
      ],
      "text/plain": [
       "Empty DataFrame\n",
       "Columns: [url, sample_id, title, title_features, headline, headline_features, category, category_features, publish_date, publish_date_features, article, article_features, images, images_features, tags, tags_features, source]\n",
       "Index: []"
      ]
     },
     "execution_count": 35,
     "metadata": {},
     "output_type": "execute_result"
    }
   ],
   "source": [
    "df.head()"
   ]
  },
  {
   "cell_type": "code",
   "execution_count": null,
   "id": "7be7186c",
   "metadata": {
    "execution": {
     "iopub.execute_input": "2023-03-04T20:36:00.603669Z",
     "iopub.status.busy": "2023-03-04T20:36:00.602534Z",
     "iopub.status.idle": "2023-03-04T20:36:00.629720Z",
     "shell.execute_reply": "2023-03-04T20:36:00.628433Z"
    },
    "id": "XNJcFd7QMKXA",
    "papermill": {
     "duration": 0.120178,
     "end_time": "2023-03-04T20:36:00.632504",
     "exception": false,
     "start_time": "2023-03-04T20:36:00.512326",
     "status": "completed"
    },
    "tags": []
   },
   "outputs": [],
   "source": [
    "# df.info()"
   ]
  },
  {
   "cell_type": "code",
   "execution_count": null,
   "id": "2c5c11e1",
   "metadata": {
    "execution": {
     "iopub.execute_input": "2023-03-04T20:36:00.839525Z",
     "iopub.status.busy": "2023-03-04T20:36:00.839101Z",
     "iopub.status.idle": "2023-03-04T20:36:00.849802Z",
     "shell.execute_reply": "2023-03-04T20:36:00.848867Z"
    },
    "id": "Ys5bFs_eMKXC",
    "papermill": {
     "duration": 0.102037,
     "end_time": "2023-03-04T20:36:00.851921",
     "exception": false,
     "start_time": "2023-03-04T20:36:00.749884",
     "status": "completed"
    },
    "tags": []
   },
   "outputs": [],
   "source": [
    "misc_df.head()"
   ]
  },
  {
   "cell_type": "code",
   "execution_count": null,
   "id": "31cb2b02",
   "metadata": {
    "execution": {
     "iopub.execute_input": "2023-03-04T20:36:01.034626Z",
     "iopub.status.busy": "2023-03-04T20:36:01.033945Z",
     "iopub.status.idle": "2023-03-04T20:36:01.048076Z",
     "shell.execute_reply": "2023-03-04T20:36:01.046727Z"
    },
    "id": "QJvxg-GsMKXD",
    "papermill": {
     "duration": 0.109288,
     "end_time": "2023-03-04T20:36:01.050505",
     "exception": false,
     "start_time": "2023-03-04T20:36:00.941217",
     "status": "completed"
    },
    "tags": []
   },
   "outputs": [],
   "source": [
    "misc_df.info()"
   ]
  },
  {
   "cell_type": "markdown",
   "id": "acd0e7b6",
   "metadata": {
    "id": "so6ydlN_MKXE",
    "papermill": {
     "duration": 0.090891,
     "end_time": "2023-03-04T20:36:01.234780",
     "exception": false,
     "start_time": "2023-03-04T20:36:01.143889",
     "status": "completed"
    },
    "tags": []
   },
   "source": [
    "## Rough"
   ]
  },
  {
   "cell_type": "code",
   "execution_count": null,
   "id": "e27c29c8",
   "metadata": {
    "execution": {
     "iopub.execute_input": "2023-03-04T20:36:01.435405Z",
     "iopub.status.busy": "2023-03-04T20:36:01.434956Z",
     "iopub.status.idle": "2023-03-04T20:36:01.440012Z",
     "shell.execute_reply": "2023-03-04T20:36:01.438868Z"
    },
    "id": "xZB8cDCUMKXF",
    "papermill": {
     "duration": 0.113563,
     "end_time": "2023-03-04T20:36:01.442960",
     "exception": false,
     "start_time": "2023-03-04T20:36:01.329397",
     "status": "completed"
    },
    "tags": []
   },
   "outputs": [],
   "source": [
    "# index = 2\n",
    "\n",
    "# url = out_df['url'][index]\n",
    "# sample_id = out_df['sample_id'][index]\n",
    "# print(\"Sample ID: \", sample_id, \"\\tURL: \", url)"
   ]
  },
  {
   "cell_type": "code",
   "execution_count": null,
   "id": "4725896e",
   "metadata": {
    "execution": {
     "iopub.execute_input": "2023-03-04T20:36:01.631933Z",
     "iopub.status.busy": "2023-03-04T20:36:01.631501Z",
     "iopub.status.idle": "2023-03-04T20:36:01.636157Z",
     "shell.execute_reply": "2023-03-04T20:36:01.635166Z"
    },
    "id": "Ok_GbOZWMKXG",
    "papermill": {
     "duration": 0.102145,
     "end_time": "2023-03-04T20:36:01.638459",
     "exception": false,
     "start_time": "2023-03-04T20:36:01.536314",
     "status": "completed"
    },
    "tags": []
   },
   "outputs": [],
   "source": [
    "# print(\"Extracting the contents from the source\")\n",
    "# article = {}\n",
    "# response = requests.get(url)\n",
    "# if response.status_code==200:\n",
    "#     driver.get(url)\n",
    "#     article = scrape_news_contents(response.content, url, sample_id, driver)\n",
    "# else:\n",
    "#     print(\"Status Code: \", response.status_code)"
   ]
  },
  {
   "cell_type": "code",
   "execution_count": null,
   "id": "59de42cc",
   "metadata": {
    "execution": {
     "iopub.execute_input": "2023-03-04T20:36:01.820499Z",
     "iopub.status.busy": "2023-03-04T20:36:01.819494Z",
     "iopub.status.idle": "2023-03-04T20:36:01.824566Z",
     "shell.execute_reply": "2023-03-04T20:36:01.823276Z"
    },
    "id": "CdQHt_E6MKXH",
    "papermill": {
     "duration": 0.099755,
     "end_time": "2023-03-04T20:36:01.828035",
     "exception": false,
     "start_time": "2023-03-04T20:36:01.728280",
     "status": "completed"
    },
    "tags": []
   },
   "outputs": [],
   "source": [
    "# column_names = list(article.keys())\n",
    "# column_names"
   ]
  },
  {
   "cell_type": "code",
   "execution_count": null,
   "id": "cdf26f2f",
   "metadata": {
    "execution": {
     "iopub.execute_input": "2023-03-04T20:36:02.015279Z",
     "iopub.status.busy": "2023-03-04T20:36:02.014522Z",
     "iopub.status.idle": "2023-03-04T20:36:02.018477Z",
     "shell.execute_reply": "2023-03-04T20:36:02.017644Z"
    },
    "id": "L8En5xrKMKXJ",
    "papermill": {
     "duration": 0.101518,
     "end_time": "2023-03-04T20:36:02.020907",
     "exception": false,
     "start_time": "2023-03-04T20:36:01.919389",
     "status": "completed"
    },
    "tags": []
   },
   "outputs": [],
   "source": [
    "# df = pd.DataFrame(data=[article], columns = column_names)\n",
    "# df.shape"
   ]
  },
  {
   "cell_type": "code",
   "execution_count": null,
   "id": "5c32d945",
   "metadata": {
    "execution": {
     "iopub.execute_input": "2023-03-04T20:36:02.208595Z",
     "iopub.status.busy": "2023-03-04T20:36:02.207737Z",
     "iopub.status.idle": "2023-03-04T20:36:02.212927Z",
     "shell.execute_reply": "2023-03-04T20:36:02.212051Z"
    },
    "id": "AHEtafUBMKXK",
    "papermill": {
     "duration": 0.102675,
     "end_time": "2023-03-04T20:36:02.215229",
     "exception": false,
     "start_time": "2023-03-04T20:36:02.112554",
     "status": "completed"
    },
    "tags": []
   },
   "outputs": [],
   "source": [
    "# df.head()"
   ]
  },
  {
   "cell_type": "code",
   "execution_count": null,
   "id": "c5ad7555",
   "metadata": {
    "id": "VR610Y9wMKXN",
    "papermill": {
     "duration": 0.09038,
     "end_time": "2023-03-04T20:36:02.396540",
     "exception": false,
     "start_time": "2023-03-04T20:36:02.306160",
     "status": "completed"
    },
    "tags": []
   },
   "outputs": [],
   "source": []
  }
 ],
 "metadata": {
  "colab": {
   "provenance": []
  },
  "kernelspec": {
   "display_name": "Python 3 (ipykernel)",
   "language": "python",
   "name": "python3"
  },
  "language_info": {
   "codemirror_mode": {
    "name": "ipython",
    "version": 3
   },
   "file_extension": ".py",
   "mimetype": "text/x-python",
   "name": "python",
   "nbconvert_exporter": "python",
   "pygments_lexer": "ipython3",
   "version": "3.9.13"
  },
  "papermill": {
   "default_parameters": {},
   "duration": 18823.062061,
   "end_time": "2023-03-04T20:36:05.150203",
   "environment_variables": {},
   "exception": null,
   "input_path": "__notebook__.ipynb",
   "output_path": "__notebook__.ipynb",
   "parameters": {},
   "start_time": "2023-03-04T15:22:22.088142",
   "version": "2.4.0"
  }
 },
 "nbformat": 4,
 "nbformat_minor": 5
}
