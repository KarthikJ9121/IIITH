{
 "cells": [
  {
   "cell_type": "code",
   "execution_count": 50,
   "metadata": {
    "_cell_guid": "ef08df1c-3c94-4f63-bbc7-6cc93f46fb52",
    "_execution_state": "idle",
    "_uuid": "7b62b6d64cc54d675b18c29ee12eed7cd45a3154",
    "execution": {
     "iopub.execute_input": "2020-12-05T09:41:32.302645Z",
     "iopub.status.busy": "2020-12-05T09:41:32.302400Z",
     "iopub.status.idle": "2020-12-05T09:41:32.309723Z",
     "shell.execute_reply": "2020-12-05T09:41:32.309266Z",
     "shell.execute_reply.started": "2020-12-05T09:41:32.302619Z"
    }
   },
   "outputs": [],
   "source": [
    "%matplotlib inline\n",
    "import pandas as pd\n",
    "import numpy as np\n",
    "\n",
    "from sklearn.model_selection import cross_val_predict\n",
    "from sklearn.model_selection import StratifiedKFold\n",
    "from sklearn.model_selection import train_test_split\n",
    "from sklearn.linear_model import LogisticRegression\n",
    "from sklearn.metrics import log_loss, accuracy_score\n",
    "from sklearn.feature_extraction.text import CountVectorizer\n",
    "from sklearn.feature_extraction.text import TfidfVectorizer\n",
    "from sklearn.svm import SVC\n",
    "from sklearn.decomposition import TruncatedSVD\n",
    "from sklearn.ensemble import RandomForestClassifier\n",
    "from sklearn.preprocessing import LabelEncoder\n",
    "\n",
    "import gensim\n",
    "import nltk,os\n",
    "\n",
    "import scikitplot.plotters as skplt\n",
    "\n",
    "\n",
    "# from xgboost import XGBClassifier\n",
    "\n",
    "# from keras.preprocessing.text import Tokenizer\n",
    "# from keras.preprocessing.sequence import pad_sequences\n",
    "# from keras.models import Sequential\n",
    "# from keras.layers import Dense, Embedding, LSTM\n",
    "# from keras.utils.np_utils import to_categorical\n",
    "# from keras.callbacks import ModelCheckpoint\n",
    "# from keras.models import load_model\n",
    "# from keras.optimizers import Adam"
   ]
  },
  {
   "cell_type": "markdown",
   "metadata": {
    "_cell_guid": "0b39f26e-9c4c-46db-8fe5-86967734c0e5",
    "_uuid": "58b74d086e6f6f067f337470219be9fd43211c08"
   },
   "source": [
    "## Load training_text and training_variants"
   ]
  },
  {
   "cell_type": "code",
   "execution_count": 3,
   "metadata": {
    "_cell_guid": "011dde04-0160-41cd-9149-5aeac26295fb",
    "_execution_state": "idle",
    "_uuid": "1b07b556871714b93d70806d58b5225be507e716",
    "execution": {
     "iopub.execute_input": "2020-12-05T07:21:33.375585Z",
     "iopub.status.busy": "2020-12-05T07:21:33.375373Z",
     "iopub.status.idle": "2020-12-05T07:21:34.094479Z",
     "shell.execute_reply": "2020-12-05T07:21:34.093947Z",
     "shell.execute_reply.started": "2020-12-05T07:21:33.375562Z"
    }
   },
   "outputs": [
    {
     "data": {
      "text/html": [
       "<div>\n",
       "<style scoped>\n",
       "    .dataframe tbody tr th:only-of-type {\n",
       "        vertical-align: middle;\n",
       "    }\n",
       "\n",
       "    .dataframe tbody tr th {\n",
       "        vertical-align: top;\n",
       "    }\n",
       "\n",
       "    .dataframe thead th {\n",
       "        text-align: right;\n",
       "    }\n",
       "</style>\n",
       "<table border=\"1\" class=\"dataframe\">\n",
       "  <thead>\n",
       "    <tr style=\"text-align: right;\">\n",
       "      <th></th>\n",
       "      <th>text</th>\n",
       "      <th>label</th>\n",
       "    </tr>\n",
       "  </thead>\n",
       "  <tbody>\n",
       "    <tr>\n",
       "      <th>0</th>\n",
       "      <td>I grew up (b. 1965) watching and loving the Th...</td>\n",
       "      <td>0</td>\n",
       "    </tr>\n",
       "    <tr>\n",
       "      <th>1</th>\n",
       "      <td>When I put this movie in my DVD player, and sa...</td>\n",
       "      <td>0</td>\n",
       "    </tr>\n",
       "    <tr>\n",
       "      <th>2</th>\n",
       "      <td>Why do people who do not know what a particula...</td>\n",
       "      <td>0</td>\n",
       "    </tr>\n",
       "    <tr>\n",
       "      <th>3</th>\n",
       "      <td>Even though I have great interest in Biblical ...</td>\n",
       "      <td>0</td>\n",
       "    </tr>\n",
       "    <tr>\n",
       "      <th>4</th>\n",
       "      <td>Im a die hard Dads Army fan and nothing will e...</td>\n",
       "      <td>1</td>\n",
       "    </tr>\n",
       "  </tbody>\n",
       "</table>\n",
       "</div>"
      ],
      "text/plain": [
       "                                                text  label\n",
       "0  I grew up (b. 1965) watching and loving the Th...      0\n",
       "1  When I put this movie in my DVD player, and sa...      0\n",
       "2  Why do people who do not know what a particula...      0\n",
       "3  Even though I have great interest in Biblical ...      0\n",
       "4  Im a die hard Dads Army fan and nothing will e...      1"
      ]
     },
     "execution_count": 3,
     "metadata": {},
     "output_type": "execute_result"
    }
   ],
   "source": [
    "df_train_txt = pd.read_csv('./archive/Train.csv')#, sep='\\|\\|', header=None, skiprows=1, names=[\"text\",\"label\"])\n",
    "df_train_txt.head()"
   ]
  },
  {
   "cell_type": "code",
   "execution_count": 7,
   "metadata": {
    "_cell_guid": "7bf0c669-6284-4974-a996-54ad0e6941f6",
    "_execution_state": "idle",
    "_uuid": "65bb8b567ee893c6f796f2508b576e9c02e27a46",
    "execution": {
     "iopub.execute_input": "2020-12-05T07:22:26.172226Z",
     "iopub.status.busy": "2020-12-05T07:22:26.172010Z",
     "iopub.status.idle": "2020-12-05T07:22:26.272121Z",
     "shell.execute_reply": "2020-12-05T07:22:26.271601Z",
     "shell.execute_reply.started": "2020-12-05T07:22:26.172204Z"
    }
   },
   "outputs": [
    {
     "data": {
      "text/html": [
       "<div>\n",
       "<style scoped>\n",
       "    .dataframe tbody tr th:only-of-type {\n",
       "        vertical-align: middle;\n",
       "    }\n",
       "\n",
       "    .dataframe tbody tr th {\n",
       "        vertical-align: top;\n",
       "    }\n",
       "\n",
       "    .dataframe thead th {\n",
       "        text-align: right;\n",
       "    }\n",
       "</style>\n",
       "<table border=\"1\" class=\"dataframe\">\n",
       "  <thead>\n",
       "    <tr style=\"text-align: right;\">\n",
       "      <th></th>\n",
       "      <th>text</th>\n",
       "      <th>label</th>\n",
       "    </tr>\n",
       "  </thead>\n",
       "  <tbody>\n",
       "    <tr>\n",
       "      <th>0</th>\n",
       "      <td>I always wrote this series off as being a comp...</td>\n",
       "      <td>0</td>\n",
       "    </tr>\n",
       "    <tr>\n",
       "      <th>1</th>\n",
       "      <td>1st watched 12/7/2002 - 3 out of 10(Dir-Steve ...</td>\n",
       "      <td>0</td>\n",
       "    </tr>\n",
       "    <tr>\n",
       "      <th>2</th>\n",
       "      <td>This movie was so poorly written and directed ...</td>\n",
       "      <td>0</td>\n",
       "    </tr>\n",
       "    <tr>\n",
       "      <th>3</th>\n",
       "      <td>The most interesting thing about Miryang (Secr...</td>\n",
       "      <td>1</td>\n",
       "    </tr>\n",
       "    <tr>\n",
       "      <th>4</th>\n",
       "      <td>when i first read about \"berlin am meer\" i did...</td>\n",
       "      <td>0</td>\n",
       "    </tr>\n",
       "  </tbody>\n",
       "</table>\n",
       "</div>"
      ],
      "text/plain": [
       "                                                text  label\n",
       "0  I always wrote this series off as being a comp...      0\n",
       "1  1st watched 12/7/2002 - 3 out of 10(Dir-Steve ...      0\n",
       "2  This movie was so poorly written and directed ...      0\n",
       "3  The most interesting thing about Miryang (Secr...      1\n",
       "4  when i first read about \"berlin am meer\" i did...      0"
      ]
     },
     "execution_count": 7,
     "metadata": {},
     "output_type": "execute_result"
    }
   ],
   "source": [
    "df_test_txt = pd.read_csv('./archive/Test.csv')#, sep='\\|\\|', header=None, skiprows=1, names=[\"ID\",\"Text\"])\n",
    "df_test_txt.head()"
   ]
  },
  {
   "cell_type": "code",
   "execution_count": 8,
   "metadata": {
    "_cell_guid": "199c8014-d06f-4f14-b8fa-bf4ec2e35d21",
    "_execution_state": "idle",
    "_uuid": "3e5fcd9f545b5a80b793905fe2e562668d751536",
    "execution": {
     "iopub.execute_input": "2020-12-05T07:22:39.358515Z",
     "iopub.status.busy": "2020-12-05T07:22:39.358294Z",
     "iopub.status.idle": "2020-12-05T07:22:39.601046Z",
     "shell.execute_reply": "2020-12-05T07:22:39.600357Z",
     "shell.execute_reply.started": "2020-12-05T07:22:39.358491Z"
    }
   },
   "outputs": [
    {
     "data": {
      "text/plain": [
       "<AxesSubplot:>"
      ]
     },
     "execution_count": 8,
     "metadata": {},
     "output_type": "execute_result"
    },
    {
     "data": {
      "image/png": "[encoded data removed]",
      "text/plain": [
       "<Figure size 432x288 with 1 Axes>"
      ]
     },
     "metadata": {
      "needs_background": "light"
     },
     "output_type": "display_data"
    }
   ],
   "source": [
    "df_train_txt['label'].value_counts().plot(kind=\"bar\", rot=0)"
   ]
  },
  {
   "cell_type": "code",
   "execution_count": 9,
   "metadata": {
    "_cell_guid": "e687a44c-45f1-47c0-8c8f-3cced55cfba7",
    "_execution_state": "idle",
    "_uuid": "74e93f2f49e6399758ccda8950741f2dc3070e70",
    "execution": {
     "iopub.execute_input": "2020-12-05T07:22:49.327101Z",
     "iopub.status.busy": "2020-12-05T07:22:49.326791Z",
     "iopub.status.idle": "2020-12-05T07:22:49.332445Z",
     "shell.execute_reply": "2020-12-05T07:22:49.331754Z",
     "shell.execute_reply.started": "2020-12-05T07:22:49.327073Z"
    }
   },
   "outputs": [],
   "source": [
    "def evaluate_features(X, y, clf=None):\n",
    "    \"\"\"General helper function for evaluating effectiveness of passed features in ML model\n",
    "    \n",
    "    Prints out Log loss, accuracy, and confusion matrix with 3-fold stratified cross-validation\n",
    "    \n",
    "    Args:\n",
    "        X (array-like): Features array. Shape (n_samples, n_features)\n",
    "        \n",
    "        y (array-like): Labels array. Shape (n_samples,)\n",
    "        \n",
    "        clf: Classifier to use. If None, default Log reg is use.\n",
    "    \"\"\"\n",
    "    if clf is None:\n",
    "        clf = LogisticRegression()\n",
    "    \n",
    "    probas = cross_val_predict(clf, X, y, cv=StratifiedKFold(random_state=8), \n",
    "                              n_jobs=-1, method='predict_proba', verbose=2)\n",
    "    pred_indices = np.argmax(probas, axis=1)\n",
    "    classes = np.unique(y)\n",
    "    preds = classes[pred_indices]\n",
    "    print('Log loss: {}'.format(log_loss(y, probas)))\n",
    "    print('Accuracy: {}'.format(accuracy_score(y, preds)))\n",
    "    skplt.plot_confusion_matrix(y, preds)\n"
   ]
  },
  {
   "cell_type": "markdown",
   "metadata": {
    "_cell_guid": "f123aa3e-e4a2-4bbd-82a4-deb9f9416749",
    "_uuid": "05e65e23552a5c11fedaa9e9e65ac9156a9297e0"
   },
   "source": [
    "Let's do a quick test of evaluate_features"
   ]
  },
  {
   "cell_type": "markdown",
   "metadata": {
    "_cell_guid": "98e9cd4a-f6f4-4c5b-a151-2edf4ac179f6",
    "_uuid": "22078fdc406c13d21d1588644371edc43a553b1a"
   },
   "source": [
    "## Start with a simple baseline. Bag of words"
   ]
  },
  {
   "cell_type": "code",
   "execution_count": 11,
   "metadata": {
    "_cell_guid": "d3207228-9664-472e-b025-7507f10fec7c",
    "_execution_state": "idle",
    "_uuid": "5028611d6b4007f8f139b432c7909748781c3022",
    "execution": {
     "iopub.execute_input": "2020-12-05T07:23:08.755894Z",
     "iopub.status.busy": "2020-12-05T07:23:08.755650Z",
     "iopub.status.idle": "2020-12-05T07:23:08.759070Z",
     "shell.execute_reply": "2020-12-05T07:23:08.758456Z",
     "shell.execute_reply.started": "2020-12-05T07:23:08.755868Z"
    }
   },
   "outputs": [],
   "source": [
    "count_vectorizer = CountVectorizer(\n",
    "    analyzer=\"word\", tokenizer=nltk.word_tokenize,\n",
    "    preprocessor=None, stop_words='english', max_features=None)    \n"
   ]
  },
  {
   "cell_type": "code",
   "execution_count": 14,
   "metadata": {
    "_cell_guid": "5df3c9c0-4b0b-487f-bef4-6cceb8ce0290",
    "_execution_state": "busy",
    "_uuid": "1153f8a8a0320483ce8c8f3044fe21cb860ad989",
    "execution": {
     "iopub.execute_input": "2020-12-05T07:23:41.141367Z",
     "iopub.status.busy": "2020-12-05T07:23:41.141121Z",
     "iopub.status.idle": "2020-12-05T07:24:45.142403Z",
     "shell.execute_reply": "2020-12-05T07:24:45.141577Z",
     "shell.execute_reply.started": "2020-12-05T07:23:41.141340Z"
    }
   },
   "outputs": [],
   "source": [
    "bag_of_words = count_vectorizer.fit_transform(df_train_txt['text'])"
   ]
  },
  {
   "cell_type": "code",
   "execution_count": 15,
   "metadata": {
    "_cell_guid": "c037498b-d5d5-4c50-93a4-d37c5c8f091e",
    "_execution_state": "busy",
    "_uuid": "69e813164a0da79e98ec0895a4ce24759dbcdf79",
    "execution": {
     "iopub.execute_input": "2020-12-05T07:24:54.141386Z",
     "iopub.status.busy": "2020-12-05T07:24:54.141132Z",
     "iopub.status.idle": "2020-12-05T07:24:54.253193Z",
     "shell.execute_reply": "2020-12-05T07:24:54.252747Z",
     "shell.execute_reply.started": "2020-12-05T07:24:54.141359Z"
    }
   },
   "outputs": [
    {
     "data": {
      "text/plain": [
       "145276"
      ]
     },
     "execution_count": 15,
     "metadata": {},
     "output_type": "execute_result"
    }
   ],
   "source": [
    "len(count_vectorizer.get_feature_names())"
   ]
  },
  {
   "cell_type": "code",
   "execution_count": 16,
   "metadata": {
    "_cell_guid": "6a5ae966-e759-4c29-96de-7d4492e93888",
    "_execution_state": "busy",
    "_uuid": "74d91589176aed1f15f991fe7e2115df4229c107",
    "execution": {
     "iopub.execute_input": "2020-12-05T07:25:06.220962Z",
     "iopub.status.busy": "2020-12-05T07:25:06.220726Z",
     "iopub.status.idle": "2020-12-05T07:25:21.940061Z",
     "shell.execute_reply": "2020-12-05T07:25:21.939311Z",
     "shell.execute_reply.started": "2020-12-05T07:25:06.220938Z"
    }
   },
   "outputs": [],
   "source": [
    "svd = TruncatedSVD(n_components=25, n_iter=25, random_state=12)\n",
    "truncated_bag_of_words = svd.fit_transform(bag_of_words)"
   ]
  },
  {
   "cell_type": "code",
   "execution_count": 17,
   "metadata": {
    "_cell_guid": "15b83eea-8ea0-4b4b-a055-d109f7ce814a",
    "_execution_state": "busy",
    "_uuid": "9006201fdd9c50f26229fcbafa258b3dbef94b6b",
    "execution": {
     "iopub.execute_input": "2020-12-05T07:25:24.341020Z",
     "iopub.status.busy": "2020-12-05T07:25:24.340767Z",
     "iopub.status.idle": "2020-12-05T07:25:25.383867Z",
     "shell.execute_reply": "2020-12-05T07:25:25.383112Z",
     "shell.execute_reply.started": "2020-12-05T07:25:24.340994Z"
    }
   },
   "outputs": [
    {
     "name": "stderr",
     "output_type": "stream",
     "text": [
      "/home/prashantk/miniconda3/lib/python3.7/site-packages/sklearn/model_selection/_split.py:297: FutureWarning: Setting a random_state has no effect since shuffle is False. This will raise an error in 0.24. You should leave random_state to its default (None), or set shuffle=True.\n",
      "  FutureWarning\n",
      "[Parallel(n_jobs=-1)]: Using backend LokyBackend with 6 concurrent workers.\n",
      "[Parallel(n_jobs=-1)]: Done   3 out of   5 | elapsed:    0.3s remaining:    0.2s\n",
      "[Parallel(n_jobs=-1)]: Done   5 out of   5 | elapsed:    0.8s finished\n",
      "/home/prashantk/miniconda3/lib/python3.7/site-packages/sklearn/utils/deprecation.py:86: FutureWarning: Function plot_confusion_matrix is deprecated; This will be removed in v0.4.0. Please use scikitplot.metrics.plot_confusion_matrix instead.\n",
      "  warnings.warn(msg, category=FutureWarning)\n"
     ]
    },
    {
     "name": "stdout",
     "output_type": "stream",
     "text": [
      "Log loss: 0.5480075247032771\n",
      "Accuracy: 0.730625\n"
     ]
    },
    {
     "data": {
      "image/png": "[encoded data removed]",
      "text/plain": [
       "<Figure size 432x288 with 2 Axes>"
      ]
     },
     "metadata": {
      "needs_background": "light"
     },
     "output_type": "display_data"
    }
   ],
   "source": [
    "evaluate_features(truncated_bag_of_words, df_train_txt['label'].values.ravel())"
   ]
  },
  {
   "cell_type": "markdown",
   "metadata": {
    "_cell_guid": "27ef74f3-6be8-4f87-8a43-4974a8a776ba",
    "_uuid": "ea1c3dd8c62d52ed234d7ce20041e0df3334de46"
   },
   "source": [
    "\n",
    "## Let's try TFIDF"
   ]
  },
  {
   "cell_type": "code",
   "execution_count": 20,
   "metadata": {
    "_cell_guid": "80a12233-65b3-426c-8fab-8d15cc6c78ab",
    "_execution_state": "busy",
    "_uuid": "b9c41a68f6682de79329d161eaaa565063a13f08",
    "execution": {
     "iopub.execute_input": "2020-12-05T07:26:05.211688Z",
     "iopub.status.busy": "2020-12-05T07:26:05.211448Z",
     "iopub.status.idle": "2020-12-05T07:27:08.973696Z",
     "shell.execute_reply": "2020-12-05T07:27:08.973018Z",
     "shell.execute_reply.started": "2020-12-05T07:26:05.211663Z"
    }
   },
   "outputs": [
    {
     "data": {
      "text/plain": [
       "145276"
      ]
     },
     "execution_count": 20,
     "metadata": {},
     "output_type": "execute_result"
    }
   ],
   "source": [
    "count_vectorizer = TfidfVectorizer(\n",
    "    analyzer=\"word\", tokenizer=nltk.word_tokenize,\n",
    "    preprocessor=None, stop_words='english', max_features=None)    \n",
    "\n",
    "tfidf = count_vectorizer.fit_transform(df_train_txt['text'])\n",
    "\n",
    "len(count_vectorizer.get_feature_names())"
   ]
  },
  {
   "cell_type": "code",
   "execution_count": 21,
   "metadata": {
    "_cell_guid": "7befec83-dc74-48fb-97b0-c2d78b17decc",
    "_execution_state": "busy",
    "_uuid": "ef48809922c0850626803b3323585d60ff78a32f",
    "execution": {
     "iopub.execute_input": "2020-12-05T07:27:20.775506Z",
     "iopub.status.busy": "2020-12-05T07:27:20.775235Z",
     "iopub.status.idle": "2020-12-05T07:27:36.440620Z",
     "shell.execute_reply": "2020-12-05T07:27:36.439767Z",
     "shell.execute_reply.started": "2020-12-05T07:27:20.775478Z"
    }
   },
   "outputs": [],
   "source": [
    "svd = TruncatedSVD(n_components=25, n_iter=25, random_state=12)\n",
    "truncated_tfidf = svd.fit_transform(tfidf)"
   ]
  },
  {
   "cell_type": "code",
   "execution_count": 23,
   "metadata": {
    "_cell_guid": "91e06bc0-6ce2-4466-a8b1-66a555a94d3b",
    "_execution_state": "busy",
    "_uuid": "0bd566447e9f104b7b79bb56e8daff6cd372bebd",
    "execution": {
     "iopub.execute_input": "2020-12-05T07:27:55.269629Z",
     "iopub.status.busy": "2020-12-05T07:27:55.269421Z",
     "iopub.status.idle": "2020-12-05T07:27:55.899541Z",
     "shell.execute_reply": "2020-12-05T07:27:55.898985Z",
     "shell.execute_reply.started": "2020-12-05T07:27:55.269606Z"
    }
   },
   "outputs": [
    {
     "name": "stderr",
     "output_type": "stream",
     "text": [
      "/home/prashantk/miniconda3/lib/python3.7/site-packages/sklearn/model_selection/_split.py:297: FutureWarning: Setting a random_state has no effect since shuffle is False. This will raise an error in 0.24. You should leave random_state to its default (None), or set shuffle=True.\n",
      "  FutureWarning\n",
      "[Parallel(n_jobs=-1)]: Using backend LokyBackend with 6 concurrent workers.\n",
      "[Parallel(n_jobs=-1)]: Done   3 out of   5 | elapsed:    0.3s remaining:    0.2s\n",
      "[Parallel(n_jobs=-1)]: Done   5 out of   5 | elapsed:    0.3s finished\n",
      "/home/prashantk/miniconda3/lib/python3.7/site-packages/sklearn/utils/deprecation.py:86: FutureWarning: Function plot_confusion_matrix is deprecated; This will be removed in v0.4.0. Please use scikitplot.metrics.plot_confusion_matrix instead.\n",
      "  warnings.warn(msg, category=FutureWarning)\n"
     ]
    },
    {
     "name": "stdout",
     "output_type": "stream",
     "text": [
      "Log loss: 0.4284726675941795\n",
      "Accuracy: 0.812875\n"
     ]
    },
    {
     "data": {
      "image/png": "[encoded data removed]",
      "text/plain": [
       "<Figure size 432x288 with 2 Axes>"
      ]
     },
     "metadata": {
      "needs_background": "light"
     },
     "output_type": "display_data"
    }
   ],
   "source": [
    "evaluate_features(truncated_tfidf, df_train_txt['label'].values.ravel())"
   ]
  },
  {
   "cell_type": "markdown",
   "metadata": {
    "_cell_guid": "67253f68-410f-4309-bf17-2144340558c3",
    "_uuid": "62cb5aa5763d6bf912fd56abc777998175806ca2"
   },
   "source": [
    "### A little better, but still bad. You can see from the confusion matrix that it's just classifying most samples into class 7.\n",
    "\n",
    "### Also tried a linear SVM for features straight from TFIDF (did not go through Truncated SVD). Worse log loss but confusion matrix seems to show better balance among predicted classes.\n",
    "\n",
    "_____\n",
    "\n",
    "## This time, let's try the popular word2vec to get features\n",
    "\n",
    "### Define helper function get_word2vec  and helper class MySentences for training word2vec on the corpus of texts. (or loading if already trained and saved to disk)"
   ]
  },
  {
   "cell_type": "code",
   "execution_count": 26,
   "metadata": {
    "_cell_guid": "609177df-1799-4f5e-b3e7-77c820561a7c",
    "_execution_state": "busy",
    "_uuid": "d631c05ece2e126a82481fa5a262d12ec7577e38",
    "execution": {
     "iopub.execute_input": "2020-12-05T07:33:21.557087Z",
     "iopub.status.busy": "2020-12-05T07:33:21.556824Z",
     "iopub.status.idle": "2020-12-05T07:33:21.562654Z",
     "shell.execute_reply": "2020-12-05T07:33:21.562132Z",
     "shell.execute_reply.started": "2020-12-05T07:33:21.557061Z"
    }
   },
   "outputs": [],
   "source": [
    "class MySentences(object):\n",
    "    \"\"\"MySentences is a generator to produce a list of tokenized sentences \n",
    "    \n",
    "    Takes a list of numpy arrays containing documents.\n",
    "    \n",
    "    Args:\n",
    "        arrays: List of arrays, where each element in the array contains a document.\n",
    "    \"\"\"\n",
    "    def __init__(self, *arrays):\n",
    "        self.arrays = arrays\n",
    " \n",
    "    def __iter__(self):\n",
    "        for array in self.arrays:\n",
    "            for document in array:\n",
    "                for sent in nltk.sent_tokenize(document):\n",
    "                    yield nltk.word_tokenize(sent)\n",
    "\n",
    "def get_word2vec(sentences, location):\n",
    "    \"\"\"Returns trained word2vec\n",
    "    \n",
    "    Args:\n",
    "        sentences: iterator for sentences\n",
    "        \n",
    "        location (str): Path to save/load word2vec\n",
    "    \"\"\"\n",
    "    if os.path.exists(location):\n",
    "        print('Found {}'.format(location))\n",
    "        model = gensim.models.Word2Vec.load(location)\n",
    "        return model\n",
    "    \n",
    "    print('{} not found. training model'.format(location))\n",
    "    model = gensim.models.Word2Vec(sentences, size=100, window=5, min_count=5, workers=4)\n",
    "    print('Model done training. Saving to disk')\n",
    "    model.save(location)\n",
    "    return model"
   ]
  },
  {
   "cell_type": "markdown",
   "metadata": {
    "_cell_guid": "5782e63f-8fef-47c8-b83a-829836f1f096",
    "_uuid": "70f109950197b133cc46e2497b2248830d42a349"
   },
   "source": [
    "### Start training the word2vec model. Since word2vec training is unsupervised, you can use both training and test datasets.\n",
    "\n",
    "If training has already been done, the function will just load the word2vec to disk so you don't need to retrain if rerunning the notebook"
   ]
  },
  {
   "cell_type": "code",
   "execution_count": 28,
   "metadata": {
    "_cell_guid": "e62cf926-34d9-461a-bf92-21e38e9ff2d3",
    "_execution_state": "busy",
    "_uuid": "80d89a6184209c1630976aa5bdb9a93b1290b363",
    "execution": {
     "iopub.execute_input": "2020-12-05T07:33:31.948986Z",
     "iopub.status.busy": "2020-12-05T07:33:31.948747Z",
     "iopub.status.idle": "2020-12-05T07:42:09.322111Z",
     "shell.execute_reply": "2020-12-05T07:42:09.321477Z",
     "shell.execute_reply.started": "2020-12-05T07:33:31.948962Z"
    }
   },
   "outputs": [
    {
     "name": "stdout",
     "output_type": "stream",
     "text": [
      "w2vmodel not found. training model\n",
      "Model done training. Saving to disk\n"
     ]
    }
   ],
   "source": [
    "w2vec = get_word2vec(\n",
    "    MySentences(\n",
    "        df_train_txt['text'].values, \n",
    "        #df_test['Text'].values  Commented for Kaggle limits\n",
    "    ),\n",
    "    'w2vmodel'\n",
    ")"
   ]
  },
  {
   "cell_type": "markdown",
   "metadata": {
    "_cell_guid": "591cc8cb-49c2-41d0-be0a-ff8ee7d4f230",
    "_uuid": "b41f276a240b388d56fb5187a5b99ac0d3b76d59"
   },
   "source": [
    "### Now that we have our word2vec model, how do we use it to transform each documents into a feature vector? In order to convert a document of multiple words into a single vector using our trained word2vec, we take the word2vec of all words in the document, then take its mean.\n",
    "\n",
    "### We'll define a transformer (with sklearn interface) to convert a document into its corresponding vector"
   ]
  },
  {
   "cell_type": "code",
   "execution_count": 29,
   "metadata": {
    "_cell_guid": "8be99804-9357-4522-a80b-aa328f5ef973",
    "_execution_state": "busy",
    "_uuid": "f188944da320461ad2e8f76a7a991454e2c0763c",
    "execution": {
     "iopub.execute_input": "2020-12-05T07:53:03.678211Z",
     "iopub.status.busy": "2020-12-05T07:53:03.677954Z",
     "iopub.status.idle": "2020-12-05T07:53:03.685563Z",
     "shell.execute_reply": "2020-12-05T07:53:03.685041Z",
     "shell.execute_reply.started": "2020-12-05T07:53:03.678185Z"
    }
   },
   "outputs": [],
   "source": [
    "class MyTokenizer:\n",
    "    def __init__(self):\n",
    "        pass\n",
    "    \n",
    "    def fit(self, X, y=None):\n",
    "        return self\n",
    "    \n",
    "    def transform(self, X):\n",
    "        transformed_X = []\n",
    "        for document in X:\n",
    "            tokenized_doc = []\n",
    "            for sent in nltk.sent_tokenize(document):\n",
    "                tokenized_doc += nltk.word_tokenize(sent)\n",
    "            transformed_X.append(np.array(tokenized_doc))\n",
    "        return np.array(transformed_X)\n",
    "    \n",
    "    def fit_transform(self, X, y=None):\n",
    "        return self.transform(X)\n",
    "\n",
    "class MeanEmbeddingVectorizer(object):\n",
    "    def __init__(self, word2vec):\n",
    "        self.word2vec = word2vec\n",
    "        # if a text is empty we should return a vector of zeros\n",
    "        # with the same dimensionality as all the other vectors\n",
    "        self.dim = len(word2vec.wv.syn0[0])\n",
    "\n",
    "    def fit(self, X, y=None):\n",
    "        return self\n",
    "\n",
    "    def transform(self, X):\n",
    "        X = MyTokenizer().fit_transform(X)\n",
    "        \n",
    "        return np.array([\n",
    "            np.mean([self.word2vec.wv[w] for w in words if w in self.word2vec.wv]\n",
    "                    or [np.zeros(self.dim)], axis=0)\n",
    "            for words in X\n",
    "        ])\n",
    "    \n",
    "    def fit_transform(self, X, y=None):\n",
    "        return self.transform(X)\n"
   ]
  },
  {
   "cell_type": "code",
   "execution_count": 48,
   "metadata": {
    "_cell_guid": "1a13f2ef-1fb7-462a-8e72-63608f158969",
    "_execution_state": "busy",
    "_uuid": "22e86ded9c31b7039c65ba3e46a2e58ff2b08cee",
    "execution": {
     "iopub.execute_input": "2020-12-05T08:24:45.462305Z",
     "iopub.status.busy": "2020-12-05T08:24:45.462005Z",
     "iopub.status.idle": "2020-12-05T08:24:58.407602Z",
     "shell.execute_reply": "2020-12-05T08:24:58.406954Z",
     "shell.execute_reply.started": "2020-12-05T08:24:45.462276Z"
    }
   },
   "outputs": [
    {
     "name": "stderr",
     "output_type": "stream",
     "text": [
      "/home/prashantk/miniconda3/lib/python3.7/site-packages/ipykernel_launcher.py:25: DeprecationWarning: Call to deprecated `syn0` (Attribute will be removed in 4.0.0, use self.vectors instead).\n",
      "/home/prashantk/miniconda3/lib/python3.7/site-packages/ipykernel_launcher.py:15: VisibleDeprecationWarning: Creating an ndarray from ragged nested sequences (which is a list-or-tuple of lists-or-tuples-or ndarrays with different lengths or shapes) is deprecated. If you meant to do this, you must specify 'dtype=object' when creating the ndarray\n",
      "  from ipykernel import kernelapp as app\n"
     ]
    }
   ],
   "source": [
    "mean_embedding_vectorizer = MeanEmbeddingVectorizer(w2vec)\n",
    "mean_embedded = mean_embedding_vectorizer.fit_transform(df_test_txt['text'])"
   ]
  },
  {
   "cell_type": "code",
   "execution_count": 49,
   "metadata": {
    "_cell_guid": "383b2dc5-5ba8-4a44-86cc-d6710bacc8a8",
    "_execution_state": "busy",
    "_uuid": "2f30d63d72bc0dda91f1625a399fc1a98c8e25c8",
    "execution": {
     "iopub.execute_input": "2020-12-05T08:25:01.682702Z",
     "iopub.status.busy": "2020-12-05T08:25:01.682442Z",
     "iopub.status.idle": "2020-12-05T08:25:02.950426Z",
     "shell.execute_reply": "2020-12-05T08:25:02.949952Z",
     "shell.execute_reply.started": "2020-12-05T08:25:01.682672Z"
    }
   },
   "outputs": [
    {
     "name": "stderr",
     "output_type": "stream",
     "text": [
      "/home/prashantk/miniconda3/lib/python3.7/site-packages/sklearn/model_selection/_split.py:297: FutureWarning: Setting a random_state has no effect since shuffle is False. This will raise an error in 0.24. You should leave random_state to its default (None), or set shuffle=True.\n",
      "  FutureWarning\n",
      "[Parallel(n_jobs=-1)]: Using backend LokyBackend with 6 concurrent workers.\n",
      "[Parallel(n_jobs=-1)]: Done   3 out of   5 | elapsed:    1.0s remaining:    0.7s\n",
      "[Parallel(n_jobs=-1)]: Done   5 out of   5 | elapsed:    1.0s finished\n",
      "/home/prashantk/miniconda3/lib/python3.7/site-packages/sklearn/utils/deprecation.py:86: FutureWarning: Function plot_confusion_matrix is deprecated; This will be removed in v0.4.0. Please use scikitplot.metrics.plot_confusion_matrix instead.\n",
      "  warnings.warn(msg, category=FutureWarning)\n"
     ]
    },
    {
     "name": "stdout",
     "output_type": "stream",
     "text": [
      "Log loss: 0.39878889795025424\n",
      "Accuracy: 0.8218\n"
     ]
    },
    {
     "data": {
      "image/png": "[encoded data removed]",
      "text/plain": [
       "<Figure size 432x288 with 2 Axes>"
      ]
     },
     "metadata": {
      "needs_background": "light"
     },
     "output_type": "display_data"
    }
   ],
   "source": [
    "evaluate_features(mean_embedded, df_test_txt['label'].values.ravel())"
   ]
  },
  {
   "cell_type": "markdown",
   "metadata": {
    "_cell_guid": "d59000aa-abc6-4ea8-b3f8-683f54e95761",
    "_uuid": "6ea65a9b884a0af3c31a2ca61432fa6858f9a402"
   },
   "source": [
    "### As expected, we get better results than TF-IDF. \n",
    "\n",
    "The results are still not very good though. One way to explain this is that there is a lot of information loss from just getting the mean of all word vectors of the document. This is roughly analogous to taking the entire document, summarizing it into one word, and using that word to classify the entire text."
   ]
  },
  {
   "cell_type": "code",
   "execution_count": 47,
   "metadata": {
    "execution": {
     "iopub.execute_input": "2020-12-05T08:21:30.059564Z",
     "iopub.status.busy": "2020-12-05T08:21:30.059345Z",
     "iopub.status.idle": "2020-12-05T08:21:30.500709Z",
     "shell.execute_reply": "2020-12-05T08:21:30.500058Z",
     "shell.execute_reply.started": "2020-12-05T08:21:30.059541Z"
    }
   },
   "outputs": [
    {
     "name": "stdout",
     "output_type": "stream",
     "text": [
      "[('lighting', 0.6835582852363586),\n",
      " ('editing', 0.6822664737701416),\n",
      " ('cameras', 0.6344811916351318),\n",
      " ('framing', 0.601211428642273),\n",
      " ('shaky', 0.594782829284668),\n",
      " ('hand-held', 0.5869571566581726),\n",
      " ('static', 0.5787670016288757),\n",
      " ('audio', 0.5692892074584961),\n",
      " ('location', 0.5642291903495789),\n",
      " ('sound', 0.5638870596885681)]\n"
     ]
    }
   ],
   "source": [
    "from pprint import pprint\n",
    "gmodel=gensim.models.Word2Vec.load('w2vmodel')\n",
    "ms=gmodel.wv.most_similar('camera')\n",
    "pprint(ms)"
   ]
  },
  {
   "cell_type": "code",
   "execution_count": 40,
   "metadata": {
    "execution": {
     "iopub.execute_input": "2020-12-05T08:08:03.436002Z",
     "iopub.status.busy": "2020-12-05T08:08:03.435785Z",
     "iopub.status.idle": "2020-12-05T08:08:03.439643Z",
     "shell.execute_reply": "2020-12-05T08:08:03.439197Z",
     "shell.execute_reply.started": "2020-12-05T08:08:03.435980Z"
    }
   },
   "outputs": [
    {
     "data": {
      "text/plain": [
       "[('decent', 0.7868620157241821),\n",
       " ('bad', 0.7676401138305664),\n",
       " ('great', 0.7665512561798096),\n",
       " ('cool', 0.7064627408981323),\n",
       " ('solid', 0.690034031867981),\n",
       " ('fine', 0.6740026473999023),\n",
       " ('nice', 0.6730276346206665),\n",
       " ('weak', 0.6660704612731934),\n",
       " ('funny', 0.6247936487197876),\n",
       " ('serious', 0.6203901767730713)]"
      ]
     },
     "execution_count": 40,
     "metadata": {},
     "output_type": "execute_result"
    }
   ],
   "source": [
    "ms"
   ]
  },
  {
   "cell_type": "code",
   "execution_count": null,
   "metadata": {},
   "outputs": [],
   "source": []
  }
 ],
 "metadata": {
  "hide_input": false,
  "kernelspec": {
   "display_name": "Python 3",
   "language": "python",
   "name": "python3"
  },
  "language_info": {
   "codemirror_mode": {
    "name": "ipython",
    "version": 3
   },
   "file_extension": ".py",
   "mimetype": "text/x-python",
   "name": "python",
   "nbconvert_exporter": "python",
   "pygments_lexer": "ipython3",
   "version": "3.7.4"
  }
 },
 "nbformat": 4,
 "nbformat_minor": 4
}
