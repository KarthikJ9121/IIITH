{
 "cells": [
  {
   "cell_type": "markdown",
   "metadata": {
    "slideshow": {
     "slide_type": "slide"
    }
   },
   "source": [
    "## Lecture-7: Neural Networks Basics\n",
    "## Under the supervision of Dr. Manish Shrivastava"
   ]
  },
  {
   "cell_type": "markdown",
   "metadata": {
    "slideshow": {
     "slide_type": "slide"
    }
   },
   "source": [
    "# Topics covered so far\n",
    "\n",
    "* Lecture - 1: Python basics includes list, tuple, dictionary, loops and functions\n",
    "* Lecture - 2: Additional concepts in python, Introduction to Numpy, pandas, and matplotlib\n",
    "* Lecture - 3: Regular expressions, stop words, lemmatization, stemming, Tokenization and\n",
    "Challenges in tokenization\n",
    "* Lecture - 4: Spelling mistake detection and correction with minimum edit distance, Chunking\n",
    "and NER, POS tagging\n",
    "* Lecture - 5: Language Modeling, Smoothing\n",
    "* Lecture - 6: Word Representations"
   ]
  },
  {
   "cell_type": "markdown",
   "metadata": {
    "slideshow": {
     "slide_type": "slide"
    }
   },
   "source": [
    "# Topics covered in this lecture\n",
    "\n",
    "1. Introduction\n",
    "    - Biological neuron\n",
    "    - Artificial Neuron (perceptron model)\n",
    "    - Explain terms in a perceptron\n",
    "    - Purpose of bias and activation functions\n",
    "    - Activation Units\n",
    "    - Loss functions\n",
    "    - Define forward and backward propagation\n",
    "2. Training a single neuron model \n",
    "    - Linear regression"
   ]
  },
  {
   "cell_type": "markdown",
   "metadata": {
    "slideshow": {
     "slide_type": "slide"
    }
   },
   "source": [
    " ### 1.  Introduction\n",
    "\n",
    "- Artificial Neural Networks are inspired from the biological activities of Humans and animals like monkeys, ants etc\n",
    "\n",
    "\n",
    "- The core idea of Artificial Neural Networks is to mimic some part/functionality of human brain."
   ]
  },
  {
   "cell_type": "markdown",
   "metadata": {
    "slideshow": {
     "slide_type": "subslide"
    }
   },
   "source": [
    "- The simplest Neural Network model called \"Perceptron\" was designed by Rosenblatt in 1957.\n",
    "\n",
    "- It has wide range of applications in this modern deep learning era. some of them are\n",
    "\n",
    "    - Voice Assistants (Apple Siri, Amazon Alexa, Cortana)\n",
    "    - Natural Language Processing (Abstractive Summarization, Question Answering)\n",
    "    - Self Driving Cars (Tesla, Google Waymo)\n",
    "    - Machine Translation"
   ]
  },
  {
   "cell_type": "markdown",
   "metadata": {},
   "source": [
    "###                                           Artificial Neuron vs Biological Neuron\n",
    "\n",
    "<img src=\"bn.png\" alt=\"Drawing\" style=\"width: 500px;\"/>\n",
    "\n",
    "- In biological neurons, all the inputs/signals received at dendrites are collected at the cell body.\n",
    "- Operations are performed on the net input collected at the cell body.\n",
    "- The results are carried through axon to synapses"
   ]
  },
  {
   "cell_type": "markdown",
   "metadata": {},
   "source": [
    "### Explain terms in perceptron\n",
    "\n",
    "<img src=\"an.jpeg\" alt=\"Drawing\" style=\"width: 600px;\"/>\n",
    "\n",
    "\n",
    "- similar to biological neuron, in artificial neuron, \n",
    "\n",
    "    - the input values <b>{x1, · · · , xk}</b> are multiplied with their corresponding weigths <b>{w1, · · · , wk}</b>\n",
    "    - the net input is passed through activation function <b>f</b>, where the opeartions are performed on the net input.\n",
    "    - the resultant output of activation function is stored in <b>y</b>. \n",
    "\n",
    "        - <b>y = f(u)</b>\n",
    "\n",
    "        - <b>u</b> is the net input of the neuron, defined as $u=\\sum_{i=0}^K wi.xi \\$\n",
    "\n",
    "        - using vector notation, we can write, $u=w^T x$\n",
    "\n",
    " "
   ]
  },
  {
   "cell_type": "markdown",
   "metadata": {},
   "source": [
    "### Role of Bias in Neural Networks\n",
    "\n",
    "- It allows you to move the line down and up fitting the prediction with the data better. If the constant c is absent then the line will pass through the origin (0, 0) and you will get a poorer fit.\n",
    "\n",
    "<img src=\"bias.png\" alt=\"Drawing\" style=\"width: 600px;\"/>"
   ]
  },
  {
   "cell_type": "markdown",
   "metadata": {},
   "source": [
    "### Activation Functions\n",
    "\n",
    "- It is used to determine the output of neural network like yes or no. It maps the resulting values in between 0 to 1 or -1 to 1 etc. Different activation functions result in distinct behaviors of the neuron\n",
    "\n",
    "- The Activation Functions can be basically divided into 2 types-\n",
    "\n",
    "    1. Linear Activation Functions\n",
    "    2. Non-linear Activation Functions\n",
    "    \n",
    "<img src=\"linear-nonlinear.png\" alt=\"Drawing\" style=\"width: 500px;\"/>"
   ]
  },
  {
   "cell_type": "markdown",
   "metadata": {
    "slideshow": {
     "slide_type": "subslide"
    }
   },
   "source": [
    "- Linear Activation Functions\n",
    "\n",
    "    - Unit Step Function \n",
    "    \\begin{equation}\n",
    "    f(u) =\n",
    "    \\begin{cases}\n",
    "      1 & \\text{if u>0}\\\\\n",
    "      0 & \\text{otherwise}\n",
    "    \\end{cases}       \n",
    "    \\end{equation}\n",
    "\n",
    "        - A neuron with this activation function is called a <b>perceptron</b>\n",
    "        - Note that a perceptron is a linear classifier, it classifies given input as one of the classes belonging to [0,1]\n",
    "        - If we want to fit more complex functions, we need to use a non-linear model.\n",
    "\n",
    "<img src=\"linear.png\" alt=\"Drawing\" style=\"width: 600px;\"/>"
   ]
  },
  {
   "cell_type": "markdown",
   "metadata": {},
   "source": [
    "### Non-linear Activation Functions\n",
    "\n",
    "- The Nonlinear Activation Functions are the most used activation functions. \n",
    "- It makes it easy for the model to generalize or adapt with variety of data and to differentiate between the output.\n",
    "\n",
    "<img src=\"nonlinear.png\" alt=\"Drawing\" style=\"width: 600px;\"/>"
   ]
  },
  {
   "cell_type": "markdown",
   "metadata": {},
   "source": [
    "- We have various kind of activation functions like sigmoid, tanh, reLu, leaky reLu, softmax..etc. Below mentioned few non-linear ativation functions\n",
    "\n",
    "<img src=\"act_func.png\" alt=\"Drawing\" style=\"width: 600px;\"/>"
   ]
  },
  {
   "cell_type": "markdown",
   "metadata": {
    "slideshow": {
     "slide_type": "subslide"
    }
   },
   "source": [
    "### Sigmoid activation function\n",
    "\n",
    "<img src=\"sig2.jpg\" alt=\"Drawing\" style=\"width: 650px;\"/>\n",
    "\n",
    "- The advantage of using sigmoid activation function is it's derivative can also be written interms of sigmoid. so, it is easy to compute derivatives(using Back Propogation) while updating weights of the network.\n",
    "\n",
    "- The output of sigmoid fucntion lies between 0 and 1 and derivatives of sigmoid function also lies between 0 and 1.\n",
    "\n",
    "- The disadvantage with this function is the probelm of vanishing gradient that occurs when you build deep neural networks."
   ]
  },
  {
   "cell_type": "markdown",
   "metadata": {
    "slideshow": {
     "slide_type": "slide"
    }
   },
   "source": [
    "### Tanh activation function\n",
    "\n",
    "<img src=\"tan2.jpg\" alt=\"Drawing\" style=\"width: 680px;\"/>\n",
    "\n",
    "- The advantage of using tanh activation function is it's derivative can also be written interms of tanh. so, it is easy to compute derivatives(using Back Propogation) while updating weights of the network.\n",
    "\n",
    "- The output of tanh fucntion lies between -1 and 1 and derivatives of tanh function lies between 0 and 1.\n",
    "- The disadvantage with this function is the probelm of vanishing gradient that occurs when you build deep neural networks."
   ]
  },
  {
   "cell_type": "markdown",
   "metadata": {
    "slideshow": {
     "slide_type": "slide"
    }
   },
   "source": [
    "### ReLu activation function\n",
    "\n",
    "\n",
    "<img src=\"relu2.jpg\" alt=\"Drawing\" style=\"width: 680px;\"/>\n",
    "\n",
    "- The advantage of using ReLu activation function is, it overcomes the problem of vanishing gradient faced by sigmoid and tanh functions.\n",
    "\n",
    "- This is the most popular activation unit in deep learning era.\n",
    "\n",
    "- The disadvantage with this function is the probelm of dead activation that occurs when derivatives become 0.\n",
    "\n",
    "- To overcome this problem slightly modified version of Relu called leaky Relu is used. but, in most of the cases Relu activation gives good results.\n",
    "\n"
   ]
  },
  {
   "cell_type": "markdown",
   "metadata": {},
   "source": [
    "### Loss Functions\n",
    "\n",
    "- The objective of the network is to minimze the loss functions (or objective functions) during the training.\n",
    "- Let there are K output neurons. Let the true output/target be t and the prediction/output is o.\n",
    "\n",
    "<img src=\"mse.png\" alt=\"Drawing\"/>\n",
    "<img src=\"loss2.png\" alt=\"Drawing\"/>\n",
    "<img src=\"loss3.png\" alt=\"Drawing\"/>"
   ]
  },
  {
   "cell_type": "markdown",
   "metadata": {},
   "source": [
    "- In this slide, we explain how the Perceptron works with Logic gates (AND, OR, NOT, and so on).\n",
    "\n",
    "<img src=\"xor.gif\" alt=\"Drawing\"/>\n",
    "<img src=\"XOR_gate.png\" alt=\"Drawing\"/>"
   ]
  },
  {
   "cell_type": "code",
   "execution_count": 38,
   "metadata": {},
   "outputs": [
    {
     "data": {
      "text/plain": [
       "Text(0, 0.5, 'Cost')"
      ]
     },
     "execution_count": 38,
     "metadata": {},
     "output_type": "execute_result"
    },
    {
     "data": {
      "image/png": "[encoded data removed]",
      "text/plain": [
       "<Figure size 432x288 with 1 Axes>"
      ]
     },
     "metadata": {
      "needs_background": "light"
     },
     "output_type": "display_data"
    }
   ],
   "source": [
    "#logistic regression\n",
    "\n",
    "import numpy as np\n",
    "import theano\n",
    "import theano.tensor as T\n",
    " \n",
    "# Set inputs and correct output values\n",
    "inputs = [[0,0], [1,1], [0,1], [1,0]]\n",
    "outputs = [0, 0, 1, 1]\n",
    " \n",
    "# Set training parameters\n",
    "alpha = 0.1 # Learning rate\n",
    "training_iterations = 30000\n",
    " \n",
    "# Define tensors\n",
    "x = T.matrix(\"x\")\n",
    "y = T.vector(\"y\")\n",
    "b = theano.shared(value=1.0, name='b')\n",
    " \n",
    "# Set random seed\n",
    "rng = np.random.RandomState(2345)\n",
    " \n",
    "# Initialize random weights\n",
    "w_values = np.asarray(rng.uniform(low=-1, high=1, size=(2, 1)),\n",
    "                      dtype=theano.config.floatX) # Force type to 32bit float for GPU\n",
    "w = theano.shared(value=w_values, name='w', borrow=True)\n",
    " \n",
    "# Theano symbolic expressions\n",
    "hypothesis = T.nnet.sigmoid(T.dot(x, w) + b) # Sigmoid/logistic activation\n",
    "hypothesis = T.flatten(hypothesis) # This needs to be flattened so\n",
    "                                   # hypothesis (matrix) and\n",
    "                                   # y (vector) have the same shape\n",
    " \n",
    "cost = T.nnet.binary_crossentropy(hypothesis, y).mean() # Binary CE\n",
    "updates_rules = [\n",
    "    (w, w - alpha * T.grad(cost, wrt=w)),\n",
    "    (b, b - alpha * T.grad(cost, wrt=b))\n",
    "]\n",
    " \n",
    "# Theano compiled functions\n",
    "train = theano.function(inputs=[x, y], outputs=[hypothesis, cost],\n",
    "                        updates=updates_rules)\n",
    "predict = theano.function(inputs=[x], outputs=[hypothesis])\n",
    " \n",
    "# Training\n",
    "cost_history = []\n",
    " \n",
    "for i in range(training_iterations):\n",
    "    h, cost = train(inputs, outputs)\n",
    "    cost_history.append(cost)\n",
    "    \n",
    "# Plot training curve\n",
    "plt.plot(range(1, len(cost_history)+1), cost_history)\n",
    "plt.grid(True)\n",
    "plt.xlim(1, len(cost_history))\n",
    "plt.ylim(0, max(cost_history))\n",
    "plt.title(\"Training Curve\")\n",
    "plt.xlabel(\"Iteration #\")\n",
    "plt.ylabel(\"Cost\")"
   ]
  },
  {
   "cell_type": "code",
   "execution_count": 37,
   "metadata": {},
   "outputs": [
    {
     "data": {
      "image/png": "[encoded data removed]",
      "text/plain": [
       "<Figure size 432x288 with 1 Axes>"
      ]
     },
     "metadata": {
      "needs_background": "light"
     },
     "output_type": "display_data"
    }
   ],
   "source": [
    "import numpy as np\n",
    "import theano\n",
    "import theano.tensor as T\n",
    "import matplotlib.pyplot as plt\n",
    "\n",
    "# Set inputs and correct output values\n",
    "inputs = [[0,0], [1,1], [0,1], [1,0]]\n",
    "outputs = [0, 0, 1, 1]\n",
    "\n",
    "# Set training parameters\n",
    "alpha = 0.1  # Learning rate\n",
    "training_iterations = 50000\n",
    "hidden_layer_nodes = 3\n",
    "\n",
    " # Define tensors\n",
    "x = T.matrix(\"x\")\n",
    "y = T.vector(\"y\")\n",
    "b1 = theano.shared(value=1.0, name='b1')\n",
    "b2 = theano.shared(value=1.0, name='b2')\n",
    "\n",
    "# Set random seed\n",
    "rng = np.random.RandomState(2345)\n",
    "\n",
    "# Initialize weights\n",
    "w1_array = np.asarray(\n",
    "    rng.uniform(low=-1, high=1, size=(2, hidden_layer_nodes)),\n",
    "    dtype=theano.config.floatX)  # Force type to 32bit float for GPU\n",
    "w1 = theano.shared(value=w1_array, name='w1', borrow=True)\n",
    "\n",
    "w2_array = np.asarray(\n",
    "    rng.uniform(low=-1, high=1, size=(hidden_layer_nodes, 1)),\n",
    "    dtype=theano.config.floatX)  # Force type to 32bit float for GPU\n",
    "w2 = theano.shared(value=w2_array, name='w2', borrow=True)\n",
    "\n",
    "# Theano symbolic expressions\n",
    "a1 = T.nnet.sigmoid(T.dot(x, w1) + b1)  # Input -> Hidden\n",
    "a2 = T.nnet.sigmoid(T.dot(a1, w2) + b2)  # Hidden -> Output\n",
    "hypothesis = T.flatten(a2)  # This needs to be flattened so\n",
    "                            # hypothesis (matrix) and\n",
    "                            # y (vector) have the same shape\n",
    "\n",
    "# cost = T.sum((y - hypothesis) ** 2)  # Quadratic/squared error loss\n",
    "# cost = -(y*T.log(hypothesis) + (1-y)*T.log(1-hypothesis)).sum()  # Manual CE\n",
    "# cost = T.nnet.categorical_crossentropy(hypothesis, y)  # Categorical CE\n",
    "cost = T.nnet.binary_crossentropy(hypothesis, y).mean()  # Binary CE\n",
    "\n",
    "updates_rules = [\n",
    "    (w1, w1 - alpha * T.grad(cost, wrt=w1)),\n",
    "    (w2, w2 - alpha * T.grad(cost, wrt=w2)),\n",
    "    (b1, b1 - alpha * T.grad(cost, wrt=b1)),\n",
    "    (b2, b2 - alpha * T.grad(cost, wrt=b2))\n",
    "    ]\n",
    "\n",
    "# Theano compiled functions\n",
    "train = theano.function(inputs=[x, y], outputs=[hypothesis, cost],\n",
    "                        updates=updates_rules)\n",
    "predict = theano.function(inputs=[x], outputs=[hypothesis])\n",
    "\n",
    "# Training\n",
    "cost_history = []\n",
    "\n",
    "for i in range(training_iterations):\n",
    "    #if (i+1) % 5000 == 0:\n",
    "        #print \"Iteration #%s: \" % str(i+1)\n",
    "        #print \"Cost: %s\" % str(cost)\n",
    "    h, cost = train(inputs, outputs)\n",
    "    cost_history.append(cost)\n",
    "\n",
    "# Plot training curve\n",
    "plt.plot(range(1, len(cost_history)+1), cost_history)\n",
    "plt.grid(True)\n",
    "plt.xlim(1, len(cost_history))\n",
    "plt.ylim(0, max(cost_history))\n",
    "plt.title(\"Training Curve\")\n",
    "plt.xlabel(\"Iteration #\")\n",
    "plt.ylabel(\"Cost\")\n",
    "\n",
    "# Predictions\n",
    "test_data = [[0,0], [1,1], [0,1], [1,0]]\n",
    "predictions = predict(test_data)\n",
    "#print predictions"
   ]
  },
  {
   "cell_type": "markdown",
   "metadata": {},
   "source": [
    "### Forward propagation and back propagation in a neural network\n",
    "\n",
    "- Using the input variables x and y, The forwardpass (left half of the figure) calculates output z as a function of x and y i.e. f(x,y)\n",
    "\n",
    "- The right side of the figures shows the backwardpass.\n",
    "\n",
    "- Receiving dL/dz (the derivative of the total loss with respect to the output z) , we can calculate the individual  gradients of x and y on the loss function by applying the chain rule, as shown in the figure.\n",
    "\n",
    "<img src=\"forward_backward.jpeg\" alt=\"Drawing\" style=\"width: 500px; height: 200px\"/>"
   ]
  },
  {
   "cell_type": "markdown",
   "metadata": {
    "slideshow": {
     "slide_type": "subslide"
    }
   },
   "source": [
    "# Training a single neuron model\n",
    "### linear regression\n",
    "- Trainig a neural network means finding right set of weights.\n",
    "- Let us consider linear regression problem, which is a single neuron model.\n",
    "    - given dataset D={xi,yi} \n",
    "    - xi is a point in d-dimensional space and there are 'n' such points in dataset\n",
    "    - yi is a real valued number\n",
    "    - objective is to predict yi given a data point xi\n",
    "- Intialize the weights using random normal distribution\n",
    "    \n",
    "    \n"
   ]
  },
  {
   "cell_type": "markdown",
   "metadata": {
    "slideshow": {
     "slide_type": "subslide"
    }
   },
   "source": [
    "<img src=\"1.jpg\" alt=\"Drawing\" style=\"width: 500px; height: 400px\"/>"
   ]
  },
  {
   "cell_type": "markdown",
   "metadata": {
    "slideshow": {
     "slide_type": "subslide"
    }
   },
   "source": [
    "- <b>step 1: Computing Loss Function</b>\n",
    "<img src=\"2.jpg\" alt=\"Drawing\" style=\"width: 500px;\"/>"
   ]
  },
  {
   "cell_type": "markdown",
   "metadata": {
    "slideshow": {
     "slide_type": "subslide"
    }
   },
   "source": [
    "\n",
    "- <b>step 2: Posing Optimization Problem</b>\n",
    "<img src=\"3.jpg\" alt=\"Drawing\" style=\"width: 500px;\"/>"
   ]
  },
  {
   "cell_type": "markdown",
   "metadata": {
    "slideshow": {
     "slide_type": "subslide"
    }
   },
   "source": [
    "- <b>step 3: Computing Gradient of loss function using chain rule</b>\n",
    "<img src=\"4.jpg\" alt=\"Drawing\" style=\"width: 500px;\"/>\n"
   ]
  },
  {
   "cell_type": "markdown",
   "metadata": {
    "slideshow": {
     "slide_type": "subslide"
    }
   },
   "source": [
    "<img src=\"6.jpg\" alt=\"Drawing\" style=\"width: 500px;\"/>"
   ]
  },
  {
   "cell_type": "markdown",
   "metadata": {
    "slideshow": {
     "slide_type": "subslide"
    }
   },
   "source": [
    "- <b>step 3: Computing Gradient of loss function using chain rule</b>\n",
    "<img src=\"4.jpg\" alt=\"Drawing\" style=\"width: 500px;\"/>\n"
   ]
  },
  {
   "cell_type": "markdown",
   "metadata": {
    "slideshow": {
     "slide_type": "subslide"
    }
   },
   "source": [
    "- <b>step 4: updating weights</b>\n",
    "<img src=\"5.jpg\" alt=\"Drawing\" style=\"width: 500px;\"/>"
   ]
  },
  {
   "cell_type": "markdown",
   "metadata": {
    "slideshow": {
     "slide_type": "subslide"
    }
   },
   "source": [
    "- <b>repeat step 4 till we reach convergence</b>"
   ]
  },
  {
   "cell_type": "markdown",
   "metadata": {
    "slideshow": {
     "slide_type": "slide"
    }
   },
   "source": [
    "# Topics will be covered in the next lecture\n",
    "\n",
    "* Classifiers\n",
    "    - Logistic Regression\n",
    "    - Support Vector Machine\n",
    "    - Multi Layer Perceptron"
   ]
  }
 ],
 "metadata": {
  "celltoolbar": "Slideshow",
  "kernelspec": {
   "display_name": "Python 3",
   "language": "python",
   "name": "python3"
  },
  "language_info": {
   "codemirror_mode": {
    "name": "ipython",
    "version": 3
   },
   "file_extension": ".py",
   "mimetype": "text/x-python",
   "name": "python",
   "nbconvert_exporter": "python",
   "pygments_lexer": "ipython3",
   "version": "3.8.3"
  }
 },
 "nbformat": 4,
 "nbformat_minor": 2
}
