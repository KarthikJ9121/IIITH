{
  "nbformat": 4,
  "nbformat_minor": 0,
  "metadata": {
    "colab": {
      "name": "Neural Network Basics.ipynb",
      "provenance": [],
      "collapsed_sections": []
    },
    "kernelspec": {
      "name": "python3",
      "display_name": "Python 3"
    },
    "accelerator": "GPU"
  },
  "cells": [
    {
      "cell_type": "markdown",
      "metadata": {
        "id": "UPu9AiyAStqg"
      },
      "source": [
        "# Neural Networks with NumPy and PyTorch\n",
        "\n",
        "In this notebook we will look at how to implement various Neural Network modules using Numpy and Pytorch. We will then finally use all these modules to build a multi-layered perceptron (MLP).\n",
        "\n"
      ]
    },
    {
      "cell_type": "code",
      "metadata": {
        "id": "IiyOm7QPoZr6"
      },
      "source": [
        "import numpy as np\n",
        "import torch\n",
        "import torch.nn as nn\n",
        "import torch.optim as optim\n",
        "\n",
        "from matplotlib.colors import ListedColormap\n",
        "import matplotlib.pyplot as plt\n",
        "\n",
        "%matplotlib inline\n",
        "\n",
        "# # The following code is used for hiding the warnings and make this notebook clearer.\n",
        "from matplotlib.axes._axes import _log as matplotlib_axes_logger\n",
        "matplotlib_axes_logger.setLevel('ERROR')"
      ],
      "execution_count": 1,
      "outputs": []
    },
    {
      "cell_type": "markdown",
      "metadata": {
        "id": "ybcefoEbPzq_"
      },
      "source": [
        "## Miscellaneous code for plotting decision boundary (ignore)"
      ]
    },
    {
      "cell_type": "code",
      "metadata": {
        "id": "ipuB57QrO2-v"
      },
      "source": [
        "## Miscellaneous code to plot decision boundary (ignore) ##\n",
        "\n",
        "def plot_decision_regions(X, y, classifier, method, test_idx=None, resolution=0.02):\n",
        "\n",
        "    # setup marker generator and color map\n",
        "    markers = ('s', 'x', 'o', '^', 'v')\n",
        "    colors = ('red', 'blue', 'lightgreen', 'gray', 'cyan')\n",
        "    cmap = ListedColormap(colors[:len(np.unique(y))])\n",
        "\n",
        "    # plot the decision surface\n",
        "    x1_min, x1_max = X[:, 0].min() - 1, X[:, 0].max() + 1\n",
        "    x2_min, x2_max = X[:, 1].min() - 1, X[:, 1].max() + 1\n",
        "    xx1, xx2 = np.meshgrid(np.arange(x1_min, x1_max, resolution),\n",
        "                           np.arange(x2_min, x2_max, resolution))\n",
        "    if method == 'numpy':\n",
        "        Z = classifier.predict(np.array([xx1.ravel(), xx2.ravel()]).T)\n",
        "    elif method == 'pytorch':\n",
        "        inp = torch.tensor([xx1.ravel(), xx2.ravel()], dtype=torch.float, requires_grad=False).T\n",
        "        Z = np.array([]).reshape(0,1)\n",
        "        for data in inp:\n",
        "            out = classifier(data)\n",
        "            Z = np.vstack((Z, out.data.numpy()))\n",
        "    else:\n",
        "        print('Not implemented')\n",
        "    Z = Z.reshape(xx1.shape)\n",
        "    plt.contourf(xx1, xx2, Z, alpha=0.4, cmap=cmap)\n",
        "    plt.xlim(xx1.min(), xx1.max())\n",
        "    plt.ylim(xx2.min(), xx2.max())\n",
        "\n",
        "    # plot class samples\n",
        "    for idx, cl in enumerate(np.unique(y)):\n",
        "        plt.scatter(x=X[y == cl, 0], y=X[y == cl, 1],\n",
        "                    alpha=0.8, c=cmap(idx),\n",
        "                    marker=markers[idx], label=cl)\n",
        "\n",
        "    # highlight test samples\n",
        "    if test_idx:\n",
        "        # plot all samples\n",
        "        X_test, y_test = X[test_idx, :], y[test_idx]\n",
        "\n",
        "        plt.scatter(X_test[:, 0],\n",
        "                    X_test[:, 1],\n",
        "                    c='',\n",
        "                    alpha=1.0,\n",
        "                    linewidths=1,\n",
        "                    marker='o',\n",
        "                    s=55, label='test set')"
      ],
      "execution_count": 2,
      "outputs": []
    },
    {
      "cell_type": "markdown",
      "metadata": {
        "id": "IDBs0447fkl9"
      },
      "source": [
        "## From perceptron to dense layer\n",
        "\n",
        "We have earlier seen perceptron learning algorithm in details. A perceptron or a neuron is a mathematical function that takes in input a vector and outputs a single numerical value.\n",
        "\n",
        "![](https://drive.google.com/uc?export=view&id=13iunc0gCEikqIJWf_LxkacCxZx2mzxpU)\n",
        "\n",
        "The neuron is defined as follows:\n",
        "$$\n",
        "y = f \\left( \\sum_i (x_i w_i + b) \\right)\n",
        "$$\n",
        "\n",
        "We will now use several of these neurons in a layer and stack several layers to create a multi-layered neural network.\n",
        "\n",
        "![](https://drive.google.com/uc?export=view&id=1WMj9bf-TdqBobkHN80xQMmXnPzX3UQUt)\n",
        "\n",
        "We will now create a neural network with two neurons in the hidden layer and we will show how this can model the XOR function using Numpy. However, we will write code that will allow the reader to simply modify it to allow for any number of layers and neurons in each layer, so that the reader can try simulating different scenarios. We are also going to use the hyperbolic tangent as the activity function for this network. To train the network, we will implement the back-propagation algorithm.\n",
        "\n",
        "![](https://drive.google.com/uc?export=view&id=1Td_t6W-KvogNMLBu2zQawfNBmB161OZ7)\n",
        "\n"
      ]
    },
    {
      "cell_type": "markdown",
      "metadata": {
        "id": "M06A4obAmCH8"
      },
      "source": [
        "### PyTorch implementation\n",
        "\n",
        "We will now solve the same non-linear XOR problem, but this time we will use Pytorch library instead of using Numpy."
      ]
    },
    {
      "cell_type": "markdown",
      "metadata": {
        "id": "oPRAUbSppt3g"
      },
      "source": [
        "Define the input data"
      ]
    },
    {
      "cell_type": "code",
      "metadata": {
        "id": "B4-HE3rWpxtI"
      },
      "source": [
        "torch.manual_seed(0)\n",
        "\n",
        "X = torch.tensor([[0,0],[0,1], [1,0], [1,1]], dtype=torch.float, requires_grad=False)\n",
        "Y = torch.tensor([0,1,1,0], dtype=torch.float, requires_grad=False)\n"
      ],
      "execution_count": 3,
      "outputs": []
    },
    {
      "cell_type": "markdown",
      "metadata": {
        "id": "4WrorxFGmeBW"
      },
      "source": [
        "Define the Nerual Network class `Net`"
      ]
    },
    {
      "cell_type": "code",
      "metadata": {
        "id": "amMwBA5amadq"
      },
      "source": [
        "class Net(nn.Module):\n",
        "\n",
        "    def __init__(self):\n",
        "        super(Net, self).__init__()\n",
        "        # Initialize all the layers with learnable parameters\n",
        "        self.fc1 = nn.Linear(2, 2, True) \n",
        "        self.fc2 = nn.Linear(2, 1, True)\n",
        "\n",
        "    def forward(self, x):\n",
        "        # Write the forward pass\n",
        "        x = self.fc1(x)\n",
        "        x = torch.sigmoid(x)\n",
        "        x = self.fc2(x)\n",
        "        x = torch.sigmoid(x)\n",
        "        return x\n",
        "\n",
        "model = Net()"
      ],
      "execution_count": 4,
      "outputs": []
    },
    {
      "cell_type": "markdown",
      "metadata": {
        "id": "IXHGjf7bopa7"
      },
      "source": [
        "Initialize the weights"
      ]
    },
    {
      "cell_type": "code",
      "metadata": {
        "id": "quKUVIkmnLck"
      },
      "source": [
        "def weights_init(model):\n",
        "    for m in model.modules():\n",
        "        if isinstance(m, nn.Linear):\n",
        "            # initialize the weight tensor, here we use a normal distribution\n",
        "            m.weight.data.normal_(0, 1)\n",
        "\n",
        "weights_init(model)\n"
      ],
      "execution_count": 5,
      "outputs": []
    },
    {
      "cell_type": "markdown",
      "metadata": {
        "id": "Ht0S9Bspo5sA"
      },
      "source": [
        "Define the loss function"
      ]
    },
    {
      "cell_type": "code",
      "metadata": {
        "id": "gWiUFf8to028"
      },
      "source": [
        "loss_func = nn.MSELoss()"
      ],
      "execution_count": 6,
      "outputs": []
    },
    {
      "cell_type": "markdown",
      "metadata": {
        "id": "BxDXaDwCo-X0"
      },
      "source": [
        "Define optimizer"
      ]
    },
    {
      "cell_type": "code",
      "metadata": {
        "id": "fIt-u83To8Cp"
      },
      "source": [
        "optimizer = optim.SGD(model.parameters(), lr=0.1)"
      ],
      "execution_count": 7,
      "outputs": []
    },
    {
      "cell_type": "markdown",
      "metadata": {
        "id": "FvDIhNOAtKJR"
      },
      "source": [
        "Write the training routine"
      ]
    },
    {
      "cell_type": "code",
      "metadata": {
        "id": "XdoIOwHjpDUC",
        "colab": {
          "base_uri": "https://localhost:8080/"
        },
        "outputId": "87b2ef45-a9cc-44f9-de4c-1569f32eec49"
      },
      "source": [
        "epochs = 5000\n",
        "steps = X.size(0)\n",
        "for i in range(epochs): # iterate over epoch\n",
        "    for j in range(steps): # iterate over sample\n",
        "        # randomly sample the inputs\n",
        "        sample = np.random.randint(X.size(0))\n",
        "        x_var = X[sample]\n",
        "        y_var = Y[sample]\n",
        "        \n",
        "        optimizer.zero_grad()\n",
        "\n",
        "        y_hat = model(x_var)\n",
        "        \n",
        "        loss = loss_func.forward(y_hat[0], y_var)\n",
        "        loss.backward()\n",
        "        \n",
        "        optimizer.step()\n",
        "        \n",
        "    if i % 500 == 0:\n",
        "        print(\"Epoch: {0}, Loss: {1}, \".format(i, loss.data.numpy()))"
      ],
      "execution_count": 9,
      "outputs": [
        {
          "output_type": "stream",
          "text": [
            "Epoch: 0, Loss: 0.05511976405978203, \n",
            "Epoch: 500, Loss: 0.015047666616737843, \n",
            "Epoch: 1000, Loss: 0.005735413637012243, \n",
            "Epoch: 1500, Loss: 0.007443094626069069, \n",
            "Epoch: 2000, Loss: 0.0052114371210336685, \n",
            "Epoch: 2500, Loss: 0.0030797298531979322, \n",
            "Epoch: 3000, Loss: 0.0035965607967227697, \n",
            "Epoch: 3500, Loss: 0.0029731595423072577, \n",
            "Epoch: 4000, Loss: 0.0014232777757570148, \n",
            "Epoch: 4500, Loss: 0.0012977489968761802, \n"
          ],
          "name": "stdout"
        }
      ]
    },
    {
      "cell_type": "markdown",
      "metadata": {
        "id": "UDJ_t_n7tNft"
      },
      "source": [
        "Check the output"
      ]
    },
    {
      "cell_type": "code",
      "metadata": {
        "id": "-iuVBZAhqmyc",
        "colab": {
          "base_uri": "https://localhost:8080/"
        },
        "outputId": "22440964-f694-462b-a2cf-4f19d142870e"
      },
      "source": [
        "for data in X:\n",
        "    output = model(data)\n",
        "    print(data, np.round(output.data.numpy()))"
      ],
      "execution_count": 10,
      "outputs": [
        {
          "output_type": "stream",
          "text": [
            "tensor([0., 0.]) [0.]\n",
            "tensor([0., 1.]) [1.]\n",
            "tensor([1., 0.]) [1.]\n",
            "tensor([1., 1.]) [0.]\n"
          ],
          "name": "stdout"
        }
      ]
    },
    {
      "cell_type": "markdown",
      "metadata": {
        "id": "rivkpNxI14nM"
      },
      "source": [
        "Visualize the decision boundary"
      ]
    },
    {
      "cell_type": "code",
      "metadata": {
        "id": "x0NwT57etnik",
        "colab": {
          "base_uri": "https://localhost:8080/",
          "height": 297
        },
        "outputId": "4c4da8c1-7c51-41c2-c68c-e3820b6cdbbf"
      },
      "source": [
        "np.random.seed(0)\n",
        "plot_decision_regions(X.detach().numpy(), Y.detach().numpy(), model, 'pytorch')\n",
        "plt.xlabel('x-axis')\n",
        "plt.ylabel('y-axis')\n",
        "plt.legend(loc='upper left')\n",
        "plt.tight_layout()\n",
        "plt.show()"
      ],
      "execution_count": 11,
      "outputs": [
        {
          "output_type": "display_data",
          "data": {
            "image/png": "[encoded data removed]",
            "text/plain": [
              "<Figure size 432x288 with 1 Axes>"
            ]
          },
          "metadata": {
            "tags": [],
            "needs_background": "light"
          }
        }
      ]
    },
    {
      "cell_type": "code",
      "metadata": {
        "id": "xLeUYhT9NkAe"
      },
      "source": [
        ""
      ],
      "execution_count": null,
      "outputs": []
    }
  ]
}