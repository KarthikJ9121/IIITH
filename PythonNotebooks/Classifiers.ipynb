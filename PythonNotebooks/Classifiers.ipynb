{
  "nbformat": 4,
  "nbformat_minor": 0,
  "metadata": {
    "colab": {
      "provenance": []
    },
    "kernelspec": {
      "name": "python3",
      "display_name": "Python 3"
    },
    "language_info": {
      "name": "python"
    },
    "widgets": {
      "application/vnd.jupyter.widget-state+json": {
        "89086b1f207a42deba3fc32295a92614": {
          "model_module": "@jupyter-widgets/controls",
          "model_name": "VBoxModel",
          "model_module_version": "1.5.0",
          "state": {
            "_dom_classes": [
              "widget-interact"
            ],
            "_model_module": "@jupyter-widgets/controls",
            "_model_module_version": "1.5.0",
            "_model_name": "VBoxModel",
            "_view_count": null,
            "_view_module": "@jupyter-widgets/controls",
            "_view_module_version": "1.5.0",
            "_view_name": "VBoxView",
            "box_style": "",
            "children": [
              "IPY_MODEL_719b5f5623154a1e80b75de463d9e03c",
              "IPY_MODEL_011e86ae86084162bdfdb7db451d8d70"
            ],
            "layout": "IPY_MODEL_bc16d4b1584f4b319f807baf8400964e"
          }
        },
        "719b5f5623154a1e80b75de463d9e03c": {
          "model_module": "@jupyter-widgets/controls",
          "model_name": "IntSliderModel",
          "model_module_version": "1.5.0",
          "state": {
            "_dom_classes": [],
            "_model_module": "@jupyter-widgets/controls",
            "_model_module_version": "1.5.0",
            "_model_name": "IntSliderModel",
            "_view_count": null,
            "_view_module": "@jupyter-widgets/controls",
            "_view_module_version": "1.5.0",
            "_view_name": "IntSliderView",
            "continuous_update": true,
            "description": "epoch",
            "description_tooltip": null,
            "disabled": false,
            "layout": "IPY_MODEL_9d5f29a4607d4e14b038b7df87c49d4e",
            "max": 9,
            "min": 0,
            "orientation": "horizontal",
            "readout": true,
            "readout_format": "d",
            "step": 1,
            "style": "IPY_MODEL_4c302ae6aff54b798e2b54e41338708f",
            "value": 0
          }
        },
        "011e86ae86084162bdfdb7db451d8d70": {
          "model_module": "@jupyter-widgets/output",
          "model_name": "OutputModel",
          "model_module_version": "1.0.0",
          "state": {
            "_dom_classes": [],
            "_model_module": "@jupyter-widgets/output",
            "_model_module_version": "1.0.0",
            "_model_name": "OutputModel",
            "_view_count": null,
            "_view_module": "@jupyter-widgets/output",
            "_view_module_version": "1.0.0",
            "_view_name": "OutputView",
            "layout": "IPY_MODEL_5be5492466fe4db5adf4a90c452b0234",
            "msg_id": "",
            "outputs": [
              {
                "output_type": "display_data",
                "data": {
                  "text/plain": "<Figure size 640x480 with 1 Axes>",
                  "image/png": "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\n"
                },
                "metadata": {}
              }
            ]
          }
        },
        "bc16d4b1584f4b319f807baf8400964e": {
          "model_module": "@jupyter-widgets/base",
          "model_name": "LayoutModel",
          "model_module_version": "1.2.0",
          "state": {
            "_model_module": "@jupyter-widgets/base",
            "_model_module_version": "1.2.0",
            "_model_name": "LayoutModel",
            "_view_count": null,
            "_view_module": "@jupyter-widgets/base",
            "_view_module_version": "1.2.0",
            "_view_name": "LayoutView",
            "align_content": null,
            "align_items": null,
            "align_self": null,
            "border": null,
            "bottom": null,
            "display": null,
            "flex": null,
            "flex_flow": null,
            "grid_area": null,
            "grid_auto_columns": null,
            "grid_auto_flow": null,
            "grid_auto_rows": null,
            "grid_column": null,
            "grid_gap": null,
            "grid_row": null,
            "grid_template_areas": null,
            "grid_template_columns": null,
            "grid_template_rows": null,
            "height": null,
            "justify_content": null,
            "justify_items": null,
            "left": null,
            "margin": null,
            "max_height": null,
            "max_width": null,
            "min_height": null,
            "min_width": null,
            "object_fit": null,
            "object_position": null,
            "order": null,
            "overflow": null,
            "overflow_x": null,
            "overflow_y": null,
            "padding": null,
            "right": null,
            "top": null,
            "visibility": null,
            "width": null
          }
        },
        "9d5f29a4607d4e14b038b7df87c49d4e": {
          "model_module": "@jupyter-widgets/base",
          "model_name": "LayoutModel",
          "model_module_version": "1.2.0",
          "state": {
            "_model_module": "@jupyter-widgets/base",
            "_model_module_version": "1.2.0",
            "_model_name": "LayoutModel",
            "_view_count": null,
            "_view_module": "@jupyter-widgets/base",
            "_view_module_version": "1.2.0",
            "_view_name": "LayoutView",
            "align_content": null,
            "align_items": null,
            "align_self": null,
            "border": null,
            "bottom": null,
            "display": null,
            "flex": null,
            "flex_flow": null,
            "grid_area": null,
            "grid_auto_columns": null,
            "grid_auto_flow": null,
            "grid_auto_rows": null,
            "grid_column": null,
            "grid_gap": null,
            "grid_row": null,
            "grid_template_areas": null,
            "grid_template_columns": null,
            "grid_template_rows": null,
            "height": null,
            "justify_content": null,
            "justify_items": null,
            "left": null,
            "margin": null,
            "max_height": null,
            "max_width": null,
            "min_height": null,
            "min_width": null,
            "object_fit": null,
            "object_position": null,
            "order": null,
            "overflow": null,
            "overflow_x": null,
            "overflow_y": null,
            "padding": null,
            "right": null,
            "top": null,
            "visibility": null,
            "width": null
          }
        },
        "4c302ae6aff54b798e2b54e41338708f": {
          "model_module": "@jupyter-widgets/controls",
          "model_name": "SliderStyleModel",
          "model_module_version": "1.5.0",
          "state": {
            "_model_module": "@jupyter-widgets/controls",
            "_model_module_version": "1.5.0",
            "_model_name": "SliderStyleModel",
            "_view_count": null,
            "_view_module": "@jupyter-widgets/base",
            "_view_module_version": "1.2.0",
            "_view_name": "StyleView",
            "description_width": "",
            "handle_color": null
          }
        },
        "5be5492466fe4db5adf4a90c452b0234": {
          "model_module": "@jupyter-widgets/base",
          "model_name": "LayoutModel",
          "model_module_version": "1.2.0",
          "state": {
            "_model_module": "@jupyter-widgets/base",
            "_model_module_version": "1.2.0",
            "_model_name": "LayoutModel",
            "_view_count": null,
            "_view_module": "@jupyter-widgets/base",
            "_view_module_version": "1.2.0",
            "_view_name": "LayoutView",
            "align_content": null,
            "align_items": null,
            "align_self": null,
            "border": null,
            "bottom": null,
            "display": null,
            "flex": null,
            "flex_flow": null,
            "grid_area": null,
            "grid_auto_columns": null,
            "grid_auto_flow": null,
            "grid_auto_rows": null,
            "grid_column": null,
            "grid_gap": null,
            "grid_row": null,
            "grid_template_areas": null,
            "grid_template_columns": null,
            "grid_template_rows": null,
            "height": null,
            "justify_content": null,
            "justify_items": null,
            "left": null,
            "margin": null,
            "max_height": null,
            "max_width": null,
            "min_height": null,
            "min_width": null,
            "object_fit": null,
            "object_position": null,
            "order": null,
            "overflow": null,
            "overflow_x": null,
            "overflow_y": null,
            "padding": null,
            "right": null,
            "top": null,
            "visibility": null,
            "width": null
          }
        }
      }
    }
  },
  "cells": [
    {
      "cell_type": "markdown",
      "source": [
        "# **Classifiers**"
      ],
      "metadata": {
        "id": "q5HqQ_gKscu6"
      }
    },
    {
      "cell_type": "markdown",
      "source": [
        "***Linear Models:***\n",
        "\n",
        "- **Logistic Regression:** Predicts the probability of a binary outcome (0 or 1).\n",
        "- ***Support Vector Machines (SVMs):*** Find the optimal hyperplane to separate classes.\n",
        "\n",
        "***Tree-Based Models:***\n",
        "\n",
        "- **Decision Trees:** Build a tree-like model of decisions and outcomes.\n",
        "- **Random Forests:** Ensemble of multiple decision trees for improved accuracy.\n",
        "\n",
        "- **Gradient Boosting:** Sequentially builds trees, each correcting errors of the previous one.\n",
        "\n",
        "***Probabilistic Models:***\n",
        "\n",
        "- **Naive Bayes:** Calculates probabilities based on feature independence assumption.\n",
        "\n",
        "***Neural Networks:***\n",
        "\n",
        "- **Multilayer Perceptron (MLP):** A basic type of neural network with multiple layers.\n",
        "- **Convolutional Neural Networks (CNNs):** Specialized for image data.\n",
        "- **Recurrent Neural Networks (RNNs):** Designed for sequential data like text or time series."
      ],
      "metadata": {
        "id": "lagLduNmsgGX"
      }
    },
    {
      "cell_type": "markdown",
      "source": [
        "- **Supervised Machine Learning Algorithms**\n",
        "- **Binary Classifiers**\n",
        "-- Ex: spam or not Spam\n",
        "-- Covid +ve or -ve\n",
        "\n",
        "- **Multi - Class Classifiers**\n",
        "-- Digit Recognition\n",
        "-- type of animal in an image\n",
        "\n"
      ],
      "metadata": {
        "id": "AE0YvYAMuPb_"
      }
    },
    {
      "cell_type": "markdown",
      "source": [],
      "metadata": {
        "id": "mvim_wi7v4tD"
      }
    },
    {
      "cell_type": "markdown",
      "source": [
        "## **Logistic Regression**\n",
        "- only with the linerly separable data\n",
        "\n",
        "Logistic regression is a statistical model used for binary classification problems, where the outcome is either one of two possibilities (like \"yes\" or \"no\", \"true\" or \"false\"). It predicts the probability of the outcome based on input features."
      ],
      "metadata": {
        "id": "VSVF3ffZv67k"
      }
    },
    {
      "cell_type": "markdown",
      "source": [
        "How it works:\n",
        "\n",
        "Input: The model takes in features (e.g., age, income) of a data point.\n",
        "Linear Combination: It calculates a weighted sum of these features.\n",
        "Sigmoid Function: Applies the sigmoid function to the weighted sum to get a probability between 0 and 1.\n",
        "Threshold: A threshold (usually 0.5) is used to decide the final classification (0 or 1).\n",
        "Example:\n",
        "\n",
        "Let's say you want to predict whether a customer will click on an ad based on their age and income. You have a dataset with historical data:\n",
        "\n",
        "\n",
        "Age\tIncome\tClicked\n",
        "\n",
        "25\t50000\t1\n",
        "\n",
        "30\t70000\t0\n",
        "\n",
        "40\t100000\t1\n",
        "\n",
        "You can train a logistic regression model on this data. The model will learn weights for age and income, and when you give it new data (e.g., age=35, income=80000), it will output a probability of clicking the ad."
      ],
      "metadata": {
        "id": "G1VyrSrNxUL3"
      }
    },
    {
      "cell_type": "code",
      "source": [
        "from sklearn.linear_model import LogisticRegression\n",
        "from sklearn.model_selection import train_test_split\n",
        "from sklearn.datasets import load_breast_cancer\n",
        "from sklearn.preprocessing import StandardScaler\n",
        "\n",
        "# Load the breast cancer dataset\n",
        "data = load_breast_cancer()\n",
        "X = data.data\n",
        "y = data.target\n",
        "\n",
        "# Scale the data\n",
        "scaler = StandardScaler()\n",
        "X = scaler.fit_transform(X)\n",
        "\n",
        "# Split data into training and testing sets\n",
        "X_train, X_test, y_train, y_test = train_test_split(X, y, test_size=0.2, random_state=42)\n",
        "\n",
        "# Create and train the model\n",
        "model = LogisticRegression(max_iter=1000)\n",
        "model.fit(X_train, y_train)\n",
        "\n",
        "# Make predictions\n",
        "predictions = model.predict(X_test)\n",
        "\n",
        "# Evaluate the model (you'll need metrics like accuracy, precision, etc.)\n",
        "from sklearn.metrics import accuracy_score, precision_score, recall_score, f1_score\n",
        "accuracy = accuracy_score(y_test, predictions)\n",
        "precision = precision_score(y_test, predictions)\n",
        "recall = recall_score(y_test, predictions)\n",
        "f1_score = f1_score(y_test, predictions)\n",
        "\n",
        "print(\"Accuracy:\", accuracy)\n",
        "print(\"Precision:\", precision)\n",
        "\n",
        "print(\"Recall: \", recall)\n",
        "print(\"F1 Score\", f1_score)"
      ],
      "metadata": {
        "id": "HMb5ALdhxqxb",
        "colab": {
          "base_uri": "https://localhost:8080/"
        },
        "outputId": "171194ca-4206-4b6d-edb1-173b455e56ab"
      },
      "execution_count": null,
      "outputs": [
        {
          "output_type": "stream",
          "name": "stdout",
          "text": [
            "Accuracy: 0.9736842105263158\n",
            "Precision: 0.9722222222222222\n",
            "Recall:  0.9859154929577465\n",
            "F1 Score 0.979020979020979\n"
          ]
        }
      ]
    },
    {
      "cell_type": "code",
      "source": [
        "from sklearn.linear_model import LogisticRegression\n",
        "from sklearn.model_selection import train_test_split\n",
        "from sklearn.datasets import load_breast_cancer\n",
        "from sklearn.preprocessing import StandardScaler\n",
        "from sklearn.metrics import confusion_matrix, ConfusionMatrixDisplay\n",
        "import matplotlib.pyplot as plt\n",
        "\n",
        "# Load the breast cancer dataset\n",
        "# ... (rest of the code from the previous response)\n",
        "\n",
        "# Generate the confusion matrix\n",
        "cm = confusion_matrix(y_test, predictions)\n",
        "\n",
        "# Display the confusion matrix\n",
        "disp = ConfusionMatrixDisplay(confusion_matrix=cm)\n",
        "disp.plot()\n",
        "plt.show()"
      ],
      "metadata": {
        "colab": {
          "base_uri": "https://localhost:8080/",
          "height": 455
        },
        "id": "HzhPu5eS0JvC",
        "outputId": "98de4885-da72-41aa-8a7c-1f435a843c9a"
      },
      "execution_count": null,
      "outputs": [
        {
          "output_type": "display_data",
          "data": {
            "text/plain": [
              "<Figure size 640x480 with 2 Axes>"
            ],
            "image/png": "[encoded data removed]"
          },
          "metadata": {}
        }
      ]
    },
    {
      "cell_type": "code",
      "source": [
        "import numpy as np\n",
        "import matplotlib.pyplot as plt\n",
        "from sklearn.linear_model import LogisticRegression\n",
        "from sklearn.datasets import make_blobs\n",
        "from ipywidgets import interact, IntSlider\n",
        "\n",
        "# Generate sample data\n",
        "X, y = make_blobs(n_samples=100, centers=2, random_state=0)\n",
        "\n",
        "# Initialize the model\n",
        "clf = LogisticRegression()\n",
        "\n",
        "def plot_decision_boundary(epoch):\n",
        "    # We'll simulate epochs by adding more data points each time\n",
        "    n_samples_to_use = (epoch + 1) * 10\n",
        "    X_subset = X[:n_samples_to_use]\n",
        "    y_subset = y[:n_samples_to_use]\n",
        "\n",
        "    clf.fit(X_subset, y_subset)\n",
        "\n",
        "    # Plot the data points\n",
        "    plt.scatter(X_subset[:, 0], X_subset[:, 1], c=y_subset, cmap=plt.cm.Paired)\n",
        "\n",
        "    # Plot the decision boundary\n",
        "    ax = plt.gca()\n",
        "    xlim = ax.get_xlim()\n",
        "    ylim = ax.get_ylim()\n",
        "    xx, yy = np.meshgrid(np.linspace(xlim[0], xlim[1], 100),\n",
        "                         np.linspace(ylim[0], ylim[1], 100))\n",
        "    Z = clf.decision_function(np.c_[xx.ravel(), yy.ravel()])\n",
        "    Z = Z.reshape(xx.shape)\n",
        "    plt.contour(xx, yy, Z, levels=[0], alpha=0.5, colors='k')\n",
        "\n",
        "    plt.title(f\"Epoch {epoch+1}\")\n",
        "    plt.xlabel(\"Feature 1\")\n",
        "    plt.ylabel(\"Feature 2\")\n",
        "    plt.show()\n",
        "\n",
        "# Create an interactive slider for epochs\n",
        "interact(plot_decision_boundary, epoch=IntSlider(min=0, max=9, step=1, value=0))"
      ],
      "metadata": {
        "colab": {
          "base_uri": "https://localhost:8080/",
          "height": 594,
          "referenced_widgets": [
            "89086b1f207a42deba3fc32295a92614",
            "719b5f5623154a1e80b75de463d9e03c",
            "011e86ae86084162bdfdb7db451d8d70",
            "bc16d4b1584f4b319f807baf8400964e",
            "9d5f29a4607d4e14b038b7df87c49d4e",
            "4c302ae6aff54b798e2b54e41338708f",
            "5be5492466fe4db5adf4a90c452b0234"
          ]
        },
        "id": "24G8DjowOmuI",
        "outputId": "18d7449a-dea8-45a0-cc73-3d673a83b91a"
      },
      "execution_count": null,
      "outputs": [
        {
          "output_type": "display_data",
          "data": {
            "text/plain": [
              "interactive(children=(IntSlider(value=0, description='epoch', max=9), Output()), _dom_classes=('widget-interac…"
            ],
            "application/vnd.jupyter.widget-view+json": {
              "version_major": 2,
              "version_minor": 0,
              "model_id": "89086b1f207a42deba3fc32295a92614"
            }
          },
          "metadata": {}
        },
        {
          "output_type": "execute_result",
          "data": {
            "text/plain": [
              "<function __main__.plot_decision_boundary(epoch)>"
            ],
            "text/html": [
              "<div style=\"max-width:800px; border: 1px solid var(--colab-border-color);\"><style>\n",
              "      pre.function-repr-contents {\n",
              "        overflow-x: auto;\n",
              "        padding: 8px 12px;\n",
              "        max-height: 500px;\n",
              "      }\n",
              "\n",
              "      pre.function-repr-contents.function-repr-contents-collapsed {\n",
              "        cursor: pointer;\n",
              "        max-height: 100px;\n",
              "      }\n",
              "    </style>\n",
              "    <pre style=\"white-space: initial; background:\n",
              "         var(--colab-secondary-surface-color); padding: 8px 12px;\n",
              "         border-bottom: 1px solid var(--colab-border-color);\"><b>plot_decision_boundary</b><br/>def plot_decision_boundary(epoch)</pre><pre class=\"function-repr-contents function-repr-contents-collapsed\" style=\"\"><a class=\"filepath\" style=\"display:none\" href=\"#\">/content/&lt;ipython-input-10-6435f1bbd066&gt;</a>&lt;no docstring&gt;</pre></div>"
            ]
          },
          "metadata": {},
          "execution_count": 10
        }
      ]
    },
    {
      "cell_type": "markdown",
      "source": [
        "## Support Vector Machines\n",
        "\n",
        "Support Vector Machines are supervised learning models used for classification and regression tasks. In essence, SVMs try to find the optimal hyperplane (a decision boundary) that best separates different classes in the feature space. This hyperplane maximizes the margin, which is the distance between the hyperplane and the closest data points of each class (called support vectors)"
      ],
      "metadata": {
        "id": "S83PiMp1-3sb"
      }
    },
    {
      "cell_type": "markdown",
      "source": [],
      "metadata": {
        "id": "YR9ggHJQD5y2"
      }
    },
    {
      "cell_type": "code",
      "source": [
        "from sklearn import datasets\n",
        "from sklearn.model_selection import train_test_split\n",
        "from sklearn.svm import SVC\n",
        "from sklearn.metrics import accuracy_score, precision_score, recall_score, f1_score\n",
        "\n",
        "# Load the Iris dataset\n",
        "iris = datasets.load_iris()\n",
        "X = iris.data  # Features (sepal length, sepal width, petal length, petal width)\n",
        "y = iris.target  # Target (species of iris)\n",
        "\n",
        "# Split the data into training and testing sets\n",
        "X_train, X_test, y_train, y_test = train_test_split(X, y, test_size=0.2, random_state=42)\n",
        "\n",
        "# Create an SVM classifier (using a linear kernel for this example)\n",
        "clf = SVC(kernel='linear')\n",
        "\n",
        "# Train the model on the training data\n",
        "clf.fit(X_train, y_train)\n",
        "\n",
        "# Make predictions on the test data\n",
        "y_pred = clf.predict(X_test)\n",
        "\n",
        "# Evaluate the model's accuracy\n",
        "accuracy = accuracy_score(y_test, y_pred)\n",
        "precision = precision_score(y_test, y_pred, average='weighted')\n",
        "recall = recall_score(y_test, y_pred, average='weighted')\n",
        "f1 = f1_score(y_test, y_pred, average='weighted')\n",
        "\n",
        "\n",
        "print(\"Accuracy:\", accuracy)\n",
        "print(\"Precision:\", precision)\n",
        "print(\"Recall:\", recall)\n",
        "print(\"F1 Score:\", f1)"
      ],
      "metadata": {
        "colab": {
          "base_uri": "https://localhost:8080/"
        },
        "id": "rYJTLtWRD1oF",
        "outputId": "0d0d2c5d-5c8e-486b-ec7e-98b532f13d2f"
      },
      "execution_count": null,
      "outputs": [
        {
          "output_type": "stream",
          "name": "stdout",
          "text": [
            "Accuracy: 1.0\n",
            "Precision: 1.0\n",
            "Recall: 1.0\n",
            "F1 Score: 1.0\n"
          ]
        }
      ]
    },
    {
      "cell_type": "markdown",
      "source": [
        "***Second Dataset***"
      ],
      "metadata": {
        "id": "Bi1f3jPKMxhi"
      }
    },
    {
      "cell_type": "code",
      "source": [
        "from sklearn import datasets\n",
        "from sklearn.model_selection import train_test_split\n",
        "from sklearn.svm import SVC\n",
        "from sklearn.metrics import accuracy_score,  precision_score, recall_score, f1_score\n",
        "\n",
        "# Load the Wine Quality dataset\n",
        "wine = datasets.load_wine()\n",
        "X = wine.data  # Features (alcohol, malic acid, ash, alcalinity of ash, ...)\n",
        "y = wine.target  # Target (quality rating)\n",
        "\n",
        "# Split the data into training and testing sets\n",
        "X_train, X_test, y_train, y_test = train_test_split(X, y, test_size=0.3, random_state=42)\n",
        "\n",
        "# Create    an SVM classifier with a non-linear kernel (RBF)\n",
        "clf = SVC(kernel='rbf', gamma='scale') #Radial Basis Function - a non linear fn\n",
        "\n",
        "# Train the model on the training data\n",
        "clf.fit(X_train, y_train)\n",
        "\n",
        "# Make predictions on the test data\n",
        "y_pred = clf.predict(X_test)\n",
        "\n",
        "# Evaluate the model's    performance\n",
        "accuracy = accuracy_score(y_test, y_pred)\n",
        "precision = precision_score(y_test, y_pred, average='weighted')\n",
        "recall = recall_score(y_test, y_pred, average='weighted')\n",
        "f1 = f1_score(y_test, y_pred, average='weighted')\n",
        "\n",
        "print(\"Accuracy:\", accuracy)\n",
        "print(\"Precision:\", precision)\n",
        "print(\"Recall:\", recall)\n",
        "print(\"F1 Score:\",  f1)"
      ],
      "metadata": {
        "colab": {
          "base_uri": "https://localhost:8080/"
        },
        "id": "Cq-AYyVlJpXq",
        "outputId": "ae3ec8a6-6726-442e-a92b-bf7b613466b1"
      },
      "execution_count": null,
      "outputs": [
        {
          "output_type": "stream",
          "name": "stdout",
          "text": [
            "Accuracy: 0.7592592592592593\n",
            "Precision: 0.7537037037037037\n",
            "Recall: 0.7592592592592593\n",
            "F1 Score: 0.7234835454649696\n"
          ]
        }
      ]
    },
    {
      "cell_type": "code",
      "source": [],
      "metadata": {
        "id": "GLovn0grM5aU"
      },
      "execution_count": null,
      "outputs": []
    }
  ]
}