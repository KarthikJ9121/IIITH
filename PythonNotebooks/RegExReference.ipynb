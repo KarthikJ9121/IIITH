{
 "cells": [
  {
   "cell_type": "code",
   "execution_count": 1,
   "metadata": {},
   "outputs": [
    {
     "data": {
      "text/plain": [
       "{'width': 1300, 'height': 300, 'scroll': True}"
      ]
     },
     "execution_count": 1,
     "metadata": {},
     "output_type": "execute_result"
    }
   ],
   "source": [
    "from notebook.services.config import ConfigManager\n",
    "cm = ConfigManager()\n",
    "cm.update('livereveal', {\n",
    "        'width': 1300,\n",
    "        'height': 300,\n",
    "        'scroll': True,\n",
    "})"
   ]
  },
  {
   "cell_type": "markdown",
   "metadata": {
    "slideshow": {
     "slide_type": "slide"
    }
   },
   "source": [
    "## Topics will be covered in this session"
   ]
  },
  {
   "cell_type": "markdown",
   "metadata": {
    "slideshow": {
     "slide_type": "fragment"
    }
   },
   "source": [
    "1. Regular Expressions\n",
    "2. Tokenization\n",
    "3. Stop words\n",
    "4. Lemmatization\n",
    "5. Stemming\n",
    "6. Challenges in Tokenization"
   ]
  },
  {
   "cell_type": "markdown",
   "metadata": {
    "slideshow": {
     "slide_type": "slide"
    }
   },
   "source": [
    "## Regular Expressions"
   ]
  },
  {
   "cell_type": "markdown",
   "metadata": {
    "slideshow": {
     "slide_type": "fragment"
    }
   },
   "source": [
    "* A RegEx, or Regular Expression, is a sequence of characters that forms a search pattern.\n",
    "* RegEx can be used to check if a string contains the specified search pattern.\n",
    "* __re__ module is used to work with regular expressions."
   ]
  },
  {
   "cell_type": "code",
   "execution_count": 4,
   "metadata": {
    "scrolled": true,
    "slideshow": {
     "slide_type": "fragment"
    }
   },
   "outputs": [],
   "source": [
    "# import re module\n",
    "import re\n",
    "\n",
    "import nltk\n",
    "# nltk.download('punkt')"
   ]
  },
  {
   "cell_type": "markdown",
   "metadata": {
    "slideshow": {
     "slide_type": "subslide"
    }
   },
   "source": [
    "### Metacharacters"
   ]
  },
  {
   "cell_type": "markdown",
   "metadata": {
    "slideshow": {
     "slide_type": "fragment"
    }
   },
   "source": [
    "* A metacharacter is a character that has a special meaning during pattern processing. \n",
    "* Metacharacters can be used in regular expressions to define the search criteria and any text manipulations."
   ]
  },
  {
   "cell_type": "markdown",
   "metadata": {
    "slideshow": {
     "slide_type": "subslide"
    }
   },
   "source": [
    "#__^__ &emsp; --> &emsp; Beginning of line<br>\n",
    "__$__ &emsp; --> &emsp; End of line<br>\n",
    "__[abc]__ &emsp; --> &emsp; Match any character enclosed in the brackets<br>\n",
    "__[^abc]__ &emsp; --> &emsp; Match any character not enclosed in the brackets<br>\n",
    "__[a-z]__ &emsp; --> &emsp; Match the range of characters specified by the hyphen<br>\n",
    "__.__ &emsp; --> &emsp; Match any single character<br>\n",
    "__\\__ &emsp; --> &emsp; Use the literal meaning of the metacharacter<br>\n",
    "__?__ &emsp; --> &emsp; Match zero or one of the preceding expressio<br>\n",
    "__*__ &emsp; --> &emsp; Match zero, one, or many of the preceding expression<br>\n",
    "__+__ &emsp; --> &emsp; Match one or many of the preceding expression<br>\n",
    "__\\d__ &emsp; --> &emsp; Match digit (0-9)<br>\n",
    "__\\D__ &emsp; --> &emsp; Not a digit (0-9)<br>\n",
    "__\\w__ &emsp; --> &emsp; Word character<br>\n",
    "__\\W__ &emsp; --> &emsp; Not a word character<br>\n",
    "__\\s__ &emsp; --> &emsp; Whitespace (space, tab, newline)<br>\n",
    "__\\S__ &emsp; --> &emsp; Not a whitespace<br>"
   ]
  },
  {
   "cell_type": "code",
   "execution_count": 3,
   "metadata": {
    "slideshow": {
     "slide_type": "subslide"
    }
   },
   "outputs": [],
   "source": [
    "text_to_search = '''\n",
    "abcdefghijklmnopqurtuvwxyz\n",
    "ABCDEFGHIJKLMNOPQRSTUVWXYZ\n",
    "\n",
    "1234567890\n",
    "\n",
    "Ha HazHa\n",
    "\n",
    "MetaCharacters (Need to be escaped):\n",
    ". ^ $ * + ? { } [ ] \\ | ( )\n",
    "\n",
    "coreyms.com\n",
    "\n",
    "321-555-4321\n",
    "123.555.1234\n",
    "123*555*1234\n",
    "800-555-1234\n",
    "900-555-1234\n",
    "\n",
    "Mr. Schafer\n",
    "Mr Smith\n",
    "Ms Davis\n",
    "Mrs. Robinson\n",
    "Mr. T\n",
    "\n",
    "cat\n",
    "mat\n",
    "pat\n",
    "bat\n",
    "'''\n",
    "\n",
    "emails = '''\n",
    "CoreyMSchafer@gmail.com\n",
    "corey.schafer@university.edu\n",
    "corey-321-schafer@my-work.net\n",
    "'''\n",
    "\n",
    "urls = '''\n",
    "https://www.google.com\n",
    "http://coreyms.com\n",
    "https://youtube.com\n",
    "https://www.nasa.gov\n",
    "'''\n",
    "\n",
    "sentence = 'Start a sentence and then bring it to an end'\n"
   ]
  },
  {
   "cell_type": "markdown",
   "metadata": {},
   "source": [
    "### First Type RegularExpressions"
   ]
  },
  {
   "cell_type": "raw",
   "metadata": {
    "slideshow": {
     "slide_type": "subslide"
    }
   },
   "source": [
    "pattern=re.compile(r'\\w+')\n",
    "\n",
    "pattern.match(string) - object at the start of the string if found - returns pattern else returns none\n",
    "pattern.search(string) - object of the first occurance - if found return pattern else returns none\n",
    "pattern.findall(string) - searches entire string returns pattern"
   ]
  },
  {
   "cell_type": "markdown",
   "metadata": {
    "slideshow": {
     "slide_type": "subslide"
    }
   },
   "source": [
    "#### re.compile()"
   ]
  },
  {
   "cell_type": "markdown",
   "metadata": {
    "slideshow": {
     "slide_type": "fragment"
    }
   },
   "source": [
    "We can combine a regular expression pattern into pattern objects, which can be used for pattern matching. It also helps to search a pattern again without rewriting it."
   ]
  },
  {
   "cell_type": "code",
   "execution_count": 4,
   "metadata": {
    "slideshow": {
     "slide_type": "subslide"
    }
   },
   "outputs": [],
   "source": [
    "# defining a pattern\n",
    "text = 'abc is the text here'\n",
    "pattern = re.compile(r'abc')"
   ]
  },
  {
   "cell_type": "code",
   "execution_count": 5,
   "metadata": {
    "slideshow": {
     "slide_type": "fragment"
    }
   },
   "outputs": [
    {
     "data": {
      "text/plain": [
       "<re.Match object; span=(0, 3), match='abc'>"
      ]
     },
     "execution_count": 5,
     "metadata": {},
     "output_type": "execute_result"
    }
   ],
   "source": [
    "# match\n",
    "match = pattern.match(text)   #Match searches only at the start of the string\n",
    "match"
   ]
  },
  {
   "cell_type": "code",
   "execution_count": 6,
   "metadata": {
    "slideshow": {
     "slide_type": "subslide"
    }
   },
   "outputs": [
    {
     "name": "stdout",
     "output_type": "stream",
     "text": [
      "abc is the text here\n"
     ]
    }
   ],
   "source": [
    "pattern_m = re.compile(r'here')\n",
    "print(text)\n",
    "match = pattern_m.match(text)\n",
    "match"
   ]
  },
  {
   "cell_type": "markdown",
   "metadata": {
    "slideshow": {
     "slide_type": "fragment"
    }
   },
   "source": [
    "No matches because match() is used match a pattern at the start of a string."
   ]
  },
  {
   "cell_type": "code",
   "execution_count": 7,
   "metadata": {
    "slideshow": {
     "slide_type": "subslide"
    }
   },
   "outputs": [
    {
     "name": "stdout",
     "output_type": "stream",
     "text": [
      "<class 'list'>\n"
     ]
    },
    {
     "data": {
      "text/plain": [
       "['abc', 'is', 'the', 'text', 'here']"
      ]
     },
     "execution_count": 7,
     "metadata": {},
     "output_type": "execute_result"
    }
   ],
   "source": [
    "# find the matches of pattern\n",
    "# findall method\n",
    "pattern = re.compile(r'\\w+')   #\\w+ searches all the charecters and groups them as words || while \\w matches the charecters\n",
    "match = pattern.findall(text)\n",
    "print(type(match))\n",
    "match"
   ]
  },
  {
   "cell_type": "code",
   "execution_count": 8,
   "metadata": {
    "slideshow": {
     "slide_type": "fragment"
    }
   },
   "outputs": [
    {
     "data": {
      "text/plain": [
       "<re.Match object; span=(0, 3), match='abc'>"
      ]
     },
     "execution_count": 8,
     "metadata": {},
     "output_type": "execute_result"
    }
   ],
   "source": [
    "# search method\n",
    "# looks for the first location where the pattern matches\n",
    "match = pattern.search(text)  # If a match is found, then re.search() returns a match object. Otherwise, it returns None\n",
    "match"
   ]
  },
  {
   "cell_type": "code",
   "execution_count": 9,
   "metadata": {
    "slideshow": {
     "slide_type": "subslide"
    }
   },
   "outputs": [
    {
     "data": {
      "text/plain": [
       "[]"
      ]
     },
     "execution_count": 9,
     "metadata": {},
     "output_type": "execute_result"
    }
   ],
   "source": [
    "# match any character\n",
    "pattern = re.compile(r'\\.')\n",
    "match = pattern.findall(text) \n",
    "match"
   ]
  },
  {
   "cell_type": "code",
   "execution_count": 10,
   "metadata": {
    "slideshow": {
     "slide_type": "subslide"
    }
   },
   "outputs": [
    {
     "data": {
      "text/plain": [
       "['.']"
      ]
     },
     "execution_count": 10,
     "metadata": {},
     "output_type": "execute_result"
    }
   ],
   "source": [
    "# match period character\n",
    "pattern = re.compile(r'\\.')\n",
    "text1 = \"something is useful.\"\n",
    "match = pattern.findall(text1)  #findall returns the charecter specified after \\\n",
    "match"
   ]
  },
  {
   "cell_type": "code",
   "execution_count": 11,
   "metadata": {
    "slideshow": {
     "slide_type": "subslide"
    }
   },
   "outputs": [
    {
     "data": {
      "text/plain": [
       "['1234567890',\n",
       " '321',\n",
       " '555',\n",
       " '4321',\n",
       " '123',\n",
       " '555',\n",
       " '1234',\n",
       " '123',\n",
       " '555',\n",
       " '1234',\n",
       " '800',\n",
       " '555',\n",
       " '1234',\n",
       " '900',\n",
       " '555',\n",
       " '1234']"
      ]
     },
     "execution_count": 11,
     "metadata": {},
     "output_type": "execute_result"
    }
   ],
   "source": [
    "# match digits\n",
    "pattern = re.compile(r'\\d+')\n",
    "match = pattern.findall(text_to_search) #\\d+ selects and groups the numbers || while \\d selects only the charecters\n",
    "match"
   ]
  },
  {
   "cell_type": "code",
   "execution_count": 45,
   "metadata": {
    "slideshow": {
     "slide_type": "subslide"
    }
   },
   "outputs": [
    {
     "data": {
      "text/plain": [
       "['\\n',\n",
       " 'a',\n",
       " 'b',\n",
       " 'c',\n",
       " 'd',\n",
       " 'e',\n",
       " 'f',\n",
       " 'g',\n",
       " 'h',\n",
       " 'i',\n",
       " 'j',\n",
       " 'k',\n",
       " 'l',\n",
       " 'm',\n",
       " 'n',\n",
       " 'o',\n",
       " 'p',\n",
       " 'q',\n",
       " 'u',\n",
       " 'r',\n",
       " 't',\n",
       " 'u',\n",
       " 'v',\n",
       " 'w',\n",
       " 'x',\n",
       " 'y',\n",
       " 'z',\n",
       " '\\n',\n",
       " 'A',\n",
       " 'B',\n",
       " 'C',\n",
       " 'D',\n",
       " 'E',\n",
       " 'F',\n",
       " 'G',\n",
       " 'H',\n",
       " 'I',\n",
       " 'J',\n",
       " 'K',\n",
       " 'L',\n",
       " 'M',\n",
       " 'N',\n",
       " 'O',\n",
       " 'P',\n",
       " 'Q',\n",
       " 'R',\n",
       " 'S',\n",
       " 'T',\n",
       " 'U',\n",
       " 'V',\n",
       " 'W',\n",
       " 'X',\n",
       " 'Y',\n",
       " 'Z',\n",
       " '\\n',\n",
       " '\\n',\n",
       " '\\n',\n",
       " '\\n',\n",
       " 'H',\n",
       " 'a',\n",
       " ' ',\n",
       " 'H',\n",
       " 'a',\n",
       " 'z',\n",
       " 'H',\n",
       " 'a',\n",
       " '\\n',\n",
       " '\\n',\n",
       " 'M',\n",
       " 'e',\n",
       " 't',\n",
       " 'a',\n",
       " 'C',\n",
       " 'h',\n",
       " 'a',\n",
       " 'r',\n",
       " 'a',\n",
       " 'c',\n",
       " 't',\n",
       " 'e',\n",
       " 'r',\n",
       " 's',\n",
       " ' ',\n",
       " '(',\n",
       " 'N',\n",
       " 'e',\n",
       " 'e',\n",
       " 'd',\n",
       " ' ',\n",
       " 't',\n",
       " 'o',\n",
       " ' ',\n",
       " 'b',\n",
       " 'e',\n",
       " ' ',\n",
       " 'e',\n",
       " 's',\n",
       " 'c',\n",
       " 'a',\n",
       " 'p',\n",
       " 'e',\n",
       " 'd',\n",
       " ')',\n",
       " ':',\n",
       " '\\n',\n",
       " '.',\n",
       " ' ',\n",
       " '^',\n",
       " ' ',\n",
       " '$',\n",
       " ' ',\n",
       " '*',\n",
       " ' ',\n",
       " '+',\n",
       " ' ',\n",
       " '?',\n",
       " ' ',\n",
       " '{',\n",
       " ' ',\n",
       " '}',\n",
       " ' ',\n",
       " '[',\n",
       " ' ',\n",
       " ']',\n",
       " ' ',\n",
       " '\\\\',\n",
       " ' ',\n",
       " '|',\n",
       " ' ',\n",
       " '(',\n",
       " ' ',\n",
       " ')',\n",
       " '\\n',\n",
       " '\\n',\n",
       " 'c',\n",
       " 'o',\n",
       " 'r',\n",
       " 'e',\n",
       " 'y',\n",
       " 'm',\n",
       " 's',\n",
       " '.',\n",
       " 'c',\n",
       " 'o',\n",
       " 'm',\n",
       " '\\n',\n",
       " '\\n',\n",
       " '-',\n",
       " '-',\n",
       " '\\n',\n",
       " '.',\n",
       " '.',\n",
       " '\\n',\n",
       " '*',\n",
       " '*',\n",
       " '\\n',\n",
       " '-',\n",
       " '-',\n",
       " '\\n',\n",
       " '-',\n",
       " '-',\n",
       " '\\n',\n",
       " '\\n',\n",
       " 'M',\n",
       " 'r',\n",
       " '.',\n",
       " ' ',\n",
       " 'S',\n",
       " 'c',\n",
       " 'h',\n",
       " 'a',\n",
       " 'f',\n",
       " 'e',\n",
       " 'r',\n",
       " '\\n',\n",
       " 'M',\n",
       " 'r',\n",
       " ' ',\n",
       " 'S',\n",
       " 'm',\n",
       " 'i',\n",
       " 't',\n",
       " 'h',\n",
       " '\\n',\n",
       " 'M',\n",
       " 's',\n",
       " ' ',\n",
       " 'D',\n",
       " 'a',\n",
       " 'v',\n",
       " 'i',\n",
       " 's',\n",
       " '\\n',\n",
       " 'M',\n",
       " 'r',\n",
       " 's',\n",
       " '.',\n",
       " ' ',\n",
       " 'R',\n",
       " 'o',\n",
       " 'b',\n",
       " 'i',\n",
       " 'n',\n",
       " 's',\n",
       " 'o',\n",
       " 'n',\n",
       " '\\n',\n",
       " 'M',\n",
       " 'r',\n",
       " '.',\n",
       " ' ',\n",
       " 'T',\n",
       " '\\n',\n",
       " '\\n',\n",
       " 'c',\n",
       " 'a',\n",
       " 't',\n",
       " '\\n',\n",
       " 'm',\n",
       " 'a',\n",
       " 't',\n",
       " '\\n',\n",
       " 'p',\n",
       " 'a',\n",
       " 't',\n",
       " '\\n',\n",
       " 'b',\n",
       " 'a',\n",
       " 't',\n",
       " '\\n']"
      ]
     },
     "execution_count": 45,
     "metadata": {},
     "output_type": "execute_result"
    }
   ],
   "source": [
    "# match non digits\n",
    "pattern = re.compile(r'\\D')match = pattern.findall(text_to_search) # while \\d selects the digits \n",
    "match                                                              #while \\D+ selects non digits and groups\n"
   ]
  },
  {
   "cell_type": "code",
   "execution_count": 13,
   "metadata": {
    "slideshow": {
     "slide_type": "subslide"
    }
   },
   "outputs": [
    {
     "data": {
      "text/plain": [
       "['abcdefghijklmnopqurtuvwxyz',\n",
       " 'ABCDEFGHIJKLMNOPQRSTUVWXYZ',\n",
       " '1234567890',\n",
       " 'Ha',\n",
       " 'HazHa',\n",
       " 'MetaCharacters',\n",
       " 'Need',\n",
       " 'to',\n",
       " 'be',\n",
       " 'escaped',\n",
       " 'coreyms',\n",
       " 'com',\n",
       " '321',\n",
       " '555',\n",
       " '4321',\n",
       " '123',\n",
       " '555',\n",
       " '1234',\n",
       " '123',\n",
       " '555',\n",
       " '1234',\n",
       " '800',\n",
       " '555',\n",
       " '1234',\n",
       " '900',\n",
       " '555',\n",
       " '1234',\n",
       " 'Mr',\n",
       " 'Schafer',\n",
       " 'Mr',\n",
       " 'Smith',\n",
       " 'Ms',\n",
       " 'Davis',\n",
       " 'Mrs',\n",
       " 'Robinson',\n",
       " 'Mr',\n",
       " 'T',\n",
       " 'cat',\n",
       " 'mat',\n",
       " 'pat',\n",
       " 'bat']"
      ]
     },
     "execution_count": 13,
     "metadata": {},
     "output_type": "execute_result"
    }
   ],
   "source": [
    "# match word character\n",
    "pattern = re.compile(r'\\w+')\n",
    "match = pattern.findall(text_to_search)\n",
    "match"
   ]
  },
  {
   "cell_type": "code",
   "execution_count": 14,
   "metadata": {
    "slideshow": {
     "slide_type": "subslide"
    }
   },
   "outputs": [
    {
     "name": "stdout",
     "output_type": "stream",
     "text": [
      "\n",
      "abcdefghijklmnopqurtuvwxyz\n",
      "ABCDEFGHIJKLMNOPQRSTUVWXYZ\n",
      "\n",
      "1234567890\n",
      "\n",
      "Ha HazHa\n",
      "\n",
      "MetaCharacters (Need to be escaped):\n",
      ". ^ $ * + ? { } [ ] \\ | ( )\n",
      "\n",
      "coreyms.com\n",
      "\n",
      "321-555-4321\n",
      "123.555.1234\n",
      "123*555*1234\n",
      "800-555-1234\n",
      "900-555-1234\n",
      "\n",
      "Mr. Schafer\n",
      "Mr Smith\n",
      "Ms Davis\n",
      "Mrs. Robinson\n",
      "Mr. T\n",
      "\n",
      "cat\n",
      "mat\n",
      "pat\n",
      "bat\n",
      "\n"
     ]
    },
    {
     "data": {
      "text/plain": [
       "['\\n',\n",
       " '\\n',\n",
       " '\\n',\n",
       " '\\n',\n",
       " '\\n',\n",
       " '\\n',\n",
       " ' ',\n",
       " '\\n',\n",
       " '\\n',\n",
       " ' ',\n",
       " '(',\n",
       " ' ',\n",
       " ' ',\n",
       " ' ',\n",
       " ')',\n",
       " ':',\n",
       " '\\n',\n",
       " '.',\n",
       " ' ',\n",
       " '^',\n",
       " ' ',\n",
       " '$',\n",
       " ' ',\n",
       " '*',\n",
       " ' ',\n",
       " '+',\n",
       " ' ',\n",
       " '?',\n",
       " ' ',\n",
       " '{',\n",
       " ' ',\n",
       " '}',\n",
       " ' ',\n",
       " '[',\n",
       " ' ',\n",
       " ']',\n",
       " ' ',\n",
       " '\\\\',\n",
       " ' ',\n",
       " '|',\n",
       " ' ',\n",
       " '(',\n",
       " ' ',\n",
       " ')',\n",
       " '\\n',\n",
       " '\\n',\n",
       " '.',\n",
       " '\\n',\n",
       " '\\n',\n",
       " '-',\n",
       " '-',\n",
       " '\\n',\n",
       " '.',\n",
       " '.',\n",
       " '\\n',\n",
       " '*',\n",
       " '*',\n",
       " '\\n',\n",
       " '-',\n",
       " '-',\n",
       " '\\n',\n",
       " '-',\n",
       " '-',\n",
       " '\\n',\n",
       " '\\n',\n",
       " '.',\n",
       " ' ',\n",
       " '\\n',\n",
       " ' ',\n",
       " '\\n',\n",
       " ' ',\n",
       " '\\n',\n",
       " '.',\n",
       " ' ',\n",
       " '\\n',\n",
       " '.',\n",
       " ' ',\n",
       " '\\n',\n",
       " '\\n',\n",
       " '\\n',\n",
       " '\\n',\n",
       " '\\n',\n",
       " '\\n']"
      ]
     },
     "execution_count": 14,
     "metadata": {},
     "output_type": "execute_result"
    }
   ],
   "source": [
    "# match not a word character\n",
    "pattern = re.compile(r'\\W')\n",
    "print(text_to_search)\n",
    "match = pattern.findall(text_to_search)\n",
    "match"
   ]
  },
  {
   "cell_type": "code",
   "execution_count": 15,
   "metadata": {
    "slideshow": {
     "slide_type": "subslide"
    }
   },
   "outputs": [
    {
     "data": {
      "text/plain": [
       "['\\n',\n",
       " '\\n',\n",
       " '\\n',\n",
       " '\\n',\n",
       " '\\n',\n",
       " '\\n',\n",
       " ' ',\n",
       " '\\n',\n",
       " '\\n',\n",
       " ' ',\n",
       " ' ',\n",
       " ' ',\n",
       " ' ',\n",
       " '\\n',\n",
       " ' ',\n",
       " ' ',\n",
       " ' ',\n",
       " ' ',\n",
       " ' ',\n",
       " ' ',\n",
       " ' ',\n",
       " ' ',\n",
       " ' ',\n",
       " ' ',\n",
       " ' ',\n",
       " ' ',\n",
       " ' ',\n",
       " '\\n',\n",
       " '\\n',\n",
       " '\\n',\n",
       " '\\n',\n",
       " '\\n',\n",
       " '\\n',\n",
       " '\\n',\n",
       " '\\n',\n",
       " '\\n',\n",
       " '\\n',\n",
       " ' ',\n",
       " '\\n',\n",
       " ' ',\n",
       " '\\n',\n",
       " ' ',\n",
       " '\\n',\n",
       " ' ',\n",
       " '\\n',\n",
       " ' ',\n",
       " '\\n',\n",
       " '\\n',\n",
       " '\\n',\n",
       " '\\n',\n",
       " '\\n',\n",
       " '\\n']"
      ]
     },
     "execution_count": 15,
     "metadata": {},
     "output_type": "execute_result"
    }
   ],
   "source": [
    "# match space, tab, newline\n",
    "pattern = re.compile(r'\\s')\n",
    "match = pattern.findall(text_to_search)\n",
    "match"
   ]
  },
  {
   "cell_type": "code",
   "execution_count": 46,
   "metadata": {
    "slideshow": {
     "slide_type": "subslide"
    }
   },
   "outputs": [
    {
     "data": {
      "text/plain": [
       "['abcdefghijklmnopqurtuvwxyz',\n",
       " 'ABCDEFGHIJKLMNOPQRSTUVWXYZ',\n",
       " '1234567890',\n",
       " 'Ha',\n",
       " 'HazHa',\n",
       " 'MetaCharacters',\n",
       " '(Need',\n",
       " 'to',\n",
       " 'be',\n",
       " 'escaped):',\n",
       " '.',\n",
       " '^',\n",
       " '$',\n",
       " '*',\n",
       " '+',\n",
       " '?',\n",
       " '{',\n",
       " '}',\n",
       " '[',\n",
       " ']',\n",
       " '\\\\',\n",
       " '|',\n",
       " '(',\n",
       " ')',\n",
       " 'coreyms.com',\n",
       " '321-555-4321',\n",
       " '123.555.1234',\n",
       " '123*555*1234',\n",
       " '800-555-1234',\n",
       " '900-555-1234',\n",
       " 'Mr.',\n",
       " 'Schafer',\n",
       " 'Mr',\n",
       " 'Smith',\n",
       " 'Ms',\n",
       " 'Davis',\n",
       " 'Mrs.',\n",
       " 'Robinson',\n",
       " 'Mr.',\n",
       " 'T',\n",
       " 'cat',\n",
       " 'mat',\n",
       " 'pat',\n",
       " 'bat']"
      ]
     },
     "execution_count": 46,
     "metadata": {},
     "output_type": "execute_result"
    }
   ],
   "source": [
    "# match not whitespace character\n",
    "pattern = re.compile(r'\\S+')\n",
    "match = pattern.findall(text_to_search)\n",
    "match"
   ]
  },
  {
   "cell_type": "markdown",
   "metadata": {},
   "source": [
    " ### Second Type RegularExpressions"
   ]
  },
  {
   "cell_type": "code",
   "execution_count": 50,
   "metadata": {
    "slideshow": {
     "slide_type": "subslide"
    }
   },
   "outputs": [
    {
     "data": {
      "text/plain": [
       "['Start']"
      ]
     },
     "execution_count": 50,
     "metadata": {},
     "output_type": "execute_result"
    }
   ],
   "source": [
    "# beginning of line\n",
    "pattern = re.compile(r'^[Ss]tart')\n",
    "sentence=\"Start with new end\"\n",
    "match = pattern.findall(sentence)\n",
    "match"
   ]
  },
  {
   "cell_type": "code",
   "execution_count": 18,
   "metadata": {
    "slideshow": {
     "slide_type": "fragment"
    }
   },
   "outputs": [
    {
     "data": {
      "text/plain": [
       "['end']"
      ]
     },
     "execution_count": 18,
     "metadata": {},
     "output_type": "execute_result"
    }
   ],
   "source": [
    "# ending of line\n",
    "pattern = re.compile(r'end$')\n",
    "match = pattern.findall(sentence)\n",
    "match"
   ]
  },
  {
   "cell_type": "code",
   "execution_count": 52,
   "metadata": {
    "slideshow": {
     "slide_type": "subslide"
    }
   },
   "outputs": [
    {
     "data": {
      "text/plain": [
       "['321-555-4321',\n",
       " '123.555.1234',\n",
       " '123*555*1234',\n",
       " '800-555-1234',\n",
       " '900-555-1234']"
      ]
     },
     "execution_count": 52,
     "metadata": {},
     "output_type": "execute_result"
    }
   ],
   "source": [
    "# check phone number pattern\n",
    "pattern = re.compile(r'\\d{3}.\\d\\d\\d.\\d{4}') #. matches with the any charecter of the given context\n",
    "match = pattern.findall(text_to_search)\n",
    "match"
   ]
  },
  {
   "cell_type": "code",
   "execution_count": 20,
   "metadata": {
    "slideshow": {
     "slide_type": "fragment"
    }
   },
   "outputs": [
    {
     "data": {
      "text/plain": [
       "['800-555-1234', '900-555-1234']"
      ]
     },
     "execution_count": 20,
     "metadata": {},
     "output_type": "execute_result"
    }
   ],
   "source": [
    "# check phone number starts with 800 or 900\n",
    "pattern = re.compile(r'[89]00.\\d\\d\\d.\\d\\d\\d\\d')\n",
    "match = pattern.findall(text_to_search)\n",
    "match"
   ]
  },
  {
   "cell_type": "code",
   "execution_count": 58,
   "metadata": {
    "slideshow": {
     "slide_type": "subslide"
    }
   },
   "outputs": [
    {
     "data": {
      "text/plain": [
       "['Mr. Schafer', 'Mr Smith']"
      ]
     },
     "execution_count": 58,
     "metadata": {},
     "output_type": "execute_result"
    }
   ],
   "source": [
    "# Check name pattern only starts with Mr\n",
    "pattern = re.compile(r'Mr\\.?\\s*[A-Za-z]\\w+')\n",
    "match = pattern.findall(text_to_search)\n",
    "match"
   ]
  },
  {
   "cell_type": "code",
   "execution_count": 22,
   "metadata": {
    "slideshow": {
     "slide_type": "fragment"
    }
   },
   "outputs": [
    {
     "data": {
      "text/plain": [
       "['Mr. Schafer', 'Mr Smith', 'Ms Davis', 'Mrs. Robinson', 'Mr. T']"
      ]
     },
     "execution_count": 22,
     "metadata": {},
     "output_type": "execute_result"
    }
   ],
   "source": [
    "# Check name pattern\n",
    "pattern = re.compile(r'M[rs][s]?\\.?\\s[A-Z]\\w*')\n",
    "match = pattern.findall(text_to_search)\n",
    "match"
   ]
  },
  {
   "cell_type": "code",
   "execution_count": 60,
   "metadata": {
    "slideshow": {
     "slide_type": "subslide"
    }
   },
   "outputs": [
    {
     "data": {
      "text/plain": [
       "['CoreyMSchafer@gmail.com']"
      ]
     },
     "execution_count": 60,
     "metadata": {},
     "output_type": "execute_result"
    }
   ],
   "source": [
    "# check email pattern\n",
    "pattern = re.compile(r'[a-zA-Z]+@[a-zA-Z]+\\.com')\n",
    "match = pattern.findall(emails)\n",
    "match"
   ]
  },
  {
   "cell_type": "markdown",
   "metadata": {
    "slideshow": {
     "slide_type": "subslide"
    }
   },
   "source": [
    "### finditer()"
   ]
  },
  {
   "cell_type": "markdown",
   "metadata": {
    "slideshow": {
     "slide_type": "fragment"
    }
   },
   "source": [
    "* Get advantage of grouping"
   ]
  },
  {
   "cell_type": "code",
   "execution_count": 24,
   "metadata": {
    "slideshow": {
     "slide_type": "fragment"
    }
   },
   "outputs": [
    {
     "name": "stdout",
     "output_type": "stream",
     "text": [
      "<re.Match object; span=(223, 234), match='Mr. Schafer'>\n",
      "<re.Match object; span=(235, 243), match='Mr Smith'>\n",
      "<re.Match object; span=(244, 252), match='Ms Davis'>\n",
      "<re.Match object; span=(253, 266), match='Mrs. Robinson'>\n",
      "<re.Match object; span=(267, 272), match='Mr. T'>\n"
     ]
    }
   ],
   "source": [
    "# Check name pattern\n",
    "pattern = re.compile(r'(Ms|Mr|Mrs)\\.?\\s[A-Z]\\w*')\n",
    "matchs = pattern.finditer(text_to_search)\n",
    "for match in matchs:\n",
    "    print(match)"
   ]
  },
  {
   "cell_type": "code",
   "execution_count": 62,
   "metadata": {
    "scrolled": true,
    "slideshow": {
     "slide_type": "subslide"
    }
   },
   "outputs": [
    {
     "name": "stdout",
     "output_type": "stream",
     "text": [
      "<re.Match object; span=(1, 24), match='CoreyMSchafer@gmail.com'>\n",
      "<re.Match object; span=(25, 53), match='corey.schafer@university.edu'>\n",
      "<re.Match object; span=(54, 83), match='corey-321-schafer@my-work.net'>\n"
     ]
    }
   ],
   "source": [
    "# check email pattern\n",
    "pattern = re.compile(r'[a-zA-Z0-9.-]+@[a-zA-Z-]+\\.(com|net|edu)')\n",
    "matches = pattern.finditer(emails)\n",
    "for match in matches:\n",
    "    print(match)"
   ]
  },
  {
   "cell_type": "markdown",
   "metadata": {
    "slideshow": {
     "slide_type": "subslide"
    }
   },
   "source": [
    "## Review Questions\n",
    "1. What does the function re.match do?<br>\n",
    "    a. matches a pattern at the start of the string<br>\n",
    "    b. matches a pattern at any position in the string<br>\n",
    "    c. such a function does not exist<br>\n",
    "    d. none of the mentioned<br>"
   ]
  },
  {
   "cell_type": "markdown",
   "metadata": {
    "slideshow": {
     "slide_type": "subslide"
    }
   },
   "source": [
    "## Answer: a"
   ]
  },
  {
   "cell_type": "markdown",
   "metadata": {
    "slideshow": {
     "slide_type": "subslide"
    }
   },
   "source": [
    "2. What is the datatype of returned data from findall()?"
   ]
  },
  {
   "cell_type": "markdown",
   "metadata": {
    "slideshow": {
     "slide_type": "subslide"
    }
   },
   "source": [
    "## Answer: list"
   ]
  },
  {
   "cell_type": "markdown",
   "metadata": {
    "slideshow": {
     "slide_type": "slide"
    }
   },
   "source": [
    "# Tokenization"
   ]
  },
  {
   "cell_type": "markdown",
   "metadata": {
    "slideshow": {
     "slide_type": "fragment"
    }
   },
   "source": [
    "The process of segmenting running text into linguistic units such as words, punctuation, numbers, alpha-numerics, etc. This process is called tokenization."
   ]
  },
  {
   "cell_type": "code",
   "execution_count": 26,
   "metadata": {
    "slideshow": {
     "slide_type": "subslide"
    }
   },
   "outputs": [],
   "source": [
    "text = \"\"\"Backgammon is one of the oldest known board games. Its history can be traced back nearly\n",
    "5,000 years to archeological discoveries in the Middle East. It is a two player game where\n",
    "each player has fifteen checkers which move between twenty-four points according to the\n",
    "roll of two dice.\"\"\""
   ]
  },
  {
   "cell_type": "markdown",
   "metadata": {
    "slideshow": {
     "slide_type": "subslide"
    }
   },
   "source": [
    "* Sentence Tokenization\n",
    "* Word Tokenization"
   ]
  },
  {
   "cell_type": "code",
   "execution_count": 27,
   "metadata": {
    "slideshow": {
     "slide_type": "fragment"
    }
   },
   "outputs": [
    {
     "data": {
      "text/plain": [
       "['Backgammon is one of the oldest known board games',\n",
       " ' Its history can be traced back nearly\\n5,000 years to archeological discoveries in the Middle East',\n",
       " ' It is a two player game where\\neach player has fifteen checkers which move between twenty-four points according to the\\nroll of two dice',\n",
       " '']"
      ]
     },
     "execution_count": 27,
     "metadata": {},
     "output_type": "execute_result"
    }
   ],
   "source": [
    "# Sentence Tokenization\n",
    "sentences = text.split(\".\")\n",
    "\n",
    "sentences"
   ]
  },
  {
   "cell_type": "code",
   "execution_count": 28,
   "metadata": {
    "slideshow": {
     "slide_type": "subslide"
    }
   },
   "outputs": [
    {
     "data": {
      "text/plain": [
       "['Backgammon',\n",
       " 'is',\n",
       " 'one',\n",
       " 'of',\n",
       " 'the',\n",
       " 'oldest',\n",
       " 'known',\n",
       " 'board',\n",
       " 'games.',\n",
       " 'Its',\n",
       " 'history',\n",
       " 'can',\n",
       " 'be',\n",
       " 'traced',\n",
       " 'back',\n",
       " 'nearly',\n",
       " '5,000',\n",
       " 'years',\n",
       " 'to',\n",
       " 'archeological',\n",
       " 'discoveries',\n",
       " 'in',\n",
       " 'the',\n",
       " 'Middle',\n",
       " 'East.',\n",
       " 'It',\n",
       " 'is',\n",
       " 'a',\n",
       " 'two',\n",
       " 'player',\n",
       " 'game',\n",
       " 'where',\n",
       " 'each',\n",
       " 'player',\n",
       " 'has',\n",
       " 'fifteen',\n",
       " 'checkers',\n",
       " 'which',\n",
       " 'move',\n",
       " 'between',\n",
       " 'twenty-four',\n",
       " 'points',\n",
       " 'according',\n",
       " 'to',\n",
       " 'the',\n",
       " 'roll',\n",
       " 'of',\n",
       " 'two',\n",
       " 'dice.']"
      ]
     },
     "execution_count": 28,
     "metadata": {},
     "output_type": "execute_result"
    }
   ],
   "source": [
    "# Word Tokenization\n",
    "words = text.split()\n",
    "\n",
    "words"
   ]
  },
  {
   "cell_type": "markdown",
   "metadata": {
    "slideshow": {
     "slide_type": "slide"
    }
   },
   "source": [
    "# Stop words"
   ]
  },
  {
   "cell_type": "markdown",
   "metadata": {
    "slideshow": {
     "slide_type": "fragment"
    }
   },
   "source": [
    "In computing, stop words are words that are filtered out before or after the natural language data (text) are processed. While “stop words” typically refers to the most common words in a language, all-natural language processing tools don’t use a single universal list of stop words."
   ]
  },
  {
   "cell_type": "code",
   "execution_count": 29,
   "metadata": {
    "slideshow": {
     "slide_type": "fragment"
    }
   },
   "outputs": [],
   "source": [
    "# define your own stop words\n",
    "stopwords = ['a', 'the', 'we', 'such','this', 'an','will', 'is', 'are', 'were', 'am', 'was', 'being', 'to', 'for', 'on','you', 'I', 'me', 'he', 'him', 'she','her']"
   ]
  },
  {
   "cell_type": "code",
   "execution_count": 30,
   "metadata": {
    "slideshow": {
     "slide_type": "subslide"
    }
   },
   "outputs": [],
   "source": [
    "text = \"Oh man, this is pretty cool. We will do more such things.\""
   ]
  },
  {
   "cell_type": "code",
   "execution_count": 31,
   "metadata": {
    "slideshow": {
     "slide_type": "fragment"
    }
   },
   "outputs": [],
   "source": [
    "# split the text into words using split method\n",
    "words = text.lower().split()"
   ]
  },
  {
   "cell_type": "code",
   "execution_count": 32,
   "metadata": {
    "slideshow": {
     "slide_type": "fragment"
    }
   },
   "outputs": [
    {
     "data": {
      "text/plain": [
       "['oh',\n",
       " 'man,',\n",
       " 'this',\n",
       " 'is',\n",
       " 'pretty',\n",
       " 'cool.',\n",
       " 'we',\n",
       " 'will',\n",
       " 'do',\n",
       " 'more',\n",
       " 'such',\n",
       " 'things.']"
      ]
     },
     "execution_count": 32,
     "metadata": {},
     "output_type": "execute_result"
    }
   ],
   "source": [
    "words"
   ]
  },
  {
   "cell_type": "code",
   "execution_count": 33,
   "metadata": {
    "slideshow": {
     "slide_type": "subslide"
    }
   },
   "outputs": [],
   "source": [
    "# words without stopwords\n",
    "words_filtered = [w for w in words if not w in stopwords]"
   ]
  },
  {
   "cell_type": "code",
   "execution_count": 34,
   "metadata": {
    "slideshow": {
     "slide_type": "fragment"
    }
   },
   "outputs": [
    {
     "data": {
      "text/plain": [
       "['oh', 'man,', 'pretty', 'cool.', 'do', 'more', 'things.']"
      ]
     },
     "execution_count": 34,
     "metadata": {},
     "output_type": "execute_result"
    }
   ],
   "source": [
    "words_filtered"
   ]
  },
  {
   "cell_type": "markdown",
   "metadata": {
    "slideshow": {
     "slide_type": "subslide"
    }
   },
   "source": [
    "## Review Questions\n",
    "1. Is stopwords list unique for a language?"
   ]
  },
  {
   "cell_type": "markdown",
   "metadata": {
    "slideshow": {
     "slide_type": "subslide"
    }
   },
   "source": [
    "## Answer:No"
   ]
  },
  {
   "cell_type": "markdown",
   "metadata": {
    "slideshow": {
     "slide_type": "slide"
    }
   },
   "source": [
    "# Lemmatization"
   ]
  },
  {
   "cell_type": "markdown",
   "metadata": {
    "slideshow": {
     "slide_type": "fragment"
    }
   },
   "source": [
    "* Lemmatization is the process of grouping together the different inflected forms of a word so they can be analysed as a single item.\n",
    "* Used in comprehensive retrieval systems like search engines."
   ]
  },
  {
   "cell_type": "markdown",
   "metadata": {
    "slideshow": {
     "slide_type": "fragment"
    }
   },
   "source": [
    "For example, in English, the verb 'to walk' may appear as 'walk', 'walked', 'walks' or 'walking'. The base form, 'walk', that one might look up in a dictionary, is called the lemma for the word. "
   ]
  },
  {
   "cell_type": "code",
   "execution_count": 35,
   "metadata": {
    "slideshow": {
     "slide_type": "subslide"
    }
   },
   "outputs": [],
   "source": [
    "# import required module for lemmatiztion\n",
    "from nltk.stem import WordNetLemmatizer "
   ]
  },
  {
   "cell_type": "code",
   "execution_count": 36,
   "metadata": {
    "slideshow": {
     "slide_type": "fragment"
    }
   },
   "outputs": [],
   "source": [
    "# create an instance of WordNetLemmatizer\n",
    "lemmatizer = WordNetLemmatizer()"
   ]
  },
  {
   "cell_type": "code",
   "execution_count": 37,
   "metadata": {
    "slideshow": {
     "slide_type": "fragment"
    }
   },
   "outputs": [
    {
     "name": "stdout",
     "output_type": "stream",
     "text": [
      "cats:  cat\n",
      "feet:  foot\n",
      "walks:  walk\n"
     ]
    }
   ],
   "source": [
    "print(\"cats: \", lemmatizer.lemmatize(\"cats\"))\n",
    "print(\"feet: \", lemmatizer.lemmatize(\"feet\"))\n",
    "print(\"walks: \", lemmatizer.lemmatize(\"walks\"))"
   ]
  },
  {
   "cell_type": "markdown",
   "metadata": {
    "slideshow": {
     "slide_type": "slide"
    }
   },
   "source": [
    "# Stemming"
   ]
  },
  {
   "cell_type": "markdown",
   "metadata": {
    "slideshow": {
     "slide_type": "fragment"
    }
   },
   "source": [
    "* Stemming is a technique used to extract the base form of the words by removing affixes from them. It is just like cutting down the branches of a tree to its stems. \n",
    "* For example, the stem of the words eating, eats, eaten is eat."
   ]
  },
  {
   "cell_type": "code",
   "execution_count": 38,
   "metadata": {
    "slideshow": {
     "slide_type": "subslide"
    }
   },
   "outputs": [],
   "source": [
    "# import a stemmer\n",
    "from nltk.stem import PorterStemmer"
   ]
  },
  {
   "cell_type": "code",
   "execution_count": 64,
   "metadata": {
    "slideshow": {
     "slide_type": "fragment"
    }
   },
   "outputs": [
    {
     "name": "stdout",
     "output_type": "stream",
     "text": [
      "googly:  googli\n",
      "likely:  like\n",
      "walking:  walk\n",
      "feet:  foot\n"
     ]
    }
   ],
   "source": [
    "# create an instance of stemmer\n",
    "stemmer = PorterStemmer()\n",
    "\n",
    "print(\"googly: \", stemmer.stem(\"googly\"))\n",
    "print(\"likely: \", stemmer.stem(\"likely\"))\n",
    "print(\"walking: \", stemmer.stem(\"walking\"))\n",
    "print(\"feet: \", stemmer.stem(\"foot\"))"
   ]
  },
  {
   "cell_type": "markdown",
   "metadata": {
    "slideshow": {
     "slide_type": "subslide"
    }
   },
   "source": [
    "## Review Questions:\n",
    "1. Which of the following are keyword Normalization techniques in NLP<br>\n",
    "a.  Stemming<br>\n",
    "b.  Part of Speech<br>\n",
    "c. Named entity recognition<br>\n",
    "d. Lemmatization<br>"
   ]
  },
  {
   "cell_type": "markdown",
   "metadata": {
    "slideshow": {
     "slide_type": "subslide"
    }
   },
   "source": [
    "## Answer: a,d"
   ]
  },
  {
   "cell_type": "markdown",
   "metadata": {
    "slideshow": {
     "slide_type": "slide"
    }
   },
   "source": [
    "# Challenges in Tokenization"
   ]
  },
  {
   "cell_type": "code",
   "execution_count": 68,
   "metadata": {
    "slideshow": {
     "slide_type": "fragment"
    }
   },
   "outputs": [
    {
     "name": "stdout",
     "output_type": "stream",
     "text": [
      "He has completed his Ph. D. degree. He is happy.\n",
      "He has completed his [Degree]. He is happy.\n",
      "Before:  ['He has completed his [Degree]', 'He is happy.']\n"
     ]
    },
    {
     "data": {
      "text/plain": [
       "['He has completed his Ph. D. degree', 'He is happy.']"
      ]
     },
     "execution_count": 68,
     "metadata": {},
     "output_type": "execute_result"
    }
   ],
   "source": [
    "text = \"He has completed his Ph. D. degree. He is happy.\"\n",
    "print(text)\n",
    "\n",
    "# sentences = text.split(\". \")\n",
    "pattern_i = re.compile(r'Ph\\.\\s+D\\.\\s+degree')\n",
    "text_after = re.sub(pattern_i, '[Degree]', text)\n",
    "print(text_after)\n",
    "sentences = text_after.split(\". \")\n",
    "print(\"Before: \", sentences)\n",
    "sentences = [sent.replace('[Degree]', 'Ph. D. degree') for sent in sentences]\n",
    "\n",
    "sentences"
   ]
  },
  {
   "cell_type": "markdown",
   "metadata": {
    "slideshow": {
     "slide_type": "fragment"
    }
   },
   "source": [
    "In the above example we should split the sentece after degree not after Ph."
   ]
  },
  {
   "cell_type": "code",
   "execution_count": 7,
   "metadata": {
    "slideshow": {
     "slide_type": "subslide"
    }
   },
   "outputs": [
    {
     "name": "stdout",
     "output_type": "stream",
     "text": [
      "\n",
      "SP Kishore is the primary faculty of this course\n",
      "before:  ['SP Kishore is the primary faculty of this course']\n"
     ]
    },
    {
     "data": {
      "text/plain": [
       "['Dr.S.P Kishore is the primary faculty of this course']"
      ]
     },
     "execution_count": 7,
     "metadata": {},
     "output_type": "execute_result"
    }
   ],
   "source": [
    "# Abbreviation\n",
    "\n",
    "text = \"Dr. S. P. Kishore is the primary faculty of this course\"\n",
    "words = text.split()\n",
    "words\n",
    "print()\n",
    "pat=re.compile(r'Dr\\. \\S\\. P.')\n",
    "text_after=re.sub(pat,\"SP\",text)\n",
    "print(text_after)\n",
    "sentences=text_after.split(\".\")\n",
    "print(\"before: \",sentences)\n",
    "sentences=[sent.replace(\"SP\",\"Dr.S.P\") for sent in sentences]\n",
    "\n",
    "sentences"
   ]
  },
  {
   "cell_type": "markdown",
   "metadata": {
    "slideshow": {
     "slide_type": "fragment"
    }
   },
   "source": [
    "In the above example Dr. S. P. Kishore should be one token instead of multiple."
   ]
  },
  {
   "cell_type": "code",
   "execution_count": 69,
   "metadata": {
    "slideshow": {
     "slide_type": "subslide"
    }
   },
   "outputs": [
    {
     "data": {
      "text/plain": [
       "['We', 'would', 'deal', 'with', 'the', 'state', '-of-the-art.']"
      ]
     },
     "execution_count": 69,
     "metadata": {},
     "output_type": "execute_result"
    }
   ],
   "source": [
    "# hyphenation\n",
    "\n",
    "text = \"We would deal with the state-of-the-art.\"\n",
    "\n",
    "words = text.split()\n",
    "\n",
    "words"
   ]
  },
  {
   "cell_type": "code",
   "execution_count": 43,
   "metadata": {
    "slideshow": {
     "slide_type": "subslide"
    }
   },
   "outputs": [
    {
     "data": {
      "text/plain": [
       "['The value of gravity is 9', '8 m/s/s']"
      ]
     },
     "execution_count": 43,
     "metadata": {},
     "output_type": "execute_result"
    }
   ],
   "source": [
    "# numbers\n",
    "\n",
    "text = \"The value of gravity is 9.8 m/s/s\"\n",
    "\n",
    "words = text.split(\".\")\n",
    "\n",
    "words"
   ]
  },
  {
   "cell_type": "markdown",
   "metadata": {
    "slideshow": {
     "slide_type": "subslide"
    }
   },
   "source": [
    "## Review Questions:\n",
    "1. Which one of the following is not a pre-processing technique in NLP<br>\n",
    "    a. Stemming and Lemmatization<br>\n",
    "    b. converting to lowercase<br>\n",
    "    c. removing punctuations<br>\n",
    "    d. removal of stop words<br>\n",
    "    e. Sentiment analysis<br>"
   ]
  },
  {
   "cell_type": "markdown",
   "metadata": {
    "slideshow": {
     "slide_type": "subslide"
    }
   },
   "source": [
    "## Answer:e"
   ]
  },
  {
   "cell_type": "markdown",
   "metadata": {
    "slideshow": {
     "slide_type": "slide"
    }
   },
   "source": [
    "### Next Week Content"
   ]
  },
  {
   "cell_type": "markdown",
   "metadata": {
    "slideshow": {
     "slide_type": "fragment"
    }
   },
   "source": [
    "* Spelling mistake detection and correction with minimum edit distance\n",
    "* Chunking and NER\n",
    "* POS tagging"
   ]
  }
 ],
 "metadata": {
  "celltoolbar": "Slideshow",
  "kernelspec": {
   "display_name": "Python 3 (ipykernel)",
   "language": "python",
   "name": "python3"
  },
  "language_info": {
   "codemirror_mode": {
    "name": "ipython",
    "version": 3
   },
   "file_extension": ".py",
   "mimetype": "text/x-python",
   "name": "python",
   "nbconvert_exporter": "python",
   "pygments_lexer": "ipython3",
   "version": "3.9.13"
  }
 },
 "nbformat": 4,
 "nbformat_minor": 4
}
