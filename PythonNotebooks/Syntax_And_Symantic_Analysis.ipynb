{
  "metadata": {
    "kernelspec": {
      "language": "python",
      "display_name": "Python 3",
      "name": "python3"
    },
    "language_info": {
      "name": "python",
      "version": "3.10.13",
      "mimetype": "text/x-python",
      "codemirror_mode": {
        "name": "ipython",
        "version": 3
      },
      "pygments_lexer": "ipython3",
      "nbconvert_exporter": "python",
      "file_extension": ".py"
    },
    "kaggle": {
      "accelerator": "none",
      "dataSources": [],
      "dockerImageVersionId": 30746,
      "isInternetEnabled": false,
      "language": "python",
      "sourceType": "notebook",
      "isGpuEnabled": false
    },
    "colab": {
      "provenance": [],
      "collapsed_sections": [
        "7F8bIKLXhjsn",
        "Gd6dWLbtC5J0",
        "HTMIpBwBC5KD",
        "2bf-RAAKGoMA",
        "AiQfFUcOC5KE",
        "VBwinB8-C5KE",
        "QdVy9Cz0FAbu",
        "mCLJIXDAhQfl"
      ]
    }
  },
  "nbformat_minor": 0,
  "nbformat": 4,
  "cells": [
    {
      "cell_type": "markdown",
      "source": [
        "# Syntactic Analysis\n",
        "\n",
        "Deals with the syntax of the text"
      ],
      "metadata": {
        "id": "7F8bIKLXhjsn"
      }
    },
    {
      "cell_type": "markdown",
      "source": [
        "## Regular Expressions\n",
        "\n",
        "pattern matching"
      ],
      "metadata": {
        "id": "Gd6dWLbtC5J0"
      }
    },
    {
      "cell_type": "code",
      "source": [
        "import re\n",
        "import nltk\n",
        "\n",
        "nltk.download(\"punkt\")"
      ],
      "metadata": {
        "_uuid": "8f2839f25d086af736a60e9eeb907d3b93b6e0e5",
        "_cell_guid": "b1076dfc-b9ad-4769-8c92-a6c4dae69d19",
        "execution": {
          "iopub.status.busy": "2024-07-24T17:45:28.081721Z",
          "iopub.execute_input": "2024-07-24T17:45:28.082210Z",
          "iopub.status.idle": "2024-07-24T17:45:48.133600Z",
          "shell.execute_reply.started": "2024-07-24T17:45:28.082171Z",
          "shell.execute_reply": "2024-07-24T17:45:48.132283Z"
        },
        "trusted": true,
        "colab": {
          "base_uri": "https://localhost:8080/"
        },
        "id": "KE2yVdY8C5J3",
        "outputId": "364350bd-9e84-4a20-d879-0d19046d236c"
      },
      "execution_count": null,
      "outputs": [
        {
          "output_type": "stream",
          "name": "stderr",
          "text": [
            "[nltk_data] Downloading package punkt to /root/nltk_data...\n",
            "[nltk_data]   Unzipping tokenizers/punkt.zip.\n"
          ]
        },
        {
          "output_type": "execute_result",
          "data": {
            "text/plain": [
              "True"
            ]
          },
          "metadata": {},
          "execution_count": 1
        }
      ]
    },
    {
      "cell_type": "code",
      "source": [
        "text = \"This is Rgukt Basar\""
      ],
      "metadata": {
        "execution": {
          "iopub.status.busy": "2024-07-24T11:00:19.563966Z",
          "iopub.execute_input": "2024-07-24T11:00:19.564329Z",
          "iopub.status.idle": "2024-07-24T11:00:19.569257Z",
          "shell.execute_reply.started": "2024-07-24T11:00:19.564302Z",
          "shell.execute_reply": "2024-07-24T11:00:19.568142Z"
        },
        "trusted": true,
        "id": "N3OvGCgiC5J5"
      },
      "execution_count": null,
      "outputs": []
    },
    {
      "cell_type": "code",
      "source": [
        "pat = re.compile(r\"This\")\n",
        "match = pat.match(text)\n",
        "print(match)\n",
        "print(type(match))\n",
        "\n",
        "pat = re.compile(r\"is\")\n",
        "match = pat.match(text)   #match only matches at the beginning\n",
        "print(match)\n",
        "print(type(match))"
      ],
      "metadata": {
        "execution": {
          "iopub.status.busy": "2024-07-24T11:36:44.059898Z",
          "iopub.execute_input": "2024-07-24T11:36:44.060274Z",
          "iopub.status.idle": "2024-07-24T11:36:44.066970Z",
          "shell.execute_reply.started": "2024-07-24T11:36:44.060244Z",
          "shell.execute_reply": "2024-07-24T11:36:44.065944Z"
        },
        "trusted": true,
        "colab": {
          "base_uri": "https://localhost:8080/"
        },
        "id": "nlQCMp2cC5J6",
        "outputId": "a96d5250-1732-4ad6-9af0-eed4ba551969"
      },
      "execution_count": null,
      "outputs": [
        {
          "output_type": "stream",
          "name": "stdout",
          "text": [
            "<re.Match object; span=(0, 4), match='This'>\n",
            "<class 're.Match'>\n",
            "None\n",
            "<class 'NoneType'>\n"
          ]
        }
      ]
    },
    {
      "cell_type": "code",
      "source": [
        "pat = re.compile('\\w+')\n",
        "match = pat.findall(text) #returns list of matched ob\n",
        "print(match)\n",
        "print(type(match))"
      ],
      "metadata": {
        "execution": {
          "iopub.status.busy": "2024-07-24T11:39:27.218110Z",
          "iopub.execute_input": "2024-07-24T11:39:27.219239Z",
          "iopub.status.idle": "2024-07-24T11:39:27.224483Z",
          "shell.execute_reply.started": "2024-07-24T11:39:27.219195Z",
          "shell.execute_reply": "2024-07-24T11:39:27.223358Z"
        },
        "trusted": true,
        "colab": {
          "base_uri": "https://localhost:8080/"
        },
        "id": "8iG-W5XLC5J7",
        "outputId": "21343847-7609-4682-ad69-fdbccf207c2b"
      },
      "execution_count": null,
      "outputs": [
        {
          "output_type": "stream",
          "name": "stdout",
          "text": [
            "['This', 'is', 'Rgukt', 'Basar']\n",
            "<class 'list'>\n"
          ]
        }
      ]
    },
    {
      "cell_type": "code",
      "source": [
        "pat = re.compile(\"is\")\n",
        "match = pat.search(text)\n",
        "print(match)\n",
        "print(type(match))\n",
        "\n",
        "user = input(\"Enter the String To Search: \")\n",
        "pat = re.compile(user)\n",
        "match = pat.search(text)\n",
        "print(match)"
      ],
      "metadata": {
        "execution": {
          "iopub.status.busy": "2024-07-24T11:44:41.219632Z",
          "iopub.execute_input": "2024-07-24T11:44:41.220591Z",
          "iopub.status.idle": "2024-07-24T11:44:45.682434Z",
          "shell.execute_reply.started": "2024-07-24T11:44:41.220552Z",
          "shell.execute_reply": "2024-07-24T11:44:45.681089Z"
        },
        "trusted": true,
        "colab": {
          "base_uri": "https://localhost:8080/"
        },
        "id": "pEI_g6SHC5J7",
        "outputId": "5cc96a57-514c-4da4-bcf7-2b840a1811ce"
      },
      "execution_count": null,
      "outputs": [
        {
          "output_type": "stream",
          "name": "stdout",
          "text": [
            "<re.Match object; span=(2, 4), match='is'>\n",
            "<class 're.Match'>\n",
            "Enter the String To Search: rgukt\n",
            "None\n"
          ]
        }
      ]
    },
    {
      "cell_type": "code",
      "source": [
        "text = '''\n",
        "abcdefghijklmnopqurtuvwxyz\n",
        "ABCDEFGHIJKLMNOPQRSTUVWXYZ\n",
        "\n",
        "1234567890\n",
        "\n",
        "Ha HazHa\n",
        "\n",
        "MetaCharacters (Need to be escaped):\n",
        ". ^ $ * + ? { } [ ] \\ | ( )\n",
        "\n",
        "coreyms.com\n",
        "\n",
        "321-555-4321\n",
        "123.555.1234\n",
        "123*555*1234\n",
        "800-555-1234\n",
        "900-555-1234\n",
        "\n",
        "Mr. Schafer\n",
        "Mr Smith\n",
        "Ms Davis\n",
        "Mrs. Robinson\n",
        "Mr. T\n",
        "\n",
        "cat\n",
        "mat\n",
        "pat\n",
        "bat\n",
        "'''\n",
        "\n",
        "emails = '''\n",
        "CoreyMSchafer@gmail.com\n",
        "corey.schafer@university.edu\n",
        "corey-321-schafer@my-work.net\n",
        "'''\n",
        "\n",
        "urls = '''\n",
        "https://www.google.com\n",
        "http://coreyms.com\n",
        "https://youtube.com\n",
        "https://www.nasa.gov\n",
        "'''\n",
        "\n",
        "sentence = 'Start a sentence and then bring it to an end'\n"
      ],
      "metadata": {
        "execution": {
          "iopub.status.busy": "2024-07-24T11:50:17.237315Z",
          "iopub.execute_input": "2024-07-24T11:50:17.237705Z",
          "iopub.status.idle": "2024-07-24T11:50:17.242920Z",
          "shell.execute_reply.started": "2024-07-24T11:50:17.237673Z",
          "shell.execute_reply": "2024-07-24T11:50:17.241783Z"
        },
        "trusted": true,
        "id": "z6ujC23YC5J8"
      },
      "execution_count": null,
      "outputs": []
    },
    {
      "cell_type": "code",
      "source": [
        "pat = re.compile(\"\\w+\")\n",
        "match = pat.findall(text)\n",
        "print(match)"
      ],
      "metadata": {
        "execution": {
          "iopub.status.busy": "2024-07-24T11:51:22.869271Z",
          "iopub.execute_input": "2024-07-24T11:51:22.870213Z",
          "iopub.status.idle": "2024-07-24T11:51:22.876444Z",
          "shell.execute_reply.started": "2024-07-24T11:51:22.870109Z",
          "shell.execute_reply": "2024-07-24T11:51:22.875071Z"
        },
        "trusted": true,
        "colab": {
          "base_uri": "https://localhost:8080/"
        },
        "id": "1jGABCL8C5J9",
        "outputId": "6672c6c9-8645-4c68-b810-ff58120518e6"
      },
      "execution_count": null,
      "outputs": [
        {
          "output_type": "stream",
          "name": "stdout",
          "text": [
            "['abcdefghijklmnopqurtuvwxyz', 'ABCDEFGHIJKLMNOPQRSTUVWXYZ', '1234567890', 'Ha', 'HazHa', 'MetaCharacters', 'Need', 'to', 'be', 'escaped', 'coreyms', 'com', '321', '555', '4321', '123', '555', '1234', '123', '555', '1234', '800', '555', '1234', '900', '555', '1234', 'Mr', 'Schafer', 'Mr', 'Smith', 'Ms', 'Davis', 'Mrs', 'Robinson', 'Mr', 'T', 'cat', 'mat', 'pat', 'bat']\n"
          ]
        }
      ]
    },
    {
      "cell_type": "code",
      "source": [
        "pat = re.compile(\"\\W+\")\n",
        "match = pat.findall(text)\n",
        "print(match)"
      ],
      "metadata": {
        "execution": {
          "iopub.status.busy": "2024-07-24T11:52:29.564923Z",
          "iopub.execute_input": "2024-07-24T11:52:29.566192Z",
          "iopub.status.idle": "2024-07-24T11:52:29.572050Z",
          "shell.execute_reply.started": "2024-07-24T11:52:29.566100Z",
          "shell.execute_reply": "2024-07-24T11:52:29.571060Z"
        },
        "trusted": true,
        "colab": {
          "base_uri": "https://localhost:8080/"
        },
        "id": "t5Zz7Zg2C5J9",
        "outputId": "5126c563-bad9-4abe-d494-dfa3c08eadf5"
      },
      "execution_count": null,
      "outputs": [
        {
          "output_type": "stream",
          "name": "stdout",
          "text": [
            "['\\n', '\\n', '\\n\\n', '\\n\\n', ' ', '\\n\\n', ' (', ' ', ' ', ' ', '):\\n. ^ $ * + ? { } [ ] \\\\ | ( )\\n\\n', '.', '\\n\\n', '-', '-', '\\n', '.', '.', '\\n', '*', '*', '\\n', '-', '-', '\\n', '-', '-', '\\n\\n', '. ', '\\n', ' ', '\\n', ' ', '\\n', '. ', '\\n', '. ', '\\n\\n', '\\n', '\\n', '\\n', '\\n']\n"
          ]
        }
      ]
    },
    {
      "cell_type": "code",
      "source": [
        "pat = re.compile(\"\\s+\")\n",
        "match = pat.findall(text)\n",
        "print(match)"
      ],
      "metadata": {
        "execution": {
          "iopub.status.busy": "2024-07-24T11:51:24.815897Z",
          "iopub.execute_input": "2024-07-24T11:51:24.816256Z",
          "iopub.status.idle": "2024-07-24T11:51:24.822262Z",
          "shell.execute_reply.started": "2024-07-24T11:51:24.816228Z",
          "shell.execute_reply": "2024-07-24T11:51:24.821144Z"
        },
        "trusted": true,
        "colab": {
          "base_uri": "https://localhost:8080/"
        },
        "id": "nPws2oP9C5J-",
        "outputId": "f2dac5fe-2a07-47bc-e4cc-548db8bde100"
      },
      "execution_count": null,
      "outputs": [
        {
          "output_type": "stream",
          "name": "stdout",
          "text": [
            "['\\n', '\\n', '\\n\\n', '\\n\\n', ' ', '\\n\\n', ' ', ' ', ' ', ' ', '\\n', ' ', ' ', ' ', ' ', ' ', ' ', ' ', ' ', ' ', ' ', ' ', ' ', ' ', '\\n\\n', '\\n\\n', '\\n', '\\n', '\\n', '\\n', '\\n\\n', ' ', '\\n', ' ', '\\n', ' ', '\\n', ' ', '\\n', ' ', '\\n\\n', '\\n', '\\n', '\\n', '\\n']\n"
          ]
        }
      ]
    },
    {
      "cell_type": "code",
      "source": [
        "pat = re.compile(\"\\S+\")\n",
        "match = pat.findall(text)\n",
        "print(match)"
      ],
      "metadata": {
        "execution": {
          "iopub.status.busy": "2024-07-24T11:52:02.049081Z",
          "iopub.execute_input": "2024-07-24T11:52:02.049494Z",
          "iopub.status.idle": "2024-07-24T11:52:02.055015Z",
          "shell.execute_reply.started": "2024-07-24T11:52:02.049461Z",
          "shell.execute_reply": "2024-07-24T11:52:02.053958Z"
        },
        "trusted": true,
        "colab": {
          "base_uri": "https://localhost:8080/"
        },
        "id": "Duem2e7-C5J-",
        "outputId": "b1afcaaf-deaf-4b89-da56-ad8a4e52b07b"
      },
      "execution_count": null,
      "outputs": [
        {
          "output_type": "stream",
          "name": "stdout",
          "text": [
            "['abcdefghijklmnopqurtuvwxyz', 'ABCDEFGHIJKLMNOPQRSTUVWXYZ', '1234567890', 'Ha', 'HazHa', 'MetaCharacters', '(Need', 'to', 'be', 'escaped):', '.', '^', '$', '*', '+', '?', '{', '}', '[', ']', '\\\\', '|', '(', ')', 'coreyms.com', '321-555-4321', '123.555.1234', '123*555*1234', '800-555-1234', '900-555-1234', 'Mr.', 'Schafer', 'Mr', 'Smith', 'Ms', 'Davis', 'Mrs.', 'Robinson', 'Mr.', 'T', 'cat', 'mat', 'pat', 'bat']\n"
          ]
        }
      ]
    },
    {
      "cell_type": "code",
      "source": [
        "pat = re.compile(\"\\d+\")\n",
        "match = pat.findall(text)\n",
        "print(match)"
      ],
      "metadata": {
        "execution": {
          "iopub.status.busy": "2024-07-24T11:51:44.844123Z",
          "iopub.execute_input": "2024-07-24T11:51:44.844919Z",
          "iopub.status.idle": "2024-07-24T11:51:44.850532Z",
          "shell.execute_reply.started": "2024-07-24T11:51:44.844884Z",
          "shell.execute_reply": "2024-07-24T11:51:44.849482Z"
        },
        "trusted": true,
        "colab": {
          "base_uri": "https://localhost:8080/"
        },
        "id": "CT38zZZFC5KA",
        "outputId": "f3ba3fcd-7b9b-42ff-ea57-2d0f05a0c462"
      },
      "execution_count": null,
      "outputs": [
        {
          "output_type": "stream",
          "name": "stdout",
          "text": [
            "['1234567890', '321', '555', '4321', '123', '555', '1234', '123', '555', '1234', '800', '555', '1234', '900', '555', '1234']\n"
          ]
        }
      ]
    },
    {
      "cell_type": "code",
      "source": [
        "pat = re.compile(\"\\D+\")\n",
        "match = pat.findall(text)\n",
        "print(match)"
      ],
      "metadata": {
        "execution": {
          "iopub.status.busy": "2024-07-24T11:53:44.144550Z",
          "iopub.execute_input": "2024-07-24T11:53:44.144975Z",
          "iopub.status.idle": "2024-07-24T11:53:44.150858Z",
          "shell.execute_reply.started": "2024-07-24T11:53:44.144944Z",
          "shell.execute_reply": "2024-07-24T11:53:44.149750Z"
        },
        "trusted": true,
        "colab": {
          "base_uri": "https://localhost:8080/"
        },
        "id": "Q9-94718C5KB",
        "outputId": "be6dbd2c-f1cf-45cf-a48c-3aeeb74413c1"
      },
      "execution_count": null,
      "outputs": [
        {
          "output_type": "stream",
          "name": "stdout",
          "text": [
            "['\\nabcdefghijklmnopqurtuvwxyz\\nABCDEFGHIJKLMNOPQRSTUVWXYZ\\n\\n', '\\n\\nHa HazHa\\n\\nMetaCharacters (Need to be escaped):\\n. ^ $ * + ? { } [ ] \\\\ | ( )\\n\\ncoreyms.com\\n\\n', '-', '-', '\\n', '.', '.', '\\n', '*', '*', '\\n', '-', '-', '\\n', '-', '-', '\\n\\nMr. Schafer\\nMr Smith\\nMs Davis\\nMrs. Robinson\\nMr. T\\n\\ncat\\nmat\\npat\\nbat\\n']\n"
          ]
        }
      ]
    },
    {
      "cell_type": "code",
      "source": [
        "pat = re.compile(\"^Start\")\n",
        "match = pat.findall(sentence)\n",
        "print(match)\n",
        "\n",
        "pat = re.compile(\"^[Ss]tart\") #any one from the Bracket\n",
        "match = pat.findall(sentence)\n",
        "print(match)"
      ],
      "metadata": {
        "execution": {
          "iopub.status.busy": "2024-07-24T11:57:42.904443Z",
          "iopub.execute_input": "2024-07-24T11:57:42.904830Z",
          "iopub.status.idle": "2024-07-24T11:57:42.911630Z",
          "shell.execute_reply.started": "2024-07-24T11:57:42.904784Z",
          "shell.execute_reply": "2024-07-24T11:57:42.910416Z"
        },
        "trusted": true,
        "colab": {
          "base_uri": "https://localhost:8080/"
        },
        "id": "RSdWwfVXC5KB",
        "outputId": "cb96a85f-0bf5-4350-a7ae-f6a4d9b12435"
      },
      "execution_count": null,
      "outputs": [
        {
          "output_type": "stream",
          "name": "stdout",
          "text": [
            "['Start']\n",
            "['Start']\n"
          ]
        }
      ]
    },
    {
      "cell_type": "code",
      "source": [
        "pat = re.compile(r'\\d{3}.\\d\\d\\d.\\d{4}') #exactly specified format\n",
        "match = pat.findall(text)\n",
        "print(match)"
      ],
      "metadata": {
        "execution": {
          "iopub.status.busy": "2024-07-24T11:58:59.519734Z",
          "iopub.execute_input": "2024-07-24T11:58:59.520146Z",
          "iopub.status.idle": "2024-07-24T11:58:59.525866Z",
          "shell.execute_reply.started": "2024-07-24T11:58:59.520116Z",
          "shell.execute_reply": "2024-07-24T11:58:59.524735Z"
        },
        "trusted": true,
        "colab": {
          "base_uri": "https://localhost:8080/"
        },
        "id": "oe8lWvKHC5KB",
        "outputId": "8342531b-2bf2-4529-c806-2e87b682ed41"
      },
      "execution_count": null,
      "outputs": [
        {
          "output_type": "stream",
          "name": "stdout",
          "text": [
            "['321-555-4321', '123.555.1234', '123*555*1234', '800-555-1234', '900-555-1234']\n"
          ]
        }
      ]
    },
    {
      "cell_type": "code",
      "source": [
        "pat = re.compile(r'\\d{,3}.\\d\\d\\d.\\d{4}') #min 3 chars\n",
        "match = pat.findall(text)\n",
        "print(match)"
      ],
      "metadata": {
        "execution": {
          "iopub.status.busy": "2024-07-24T12:01:23.690165Z",
          "iopub.execute_input": "2024-07-24T12:01:23.690570Z",
          "iopub.status.idle": "2024-07-24T12:01:23.696388Z",
          "shell.execute_reply.started": "2024-07-24T12:01:23.690538Z",
          "shell.execute_reply": "2024-07-24T12:01:23.695167Z"
        },
        "trusted": true,
        "colab": {
          "base_uri": "https://localhost:8080/"
        },
        "id": "tQnEMBTIC5KC",
        "outputId": "a022c4e5-5c1b-444e-8f36-b144b0833207"
      },
      "execution_count": null,
      "outputs": [
        {
          "output_type": "stream",
          "name": "stdout",
          "text": [
            "['1234567890', '321-555-4321', '123.555.1234', '123*555*1234', '800-555-1234', '900-555-1234']\n"
          ]
        }
      ]
    },
    {
      "cell_type": "code",
      "source": [
        "pat = re.compile(r'\\d{3,}.\\d\\d\\d.\\d{4}') #max 3 chars\n",
        "match = pat.findall(text)\n",
        "print(match)"
      ],
      "metadata": {
        "execution": {
          "iopub.status.busy": "2024-07-24T12:01:24.999719Z",
          "iopub.execute_input": "2024-07-24T12:01:25.000224Z",
          "iopub.status.idle": "2024-07-24T12:01:25.006102Z",
          "shell.execute_reply.started": "2024-07-24T12:01:25.000187Z",
          "shell.execute_reply": "2024-07-24T12:01:25.004890Z"
        },
        "trusted": true,
        "colab": {
          "base_uri": "https://localhost:8080/"
        },
        "id": "mG0LEA2LC5KC",
        "outputId": "3f009f3f-0cec-44fa-afbc-732015ef9c36"
      },
      "execution_count": null,
      "outputs": [
        {
          "output_type": "stream",
          "name": "stdout",
          "text": [
            "['321-555-4321', '123.555.1234', '123*555*1234', '800-555-1234', '900-555-1234']\n"
          ]
        }
      ]
    },
    {
      "cell_type": "code",
      "source": [
        "pat = re.compile(r'Mr\\.?\\s[A-Z]\\w+') #? is for whether . present or not\n",
        "match = pat.findall(text)\n",
        "print(match)"
      ],
      "metadata": {
        "execution": {
          "iopub.status.busy": "2024-07-24T12:34:14.907124Z",
          "iopub.execute_input": "2024-07-24T12:34:14.907525Z",
          "iopub.status.idle": "2024-07-24T12:34:14.913175Z",
          "shell.execute_reply.started": "2024-07-24T12:34:14.907489Z",
          "shell.execute_reply": "2024-07-24T12:34:14.912052Z"
        },
        "trusted": true,
        "colab": {
          "base_uri": "https://localhost:8080/"
        },
        "id": "LDzlKUOqC5KC",
        "outputId": "3755a8af-3502-4250-cbaa-f11a071a74d0"
      },
      "execution_count": null,
      "outputs": [
        {
          "output_type": "stream",
          "name": "stdout",
          "text": [
            "['Mr. Schafer', 'Mr Smith']\n"
          ]
        }
      ]
    },
    {
      "cell_type": "code",
      "source": [
        "pat = re.compile(r'Mr\\.?\\s*\\w+') #? is for whether . is their or not\n",
        "match = pat.findall(text)\n",
        "print(match)"
      ],
      "metadata": {
        "execution": {
          "iopub.status.busy": "2024-07-24T12:39:04.603485Z",
          "iopub.execute_input": "2024-07-24T12:39:04.603884Z",
          "iopub.status.idle": "2024-07-24T12:39:04.609610Z",
          "shell.execute_reply.started": "2024-07-24T12:39:04.603850Z",
          "shell.execute_reply": "2024-07-24T12:39:04.608612Z"
        },
        "trusted": true,
        "colab": {
          "base_uri": "https://localhost:8080/"
        },
        "id": "Y5MU07bYC5KC",
        "outputId": "0f5d760f-fab2-4029-e729-f4e8c95f3d44"
      },
      "execution_count": null,
      "outputs": [
        {
          "output_type": "stream",
          "name": "stdout",
          "text": [
            "['Mr. Schafer', 'Mr Smith', 'Mrs', 'Mr. T']\n"
          ]
        }
      ]
    },
    {
      "cell_type": "code",
      "source": [
        "pat = re.compile(r'a')\n",
        "match = pat.finditer(text)\n",
        "for i in match:\n",
        "    print(i)"
      ],
      "metadata": {
        "execution": {
          "iopub.status.busy": "2024-07-24T12:44:57.172658Z",
          "iopub.execute_input": "2024-07-24T12:44:57.173049Z",
          "iopub.status.idle": "2024-07-24T12:44:57.179095Z",
          "shell.execute_reply.started": "2024-07-24T12:44:57.173021Z",
          "shell.execute_reply": "2024-07-24T12:44:57.177891Z"
        },
        "trusted": true,
        "colab": {
          "base_uri": "https://localhost:8080/"
        },
        "id": "wNydrrPBC5KC",
        "outputId": "1c7f74db-6a24-4d2c-9ca8-e1351674cab6"
      },
      "execution_count": null,
      "outputs": [
        {
          "output_type": "stream",
          "name": "stdout",
          "text": [
            "<re.Match object; span=(1, 2), match='a'>\n",
            "<re.Match object; span=(69, 70), match='a'>\n",
            "<re.Match object; span=(72, 73), match='a'>\n",
            "<re.Match object; span=(75, 76), match='a'>\n",
            "<re.Match object; span=(81, 82), match='a'>\n",
            "<re.Match object; span=(84, 85), match='a'>\n",
            "<re.Match object; span=(86, 87), match='a'>\n",
            "<re.Match object; span=(108, 109), match='a'>\n",
            "<re.Match object; span=(230, 231), match='a'>\n",
            "<re.Match object; span=(248, 249), match='a'>\n",
            "<re.Match object; span=(275, 276), match='a'>\n",
            "<re.Match object; span=(279, 280), match='a'>\n",
            "<re.Match object; span=(283, 284), match='a'>\n",
            "<re.Match object; span=(287, 288), match='a'>\n"
          ]
        }
      ]
    },
    {
      "cell_type": "code",
      "source": [
        "pat = re.compile(r'Mr\\.?\\s*\\w+') #? is for whether . is their or not\n",
        "match = pat.finditer(text)\n",
        "for i in match:\n",
        "    print(i)"
      ],
      "metadata": {
        "execution": {
          "iopub.status.busy": "2024-07-24T12:45:49.698499Z",
          "iopub.execute_input": "2024-07-24T12:45:49.698887Z",
          "iopub.status.idle": "2024-07-24T12:45:49.704324Z",
          "shell.execute_reply.started": "2024-07-24T12:45:49.698856Z",
          "shell.execute_reply": "2024-07-24T12:45:49.703212Z"
        },
        "trusted": true,
        "colab": {
          "base_uri": "https://localhost:8080/"
        },
        "id": "1Th5rIcsC5KD",
        "outputId": "cf2ae252-1b0d-4ed8-8aae-8f49f1af6ba4"
      },
      "execution_count": null,
      "outputs": [
        {
          "output_type": "stream",
          "name": "stdout",
          "text": [
            "<re.Match object; span=(223, 234), match='Mr. Schafer'>\n",
            "<re.Match object; span=(235, 243), match='Mr Smith'>\n",
            "<re.Match object; span=(253, 256), match='Mrs'>\n",
            "<re.Match object; span=(267, 272), match='Mr. T'>\n"
          ]
        }
      ]
    },
    {
      "cell_type": "code",
      "source": [
        "pat = re.compile(r'com')\n",
        "match = pat.finditer(text)\n",
        "for i in match:\n",
        "    print(i)"
      ],
      "metadata": {
        "execution": {
          "iopub.status.busy": "2024-07-24T13:01:50.724081Z",
          "iopub.execute_input": "2024-07-24T13:01:50.724487Z",
          "iopub.status.idle": "2024-07-24T13:01:50.729947Z",
          "shell.execute_reply.started": "2024-07-24T13:01:50.724435Z",
          "shell.execute_reply": "2024-07-24T13:01:50.728762Z"
        },
        "trusted": true,
        "colab": {
          "base_uri": "https://localhost:8080/"
        },
        "id": "v_WEYPrYC5KD",
        "outputId": "050ef536-9441-4175-f430-682efe4aecb9"
      },
      "execution_count": null,
      "outputs": [
        {
          "output_type": "stream",
          "name": "stdout",
          "text": [
            "<re.Match object; span=(152, 155), match='com'>\n"
          ]
        }
      ]
    },
    {
      "cell_type": "markdown",
      "source": [
        "## Tokenization\n",
        "\n",
        "splitting of words/sentences"
      ],
      "metadata": {
        "id": "HTMIpBwBC5KD"
      }
    },
    {
      "cell_type": "code",
      "source": [
        "text = \"This is Rgukt. Basar. IIITB. Offers 6 Year Integrated B.Tech Course.\"\n",
        "sent = text.split(\".\") #splits on the given char\n",
        "print(sent)\n",
        "\n",
        "#since there are Mr. Ms. , split cant be used to split\n",
        "#the sentences"
      ],
      "metadata": {
        "execution": {
          "iopub.status.busy": "2024-07-24T13:05:59.039533Z",
          "iopub.execute_input": "2024-07-24T13:05:59.039933Z",
          "iopub.status.idle": "2024-07-24T13:05:59.045609Z",
          "shell.execute_reply.started": "2024-07-24T13:05:59.039900Z",
          "shell.execute_reply": "2024-07-24T13:05:59.044474Z"
        },
        "trusted": true,
        "colab": {
          "base_uri": "https://localhost:8080/"
        },
        "id": "X95ldzcNC5KD",
        "outputId": "36530caa-6221-4617-c2b1-cb7638f50883"
      },
      "execution_count": null,
      "outputs": [
        {
          "output_type": "stream",
          "name": "stdout",
          "text": [
            "['This is Rgukt', ' Basar', ' IIITB', ' Offers 6 Year Integrated B', 'Tech Course', '']\n"
          ]
        }
      ]
    },
    {
      "cell_type": "markdown",
      "source": [
        "## Challenges in Tokenization"
      ],
      "metadata": {
        "id": "2bf-RAAKGoMA"
      }
    },
    {
      "cell_type": "code",
      "source": [
        "text = \"He has Completed his Ph.D degree. he is Happy.\"\n",
        "sent = text.split(\".\")\n",
        "print(sent)\n",
        "\n",
        "#Now this is splitting based on the \".\" which is not good in this case"
      ],
      "metadata": {
        "colab": {
          "base_uri": "https://localhost:8080/"
        },
        "id": "aHDtoiHjFcfa",
        "outputId": "a0b82767-1712-48f9-e0cf-f325a5ddeaeb"
      },
      "execution_count": null,
      "outputs": [
        {
          "output_type": "stream",
          "name": "stdout",
          "text": [
            "['He has Completed his Ph', 'D degree', ' he is Happy', '']\n"
          ]
        }
      ]
    },
    {
      "cell_type": "code",
      "source": [
        "# so we use this way\n",
        "pat = re.compile(r'Ph\\.D\\s+degree')\n",
        "text_after = re.sub(pat, '[degree]', text)\n",
        "print(text_after)\n",
        "\n",
        "#now split and substitute back\n",
        "sent = text_after.split(\".\")\n",
        "sent = [i.replace('[degree]', 'Ph.D degree') for i in sent]\n",
        "print(sent)"
      ],
      "metadata": {
        "colab": {
          "base_uri": "https://localhost:8080/"
        },
        "id": "juvekUbGHWKM",
        "outputId": "74a861c6-f18f-4cb4-fb2c-d4ea1ec5c45f"
      },
      "execution_count": null,
      "outputs": [
        {
          "output_type": "stream",
          "name": "stdout",
          "text": [
            "He has Completed his [degree]. he is Happy.\n",
            "['He has Completed his Ph.D degree', ' he is Happy', '']\n"
          ]
        }
      ]
    },
    {
      "cell_type": "markdown",
      "source": [
        "## Stop Words\n",
        "\n",
        "words even if removed still the meaning\n",
        "remains same"
      ],
      "metadata": {
        "id": "AiQfFUcOC5KE"
      }
    },
    {
      "cell_type": "code",
      "source": [
        "stopwords = ['a', 'the', 'we', 'such','this', 'an','will', 'is', 'are', 'were', 'am', 'was', 'being', 'to', 'for', 'on','you', 'I', 'me', 'he', 'him', 'she','her']\n",
        "text = \"Oh man, this is pretty cool. We will do more such things.\"\n",
        "\n",
        "words = text.lower().split()\n",
        "print(words)\n",
        "\n",
        "filtered_words = [i for i in words if i not in stopwords]\n",
        "print(filtered_words)"
      ],
      "metadata": {
        "execution": {
          "iopub.status.busy": "2024-07-24T17:34:39.710903Z",
          "iopub.execute_input": "2024-07-24T17:34:39.711297Z",
          "iopub.status.idle": "2024-07-24T17:34:39.719703Z",
          "shell.execute_reply.started": "2024-07-24T17:34:39.711266Z",
          "shell.execute_reply": "2024-07-24T17:34:39.718441Z"
        },
        "trusted": true,
        "colab": {
          "base_uri": "https://localhost:8080/"
        },
        "id": "HuTxVnxhC5KE",
        "outputId": "fbe42367-d7be-455e-c0f0-911a68939a29"
      },
      "execution_count": null,
      "outputs": [
        {
          "output_type": "stream",
          "name": "stdout",
          "text": [
            "['oh', 'man,', 'this', 'is', 'pretty', 'cool.', 'we', 'will', 'do', 'more', 'such', 'things.']\n",
            "['oh', 'man,', 'pretty', 'cool.', 'do', 'more', 'things.']\n"
          ]
        }
      ]
    },
    {
      "cell_type": "markdown",
      "source": [
        "## Lemmatization\n",
        "getting root word from the word"
      ],
      "metadata": {
        "id": "VBwinB8-C5KE"
      }
    },
    {
      "cell_type": "code",
      "source": [
        "import nltk\n",
        "nltk.download('wordnet')\n",
        "nltk.download('omw-1.4')  # Optional, for additional languages\n"
      ],
      "metadata": {
        "colab": {
          "base_uri": "https://localhost:8080/"
        },
        "id": "IwiL1VODEL8T",
        "outputId": "ea8556a4-9604-4c25-f4f2-7ba5ab7960f7"
      },
      "execution_count": null,
      "outputs": [
        {
          "output_type": "stream",
          "name": "stderr",
          "text": [
            "[nltk_data] Downloading package wordnet to /root/nltk_data...\n",
            "[nltk_data] Downloading package omw-1.4 to /root/nltk_data...\n"
          ]
        },
        {
          "output_type": "execute_result",
          "data": {
            "text/plain": [
              "True"
            ]
          },
          "metadata": {},
          "execution_count": 30
        }
      ]
    },
    {
      "cell_type": "code",
      "source": [
        "from nltk.stem import WordNetLemmatizer"
      ],
      "metadata": {
        "execution": {
          "iopub.status.busy": "2024-07-24T17:42:55.061016Z",
          "iopub.execute_input": "2024-07-24T17:42:55.061460Z",
          "iopub.status.idle": "2024-07-24T17:42:55.066942Z",
          "shell.execute_reply.started": "2024-07-24T17:42:55.061426Z",
          "shell.execute_reply": "2024-07-24T17:42:55.065545Z"
        },
        "trusted": true,
        "id": "0e8pGyCHC5KE"
      },
      "execution_count": null,
      "outputs": []
    },
    {
      "cell_type": "code",
      "source": [
        "lemmatizer = WordNetLemmatizer()"
      ],
      "metadata": {
        "execution": {
          "iopub.status.busy": "2024-07-24T17:42:57.975622Z",
          "iopub.execute_input": "2024-07-24T17:42:57.976052Z",
          "iopub.status.idle": "2024-07-24T17:42:57.981409Z",
          "shell.execute_reply.started": "2024-07-24T17:42:57.976020Z",
          "shell.execute_reply": "2024-07-24T17:42:57.980100Z"
        },
        "trusted": true,
        "id": "h14K8vSwC5KE"
      },
      "execution_count": null,
      "outputs": []
    },
    {
      "cell_type": "code",
      "source": [
        "print(\"cats : \", lemmatizer.lemmatize(\"cats\"))\n",
        "print(\"feet: \", lemmatizer.lemmatize(\"feet\"))\n",
        "print(\"Walks : \", lemmatizer.lemmatize(\"Walks\"))"
      ],
      "metadata": {
        "trusted": true,
        "colab": {
          "base_uri": "https://localhost:8080/"
        },
        "id": "OijJ1N8AC5KF",
        "outputId": "5a85fcec-5099-46f4-a8cd-c365f8cdd910"
      },
      "execution_count": null,
      "outputs": [
        {
          "output_type": "stream",
          "name": "stdout",
          "text": [
            "cats :  cat\n",
            "feet:  foot\n",
            "Walks :  Walks\n"
          ]
        }
      ]
    },
    {
      "cell_type": "markdown",
      "source": [
        "## Stemming\n",
        "removing the affixes from the word"
      ],
      "metadata": {
        "id": "QdVy9Cz0FAbu"
      }
    },
    {
      "cell_type": "code",
      "source": [
        "from nltk.stem import PorterStemmer"
      ],
      "metadata": {
        "id": "EhnjwbbhE1a9"
      },
      "execution_count": null,
      "outputs": []
    },
    {
      "cell_type": "code",
      "source": [
        "stemmer = PorterStemmer()\n",
        "\n",
        "print(\"Googly : \", stemmer.stem(\"Googly\"))\n",
        "print(\"Likely: \", stemmer.stem(\"Likely\"))\n",
        "print(\"Walking : \", stemmer.stem(\"Walking\"))\n",
        "print(\"Feet : \", stemmer.stem(\"Footing\"))"
      ],
      "metadata": {
        "colab": {
          "base_uri": "https://localhost:8080/"
        },
        "id": "umKJ1O1OFVyI",
        "outputId": "9387f06c-b6cb-48ad-b30d-677ef4400045"
      },
      "execution_count": null,
      "outputs": [
        {
          "output_type": "stream",
          "name": "stdout",
          "text": [
            "Googly :  googli\n",
            "Likely:  like\n",
            "Walking :  walk\n",
            "Feet :  foot\n"
          ]
        }
      ]
    },
    {
      "cell_type": "markdown",
      "source": [
        "# Semantic Analysis\n",
        "Deals with the meaning and Interpretation of the Context"
      ],
      "metadata": {
        "id": "mCLJIXDAhQfl"
      }
    },
    {
      "cell_type": "markdown",
      "source": [
        "## Computing Minimum Edit Distance\n"
      ],
      "metadata": {
        "id": "0yHrpDec283r"
      }
    },
    {
      "cell_type": "markdown",
      "source": [],
      "metadata": {
        "id": "IueXqTYI5LGc"
      }
    },
    {
      "cell_type": "markdown",
      "source": [
        "\n",
        "**Minimum Edit Distance** (also known as ***Levenshtein distance***) is a fundamental concept in Natural Language Processing (NLP) and computer science, which measures how dissimilar two strings (e.g., words, sentences) are by counting the minimum number of operations required to transform one string into the other. The operations typically considered are insertion, deletion, and substitution of characters.\n",
        "\n",
        "Examples :\n",
        "kitten → sitten (substitute 'k' with 's')\n",
        "\n",
        "sitten → sittin (substitute 'e' with 'i')\n",
        "\n",
        "sittin → sitting (insert 'g' at the end)\n",
        "\n",
        "\n",
        "***Used in :***\n",
        "\n",
        "*Spell Checking*.\n",
        "\n",
        "*DNA Sequencing*.\n",
        "\n",
        "*Plagiarism Detection*.\n",
        "\n",
        "*Speech Recognition*.\n",
        "\n",
        "*Machine Translation.*"
      ],
      "metadata": {
        "id": "PMZjdaNFvAok"
      }
    },
    {
      "cell_type": "code",
      "source": [
        "def minimum_edit_distance(str1, str2):\n",
        "    m = len(str1)\n",
        "    l = len(str2)\n",
        "\n",
        "    # Initialize a matrix\n",
        "    dp = [[0 for _ in range(l + 1)] for _ in range(m + 1)]\n",
        "\n",
        "    # Fill the matrix\n",
        "    for i in range(m + 1):\n",
        "        for j in range(l + 1):\n",
        "            if i == 0:\n",
        "                dp[i][j] = j  # If first string is empty, insert all characters of the second string\n",
        "            elif j == 0:\n",
        "                dp[i][j] = i  # If second string is empty, insert all characters of the first string\n",
        "            elif str1[i - 1] == str2[j - 1]:\n",
        "                dp[i][j] = dp[i - 1][j - 1]  # If characters are the same, no new operation\n",
        "            else:\n",
        "                dp[i][j] = 1 + min(dp[i][j - 1],  # Insertion\n",
        "                                   dp[i - 1][j],  # Deletion\n",
        "                                   dp[i - 1][j - 1])  # Substitution\n",
        "\n",
        "    return dp[m][l]\n",
        "\n",
        "# Example usage\n",
        "str1 = \"kitten\"\n",
        "str2 = \"sitting\"\n",
        "print(f\"Minimum Edit Distance between '{str1}' and '{str2}': {minimum_edit_distance(str1, str2)}\")\n"
      ],
      "metadata": {
        "id": "fDqAQS0Q36uZ",
        "colab": {
          "base_uri": "https://localhost:8080/"
        },
        "outputId": "fbc99f54-1c7a-445a-fb07-662374e36a5a"
      },
      "execution_count": null,
      "outputs": [
        {
          "output_type": "stream",
          "name": "stdout",
          "text": [
            "Minimum Edit Distance between 'kitten' and 'sitting': 3\n"
          ]
        }
      ]
    },
    {
      "cell_type": "markdown",
      "source": [
        "## Necessary Libraries"
      ],
      "metadata": {
        "id": "0mmJh4ty39Pe"
      }
    },
    {
      "cell_type": "code",
      "execution_count": null,
      "metadata": {
        "id": "U_jVaRDKXSls"
      },
      "outputs": [],
      "source": [
        "import nltk\n",
        "from nltk.tokenize import word_tokenize\n",
        "from nltk.corpus import stopwords\n",
        "from nltk.stem import PorterStemmer\n",
        "from nltk.stem import WordNetLemmatizer\n",
        "from nltk.corpus import wordnet"
      ]
    },
    {
      "cell_type": "markdown",
      "source": [
        "## Pos Tagging\n",
        "- parts of Speech Tagging(assigning the tags to the words)"
      ],
      "metadata": {
        "id": "SJ6LQkNQbEHI"
      }
    },
    {
      "cell_type": "code",
      "source": [
        "nltk.download('punkt')\n",
        "nltk.download('averaged_perceptron_tagger')"
      ],
      "metadata": {
        "colab": {
          "base_uri": "https://localhost:8080/"
        },
        "id": "arEROMkrZ-9Y",
        "outputId": "395062d1-441b-41cb-9468-ec812f26ab87"
      },
      "execution_count": null,
      "outputs": [
        {
          "output_type": "stream",
          "name": "stderr",
          "text": [
            "[nltk_data] Downloading package punkt to /root/nltk_data...\n",
            "[nltk_data]   Unzipping tokenizers/punkt.zip.\n",
            "[nltk_data] Downloading package averaged_perceptron_tagger to\n",
            "[nltk_data]     /root/nltk_data...\n",
            "[nltk_data]   Unzipping taggers/averaged_perceptron_tagger.zip.\n"
          ]
        },
        {
          "output_type": "execute_result",
          "data": {
            "text/plain": [
              "True"
            ]
          },
          "metadata": {},
          "execution_count": 4
        }
      ]
    },
    {
      "cell_type": "code",
      "source": [
        "text = word_tokenize(\"They Refuse to Permit us to obtain the refuse permit\")\n",
        "nltk.pos_tag(text)"
      ],
      "metadata": {
        "colab": {
          "base_uri": "https://localhost:8080/"
        },
        "id": "5xMvvzZqZV8N",
        "outputId": "9346bce2-dd82-4b13-fab4-03948f73a391"
      },
      "execution_count": null,
      "outputs": [
        {
          "output_type": "execute_result",
          "data": {
            "text/plain": [
              "[('They', 'PRP'),\n",
              " ('Refuse', 'VBP'),\n",
              " ('to', 'TO'),\n",
              " ('Permit', 'VB'),\n",
              " ('us', 'PRP'),\n",
              " ('to', 'TO'),\n",
              " ('obtain', 'VB'),\n",
              " ('the', 'DT'),\n",
              " ('refuse', 'NN'),\n",
              " ('permit', 'NN')]"
            ]
          },
          "metadata": {},
          "execution_count": 7
        }
      ]
    },
    {
      "cell_type": "code",
      "source": [
        "text2 = word_tokenize(\"I am a student\")\n",
        "nltk.pos_tag(text2)"
      ],
      "metadata": {
        "colab": {
          "base_uri": "https://localhost:8080/"
        },
        "id": "B79siltlZtaW",
        "outputId": "886aecf6-15d5-4a2d-c3a3-d09773ea3862"
      },
      "execution_count": null,
      "outputs": [
        {
          "output_type": "execute_result",
          "data": {
            "text/plain": [
              "[('I', 'PRP'), ('am', 'VBP'), ('a', 'DT'), ('student', 'NN')]"
            ]
          },
          "metadata": {},
          "execution_count": 8
        }
      ]
    },
    {
      "cell_type": "markdown",
      "source": [
        "## Chunking\n",
        "- Extracting Phrases from unstructured text\n",
        "(Chunk is a group of words make up Phrases)\n",
        "\n",
        " Click For Demo:  [https://stanfordnlp.github.io/stanza/](https://stanfordnlp.github.io/stanza/)\n",
        "\n",
        "  then go to: http://stanza.run/"
      ],
      "metadata": {
        "id": "xBf_aGZGbA7I"
      }
    },
    {
      "cell_type": "markdown",
      "source": [
        "## Named Entity Recognition\n",
        "Detecting and Classifying proper names or named entity mentions in text\n",
        "\n",
        "\n",
        "In Natural Language Processing (NLP), Named Entity Recognition (NER) is a technique used to identify and classify named entities in text into predefined categories.\n",
        "\n",
        "These entities can include:\n",
        "\n",
        "People's names\n",
        "Organizations\n",
        "Locations\n",
        "Dates\n",
        "Times\n",
        "Quantities\n",
        "Monetary values\n",
        "and more.\n",
        "\n",
        "This is useful for tasks like extracting information, understanding the context of text, and building knowledge graphs.\n",
        "\n",
        "\n",
        "\n",
        "\n",
        "1.www.datashark.academy/introduction-to-natural-language-processing-nlp-with-python/\n",
        "\n",
        "2.www.ibm.com/topics/named-entity-recognition\n",
        "\n",
        "3.www.geeksforgeeks.org/named-entity-recognition/\n",
        "\n",
        "4.www.datacamp.com/blog/what-is-named-entity-recognition-ner\n",
        "\n",
        "5.www.turing.com/kb/a-comprehensive-guide-to-named-entity-recognition\n",
        "\n",
        "![NamedEntityRecognition.JPG](data:image/jpeg;base64,/9j/4AAQSkZJRgABAQEAeAB4AAD/4RDoRXhpZgAATU0AKgAAAAgABAE7AAIAAAAKAAAISodpAAQAAAABAAAIVJydAAEAAAAUAAAQzOocAAcAAAgMAAAAPgAAAAAc6gAAAAgAAAAAAAAAAAAAAAAAAAAAAAAAAAAAAAAAAAAAAAAAAAAAAAAAAAAAAAAAAAAAAAAAAAAAAAAAAAAAAAAAAAAAAAAAAAAAAAAAAAAAAAAAAAAAAAAAAAAAAAAAAAAAAAAAAAAAAAAAAAAAAAAAAAAAAAAAAAAAAAAAAAAAAAAAAAAAAAAAAAAAAAAAAAAAAAAAAAAAAAAAAAAAAAAAAAAAAAAAAAAAAAAAAAAAAAAAAAAAAAAAAAAAAAAAAAAAAAAAAAAAAAAAAAAAAAAAAAAAAAAAAAAAAAAAAAAAAAAAAAAAAAAAAAAAAAAAAAAAAAAAAAAAAAAAAAAAAAAAAAAAAAAAAAAAAAAAAAAAAAAAAAAAAAAAAAAAAAAAAAAAAAAAAAAAAAAAAAAAAAAAAAAAAAAAAAAAAAAAAAAAAAAAAAAAAAAAAAAAAAAAAAAAAAAAAAAAAAAAAAAAAAAAAAAAAAAAAAAAAAAAAAAAAAAAAAAAAAAAAAAAAAAAAAAAAAAAAAAAAAAAAAAAAAAAAAAAAAAAAAAAAAAAAAAAAAAAAAAAAAAAAAAAAAAAAAAAAAAAAAAAAAAAAAAAAAAAAAAAAAAAAAAAAAAAAAAAAAAAAAAAAAAAAAAAAAAAAAAAAAAAAAAAAAAAAAAAAAAAAAAAAAAAAAAAAAAAAAAAAAAAAAAAAAAAAAAAAAAAAAAAAAAAAAAAAAAAAAAAAAAAAAAAAAAAAAAAAAAAAAAAAAAAAAAAAAAAAAAAAAAAAAAAAAAAAAAAAAAAAAAAAAAAAAAAAAAAAAAAAAAAAAAAAAAAAAAAAAAAAAAAAAAAAAAAAAAAAAAAAAAAAAAAAAAAAAAAAAAAAAAAAAAAAAAAAAAAAAAAAAAAAAAAAAAAAAAAAAAAAAAAAAAAAAAAAAAAAAAAAAAAAAAAAAAAAAAAAAAAAAAAAAAAAAAAAAAAAAAAAAAAAAAAAAAAAAAAAAAAAAAAAAAAAAAAAAAAAAAAAAAAAAAAAAAAAAAAAAAAAAAAAAAAAAAAAAAAAAAAAAAAAAAAAAAAAAAAAAAAAAAAAAAAAAAAAAAAAAAAAAAAAAAAAAAAAAAAAAAAAAAAAAAAAAAAAAAAAAAAAAAAAAAAAAAAAAAAAAAAAAAAAAAAAAAAAAAAAAAAAAAAAAAAAAAAAAAAAAAAAAAAAAAAAAAAAAAAAAAAAAAAAAAAAAAAAAAAAAAAAAAAAAAAAAAAAAAAAAAAAAAAAAAAAAAAAAAAAAAAAAAAAAAAAAAAAAAAAAAAAAAAAAAAAAAAAAAAAAAAAAAAAAAAAAAAAAAAAAAAAAAAAAAAAAAAAAAAAAAAAAAAAAAAAAAAAAAAAAAAAAAAAAAAAAAAAAAAAAAAAAAAAAAAAAAAAAAAAAAAAAAAAAAAAAAAAAAAAAAAAAAAAAAAAAAAAAAAAAAAAAAAAAAAAAAAAAAAAAAAAAAAAAAAAAAAAAAAAAAAAAAAAAAAAAAAAAAAAAAAAAAAAAAAAAAAAAAAAAAAAAAAAAAAAAAAAAAAAAAAAAAAAAAAAAAAAAAAAAAAAAAAAAAAAAAAAAAAAAAAAAAAAAAAAAAAAAAAAAAAAAAAAAAAAAAAAAAAAAAAAAAAAAAAAAAAAAAAAAAAAAAAAAAAAAAAAAAAAAAAAAAAAAAAAAAAAAAAAAAAAAAAAAAAAAAAAAAAAAAAAAAAAAAAAAAAAAAAAAAAAAAAAAAAAAAAAAAAAAAAAAAAAAAAAAAAAAAAAAAAAAAAAAAAAAAAAAAAAAAAAAAAAAAAAAAAAAAAAAAAAAAAAAAAAAAAAAAAAAAAAAAAAAAAAAAAAAAAAAAAAAAAAAAAAAAAAAAAAAAAAAAAAAAAAAAAAAAAAAAAAAAAAAAAAAAAAAAAAAAAAAAAAAAAAAAAAAAAAAAAAAAAAAAAAAAAAAAAAAAAAAAAAAAAAAAAAAAAAAAAAAAAAAAAAAAAAAAAAAAAAAAAAAAAAAAAAAAAAAAAAAAAAAAAAAAAAAAAAAAAAAAAAAAAAAAAAAAAAAAAAAAAAAAAAAAAAAAAAAAAAAAAAAAAAAAAAAAAAAAAAAAAAAAAAAAAAAAAAAAAAAAAAAAAAAAAAAAAAAAAAAAAAAAAAAAAAAAAAAAAAAAAAAAAAAAAAAAAAAAAAAAAAAAAAAAAAAAAAAAAAAAAAAAAAAAAAAAAAAAAAAAAAAAAAAAAAAAAAAAAAAAAAAAAAAAAAAAAAAAAAAAAAAAAAAAAAAAAAAAAAAAAAAAAAAAAAAAAAAAAAAAAAAAAAAAAAAAAAAAAAAAAAAAAAAAAAAAAAAAAAAAAAAAAAAAAAAAAAAAAAAAAAAAAAAAAAAAAAAAAAAAAAAAAAAAAAAAAAAAAAAAAAAAAAAAAAAAAAAAAAAAAAAAAAAAAAAAAAAAAAAAAAAAAAAAAAAAAAAAAAAAAAAAAAAAAAAAAAAAAAAAAAAAAAAAAAAAAAAAAAAAAAAAAAAAAAAAAAAAAAAAAAAAAAAAAAAAAAAAAAAAAAAAAAAAAAAAAAAAAAAAAAAAAAAAAAAAAAAAAAAAAAAAAAAAAAAAAAAAAAAAAAAAAAAAAAAAAAAAAAAAAAAAAAAAAAAAAAAAAAAAAAAAAAAAAAAAAAAAAAAAAAAAAAAAAAAAAAAAAAAAAAAAAAAAAAAAAAAAAAAAAAAAAAAAAAAAAAAAAAAAAAAAAAAAAAAAAAAAAAAAAAAAAAAAAAAAAAAAAAEdPUElDSEFORAAABZADAAIAAAAUAAAQopAEAAIAAAAUAAAQtpKRAAIAAAADNzQAAJKSAAIAAAADNzQAAOocAAcAAAgMAAAIlgAAAAAc6gAAAAgAAAAAAAAAAAAAAAAAAAAAAAAAAAAAAAAAAAAAAAAAAAAAAAAAAAAAAAAAAAAAAAAAAAAAAAAAAAAAAAAAAAAAAAAAAAAAAAAAAAAAAAAAAAAAAAAAAAAAAAAAAAAAAAAAAAAAAAAAAAAAAAAAAAAAAAAAAAAAAAAAAAAAAAAAAAAAAAAAAAAAAAAAAAAAAAAAAAAAAAAAAAAAAAAAAAAAAAAAAAAAAAAAAAAAAAAAAAAAAAAAAAAAAAAAAAAAAAAAAAAAAAAAAAAAAAAAAAAAAAAAAAAAAAAAAAAAAAAAAAAAAAAAAAAAAAAAAAAAAAAAAAAAAAAAAAAAAAAAAAAAAAAAAAAAAAAAAAAAAAAAAAAAAAAAAAAAAAAAAAAAAAAAAAAAAAAAAAAAAAAAAAAAAAAAAAAAAAAAAAAAAAAAAAAAAAAAAAAAAAAAAAAAAAAAAAAAAAAAAAAAAAAAAAAAAAAAAAAAAAAAAAAAAAAAAAAAAAAAAAAAAAAAAAAAAAAAAAAAAAAAAAAAAAAAAAAAAAAAAAAAAAAAAAAAAAAAAAAAAAAAAAAAAAAAAAAAAAAAAAAAAAAAAAAAAAAAAAAAAAAAAAAAAAAAAAAAAAAAAAAAAAAAAAAAAAAAAAAAAAAAAAAAAAAAAAAAAAAAAAAAAAAAAAAAAAAAAAAAAAAAAAAAAAAAAAAAAAAAAAAAAAAAAAAAAAAAAAAAAAAAAAAAAAAAAAAAAAAAAAAAAAAAAAAAAAAAAAAAAAAAAAAAAAAAAAAAAAAAAAAAAAAAAAAAAAAAAAAAAAAAAAAAAAAAAAAAAAAAAAAAAAAAAAAAAAAAAAAAAAAAAAAAAAAAAAAAAAAAAAAAAAAAAAAAAAAAAAAAAAAAAAAAAAAAAAAAAAAAAAAAAAAAAAAAAAAAAAAAAAAAAAAAAAAAAAAAAAAAAAAAAAAAAAAAAAAAAAAAAAAAAAAAAAAAAAAAAAAAAAAAAAAAAAAAAAAAAAAAAAAAAAAAAAAAAAAAAAAAAAAAAAAAAAAAAAAAAAAAAAAAAAAAAAAAAAAAAAAAAAAAAAAAAAAAAAAAAAAAAAAAAAAAAAAAAAAAAAAAAAAAAAAAAAAAAAAAAAAAAAAAAAAAAAAAAAAAAAAAAAAAAAAAAAAAAAAAAAAAAAAAAAAAAAAAAAAAAAAAAAAAAAAAAAAAAAAAAAAAAAAAAAAAAAAAAAAAAAAAAAAAAAAAAAAAAAAAAAAAAAAAAAAAAAAAAAAAAAAAAAAAAAAAAAAAAAAAAAAAAAAAAAAAAAAAAAAAAAAAAAAAAAAAAAAAAAAAAAAAAAAAAAAAAAAAAAAAAAAAAAAAAAAAAAAAAAAAAAAAAAAAAAAAAAAAAAAAAAAAAAAAAAAAAAAAAAAAAAAAAAAAAAAAAAAAAAAAAAAAAAAAAAAAAAAAAAAAAAAAAAAAAAAAAAAAAAAAAAAAAAAAAAAAAAAAAAAAAAAAAAAAAAAAAAAAAAAAAAAAAAAAAAAAAAAAAAAAAAAAAAAAAAAAAAAAAAAAAAAAAAAAAAAAAAAAAAAAAAAAAAAAAAAAAAAAAAAAAAAAAAAAAAAAAAAAAAAAAAAAAAAAAAAAAAAAAAAAAAAAAAAAAAAAAAAAAAAAAAAAAAAAAAAAAAAAAAAAAAAAAAAAAAAAAAAAAAAAAAAAAAAAAAAAAAAAAAAAAAAAAAAAAAAAAAAAAAAAAAAAAAAAAAAAAAAAAAAAAAAAAAAAAAAAAAAAAAAAAAAAAAAAAAAAAAAAAAAAAAAAAAAAAAAAAAAAAAAAAAAAAAAAAAAAAAAAAAAAAAAAAAAAAAAAAAAAAAAAAAAAAAAAAAAAAAAAAAAAAAAAAAAAAAAAAAAAAAAAAAAAAAAAAAAAAAAAAAAAAAAAAAAAAAAAAAAAAAAAAAAAAAAAAAAAAAAAAAAAAAAAAAAAAAAAAAAAAAAAAAAAAAAAAAAAAAAAAAAAAAAAAAAAAAAAAAAAAAAAAAAAAAAAAAAAAAAAAAAAAAAAAAAAAAAAAAAAAAAAAAAAAAAAAAAAAAAAAAAAAAAAAAAAAAAAAAAAAAAAAAAAAAAAAAAAAAAAAAAAAAAAAAAAAAAAAAAAAAAAAAAAAAAAAAAAAAAAAAAAAAAAAAAAAAAAAAAAAAAAAAAAAAAAAAAAAAAAAAAAAAAAAAAAAAAAAAAAAAAAAAAAAAAAAAAAAAAAAAAAAAAAAAAAAAAAAAAAAAAAAAAAAAAAAAAAAAAAAAAAAAAAAAAAAAAAAAAAAAAAAAAAAAAAAAAAAAAAAAAAAAAAAAAAAAAAAAAAAAAAAAAAAAAAAAAAAAAAAAAAAAAAAAAAAAAAAAAAAAAAAAAAAAAAAAAAAAAAAAAAAAAAAAAAAAAAAAAAAAAAAAAAAAAAAAAAAAAAAAAAAAAAAAAAAAAAAAAAAAAAAAAAAAAAAAAAAAAAAAAAAAAAAAAAAAAAAAAAAAAAAAAAAAAAAAAAAAAAAAAAAAAAAAAAAAAAAAAAAAAAAAAAAAAAAAAAAAAAAAAAAAAAAAAAAAAAAAAAAAAAAAAAAAAAAAAAAAAAAAAAAAAAAAAAAAAAAAAAAAAAAAAAAAAAAAAAAAAAAAAAAAAAAAAAAAAAAAAAAAAAAAAAAAAAAAAAAAAAAAAAAAAAAAAAAAAAAAAAAAAAAAAAAAAAAAAAAAAAAAAAAAAAAAAAAAAAAAAAAAAAAAAAAAAAAAAAAAAAAAAAAAAAADIwMjA6MTA6MjQgMTg6NTI6MDYAMjAyMDoxMDoyNCAxODo1MjowNgAAAEcATwBQAEkAQwBIAEEATgBEAAAA/+ELHGh0dHA6Ly9ucy5hZG9iZS5jb20veGFwLzEuMC8APD94cGFja2V0IGJlZ2luPSfvu78nIGlkPSdXNU0wTXBDZWhpSHpyZVN6TlRjemtjOWQnPz4NCjx4OnhtcG1ldGEgeG1sbnM6eD0iYWRvYmU6bnM6bWV0YS8iPjxyZGY6UkRGIHhtbG5zOnJkZj0iaHR0cDovL3d3dy53My5vcmcvMTk5OS8wMi8yMi1yZGYtc3ludGF4LW5zIyI+PHJkZjpEZXNjcmlwdGlvbiByZGY6YWJvdXQ9InV1aWQ6ZmFmNWJkZDUtYmEzZC0xMWRhLWFkMzEtZDMzZDc1MTgyZjFiIiB4bWxuczpkYz0iaHR0cDovL3B1cmwub3JnL2RjL2VsZW1lbnRzLzEuMS8iLz48cmRmOkRlc2NyaXB0aW9uIHJkZjphYm91dD0idXVpZDpmYWY1YmRkNS1iYTNkLTExZGEtYWQzMS1kMzNkNzUxODJmMWIiIHhtbG5zOnhtcD0iaHR0cDovL25zLmFkb2JlLmNvbS94YXAvMS4wLyI+PHhtcDpDcmVhdGVEYXRlPjIwMjAtMTAtMjRUMTg6NTI6MDYuNzQwPC94bXA6Q3JlYXRlRGF0ZT48L3JkZjpEZXNjcmlwdGlvbj48cmRmOkRlc2NyaXB0aW9uIHJkZjphYm91dD0idXVpZDpmYWY1YmRkNS1iYTNkLTExZGEtYWQzMS1kMzNkNzUxODJmMWIiIHhtbG5zOmRjPSJodHRwOi8vcHVybC5vcmcvZGMvZWxlbWVudHMvMS4xLyI+PGRjOmNyZWF0b3I+PHJkZjpTZXEgeG1sbnM6cmRmPSJodHRwOi8vd3d3LnczLm9yZy8xOTk5LzAyLzIyLXJkZi1zeW50YXgtbnMjIj48cmRmOmxpPkdPUElDSEFORDwvcmRmOmxpPjwvcmRmOlNlcT4NCgkJCTwvZGM6Y3JlYXRvcj48L3JkZjpEZXNjcmlwdGlvbj48L3JkZjpSREY+PC94OnhtcG1ldGE+DQogICAgICAgICAgICAgICAgICAgICAgICAgICAgICAgICAgICAgICAgICAgICAgICAgICAgICAgICAgICAgICAgICAgICAgICAgICAgICAgICAgICAgICAgICAgICAgICAgICAgCiAgICAgICAgICAgICAgICAgICAgICAgICAgICAgICAgICAgICAgICAgICAgICAgICAgICAgICAgICAgICAgICAgICAgICAgICAgICAgICAgICAgICAgICAgICAgICAgICAgICAKICAgICAgICAgICAgICAgICAgICAgICAgICAgICAgICAgICAgICAgICAgICAgICAgICAgICAgICAgICAgICAgICAgICAgICAgICAgICAgICAgICAgICAgICAgICAgICAgICAgIAogICAgICAgICAgICAgICAgICAgICAgICAgICAgICAgICAgICAgICAgICAgICAgICAgICAgICAgICAgICAgICAgICAgICAgICAgICAgICAgICAgICAgICAgICAgICAgICAgICAgCiAgICAgICAgICAgICAgICAgICAgICAgICAgICAgICAgICAgICAgICAgICAgICAgICAgICAgICAgICAgICAgICAgICAgICAgICAgICAgICAgICAgICAgICAgICAgICAgICAgICAKICAgICAgICAgICAgICAgICAgICAgICAgICAgICAgICAgICAgICAgICAgICAgICAgICAgICAgICAgICAgICAgICAgICAgICAgICAgICAgICAgICAgICAgICAgICAgICAgICAgIAogICAgICAgICAgICAgICAgICAgICAgICAgICAgICAgICAgICAgICAgICAgICAgICAgICAgICAgICAgICAgICAgICAgICAgICAgICAgICAgICAgICAgICAgICAgICAgICAgICAgCiAgICAgICAgICAgICAgICAgICAgICAgICAgICAgICAgICAgICAgICAgICAgICAgICAgICAgICAgICAgICAgICAgICAgICAgICAgICAgICAgICAgICAgICAgICAgICAgICAgICAKICAgICAgICAgICAgICAgICAgICAgICAgICAgICAgICAgICAgICAgICAgICAgICAgICAgICAgICAgICAgICAgICAgICAgICAgICAgICAgICAgICAgICAgICAgICAgICAgICAgIAogICAgICAgICAgICAgICAgICAgICAgICAgICAgICAgICAgICAgICAgICAgICAgICAgICAgICAgICAgICAgICAgICAgICAgICAgICAgICAgICAgICAgICAgICAgICAgICAgICAgCiAgICAgICAgICAgICAgICAgICAgICAgICAgICAgICAgICAgICAgICAgICAgICAgICAgICAgICAgICAgICAgICAgICAgICAgICAgICAgICAgICAgICAgICAgICAgICAgICAgICAKICAgICAgICAgICAgICAgICAgICAgICAgICAgICAgICAgICAgICAgICAgICAgICAgICAgICAgICAgICAgICAgICAgICAgICAgICAgICAgICAgICAgICAgICAgICAgICAgICAgIAogICAgICAgICAgICAgICAgICAgICAgICAgICAgICAgICAgICAgICAgICAgICAgICAgICAgICAgICAgICAgICAgICAgICAgICAgICAgICAgICAgICAgICAgICAgICAgICAgICAgCiAgICAgICAgICAgICAgICAgICAgICAgICAgICAgICAgICAgICAgICAgICAgICAgICAgICAgICAgICAgICAgICAgICAgICAgICAgICAgICAgICAgICAgICAgICAgICAgICAgICAKICAgICAgICAgICAgICAgICAgICAgICAgICAgICAgICAgICAgICAgICAgICAgICAgICAgICAgICAgICAgICAgICAgICAgICAgICAgICAgICAgICAgICAgICAgICAgICAgICAgIAogICAgICAgICAgICAgICAgICAgICAgICAgICAgICAgICAgICAgICAgICAgICAgICAgICAgICAgICAgICAgICAgICAgICAgICAgICAgICAgICAgICAgICAgICAgICAgICAgICAgCiAgICAgICAgICAgICAgICAgICAgICAgICAgICAgICAgICAgICAgICAgICAgICAgICAgICAgICAgICAgICAgICAgICAgICAgICAgICAgICAgICAgICAgICAgICAgICAgICAgICAKICAgICAgICAgICAgICAgICAgICAgICAgICAgICAgICAgICAgICAgICAgICAgICAgICAgICAgICAgICAgICAgICAgICAgICAgICAgICAgICAgICAgICAgICAgICAgICAgICAgIAogICAgICAgICAgICAgICAgICAgICAgICAgICAgICAgICAgICAgICAgICAgICAgICAgICAgICAgICAgICAgICAgICAgICAgICAgICAgICAgICAgICAgICAgICAgICAgICAgICAgCiAgICAgICAgICAgICAgICAgICAgICAgICAgICAgICAgICAgICAgICAgICAgICAgICAgICAgICAgICAgICAgICAgICAgICAgICAgICAgICAgICAgICAgICAgICAgICAgICAgICAKICAgICAgICAgICAgICAgICAgICAgICAgICAgIDw/eHBhY2tldCBlbmQ9J3cnPz7/2wBDAAcFBQYFBAcGBQYIBwcIChELCgkJChUPEAwRGBUaGRgVGBcbHichGx0lHRcYIi4iJSgpKywrGiAvMy8qMicqKyr/2wBDAQcICAoJChQLCxQqHBgcKioqKioqKioqKioqKioqKioqKioqKioqKioqKioqKioqKioqKioqKioqKioqKioqKir/wAARCAEtBR4DASIAAhEBAxEB/8QAHwAAAQUBAQEBAQEAAAAAAAAAAAECAwQFBgcICQoL/8QAtRAAAgEDAwIEAwUFBAQAAAF9AQIDAAQRBRIhMUEGE1FhByJxFDKBkaEII0KxwRVS0fAkM2JyggkKFhcYGRolJicoKSo0NTY3ODk6Q0RFRkdISUpTVFVWV1hZWmNkZWZnaGlqc3R1dnd4eXqDhIWGh4iJipKTlJWWl5iZmqKjpKWmp6ipqrKztLW2t7i5usLDxMXGx8jJytLT1NXW19jZ2uHi4+Tl5ufo6erx8vP09fb3+Pn6/8QAHwEAAwEBAQEBAQEBAQAAAAAAAAECAwQFBgcICQoL/8QAtREAAgECBAQDBAcFBAQAAQJ3AAECAxEEBSExBhJBUQdhcRMiMoEIFEKRobHBCSMzUvAVYnLRChYkNOEl8RcYGRomJygpKjU2Nzg5OkNERUZHSElKU1RVVldYWVpjZGVmZ2hpanN0dXZ3eHl6goOEhYaHiImKkpOUlZaXmJmaoqOkpaanqKmqsrO0tba3uLm6wsPExcbHyMnK0tPU1dbX2Nna4uPk5ebn6Onq8vP09fb3+Pn6/9oADAMBAAIRAxEAPwD6RoqtqNy1lpd1dIoZoIXkAPQkKT/SuM0HSfFGteHNN1R/HeoQtfWkVyYlsLMhC6BsAmLoM4oA7yiuT/4RbxP/ANFA1L/wX2f/AMao/wCEW8T/APRQNS/8F9n/APGqAOsork/+EW8T/wDRQNS/8F9n/wDGqP8AhFvE/wD0UDUv/BfZ/wDxqgDrKK5P/hFvE/8A0UDUv/BfZ/8Axqj/AIRbxP8A9FA1L/wX2f8A8aoA6yiuT/4RbxP/ANFA1L/wX2f/AMao/wCEW8T/APRQNS/8F9n/APGqAOsork/+EW8T/wDRQNS/8F9n/wDGqP8AhFvE/wD0UDUv/BfZ/wDxqgDrKK5P/hFvE/8A0UDUv/BfZ/8Axqj/AIRbxP8A9FA1L/wX2f8A8aoA6yiuT/4RbxP/ANFA1L/wX2f/AMao/wCEW8T/APRQNS/8F9n/APGqAOsork/+EW8T/wDRQNS/8F9n/wDGqP8AhFvE/wD0UDUv/BfZ/wDxqgDrKK5P/hFvE/8A0UDUv/BfZ/8Axqj/AIRbxP8A9FA1L/wX2f8A8aoA6yiuT/4RbxP/ANFA1L/wX2f/AMao/wCEW8T/APRQNS/8F9n/APGqAOsork/+EW8T/wDRQNS/8F9n/wDGqP8AhFvE/wD0UDUv/BfZ/wDxqgDrKK5P/hFvE/8A0UDUv/BfZ/8Axqj/AIRbxP8A9FA1L/wX2f8A8aoA6yiuT/4RbxP/ANFA1L/wX2f/AMao/wCEW8T/APRQNS/8F9n/APGqAOsork/+EW8T/wDRQNS/8F9n/wDGqP8AhFvE/wD0UDUv/BfZ/wDxqgDrKK5P/hFvE/8A0UDUv/BfZ/8Axqj/AIRbxP8A9FA1L/wX2f8A8aoA6yiuT/4RbxP/ANFA1L/wX2f/AMao/wCEW8T/APRQNS/8F9n/APGqAOsork/+EW8T/wDRQNS/8F9n/wDGqP8AhFvE/wD0UDUv/BfZ/wDxqgDrKK868LWXirxBo8l7L461CFkvbq12rYWZBENxJED/AKruEz+NbP8Awi3if/ooGpf+C+z/APjVAHWUVyf/AAi3if8A6KBqX/gvs/8A41R/wi3if/ooGpf+C+z/APjVAHWUVyf/AAi3if8A6KBqX/gvs/8A41R/wi3if/ooGpf+C+z/APjVAHWUVyf/AAi3if8A6KBqX/gvs/8A41R/wi3if/ooGpf+C+z/APjVAHWUVyf/AAi3if8A6KBqX/gvs/8A41R/wi3if/ooGpf+C+z/APjVAHWUV514isvFWif2X5fjrUJft2ow2bbrCzG0PnLD911GK2f+EW8T/wDRQNS/8F9n/wDGqAOsork/+EW8T/8ARQNS/wDBfZ//ABqj/hFvE/8A0UDUv/BfZ/8AxqgDrKK5P/hFvE//AEUDUv8AwX2f/wAao/4RbxP/ANFA1L/wX2f/AMaoA6yiuT/4RbxP/wBFA1L/AMF9n/8AGqP+EW8T/wDRQNS/8F9n/wDGqAOsork/+EW8T/8ARQNS/wDBfZ//ABqj/hFvE/8A0UDUv/BfZ/8AxqgDrKK5P/hFvE//AEUDUv8AwX2f/wAao/4RbxP/ANFA1L/wX2f/AMaoA6yiuT/4RbxP/wBFA1L/AMF9n/8AGqP+EW8T/wDRQNS/8F9n/wDGqAOsork/+EW8T/8ARQNS/wDBfZ//ABqj/hFvE/8A0UDUv/BfZ/8AxqgDrKK5P/hFvE//AEUDUv8AwX2f/wAao/4RbxP/ANFA1L/wX2f/AMaoA6yiuT/4RbxP/wBFA1L/AMF9n/8AGqP+EW8T/wDRQNS/8F9n/wDGqAOsork/+EW8T/8ARQNS/wDBfZ//ABqj/hFvE/8A0UDUv/BfZ/8AxqgDrKK5P/hFvE//AEUDUv8AwX2f/wAao/4RbxP/ANFA1L/wX2f/AMaoA6yiuT/4RbxP/wBFA1L/AMF9n/8AGqP+EW8T/wDRQNS/8F9n/wDGqAOsork/+EW8T/8ARQNS/wDBfZ//ABqj/hFvE/8A0UDUv/BfZ/8AxqgDrKK5P/hFvE//AEUDUv8AwX2f/wAao/4RbxP/ANFA1L/wX2f/AMaoA6yiuT/4RbxP/wBFA1L/AMF9n/8AGqP+EW8T/wDRQNS/8F9n/wDGqAOsork/+EW8T/8ARQNS/wDBfZ//ABqj/hFvE/8A0UDUv/BfZ/8AxqgDrKK5P/hFvE//AEUDUv8AwX2f/wAao/4RbxP/ANFA1L/wX2f/AMaoA6yiuT/4RbxP/wBFA1L/AMF9n/8AGqP+EW8T/wDRQNS/8F9n/wDGqAOsork/+EW8T/8ARQNS/wDBfZ//ABqj/hFvE/8A0UDUv/BfZ/8AxqgDrKK5P/hFvE//AEUDUv8AwX2f/wAao/4RbxP/ANFA1L/wX2f/AMaoA6yiuT/4RbxP/wBFA1L/AMF9n/8AGqP+EW8T/wDRQNS/8F9n/wDGqAOsork/+EW8T/8ARQNS/wDBfZ//ABqj/hFvE/8A0UDUv/BfZ/8AxqgDrKK5P/hFvE//AEUDUv8AwX2f/wAao/4RbxP/ANFA1L/wX2f/AMaoA6yiuT/4RbxP/wBFA1L/AMF9n/8AGqP+EW8T/wDRQNS/8F9n/wDGqAOsork/+EW8T/8ARQNS/wDBfZ//ABqj/hFvE/8A0UDUv/BfZ/8AxqgDrKK5P/hFvE//AEUDUv8AwX2f/wAao/4RbxP/ANFA1L/wX2f/AMaoA6yiuT/4RbxP/wBFA1L/AMF9n/8AGqP+EW8T/wDRQNS/8F9n/wDGqAOsork/+EW8T/8ARQNS/wDBfZ//ABqj/hFvE/8A0UDUv/BfZ/8AxqgDrKK5P/hFvE//AEUDUv8AwX2f/wAao/4RbxP/ANFA1L/wX2f/AMaoA6yiuT/4RbxP/wBFA1L/AMF9n/8AGqP+EW8T/wDRQNS/8F9n/wDGqAOsork/+EW8T/8ARQNS/wDBfZ//ABqj/hFvE/8A0UDUv/BfZ/8AxqgDrKK5P/hFvE//AEUDUv8AwX2f/wAao/4RbxP/ANFA1L/wX2f/AMaoA6yiuT/4RbxP/wBFA1L/AMF9n/8AGqP+EW8T/wDRQNS/8F9n/wDGqAOsork/+EW8T/8ARQNS/wDBfZ//ABqj/hFvE/8A0UDUv/BfZ/8AxqgDrKK5P/hFvE//AEUDUv8AwX2f/wAao/4RbxP/ANFA1L/wX2f/AMaoA6yiuT/4RbxP/wBFA1L/AMF9n/8AGqP+EW8T/wDRQNS/8F9n/wDGqAOsork/+EW8T/8ARQNS/wDBfZ//ABqj/hFvE/8A0UDUv/BfZ/8AxqgDrKK5P/hFvE//AEUDUv8AwX2f/wAao/4RbxP/ANFA1L/wX2f/AMaoA6yiuT/4RbxP/wBFA1L/AMF9n/8AGqP+EW8T/wDRQNS/8F9n/wDGqAOsork/+EW8T/8ARQNS/wDBfZ//ABqj/hFvE/8A0UDUv/BfZ/8AxqgDrKK5P/hFvE//AEUDUv8AwX2f/wAao/4RbxP/ANFA1L/wX2f/AMaoA6yiuT/4RbxP/wBFA1L/AMF9n/8AGqP+EW8T/wDRQNS/8F9n/wDGqAOsork/+EW8T/8ARQNS/wDBfZ//ABqj/hFvE/8A0UDUv/BfZ/8AxqgDrKK5P/hFvE//AEUDUv8AwX2f/wAao/4RbxP/ANFA1L/wX2f/AMaoA6yiuT/4RbxP/wBFA1L/AMF9n/8AGqP+EW8T/wDRQNS/8F9n/wDGqAOsork/+EW8T/8ARQNS/wDBfZ//ABqj/hFvE/8A0UDUv/BfZ/8AxqgDrKK5P/hFvE//AEUDUv8AwX2f/wAao/4RbxP/ANFA1L/wX2f/AMaoA6yiuT/4RbxP/wBFA1L/AMF9n/8AGqP+EW8T/wDRQNS/8F9n/wDGqAOsork/+EW8T/8ARQNS/wDBfZ//ABqj/hFvE/8A0UDUv/BfZ/8AxqgDrKK5P/hFvE//AEUDUv8AwX2f/wAao/4RbxP/ANFA1L/wX2f/AMaoA6yiuT/4RbxP/wBFA1L/AMF9n/8AGqP+EW8T/wDRQNS/8F9n/wDGqAOsork/+EW8T/8ARQNS/wDBfZ//ABqj/hFvE/8A0UDUv/BfZ/8AxqgDrKK5P/hFvE//AEUDUv8AwX2f/wAao/4RbxP/ANFA1L/wX2f/AMaoA6yiuT/4RbxP/wBFA1L/AMF9n/8AGqP+EW8T/wDRQNS/8F9n/wDGqAOsork/+EW8T/8ARQNS/wDBfZ//ABqj/hFvE/8A0UDUv/BfZ/8AxqgDrKK5P/hFvE//AEUDUv8AwX2f/wAao/4RbxP/ANFA1L/wX2f/AMaoA6yiuT/4RbxP/wBFA1L/AMF9n/8AGqP+EW8T/wDRQNS/8F9n/wDGqAOsorz/AMRW/ibwrocmtHxlfagtpJEzWs1laokwMiqVJWMMAQexB969AoAoa9/yLmpf9ekv/oBqj4G/5J54d/7BVt/6KWr2vf8AIual/wBekv8A6Aao+Bv+SeeHf+wVbf8AopaAOeubHx5rXjPWf7P8Tpoei2jxw20f9mxzvKxiVnbLY4y2O/OemK4jwvr/AMQPEPxW8ReEJPGggj0dCy3K6TAzS/Mo5XHH3vWvda8K+Gv/ACc/4/8A+uR/9DSiH8RR8n+AT+By80eheEovGOneK9U07xZrEes2X2eKaxuks1t8Es4dWC8ZGF7niuzryb48WPiGw8L/APCT+Fdb1SyewZTe2ttdOqSw5wWCjoRxyO2c9K2vEfiOzk+C39q6Hc3jm+tY001o7qTz2nlIWMb924kORnJPQ5pXvG/Vaf5Dt71u/wDT/wAzv6K8J+MK+J/Avwz0V9N8W6qbg3UVtdlpstO7KxZvMxvXlcYBAx2qX4jeE/HuleHbjxrYePNSOpWK/aZtOgYpaLGOSqJnB2juwO7HNN2SbeydvyEk3ZdWe40V5Ff/ABbup/g/4c1uyXyNV8QXEdgrRwGbyJCxWSRYxkvjaxVeckjrWJ42k1fTdPtNV+HF347udbt5l863vrO/khu0/i3JImwfRQoxnA6UPRtPo7AtVddrnvFFUtGvZ9R0Kxvbu1ks7i4t0lltpVIaJioJUg8gg8VdptWdhJ3VwooopDCiiigAooooAKKKKACiiigAooooAKKKKACiiigAooooAKKKKACiiigAooooA5P4bf8AIp3H/YY1P/0umrrK5P4bf8incf8AYY1P/wBLpq6ygDz9tP8AH2t+KdaktfFSaJo9vcCGygGmRzPIBGpZizY43Egde/SuK8E6/wDEDxZ4+8UeHZfGgtk0KUxpOukwMZvnZckYGOle614V8G/+S6fEr/r6P/o16UPjUfJ/hYJ/A5ea/Fnong1PF1j4g1rTfF+qx6vBGkE1hdx2iwZVt4ZSF43AqO57HvXY1w/j6z8Wanrnh6w0KSW10GSdn1q7trkQypGoBChshgDzynPuK4ex8Spo/wC0Jo+heFvEd1quhapayC5tp7+S9jhmRXPySSMxB+UZAY9T+FL3ml/WiBqyb+Z7hRXlnjHxNqF/8bPDvgOG7uNP025tnvLyS2lMUtxgOVjEi4ZR8nO0gnPWsHxa3iDwz8ZtA8O+H/FWrWWk+IIyWjkkF40Ei55UzhyFPy8Z9aS1t57f18mD0v5K57jRTIEeK3jSWVpnVQGkYAFyBySBxz7U+gDk/HvTw1/2H7X/ANmrrK5Px708Nf8AYftf/Zq6ygCG8u4rCwnu7g4it42lcjsqjJ/QV5h4KvvFXxP0N/FC+KZtAsbiaRLGw0+2gkMaoxXMrSIxZjjoMD869SngjubeSCdA8UqFHU9GBGCK+cb3wl8Q/gZql1qXgNm1zwvJIZZbFlMhjH+0g5BA/jT0+YdqlNKXvbDs3H3dz1HwlqHjKH4jaloHi68tb21ttPSezura38r7QGkILOMkBhjGBgfnXoFed/DL4q+HfiWzyWtv9h1y3hxPaykFhHkZKN/EucehB6jpVF7HVbnxH4l1L4matc6LoUUywaKLbWGtIynPz/unUs5+Xh885AFW7pJPz/P/AIJKs22vL8j1KivI/gj4g1nxR4V8Qadf63dXEmm6i9ra6lIqtP5eOCd4IJ6/eB681h/C2DxP40bxfp2seMtWjgtNVaBri2lC3L7cgBGIKxLxkhFBJ7juutl2v+X+YXVvnb8/8j3iivB/AS+Lbzxl4t+H9x4w1BrDS5kddRdvMvRG2cIkjZC5BGWwcYOAM8aPgm51vwx8ctY8C3HiHUtY0yTTheWsupzefNC3y/xH6tx04HFCs7W6q6+643pfydn/AF8z2eivBdGPjXXfjN4v8LDxpfR2lrFGDdEKJIozhsRIoCK53YL4yAPU8Gjaj4p+F3xs07wprniG98QaFry/6NNfyGSSNzkDkkkEMACAcEMDjNEfe5f72wS05vLc2/Emt+JdN/aK8KaM2uyvo+oRyzGyjiWNRhZBhiOX6KeT1HSvX68a8c/8nQeAP+vWf/0GStbxV4xN58TP+ER8/VrbTrKyF3fPo9tNLcTOxwke6FS0agfMWGCcgZFKOsIrzf4X/RDmvffovxPT6K8S0jUfEug/GCxtvD0XirVPCGpKFul1e0umFlIcjKyTLuCjCnkkcn2x7bVdExdbHnXjj4jXlh4ssPBPgy2gvfEl+NzPcE+TZR4yXcDknAJx/iAdSHwl4nW3Es3xB1N7/HJFjai2z6eV5e7H/A8+9eU/CKVtV/aW8c398d1xCJ4493VVEyoPyVQK+h6UV7kZd1cJfG49tDhPAWs+K7zxT4l0rxoLUTaebf7MbOMpFJE6v+8G4k8leQTwRjtXd1VuoWijubuxt4nv2g2oW43lclFJ9Mk/ma8U1WDVNK+FN7q3j3xPqWleNpY57m3hg1h0ClSSiJBG/llSAM/KepyfROVlr0X9fMajrp1/r7j3OSRIYnlmdUjRSzMxwFA6kmszwz4htPFXh+31nTd32W5L+UW/iVXZd347c/jXmdxd3Xjz9lx9W1q8uVuv7Knnla2k8rz3jDgb8dVJUEr0NRfCgW/hP4FWvi64vtSnS206eVrN7omAbXY4VOik4xn3NVJcnPzfZ/4P+RK95Rt1/wCB/mezUV4et5N4p8CDVbzVfGsPiK8tvtMEmmWV/HbQORuSNEjTy3QcAsdxbk7uaG+JfjTQv2ebvW/EOmXNn4jtZxZJJeWpiL7iNsxQgdiR0wWH4VMvdTv0/wCGKWtrdT3CivGfHVhqfh34NReK9D8TawmtWkEFzJdSX8ksdzvKhg0TEx4+bIAUYwKl1Lx9q3gz4F2niW71WbV9W1pIfsX2yGJBDJKgOMRqoKrhjz1qmmm11Tt832FH3kmtmew0V5trngTWIvBMl9pfivXR4ntrf7QLo38hinlC7ihgz5QQnIACjHHXvjab481Xx5+z7qPiKx1KbR9X023n+0vaohDyRJu/iB2hgQeMEZ4PFTJ2UvIcdeXzPYq5eHw/4gT4lT65J4jkfQ5LQRJo/l/KknHzZz7E56846CvNPh/4a8YeNvAfhfX5/H2qWDwSlzBGzSLcRiVs+aSwLMcEfNlQMDHUnQ0HUdeg/ad1HQ9Q8QX2o2EWkmeKGYqiIWMZ+4gVcjJAOM471bjyz5Xvr+RN7xbW2n5nsdFeU6t4wXXviVq3h65n1uDSNEiiWVNFtrl5LmeQbvnlgUsiKOAAVyc8kDFZ3grUvFOk/FybR7aLxLqfg69iLw3Ws2lwGs5AudvmSqG25BHPqO+czHW3n/X49By0v5Hs9FeHeDvE2meObzWNP8S+JdV0bxat9NDDbJqUtqsChiIxFGGEbkAchgzEg54xXrPhGz1LT/CGmWeuzvcajDbqlzM77zI46sT3zQtVf0/H+tQekmuxsUUUUAFFFFABRRRQAUUUUAFFFFABRRRQAUUUUAFFFFABRRRQAUUUUAFFFFABRRRQAUUUUAFFFFABRRRQAUUUUAFFFFABRRRQAUUUUAFFFFABRRRQAUUUUAFFFFABRRRQAUUUUAFFFFABRRRQAUUUUAFFFFABRRRQAUUUUAFFFFABRRRQAUUUUAFFFFABRRRQAUUUUAFFFFABRRRQAUUUUAFFFFAHJ/FD/knGp/WH/wBHJXWVyfxQ/wCScan9Yf8A0cldZQBQ17/kXNS/69Jf/QDVHwN/yTzw7/2Crb/0UtXte/5FzUv+vSX/ANANUfA3/JPPDv8A2Crb/wBFLQBsXNzBZ2z3F3NHBDGMvLK4VVHqSeBXz18NvFGhr+0p40un1WzS2vUZbad51VJiHThWJwehIx1xX0VRRHSfN5NfeEtYcvmn9xDeWcGoWM9neRrLb3EbRSxsOGVhgj8jXg3ww8Ma3Z/EC48F6qTLoPhC9fULZ258xpV/cD6AF3/3q9F8e+OvEXhPWNOtdC8EX/iOC7U+ZPauQImzgKcIwHrlsD9a0/Auh3+l6Xd3+vCMa1rFy15erG25YiQAkQPcIgVc+oJ70Q35v6vfT7t/+HCW3K/67/ft/wAMcB+082z4a6c5BO3V4Tgd/kkrc8dePNBv/hdfwaLqFvqV/q9m1nZWNs4eeWWRdu3yx8wIzk5HGDmsX9ouK91jwnp+k6NpOqaleJqMdy62enzSqsYVwSXVSuckcZzXqWkf2feQJqVpYmCWZcM81m0Ex9mDqG/OklzQaff9EU3yyi12/Vnivi74b67oPwI8Lx6LGbjWfDFymoyRRjcSxLO4UD721mH1ANbuiftE+H9e0yCDT9O1GbxHOBHHpMcBYtL/ANdPuhM8ljggc4r1+oIrK0guJLiG2hjmk+/IkYDN9T1NU3du/V3ISslbdCaet2um2y6k6SXgiXz2jGFL4+Ygemc1YoooerGFFFFIAooooAKKKKACiiigAooooAKKKKACiiigAooooAKKKKACiiigAooooAKKKKAOT+G3/Ip3H/YY1P8A9Lpq6yuT+G3/ACKdx/2GNT/9Lpq6ygCG7vLawtXub64itoIxl5ZnCKv1J4FfPnwb8TaKPjh48kfVLRI9RuWazd5lVbgec33CT83UEY619E0UR0lzeTX3hLWHL5p/ceKfGbxANM+InhOy8VNNH4Jm3PfBFYxzyjO1ZAPvKDsO3oQTwcVheJ/F2ij49+Bdbs4LqPQ4bSWC3nSydVnyrqBEgG5hl1HC454yOa+hZYYp02TxpIuc7XUEfrSmNGZWZFLJ90kcr9KI6W8m3945O9/NWPEfjJr+g2HjrwnNr0eo6JJDE91HrltDulhPQQAcq3PLAhsDgD5iad4d8ffC2/8AHFvrmo+L7jU9d8v7LaTajatBFbqc5CBY1RScnLMSeetaOv6t4p8L/FXUNW1fwlf+JNAuLZINPfSoxO9ovWQeV6s3UnHCrzxgS3ksXxH0q40fTfh1e6Yl0hjm1HXdOithbKerxrku7jtgAZwSRRDZW8/x/wCAEt9fL+vvPWM56UVHbwLbWsUEZJWJAiknJwBipKb30JV7anJ+Penhr/sP2v8A7NXWVyfj3p4a/wCw/a/+zV1lIZT1iR4tDvpImKOltIyspwQQpwRXB+Afi3oGr+FbBfEWqQ6RrEduguYNTkFuzsB/rFL43K3XIz15r0dlDKVYAqRggjrUF1p1lewrFe2dvcRp91JYlcL9ARSWjfnb8L/5g9bfP9DxLw3pFh4h/aWm8U+CY1/sKytWW+vYFxBc3LKylUI4bqpJHGVJ781fBXjfS4fid4nf4i/aH8TQXzQ6VbvbPMY4MnCW6KDgng5GNwIOete+RRRwRLFDGscajCoi4AHsKPJi87zvLTzcbd+0bsemaa0t5Jr73f8A4HoD1v52/D+vvPB/gV4lstP1vxrY6is9ncyaxLdSrPHtW2j+bJlf7i4Ix15J4yOam+AGv6Q2reOE/tK1VrjWJLmFWmUGSL5jvXJ5GBnPavc1jRGYoiqWOWIGMn3p1C0t6W/L/ITV/vv+f+Z4V8NvEOjy/tEePHj1SzZL7yltWE64nK4BCHPzHPpTLXxJorftcXE66rZmB9IFssonXY0vynYGzjd7V7xTZJBFE8jhiqKWIVSx49AOT9BSjaKiv5Vb8Gv1G9XL+8/8v8jwrwx4g0zQ/wBqDxsmr3kVkt3DEkUs7hELhUO3ceASM4z1xWtq9vD8Rfjx4eudEdLvSfC0bzXl9C26IzscrErDhmGFJx0Gao+DVkf4++L9Q1LQdXXStXjjitp7rSLgRSldgOdyfKODy2BxXtkMEVtCsVvEkUa8KkahVH0Apw0hTb3S/HUUtZTXd/5Hhfj/AMQ6RB+054Lkm1O1SOygljuXMyhYGYSAK5zhTkjg+opvj7VL/wCGHxqh8fiylv8Aw5rFmlreSW/zeWRjGD0z8qkZ4PzCveabJGksbRyorowwysMgj3FJXilbo3+O/wCZUnzNt9Ul9x5/oHxVsPHusWtj4GiurmFHEmo3s1uY4raMc7Mt1djgADoMntXoVRW9rBZwiK0gjgjHRIkCqPwFS1WnQnU8G8V6LqXwq+Mr/ETTLCe/8PampTVY7ZNz227G5semVDZ6ZyDjIr0qz+K/gO+09byDxZpQRhkRyXKpL9PLbD59sV19U49I02G6N1Dp9rHcE5MywKH/ADxmktI8vbYb1fMc7ea7rt94V13VtFsXhWOykOlRTwkTXEgUkSFDyoJwFUjJxk4yBXjvhLxf4fvfgtr1uiXmpeNb+wu11I/ZnluHYhgGeQjAjVccZAHQDPB+kKYkMUTO0caIZDlyqgbj6n1pNXTXdW/r16jTtZ9nc8Q+HOoJr37L99o+lw3E91baTdwviFgpkbzCEUn7zYIPy5xkd6i+G1/YeNvgA3gbTHmfVF064hn/AHLCO2cuxTe5GOSRgDJ6+hr3VI0iQJGqoo6KowBQqImdiquTk4GMn1qpvn5r/a/4P+ZMfdUbdP8Agf5HgHw6+OGm+EPDkXhL4h217pmq6Mv2Zf8AR2cSovCjA5DAYHoRg55rsvGXiCa8+Ceva14i8OS3NpdKWttLmQrJHCSqo8u3lTnMhwcqMDORmvSJbK0nuI7ia2hkmj+5I8YLL9D1FcN8XbfxTPoWnP4W08apbQXqTanp6yBHu4FOfLGeoJHI6njgjIqZvmXvbv8Aq5UFyv3en9WPLLHxr8MrzwjYeG/EPjzXLvR7dY99jPYlA+zBCO6RFygI4AbPA5OK7D4taPbfEv4MW958P5Y7+PTplubWK1H31RSrRheoYA524zxjHNaMHxCt9YYQP8KPFD3rDBS60iNIg3vK7AAe5/Kur8C+Gm8OaXeNNa2tlPqV497LZ2f+ptiwVQi8DOAoycDJJNVK8r/f89CY+6193yOe0r4weGNQ+HS6nPqVvHqK23ly6YXH2n7QFwY1i+8xLcDA5rk9A8PD4dfsya1b+JJ4rC/1S0upmhnkCkSSRbUiGerYC8dck17YNPs1vDdraQC5PWYRDef+BYzVilL3ub+8OPu8vkeZfs/6tp978HtHtLW8hlubNJEuIVkBeI+a5G5eoyDkZrlNP8R6M37XN/ONUszDJpItUl89djS/IdgbOC3B49q94oqpS5qnP6/irfqJK0OX+t7/AKHgOva9efBr45arrurWNxceGPEyxl7iBdxikUY+mQd3HcNkdMV6H4Y+JNt4+1uFPB0NxLpNqGe/1Ce3MaE7SFhTdyWyQxPQBfeu4mgiuYWiuIkljYYZHUMD9QaIYIraFYreJIo1GFSNQqj6AVMdIqL6bf15Dlq211PCdZX4a/Frwddarrt3p+jeIrNHSedJVhmjkTIBKk/vEOBjOTg4BBrv/gw2uv8ACfRz4o843uxtpuM+YYtx8vdnnO3HXnGK7GXTrKaaOWazt5JIv9W7xKSn0OOKs0R0TXcJe80/69AooooAKKKKACiiigAooooAKKKKACiiigAooooAKKKKACiiigAooooAKKKKACiiigAooooAKKKKACiiigAooooAKKKKACiiigAooooAKKKKACiiigAooooAKKKKACiiigAooooAKKKKACiiigAooooAKKKKACiiigAooooAKKKKACiiigAooooAKKKKACiiigAooooAKKKKACiiigAooooAKKKKAOT+KH/JONT+sP8A6OSusrk/ih/yTjU/rD/6OSusoApayEbQb8SsUQ20gZguSBtOTjvXEeEtU8aReCtEjsvC2l3Fsmn26wzPrbRtIgjXaxX7OdpIwcZOPU12uvf8i5qX/XpL/wCgGqPgb/knnh3/ALBVt/6KWgCh/bHjv/oUNJ/8H7f/ACNR/bHjv/oUNJ/8H7f/ACNWN8S/ijffDY2k134cTULO9mMMEsN/tbdjOGUx8Z56E9Kh1r4san4QggvPG3gm+03TZXCG8tbyK7WJj03BcEf5xk0k09R2sb/9seO/+hQ0n/wft/8AI1H9seO/+hQ0n/wft/8AI1dFpupWesaXb6jplwlzaXMYkhlQ8Op6GrVU007MSd9Ucn/bHjv/AKFDSf8Awft/8jUf2x47/wChQ0n/AMH7f/I1dZRSA5P+2PHf/QoaT/4P2/8Akaj+2PHf/QoaT/4P2/8AkausooA5P+2PHf8A0KGk/wDg/b/5Go/tjx3/ANChpP8A4P2/+Rqg+KHjXUfAXg+fW9O0ddSWHAkaS4EaxbmCgkYJbkjgY+tdB4b1OXWvCulapcIkct7ZxXDomdql0DEDPbmhaptdAelvMxv7Y8d/9ChpP/g/b/5Go/tjx3/0KGk/+D9v/kausooA5P8Atjx3/wBChpP/AIP2/wDkaj+2PHf/AEKGk/8Ag/b/AORq6yigDk/7Y8d/9ChpP/g/b/5Go/tjx3/0KGk/+D9v/kausooA5P8Atjx3/wBChpP/AIP2/wDkaj+2PHf/AEKGk/8Ag/b/AORq6yigDk/7Y8d/9ChpP/g/b/5Go/tjx3/0KGk/+D9v/kausooA5P8Atjx3/wBChpP/AIP2/wDkaj+2PHf/AEKGk/8Ag/b/AORq6yigDk/7Y8d/9ChpP/g/b/5Go/tjx3/0KGk/+D9v/kausooA5P8Atjx3/wBChpP/AIP2/wDkaj+2PHf/AEKGk/8Ag/b/AORq6yigDk/7Y8d/9ChpP/g/b/5Go/tjx3/0KGk/+D9v/kausooA5P8Atjx3/wBChpP/AIP2/wDkaj+2PHf/AEKGk/8Ag/b/AORq6yigDk/7Y8d/9ChpP/g/b/5Go/tjx3/0KGk/+D9v/kausooA5P8Atjx3/wBChpP/AIP2/wDkaj+2PHf/AEKGk/8Ag/b/AORq6yigDy7wHqfjKHw3Otj4Z0u5i/tS/Yu+tNGQ5u5S64+znhWJXPfGcDOK6X+2PHf/AEKGk/8Ag/b/AORqPht/yKdx/wBhjU//AEumrrKAOT/tjx3/ANChpP8A4P2/+RqP7Y8d/wDQoaT/AOD9v/kausooA5P+2PHf/QoaT/4P2/8Akaj+2PHf/QoaT/4P2/8AkausooA5P+2PHf8A0KGk/wDg/b/5Go/tjx3/ANChpP8A4P2/+Rq6yigDk/7Y8d/9ChpP/g/b/wCRqP7Y8d/9ChpP/g/b/wCRq6yigDy7xlqfjGUaD9s8M6Xb7datmi260z+ZIN2EP+jjaD6849K6X+2PHf8A0KGk/wDg/b/5Go8e9PDX/Yftf/Zq6ygDk/7Y8d/9ChpP/g/b/wCRqP7Y8d/9ChpP/g/b/wCRq6a7a5S1drGKKacD5I5pTGrfVgrEfka848J/FfVPFnjbVPDVv4VjtbjSWZbyabUsouG2/LiIlie3T8KFq7IHors6H+2PHf8A0KGk/wDg/b/5Go/tjx3/ANChpP8A4P2/+Rq6yigDk/7Y8d/9ChpP/g/b/wCRqP7Y8d/9ChpP/g/b/wCRq6yvOfGnxI1bwv4/8N+H49DiNprV4sAvpbjJK7lDbUXoRvGCT+FC1korqHRvsbX9seO/+hQ0n/wft/8AI1H9seO/+hQ0n/wft/8AI1SeMNY8UaVeaMnhbQY9WhursR3zvLs+zxcfMOR7884x05rqKOlwOT/tjx3/ANChpP8A4P2/+RqP7Y8d/wDQoaT/AOD9v/kausrmPHeseJ9F0a3n8G6FHrd490kcsLybAkZzluo74HtnPagCL+2PHf8A0KGk/wDg/b/5Go/tjx3/ANChpP8A4P2/+Rq6tSSgLDa2ORnOK434oeNtR8BeD59b07Rk1JIcCRpLgRrFuYKCRgluSOBj60m0txpX2J/7Y8d/9ChpP/g/b/5Go/tjx3/0KGk/+D9v/katrw5qUms+FtL1OdEjlvbOK4dEztUugYgZ7c1pVUk4tpkppq6OT/tjx3/0KGk/+D9v/kaj+2PHf/QoaT/4P2/+Rq6yikM5P+2PHf8A0KGk/wDg/b/5Go/tjx3/ANChpP8A4P2/+Rqyvi58Q9V+HXh1NT07RI7+N5FiM81xtSJmzj5B8zdPUdRzXe20hmtYpWABdAxA9xQtVcHo0n1OX/tjx3/0KGk/+D9v/kaj+2PHf/QoaT/4P2/+Rq6yigDk/wC2PHf/AEKGk/8Ag/b/AORqP7Y8d/8AQoaT/wCD9v8A5GrrK5jxp4zj8Krp1pb2v2/V9XuRbWFn5mwO/dmbB2ooOScH6UARf2x47/6FDSf/AAft/wDI1H9seO/+hQ0n/wAH7f8AyNWLfeMPG3hrxhpGn6/oFpqWlarKsAvdHWXNq5OP3itnI7544ye2K9Go6XDrY5P+2PHf/QoaT/4P2/8Akaj+2PHf/QoaT/4P2/8AkausqG4vLe0MIuZkiM8giiDHG9z0Ue/B/KgDmf7Y8d/9ChpP/g/b/wCRqP7Y8d/9ChpP/g/b/wCRqueN9U8QaP4WnvPCOkJq+poyBLV32gqT8x6jOB2zWxYS3M+m20t9ALa5kiVpoQ24RuQNy574ORmha3DY5v8Atjx3/wBChpP/AIP2/wDkaj+2PHf/AEKGk/8Ag/b/AORq6yigDk/7Y8d/9ChpP/g/b/5Go/tjx3/0KGk/+D9v/kausooA5P8Atjx3/wBChpP/AIP2/wDkaj+2PHf/AEKGk/8Ag/b/AORq6yuM+KHjXUfAXg+fW9O0ddSWHAkaS4EaxbmCgkYJbkjgY+tJtJajSbdkT/2x47/6FDSf/B+3/wAjUf2x47/6FDSf/B+3/wAjVs+G9Tl1rwrpWqXCJHLe2cVw6JnapdAxAz25rTqpJxbTJTTV0cn/AGx47/6FDSf/AAft/wDI1H9seO/+hQ0n/wAH7f8AyNXWV578XPiLqvw58Px6jp2iRX0Ukqwm4muNqRu2SPkHzN931HUVNykm9jW/tjx3/wBChpP/AIP2/wDkaj+2PHf/AEKGk/8Ag/b/AORq6mFzJBG54LKCcfSn09iU7q5yf9seO/8AoUNJ/wDB+3/yNR/bHjv/AKFDSf8Awft/8jV1lFAzk/7Y8d/9ChpP/g/b/wCRqP7Y8d/9ChpP/g/b/wCRq6yigDk/7Y8d/wDQoaT/AOD9v/kaj+2PHf8A0KGk/wDg/b/5GrrKKAOT/tjx3/0KGk/+D9v/AJGo/tjx3/0KGk/+D9v/AJGrprq8t7GES3cyQxl1jDOcAszBVH1JIH41NQByf9seO/8AoUNJ/wDB+3/yNR/bHjv/AKFDSf8Awft/8jV1lFAHJ/2x47/6FDSf/B+3/wAjUf2x47/6FDSf/B+3/wAjV1lFAHJ/2x47/wChQ0n/AMH7f/I1H9seO/8AoUNJ/wDB+3/yNXWUUAcn/bHjv/oUNJ/8H7f/ACNR/bHjv/oUNJ/8H7f/ACNXWUUAcn/bHjv/AKFDSf8Awft/8jUf2x47/wChQ0n/AMH7f/I1dZRQByf9seO/+hQ0n/wft/8AI1H9seO/+hQ0n/wft/8AI1dZRQByf9seO/8AoUNJ/wDB+3/yNR/bHjv/AKFDSf8Awft/8jV1UjMsbMiF2AJCggFj6c1594M+IuqeJfiT4h8M6no0OmLo8SHCz+a7sT1LAAYIIOAPxoWsuVf1YHors1/7Y8d/9ChpP/g/b/5Go/tjx3/0KGk/+D9v/kasa2+I+rTfGpPBF3okVlbmze6Fw1x5kki/wkBeF6HI5r0WjdJh1aOT/tjx3/0KGk/+D9v/AJGo/tjx3/0KGk/+D9v/AJGrrKKAOT/tjx3/ANChpP8A4P2/+RqP7Y8d/wDQoaT/AOD9v/kausooA5P+2PHf/QoaT/4P2/8Akaj+2PHf/QoaT/4P2/8AkausooA5P+2PHf8A0KGk/wDg/b/5Go/tjx3/ANChpP8A4P2/+Rq6yigDk/7Y8d/9ChpP/g/b/wCRqP7Y8d/9ChpP/g/b/wCRq6yigDk/7Y8d/wDQoaT/AOD9v/kaj+2PHf8A0KGk/wDg/b/5GrrKKAOT/tjx3/0KGk/+D9v/AJGo/tjx3/0KGk/+D9v/AJGrrKKAOT/tjx3/ANChpP8A4P2/+RqP7Y8d/wDQoaT/AOD9v/kausooA5P+2PHf/QoaT/4P2/8Akaj+2PHf/QoaT/4P2/8AkausooA5P+2PHf8A0KGk/wDg/b/5Go/tjx3/ANChpP8A4P2/+Rq6yigDk/7Y8d/9ChpP/g/b/wCRqP7Y8d/9ChpP/g/b/wCRq6yigDk/7Y8d/wDQoaT/AOD9v/kaj+2PHf8A0KGk/wDg/b/5GrrKKAOT/tjx3/0KGk/+D9v/AJGo/tjx3/0KGk/+D9v/AJGrrKKAOT/tjx3/ANChpP8A4P2/+RqP7Y8d/wDQoaT/AOD9v/kausooA5P+2PHf/QoaT/4P2/8Akaj+2PHf/QoaT/4P2/8AkausooA5P+2PHf8A0KGk/wDg/b/5Go/tjx3/ANChpP8A4P2/+Rq6yigDk/7Y8d/9ChpP/g/b/wCRqP7Y8d/9ChpP/g/b/wCRq6yigDk/7Y8d/wDQoaT/AOD9v/kaj+2PHf8A0KGk/wDg/b/5GrrKKAOT/tjx3/0KGk/+D9v/AJGo/tjx3/0KGk/+D9v/AJGrrKKAOT/tjx3/ANChpP8A4P2/+RqP7Y8d/wDQoaT/AOD9v/kausooA5P+2PHf/QoaT/4P2/8Akaj+2PHf/QoaT/4P2/8AkausooA5P+2PHf8A0KGk/wDg/b/5Go/tjx3/ANChpP8A4P2/+Rq6yigDk/7Y8d/9ChpP/g/b/wCRqP7Y8d/9ChpP/g/b/wCRq6yigDk/7Y8d/wDQoaT/AOD9v/kaj+2PHf8A0KGk/wDg/b/5GrrKKAOT/tjx3/0KGk/+D9v/AJGo/tjx3/0KGk/+D9v/AJGrrKKAPM/HGo+KrrwhdQ634e07T9PeWAT3UGrNcPEvnJysfkruPtuH1r0yuT+KH/JONT+sP/o5K6ygChr3/Iual/16S/8AoBqj4G/5J54d/wCwVbf+ilq9r3/Iual/16S/+gGqPgb/AJJ54d/7BVt/6KWgDyn9qRgvhTw6zEADVQST2+Rqv/Gnx94Yvvhfe6LpOqWes6lqgjhtbWwmW4ctvU7sITjGOPU8VQ/ajIHhbw5k/wDMVB/8cNe2Q2tujieOCJZWHMgQBj+NSo80Gn/N+kSublmmu36s8w8G3Nz8KPgbokGvWzy6pLJ5NvYbwrPPNIxSLJ+7jPJ7YNHjbx34z+Hmn2mvawmhappLTLFeWtjHLHNb7uhV2ch/TJVeccDtT/aND2vhzw7rEtmL2w0zWYpry3ZAyumDwwPGD93n+9W9CnwjuPC//CQxaZ4WOneX5hk+xQZHH3Su3O7tt654xVOTlefZ/hZEqPLaPdfjqXfEPxFitT4esPDUMeo6t4kAewjlcpGkW3cZpCOdoHYcnkVkeK/Hnif4bXen3vi+LTNU8P3cwgmu9NtpLeW0c8glGkcOvB6EHj6A8b4nuR4f/aE8Aa9eWf8AZmkXenLaQxFQq2rMrr5eBwuPMT/IrsP2h/Lk+Dd/bkb57i5t47aMDLPIZVICjucA0S0Sku9vxtb7vzGtXyvt+m4/4p/E3WPA1vpF1pOl2d5p+pXMcK3jzM5+YbuIlAJyucHd17VieMfiZ8SfB6x+IL/wjpyeGDKqvF5zNdxITgFyG2qT/ukAnBNZPxisJdE+Fvw8sL9gJrK/s4pmJ4BWIg8/hXo/xkmtYfg34ka9K+W1mUTd3ckBMe+7FKfuKTWtm/yQoe+4p9UvzZg/GTV7TX/2c9S1bTnL2t7b280RIwdrSxnn3rasfFFr4P8AgvoOqXcbzkadaQwW8ZAaeV0VUQZ9SevYZNcH4m0q60T9jhLHUFZLhLK3Z0bgoWnVtp9xuxUPxSinH7O/gzUY7YXVvprafc3MLLuVoxFjDDuMsB+NXJKPOunNFfmKN5Rg+tn+h1PjTxt448CaHF4k1CPQNQ05JEW9sLVJUmgVjgbZS5D4JAzsX6V6PourWuvaHZatp7Fra9gSeIkYO1hkZ964fTR8JNT8LL4gg0vwsun+V5kjyWVupi4yVYbchh0x1rtPD8lvL4dsJbKwGnW0kCvFaCMJ5KkZC7RwvHbtSta6YXvZo0aKKKQwooooAKKKKACiiigAooooAKKKKACiiigAooooAKKKKACiiigAooooA5P4bf8AIp3H/YY1P/0umrrK5P4bf8incf8AYY1P/wBLpq6ygDxf4z2EX/Cf+A0jeeBNU1P7PerBcPF56ZjGG2kep561D4rmu/hp8W/CFv4W1C+fT9enNtd6TcXclxGBvVfMQOSVPz54P8PpmrfxugS58c/DaCRpFWTWCpMcjRsATH0ZSCD7g5rvtP8Ah/4e0/xENe+zT3mrKnlx3l/dS3LxL6JvYhep6Y6n1p09En2k/wAloOeundfq9TgfjxapDd+Ebi3ea3lvNbhtbhoJnj82JuqttIz0rqPEHw98M/2b9nge5028unEVncJfT5WbBK8b+funIPYGuZ/aChjuYPBcE6h45PEMCOp7gggiuxuPh14WsdRsNbtrWPT5tJmNyJw7YC7GDA5bGMHOe2KmDsm/736RFK7enb9WZfxxt1Hwj1i+RnivLOJHgnikZHjPmKDgg55rjfE+iW3h/wCAtj4s0jVtS0nWoLC1uFuU1GYieRwmUZGcq27J4x+mRXYfGS8i1D4C63eWxYw3FpFJGWUqSrOhHB6cGvPNd8MP4e8LeCfHkcFxrukafY251PSb6d7qNEaNf30SyEhSuegwBgcAZot8S21Wvbf+vzK6Re++nfY9s8Eapfa34E0XU9Xi8q9u7OOWddu35ioJOO2euPet2qmlanZa1pNrqWlzpcWd1GJIZE6Mp/z0q3Vy+J6WM4/CtbnJ+Penhr/sP2v/ALNXWVyfj3p4a/7D9r/7NXWVJQV4X8Iv+S//ABJ/67n/ANGtXuleFfCFgf2gPiTg/wDLc/8Ao1qIfxV6SCf8J+sfzN27+J/iy3+Lz+Dk8NWcn+hNPAkVyzNKT91mkIURqOd3yk8YGTjMmi/EHxdp3xYtvBnj6w0hDqVs09jc6S0hUYDHa2/k8K3Yc47HjPc/8ZgR/wDYv/1NJ42/5Ok8Bf8AXnP/AOgy0ofYv1uv/Sv8gltN9rP8F/mdj4k8a3cPjKy8HeFoLe41u5hNzPLdbjDZQDje6qQWJPAUEe5FeY/EpvEkXxj+HVr4kbT7mFNSD2t5ZQvD5mXjDK0bO+CMDkMQQ1XNK1FdA/a91uPW3EI1iwSOxkkOFf5Yyqg+5Rh9RirvxolRfit8MFZ1DDVGJGeQN8XNVS+KlLu/1enyCW012X6fqb/xH+Iev+DfE3h3T7LS7F7HWL+O1N3LMzuAWUMPLAAU4bg7m6dKg+JHj/xT4G8TaNDHBpL6Jq90tsL2eKXdasSAd4DgHgkgjGcHpjNZXx7IGv8Aw8z/ANB5P/Qkrtfit4QHjb4canpSIGu1j8+0PcTJyoH15X/gVRe0eZ9H+FkVa8uXuvxuyz441zVvD3hmK60b7FPqUlxDbRQXETbbiSRgoAw4K9S2fm4B+tcx8VPiD4p+Hnh7TruDTtLvGuZ0tpbpncKsjAnCw9cYU8l/wrJ+FPiS4+Jf9g3V8km3wzaEXRcH97fNmNT7kRhmPvKPSj9pv/knWl/9hmH/ANAkrS1pJd2vuul+O/3ERd0/JP77X/r5ne+OfG1v4L0GC6a3a9v72ZLWwskba1xM/Rc9h6mvN/jg3ji3+EN+2svot3Z3HlLdRWdvLE9ofMUgq7SMJBkBT8q9c+1R/Hu6fRvGHw8167Df2VY6hmdwMhDujbJ99qsR9DXT/Hm6t7j4EaxPBPHJFOsDROrArIDKhBB78c1lLWm5edvy/MuHxxXlf+vQzvEPjTXPh/8ABLw3r+kR6fdQJY2cMtvdRPuy0Y+YMrgenGPx7V0/xC8V614X+HcnijR0sZDbQxyzW11G53hio+VlYYxu7g59q8++KwMv7KejvH8yrbaexI7Dao/ma6T4wajZr+zzdlrqIfa7O3W3y4/enKHC+vAJ47CtKzd6j7SJpJN013Wv3mrrvxLfw/8ABqy8Z3Gn/abq7tbd1tYiQnmSgYBPJCgn+nesjxX488YfD+DQtU8QjRtR0zUrmO2uorS1lgltmcZG1mkcOAA3ULnHbPFPVfH8vgL9nzwpf6fDDNd3lpaWkDz8xRMYsl2x1ACnj1rmPjzoltpXgzQbjUNauNW1m41SJmuLm4+8mxixjhBCImdv3V9Mk1bS9q105kvy0/HclawX+Fv/AIJ1f7TPPwfP/X/B/wCzV1njLxkPBnhTS50WE3OoXMFjbtcsVijdx9+QjnaoBJx1xjjrXH/tKTRTfB1jFIjhdRhU7WBwRuyPrXXeNNK8OeI/CmleH/FiuYNVljt7aRGCtHP5bOrBj0OFIHByTjHNYxvyyt/MvyX5lyteN/5X+YNqPjPSvFmh2WpPpGo6XqMskc11a2kkEkDCJ3UbWlcEHb97PbGOc12leBWMPjP4L+OvD+iy6y/iHwprV2LOCO4H722JIAAzkrjOeDtIB4BxXto1/SDrh0UapZnVAnmGy89fOC9c7M5xjmr0auidU9TQrwH4hnxW3x88ExyPo5nD3DaeAsvlhf8AprzknAH3a9+rxr4iMP8Aho74dDPOyf8AkalfxYev6Mcv4U/QueNfHfj3wI+jSapb+Hbq31K/SzP2ZZw6Fu/zNjpmuy8b+M4vCNjZLFbG+1TU7lbTT7MPt86Vu7NztUdScGuC/aJONN8IZ/6GCH+Rqt8eL6Tw54z8A+KZ43fTdOvnW4KjOzcUP57VbH0oi72T/mt8rIHdN2/lv89f8jd8V+NvGngG/wBGuNctNN1rS9RuBb3C6ZZzRy2rnGMFpHDjr1C5x2zXOfEu88WD45eC7KC8sFtZJ5JrC2ZH2B1UgvNggscEgYxj8TXqmo+NNEsPDyavFf293DcACzSCVWa7duERMdSSQPbvXnHxJbb+0B8NHlwmWnByehOOM/U01/Egn/N+m3yFJ/u5Ndjf+JPjfxX4A+H41ldN0q+uYyqXMolkWONmbClY8ZYdM/OK2fEPj218KfDq38SatGZZZ4IvKtoeDPNIoIRc9Oc+uAD1rmP2h54Z/ghqrQSpIq3EKEowIDCZQRx3BBGK5f45wXifCXwZq1sjS2umz201wq8gAxgKx9s8f8CpRd1K/wDNFfJjfxJLs380dt4j8QfEPwx4XbxLcWuh30FugnvdKgilSWKLq22cuQ5Udf3YHBxSeJPilcRfCNfHHg/T7fULVohJILucxmA7ghBRQdxDEgjcvTgmup1nVdOvvh1f6oJo5NOn0ySbzM/K0ZjJ/lXh+jaTd6T+xlqpvlZDeBrmJG4IjaVAv543fjSm2lNbWs/z0KhZuHm7f8E6+98f/Eef4cW3i/RdD0WOzhsEu7sXzyebcfKGdoo1OFQc43NkgZx0z07fEy1X4NL4++wySR/ZBMbRG58zdsK7sdA3GcdOcVm2/wDya6v/AGKp/wDSauZ8L+NG8BfspaXrkNqt3PHG0UMT/c3vO4BbHYdcd+lXUtHnXZr8b/5ImnryN9b/AIWNTxF8QfG3hXwFpnjXUItFu9PuvJe506K2lilgSUZG2UyEMwyAcoK0fjpcJd/ATWLmLOyaK3kXPoZYyK4f4x6ZH/wo1da13XZNW1e+NvJC7XGyEbiGZYIVIXAXvgtjqa6r4uTxS/s234ilRylpZq4Vgdp3xHB9OCD+NRU+Ga7NDpv34ea/U7rwF/yTnw5/2C7b/wBFLU/i3xTp/gzwvea5qxb7PaqDsQZaRicKi+5JAqDwF/yTnw5/2C7b/wBFLXC/tJWd3c/CVrizVnWyvobiZQM/IMrk+wLCta7tUl6/qTRV4r0/QteKPFvxB8NeDF8Wy2GjzQKY5LjRo4JmniiYgf68PgsMjP7sAc9cVg/tA6outfAXT9UjglgW8urWcRTLh03IxwR6jNej6D4+8Pax4Jg8RpqlrDZeQHnaSVR5DY+ZG9CDxivOf2hNR/tX4F2d/wCRJbi5voJUil4YKQ5GR2OMHHaomrO395fLUui72fk/yL/jPx98QPCOhReJotB0hfDkLRLLbXEshvijEKHOMImSRx8xGRnvjpPHXxG/4Rjwbper6TY/brjWpoYLFJCQgaVdys5HOAOw5NZfx2/5IHq//XO2/wDR0dZmvePLvwj8NvAOnaUYIb3XYbW1jvbld0dovlxhpCO5G4YB49are/8AiS+/p/WxnHaL8n+H9fM09d8ceKfA/jLw3p3iT+ydT07Xrj7KJrG1ktpLeUlQOGkcMvzD0PWk+J3xK1/wL4h0G0tNGtZ7DVLxYfP81pJmGV3KsQC4bDcHc2T2rjPizotjonjb4eK+p3Oo6pLrMbXE97dF5GXzI8EJ91FznhVAra+OM0U3in4bSRSJIn9vKNysCOJIwefqMVK15f8AFb8v8y7b/wCG/wCf+RvL408daCviPVfG/hqyt9E0+zNzZtYXHmSSNx+7YknJ55baoGO4rK1j4heN9F+GVn4+mi0SaxmWKabSxbTJLHDIQFxMZCC3zLn5AOa7j4i+Lf8AhBvAOpa+LYXT2yKI4ScKzswVc+2W5ryX4mWa337PkniTxFrkmpapqMNtNbr5/l28Rd0YpDCpCnC5GW3NwTmpbaTa6W/r5jSu0n1v+n5HqXiP4hWeg+DtN1qK2ku7jWDDHptirBWnllAKKT2HPJ7VzvjHxr43+H8GmarrFnpesaddXCwXdtptpMk1sWGQVcuwfoRyq5OBxmuF+JV82leDfhX4jj/f2mivavdpGclMxRsuR2yEbGfWva7rxv4ftvC668mp289lIgaAxSBmnY/dRB1Lk4G3rmtZJRlK3SVvlp+ZnF3Ub9Vf56/keW/HC/8AEyeLvBVvZ3dpFpl3q0LQW7I+55lZCGmPdQW+6Pr1xj0HWfFeqeGNI0+DVorG98Qapd/ZbK3tC0ULsedzFslVUZLHn261w/xvkY+J/hlNOnkk60hdS2dh3RZGag+PN5Z6f4o8Fa7qdtDqWi6dfy2+owuizIhdUOGU5GdoJAPoKzjorf3v8v8Ahi3rr/dv/wClGx4v+Ivij4bX2l3vij+xtU0K+nEE0mnQyQzWrEZzhpHDjAJ7Zx2qT4g/FDX/AAj4x8OabZaLaXWn6zOFjmSZpJplBUFVTChGO8YJLDntWjeQfCq18Of21Fo3hi6tnUG3EFlbs1w5+6iALksTgY65rmPi7hfij8KR5YhA1Bh5YxhPmh4/DpVRV5xi+/8AX9feS37ra7P8P6/yNi48feOPCuj+JdY8feHdOt7CwRG09rG43eezttCMSScAkZbavfANad7rPjjTbXR9RE+g6rYX13bRXP2W0ljaCOV1XejGVhIPmxnC9c47V0HjcaHJ4RurfxXF5mlXTRW04JxjzJFRWzkYwzA57YzXiut6H4s+AMltq3hnXJtX8JvdJFNpd4ctEGPRe3P95cc4yCKUfiSfdL/gP17jeza8/wCl6H0TRWdceIdIs9StdOvdTs7a/vF3W9pNOqyy/wC6pOT+FaNAHF694vvP+FhWXgzQ5rG0vp7Jr6S6vomlUIG2hEjV0LMcE/eGAOhqXQtX8WNr2u6Vrtpps0ljBDLYzWoeFLoP5mS24uU5TGPmx75rD+IXgTw98RvEQ05r240rxNplolzbX1uQGWN3cDjOWAZD6EZGDyazPhZ4g8Y6b491X4f+ObpdVlsLQXdtqK8s8ZIADHqc7u/IIPJ4ojrp11+f/DL8mEtNemny2/P9Q8J/Ezxv4v1fxPpNjoOlQ3+k3Qt42lnf7PBguGMjj5pCSvAVV75xSeGfid401DxDrfg7U/D+nS+KNOKmOS2leOz8s/8ALRy25gBlSMZLbsYGCag+CR/4uN8T/wDsMf8As81HhD/k67xv/wBg6H/0GGnFXlFd43/BMJac3k/1sa/hL4geKB8ULnwP49sdLjvWtPtdpdaUZPKkXuCHJPrzx908d6uQeM9f8T+P9e8OeGBY6bDoKos93qFrJcGeRwSAqLIgVeDySc+lc5qR/wCMwNJ/7ATf+1Kv6D4kufiX468TabNqM2laLoE/2drSzl8me8YFlZ5JR8yp8hwEK9eTSWqT8n+DtcHpzeq/FJm18L/H194yXW7DXLO3tdV0O9Npcm1LeVJgkBlDZI5U8EmuX8A/8nL/ABC/64Qf+gpVL4BSafb+LviFHZTQi1OrqlsVl3B13S7dpz83A981d8An/jJf4hf9cIP5JTj/ABYv+6/yRM/gkv7y/MLr/k8Cy/7AB/m9ey141dH/AIzAsv8AsAH+b17LSj8C+f8A6Ux/bl8v/SUcP4p8d3Fj480fwV4fit31fUkaeSe6VmitYVDHcVUgux2tgZH1rA1r4jeMPC/xEsfCV1pOk6zNqsfmWF1HM9irYzuRwfN+bjsccj1qt8RrGK3+NPhTWdAvrRfEiQyK9leS+VFNagNkmTkqfmZRgNknphTWyvg/UPFfxN0vxd4gaytbfRYWWysbS4M7PI2cvI+1QAM8KM9Bz2ojryvzd/TXb8Pne45aXt2VvX+vwsZ/jD4n+KPDHxA8P6CfDtm8OrZ2+VctNLKQMbBwoT5iPmO4Y547aFn438V+G9G8R6v8UtIsNOsNO2tZSadNv+05JGwAsSTnaMkL16VhfEwgftA/DTJx88/9KtftJ6de3/whmkslZ1tLuK4uFX/nmMgn6AsD+FRzfuubza/FfkUlery+Sf4P8zVu9c+Iy+Dv+EntLPQz+4+1HRGhlabysbtvnhwDJjt5eM8c0h+JkuvfCG48beEBaq1nBJLc2d9GzlWQZaPcrDB7g4OQRwK6nwvrllrfgPTtYglQ2s9ksjNnhcL8wPpggg/SvD/hrpFzbfs2eOLwxstvqK3k1ohH3o1i27h9SCPwq6nu+0S6K6+/+vuJp+8oN9Xr939feer6D4r1rxJ8I7TxRZpYW2ozWr3Jiljd4Tt3fKMMCM4HOTj0NYvh74na7rfwUl8ax6NZz3kIneS2W4aKMJHnJBIYk4HTjPqKj+G2o2dt+zVYXNxdRRQx6dMjyO4AVtzjH1zxiuc+FzBv2TdWAOStpqAPtw1FXSVVLotPvYU9VTv1dn9xf0r4j/E7xb4Ctdc8JeF9LdwjtcPdM6rMwdhsgj3gnAAyxbBOQOldB4D+L1p4r+HeqeIb+0Npd6KjnULSM5wVUtlc84IB4PQgjtml+ATq3wQ0HawO1ZgcHofOeuN+FMNlZ/8AC0vEl9B53h24vpwFVQVmijMrSbR0I2uBVVFaU4rs3+K/zFB3UZPvb8/8jqn8WeOLr4cL4z0ZtAvIZbb7UNNW2lLxx9SPOEuHdR1GxckEcV6bGxeJWPUgE189eIvAuu/CXTJvGXwr8RSPoaBbm40m6fzImjOPmXswwR6MB0Y17t4e1U674Z0zVjCYDfWsdwYj/BvUNj8M0aNO3T8A10v/AMOaNFFFSMKKKKACiiigAooooAKKKKACiiigAooooAKKKKACiiigAooooAKKKKACiiigAooooAKKKKACiiigAooooAKKKKACiiigAooooA5P4of8k41P6w/+jkrrK5P4of8AJONT+sP/AKOSusoAoa9/yLmpf9ekv/oBqj4G/wCSeeHf+wVbf+ilq9r3/Iual/16S/8AoBqj4G/5J54d/wCwVbf+iloAo+Jvhn4V8ZXCTeJrC41AxkmNH1C4VIyeu1FkCr0HQVv6ZpdvpFktpZtcGJfu/aLqSdhxjG6RmOOOmauUULRWQPXcr39haarp81jqVvHdWtwhSWGVdyup7EVwejfArwBoWvJq1loxaeJ/MhSed5I4m7EKx5x2znFeiUULR3QPVWZk+JPC2jeL9HbTPEVhHe2jHcFfIKN2ZWGCp9waytL+HOh6beWl1K+oanNYnNmdTvpblbY9MorEqDjvjI9a6uihabA9dzxX9pYQSeHvDENztMcmtxh1Y8FdrA/hzXfR/DfQfOtWvG1DULezcSWtpfX8s8ELD7pCMxBx23Zx2rU1Twh4a1u6+06z4e0vUJ8Y826so5Wx9WBNaNlY2unWiWun20NrbxjCQwRhEX6AcCiOifrf8F/kD1fyt+f+ZmeJ/COjeMdOFh4it5rq0zkwJdywo5zkbhGy7sEAjOcU/TfC2j6V4eOhWtq8mmGPyvst1PJcLsxjZ+8ZsLjjHSteijo13DzPOdO+A3w90vXk1W20QtLG/mRwyzu8SN6hSefocivRqKKOlg63CiiigAooooAKKKKACiiigAooooAKKKKACiiigAooooAKKKKACiiigAooooA5P4bf8incf9hjU/8A0umrrK5P4bf8incf9hjU/wD0umrrKAOa1/4feHPE+q2uo63aXNzdWb+ZbONQuIxA3B3IqSAKeByB2rooYlghSJC5VBgF3Lt+LEkn8afRRsrB1uc34l+H/hzxfcW83iG0uLt7Z/MgAv7iJYm/vKqOADx1xmq978NPDmpWr2upf2xeWz/fgudevpI3+qtMQfxrrKKNgMXxF4S0bxVpP9ma5byz2OADbx3UsKMAQQCI2XOCB1qbS/DmmaPoY0eygkOniPyhBcTyTqExjZ+8ZjtxxjpWpRR0a7h28jn/AAx4H0HwbE8Xhu2uLOBySYDfTyRAnkkI7lQfcCugoooA5Px708Nf9h+1/wDZq6yuT8e9PDX/AGH7X/2ausoAhuraO8tXgmaVUcYJhmeJh9GQhh+Brk9J+FHhDQtZl1bSbG8tb+YkzXCard7pcnJ35l+bJ55zXZUULR3QbqxybfDPws3ij/hIzaXn9sdPtg1S6D4xjb/rMbccY6Uuo/DTwvq3iSLX7+0vJdUgOYboandK0XJOExIAo5PAwOa6uija3kG5zHi/4d+GvHVrBD4jsPPe2/1FwkjJLH9HByR7HI71kN8FPA0zWL3mlSXj2bFle5upJGkJx99i2WA28LnaOeOa76ihabBucprvwy8J+JJrOTWNNll+wgC0SO9nhjt8YxsRHCqeByAOldPbwJa20cERkZI12gyyNIx+rMST9SakooAy9B8N6X4agu4dGtlt0vLqS7mAP3pHOWP/ANbtVDxV4A8OeNlhXxPZTX0cJ3RxfbZ441bn5tiOFzyecZro6KAMa+8J6LqnhlvD+qWhvtNZdpiu5pJm9jvZi+R2OciuTh+BXgaLSJtNexup7aTG1Z7yR/JG4NiPJwmcYJHJGRmvRaKOtw8jn4/AnhmHwnN4Zh0a3TR502y2yg4fpyWzuLcD5s54HNc/ZfBLwRYaJeaXDp0zw3iCKSSW5d5FTcG2IxPyDIGduM969Aoo31BaWt0OVl+Gfg+Xwg3hg6HbrpLEMYULBtw6Pvzu3e+c1m/8KV8Bnw6dFfRA9s0iyF2nkMpK52/vN24AAkbQccniu8ooA5TVvhj4R1zRLPRtR0pn02yA8i0iu5oolIzyVRwGbk/Mcnk81Lqnw+8O6z4ftNF1O2ubixspVmt1kvp2eN1UqpEhffwCcc101FAHN6f4E0iy1a21K4kv9TvLNStrLqV49x9nBGDsDHAJHG7G73rlNW+H+k6l8YLDxBo1hdRanb3S3GpagzOsIVYyojUHhmbK525ACnOCefT6KFo0+wbpruFclqvww8Ka34gi1vU7O8n1KE5huf7UulaHnI2bZAFGSeBiutoo63DpY5bxF8N/DHiw23/CRWd1fC1A8lX1K5AQgY3ACQDd/tdT61qX/hnSdV8OvoWq2pv9PddrRXcrzM3OQS7EtkHoc5FatFHSwdbnCeFfgz4I8Hax/amj6UTernypbiZpfJz/AHQxwD79fetjxd4C8OeOY7VPE2n/AGo2jl4HWV43QnGcMhBwcDj2ro6KN9w22OY1j4deF9d0G20TUtNd9LtQBFZxXc0MYx0JVHAY+5ya0rTwzpNn4dOgratPphj8o213M9wCmMbcyMxxgdM4FatFHfzDt5HD2fwi8LWVt9ijXUZNKD7xpUuozPaA5z/qi2CM84OR7VveIvCOi+K9IGl65bSTWAwDbRXMsCMBjAIjZcgYGAelbVFG6sw2d0c0vw+8Or4WPhxYL0aQV2fZf7TucbMY2Z8zO3H8Oce1R2nw28K2XhS48NQ6a7aNcDD2c13NKi85+Xe52HPOVxzzXU0UPW9+oLS1uhwdt8FfAdroF1o6aLvt7oBZHknkeQAMGAVycqMgHC4B75rQufhj4SuvCsHhuXS2XR4OVtIruaJXOQcvscFzkA5bNdZRRuGxnaFoOn+G9Kj03SEmjtIgFjjluZJtgAwFUyMxAHoOKu3FvDd20lvdRJNBKpSSORQyupGCCD1FSUUPXcFpsedWHwG+Hum68uq2+h7pUfzI4ZZ3eFG9QhOD9Dke1dJ4q8CeHvG0MUPiazmvYIiGSEXk0UYIzg7EcAnk8kZroaKOlg63OZ1T4e+Hdb0CLRdWgvbvTosYgk1O5IbGCNx8zLYwMbicdqg1H4YeE9V8JweG7/TpJ9NtmDW8ct3M7wEDA2OzFlGOMA49q62ijcNjhZ/gx4DudGttMn0NWgt5hMrefJ5jtjHzSbtzDHGCcDtirmtfC3wh4gezbVdLllWwULaRx31xFHbgAAbERwq9ByAOlddRQBnXmgabqPh+XRNRga80+aPypIrmV5S6+7sSxPvnNcpZfBXwHYaNd6ZFogeC8TZI008juq5DYRicpyAflxnHOa7yigDn7HwJ4Z0/wi/hi20i3/seRSJLZwXEme7E8luBznIwMdBWD4a+CngXwpri6tpWkE3cZ3QtcTPKIT6qGOM+5yR6131FO7vfqK2luhheLPBeg+ONLTT/ABNYi7gjkEseHZGRumQykEcGlHgvw6PCZ8MnSYH0crtNq4LA85ySTktnndnOec1uUVNlaw+tzgfDPwU8DeE9bXVtJ0ljeRnML3E7SiE+qgnGfc5I9a1PEHw18L+KdXg1PXbK6ury2IaCT+0bmMQnIOUVZAEOQDwB0rqqKfbyAyNZ8L6V4g8NvoOswSXenSBA8ck8hZwrBhl9248gc5zWVbfDfQoZbM3L6jqEFhIJLS1v7+WeGBh91grE5I7bs47V1lFGzuHSx5h8R/h/pHi3xVp11bWF0/iGNoAL5GdYbWFJd5dj90tgMFXkkt0wMj0+iihaKwPV3Oa1vwDoeveIItduReW+rQwiCK9s7yWB0QEnb8rAEEsc5BzVjSPB2k6N9tktVuJLvUABd301zI9xNgYGZM7gAOgUgDtW7RQByug/Dbwx4Y1O51DQ7O6tbq7Ja4kGpXL+cTnlw0hDHknJ5yaSw+GfhfTPEsniCytLyPVZj+9ujql0zSjjhsyEMOBwcjgV1dFGwbnJy/DLwtP4oXxHLaXjaunC3n9qXQdRyNo/eYC4J+Xpz0qtqHwh8E6n4pk8QXuiq99Md02JnWOY+roDtbOOQRg9812tFG1rdA3OW0r4a+E9E8TXmv6ZpEcGpXhJeYO3yZ67BnCE88rjrTdM+GnhfRvEc2vadZ3cOqTnM1ydTuWabkHDhpCGHA4II4rq6KFpsG5ycvwz8LTeKP8AhI5LS8OsDpeDVLoOBjG0YkwFwcbentXWUUUdLB1ueFeNbvwH4r+Md3onxKhi02HS7NEsZ7mRrf7Wz/MzGUEAKvRQTjJY+wzdV+HXwutY8/D3W5pfE7f8gyPSNUFxIJf4S2N21AeWYkADPNe76toGj69EsWuaVY6lGnKrd26ShfpuBxTdJ8O6LoCOuhaRYaar/fFpbJFu+u0DNKOiQ5O7uYOo/DHw3r2p2mr+ILW6u9WtlUpcrqVzH5TjnMYWQBOeflArqvskDWP2SVPOgMflskxMm9cYIYtktkdc5zU1FPpboJaHDW/wg8K2aT21mupW+m3DF5tLh1KZLVyeuYw2MHuOh6YxXYx2FpDpy2EVtClmsXkrbqgCBMY27emMcYqxRR0sHW5wej/BfwRoV/Nd6fpbh5NxRJLh3SEsMEopOAcHg8kdqrap4E8M+BPhT4mh8O6bHZhtKuPMmZi8kn7s9XYk/h09q9Fqlqmi6XrlsLfWtNtNRgU7hFdwLKoPrhgRUyTcWl10Ki7STZ5F8FfBGlat8HdKuDd6nbi8WUXkNnqMsMc5EjL8yq3B2gAlcEjrXqo8M6OnhZ/DkFjHBpL27WxtocoPLYEMMjnnJ5685p+k+HNE0ASDQtHsNNEn3xZ2yRbvrtAzWlWk2pN+ZnFOJxcPwq8NQ2KaaP7Sk0iNgy6VLqM0ltwcgFGY5XPO0nb7V2aIsaKiKFVRgKBgAelLRU3KCiiigAooooAKKKKACiiigAooooAKKKKACiiigAooooAKKKKACiiigAooooAKKKKACiiigAooooAKKKKACiiigAooooAKKKKACiiigDk/ih/yTjU/rD/6OSusrk/ih/yTnU/rD/6OSusoAoa9/wAi5qX/AF6S/wDoBqj4G/5J54d/7BVt/wCilq9r3/Iual/16S/+gGqPgb/knnh3/sFW3/opaAL+sa1p3h/SptS1q8isrOAZkmlbAHt7k9gOTXMwfEO4v7IahpPgvxHe6cRuW5WKCIyL2ZI5JVkYHt8ozXmnxDvW8aftJ+G/BV2S2kaey3M9ufuyybDIdw7jaFX8W9a9/AwMDgULWPN/WgS0ly/1qYXhbxlovjGzlm0W5ZpLd/LubWZDHNbv/ddDyp4Ptwa3a+f/AImXj/D/APaJ8M+ItMPkxa0i2+oRrwJhvCMSO5wyH6qK7fxH8YE8OfEKx8LXPhvUC14rslwXT99gNtESKW3FmXaNxXGcnihNOKa63XzQNWbXaz+TPSaK83tPi3LZ+Gdc1nxv4W1Dw1HpUyxRxzN5huy2dojOFBOfTK85zS+JPibrHg7w/aeIPEnhQJpNwVEn2LUPOuLYsMrvRo1XnocOcHjmj/gfjsH9fcej0VwmrfFSx0PwCfFGraNqVkkkyw2tncCMSXLMMqVKuyhSMnJPY8dM1tV+Jeq+Fda0S28YeHILOz1qYW8N3Y6ibjyZDjCyK0SevUEjg9adne3y+Yr6XPRKK898e/FaPwJr+kabd6FeSxalcrCL5pFWFRlQxUDczFQ3QqM9jVDVvjDqHh7X9Nj8Q+Cr7TNC1O4Fvb6nPdR79x6F4VyU9cMQcZ44xSXvbeg3pv6nY+N/FEvg/wALT6xBpF1q7xMi/ZbQZc7jjPQ4A+hrYsLo32m2120EtsZ4lkMMww8eQDtYdiM4Ncp8SviEfh14dbVW0O71OMEKXikRI0YnADsSWGT6Kat6x4tvbHQ9Eu9L0R9TvNYkjjjtEuFiCbomkJLsMYAU9qI6p+qB6NejOoory/xj8WtY8C2dtPr/AIQjVruXybeCHVlkllb/AGVEeT2/MetbGu/EZ9Ch8O2c+jOfEHiBglvpjXAVYm43eZLg4C5GcKTnoDQtdu9vmG2/qdxSM6qyqzAFjhQT1OM8fgK4Sx+It3B8SLfwX4p0WPTr68tzcWdxaXhuYZwASRlo0ZT8rdu30ri/Efi3xc37ReiaSujRPBa2s89nZC9VftAZHUyu+CAcKcLjgd+aFq0u9/w/4YHon5fqek+O/GE3gvRre/g0K+1pprpLcw2S5ZA2fmPB9Me5IHFdMrbkDYK5GcHqK89+IPxSuPh/othd3/hi6nlvHSIlblBBFIwJKF+WJGD0TBx1rpvFni7TvB2hDUtU8xzJIsNvbQLuluJW+7Gg7k0dPn/lp/XcOq9P6Zu0V554g+I2t+DbO31Xxb4TW30aV1Sa5sdR+0yWm44BkjMajr/dZh9eM2PH/wAUIPBXhGDxBZ6Rca1ZXCo0VxBKiQ/P93cxJYZ9lP4Um0lf5DSu7Hd0V5X4i+MWqaJosOv23ge+vPD2IzPqTXSRY3YGUjILsuTgMQoP0Oa9K0zULfV9KtdRsX3213Ck0TYxlWAI/Q1Vnr5E3WnmWqKKKQwooooAKKKKACiiigAooooAKKKKAOT+G3/Ip3H/AGGNT/8AS6ausrk/ht/yKdx/2GNT/wDS6ausoAKK878a+NNSbx5pPgHwpMttqeoIbi8v2QP9jtxkkqp4LnacZyBxxzV7WPB+r2OjzXnhfxNrA1e3jMkYvrn7RDcsBnY8bDaA3TKbSM5FK9o8z2HbXl6nbUVx3w88aW/xK8CR6miPZzlmt7uGKQq0Mq4yFYc4OQR7GuG+HEeveLdU8YW2oeMtdi/snVZLO0aGWL5UBbBYNGdx4FU01K3lf8v8ybq1/O35/wCR7VRXmHwf8ba54hvvEugeJZo7678P3n2cahHGIxcLudeVHAPydvX2ybnjHxjqdx4707wF4QnS21O7iNzfag0Yk+w247qp4LntngZHHPC7W6/8OPvfoeh0Vykvgi4is2OmeKteg1AL8l3Peeepb1aJwYyPUBR7YrQ8HLq6eENPj8SMz6rHGUunb+NwxBb6HGR7GgDO8e9PDX/Yftf/AGausrk/HvTw1/2H7X/2ausoAK5bxB8QtG0DWItFVLvVdalXcumaZD50wX+83IVB7sRWj4u1weGfBura1tDmxtJJlU9GYKcD8TivMP2btNa58J6l4t1Jjc6trV9IZbl+WKKcYz2G7cfy9KI+9Jrsrg9En3djtLr4irotubrxZ4b1rQrIcteSxxXESDtuMDyFfxAHvXReH9btvEnh2x1mwDi2vYRNEJBhgp9RV24t4ru2lt7mNZYZUKSRuMhlIwQR6Yrk3vNI+Evw6hTUJ5HsrDMNukaZkl3OfLiUZ5bBA/DPFF+/9f1oFm3odhRXnuvfETxB4T0mLW/Eng8RaMzKLiS01ET3ForHAMkXlqvUjO12x61b8Z/E208LeBY/FWn6Zc63p80ayJNbOiRqGIClyx3DJIHCnHfFJuyuC1dkdvRXlur/ABc1qz8I2/iXSvAt3qGk/ZY7i7umvEhWLcoLbFKl5FXON20DjI45qxc/FjUNQ8Nxa34G8G33iCz+z+fcTPcJarFxlkXcCZGXkEICAeMk8U37t79P6/pgtbW6npVFcVpPxMsta+GS+MtO0u+uoRG7S2cGxpYimd4O5gCBjr1Ixx2rlbL45ajrvhOPV/C3gTUNXlBkNzDDcYS3VWIAL7PmcgbtiqcAj2yPRtPoC1Sa6nr9FcP4H+KuieNvBt5r8YexGnKxv7eU7mt9q7icj7wwDg47HisZ/izq8vgSTxvp/hSKfw8hZsvqWy6aJX2mTyhEVABB435ofu7gtdj1GiuN1r4j2umfDiHxlYaVfanYzWwuQsOxTGhA5fc3GM4O0N9K5p/jHrFz4Hg8S6D4Fu9TtFtvtF9L9sSGO3A5ZULLulK45KrgevBAHo2n0Ba2t1PU7iY29rLMI3lMaFhHGMs+BnAHqawPAviyXxn4bGqz6LeaMxmeL7NeLhjtP3hwOD9OoNQ6d47ttY+HcHi3SNOvL6GaEyi0g2eapXIZfmYDgqR1+mag+Hnj+Hx54LfxG9mNMgWaVCkk2/aqfxFsDHHPt609nJPp+Ar3Sa6nYUV5/efEPXZvDc3iTw54SGo6JEjSpJNf+RPcRLnMkcXlt8uASNzAkduasQfFjQLr4Zf8Jrbec9pkRfZsASiYsFER5wDuI5zjBz0pDO4orirvxf4l0jUdIh1rwvapbapdx2ouLPUzN9nZunmK0Seh6ZGeMjjPa0dLh1sFFFcf4n8ero3i3SvCulWA1HXNURpY4ZZ/IiijUEl3faxH3TgBSTijrYOlzsKK4bw98RJ774gXngvxDo66Xq9vbi5iaC6+0QXEfHKsUQg89CvY1a1Hx3/xXI8IeHbFNS1aO3+1XRmuPJhtY+MbmCsSxyMKF78kUdvMO/kdfRXmtn8XJz40uPCOoeEdSGt2xDSJYTRTxeUcYlDuYyV+YH7uRXR6l4tuD4im0DwxpqarqdrEst2ZrnyILVW+4HcKx3NgkKFPHJxR0T7h1a7HT0VwPhb4oDWvEmq+GNa0WbSvEWmIZWsUnWZbhMA5jfCg5BBwQOo98ZWkfGifXdc13R9M8HajLqelyLFFZGaMPK2WDGRv9XEqlRzubORjNH/Dgep0VwfgD4lyeL9a1fQtZ0OXQdc0kgz2b3AmBU/xBwBnt7cggnNXJPG13qmvahpHgzSodVl0thHe3V1dm2t4pSM+UrBHLuO4C4Hc5o7feB2Fcv4V8ZTeJdc17T5dBv8ATF0i58hJ7pcJdDJ+ZePbPfhgc81neBfidb+NLbWIhpVzaavospivNODrId2SBsc7Q2SpHOOn40fD/wCJI8eax4gsRo0+lnRZ1gYXEqtI7EuCCq8Lgp2ZvrQt/lf8tf67g9vn/SO5orjpfGeqapc6hH4J0KHWItOlaCe5ub77LHJMv3o4iEcuR0JO1c9zzVbwd8VdI8VeHdW1G5gl0q40Tf8A2nZznc1vtBJII+8PlbnA5B4pXVr/AD+Q7a2+R3VFed3nxE8Q2/gseLYPCUFxpEkAuI1TVP8ASRE3Ku8flbQMEEgOxA9a9CRt8atjG4A4qrNCuOoorgviP8Uovh21iLrRLu6jvJ1hW6MiRwIT1y2S2QMnG3HB5pAd7RXkPiD46Xnhu8gu9S8CarD4bnlCR6tLIEZgejeVt4yOQGYEj8q73XfHGiaB4OXxLdXBmsJkRrbyF3Pcl/uKg7k5/wAaOlw62OhrB8ZeLIPBfhy41i7sL6+hgUs6WcQYqB3YkgAe9c3r3xE8QeE9Ji1vxJ4PEWjMyi4ktNRE9xaKxwDJF5ar1IztdsetW/iHqVnrHwQ1/UdNnW4tLrSZZYZU6OpTINRUbUHJdCoWckn1Nnwx4oXxL4Gs/EkNlLGt1bGdbVW3vxn5QeMk4qLwL4sl8Z+Gxqs+i3mjMZni+zXi4Y7T94cDg/TqDXN/DbVH0b4BaDfxafdaiYbDcbe12b2ALE/eZR29fzq/4L+IN346+Hs/iPR9EC3PnSRQWUl0BvKkAFn2gDrk8H8a1nZTml0/zMoNuEW+v+R26urMyqwJU4YA9D15rmLDxlNe/EbUvCzaDfwRWVusw1ORf3ExO35Qcf7XrztbpivO/gd4r8U67Frl7qGlR3i3WsyNdXa3YTyCI0GxYyCWAAAHNdh4b+Jp8Q/E3U/CD6DdabJptr58kt3Km9jlMDYm4YIcHO4/Skldr0v+F/w/Et6J+T/Wx3lFcnfeNJZvFFx4c8K6dHq2pWcayXrzXP2e3tA33VdwjkueoUKeOpFUvBPxLi8U+ItY8OalpraTrmjsftFv53nRugON6PhcjkdQOopLXYHpudzVe/vPsFjLc/Z57nyxnyrdN8j+wFef2fxQ1PxFpWsax4N8OQalpWlSyRNLc6ibeW5KLuby0ETjGDxuZc+ldR4I8YWXjvwhaa/psckMVxuVopcbo3UkMpx15HX0pataf1fYNnr/AFYz/h18Q7X4jaZqF/Y6fcWMVneG1CXJG9sKpyQOF+9jGT0rsK8a/Zu/5F3xR/2Hpv8A0Fa9fu52tbSSZLeW5ZFyIYQN7+wyQM/UinpZPyX5Bb3mvN/mTUV5Jpfxyn18arb6B4L1K91OxuTClgJlDkD7zytgrEARgDLEnp0ONn4b/Fq18eX9/pF7pU+h65p+TPYXD7jtBwSDgHg4yCBjI60LXb1B6bnoVFeeWfxK1LxI2tzeCfD9vqdlo0zW8k13qBtmuJFGWWJRE+fYsVzmtHwt8R7Xxb8P/wDhKNJ0q9nKlkksIihlV16qCzKp7HORwemeKV1a/wA/kx9bfI7KkLqrKrMAzfdBPJrxvT/j1f654Wl1fw54D1LVXguzDPb2827yY+NrEhCSxyflUHAGSRkZz5vGXjG9/aEs7N9ATFrpUktrpjXqodsmMyO+CN3y4244/PL6pf1tcluyv/W9j03xv4xm8HW+nSwaDf6yb27W2K2S5MQP8R4P4DjPqK6ivPvHXxRn8Df2RHeeGrqaTUpo4PN+0III3bG5dwyxIyf4QDjrXTeJfE9t4bt7UPBLeX1/MLeysoMb7iQjOATwAACSx4AH4UdPnb8tP67j6/L/AD1/rsbdFecap8Ub/wAJ+JdM07x14ei0yy1V/LttRs7/AO0xq/HyyAxoV6jnkfXBNb2q+LrlPFy+GPD2nwX+qLafbJzdXZt4oYi21csEdixPYL9SKP6+4DqaK5nwr4o1DXNV1jTdY0T+ybrS3jRgLnzkm3qWDI21crgemeuQMV01ABRUF7cPaWcs8VrNdui5EEG3e59BuIH5kV5LY/He91nTdYl0HwNqWoXumXPlPYxzDeqDgu+FO05yAqhicHsDSur2HY9horkJPHUrppFjY6LPL4g1S0F5/Zc8oi+yR4G5pnwdgBO3hSSeg64ztK+J0q/EJfBfi/RRouqzx+bZSQ3f2iC6Xno21SD8p4I7H2zVnexN9Lk7/E+1HxUs/A40i/jubmN5ftVwojj2qrEFByWBKEZ4/GtHxT4ym8N69oOmxaDf6kur3Bhe4tVylqMj5m4989uAT2rgPEf/ACd14V/7A8n8p66rxb8Tz4W8baF4dfQLuU6zdLbx3skqJFgsoYrgszEbhwQv1ojqod3+OrQ5aOXkv0O9ormPGnjiz8HRWEUkEl7qWqXK2thZRMFaaQkDljwqjIye2ehrnvEnxT1DwTrOnWHinwu7DVDss5dJvRcB5cgeWwkWLafmHOTnNLf8gOk8deLZfBnhv+1YNFvNZbzki+z2a5Ybv4jwePw6kV0EEpnto5TG8RkQMUcYZcjOD71wHjz4rS+B/CVrrdx4U1OT7TtXy5pIoxA5zhJCGYg8E8Aj3FdTr/irTfDHhWTX9bkMNrHGrlVG5mZuiKO5JOBRsm33/pBu1bqjaorz3WviF4j8OaCniHWPBe3RvlefyNREl3bRn+N4vLC9xkCQ471b8UfEiPRfh+njPRbGLWtHMayMyXXlOFZgoIUoc4JwQSCPSh6K7BatJdTt6K5LUfGtzbfDWHxhY6St1CbFb+a1e68t0jKbztOwhiB9P6VWg+J1g3wpt/HF3ZywQXCAx2iuGdnZ9ioG4HJxzxim002n0BO9n3O2orirvxf4l0jUdIh1rwvapbapdx2ouLPUzN9nZunmK0Seh6ZGeMjjPa0ulw62CiuW8V+OYPDmr6TolpaNqOt6xIUtLMSCNdo5aR3wdqgZ6Ak44Brn9Y+K974X8WWvh3xF4UuJLzUF3WDaTdJcJcdcr+8EW1hjpz1HrQtQeh6TRXmviz4xL4S17QtO1DwzqUK6s6jz7h0UIPl3BVQuWddwG3jJ6E1e0D4j315ca83ivwrfeF7HSIhMLy9fckqc9wuN2BnClvTOep0v6/huH9fed5RXn7/EDxHP4XPifSvBn2nRvL89Ek1Hy7ySHr5ghEZXGOQu/JHarsfxGttW+HEnjDwrarqdrDE8s9vLP5EkYRcuv3WG8Y6cA9QelD0Tb6AtWkup2dFcl4Z8a3Hi34c2/ijSNJXzJ1dlsp7rZwjMpG8Iefl44/EVQ8I/FBfFnw9uPFNtoN7i3mkiNlbuksjbACSCxUd6Ho2n03Ba2t1O8oryDS/jnfeI/DLal4U8Dahq90kjiW2inAWGNTwWk2/fbqEUE479M9L8PvitpHjzw3fakIn02fTM/b7SdtxgABO7OBlcA84B4PFGybfTUDuqK87l+Iuvt4Lfxfp3hOG70XyWuIlGp7bpohn5zH5RUcDOA5IHvxXf2k/2mygn27fNjV9uc4yM4p2FdaEtFFc94q8Vp4cfTbSC1F7qerXP2aytjKIldgNzMz4O1QByQCegANIZ0NFcha+Ldci8YW+ga94citjcWktzFd2d8biKTyyoKDdGh3fMOCB9T25pPjd5/izV/D1r4R1STUtPUCG03p51xIT0IXKogHzFyxGCOMkCjrYOlz1SivMvBPxjHiHxlP4T8S+Hrjw1riKWit55vMWUAZIDbV5xyOCCAea6LV/Gxh8WL4X8O6eNW1oQfaJ0efyILWPOAZJNrEE54UKx78Cjt5h38jq6K4XSviUf+E5/4Q/xbpP9iaxKnmWbJc+fb3i8/ck2qc8HgqOhrN1r4xDRviNB4Sl8MaiZ5oWkidpE3TnDbBGikghmXGWK45JAAo7eYd/I9M6UiOsiK8bBlYZVlOQR614d43+KHjSf4T65fR+Drnw5NBMbSea8nyY0Yqu+MFVLklsZHA65Ndb4f8Y3Phv4TQaz4p0j7DYafplsYXiulma5yiqoC4G0klep/i9qFqm+1vxDql3v+B6LRXD3/jLxNo/9lzat4UtRaajdwW3m2mqGZrbzWCgyKYlHf+EkZ4z3ruKdhXEd1jALsFBIAJOOScAUteKfF3xT4ns/iN4O0az02P8As6fU0miH2kK19JGy/K3HyKCw65yee1eiah4wl0XR7GTWNKePWNQn+z2mlW06yvNJzgB+AAFG4seAP1S1jzedvyG9Hbyv+Z09Fecap8Ub/wAJ+JdM07x14ei0yy1V/LttRs7/AO0xq/HyyAxoV6jnkfXBNa3iDx9/Z/jax8IaHp66jrd5A1yVnuPIhgiGfmZwrHJwcAKfwo7AdjRXD+FviJJrHjbVfCGuaR/ZetabEJysVz58M8Zx8yPtU/xLwVHWswfGIn4i3nhL/hFdTW6trUzIhdDLO/y7VVVJUAhs7mcAAc4o7eYd/I9Loryyz+M1zZ+MpPDXjPwleaJfvB51lHBcLeG664VdgA3HBxgkZByRU9v8WdSsvHemeHfGHg648Ppq7FbC6e+jnEjdgwQYU5IGNxwSO3NC1aS6/wBf0gel79D0yiuW1Xxdcp4uXwx4e0+C/wBUW0+2T/ars28UMRbauWCOxYnsF+pFP8K+KNQ1zVdY03WNE/sm60t40YC585Jt6lgyNtXK4HpnrkDFC11/rsD0Ifih/wAk41P6w/8Ao5K6yuT+KH/JONT+sP8A6OSusoAoa9/yLmpf9ekv/oBqj4G/5J54d/7BVt/6KWr2vf8AIual/wBekv8A6Aao+Bv+SeeHf+wVbf8AopaAPGfiBbN4M/ad8N+LrwFNL1LbBJOfuxybDEQT2wCrfn6V9B1meIfDmk+K9Fm0rX7KO8s5vvRvwQezKRypHqOa5u18B63ptmun6X491iHT0XZHHNBbzTRr/dWVkz7DIJFEdI8v9ahLWXN/Wh5z8VLJvHP7QXhLw5pw83+ykF1fuvIhQuHIb0O1F/77FbHjQA/tT+BMj/lxn/8AQZa9F8K+CdG8Hw3H9lRSyXV2/mXd9dSGW4uX9Xc9foMD2rG1r4WWeueOLPxXceIdbh1Kx4tPIa3CQrk/KFMJyPmI+bJ560R93lXZtv53B6qb7pL7in8dfDkPiT4V3sct/DYvZyJdRSTEhGdcgIcZOW3EDAJyRWP4ttPFfxF+GNt4XPhi60vULzyBe3N5JEILcIVZmBVyzZK8ADPPOKufGu70Sbw/o/hPxDcmI65eJEl7LII1twhBaViMLnkADgZbsBWa/wAEjaWpubH4oeKbO2RNwlbUPkVfXIKjFSkrO+1/ysU3qrb2/M2/iBq2keA/AWiaTdaTb67O8tvYabbXqqY2mUALI5IOAMZyOece9cT8adK1a0g8HXmv63Jf3cuuwq0MUSxW0PciNOWP+8zMfp0rpdN8ED4l/C9NM8Zapc6iLW/kbTdZhAjmmiUlUl5yDkZGecjBz0NXNW+Buja7otpa6xr2vXt7azLLHqc95vnUAfcXIKqvfgZyASTird+bmfdP5aP7+5nZcvKuzX5r7jH+Ov8AyOHw2/7Dq/8AocVH7TX/ACIGjnuNahx/3xJXTa98IdL8QTaQ9xrmuQDRpPOs1inibbLkMZGZ42Z2LKCSxPOateNfhlZ+PdOtLHXte1j7PauJVW3a3TfIAQHY+V1wTwMD2pR923+K/wCX+Rbd/ut+f+ZhftFf8kR1P/rrb/8Ao1a6631fTvD/AMObHWNZlSG0stOileRh9392Bx7nOAB1ziqfiz4d2/jTwvFoOt69q7WilWlaI26POVOVLnyscf7IHTmqXiL4S2Hijwnp3h3V/EGuSWOnkFNkkCtLtUKofEWG2gccdznPGErqMkurX5WFo5Rb6JnI/DjRL/4leMn+J3i6Bo7OMmPQLCTpEgP+tI9fQ9zk9AtdF408XWUnjPwxoeg6fp194g1EPNY6jexb47CLB3SL0YkhThQRnHJraHgS9TTxZReOPEcNusYiVIVso9igYAUrbAjj0rL1/wCDWi63Z6AsWpapp99oEKwWmo20yicoo/iO3BPfIA5J9cU9LpLZf1/w4K9m3uzi9a0y50z9p7wOL/VrrVLiWznZ5rgIoB2S8IiABV9uT6k1o65/yd94d/7Aj/8Atat6++COg3+t6Xq8uq64NQsQRJdi+PnXYP8AfkxuHGRhNowSBitHxT8K9I8Ta9pWspf6lo9/pkXkQz6ZOImMXPyZIOOpGRjgmnF8vL5N/jf/ADCXvN+aX4WOR/ab/wCSd6X/ANhmH/0CSqXx3u5NO8afDi/uiV0q31MPMx+6rB4zk/8AAQx/A13Xi/4U6T4y0Ww0e+1PVbTTrAq8VvaSxAFwCA7M8bMW5PU85z1rW1zwTpnifwifD3iV59UgIH+kTbFmDDo4KKoDD2H1zk0l7tmukr/l/kN66Ptb8yn8Vo4J/hH4mFztMf8AZsrDPTcFyp/MCvGtftru1/Yt05NQDCQtE6Buoja4JT/x0ivVYvhc8+kQ6Jr/AIr1bWNDgK7bCdYk81VOVSWRUDuowOMjOOa0/G/w+sPHegx6LqOoahY6ahUm3sDEitt+7ktGxwPQECplHR26tfg7hF7X6X/FHP8AxQGf2dNSz/0C4f5pXRfDD/klHhf/ALBVv/6LFQ6x8PYtc8EjwvqHiHWWsdixSOptxLKi7dqs3k9BtHIAJ5yTWt4V8OR+E/D9to9tqF5fW1qgjgN4Yy8aAYC5RFyB75PvWjacpvvb9f8AMiKahGPa/wCn+Rs0UUVJQUUUUAFFFFABRRRQAUUUUAFFFFAHJ/Db/kU7j/sMan/6XTV1lcn8Nv8AkU7j/sMan/6XTV1lAHidzE2i/tfW11fZWDWdKMdpI3Quq4Kg+vyf+PD1r2i5njtrWWed1SKJC7sxwFAGSTWR4o8I6T4usYYNWicSW0gmtbqB/LmtpB0eNx0P6HuKyr3wJdazZf2d4i8VarqOmNxLaqkMH2hf7sjxoGIPcKVz3pWfJy+v4u/6j05ub0/BW/Q4r9mnT7iHwNqupSo0dvqWqSTWwIxuQALuH4gj8K5fwxo3ibVbf4onwbrt1puox65MY4Ilj23HzMSu4qXViOAVYc4r6Di0+G10tLDTR9ghijEcIt0UeUo4AUEEfpXM+D/hxZ+CtT1K907WtWuW1Sc3F3HdtAySSHOW+WJSOp6ECnJJuy2tb8v8hXe73vf8/wDMyvglc+G7rwCreG7AadcrKV1S2dmaZLkff3s3zHPUZ7enIrk7Zm8PftgXj6p8kWu6YEsZG6MQqfKD65iYY9x616Avw20618cXfinRtU1PSLy+UC7gs3i8i4I/iZHjb5vcEd/U50vFvgrRfGljDb63A5kt38y2uoHMc1s/95HHIPA9uBxT5veU/vXytp+n3CtZOP8AW99f1+8j8fiZPAOs3Vpd3Nnc2llNcQzW0pRldUJHTqOOhyKxvgxd32qfCzStW1e/ur++vld5pbiUt0kZQAOgGAOlWrvwNquoaPLpGoeNdVn0+aMwyj7PbCaSMjBUyeX3HGQAfeug8O6Bp/hbw/aaLo8bRWVomyJXcsepJJJ65JJoVlfzt+v/AABvW3z/AE/4Ji+Penhr/sP2v/s1dZXJ+Penhr/sP2v/ALNXWUgMDx1ocniXwFrWj2+POvLOSOLJ437fl/XFea/sza1FJ4DvPDlx+51LSLyQS278OFY5zj/e3D8K9prhPEnwm0bW/EQ8R6XeX/h7XR96/wBLlCGX/fUghvfpnvmiPuyb7qwP3opdnc7skKpLHAHJJ7V4P8e9aSaHwLrdu7SaHFrHmTSbSFcqy7W9wVWQg9COR1r0e38C6hdIIvFXi/VNctR1tDFDbRSj0k8pAzj2LYPcGtrxF4X0jxT4cm0PWbRJrCVQvlr8uzH3SpH3SO2KTummujT+4as7p9U195S8frbXXwy8Q/aCrW76XOxPbHlkg14kltd237EswvQw34kiDdRGboFfwPX8a9Qt/hXJ/YaeH9U8XaxqPh+MBBp8giQvGOkbyqgdk9gRxx04rZ8X+ArDxh4XXw7cXt7p2lhVVrfT/KQOqkFV+ZGIAKjgYpSWkrdbfgOL1jfpdmFe8/s0S/8AYrf+21N+DX/JAtF/685v/Q3rak8ARyeA/wDhEm8Q6x9g8j7KZM2/mmHbt8vd5OMY743e9GgeAI/DXg4+G9L8Q6wtkqlIXf7O0kCkksFPk45LH7wOO2Kuq+f2lvtf8H/MiC5VC/T/AIH+R5z8D/8Ak3PV/wDevf8A0XXRfs54/wCFJ6Xj/ntcZ/7+tV/Svh7Y/Dr4e67p+j6pqVzZSWlxL5F60TBHMZywKxq3YcEke1cd8B/DWpXXwjs7nSvFF/pcd3LN50EcUUqqRIV3R71JQkAeo74zTvecrdog1aEb/wA0ij4AmsPDXjT4uaxdQ79AtJmEsaoGWQhpCyAHg9SMf7VaGrR6l4i+AGqa200OhaM+mSy2Gh6VGiRrHzt818ZYnqVXYOec16Zp3gDQNN8GXPhiG2eSwvEkF00rlpbhn++7v1LH1+mOlctpnwL0Sy8PXWhXmua7qOlyo6QWdzdjyrYtn51QAKWBOQSCAecZrKUfccF2SX43/wCAWn7/AD923+Vv+CZMPP7Hx/7F9v5GtnwaM/s02gPT+wJP/RbVatPg9pdn4Cl8KRa3rQtLhPKnm8+NpHjzkRjejBEGTwoHU9c1pWHw9i03wKfClr4h1kaf5RgR2NuZUiIIKBvJ6Hd1IJGBgiqq+/7S3X/g/wCZNL3HC/2f+B/kcv8AAr/k3qx/3Lv/ANGyVx/w7S4f9kbxCtkGMxjvcBepGOf0zXqnhz4bW/hXwfN4b0jxBrKWMgYIXNu0kO4kttPk98nqDjtipvAnw7sPh/pEulaVqWo3mnyMz/Z75onVWbGSCsannHQkj2pzXM5/3lYUfd5fJ3OS+FOieF/F/wAL9JuIbjU5XS1W2u4U1u8VUkVdrKUWUBQeoAAGCO1XbnwN4AufAGq+EdMVtM0yfUVt2kikeTbefJt2s5bJB2qR0yCOtZ1x+zroCa9Nf6DrmtaFBctme00+4CKR/dU4yB7HOK7LVPhzouoeBIPCdq91pmn27xyRPZSBZUZH3hgzA/MWGSTzmnJqWve2nz/qwRvHRdP8v6ueV/2149+DuraXp3jaWHxR4TuLpIIL9lzNbtn5evIYYzg7unDCvf8Acu4LkbiMgZ5NcZJ8PX1SbTx4q8Q3uuWmmzrcW9tNDFErSL915CiguRnpwPUGuW8f+BrbU/iromvaRq17/wAJFHNbqLOFwY4YEfMkj8ZVCm4YyAzEDnJFF72T6vfy/r8Ata7Xb8f6/E9drzfxN4iW5+LGneF/Dthp6+IvsbTS6zeW4kaytz1WMcFmPpkAZ5zzXpFcL4v+FOmeK/FVl4ki1TU9F1e0TyhdabMEZ054OQeeSM+hwc1PVf10K6M4jTdPl0z9rKGG51G61KZtBLvcXRXcxJPACqFUegAq/Pp174X/AGjr3W9Htn1qHVtNB1CztWXz7MAoqyEMQCpKDAzk/NgcVuv8E/DreLrTxAt9q6XMMPlTgXjE3vXJmc/O2c4IyAQAMYGK4xPDXhz4q/EzxJqOm+IdR0C/sZVsDHYXflzXBjGGlKnkJkBQB/cJPWiN0423XN9zb/zQmtJX62+/T/JnWaB4R1XU/jRfePdWsn0u1WyFlZWkro00owMyOEJCjrgZJ6ZxiuT8FQ6ZqHxw8e6L4juL2DUZrxZ7RYNSuLXzYwDxiN1DEKUIzk4z71euPBet+Ata0mbR/iNrWp3k97FEuj6hMZluoy4Eh2luAqbmLY4x1FdT8QPg5oHj/UIdUnmutL1aAALfWTBWYDpuBHOOxGD701pZrbVfk7/eD1unvo/0/IuWngzwZoHjqzv7e0nbxDdRyCKea+nuJDGq4Yt5jt8oBC5PcgVx/wAIv+Sy/FD/AK/4v/Qpa7Xwb8ONP8GwXUkGoahqGqXcYjl1S+lEs4UdFXcCAoPOMHnrmoPDPwvs/CvibU9c0/X9alutVfzL1bhrdkmbJIOBCCMFj0IprSV/Jr72D1g15r8Dj/C2R+1j4028E6VF+e2Co/2cNVQ6d4m0S9fbq9tq8s9xG5+dg2FLe/zKQfw9a7PS/hfaaV49uvF8PiDWpdUvFEdz5rW5jlQbcIVEIwPkXpg8day/FnwP0XxF4oPiPTNU1Lw9qshzNPpsuzzT3b1DH1B57g0ouyivKz++45a39U/wsdvZy6RB4hvbHT7eCO/aNbm8aGJVJ3EhS7DkscNjPYGvK/gyG/4WF8UvL+//AGr8v13zV6R4Y8Gaf4S0ObT9JnuvOuGMlxfzyCW4mkIx5jMwIJ9MjHtWX4R+GNj4M8Qalq+na5rFxNqsplvY7poGSZ8sd3yxAjlj90iiyu15W/Ff5Cv7vzTPOfgHp+i+IPCV5p+pXOpR61p97KLuCLV7qA4ZshvLSRR1yCcdRzXdweE/h/4d/wCEntLe1a3NzYGTWpWuJpiYX38sWZjuOHPr3rO8VfAjQfEHih/EOl6lqPh/Upm3TyadIFEhPVsdVY9yDg+ma6XTfh1o2k+CNQ8NWkl00epxSJeXs0m+4nZ12l2cjlsdOMDHSh6x21tb+vIf2vK9/wAbnkmpaT49+CGmSXOk3sXirwOn+usbxQXgiY4I9hzjK5XnJUV7xourW2taDp+qWuY4L63jmiV+CA6hgPrg1yJ+GMs3h5fDd/4s1e80AKsbWkyw+a8YxiNpggbbxjjBxxmsT4yeAtI13Q9KjjvbuzvtNjePSNOsGAM8mAEAXGQFKrlh91c5I6027K2+vzt+vkJK77fl/Xc9Yrxr9o7H9ieFM9P7ehzn/davXNMiuINJtIb6XzrmOBFmk/vuFAY/ic14/wDtLQpc+HPDMEhYJLrcSMVODgqwOD2pPSat3X5oV7wbfZ/kdl8ZILWf4N+JFvQpjWzLru7OCCn47gK8S8V/b9F+E3wkudUDiwtbtJ7kN0HzB48/8A3V7defDp9at4LDxP4k1HWNJgdXFjKkUYnKnKiZ0UNIB1xxkjnNdB4i8MaT4q8OzaJrVos1jMoGwfKUI6FSOhHalrHVd0/u/wA7/gPR2T7NfeUfH62118MvEP2gq1u+lzsT2x5ZINeV+E7e7tv2Ob8XoYb9Ou5Ig3URlmK/gev0Ndvb/CuT+w08P6p4u1jUfD8YCDT5BEheMdI3lVA7J7AjjjpxXR+I/CNp4j8KSeHftd1pmnyReQ6WAjUmLGNnzo2Bj0waU43jNLqrfn/mOL1jfo7nO/Cz/kgui/8AYMb/ANmrD/Zq/wCSORf9fs/8xXY6J4Dj0DwWfDOn+INXFmsZihlc27Swoc5VW8rHfuCR2xSeAvh9ZfDzS5NN0fVNSurJ3MggvWiYIxxkgrGp7dCSPatG06k5d1+tzNRahCPb/Kxw37Nf/In+IP8AsOzf+gJTfDH/ACdt4v8A+wTF/KCuq8P/AAi0Xw34ku9U07UNV+z3Nybr+zGuf9FSbqH2AfMQem4nGB6DEum/C6z0zx9c+MIvEGtSapdqI7jzGtzHKg2/IVEIwPkXpg8daUNHFvorfhY0lrzW6u/43OL+C+qpB8T/AIiaLqT7NTl1R7lFc/NJGHYcewBU/Rq9TmvNE0zX5gYII9RmtGubiaOJd/kx4GXYc45wM+hx0rk/HHwY0Pxnr0WvQ3t9omtRgA3unuFZ8DALe4HGQQcdc8VveEfAWl+EdPuoYZbrUrq+x9tvtQmM09zxgBmPYAnA96nXkS6pW/Cy/wCCDtzN9G7/AOZxPhO7n8d+D9T1TQfJ8LeGGkuBBZ6bAiXF0QDuklfBCZPZQG/2qk/Zs/5Ivaf9fc//AKFV7QvgdoWgy3cFvq+ty6NcuXbRnvMWxJ/vKoBYdOCecDOa0vBXwq03wJpd1aaNq2qlpi3lzTTI5tgxBIjQqUGcDJKknFNWV/NJfcTJN28m2cn+zf8A8i94o/7D03/oK17LXGeBPhpYfD43a6PrGrXEF5KZpoLx4XVpCMbsrGrA/jiuzo6JeS/BDesm+7f4s8Z+AeP7c+IXr/b0n/oT1XNkqftgvdWA2pHo3nX7L0B27Rn/AMh1m/BzQ72/8UePL3StdutKuE1qSJxHHHLHKu9yNyODyDnBBHU9a9f8M+DLDw1Lf3azT6hqepuHvtQuyplnIGAPlACqBwFAAFKN7Ql2ivxjb/gif2l5v/0q5xPgnUZfiBY6tf8Ahgw+F/DQvJUC6dAi3V9JgF5XYghAcjoN3+0Kofsz8fCS9HXGpz/+gJW5o3wQ0PQtSvHsdX1pNJvJDLLoy3my2cnswUAsvbBPIGDkVa8J/CDSvBllfW+iazrEP2p2MbmZG+yhsZ8tGQoCQACxUnAHIo+y0usbfPQp7/O/y1Oc/ZiAHwsusf8AQVm/9BSkb/k8BP8AsX/6muz8A/Dax+HVrNaaLq+q3FnNIZWtrx4XQOQAWBWNWBwBxnHtUPij4W6X4n8X2fiX+09V0rUrWLyGl025ERlj5+UnBI6kZGOD9MXJ3nFrp/8AI2JtdSXd/rc5H9oz/kEeE/8AsPw/yaoPjHd2mn/FzwDc6/LNBoxNxDJNFcSQeW7hV3eYjBl6rnkcZ7V2ni/4VaV4ytdNtL3VNVsrPS2VrW2spIlVGUYDZaNmJx6mtLxR4D0nxn4VGheJmnv0U7ku2KJOj9nBVQoPOPu4PcVC017O/wArJD3fqrfi2Y3iX4e+BG0U3/iaC9vbO0/ep9q1e7mAY8DaGlPzHIAx1zisjx/8PbnxJ4sXXvAfiFtF8WaXbRxyI2fLlibcUV+D1w3ZgcYIqfwl8DdI8M6la3V3rWra1HYuHsrS9nzBbsOjBBwWHY9B6V0OqeBHuvGMnifSfEOo6VqMlsls6RLHJBJGpJG6N1OTljzkY7U2trf8Np/XyBeZzfwp8ea3rfiDWPDHjfSobLxLpcaNNPCoAuI+xOOONwIwcENwBXqKsrDKkEZxwa5jR/BFlo8ur6hdX1zeapq6bb3UpiqPsC7VVAoCoqjpge5Jrkfg34Mh8IapryaFqV3qGgS+UIZ7ggrNON/mNHgAFQCi7h1IPPFO99H2/H+vxFsrrv8A1/XY9Wrxv9n8D7V48OOf+Egl/ma9fuoXuLWSKK5ltXcYE0IUsnuNwK/mDXHeCvhjZeBNRvrvSdc1i4GoSma6gu3gdJZOfm+WIEHk9CKS+K/lb8U/0CWqXr+j/wAzgr9tPb9qe+0/xNPdW8Wo6VDHp7w301ruYYO3dG6k5IfgnGR613V74E8E6Z4h0jVr+1up9VW5SGwludRubiQPywCh5DwAGY9sAmpviF8LdA+JFpAusCa3u7bP2e9tmCyID/DyCCuex/DFV/BHwp07wdf/ANoz6pqWuaksZihudSn8z7Oh6rGv8Oe55NENEk+n+d/vHPVtrr/lY5TxH/ydz4V/7A8n8p6T40/8lP8Ahf8A9hY/+hw11+o/C6z1Lx/b+MZPEGtRaraoY7fymt/Lij+b5AphOR87dcnnrTvFnwwsvGPiDTNX1HXdYgn0qQS2SWzQKkL5U7sGIk5KjqTTi7ODfR3/ABbCWrl5q34WOd+NehXM+p+EPEOkSRy6rpWpqLbTnfa17uZSUQ9mGzOTgAZJIxTvGfh3WfidrvhmI6NdaNpmlXgvby4vniDsRjEUao7Eng5Y4HuapfEy18P+LfiB4c8Faxq1zp9/aQPfDUxOsMhz8qxpwFLsV3dOApwOeIdV+Es/hvTZtSX4s+JdNjgXcJLq8LJkdAV3Dd9O9TF8sbvZO/8AXzX9dXJXdlva35/oy5+0z/yR9v8Ar/g/9mrI/aKluLbwL4UutrNYQajC9yAODhMrn/x6uvv/AAJN8Tvh1olr441HUrOYwRT3VvZ+VFvmC/ebdGxB56AgZ7V1Fz4RsNT8Hv4b16SbWLKSIRO93sEjAdDlFUAjAIIGc07OF11Uk/ut/kK6lyvpZr7x/iJrPUPAuqNKySWVxp0rFs5VkMZOfpivANFtryH9i3VTdhtksrSW4PaPz0H5bgx/GvV7P4UyW+g/8I5P4v1q58OhfLGnuIgxi/55GYJv2dsAjjjOK6y+8M6TqHhSXw3NaImlSW32byI/lCR4wAvpjjH0qZLSfL1SX3aji7OF+jucRcOo/ZcZiwA/4RcDOf8Ap3rI8IaBo/ir9mXQtD8QXDW1vfIsMUyfeSYzN5eP+BYHPXpWpYfA+wtfDl1ol74k1vUrBoHhtLa7nDQ2m4EBggADMueM8DqADWhB8HtFtvAC+EoNU1lLRZY5luPtmZY2R94KZBRPm5+VRWk2pOTfVr83f56kxvFRS6X/ACX+R5//AG149+DuraXp3jaWHxR4TuLpIIL9lzNbtn5evIYYzg7unDCvoCuLk+Hr6pNp48VeIb3XLTTZ1uLe2mhiiVpF+68hRQXIz04HqDXaUr6a7/8ADBbXQ8j+J+j3dp8VvBvivRAt/qUDvbHSVcLLcRYYu0ecL8qs2SxA+7zVrW/DGreP/if4Y1mfS7jR9J8PFpy940YluZSVIRURmwoKjJOO+KyfHOn+HPiH8ZLfw7c6tdaLqWi2ZcXdvc+TLM0mCsUeeDgHcSOecetV9f8AhnqPgzSZtWsfip4jguIATbQXdwZVuJf4Y/Lz85Y4GMHr0qYPlSl2baKkuaTXkkWvjIAfi18LsjP/ABM3/wDQ4a1f2ilu2+C2p/YtxUTQmfb/AM8/MGfwztrQ1n4ZL42u9C1zxHrWsWeqaaiTQw2TwLHbTYUttzESfmUfeJ6V20unQ3ekPp2p/wCnwTRGKf7Qq/vlIwdwUAc+wFEov2fJ1Tb/AC/yCMlzqXS3+f8AmZXga9ttT+HmhXVqVaCXTocAdBhACPwII/CvFvhRZTW/wv8Aic0AP9mtNdpaAdDticEj8Cg/CvRtJ+FEnh6yn0rw94v1rT9DnZm+wIIXMW77wjlZCyA+3PfOea6/SPDWk6H4bj0HTLNIdNjiMQg67gfvZJ5JOTknrmnU99zkuqa+93FT9zlT6NP7jhfgW6j4BaSxYALHcZJPT969Yn7Opz8Er/H/AD+XP/oC1u6B8EtL0B5raLX9auNEeRpE0aW5/wBGBPZgAN49jwcc5rR8HfDPS/hx4av7bS77ULrzY5Hk+03B8vcV5KxjCjoOcE8daVWSaqS7r/ghBWcY9mc7+zPj/hT6Y/5/58/mKxPBGn2UPxu+KM0oC6EsBW8wDty43P078SdOai/Z88O6jdfDA3ekeJb3SvtF5Ks0KQxTJkYAdQ6na2OPQ4HFesaR4E0jRPCt9odh5+zUVlN3dyuHnnkkBDSO2OW59Me1XUXvc39233pE07W5f71/ubPHb/QPHXwY0uXU/CGpR+JfBQBll068G5oYW5JHtg9V45yV617l4a1y18QeFdM1izTyLe+t0ljjbAKbh938OlcrD8L5ovDX/CMt4v1ibQDH5LWsqwmUxd4/OCBgvb1xwCKyvi34B0DV/B+l2L3d3Yf2UCul2Fgw3XL7AqRqpBJIwOewyTxk1MnZPrtbv/wfIqKu1039P+B5nqlcH8T/AAVp/jq203TW1WXSdbhke60u6izuVkA3dMccqeCDwCOhrq/D1te2fhnTLbVZfOvobSKO4kznfIEAY57855rK8W+CovFd5pd4NW1DSrzSZHltZ7FkBDMADuDKwIwMY75NE4pO3n/TCEtLnnXhHxf418MfEbTfBXxOtrfUXvEcaZrMKjc2BkgnAyDjB4DA4zkHNS+A8f8ADTnxA9fs8H/oKV3dj4HX/hJrXxB4h1W41rUbGNorNpYo4o7YN95lRAMsRwSSfbFeYeHtHuNU/aa8cSWGrXWl3VtDCUlgVHDAqgKujghh09CCBg04P95G+9pEzXuO214l74laf9o/aN+Hkmnr/ppDtOV6+SjbufbBcVH8L7ySD9on4h2OqnF7cMssIfq0St8uPba6V6VoXgm20rX7nxBqF7cavrdzEIWvboKvlRDny40UBUXPPqT1NU/FXw107xH4gs/EVne3ei6/ZDbFqNkV3Mv911YFXHJ4P06cUoe5b/t78f8ALT8Spe9f5fgcL8c7KS6+Inw3/s4H+0DqZCFeoQPExP0GCfzqbXgD+174ayP+YJJ/Keu+0jwPDaeIF8Qa1qV1rmsxxGGG5ulRFt0PURxooVc9zyT644rN1H4V2mpePrfxhL4j1yLVbVfLgMTWwSOP5vkCmE5HzN1yeetOHu2Xm396sEveT9Evud/+AZ/7Qf8AyQ/XPrB/6PSrsukaP4g+B+l6R4imaCxvtOs4PNTqkjCMRkcHneV68evFdN4m8NWHi3wvd6DrHmPaXcYSRkYK4IIIYHGAQQD0x7VysHwe0mPwTceG7jWdauo51ijF3PdBpoY4nDpHFldqKCvYfyGJVrSi+rQ76xa6X/Q87udR8e/BGWyt/E80PivwW06QpPImZrbnK9eQRjIBLLwACDX0IrB1DL0IyK4qf4cvq0NnZ+KfEmoa3ptnMk0dpPFEnmsn3fNdFBcD04yeua7aqvprv/W5NtdDxn4xf8le+F3/AGEZP/Q4qh+Md3aaf8XPANzr8s0GjE3EMk0VxJB5buFXd5iMGXqueRxntXf+O/h1pnj5NOa/u72wu9Mm860u7GUJJGxxnBIPoD6ggU3Wfhl4e8QeCx4b1dLm6gVzKLuWYtc+aesvmHqxye2McYxxUrSK8m363Ker9Vb03M/xL8PfAjaKb/xNBe3tnafvU+1avdzAMeBtDSn5jkAY65xVLV/EC6j8XY/C3hWysLbW7fT/ADLzW7q3EkltbkgiKMcFmO5Tydoz0PSmeEvgbpHhnUrW6u9a1bWo7Fw9laXs+YLdh0YIOCw7HoPStLxR8JtM8R+MoPFFtq2q6Jq0cYikn0ycRmVBxg5B5xx9O1V1Xb/gC6P+upxfhWxfTf2sNZt5r+61CQaGrPcXRUu5Ji/ugKB7AACrmnf8ngat/wBgFf5x10MXwV8OQeNIvEcF3qkc4hEU8Iu2K3ZHJaVj875wMgtg4GRjircHwttLf4gS+Mk8Ra2dWmj8qQlrby2jwBs2+T0+UdOeOtKOnLfpf8b/AOY5O/N52/C3+RyfjH/k6rwN/wBeE/8A6DNSfG3/AJKJ8Mv+wx/7PFXXat8L7TWPHVn4sn8Q61FqdiClr5TW4jhQ7sqFMJyPmI5yeetL4s+GFn4x1rTNT1PXtZhm0qQS2a2zW6rE+VO7BhJJJUHkkUQ05L9Hf8bhJ3cn3VvwsYPxB+H114l8X/2/4E8RNo3i3TLdI5FOfLljYsUDcd8N2YHGCKf8KfHmt634g1jwx430qGy8S6XGjTTwqALiPsTjjjcCMHBDcAV0N74Aml8Vf8JJpvifVLDU2tY7SUqsLxTohJBeMpgtkk5GMdsVf8OeDbXQNT1DVpbqfUdY1Mr9rvrgKGZVGFRVUBVUDsB9SaIaaPbX+l+opa+un9Mq/FD/AJJxqf1h/wDRyV1lcn8UP+Scan9Yf/RyV1lAFDXf+Rc1L/r0l/8AQDVHwOMfD3w6D20u26H/AKZLV7Xv+Rc1L/r0l/8AQDVHwN/yTzw7/wBgq2/9FLQBu0VxPjj4paX8PWhbxFpeqrbzuUhuYIo5I5GAzj/WZB+oHQ102i6rJrFit0+l3unK4DIl6Iw7AjOcK7Y+hwfahaq6B6OzNCiiigDM1/w3o/ijTTYeIdOt9QtichJkztPqp6qfcYNcnp/wN+HOmXiXNt4Zhd0bcq3FxLMgP+47lT+Irv6KFo7oHqrMRVVFCoAqqMAAYAFLRRQAUUjusaM7sFVRksTgAVT1jUW0rQ73UY7Wa9a1geZbe3GXl2jO1R3JpNpK7Gld2LtFYng/xDJ4q8KWWszaZc6U90pJtLoYdMMR6Dg4yDgcGtuqaadmSnfUKKKKQwooooAKKKKACiiigAooooAKKKKACiiigAooooAKKKKACiiigAooooA5T4bjb4UuAcf8hfUjwc/8vs1dXXJ/Db/kU7j/ALDGp/8ApdNXWUAFFFFABRRRQAUUUUAFFFFAHJ+PRkeG/wDsP2vf/errK5Px708Nf9h+1/8AZq6ygAoqC8uJLW1eWG0mvHXpDAUDt9N7KPzNeeab8btH1jUL2x0vw54mvLmwYpdRwaermFgSMNh+uQfyovrYOlz0qiuV8K/Ejw34xmubbSLuRb+0BNxYXMLRXEeODlGGTg8cZwao+G/ida+JfiFqfhSHSL6ym02386WW8AQk5UABBk4IYHJP4U0ru3zDpc7iiiikAUUUUAUNa0Sy8QaZJp+pidraUFZEguZIC4IwQTGykgg9M4rP8LeCdC8F2jWvhu3ntLZiT5DXk0sak9SFdyAfcVvO2yNm2ltozheprmvAnjCbxpok+oT6HfaK0Vy8AgvVwzhcfMOBxzj2II5oW7sD2VzpqKKKACiiub8c+NLfwJ4bm1i806+voYhlltIw2zkAFiSAoyRz+lJtJXY0m3ZHSUVl+GdbXxJ4V0zWkgNuuoWyXAiLbim4ZxnjPWtSqaadmSmmroKKKKQwpAiqzMqgM33iByaWkJCqSxAAGST2oAWikVgyhlIIIyCD1paACuN8R/CXwP4s1Br/AFzw/BLdscvPFI8LufVjGy7j7nNdlRRYDnfC/gHwv4MEh8NaNBZSSDDzZaSRh6F3JbHtnFdFSEhVJYgADJJ7UKwZQykEEZBB60XuGwtFFFABRRRQAUUUUAFFFFABSbF8zftG8DG7HOPSlooAK5jxR8O/DXjOeKXxJaXN6YW3RJ9vuI0jbGNwRHCg+4Ga6eigCCys47CzjtoGmaOMYBnneZz9Xclj+JqeikR1kUNGwZT0KnIoAWiiqWs6g2k6He6glpNeNawPMLeBcySlQTtUepxSbSV2NK7si7RWJ4P8QyeKvCllrM2mXOlPdKSbS6GHTDEeg4OMg4HBrbqmmnZkp31CiiikMKKKKACiuQ+IvxDtvh1oJ1O80q/v0yFBtkARGJwN7k4XJ9AT7V02nXg1DS7W9CeWLiFJQhOdu5QcZ/GhaptdAejSfUs1Dd2qXtrJbzNKqSDBMMzROPoykMPwNTVw/jz4nWvgS+020udHv7t9QuEt45kUJAGYjgue4BzgA/Wjd27hsr9jQ8N/Dnwz4Rv57zw9aXVpNcNun/4mFxIszc8urOQx5PJHeuooooAKKKKACiiigAooooAKKKKAEZQ6lWAZSMEEcGlACgADAHAA7UUUAFFFFABRRRQAUUUUAYHijwN4Z8aQpH4n0e3v/L4jdsrIg9A6kMB7A1laB8IPAnhnUI77SPD0KXURzHLPLJOYz6r5jMFPuOa7SihabA9dwooooAKKKKACiiigAooooA5rxT8O/CfjVkfxNolveyoNqzZaOQD03oQ2PbOKreGvhX4L8I3ovdC0GCG7UYWeV3mdP90yMxX8MV11FC02B67hRRRQAUUUUAFU9V0q21rT5LK+NwIJBhxBcyQMRjGN0bA456Zq5RSaT3C9jnfCvgTw/wCCYZIfDNrPZwSEs0JvZpY8nGSEdyAeByBmuiooqrtgFIUUuHKgsAQGxyAf/wBVLRSAKKKKAGyRiWJ42LAOpUlWKkZ9COQfcVyumfDPwvo/iKXXtPtb2LVJzma5Op3LNNyDh8yEMOBwcjiusoo2dw3VgooooAKKKKACiiigAooooAKKKKACiiigAooooAKKKKACiiigDk/ieM/DnUgPWHqf+myV1lcn8UP+Scan9Yf/AEcldZQBQ17/AJFzUv8Ar0l/9ANUfA3/ACTzw7/2Crb/ANFLV7Xv+Rc1L/r0l/8AQDVHwN/yTzw7/wBgq2/9FLQB5X+1N/yI+h/9hVf/AEW9e3Qf8e8f+4P5V4j+1N/yI+h/9hZf/Rb17dB/x7x/7g/lRH4X6/ogl8UfT9RLi4itbaW4uZFihiQvJI5wFUDJJPpiuGtfH+u69ocuu+EfCa6jpKlvIe51D7NPeKpILRR+WwxwcbmUn0qt8YtTe6+GnizS9JLve2tgktxs6JG78qfcornHp9av/Bu+t9Q+DvhuS1YFY7NYXA7OmVYfmDSV3fyt+N/8hvS3nf8AT/M0PBfj/RfG/hlta02RoI4CVu4bjCvbMoyQ/bpznpisSb4k6re+Gb3xN4Y8MpqGhWiySLPc35t5bpEzueKPy2yvBxuZScdK8m0vT72OD44Po4YWe6WNdnQsGkLgfRSfzFeu/BXVrHW/g7oQtGRxbWwtLiPg7XThgR79foafxK67J/ff/L8RfDKz7tfdb/P8CWH4teH5vhW3jsi4XT0XDwbB5ok3bfLxnGdxHOcYOay9Z+K2reF9J0nXPE3heG30XU5I08601IzTW28blMkZiUdP7rHGKn8ceLvCXhj4bajK2iWmoabBd/YY9PWBBBPPnOAMFcBs5OOCp7iuC+O2l62vwittR8RasJJ2vIAunWUaxWluCrcDgu5HTczY9FFF1e/S6/H/AIcai9n2f4HR/tEeJte0X4fmLRraNLC/Zbe5vjMA4DZ/dqnXkDluwOO+R1t34w1fQPBd3rOteFbhfscW/wAiyu45iYwmS7E7doGO2T7GuM/aQ/5I3af9f9v/AOgtXf8Ajj/klWv/APYHn/8ARRqZXjCbXR/omOPvSp36r9Rvg/xxb+Jvh1b+Lr6FdLtpIpZpUeXeIURmBJbAzwuelZMXj/xDqnhx/Efhzwf9t0jaZIRPqHk3VzGP40i8thg4yAXBPpzXmgW8b9iZRYbiwhJk2dfL+1Hf+GM59s16/wDC6+t9R+FPhue0ZWj/ALOhjO3syKFYfgQRWs4+9NLo7fn/AF95nF6Rb63/AEG6D8RNN8UeB28S+HbS71FEysllCEE8bjqhDMFyOvXkdM1yvhz4z6l4x8Nz3/hTwTealexXDxm1F2kccaAAhnlcAbjk4RQx4+lY3wGspLbXfiLJbjGlnVnitwPu7laTOP8AgJT9Kvfsx/8AJKrn/sKTf+gpUxXNd/3U/vsU/d082vzOz+G/xAtviJ4ck1GGyk0+5tp2trqzlbcYZBg4zgZGD6DvXX1438AOL7x6B0/4SCX+Zr2Sle6T7pP70Jbteb/BhRRRQMKKKKACiiigAooooAKKKKACiiigAooooAKKKKACiiigDk/ht/yKdx/2GNT/APS6ausrk/ht/wAincf9hjU//S6ausoA8k+Lt9rGk+LvBsOja7qGnw6zqYtLuOGUbSmUGVBB2nBPT1r1a1txa2yQrJLIEGN8rl2P1J615L8a/wDkc/hr/wBh1f8A0KOvXndY0Z3YKqjJJOABRH4H6v8AJDl8S9P1ZxXxQ8eyeBtBtf7Nt0u9Z1S4W006CQ/KZG43N/sjI+pIFTQeCL+XTlbUvF2uPqzLl7q3uRFGj/7MIHl7QezKeOprz/47ELrXw88VKS+k2epo00uDhVdo3Vj6cI1e4AhlBU5B5BHehL3W3vdr7rCb1S8r/izz74ceOb/WdX1vwp4n8s6/oMuySaJdi3cRPyyhf4SeMjpyPXApN4n1Xx78StT8LeHdQk0rRtCUDU7+2CmeeYnAijZgQgGDlsZ+U4xWJ4Ftn1P9pzxzrdn81hbQJZPIPutLiMFfqPLbNR/BAHSfiV8RNE1D5NQOoC5VW6yRlnIYeow6n/gQoj73K31jf56L8tf+AEvd5rd0v6/I6/xV4W1/TPDN1ceC/EWrC8iTe1vdT/ahcKDllUuCyORnBUjnt6d6pyoPqKbNNFbQST3EixRRqWd3OAoHUk+lOVgyhlOQRkGjoBynj3p4a/7D9r/7NXWVyfj3p4a/7D9r/wCzV1lABXhfwO/5K58Tv+wj/wC1pq90r54+E/hvRfEfxY+JUevaVaagsWot5f2iFXKZmmztJ5GcDOPSiPx/J/oEv4fzRFdGPW/2xLS48JESrZxr/ac8HKAqjK+4jjoUX68Vo2Ostov7UnjOS20+51K7l06FLeztgN0r7ITyxwqDjJZiAPrgH2nRfDmi+HLdoNA0qz02Jzl1tYFj3n1OByfrXlfhP/k7Lxr/ANgyH/0GCnT0lGK7S/IJaqUn/d/Bo6Twb8T7vX/GWoeE/EfhuTw9rdpD9oSB7tZ0lj45DqAP4h0z39MUzSPihqGo/E+fwRe+GV0+9t4zM80t/uR4hj5o8R5bIOQOOhzjFYE3H7YEGO/h859+WqT45aZdaJcaJ8SdDjJvvD86rdqv/LW2Y4IPsCSPo5PapUl7sntqn97Vws25RW/T7k7Hb+J/Fl/oXiLRdI0/R49Rl1h3SM/bPKMWwbnZhsPygY5Bzk4xUUnjHUNQ8TanovhXSrW/l0gRi9lvL426K7ruEabY3LHHUkAD3rK8EahB468Zaj40tiZNNt4E03S2YYyCBJO+Pdiqf8ANc94s+H+uTeMNT8ZfCXxF9j1nzBDqOny/6qeRFHHIxnaRwwxzkEUaqyl5v/L5fqw0e39d/n/kdxoXjO91Xw1qOpXHhy8hu7C7ktX02GVJJWZMZIZiq9/XpUPwz+IKfEfw3c6xHpzadHDePbLG8u9iFVTuJwMH5unPTrWZ8J/Hdz400TVotZ0qPTNb0y5MGoxRLtV5MY3euflIIJP3euK4n4IJcv8AAPxUmn7vtTXN6IdvXf5K4x75pt8qk30in+X5jiuay7yt+f5HoKeP9T1y31C88EaBDq+nWDvGbu6v/sy3Tp95YAI33AdNzbQT0zUWh/GLw/rPwyvPGjx3Fra6eSl3bsA0iSDGEHZs7lweOvOOayf2ctYs9R+D9jZ2zr9o0+WWG5jzypLs4JHuGH6+lavjPxR4R8KeB/EDzaPa3llZyrDc2MduginuJMEIeME8qWJBx7niiouS6v0/r7xQ95r1M/Vfizq+geFdN8Va14UiTQL8xnzLbUvNuIEkGVZ4zEq8jHAc4z1rS+MsqXHwQ8QzRHdHJZq6n1BZSDXn3xi07WpvgS+q67qSRbjbNDpOnxrHaW6sy4XOCzkDvkL6KK7X4mf8m56l/wBgqH/2Soqfw6nk7fgVSf7yn56/ib/wt/5JN4X/AOwXB/6AK39W1Wy0PSLrU9UnW3s7WMyzSN/Co/n9KwPhb/ySbwv/ANguD/0AVzf7Q4uD8F9TNsGKrNA0wX+4JVz+uK0ru0n6/qRRV4x9Czr3xJ8Q6B4dXxNc+C2OhfK8h/tEC7iiYjDtDs2jqPl3kjPOOaXxV8V30LwXZ+L9H0Jtb0G5jVzcQ3XlvDuOPnQocDPGcnB4OKl0Xwn4N8aeDrW+hk1K+06/twXjk1y8dCMfMjKZscHgg+lXbT/hDND+Fs8dnbqnheOOaIQktIJlLspVdxJfexIXnnIxSmnFNdUOD5rPuVbj4k3TaT4XudH0SHVbnxEN0VrBf4MS7dxcsUxtUcMeMHjmsX49eJPEeg/DG4bS7OGKO6RYL27FxkwBztKIMAsTnG7jA7Z6cb8KhL8L/iSPDvi2xazj1y3DaNcTTGQ26li32Yt0By3zYAywHXIrtP2kP+SK3/8A182//owVNW3LdbN/ra3y/rQdO/NZ9F+l7nSaP4ouNI8Ctqvi/To9HsrG0iZZFuhOZV2gcAKMEnAA5yTWT4j+JXiDwrosXiHV/BZTQ2ZfOdNRVrq3RiAGeHZtzyBgOcZ5NYHxyaeP4D6bNErtBFNZPchGIzGB6jp8239K6u08GeCvF3heK7EmoajpN7CJNsuuXkkbr1wwM2OCOQehFaTu5SfZ2/X8TOnZQgu6/r7ip46+L9p4R8IWHiGw0e61ew1BUMFykiRwjeCQGJJYHAP8JHbINU/FHxi1Hw3axawfBF/N4ZMiI+qvcpE3zHG5YSC5X0Lbc8eorl/jZb6Nbfs86bD4YiMWkpfxC1XczfJmTkFiSQeoOehFdb8dxn4Caxn/AJ52/wD6OjqJOycl0dvloaqN3GL6r9bFP46+LdZ034VyXfhqGNrDUIkSbUDKA0ccvACJ1JYHr2B9em7B40uvDfw8/tjxRov2GG2ggS2SG7WZrpmAVR0AXJI6+vtXEfFbn9lLTf8Ar00/+SV33iXQNH8U/C600PxBcNbW99DbQxTJ95Jjt8vH/AsdevSqa5XUS6SS/rz7Gad+Rvs3/X6hd+L/ABLpGo6RDrXhe1S21S7jtRcWepmb7OzdPMVok9D0yM8ZHGe1r5//ALa8e/B3VtL07xtLD4o8J3F0kEF+y5mt2z8vXkMMZwd3ThhXv+5dwXI3EZAzyaNOW67/AOWn9dx63s+3+Ytee+Nfiungzxbo2iXWg3kiapcCJb1nUR7cqGKKu53I3D5SFz2zXoVeM/Gf/kqXwv8A+wq3/ocNKOtSK7sf2ZPyZp658YtQ8La7p6+KfBd5pWhahN5MOpy3kbsp9XiXOzjnBbOM8ZBFL4n+MOqeFxFql74F1BfDEkyxHVJLpEkwTw32fBYA9txUn2PFZn7S/wDyJOhf9hyH/wBAkrV/aI/5Ihq3/XS3/wDRq1LfLDm87fl/mUleVu6/zOw8TeNNK8LeHI9YvWknjuGSO0hgXdJdSP8AcRB3JrnPEHxG1vwbZ2+q+LfCa2+jSuqTXNjqP2mS03HAMkZjUdf7rMPrxnzz4oXcunTfCG/uyRpdvLA87H7qsBCcn/gIY/ga9Y+K0cE/wj8TC52mP+zZWGem4LlT+YFVU9xSl2b/AA/z/wAiafvuKfVL8Sl49+JX/CF+FbbxLaaZFrGj3HlgTQ3mxvn5UhShBUjHOc89KveNvGtz4Q8FnxLFpK6haRRpJcR/avKkQMVAwNhDctzyPxrxTxJbXlt+xno6X4bzPNikUN1EbSsU/wDHSK9L+L7r/wAM86odww1lBg56/OlKp7qnbo7fgOn70oJ9V+pp6/8AExdC+Gdp4xGg3l5Bc2kdy0UMiAQBwuA7Eg4ywGVU/SsO++MesJ4NtvE2j+BbzUdMFqlxe3JvEhSDIBYIGXfKFyQWCgcH3ql4p5/ZFT/sB2n/ALTrXgGf2XVz/wBCqf8A0mp1PddS3T/g/wCQU1zKF+v/AAP8yfxf4+1CT4NP4t8E2iTC4sjP5txIF+yrjltvO5gcjA4yPzqfC/xLf6d8I7DUPEWmi10my0v7QdQ+1iV5gvJJjAyCRk9TXOaH/wAmZTf9gq5/9GPXSeFNb0zw9+zVpmqa7bi6sLfSF863KBhMD8uzB4OSQOeOadT3JVEulv8A24iF5cl+t/0G3Xxa1i38CJ43XwnE/h1yG41P/S1iL7RIYvK2de28nmur1jxtBpvgJfFdjpt5qlm1oLsJb7FZYym/c25hgAdcZPsa8u8Y2+q6z+zxfa3eXUWladJYRzWOh6XGqQRRFl2CR8bnOCDhdq57Guts+f2X4/8AsVv/AG2qanuxn3X/AAf8jSC5nDz/AOB/maOlfEptS+E8XjYaDdyq8UsrWVrKjtGqMwJLMVBGEycDPPANYOmfGPV/EXgqLXfC/gW81SQCRrmJbxIo4FVmAAkZcyOQAdqKcZqD4a/8mrp/2C73/wBClq/+z/8A8kJ0j/t5/wDRz1VRcsqiXTb8f8iY6wg31bN3w18TNI8Q/DWTxmySWlnbxSPdQsdzQtH95eOvt0zkdKoX3j/xJYeGLfxHJ4St5dLuVjdRDqm6eJJCNryJ5W3HzDO1mx79a4b4G22l3vwD1+08QP5emTX1zFcuCRsQogJ46YzVHUrbx98DLASfaofFngZGEclvcr+8t42OAOeg5AGCV/2RmnKynrtp+O6/yEk7WW6v/wAA+iKKrWGoQajplpfQHEN3EksW7gkMuR+ODVmk007ME7q6PLf2jf8Akiep/wDXe3/9GrW3q/jfT/APwu0zWNTjkmBtreGCCLG6aRkGFBPA6EknsPwrE/aM/wCSJ6n/ANdrf/0atSeNPFGmeHPhn4cTUNHttau7/wCywWFpdqpi8/YNrsSDgL6jn+dTD4Z/4o/kOXxRv2Za1X4l6r4V1rRLbxh4cgs7PWphbw3djqJuPJkOMLIrRJ69QSOD1rn/ANon/jw8H/8AYfh/kaxfjTpWrWkHg681/W5L+7l12FWhiiWK2h7kRpyx/wB5mY/TpWx+0arNpfhFUfYx16IBgM7Tg84ovs+0l+cX+pMtpL+6/wBf8jufE/jO80bxFp2h6Hoo1y/vVZ3hjuxE1tGP+WkmVIVO2Sck8AGrWteK20K30+3u7EXGtalIYrTTbSbf5jAZJ3sq4RRyzEce/GfOPhhr914T+IOseCfHQQ67fTm7tdXYYOpIegJ9gPlUcDBXqOY/ihc2dn8ffBj+I5p7fR57Oa3WaK6kt/LlYkZ3xspHJjB5xg801ryrv/lt+hT05n2/q/6nU3XxRvPDnjLTdB8c6BHpUerHZZX9pffaYWfIGxsxoV5IGcdx25rbv/F93J4un8NeGtOtr+/tLZLm7e7vDbxQq5wi5VHZmOCcbcAY57Vl+I/h74Fjs4dR8R217eJaSKbc3Wq3c5EjMAoQNKfmJ2jA68Vh+Ovh9f654yuPE/w48RnSfFFjGkF3C+fKmG0MgbgjlSOoZTgdCM0r6K/nf9B2ve39a/5HbeEvE994gn1a21XRm0i60u6FvJEbgTB8orh1YKMqQwx/TpXSV5l8JfHmq+Jb3WtD8XaTFp3iPSHQXjQqAs4IIVjjPPHYkEEEccV6YrK65Qhh6g5qn0JXVEd1cw2VnNdXTiOGCNpJHPRVAyT+QrgJfiLr7eC38X6d4Thu9F8lriJRqe26aIZ+cx+UVHAzgOSB78V3GrizOiX39q4+w/Z5PtOQT+72nd056Z6V4Jf6B46+DGly6n4Q1KPxL4KAMsunXg3NDC3JI9sHqvHOSvWovq7/ANev9dy0tv6+7+ux7Rrfi200HQ7O+uYZZri/eOG0soMGS4mcZCLnA9SScAAEmuW1z4pal4M1bTY/HPhuPTtL1GTyo9Rs9Q+0rC/92RTGhHrkZ6HGcVxPxM8S6fqN/wDC3xJdrcWnh66kd5vLmeEwb0QD54yCu0E8gjgGvQPEXw+8CXHh+S98SJeXumWyfac3Ws3cyDA4ZQ0pGcHAx1z71e12+7VvQhapLui5r/j/AOweNLDwjoWnpqWtXkBuds1x5EEMQz8zOFY5ODgBT+FReFviJJrPjfVPCGuaR/ZetabEJisVz58M0Zx8yvtU/wAS8Fe9Y+oa/HqHxUt/CvhGwsbPWbbTBJd6zd24kltbc7cRRjqzHcp5O0Z6Gud8K2L6b+1hrNvNf3WoSDQ1Z7i6Kl3JMX90BQPYAAUR3S73/C/+Q38Lfa342/zPQR4y1LVtc1bT/CWkWmoLo8ogu5rzUDbBpdu4xxhY3zgEZLbRnjnrWl4N8ST+KdBa/u9Mk0udLma3ktZJA7RtG5Q5IAHUdq8z8R+APEMHijVPGnwe8QCK9mnddR0ub/VTyocMBu4znPDDuSGGa634SeOZPHPhm6mvtMTTNUsbt7e/gjXaplGCWAPIznkHJBB5NKGq13t/lqvIJ6P5/wCej8/8jvaKKKACiiigAooooAKKKKACiiigAooooAKKKKACiiigAooooAKKKKACiiigAooooAKKKKACiiigAooooAKKKKACiiigAooooAKKKKACiiigAooooAKKKKACiiigAooooA5P4of8k41P6w/+jkrrK5P4of8AJONT+sP/AKOSusoAoa9/yLmpf9ekv/oBqj4G/wCSeeHf+wVbf+ilq9rvPh3Uv+vSX/0A1S8EAr8PvDoYEEaXbAg9v3S0AYXj34V6f8RfJj1/W9YS1t5DJFa2rwIiNjGcmIsePUnqaVPhvdR26wp8QPGARVCj/S7fOPr5Ga7iiklbQNzmvCXgbTvCGmX1nBdX2ptqE7T3dxqcqzSzMVC4ZgoyMDpj1rC0v4U/8IzPdx+DvFGq6Hpt5IZJdPiSGZI2PBMRkQlOPr+gr0Kin1v8gMfw74W0rwvoY0nSrfFuxZ5Wlbe87t953Y/eY9yf5V5437PWh2+uXF5oWv67olndNm4sLC68tHH90HGQvsc+1et0Udbh0scnrvw28Oa74BXwhLatbaXEq+QLdsPCy9GBOcnk5JznJz1rnL34FaNqvhMaLrWu65qbRlfs93dXe9rYL/DGpG0AjgnBOO9en0UdW+4bW8jjtW+GOia18Pz4Sv5r6a2JVzdyXG+4Mi9JC7A5PbpjHAAFNh+GtrF4OuvD7a9rUgvY/Jur6W4SW4lj2lfL3OjBVAJwFA6k5ySa7Oih63v1BaWt0OY8I+BLDwh4Xbw7b3t7qWl7WRbfUPKcIrEllyqLkHceDmsTSfhS3hpLmy8K+LNY0nR7p2drCMQyiInr5TuhZP19etehUUPV3YbKxhad4RsNE8JjQNAln0q3CkCa3KtLk/eYmRWBY9yQayPBfw0tPAWj3OmaBr2sC1uHMm2c27mOQ4BdT5PXCgYOR7V2lFHVvuHkcZ4J+Glj4Ev7+50vWtWuRqMpnuorx4WSSQ5+f5YlIPJ6ECuzoooAKKKKACiiigAooooAKKKKACiiigAooooAKKKKACiiigAooooA5P4bf8incf8AYY1P/wBLpq6yuU+HCsnhW4DKVP8Aa+pHBGODezEV1dAHGeMvhpZ+NtU06+1HW9YtX0yXz7NLN4UWKTj5vmiYk/KOpNJqXw6n1iyey1Txt4nuLSTiWESWsYlXurFIFOD0IzyK7SihaAUNV0TTdc0WbSdVs4rqwnTy3gcfKR2+hHYjkVz1v4H1Gx05dLsPGeswaai7I4ysDzRp/cWZoy2AOATlh612FFAGX4d8N6X4V0hNN0S2EECsXYlizyuerux5Zj3JrG8T/DvS/EmsW2txXN5pGuWq7YtS06QJLt/uOCCrr7EV1tFD1dwWisc1Z+E7tnjPiPxHf64kTB1gmihhiLDkMyxopfB5wxK55xmuloooA5Px708Nf9h+1/8AZq6yuT8eKWHhvaCca/ak4HT71dZQBBeQSXNq8UN3NZu3SaAIXX6b1ZfzBrh/CvwisPB/iG+1nSfEWutdai++8E727rOdxbkeTxyT0x1Nd/RQtHcHqrCEZUgEjjqO1cRpfwutNJ8eXfi6DxDrcmqXqhLnzWtzHKg24QqIRgfKvTB4613FFC0d0G6scO3wutH+ICeMm8Ra3/ayR+Sp3W/liPGNm3yenJ9/eo/HHjnwy/hPWdMttR07VtRmRrBNLiuFeSWeT5FjKA56nn0wfSu8rldL+Gfg/RfFE/iLTdDgi1Wd2ka4LM+1m+8VViVQnJ+6B1pWTXK9v6/4I07PmW5e8F+G4PCHgzS9CtsbbOBUdgPvv1dvxYk/jWR/wgFxZ+JdU1vQfFGpadNqsokurcxxTQEhQoKoy5U4HXPNdnRVN3lzPclK0eU5nRfA9noGi39npt/exXepTNcXmp5ja4mlbq3zIUHoAFwOwqr4B+G9h8OrO4s9G1XVLmznkMrW968TqHIALArGrZwBxnHtXYUUthnlOp/AHRJ/E0+s6Bres+HGu2JuYdLuPLV8nJ28ZXPpyPQCupvPhn4bvPh7J4Na2kj0xxkskn73zN27zd5zl93OTnP04rraKVly8vQd/e5up5fL8CtGvPCD6Bq+u65qcaqq2s11dbvsYUggRpjaOBjJBOMgECtq8+F+nXngL/hEm1jWEsZFC3MwnR57nG3G95EbAG0DC44GOldtRTet79RLSzXQxfCnhqPwl4ft9HttRvb61tUEcH2wxlo0HRQURcj65NaV/Y2uqafPY6hAlxa3EZjlikGVdSMEGrFFEve3Be7sePWn7OOgWGoS/YvEGvW+lTPul0yK62RyD+6zAZK9uecd+9dvrHgGz1a50Zo9T1DTrXRXSS0sLPyRAGThSyvGxOBwOeOowea6qind6eQbnHeP/hppfxFiso9Z1DUbVLGQyxCxaJCH/vbmjZvwBA/KreteBrLxH4Fl8L6/f3+oW8qqDdzNGJwVIKtlUC5BA52898101FTZWsO+qZyWh/DnSdJ8MXOiX9xe65BdQi3nk1SfzXaJRhYx0CqMnAGOeetcZp/7OWgadfSLFr+unR5H3yaULrbFL/suVA3L29cd69goquvN1F0scd43+GmmeO9GttI1HUNQsdNtirJaWBhjTKghT80bHgHGAQPaneJPh7F4r8Ir4c1jxDrD2WFErIbdZJwpBXcfJ7EDoBnvmuvopB28jkLv4caZqPw5PgzVL7UL3TxEkUc0zRiaJUxswyIoONo6g575rPHwi0xvBreH7jW9bnLPC39oSXQa4QQtujRGK4RVPQAd67+ih6tvuHSxxcnw9fVJtPHirxDe65aabOtxb200MUStIv3XkKKC5GenA9Qa5bx/4GttT+Kuia9pGrXv/CRRzW6izhcGOGBHzJI/GVQpuGMgMxA5yRXrtIEVWZlUBm+8QOTR1T7O4dGu6sLXFeLPhjZeMPEWm6zqGuaxbz6VJ5tlHatAqQvlTkBoiTkqPvE12tFHVPsHSxxXjX4ZWfj6ys7TXdd1hYLN1lRLdoE3SAEbyfKJzyeBgc9Km8V/D2Hxn4YTQdb1/WGtMgzGL7OjzlTkFj5PY4+6B05rr6KVtLB1ucpefDvSNV8CJ4T12a61WxjRUiluSgmi2jCFWRFGQO+MnnOc1mRfC559Ih0TX/FeraxocBXbYTrEnmqpyqSyKgd1GBxkZxzXfUVV7tvuHSxi+JvCeleLPCdz4d1SErYTxhAISFMe0gqV7AggY4xXEf8ACjrG48JzaHrHiXWtVjMaxWz3cwdbNQQf3aY27sDbuOcDgY5r1Gil38w2t5HC3Pwo0u48AL4OXWdbi0vaqSYulkeRVIIXMiMFUYHCBRVtPh7EngL/AIREeIdY/s7yPsu/Nv5oh27fL3eTjGOM4z7119FD1vfqC0tbochoXw40zQvAtx4Q+3ahqGjzQvCIrx490aPksFZEU9WJ5zjtWbonwb0HSfDF3oN3farq1lcQNbIt9c7hbRsdxWIAALyAc4zkD6V6DRQ9bt9QWlrdDzC0+BWixeFrjQNQ13XdSsGjKW0Nzdgx2meQyIAF3DsSDjsBWzY/C/T9P8BS+FbbWdXW3uIvInujMjzSRbSvlgujBEAJACgY/E121FD1un1BaWt0OK0n4ZWui+BJvCVh4g1pdNkR4wWa3MkaPu3qreT0O49ckdiKl8L/AA8h8IeFX8P6L4g1hLP5vKaQ27PBuJLbT5Pck/eB68YrsKKHre/UO3kefaH8HdI8P+DtW8MWWs6xJpeqo4mineFijOAC6sIgQcAdSR7VNN8M5L/RI9B1vxVqup6FGU3Wk6xCSZVIKpJMqBmXIHTBOOtd3RR1v/WmwHlPxp8D6X4k0jTSb+8tdRsFddKsLFlDXEpACALjI2kLlh91c5x1HpumRXEGk2kN9L51zHAizSf33CgMfxOasbF8zftG8DG7HOPSloWia7g915HL+O/Aln8QNFGk6rqWo2liXDyRWTRL5pByMl42PB9CKzvEHwp0rxP4HtPDWsalqVyliytaXrtGJ4Sq7RyqBSMccjJ9c4NdzRStpYd9bnmWrfA3Rtd0W0tdY17Xr29tZllj1Oe83zqAPuLkFVXvwM5AJJxV/wAS/CLSvFFnptpe63rcNtpsnnW8cM8RPm95Gd42dmJySSTyTXfUU/8AhxHC+MfhTpnjldKbW9Y1dbjSyWgurZoIpSxIO4sIuCMDG3A46Z5q14l+Guk+MPCaaH4nur3U/JbdDfymNbiJsYyCiKv1ypz3rsKKVlaw7u9zzXwd8FNK8K6lbX15rOq649ic2UN/NmG1OMBlTpuA6Ht6VtXvgKVvGN54m0XxHqOl317HHFPEixS28iouFzGy5z75zya7Ciqu2JaHJ6f4E03SdP12S4v7qa+1tG/tHVJXVJSNhUbdoCoFBOABx3zXNfBfwgnhIa7BpOoXV9oEk0X2Ka5xiaQKfNkjAAGwkqAe+0nJGK9QdFkQo6hlYYIIyCKXp0pLRv0sD1X4lXU7GPVNJu9PmZkjuoHhdk6gMpUke/NcVD8L5ovDX/CMt4v1ibQDH5LWsqwmUxd4/OCBgvb1xwCK7+igd2c5r3gLw94j8HJ4Y1CxUaZFGqQJEdrQbRhSh7ED/wCvnNcf4X+A2jeHdQt5rvW9Y1e0s5BLaafeT/6PE4OVYoOCQeR0HtXqdFNOz5upNrrl6HBeKPhNpniPxlB4ottW1XRNVjjEUk+mTiMyoOMHIPOOPp2qGL4LeHLfxpF4jgu9USYQiKeEXjFbsg5LSsfnfOBkFsHA7cV6HRSWmw3rucVB8PbrS9a1TUfD3irU9POq3LXNzbPFDNCHPdFZMqccZyc4Gc4ra8K+E9O8IaXJZ6b5sjXE73NzczsGluJmOWdyABk+wA9q26KForA9XdhRRRQAUUUUAFFFFABRRRQAUUUUAFFFFABRRRQAUUUUAFFFFABRRRQAUUUUAFFFFABRRRQAUUUUAFFFFABRRRQAUUUUAFFFFABRRRQAUUUUAFFFFABRRRQAUUUUAFFFFAHJ/FD/AJJxqf1h/wDRyV1lcn8TlLfDnUgoJOYeAP8ApsldZQBQ17/kXNS/69Jf/QDVHwN/yTzw7/2Crb/0UtXte/5FzUv+vSX/ANANUfA3/JPPDv8A2Crb/wBFLQBtySpDE8szrHGgLM7HAUDqSe1clH8UPDF1JIulS6hqyRNtkm0vS7m6iU/9dI4yp/AmvPPi3rVz4u+KegfC+zuHgsLlln1Uxtgypgv5efTapP1Yele1WNja6ZYQ2Wn28dta26COKGJdqoo6ACiOseb+tAej5TG0jx74Z17UY7DSdXguL2RXb7KMrLGExu3xsAydR94Cuhrm7/wdaXHj7S/FdsscN9aRy29wwXBniZcAH1KsBjPYmrOueKrPRby3sFgutR1O6UvDYWSBpXQdXO4qqqM43MwGeOtHRBqbdFch4c+JOk+IPEt14cmtL7R9ctV3tYajGqO6/wB5CrMrDnsfereqeNbKx146Hp9le6zq6RCaWz09UJhQ9GkeRlRM9gWyewo7eYHSUVy3hj4g6P4o1W90mJLrTtYsT/pGm6hEI50H94AEqy8jlSeo9RXU0AYniPxfovhK2+0+ILmWzt+Mz/ZZXjXJwAXVSoOexNYUPxm+H04jZfEtuiSHasksUsaE/wC8ygfrUPxxAPwU8R5Gf3CH/wAiLVT4e2Wm6j+ztpNrrqRPp8mlN9o87G0J82Tz0x1z2xU3tGT7W/X/ACKtrFd7/hb/ADPRLW6t721jubKeO4t5VDRyxOGVwe4I4IqWvA/2Wb29HhDXo7uVv7JtbpTbPKcKhKkyYJ6DG0n6+9eiS/FKxOkz6xpmg65qmiwFt+p2cEZiIU4ZlVpFkdRg5ZVI461pJKL/AB+8iN3+R2V3dwWFnLdXcgjhiXc7EE4H0HWsDwf4+0Lx2NQfw5LNNFYTCGSWSExhmIz8oPOPqBWn4f8AEOl+KdEg1bQrtLuyuBlJF4we4IPII7g15V8BXWG/+ILtkImuyk4BPALdhU7Safa/4r/MG9E13/R/5Hoek+O9F1rxpqvhayac6lpShrgPEQhBx91u+Mj09s10lcZ4Z+Inh3xP4u1jSdFtbsXunxK91NNZmHfzgLhsOSPdR7VxGlfFLVNQ+N+rWc/h7WRZ6dp/kxWEMKtKCzoxlkXcAMjGOTgY9TRHXlXdf5/8MN6Xfb/gHo3iXx5ovhTW9F0rVmnFzrU/kWvlRFl3ZA+Y9hlgO/WukrivEXxH8OaJ4s0fQdRtbybU7+5SK2/0M7Y2YgbvMfC8budhJFb3iLxPpvhm2gk1F5GmupRDa2sCGSa5kPRUUdT79B3IoXw38w6/I16K4y1+Jum/8JhbeGdb03UtB1O8TfaJqCxFLgc8K8Ujrng8Ej061b1Xx5Y2HiceHNPsb3WdZ8j7RJZ2IjzDH2Z3kdEXORxnPI45oA6ckKpLHAAySe1crofxI8OeJPF134c0a4muL2zhM0zeQyRqAQMZbBJ+YdBj3qTwh4+0rxlcajaWUN3ZahpcvlXljexhJYTyB90lSDg8gmvP/CwA/a28YY76VF/6DBTirzSe1m/wuD+FvqrfnY9nrktY+KHhHw/qa6frWpy2V25xHDNYzqZOcZX5PmGe4yK62vCvjeB/wuL4ZnHP2/r/ANtoqS1nGPd2B6Rb7I9Dl+LPgyGJpJtVmjRRlmfT7kAD3Pl102kavY69pFvqmkXC3NlcpvhmUEBx0zggGotf1ux8O6Hc6nqjhLeBMsMjLnoFGepJ4ArE1HVtA+Fng0PdC7XTrcyMiwWzSlQzltvyjCgFsAtgdBmi6Suws27I6yivNbv45eHrfw9b6xbaVruo20kKz3BsrLzBZKeR5z7tinHONxPT1re1Px7axfDn/hLdAsrnWbeS3M0EVuuCeCSXz90DB3emOhNEvdTb6BH3mkup1lc34Z8eaL4s1nWtM0hpzcaLP5F15sRRd2WHynuMqw7dK4/4O+PLvWvAkF1rWn6o8sr3VzNfi33wN++c7UwSxxnAUL2xXQ+EfiJ4f8WXWvjw9ZXm7SnX7UzWnlvO5DcBT8xb5CMMAabVnr2Fe607nZ0V4x4H+J+qa78TvFS32gav5Nu1vaQWkESubQK0mWl+YAMScnGemO3PX2XxV0u98dt4QTSNYj1iPJkilhjVVQc793mYK4OcjOe2aS1t5jeja7HcUVz3ifxhbeFrnToLrTtQvG1KcW1v9jRH3SkEhSC4I4BOcYAHJroFJZQSpUkZweoo6XDrY5T4bf8AIp3H/YY1P/0umrrK5P4bf8incf8AYY1P/wBLpq6ygAori/HHjqfQdV0vw54etor7xHrDEW0MzERQRj700mOdoweBycH0qz/YfjCK0MsXi+Oe+C5EU+mxi1ZvTauJAPfeT9aOlw62OrornPCN7rWs+C4Zdd22OsM80c/koNsbrKy/KDnIwBjPUVwPgrxD8QPGF34ohg8QaZbyaHqD2UKy6XuWfaTgsRICucds0PRtf1/WodL/ACPYaK4D4YfEG6+IGjapb6jbLputaVcG1vFg+ZA/IDpuzxlTwc9O9Yng/wAQ+M/FHjTxbor+ILW2i0G7WCKQaartKrF+W+YYOFHSjrbyv8tP8w6X87HrVFc3osHiiz8RTwa3qVvqemvbB4ZY7QQNHKGwVbDHOQQR+NdJR0uHWxyfj3p4a/7D9r/7NXWVyfj3p4a/7D9r/wCzV1lABWJ4h8Y6B4VEI17U4raSc4hgAaSaX/djQFm/AVZ8RazD4d8M6jrNyN0VjbSTso/i2qTj8eleT/s/2EviSHVfiH4iP2rWNTunhhlcZ8iFcfKn90ZJHHZRQtW12VweiT76Hfx/ErwyJETUbq60cyf6ttXsZ7JH+jyoqn6ZzXQaVqlprWk22pabMJ7S6jEkMgBG5T0PNJq2k2OuaTc6ZqtslzaXKGOWKQZDA/19+1YGipZfDX4a28Ov38cNnpERja5Yk5QMQnGMliCowB14FF1Z3CzbVjq6K4XUPirYaLb2194g0DXdK0q6cLHqVzbxmJc9C6pI0kYP+0orR8XeP9N8G6FHreoWt5d6U4U/bLJY5EXd93Pzg4PHIBHI5oemrBa7HU0Vzeu+NrLQPCMfiWexv7nTWhWeR7ZEZoUYAgspYHv2zjvVa9+JOg6d4EtfFt19tGm3UImj8u1eR9p6btuQvUcsQPeh6Xv0Ba2t1OtorzW7+OXh638PW+sW2la7qNtJCs9wbKy8wWSnkec+7YpxzjcT09a19e+IlvZ/DNvF/h2yuNZgktmngWFcBQASWkJ+6q4Oe/GKUvdTb6BH3mkup2dFeV/C34gyT/DSyvvEFhrDMIpbifUPsbSxSkysSE2FmPXpt4wfSkk/aH8Hr4dOsxWurz24uTAyxWqsyAYxI3zYVSTgZIJIOBwapq0nHsJaq52Ou+O9F8O+KdG8P6k04vtZYrbeXEWUEHHzHtycd/fArpK4e/8Aib4Zg8Y6JoUttezanqLD7K7WTIsQYfe3vjjsdmfQ10GveJrHw+baK4We5vbxylpY2qb5pyBk7RkAADksSFHc0umvdj3enY2KK4zSfibpd94v/wCEW1TT9R0LWWTzIbbUo0AuF55jdHZW6Hv2PpV+98aRRa5daTpGkajrd3YqrXi2PkhbfcMqrNLIgLEc7VycdcUAdJRWH4U8VWfi/TJ72wt7u2WC5e1kivIvLkV0xuBXJxgnH4VuUAFFQX17babp899fzLBbW8bSyyueEVRkk/hXG3nxQt9P0iHV7zw1r0WlXJQQXphhKvvICEqJS6A5GCyjrzihauwbK53NFeSfGzx/qXhtdK0jTNNvQt/fQJNfIuFK7wxij55dgMHtjI78djqPxC0vRfDDa3r1pqGlx+eLeK1uoAJ55D91URSc5+vY5xQtVf5fl/mHW39f1odVRXFf8LNsbTxNpuh+IdG1bQrnVTiye+WFo5m4+XdFI+1uRwcdR61y/wAYPiFqWga94d0LT9LvhDeanbme7RMeeqyKxhi5+ZjxnOB27nB1Xm7B38lc9dorAl8YWNn4cOs6vbXulxeZ5S293DieRycKqopYsWPQDk1iT/FbTdL12x0zxNo2saB/aLbbS61CKLyZG/ulo5G2nkcNjHfFHWwdLndUVg614st9J1a20i2srvVNVuYmmSysgm8RKcGRmkZVVckDluT0zUfhzxlb+I9X1PSxpuo6de6WIzcw30aKRv3bcFWYMMLnIJHPWhag9DoqKKhu7qKytJLm43+XGu5tkbO2PZVBJ+gFAE1Feax/Hjwjc2d7PYxarePaz+QltBZkzXDAZYpHnIUdy23HHrWt4I+K3hvx7Y3k+kPdQzWI3XNncw4mRfXapbcOO2TRuB2lFeaN8efCeNZ8i31ad9IKrJElkRJKTu3bUYhgF2HcXCgVuxfEzw/L4M0zxIWukg1VhHZWphJuJ5CSBGsYzk5HY475xR0v/WuwbOx11FcW3xO06w1+y0nxLpWqeHZtQO20l1FIjDM390SRSOobkcNjqKTxb8UNL8F63Z6ZrGmasZL9xHaSwQo0c7EgbQ28YOSBg4/Lmjt5gdrXP+NPGuk+AtBGr68ZxbGZYR5Ee9izZxx+BNT+IfEsPhnw1JreoWN41vAgeeOERtJEPcFwDg8fKT7ZrnvGPxN8P+FfDdvf+J9N1JUugrJZvZb2zyVDNny1bjOC2fbikxo7aCdLm3jnhJMcqB1JGMgjI4qSuX8YfEHRfA+gpq2tLeGGRQyLb2rSE56AsPkU8/xMM1z2rfHHw7pWnW+of2Zrl7YSJG095Z2O+C1LgEJJIWC7hkAhScHjrxT0uyVeyPSaKzW8QaUnhsa/JfQppRtxc/anbCeWRkN+Rrk9S+Lml6NY2mp6xoeuWOi3kixw6pNbx+UdwyrFBIZVUjkFkH0o2dh7q6O+orH1jxRpei6ZbXtxM0y3jKlnFbL5kl0zDKrGo+8SOfQDkkDmsGD4o6ZH4stfDmv6Xqnh+/vRmz/tGOPy7g/3VeN3Xd7EjsOpFHWwdLnbUVz2qeL4bHXf7F07Tb7WdTWEXE1vZeUPIjJwrO0rooyQcDOTjpjmneFvF9r4r/tFbayvrGbTbj7NcQ30QR1faGxgE5GCOc4PbIoWoPQ36KKKACiuMvfiXYxwahdaRo+ra5Y6aWW7vNOjiMUZTlwpkkUyEd9gatjw94w0TxR4XXxBpN6j6cVZnlk+Tytv3g4P3SO/59KOlw62NuiuFuPirYx6K+uW3h/XbzQUyTqkFvH5ZUHmQI0glKDn5gmMc1r3PjjS18GDxTpqXGr6V5RmaWxCsyRqCWYqzKeMHIHI9KNldhu7HR0VzekeNrLX/BEXijRrK+vLOVWZYURBMQrFWO1mA/hPGc1W8P8AxK0HxJ4Nm8T2K3y6fBK0ThrVnlyuM4SPcT1oel79A3tbqdbRXm1l8cfDmq6DJqWjadrepuszxiysrHzrgquMylVOFTngsRnB44rc8PfEbSfFfgqbxH4etr69SEsj2SRD7QJBj5NucZ5BznGD1o2VwOtrm7Hx5ouoePr/AMH27TnVbCATzBoiI9p29G7n51/OuC+D/wASNR8UvrVzqukakzXWruFkhjD29mixoBGzbsggDnA5Jz3rrvD/AMRPDviLx9qHh/Sba7GpWlt5txPPZmAFQwAX58OfvgjK4x0NNLVel/wv+APRP+up2dFc9q3jC20/VW0rT9Pvta1OOISy2mnqhaFD0Ls7Ki5wcAtk44Bqt4P+IejeM5r60sVurLUdPfZd6ffxCOeHnGSASCM9wTSWuwPTc6qiuMl+JNqbC61PT9B1nUtHtGdZNStI4mjOwkOVVpBI6ggjKqRxxmum0bVIdc0Ox1W0V1gvbdLiNZAAwVlBGcd8Ghaq4bOxdooooAKKKKACiiigAooooAKKKKACiiigAooooAKKKKACiiigAooooAKKKKACiiigAooooAKKKKACiiigAooooAKKKKACiiigAooooAKKKKACiiigAooooAKKKKACiiigAooooAKKKKAOT+KH/JONT+sP/o5K6yuT+KH/ACTjU/rD/wCjkrrKAKGvf8i5qX/XpL/6Aao+Bv8Aknnh3/sFW3/opava9/yLmpf9ekv/AKAao+Bv+SeeHf8AsFW3/opaAPD/AB0T4M/av0LxHqOU07UgiiduFUlDC3PtlSfY19GEBlIIBBHIPesDxn4J0Xx5oL6V4gtzJFndFLGdskL/AN5G7H9D3FYOjeG/H3hmwTTbDxLpes2UK7YH1azkWeNR0UvG+HwO5GaUdI8r6fqOWsuZeX4HmWr+GNFT9rnSdNTTLZbCez+0SWgiAhaQRyc7OnVQenUVv6a0uo/tLeK9MfXL7R50sLdbIWiw5eJUVmUebG/GWzhcd/Sup0j4ZXTfEeLx14q1pL3V4YTDBBY23kW8S7WXHzMzNwx5yOtQ/En4Qx+NdXs/EGiavNoPiGyAWO8hBIdR0BwQQRk8g9Dgg9iPuqPz/G/5IT95y+X4WLMnw00e28faX4t1fxDq93rEDC3tWuJIFWT5X+QrHEueCx//AFVyfwE1B9Q8WfEKXUD/AMTNtVBl3feCgyKq/QYIrsPBngLWtM1KPV/G/iifxHqMCFLRTGI4bUEYZlUfecjjcecEiq2pfDO9sPiBN4y8CarBpl/eJsv7O7gMttd/7RCsCrcA5Hf6nNL3X5Wf4tP9NfUT95een4X/AM9DlPiFbSWX7TfgS+0obbq8jaK42fxxqWyT/wABZvy9q6DVvEnxhg1m8i0jwLpd1YJO62076gitJGCdrEGQYJGDjFdDovgmdPF7+LPFF9FqOtfZ/s1stvAYoLOLOSEUsxLEk5YnvgACuvpJWil6/i/6/Eb1k36fgjzL4pz6nc/s76vNr1pHZak9khubeJw6xv5i5AIJz+dZnw5+HeieJvg74fGsTatNb3ForTWg1a4WB+Tx5YfaB7DArtPiF4R1Lxv4ZudBtNZt9LtLtVWdmsTPIQGDfKfNUDoOx70/wB4V1LwZ4YtdCvdYt9TtbOMxwOlkYJAMk/MfMYHrjgChWfM31t+F/wDMHdKKXS/42/yOW+L9jB4Q+AOsWPhW0jsLZI0h8u3XAWN5FDn1OQTknnmup+GjW0/wq8NfZgphOmQLgdM7AGH55rf1TTLTWdJutN1KFZ7S6iaKaNujKRg1594Z8AeL/BGnTaH4Z8T2Emis7NbHUbFpJ7MMckKVdVfkk8457dqE/iT62/C+gP7Nul/xt/kc3+z3BLp+v+PtLt9w0u01YpbL/CrbpAQP+Aqn6Va+AX/IV8f/APYfk/m1eheFvB1v4M8MPpeiTZuZHaea8uk8xp525aRwCuc+gI4ArA+Hvw31XwJqGsXDeI7bUY9XuGupozpjRFZTnlT5x4yehB6dRQtH6Rt89P8AIT11/vX/AD/zOc8AjH7THxCx/wA8IP5JSeEP+TrvG/8A2Dof/QYa6Lw58NtY0H4lat4ul8SWt0+rgLdWo0to1CjGAjeccEBcZIP0pmp/C3UJPihc+L/D/imbRzqFutvfwJarI0igKPkdjhSQq84JBGfain7qhfpFr77hLVz82n+Rz/xpH/F0Phee/wDazf8AocNO8R6ksX7WHhi21JsWw0qQWYf7omfzASPc7cflXQ+Nvhnqfi7xNoOqweI4LBNAmE1pC+nNOzNlSfMczDd9wdAOp+tS/Ej4VwfEPTrCWXUG07XdOO621K2jI2twSNu7OMgEfNkHv1yRfKl5N/c1Yb9668l96dzodf0Dw3ealp2t6/Z28l3psqizuJM5jd2AUDHUliMA55rkJb7Tpfi/qtv4G0i3m8UfZUTVtVu5X8i1j42rsB+dzheF29OW4NWfCnw98R2+pWt/4+8YT+ImsDus7VYRFDG+MCR8cyMAeCenXmqt78KtYtviXfeLPCHixtF/tRQt9bvZLPuwByu44zxnkcHPUHFC0ku2v9fPqG6ffT8/6sYPwshurb4//EGK/ulu7gRwGSZYhGHOAchQTgc+p+pqbwv/AMna+MP+wVF/6DBW1oHwkvNA+JGoeJbfxXeyWt+qG4tpIwZZ3XB+eX+7uGcKF4O3gcVPpPw11nTPipqHjZvEtnNNqMQgntP7KZUEY2ABW88kH5Byc9+KdP3eS/RNCl9u3Vp/l/kei14L8erS3v8A4qfDi0vYUnt57wxyxSDKupliBBHcEV71XmHjj4Va3418W6Trj+K7WxfRpPMsoo9JLgHeGy5M/wA33R2HTpUr44t7JlfZku6NHXfgx4K1PR57ew8P6fp92RuguYIdjRuDkHK4yM9qn+Kt1b3Hwm8XQQypJJbWEiSqpzsYoGAPvgg/iKnm0Tx/JCyJ400mJmGA6eH2yvuM3JH5is6b4bai/wAMbzwoniNXutSaV9R1S4sTI9w0jZYhBIApxhep4AqaicoSiv6Y4tKSZS8GQRD9mW2jESBH0GUsoUAEmNiSfrWN8KiT+yrJk5xY6gP/AB6Wuv0nwPrek/DP/hEI/ENlJstmtIrxtLbKxEMDlfOwW5GDkDjoaPAnw8uPCPgOXwnqGrxapp7JLGjJZmCRVkJLAnzGB+8ccD8aur7zqW6rT8f8xUnyRp36PX8DM/Z6/wCSH6J/vT/+jnrD+CYx8SPifj/oLj/0Oaui+Hvw11rwLp508+LXvrC2MhsLU2YjSJnJO6TDbpOp+XIGTn0w/wAB/DbVPBfinXNXm8RW2oJrk5uLqAaaYir5YjY3nNgZc9QeBVuSc3Luv1X+RCTULef+f+Zznwh/5LH8UP8Ar/j/APQpaf8AG7T7nw5qmhfEzRYi11okyw3yL/y1tnOMH6biP+B57Vs2/wAKtQ074jav4h0bxVPYafrTrJf2MVspkkI5wspOUBJPIGRk4PQjqfG93pNv4F1t9dCy2C2kiTxbuXyuAo/2iSAPcisW3GnGS3il+H+ZrpKpJdJP8znNF1C28e/EqPWbGQT6PoNkotnH3XurhAzN9Vi2j2LmvQ6474U+ER4K+G+l6U0ey5Mfn3Xr5r8sD9OF/wCA12NaySi+VdP6/ryMottXf9f1+Zyfw2/5FO4/7DGp/wDpdNXWVyfw2/5FO4/7DGp/+l01dZUlHiE8rWX7Y0B1PiO70jy7Fm6fcOQPxWT869Z8Uvew+F9QudLvDZ3VvbyTRyeWrglVJAIYcjjtg+9ZXjj4f6b43htJJ5prDU9Pk82x1G1IEtu+Qe/BXIGQfTtVe40bx3eaLNpV1rmhus0TQvff2bKJCpGCfLEu3dg+uPapd/Z8q3V/zv8AqUre05ntp+Gn6Fb4OeIdZ8W/Du01/wAQXi3FzePIBHHCsaRhHZeMDJJxnk1w/wAKbfxBPrfxEXw9qGn2ZbX5lLXdm8xU7m+YYkUcehFeoeDvCCeB/A9r4d0i8aX7KrbLi5j3ZZmLElVK8ZJ4z+NY/gD4e6l4J1bWrubX7fUYtZu2vJ4hpxhKSHJO1vNbjnoQelaSs5u21rfiv8jNX5V3vf8AP/Mu/Dv4e2nw/wBJuoIryXUL6/nNxe3sqhTNIfRRnA5PGT1PNeefD3T9Tvvi58Sv7K1p9L2ajHv220cvmcyY+8OMe3rXt8okMLiBlSQg7WddwB9SARn8xXnXh74ceJfDPibX9a07xVpkk2uzie4juNEkZUILEBdtyD/EepNSviu+1vy/yLfwW80/z/zOi8IaRq2iyawviDU/7Smu9Q82C5aNYy8flIAuxeBjaR74z3rpq5jTfDuuf8JQmseI9ft9QS3gaK1s7TTzbRROxG6Q7pZCzYGOTwCfWunp9ELqcn496eGv+w/a/wDs1dZXJ+Penhr/ALD9r/7NXWUgOa+I2kT678Ndf0yzUvcXFjIsSjqzAZA/EjFcF+zJqsF38Km09WAuNPvZUljPUBjuBx+JH4GvYq8z1T4ST2Pi6fxR8O9dbw5qN1zd2zQCa1ujnJ3JkbSTzkZ9sHJpR92TfdWCXvRXk7/oemV4f8f9aRpPBKLMsujya3uu3U5QtG6jaT7Zf8vau+h0Txvqkf2fxL4h022tTxIuiWckUsq9x5skjbM+qqD6EVZ8XfD3Q/GHgr/hGruD7NaRBfsrQABrZlGFZfw4x3BNDumn2af3DVndd0196H/Eaxt9S+GXiK2u1Vom06ZuR0KoWU/gQD+FeGTTXk/7E4N8WbbKqRFuvli6AX8B0HsBXqS+B/Gl/wCFv+EW1/xVZTaUYxbzXdvYst5cQ9ChZnKKSOC2Cce/NdB4g8BaVrnw5m8GxqbLT2t1ghMQyYdhBQ89cEA+9KUdJW62/B3HF6xv0v8Ajoc34y/5NpvP+wBH/wCi1rJwD+yDzz/xT3/stTL8KPFl94CufDPiHxt9stUtfs1lFDaiFVwMI0rA7nAA4XOOOc1qx/DDVYfhO3giPxX5kckH2Zrm409W8uL+7GqupHplmanW9/2lvtbfj/mRT93kv0/4H+RX8GQRD9mW2jESBH0GUsoUAEmNiSfrXNeAST+x9fZOcabqI/8AHpa7vSfA+t6T8M/+EQj8Q2Umy2a0ivG0tsrEQwOV87BbkYOQOOhqLwd8NZvDfw4uvBepazHqWnTwzQpJHZmCRFlzuyTIwP3jjgfjTqe86luq0/H/ADHT92NNPo9fuRD8EufgXoH/AF7y/wDox65v9mKCEfDC9cRJvk1SUO23lsKmM/Suh8E/DjxF4N8PnSk8ZC7ht0ePT4pNPxFAHbJZ1WQNIeTgFgBk9eMWPhb8OdQ+G2l3Gltr8OqWM0zXAX+zzDIjkAH5vNYY+UcbfxrRyTqTl3X63ISahGPZ/ocx8Uh/xfj4Znv58381pmtzy3f7UkGmz6zeaTv0HZZS2wiLOxcsyjzUcchW6DPyjmul8X/DbVvFHjzRfEsXiO1sv7EcvaWx0xpAckE7284ZzjHAFL8SvhRb/EKCwvF1F9K1/TgPs+o26Ed84K7sgZ5GGyvqayj7sY36OX3PQuWsn5pfg7jdY+GOkXPiPSPEniPxNrV1eaXcRi0eZ7dF3GQbUIjhXILEDHvXNeKvD3jnwn441fxn8M57fWLW/ZTqejyHc29FA+UZGTjnAIYZxgiuj8I/DrxFZ6nbah488YXHiJ7E7rO1EflwxPjHmN3dgCcE9Mnr2vQ+FvFmjeJ9Z1PQte0+az1a4E50+/tHIgYIq7lkV887RkYx/Ons9PP9Pz/yDffy/X8hnwp8caV450O+vbDTn0u/S6P9pWbkkpMQAWz6EL6DkHiu7rgtN+HFxpHhTxHb6frTQa/4gkkuLjVIYvLEcrZxsQHKqMnHJPJOai+DsGt2Xh3UrHXNak12K0v3htNRlJJmQKu/BYksok3qDk9D24p6N27Jf5P7hbK/mzqvFuk2uveENU0nULkWlve2zwvOSB5e4Y3c8cHFeIS+JPGvwn0+HQPiXpEfiLwgdttHqdsTujj/AIQT6gAYDYPHDHFe4eK9EfxL4S1PRo7r7I99btCs4Xd5ZI+9jIzj6iuS1XwN4q8TeFh4X8T+INPudMfYtzeQWLJdXCIwbGC5RGJAywz9KlXUrry/r5fqVo1ZnNfHq5hvdO8CXVq4kgn1y3kjcdGUjIP5Gur+K974YtdL0lfE2lvq93JqEf8AZNhFIUea56LyCAF55JyOeh4qT4hfDSHxp4V03StOv20ibSZ457KdYvMEZRdoBXIyMe/YVl+LPhJqHivw/povfFlw3iLTbr7XDqjW4CB8KNqxKQEX5VIweoJOcmnor225r/LT8dCVfRvtb56/hqch8WIvEB8XfDq68Rz2SvJrcYjs7KNisHzx5zKxzIffao9q2Pjn/wAjl8Nf+w4v/ocVXfEvwg1/xVDo13qvjmaTWtLulnjufsKLAgGD8kIIG7IB3MTnGOBxWx47+GM3jDRNFittfuLTVdFuRc2+ozRCZnfqSy8DqAeOBjGMULS3lK/y0/yKvf8A8Ba+ev8Amc78Z75rf4hfDu3ub+bTrGS/mL3MOzMcuFVG+dWXjeeoPU1veMPhXp3inRxH4v8AFmu3NjZsbnMjWsYjKqctlYAehNT+JfhbB4z8C/2H4p1e4v78SfaF1Py1Ro5cYykY+VUxxsH1znmsHw78JfFULQWPjDx7daxoNswK6ckZT7QFPyrI5JYpwMrkg9M0RWnL53v935Cb1UvK35/ncXx94O8STeJtP8XfDPV4W1vT9PS2msblx/pVuSSuc8cnd1wDjIIIq18LviMni7xFqmna/oTaH4ttIEW8iO7bNGhOCAeRgyHg54YEEjpvax4V8Qnx0PEvhvXLW1BsUs5tOu7VpIpwruwYsrgqRv4wD39aNA8Dz2ni7U/Fmt3sM+t6hbrar9lhMcNtEuMBQxJYkgEsT2wAKE7emv8AS9f1E1+n6fl+h2VFeVfC3SPE/h7xpr2k614pn8S2ccMcrzS7iLe4Zm/dgsxwdmGIHAyvHr6rT6Jj6tHi3wDt4R4j+INx5Sed/bcieZtG7buc4z6Z7VWt9NXSv2xHOkoI477SWuL1UGBkjBJHuyofqao/By08QnxT49uvD1/ZRr/bUkctrfQM6P8AO5DqysCpHIxyCPTFeo+GvA8mjatq3iHUb+O/8SaqAsl2YCsUKAfJHHHuyEGBn5stjrUw0UJdor8Y2/4InrzLu/8A27+kcL8JIIj8bfidMY1Mq3iKrkcgFpCRn0OB+Qpni6/cftXeDbO9+WyhsXa2U/d8x1lBI9/lUfgK6fwd8NdY8KeONa8Qv4ltbwa5L5t5bf2W0YBDEjY3nHbjcRyGrR+Inw3tfHcNjcxXsmlazpcvnWGowoGMTZBwV43LkA4yOR9QXH3VT8t/ut/wSpe9Kpbrsc9+0fYwXXwZvp5lHm2dxBLC3dWLhDj8GNQ+OfC994z/AGetPknDnXbGwt9Qib+PzkjBYeuSN344rcvfA3iDxdDZWfj/AFfT7nTLSZZ5LTTbR4vtjr93zWZzhc8lVAye9d9tAXaANuMYxxilb3JJPVu6+SC/vRfZfmeS6D4sT4p6L4QsUYOZQL/WVH8P2dgAhH+3NtIHdVNM/aZAPwgbPa/gx/49XU/D34a6f8P7rXZrFg51W9MyYXHkxdVi/AlvzFM+KPw/vfiPoEejR63DpdmJVmkJsTNI7LnGD5igDnpg9OtOetml1Tf4flsFP3W79mvzMX45jP7Pup57RWv/AKNjqTxBBEv7L08axIqDw4jBQoAB8kHOPrzWn4x8Baz4x+Hq+F7vxDZ24cItzdR6YxMgQhl2qZvl5UZ5Ofan33gfW774Yf8ACHv4hslDWgsnvBpbZMQUKMJ5+A2B1zjnoKU9YVIrq9PuYqfuuF+n/A/yPIvGV/Ja/sw+AxKWNlLdWy3gH8Uah22n2yo/IV7/AKxomieLfDv2HWLWG/0y4VZAjEhWA5VgQQR9Qa5ay+FsUvwrHgXxLqEep2cUYjguILU28keCSrcu4LA9+Bjgg5rnNA+Dvi3TrZNC1L4iXc/heP5fsUEHlyyx/wDPPzCSyLjggE8cDFXJqUpLu7r8P8iYpxjHyVih4tu7V/jb8P7Gw1ObStIfTJV065sxHhWYFVC+YjLyFRencY611Xiv4W6Vrf2PUvFvirXLhdJk8+CSR7aMRHIPVIATkqtXviL8K9J+IHh+0sTK2mXWnc2F3AmfI4A27cjK8DjI6Dmsjwv8MfE8N5aP478b3Ov2VjIslvYLHsR3XlWlYnL4OCAc8gHNKL79G9fnf7xy7rta3yt9xQ8deFfGOnePLnxv8ML62u70wJb6lpE7A+aFAK9xztwcZU9wTnFbPwo+IFl43bVxNo76L4htpUGqWr5+ZgNisM4PRcYIyMd+taNz4W8T2XjjUvEPh7XbJYNRSJJdMvrRmjyi7Q4dXBDfhjHXtSaH4An0yXxJq02qL/wkPiFcS3ltBsjtsIVQRoST8vXJOSR2qY6Ly1++5UrN+en3f8A7aue+IF1dWXw48Q3NgzLcxabO8bL1UiM8j3Fcn8H9P8RaNP4g0nXfEM3iK1s540hvZSzYlKkyxqzEkhfkzzwSR616VLFHPC8MyLJHIpV0YZDA8EGlUjeLS6oIStK76M88+BklhffBHRIrdUeNYpIbhMZ+fe28Ee+c/Q1zXxgsdK8IfAvXNJ8E20dlbreRR3sduWOzzCrNkknqCg69CBT7P4I+I/C2tXZ+HvjubRNIvZN8lnJbCYxf7u44JxwDwcY5OK9EtfAukReCZ/DF6Jr+1u0f7XNcvuluXflpGb+9nkHtgY6VVT305Lr/AJ3t6Cp+40nrb+r+pL4OFpefDvRFgRHtJdMgVUxlShjAxXifwmjuLT4V/E3T0LNp1pLdx2uTkAiJg2PwCH8a9B8OeA/GnhHRX8O6J4rsZNHUsLWe8sGe6tEY52riQK2M8Ejr2xxXT+HfA+keG/BZ8NWaPJaSxutxJI2ZJ2cYd2Pqc/yoq++5yXVP8Xf8P1Cn7nIn0a/D/M5X4Ff8kE0j/rncf+jXrI/Zr5+D1wD/ANBC4/8AQVq74S+E/iXwzYyaAfG0j+GA7tFaQ2qxzsrEkoZc5UZPO3k8425q98O/hhrHw/8ACV3pVr4oWeW4ZpEWSxDQQuwALbQwdjgD+MD2pzfM5v8AmX6iirKK7P8AzMP9mGJF+F126ood9Um3MBy2FTGTR+z+ojuPHkaDaia/KFUdByf8K6X4b/DrVvhz4dutHtfENpfxSytPE8umMrRyMFBzib5lwvTg89aPh18ONS8B6hq803iC31OHVrk3U8Y04wsshzna3msAOehB6dacrOV/7tvn7v8AkLW3/b1/z/zOa/Zr/wCRP8Qf9h2b/wBASm+GBj9rbxfjvpMX8oK3fBvwq1DwZr1+1j4qnOhXV416NMS2VW8w9A0udxUYGQMbsDPfMukfDXWNM+Kt/wCN5PEtpPLqEQgntBpbKvljYAFbzyQfkHJz34pQ0lFvtb8LFz15rdX+tzlPhmtzr/j34gwt4k1PS9Qi1l2eG1W3O+IEoh/exOeAuODgcetdno/w40Pw98QpvEcmt6nd63qdu8cgupIgsyAIGO2ONemF5rG8bfBm41bxl/wl3gnxDL4c1txidkQsk3GMnBGCQBkcg4HHeul8G+Cb7Q2uNR8Ta/P4g1y5i8lruVAiQx9dkaDhQTyT3IHpUr4V3St+FvxFL4n2bv8Ajf8AA8rQePPgjZSyaXBB4u8BszTpsb95bxOdxORnA5znDL3+XNez+CNY0jXvBGlah4cjaLTZLcLBE3WIL8uw8nkEEde1ctpHgjxrovg8+F4/E2mXti0DW6XVzp7+fBGwwVAEm18A8Zx756V1/hLwzY+DvCtjoOl7zbWce1XkOWckksx9ySTV9GvS3fruJ73Xnc2KKKKkYUUUUAFFFFABRRRQAUUUUAFFFFABRRRQAUUUUAFFFFABRVeS6CPhRkDrUyOHXKnIptNK4rjqKKKQwooooAKKKKACiiigAooooAKKKKACiiigAooooAKKKKACiiigAooooAKKKKACiiigAooooAKKKKACiiigDk/ih/yTjU/rD/6OSusrk/ih/wAk41P6w/8Ao5K6ygChr3/Iual/16S/+gGqPgb/AJJ54d/7BVt/6KWr2u/8i5qX/XpL/wCgGqPgck/D3w6Sck6XbZJ/65LQBu0Vk3fivw7p909tf69pdtPGcPFNeRoy/UE5FQ/8Jx4U/wChn0b/AMGEX/xVAG5RUNne2uoWiXVhcw3VvIMpNDIHRu3BHBqagAooooAKKyb3xTomneIrLQr3UoYdUv1LW1qxO6QDP4DoevXBxTNX8XeH9Bvray1fV7W1u7uRYoLdpMySMxwMIOcZI5xigDZorL8QeJdH8K6Z/aHiG/isLTzFjEsucFj0GBz/APqrSjkSaJJYmDxuoZWU5DA9CKAHUUUUAFFFFABRRRQAUUUUAFFFFABRRRQAUUUUAFFFFABRRRQAUUUUAFed23wQ8JQePbjxZML26u57g3X2a4mDQJLnO4LjJweQCSB+VeiUULR36hurBRRRQByfw2/5FO4/7DGp/wDpdNXWVyfw3JbwpcFiT/xN9SHP/X7NXWUAFFFFABRRRQAUUUUAFFFFAHJ+Penhr/sP2v8A7NXWVyfj0kDw3g4/4n9r/wCzV1lABRUN5e2un2r3N/cw2sCfelmkCKv1J4FZP/Cb+FP+hn0b/wAGEX/xVAG5RVSw1bTtVjL6Xf2t6i9Wt5lkA/75Jq3QAUUVk6Z4p0TWNY1DStM1KG5vtNYLdwITuiJ9fXpjjoeKPIPM1qKKxrXxd4fvvET6FY6va3OpxxtLJbQSb2RQQDuxwDkjg880eQGzRRRQAUUUUAFFFFABRRWbrniLR/DVibzX9TtdPg7PcShd3sB1J9hzRewFy7tIL61ktryJZoJRteNxlWHoR3FPhhit4Uht40iijUKiIoVVA6AAdBUdle2+o6fb3tlIJba5jWWKQAjcjDIPPsanp2adg3CiioL6+ttN0+e+v5kt7a3jaWWVzhUUDJJ/ClsG5PRWZpniPR9Z0CPW9N1GCbTJFLC63bUABwck4xgg9aboXifRfE8NxN4f1KDUIraYwyywNuQPgHAboeCORkUdbB5mrRSMyopZyFVRkknAArI0fxZoPiDULyy0PVbbUJ7EL9oFs+8R7s4+YcZ+U8A8YoDzNiismx8U6JqXiC90Ox1KGfU7BQ1zbKTujB9ex6jOOmea1qOlw8gpGUMpVuhGDS0UAV7GwtNNtVttPtoraBSSI4kCjJ6nA7n1p13DJcWskUNzLauwwJoQpZPcBgy/mDU1FG4HFeC/hlZ+BtSv7zS9c1e4/tGYz3cN20DJLJz83yxAg/MehFdrRRR5AFFFFABRUVzcw2dpLdXcqwwQoZJJHOAigZJJ9AKp6D4g0rxPpEeqaDex3tlISFmjzgkHBGDyD9aANGiiigAooooAKKKKACiiigApk0MdxBJDMu+ORSrqe4PBFPooAitbS3sbWO2soI7eCMbUiiQKqj0AHAqWiigAooooAKKKKACiiigAooooAKKKKACiiigAooooAKKKKACiiigAooooAKKKKACiiigAooooAKKKKACiiigAqtcXHVIz9TRcXHVIz9TVWtYx6shsKfHK0TZX8R60yitSDRjkWRcr+I9KdWcjtG2VNXopVlXjg9xWEo2NE7j6KKKgoKKKKACiiigAooooAKKKKACiiigAooooAKKKKACiiigAooooAKKKKACiiigAooooAKKKKACiiigDk/ih/wAk41P6w/8Ao5K6yuT+J5I+HOpEHBzD0/67JXWUAUNe/wCRc1L/AK9Jf/QDVHwN/wAk88O/9gq2/wDRS1e17/kXNS/69Jf/AEA1R8Df8k88O/8AYKtv/RS0AeS/tSW8LeH/AA1O0SGUan5YcrztKkkZ9OBXq+p6D4Tt9LZ9W0bSxauUibzLNCCXYKoxt7lgPxryv9qVd3hXw6pJGdVAyDgj5DXXaz8Jre9t7KW11zX57izvLe6jivtXmnibZIrEFXJHQHHfOKUdYtPbm/SIS3Xp+rNzTYNC+FnglLW91CO10u1mk8l5c5AkkZ1jA5LEbsDGScdKk074heG9S16PRI7ye21OVPMitL+yntJJV9VEqLu6Hp6Gsb4q23hh4dBvfFNzfCWx1JJtOs7EhpbycfdjCEHdk49MeozXBfEW61q6+LnwzvNY0230sPqLLDClx5swXfFnzCAFB56KWHXk1Ubymk+rt+AS0i2u1z23Wdd0zw/Yi71i8jtYS4jQtktI56KqjJZj2ABNZej+PfDut63Jo9neyRanGnmGyvLWW1mK/wB4JKqkj6Vwd7qA1H9q6w03UmzBpujvLYxP085/vOB67cj/AIDXb6z4F0HU/G2leLtQMsWpaYPKgdZtiNkkKGHflzjkZzjmlHWzezv+q/QJdUt1/wAOVb/W/AFx8RNMtLyfTbrxTGXitAqebNCdpLAlQdnAP3sdeOtcL8d7O2Txd8PbpLeJbiTXI1eVUAZhuj4J6noKk8bwxx/tReAnRFVntZtxAxn5ZP8AE0/49f8AIxfDv/sPJ/6ElKOqg/73/tw5aSkv7v6M7b4g614FsNIFr8QrnTzbMwlS1uh5juQeGWMZY+mQKq/Ev4h2Pw+8EyX0MbS3UsO2whjiO0EjCsxxhVGR1x6CuY/aahjb4SeYyKXS/g2tjkfeHX8TV745/wDJvup/9crX/wBGx1D1hL1t+RSXvxXdfqaehfFPw3H4HsNR1nVpVMVrALy4ks5tqyMg6tsxyQeeldVoPiXSvE+l/wBo6FcPdWZJCzCCRFfHXbuUbumOM81m6Bpdprfwp0vTNRiEtrd6PDDKh7q0SivMvhh4uPw+0PxX4O8Svm48J+ZcWueDcW7HK7fqzLj/AK6Adq3qWVSa7Xa+W5lC7hFrrb8dj1rQ/F2i+JLq7ttGupJ5bJ/LuVa2lj8p/wC6xdQA3t1rarmPh7oc+heDbZNRA/tO9Zr6/bHWeU73/LO36KK6epatoNO+qCiiikMKKKKACiiigAooooAKKKKACiiigAooooAKKKKACiiigAooooA5P4bf8incf9hjU/8A0umrrK5P4bf8incf9hjU/wD0umrrKAPO/H3jvXvCPirw/pdhY6ddxa9dfZoZJndDC2VHzYzkfN2rSvNV8daZc2Ml1pWjXVlLdxQXJtJ5fNhR3C7wrLggZ55ri/jl9p/4Tf4b/YDCLr+1z5RnBKbsx43Y5x9K7jSF8Zjxup8Rvp7aZ/Z8gjGnLKF87zE+/vPXb93/AIFThql6v8En/wAActPu/Vo6a/vrfTNNub69kEVvbRNLK56KqjJP5CuX+GXj2H4ieEv7WSEW08dxJBPb5yYyp+X81Kn6k1R+Jmr2nmaR4buzN5GpXHnX3kW8kzC1iIZgVjUnDtsTpjDGuI8Ka5YeGf2hdQsdO+0R6L4tj8+IT2ktuEu1yWAEirnPzdP7yilDWVu+3qv89V6oUtI3/q39a+h6/wCJ/EumeEPDt1rWtzeTaWy5bAyzk8BVHck8CsPSdT8c67YR6nHYaRpFtOokgsrwyyzlDyPMZSqoSOcANiuG/aOkdofBtrPxp02sp9pz904xjP4F69rAwAB0ojqm/O34L/MHo0vK/wCLX6HMeEvEuqa5qGtWWt6QulXOl3CRCNJvNEisgYOGwMqeccD35yK6emLDEs7zLGolkAV3A5YDOAT7ZP50+gDk/HvTw1/2H7X/ANmrrK5Px708Nf8AYftf/Zq6ygA69a+fvgpo+mz/ABc+I8U+n2sqW98VhWSFWEY86XhcjjoOnpX0DXzn8LfD0evfGH4jeZqWqWPk6g+P7PvHt9+ZpfvbeuMcZ6c0R/ifJ/oEv4b9UWv2gdL03wR/YfirwgkejeIftvlD7Eoj+0JtJO5V4bBCg8chsHPFevav460Lwtolre+LtTttLlmhWQwSNmQkjkKgyzYPHANeM/FnwRd/Du6sviHpOqXOutZTpHLa+IH+2CMMflZGPIAOPcE5Brb+MutW/i39mqLxClsIjefZZ1VhkxkuAQD7ZIzU81qbt3Xyv/Vx2vUV+332/wAtj0SP4neDZfEqaAmvW/8AaTReb5JDAKu3ecvjaCF5wTkelReEtW8Car4l1uTwbJYXGpko+pXFnHxITnaTIBtboehPvVrw14V0G20XRLmPSLP7Va2SLDctArSoGX5vnIzySc885PrXnnwnRIPjb8TljQKouojtUY6tITWjSjUceyf4EJt0uf0/E9O1nxhomhX0VhfXMkl9MhkSztLaW5nZB1by4lZgvuRivH/BN/oup/tUard+GzF9ik0XBEcJi2uDErAoQCrAjBBANa/wA1A+JJfF/ia/O/Ur3VTG7NyUhVQUQegGSPwqLR7eG3/bA1swRqnm6IJH2jG5j5WT+lTHSUb9U/xi2W/hkl0/SSPUNV8V6Po2oQ6feXMj386GSOztbeS4mZB1bZGrMF9yMVn2HxM8GalOtvB4jsI7lpfJFrcyfZ5xJnGwxSbXBzxgivPtHvP+ES/aU8SS+LpltINbtEOl3tywSJ1TbmNWPAI9Pb3FL4L0yPW/2i/FPiXSoYrnQBbJD9rChoprkCPJjboxG1skdPxoh73K31Tfpb+vvFLTm8rfO/8AX4HqWteKNI8PyQxalcuLicExW1vBJPNIB1KxxqzEDucYFQ+GfGnh/wAYRzt4e1FLprZtk8JRo5Yj6MjgMOh6jtXmngy71zX/AIvfECbT9VsLO6tLqK1C3lg1ywgTcFCESptXIJIwck5rf0b4YXml/FS48aX3iWB7nUIWgns7WwNuk3yAAjMrnI2hu/SiOyb6q/6oJaNpdHb/ADOhvfiP4YsGuTcXtwYLRzHcXcNhPLbwsOqtMiFAR0Pzcd639O1C21XTLbULCTzbW6iWaGTBG5GGQcHkcGvAdP8AE3iX4JWUvhrx34ffV/CbyyLBqtoN2EkYkhweDncflbaeTgkYr27wfNpM/g3SW8OXH2nShaolrITyUUYGeByMYPHUU1rG/p/wQekreps15l+0HZW0/wAGNZuJreJ5oRCY5GQFk/fJnB6ivTa84+P3/JENe+kP/o5KyqfCXT+NFfRPiv4I8K+E/Dela7r8FtenS7XdEsbyeXmJcbyikL+OPWuv1rx14c8Pabb6jq2pCGwuVDRXiQySQuD0/eIpXnsM81zvh3wN4c1j4MaZpd1pNp5N5pcTyMIhv8xogTJu67snOeteJafd3U/7H+vW105kjstVWG3J7J5kTYHtuZvzras3zz7p/m7GdNXjHs/8rn0rq/i/RNC0SHWNUu2h06ZA63Qt5HQKQCCxVTtzkYziodR8TeFpvB41TV9RsRoV/DxLdsFjnRh93DdcjPGM1ynjP/k2m8/7AMf/AKLWqulQxzfsqIsqK4HhuQjcM4PlNU1fd51/L/wf8h03zcnn/wAD/M7Pwn/wi+q+CbT/AIRa2tn0CQMLeJbcrGQHOfkYA/eBPI9686/ZqjSHwz4ljjUKia7KqqBwAETArovgL/yRDw//ALkv/o564z4Jak+jfDXx5qcS73s9Tu51X1KxBgP0p1PcqT8k/wA0ELzhFea/JnqmseNvDmnXtxpd9PLd3EUe66trSxmvDChHWQRI2wEf3sZFeX/BC70y4+KHxHvNHlgOmyTwywyRYWPYTIcj0FdD+zyFuPhYmrTP51/qd7cXF7O3LSSbyMk/QD86yPhBbQ23xl+J0EESpELyPCAcDLSE8fjQk4zs9+V/oDadNtbXX5s7nw1rHgLVPGmrP4Vm0+51sxK2oXNom7cucDMgG08joD25qwvxM8GPql3p8fiKxknsrdrm5KSbo4o1IBLSD5QcsBjOfauB+H0SQ/tK/EJIkVF8mE4UYGSEJ/WqthpOn3f7XusLc2cMqRaRHOiMgKiQCIBsdMj/AOvUx1UPNP8AX/IHvPya/T/M9J8K/Enwl42vLi18M6zHe3Fuu6SLy3jbbnG4B1GRnuM9RWlrPifSNBntrfUrordXZIt7WGJ5ppscnbGgLEDucYHevLdYjS1/a/0F7dRG13ozmcqMeYQJcZ9fur+QpNUuH8LftQx614nkEGj6ppf2OwvZjiGKQbSULHhSSrf99invy+d/wv8AnYHpzeVvxt+Vzvofih4Lknlgm8RWdjcwyeXJbagxtJUb0McoVv0rQ1Xxfo+j362NzNcTXjR+abays5rqRY843ssSsVX3OM9q8vgsIPFP7UH9taEkF9pFjpgh1G7RRJC82G2oG6Mwyh46bfaneMD42+HHxI1XxnoOk/8ACQ6DqsUIvrWMnzbfyl2gjGSB1OQCOTkDg0rqyb63/r5jtq0ulv0/I9T8PeKNH8V2c11oF59rhgmMEjeWybXABKkMAcjI/lWtXDfC7xT4Y8X6XqWr+FhLDJd3fn39pMAHhmKKvQcYIQHOTk575A7mqasSncCQqkscAckntXHXHxX8HWsLXMupzGySXyWv47C4e1D5xjz1Qx9f9qui12CzuvDuo2+qTm2spbaRLiYPs8uMqQzbj0wMnNeLajIn/DPeq6V4K02SXwvZ2MwXVdWl2vcgMWLRRquW+bOGbYPQGolKyb7FpXaXc9j1XWtCtfDzX+s6hYx6TPFgzXEq+VKjDpk8Nkdu9Y/hnXvBGneA4tS8O3Vhp3hxHdY5iPs8W4MQ338HJYH61g+D40uf2arJbhVkB0GQYcZ/5ZsP5VmfBCGOf9nOCOaNZEZLwFWGQfnenU9x1LfZ/wCCTD34wb6v9Dpp/jL4AttNtb+fxHClteSvFA3lSEuVOGO0LkKD/EQB71oH4leDRqVxYDxHYvPa27XM+yTckUakAlnHyg5I4Jzz0rzr9nrwxoeq/BuJ9V0q0vzPeyNJ9qhWUHY3y8MDjHPTuT6mq66FpeoftcXtveWMMsEejpOIWT5C42AEr0OOvPcA9QKpq0lHv/lcmLvFy7f52PSfC3xP8HeM9QksfDetxXd1GpYwmN4mYDqVDqNw+ma2Nb8S6R4dWD+17wQvcNsghRGllmb0SNAWc/QGvFvjNodt4a+KHgXxL4ft47O+udRW2nEChPO+ZMZA6kqzKT3BFa3hDU21z9qHxYdR+Z9KsRbWKN/yzTcm4r9Sc5/2qUfeslvr+Cv+N0VL3bt+X4u36M9I0Lxx4e8R6jcadpl+f7QthmayuYJLedB6mORVbHI5xjmo7/4geFNM8QQaJea5aLqUzFRbK+9kIBJ34yE4BPzYrzD4+xPoXizwT4r0geXqcd+LUsnDTISCEPqPvD/gRp/xW0uzv/jx8OoLq3R47hphMuMeYAQcN6jrx3yfWlH3nFd3b8LhL3VJ9lf9Dode+PPg6z8L6pqGg6h/a11Z/u1ghgkAMhyFJYqBsz/F09MnAra+HXjax8SeDdPlnv2lv4tPimv5JYXjVWKjc25lCkZz0NY/xj0XS9M+D/i2503TbS0nu4Y2uJYIVRpiJFwWIHPU9at6JokviT9njT9Ft5xby3/h+KBJT0UtCAM+3rRe0ZNbq35Mq2sfO/6GnL8UfCcEMdxPfXUVrMwWC6k065WCcnoElMex89sE57V11fPNv8Qr3w3pVv4C+Nfh2azs9iW8Gr2w3RuEI2P3BI2g5Xkd1FfQkciSxJJEwdHUMrKcgg9CKtpWutURd3sx1FFFSMKKKKACiiigAooooAKKKKACiiigAooooAKKKKACiiigAooooAKKKKACiiigAooooAKKKKACiiigAqtcXHVIz9TRcXHVIz9TVWtYx6shsKKKK1ICiil2N/dP5UAJSqxRsqcGkII6jFFAF6GYSj0buKlrMBKnIOCKuwTiThuG/nWMoW1RopE1FFFZlBRRRQAUUUUAFFFFABRRRQAUUUUAFFFFABRRRQAUUUUAFFFFABRRRQAUUUUAFFFFABRRRQByfxQ/5Jxqf1h/9HJXWVyfxQ/5Jxqf1h/9HJXWUAUNe/5FzUv+vSX/ANANUfA3/JPPDv8A2Crb/wBFLV7Xv+Rc1L/r0l/9ANUfA3/JPPDv/YKtv/RS0AcL8ZPh/wCLfiNDp9lo/wDY1pa2FybgS3V3LvlOMAbViIXv/Ea9L0p9SexT+2ba1t7ocMlpcNMh467mRD1zxirlFC0VgeruebfFfwFrvijUPD2u+Eru1i1XQbkzRRXhIilBKnqAecqPqCeRWJ4u+H3xE8U6z4X8QS6hoKalo915v2NUkFvCMqc7uXkJK8/dHTHcn2SiiPu2t0dwev3WPKPiP8K9b8QX2j+J/C+sRW3i3SUCG4kTy47kDJ6AHbyWwDkEHB9a0/DGhePtX1K0vviTfabFb2DeZBp2mIcSygYEkrH+71CjjOD2FeiUULQHqeXeKfBHi7WPi/oXi3T49FFnoyNGsE97KskytuBJxCQpw3Tnp1p3xR8D+KvGms+HLnRl0eGHRLtbw/aruUNK4KnbhYiAPlPOTnPQV6fRQtEl2d/1G9W33VvkebfFvwb4o+IXguDRNNj0m0dpknuJLi8lIUrn5VxD8w5HJx9K0/F/hHVPGnwlu/Dd81nZalPBGoaKZpYQ6MrD5iinBK/3eM967ailZWa7hd3T7HI/D3SvFek+H7a08X3OnM1pbx20EGnqxXagxvd25LEAcAADHfPHI+N/BGneJvjx4YmjJE8Fq91qca/dkhidTCG9cyHGD1Cn0rufHXhm+8W+F5dL0vXrvQblpFdby1zuGD904ZTg+xHb6VB4H8Dp4PtZ5LvVbzW9Wuwou9TvWJkkCjCqMk7VGTgZPJPNVzNz530JslHlXU6qiiikMKKKKACiiigAooooAKKKKACiiigAooooAKKKKACiiigAooooAKKKKAOT+G3/ACKdx/2GNT/9Lpq6yuT+G3/Ip3H/AGGNT/8AS6ausoA81+IvgvxP4q8XeGNS0dNJS20C8+1YuryVXn5Q7cLEwX7p5yetejRGY26mdESbb8yI5ZQfQMQMj3wKkooWkeUHq7nIeHdH8Rw+ONZ1vxFBpfl3kccFobW7kke3hTJ2ENEoOWYsSD6DHFZPxc8Da541tNHPhhtPtdQ0u9W7hvbud0MZH8ICxtkE7T1H3a9Foo7eQd/M5HxP4M/4WD4DbRfFsUFreOA4lsZWlWCZejoWVSe/BHQkZ71R0J/iTo1jFpmq6Zo+uGFRHHqa6i9sZFHAMiGJju9Sua7yijq/MOi8jN0iyvrcTXOr3S3F5cEF1iyIYVHREB7DJyx5JPYYA0qKKAOT8e9PDX/Yftf/AGausrk/HvTw1/2H7X/2ausoAgvHuktXbT4YZ7gfcjnmMSH6sFYj8jXj/gr4f/EPwb4w8Ra7HH4ZvDrs5mkha/uE8o72bAbyDn7+OnavZ6KFo7g9VY8m8ZeAPHPxL+z6Z4n1LR9G0GOUSywaW8txNMR0BZ0QfTjg8kHitD4k/D3VPEPw1g8F+D4tNtbKMQqJby5kQxrGQQAqxtuzgckjvXpNFJpNW87ju73+Rj+HYdZtPDFtbaxBYrqFvAsWLW5d4pCqgA7mjUrkjpg4964fwJ4H8WeG/iR4l8QaqmjPZ6/KJGjtryVpLfaSRgNCA3Deor1CiqbvLn6/5kpJQ5On+R41bfDrxn8PvHmo6t8OX0290bV5PMudMv5Wi8psk5UgHgEnB9Dgg4BqxpPgHx3H8aZvGd/faJHHPZrbzKkcjjbgZRFyDxtHzMRnrt7D12ilHS3kN638zxHUbPx7q/xM8R6x4Bv9F1SwTy7B01VCVhdBl4Y8DnDHLHIBJxyV41dO8U/FHw9qunJ430DRJNHurqKzafS5CJIWkYKh2sxyMkcAVMnwg1jQNWvLr4e+Or3w/bXszTzWM9ml5EHbqVDkY/In3rpdD8FX0F9BqHi7xLdeJL22O638yCO2ggbGN6xIMFsEjcxJGeMUQ0Sv8/1Cerf9ehxnjb4X+KbX4gN44+F+p29nqVyoW9s7k4jn4Az0IOcDIOORkHNdP4R8P+Lp74618Q9Qspr+OForOx09SILYN95yTyznAHoBnHU13VFJK0eXoD1dzy/TNH+IFt8PW8JazpOi6qzWjWkd99vYRhCu0eYhjySo/u9cdutSz+CvFfhL4O6f4a+Heq28Wq2jDzbu5UAMpZmkKhgwHLdweB616XVPVNKttYs/sl95rW7HMkccrIJB/dbaQSp7joe/FOV3fzt+A1/n+JifDnWNT174f6XqOveWb+VGEskQwku12USKPRgA34074heE28ceA9S8PR3QtHvFXbMybgpVwwyMjg7cfjXRRRRwQpDBGscUahURBgKBwAB2FPonaVxRvGx5ppen/EiDwbD4Vax0Wzkgtls11qK9d1WMLt3rCUBL47FgM8+1WdU+E1g/wXn8BaNN5CmIGO5lGS8wcPvfHqw5x0B46V6FRRL3r36hH3bW6HjUnhH4n638L7rwvrc2jWiQ2P2WD7GzNJeFQAu9m+VFwBnAyf8AZrc03wd4v0/4LP4Rln0a6vmsWsY3DywxxIyldxbaxcjI/hXpXpNFEvevfrv/AF8wj7trdDhfhr4b8SeCvhzBoGoQ6Vc3diHFu8F5J5c252b5iYspjd2DZ9qyPhT8PvEPg7Tda0rxMmkXdlq1zJcO9pcyMw3rtZCjRKCOOufwr1GinL3m2+oLRWXqeMeE/AfxC+GOqXum+EJdJ1fw3dzGWFNRmeKS1Y8ZO0HPAAOM5xn5ea0PAPgHxn4a+IfiXX9TvtJkt9YlDuiRvvlK5IKjOIx8xHJc47V6vRSV07+Vgeqt8zy7wp4I8XaN8XNe8WahHorWetKqNBBeytJAF24IzCAxwvTjr1pNP8E+L7X4333jeWLRDZ3loLM2y30vmIg2fNnyME/J0469a9SooWlrdNAet/M8t1bwR4vvfjdpvja3i0QWen2zWi2z30okkQhxuJEBAPz9OenWszxTaeNNZ+LV5e+AdQ0m9TTLFLS5tdTQmG2kc7iikA5cgAk8YGAe1ey15lf/AAk1Gz8UX+u+A/Gd74bn1KUzXlu1sl3BJIeSwRiAOp65xnjHSl2Xa/4/8OxvW772/D/hkZa+KPi14SWK88VeHvD9xokUiJcnTJGSWNWYLuUFsHBPTHPtXTpaeNtE8aa5fWNlp+q6JqUscsNu14YZ4HWJEZuUKkHb0z2z7VNpHgbVWuoLnxt4suvEjW0glgt/ssdpbq45DNGn3yDyNxIB5xnGO0qv6/Ik838L+AtZ8OWni/WLJ7Gz8Q+IXaaCCIlre0YBvLBJUbjuYljtxnt6zfCfUvGFxa6zpfj25t72/wBLukiF3bhdrbow5Q7VAJXcM4Heu+uIBc20kLPJGJFKlonKsM+hHIPvUOm6ZZ6RZLaadAsEKktgEksxOSzE8sxPJJJJPWktPuS+4b1++5Q8X6B/wlPg3VdD8825v7Z4RKBnYSODjuM9q8x0zwB8SZfhfdeCdW1HQ7WzitHtree3V5JZxg7UYkBUXsWClsdgea9nopOKaa7/ANfqO+3kebeF/CfjPRfhG/hy9m0i4vhZtZ28SyPHDChDDez7GZ2+YZAUDj8SzwB4P8XeDPhbJ4Ymh0W6uoxKLeZL6VUYSEn5v3ORgntnPtXplFOXvc1+u4o+6kl02PPPg74O8R+AfCf9ga//AGXNDHK8sVxZXMjMdxB2lGjX35z+FcVfPrEX7Wt5LoENtczx6MrSW9zKYxLHhQQHAO1skEZGOMcZzXvBzg469q84t/hrrsHxWm8cnxNYtczW/wBle1/slxH5WBwD5+c/KDn9Kd25pvp/k0JJKDS6/wCaZM/hDV/F3jvSvEPi63trGy0Pc9hpsM/ns8zYzLI+0AYwMKM8jOe1UvFPw71m1+JVv4/8By2v9peX5OoafduY47yPGOHAO1sAdRj5Qe2D6dRS2tbp+u49736nn1x4S1nxp4s0bWPGNraabYaI5ntdNt7k3DSznGHkfaoAXAwoB9z2rP8AG/gnxf4g+J3h3xJpKaKlroLsUjub2UPcBiN2dsJCcD1avUaKNmmujv8AMHqmn10+Rznjbw3P4y+Hup6E8kVrc31tsDBi6JICGHOASMjrgHHauS0bwh48T4V3XhzVr/SYbqHTvsOnCz37QVACyySMM5GBwox1JycAeoUUrb+f9fqO+3l/X6Hl/ijw54z8eeCv+EV8Q6VpFtJM0f2jVYrxpUXawJeOIoG3HGMEgDJ5r0fTrGLTNLtbC33GK1hSFNxydqqAM/lVmiqvv5k228gooopDCiiigAooooAKKKKACiiigAooooAKKKKACiiigAooooAKKKKACiiigAooooAKKKKACiiigAqtcXHVIz9TRcXHVIz9TVWtYx6shsKKKkihaU8cDua1bsSMVWdsKMmrUdoBzIc+wqZEWNcKKdWMpt7FqIioq/dUCloorMoOtRvBG/VcH1FSUU7tAU5LVk5X5h+tQdD6GtOopbdZORw3rWkZ9yHHsNguN/yv97sfWp6pJbOZNrDAHU1dAwMVM0r6DVwoooqCgooooAKKKKACiiigAooooAKKKKACiiigAooooAKKKKACiiigAooooAKKKKACiiigDk/ih/yTjU/rD/6OSusrk/ih/wAk41P6w/8Ao5K6ygChr3/Iual/16S/+gGqPgfn4e+Hc/8AQLtv/RS1e17/AJFzUv8Ar0l/9ANUfA3/ACTzw7/2Crb/ANFLQBNc+LvDdlcyW154g0q3njba8Ut7GrIfQgtkGr9lf2epWq3WnXUF3btkLLBIHQ464I4ryH9pHwRHrngX/hIbK3Q6jozCR3CDc8B4YH1A4b2APrXongHxJbeLfAek6zZqiJcW6h406Ruvysv4MCKI6p+QS0a8y5d+LPDthdPa32v6XbXEZw8M15GjqfcE5FaqsroHRgysMgg5BFecyaRYeMfje19cWkM1v4UtFiEjIDvu5fmxnvsQA+xetnU/il4Q0hpDfanIIIpfJkuorOeW3jfONpmRCgOeCN3HehfCr7v+vxB7uxvazr2k+HbE3mu6jbafbj/lpcShAT6DPU+w5qfTtQtdW0y21DTphPaXUSywygEB0YZBweelef8AxrXTdY+B+s6hCLa8j+ypLbXKhXGDIh3K3vx0qp4Z+KHg3wb8OvCdh4i1yG0upNJtj5KxvKygxjBYIp2j64oXVPpb8b/5Deya63/C3+Z6fc3MNnaS3V3KsMEKGSSRzgIoGSSfQCqeg+INK8T6RHqmg3sd7ZSEhZo84JBwRg8g/WotT1zQIPDh1HV9QsU0i5i/19xKoilRxwMnhsjt3qp4FuPDF14Tt5fAyQJo2+RYRBC0algxDHDAHqDz3o6u4nsmjoaq6lqlho1i95q17b2Nsn3priURqPxNc7qXxN8J6U1wbrUZWhtZPKuLq3sp5oIHzja8qIUU54wTx3pnj46brvwl1y7i+zX9q+lTzW8wCyKf3TEMp/qKmTtByRUVeSizodG1rTvEOkw6no10t3ZT58qZAQGwSpxn3Bq9XnfwF4+CPh//AHJf/Rz1qX/xV8HaY2bzVXW383yTeLZzPbB842+eqGPOf9rjvWk0ozcUZxbcbnYUVn32vaXpui/2ve30Men7VZbgNuVw33duM7icjAGSc8VlWfxA8PXut2ujrPd2+o3e4wW15p9xbPIApYsBIi5GAefwqetiulzpaKKKACiiigAooooAKKKKACiiigAooooAKKKKACiiigAooooAKKKKAOT+Gxz4UuM/9BjU/wD0umrrK5P4bf8AIp3H/YY1P/0umrrKACivNviF8QPEPgjxFo1smnadNpesXS2qXssjr9nckD5wBjoSQR6HpivQZ2uU052R4BcrHnc4Pl7sdTznFK/u8w+tixRXJ+B9e8Q+KPCY1fU7SwsHugWs0iZ5AyZIDtnHDdQB2I+lc54S8eeMPF+q6/Y2em6Jbtod61nK00837xgSNwwp4+WqtrYXS56fRXO6DqPiOXXL7T/ElhYwpFDHNbXNjK7pLuLBlO5RgjaOPRhXNxeOvEb/ABgk8Dmy0wLHZ/bTehpOY8gY2f3snHXHf2pdUu4bJ+R6NRXn/wAVfHesfD7S7PUtPsbK+gubpLQxzO6OrsCQcjII4rubL7X9jj/tAwm4x8/kAhPwzzQtVcHo7HNePTx4b/7D9r/7NXWVyfj3p4a/7D9r/wCzV1lAEN5e2un2r3N/cw2sCfelmkCKv1J4FZI8b+FCcDxPoxP/AGEIv/iq3OvWvnr4M+H9H1D4qfEiDUNJsruK3vykST26SCMGaUEKCDgcDp6UK7lbyuD0jzea/E+gLa7t723WezniuIW+7JE4ZT9COKy4/F3h+bxINAg1e1m1Uozm0ik3uoXrux936HFeGW0f/CvP2qbbQvCTGHSdZRHutOjP7pCyMThegwV3D0BI6V0Js7ay/a+tVs7eKBZNDZ2WJAoLfMM8d+BRG0uV9Hf70n/kKXu3Xa34tHtdFYuteLtF8P3lvZajdOb25BaCztreS4nkA6kRxqzY98YqPQPGvh7xPHeNo+orI1i227imjeGS3PP30kCsvQ8kdjQM3qK5JPil4JlbUfK8R2TppkayXUysTGgY4ADgbWJIxhSTVrwl4/8ADHjmO4bwtqqXxtiBMnlvGyZ6Ha4BwcdcYoWuwbbnR0Via14w0XQLkW2oXMrXTRmX7NaW0tzKE/vlIlZgv+0QBT/DXi3QvF+nte+HNRivoEbY+0FWjb0ZWAZT9QKFrsGxsUVyl38TPCtjHPNcX1x9kt3Mct7HYXD2yMDgr56oY8g8fe68da6W0uob6ygu7V98FxGssbYI3KwyDg+xo3V0GzsTUUVxPxS+Idt8PfCNxelJJr+VCtpEsZYbzwGY9FUEjr16CplLlVxpXdjtqK4bw18S/Dkvgmzv9X1yKB4bOA3c12rQgyMnOCwAckg8LmpT8X/Ag/svd4ghU6t/x5qYpMuN5QEjb8gLAgFsZrRxtLl+RKd1c7Siud1Tx54f0nU5tOnup7i9t4xJPBY2U100CnoZBEjbB3+bFW9G8WaF4g0E61pGqW9xpy533G7YseOu7dgqR6HFT0uPrYXSPFOia9f6hZaPqUN3c6bL5V3HGTmJueD+IIyPQ1rVx/g7V/Ad9qWu3HguXT2nWRZdUubWParsdxDGTG1ujHIJHX1p6fFLwTK2o+V4jsnTTI1kuplYmNAxwAHA2sSRjCkmjtft/XyDqzraK5zwl4/8MeOY7hvC2qpfG2IEyeW8bJnodrgHBx1xinaj450HS7+4s557maa1ANz9jsZ7lbbIyPMaJGCcc4YjjnpQ9Nw32OhorP0PXdN8SaPFqmiXK3VlMWEcyqQG2sVOMgHqDVu5uYLK1lubyaOCCFC8ksjBVRRySSegoem4LXYlorjv+FreDw1qZtSmt7e9fy7a7uLC4it5m9FmZAh+ucVqeJfGvhzwfaifxJrFtYKwyiO2ZJB/soMs34CjbUN9DdorjNW+L3gTQ9Sg0/VPEVvDdTKrBAjvsDDI3lVITgj72K697mCO1a5kmjWBU8wyswChcZ3Z6YxzmjpcCtqus6ZoVi17rV/bWFsvWW5lCL9Mnqfal0nVbLXNJt9S0q4W5s7lN8MqggOvrzzXl/xS8c+D9b+GOsxea05ntJUsbqbT5hBJKBkCKdk2E5HG1uccV03wc/5I34Z/68l/maFrfyt+N/8AITdml3v+Fv8AM7aioL29tdNsZrzULiO2toELyzSsFVFHUknpXLx/FPwi9xZRSajPbLqDBbOe7sLiCG4J6bJXQI34HnNG7sPpc6+iuf17xz4d8MXkFrr9+1jJcMEhMlvLskY9lcLtJ56Z4p/iTxpoPhCOOXxHetYwyHCzPbyNGT6b1UgHjpnNHmBu0V5p8YPijb+B/B7HTmkk1TUIgLNkjJWIN/y1ZsYGBnA6k9sZrs/D/iXTPEGntcabctKkAAleSF4tpxn+MD86O/kHbzNiiuQuPip4PtYxNNqsgszJ5Qv1sp2tC+cY+0BPL6/7Vbmp+JdE0bR11XVdVs7WwdQyXEsyhJARkbT/ABZHTGc0dLh1sadFcVe/GDwJp+iWerXevxpaXwZrciGRndQxUt5YUsBkEZIAqzqPxQ8F6V4es9cvfEFsthfAm2kQM7S464RQW46HjjvijYDrKKyvDnibR/Fujpqnh2/jvrNyVEiAjBHUFSAVPsQKpap488PaRfT2dzdzT3Nqoe5isrOa6a3XrmTykbZxz82KHpuC12N+aaO3heWeRYo0G5ndgFUepJ6VmaH4p0PxMbv/AIR/U7fUVs5BHM9u25VYjON3Q8ehNLpGtaH4w0UXmk3VrqmnynaSuGXI7Mp6EccEZrxT4R+KPDvgWHx1c6/fwaZZLr8kUSlSScFsKiKCTgdgOKNpNPtf8Uv1Domu/wCj/wAj6ArJt/FOiXfia58PW2pQyataRiWe0UneinHPp3H0yKh8MeNPD3jPTpL7w1qkN9BEdshUFGjP+0rAMv4isnQta8A6p8QL/wD4R2bTrvxGbbN3cWib2MalVwZANp52jGc8DPSnZ81mHS5st4u8Pr4kh8PjV7V9Wm3bbOOTfINoJO4DO3gHritmvEtbs7a0/a78Mm1t4ofN0mV5PLQLubE/Jx1PvXrms6/pnh+3jm1a6EAlfy4kVGkklb+6iKCzn2UE0vsp9/8ANoH8TX9bXNGiud8P+PfDfibUrnTtJ1AnULUZms7iCS3mQevlyKrY5HOO4pdR8c6Dpd/cWc89zNNagG5+x2M9yttkZHmNEjBOOcMRxz0o2A6Gis/Q9d03xJo8WqaJcrdWUxYRzKpAbaxU4yAeoNaFGwBRRRQAUUUUAFFFFABRRRQAUUUUAFFFFABRRRQAUUUUAFFFFABRRRQAVWuLjqkZ+pouLjqkZ+pqrWsY9WQ2FFFSQwmVvRR1Nat2JCGEyt6KOpq8qhVAUYAoVQqgKMAUtc8pXNErBRRRUjCiiigAooooAKKKKACiiigAooooAKKKKACiiigAooooAKKKKACiiigAooooAKKKKACiiigAooooAKKKKACiiigAooooA5P4nnHw51PHrD/6OSusrk/ih/yTjU/rD/6OSusoAoa9/wAi5qX/AF6S/wDoBqj4G/5J54d/7BVt/wCilq9r3/Iual/16S/+gGqPgb/knnh3/sFW3/opaANi7tYb6zmtLqNZYJ42jkRhwykYI/I189/DLxIvwl1/xp4L8QSt9m00SajYFjzIoGdo92UoceoavomvM/Hvwlg8YfErwz4jPliGxfGoI3WZE+eMY7/NwfY+1JL3vXR/5/JjduXXpr/wPmihq0Wp+DP2dda1F2aPXL+B728lXhlnuGG7nttDBR/uirXh7wvrmvfCPT9Kttf0VNIvtJSIRrorsyo8Yz832nBbnrjrzivQ9b0e08QaDe6RqKF7W9haGUA4OGGMj3714z4d8CfGDwGX0HwvrejXmhbybea/DFrdSeSFAyD325Zc/U09G5K2jt+F9PxDVJO+qv8AjbX8C34l8HN4D/Zl8Q+HzrB1ZbZSVlMXl+WGkRtm3c2OST171ftNG06P9laSOOzhVZvDhuJPkGXl8jdvJ7kEDB7YHpWp4p8Ba3e/Cm68KaPdWl7fajlr7UdRmaIvIXDs4VEbOcYC8BRgc4p8XhjxXH8Gf+EQNvoxvxpv9mib7fL5Wzy9nmf6nOf9nH41M7uM+7t+o4WTh5Nv8v8AgmV8O8Xv7L9sLoCUf2TdJhxngGRR+gxXJ+E9Yu9C/Y3ur/TXaO5SOdEkQ4Kb7goWB7EBia7vwr4Q8WeHfg63hGSLRpr6O3lt4Z1vpRGwkLnc37nII3DgZz6im+APhzqWkfCq48DeME0+e0kSWPzrG4dyyyMTyGjXaQTwcnoKur70qluq0+9k0/djTv0f6Gn4G0LSNW+B+j6P5QbTr7SEjmWM4Lb0+c5/vbiTn1qHU/DemeEPgfrug6HJJJaWWmXagyy73BKMxBPrlumBXGeGPA/xe8Co/h3w7rGh3OheYxt7u+Vme2UnJwg799vzLn0zXf6p4T1OH4Y3vhvRJoL2/vreaKe81GZot8kobfKdqNk5YnbgDHGeKVX31KS6/wBfgFL3XFPoeX2erXWjfsWrdWDtHM1u0O9TgqslyUY/kxrt4vCGt+Jfhjb6LH4g0VdGvtNjijWHRHykZQbSp+04yOCDjrT/AAf8Or+3+EL+A/GSWMlv5MkIuLC4dywZy4bDxrtKkjHXpXK+G/BPxl8GR/8ACPaHrmi3OiKxFvd3isz26E/wrjOf9kll96qdpTn5/wDB0FG6jF9r/p/kaOs/C7XrH4QaVoHhbXE1LVfD2orfWrzII1lKMzCIgsQMbuMnHAHFQ+F/ilZeJfGmk6H8QtCuPDvirT5ma03jEUzsjIQCRkBgTgcgkDDHgV1Ws+EPENh4d0CDwde28+p6ZqH2y5n1N2UXZZJBLu2qTlzIeg4z7VT1jwfrXjvxZ4b1LxDpdno0Gg3H2otFd/aJrhxghFIRQqZUEk8n0HWhP3tdr6/ctV/XQH8Onb/PR/11PSaKKKkYUUUUAFFFFABRRRQAUUUUAFFFFABRRRQAUUUUAFFFFABRRRQByfw2/wCRTuP+wxqf/pdNXWVyfw2/5FO4/wCwxqf/AKXTV1lAHIfFLwgPG3w71LSUUG7CefaN3WZOV57Z+79Ca43Q/G8/jj4O6Rp8UrLrerTDRrrB+eIqP38h9D5QLfVhXsNeeeE/hfF4a+KPiHxKkim0vsPZW4JxC8nM7Y6AkquCOxxRFatPZ/mv81oNvRNbr9f8nr9531rbQ2dpDa2yCOGFFjjRRwqgYA/KvEPhUPEB8afEX+wH0xU/t6TzPtqSMc7nxjaRXuE5mWBzbIkkoHyLI5RSfcgHH5GvLvBHhDxz4N1rxLfGx8PXw12/a8Cf2rPF5GSx25+zNu+9146U0/ebfb9UJr3Ul3/RnZeDB4hFrqf/AAlhhN7/AGhJsNuGEJi2ps2bucY/XNeb3zaqv7VtydCjs5Ln/hHlyLyRkTbvGeVBOeleiaVa+K7rxQ2oeJBptpYQW5jtbLT7qSctIxG55GaNM4AAAA7tXNReDvFifG6Xxq0OjfYpLAWH2cX0vmBcg78+TjOR0/Wl9qPl/k1+IfZl/XVM5T49P4mbwdpI12DSY7b+2YMGznld92HxwyAY617sPuj6V538X/BXiLx5otjpmg/2ZCltex3bTXlzIpJUMNoVY2/vdc/hXfWTXTWkZ1CGGG4x86QSmRB9GKqT+Qpr4bef6L/IJfEvT9Wc1496eGv+w/a/+zV1lcn496eGv+w/a/8As1dZSAK+d/hPpl/qXxY+JQ03XbvSHTUWy1tDDIJMzTfeEiN07Yx15zX0DePdJau2nwwz3A+5HPMYkP1YKxH5GvKfhx8P/Gng3xx4h1rUl0K5g1+fzpY4L2YNAfMZuMw4b75HbtRH4/k/0CXwW80dP4V+FmjeGfEl14jmur3WNdus+ZqGoSKzqDwQgUAKMDHTgcDjiuQuv+TwLL/sAH+b17LXltz4J8YSfHGLxxFFon2OK0NkLZr6USMnPzZ8nAOTnHP170L4o9lf8mvzYpL3X8vzRPq/9h6V8Zf7S0mK+1nxfdacIP7NhmVYLeAMD5sjEfux07knPCnNcz8P/t3/AA074zTVoraK4k02JporVmeIHEOMFgC3B64GeeBWxqfgPxrpHxivfGPgq40meDVrdYbu31NpB5eAoyNoyR8gI57kY71HpPw58b6T8YdQ8VDWdLuINStUjupWhZJMjZlI0GQoygAYlsKckE06dk4t9pfK9xz1TS8v0M34f6TYTftJePpZbSJ3tTDJBuXIjdgMsB0B5PPXk+pqfQ4ktP2vNfS2URpcaKssqqMBm/dcn3rY8IeCfF2h/FXxD4o1CPRXtNcKhoYL2UyQBcYIzCAxwOnFJY+CfF9v8cLrxxNFon2O6tBZtbJfSmREG35s+QATlenHXrU07pU12TT+5/8AACW9R92rfev+CY3wqufEHiHVfGmpafrOm2l02uSxzpd6a9xIEQBYxuEyYUAEAY7Hmug8K/C248NeN9d12fxJHNLr0DiaztrL7OgckHzFBkY8En/vrrXP698L/Gfhv4gXviv4U6naRLqjb77Trw4RnJyT0wRkk9QRk4ODXZ+GvDXiZoL7VPG+o2t5rd1atbQw2albezjPJVc8kscFmPoB2qf+Xd+qVvwt+JT+K3Ru/wCP6Hlmn+Ktf+EGi/8ACGfEzw4+oeGGD20GrWQ3KYnJyGB4PU8Haw9DXvHhybT5/DOmyaJcfadPNrGLabOd8YUBSenOBXAJovj+5+G8ng7XdK0W/mls/sf9pi/bygu3aHeMx7iyjnjqR1FJ4g8LeMPCPwt0bRvhzrNpaPpQze3d4qjfGAWZhuVgBuySOuO9aSlZNt321777+n6kJXat56fdt6/oepV5r+0H/wAkP1z6wf8Ao9K7Hwfqd5rXgvR9T1SIQ3l3ZxTTIBgBmUE4Hb6VQ+JHhOXxx8PdU8P206W890imKSTO0MrhxnHOCVx+NRVi1ddi6ck2mYmqwxzfs4TCVFcDwxkbhnBFtnNZfwR8L6FefBrw9Pe6TZ3Uxd7kSXEKyMJRIwDAsDggAAY6YqzbeGPiBL8LLrw7qcuhSXUunf2ZBHHLLHHGmwp5rvsZmfGPlAUcdeeNr4V+G9e8H+B7Tw94gXTnNiGWKeyuHfzAzluVaNduM44Jz7VtJpzm11t+v/AMkmoRT6X/ACX/AATB0E6bo/jrxTB8P7a51zVr+6WbVZ7q5CWdjJ82E8wKWJ5b5VDHsSMVk/s7o6w+NbecR5TXZAyRj5AehwD24qx4X8AeP/BPirXYvD9/or6HrF4139ovFkee3LE9EGAzYOMFsHAPHIq18Nfh/wCMPA+t+IWudQ06606+vHu4h8wmuXOcb2C7YxyCdqk5HHHXKHRv+X/LT8C53b+f6PX8TM+CMUcfxE+J0SIojGrgBQOMb5uMVD8P9JsJv2kvH0stpE72phkg3LkRuwGWA6A8nnryfU1vfDnwP4s8I+LvE+q6qmjTQa/cm62217KWgbLkL80IDD58ZyMYzg9KXwh4J8XaH8VfEPijUI9Fe01wqGhgvZTJAFxgjMIDHA6cU46Ti+0bfOyFU1jJLrK/yuY+hxJaftea+lsojS40VZZVUYDN+65PvWff6v4y+C/irXr+50Vtf8I6tfvfvc25/e2rP13dcYAA5GDgYYciunsfBPi+3+OF144mi0T7HdWgs2tkvpTIiDb82fIAJyvTjr1rQ0e18eeHpNWtJtL0vWtOur64uLIi/MTwpJIzbJA0ZBHzZ4zjJHNJXUY23s/zvb8i5Wbfy/Lc1/hxqnh3V/BcF34Pdjpsk0sgicBWhd3LuhHbBY8emOT1qT4i2Oiaj8P9WtfFV/Jp+kvEDcXMb7WQBgRjg5JIAxg5ziqXwv8AAh8AeFZbCaWKS6u7qS7uBACIo2bA2JnnaAAMnr7dKf8AFLwXN4++H97oVncpbXMjJJC8mdhZWyA2OcHpnnHWiptp5f8AB+4VP4tWeVfFq7vL74Axrp+imx8PWgtUtJtRl/0uZAQqOI1GEBHOWbJB+6K3/jtGk37PEc0qK8qizYORkg5UdfxP503xF4B+JXjP4Wv4f16/0O2ngWIQxWoc/aihHMshHy8DOFXk4yQOKv8AjHwF448VfCe38LTXWiPeuYTPOZZYo4RHjCIojYtnaCWJHJPGMUTV1LzkmKG8W+iaD4kaLptr+zXf29tZQxRx2MM6hU/5aZQ789SxJOT1OTXIfEDXLmL4B/D/AEkzvHBrS2cN5IDgmIRqSpPucflXo3ivwz4r8R/Cd/C8Vvo0N9cW6W0srX0piQLt+Zf3OSTg8EDHHJrM1P4UX3ij4M6f4R8QSWVpqWkxxrZ3lnM8qbo12hmDIhAI4I59c8VU370nurxfrZu/4Cpq0Ip6OzXpdK34m98VtPtP+FLeIbQW8f2eDTWMUYX5U2DKYHbBAx9KX4Of8kb8M/8AXkv8zXKTaB8WtZ+HeoeF9b/sHc1m1uL9ZneW6GMAbcAKT3c/985rs/hl4c1vwn4GsdF8QXVjcSWcYjj+xxuAq5JwWY/Meeyr070dZedv1F/L5X/T/IPijYeHtS+HepW/jHUJdO0ghGmuIWAcFWBUDIOSSAMYOa8l+N19qeofB3T5Y9E/svRoLq3Fob2XN44CMFYxqMRjHqxb1Ar1H4t+Bbn4heA5NI066jtbyOdLiBpSdjMuflbAJAIJ5wecVxvjHwB8SfH3w6TStdv9Dtry3kjeO3tQ+2crwWkkIO04JIVRjPU9hCvr6r/hzVWTXoxP2iOfB/hQnk/21b8/8AatL9pL/ki93/19Qf8AodWfHnw78ReNvhlaadealZf8JDZ3CXkTxRsluHUEeWM5bGCfmPU9gOBj+M/BXxL+Ifw/bTddm0WxuvNiKWtmz7Hw3zSSuwJGB0VR9SelOauml/Mn/wCk/wCRFPSzf8tvz/zIf2gv+SFaX/19Wn/oDVp/tB63d6N8GHSxZozfyxWkrqcERsCWH4hcfQmr/jj4d694y+EMXhy61DT/AO2LdopI5Y4njhYoMbTkseQTzjrjgVeuPBWseM/h5eaH8RLmx+0XUaLGumRny7Zk5VwW+ZmJ5PQY4Hcl1NVO3e/qtP8AIKb5eS/RW9Gb9toemah8PoNE8iN9Mm05YBEB8vlmMAY/nXiXwturm9/Zx8a6ZqJ+0QaWl5BbM4ztXyd2B9CSfxrvvDen/Ezw94UTww1po169rF9ntNZe+dVWPGFLw+WWLKOwIBwOe5tw/Dq48OfB+68H+Fvstzd3lvLFPd30rQh5JVIeU7UcnrwvoBzRU152uq/X+vvCl7qgn0f6fr+hnfA/SbB/gPp2+zhb7dBMLklATMPMdcN6jHGKyP2YtPtP+Fb3V4beM3LX8sBlZct5YCkJk9FyScdMk11fw/8ADfirwb8M4fD1zb6Pc3lmjpBJHfSiOXc7N82Ycrjd2DZ9qpfCPwV4p+HfhK70bUo9HvGad7mGWC9lAZmCjYwMPA+UncM/StJNe0nLo1p9/wDkQk+SK8/0OR+Ed63h/S/inLYRgJpuo3E1vAo+VSqyYAH/AAED8K6b9nVkufhQmoO3m3t9fXE15Mxy0khfGWPrgCpPhn4C8S+FNY8SyeIY9HuLLX7prpxa3UrtEWLZTa0Shgd2M5HTpVbwn4J8W/C3VNSsvC1vZa74bvpjPBbXF4bea0c8EZ2MGXAA9eM8d846b/ypfNWv/XkXLXb+Zv5O5jeC438N/tS+KdC0wbNLv7QXskC/dSQhG3Y7cuw/4FS/AvR9OvPEXjy9u7GCe5j1uaJJZYwxRSzEgZ6Z7464HpXe+DfBNzpXiPWPFXiGW3m17WCqyLbZMVrCoAWJCwBboMsQMkDgVznhrwf4y+HfiXXptEtNM1/S9avGvMSXTWk0Dkk4OVZSvOOOe/HSiOnKn0jb8U/y0FL3m2u6f4W/PUwNH0iDwj+1lLp/h+JbfT9W0pri4tohiNDyeF6D5kB9txq74Uijh/a08XrEioDpUZwowM4grtfCngq6sPFGp+LvEk0Fzr+ooIQlvnybOFcYiQkZboCWIGT2HfB0PwR4u0/42ar41u49FNnqduts1vHfSmSJQEAYEwgMfk6cdetOHuuKfRP8b2X42HLVSfdr8Lf5GX4j/wCTufCv/YHk/lPT573VdW/aa1CwsdRs7KbTdGQWn2yza4XDlWkKqJEwx3AE5PAxWjrXgjxfffG3TPG1pHov2PTrZrVbaW+lEkqneNxIhIU/P056daZ8TfhfrOveI9P8Y+BdTj0vxLYoIz5hIjmQZwM4PPJHIwQcHFJOyg30v+N/8xy1ckuqX4W/yLF38MNTvfiZpHjbVfFFol3p4WEx2mmGBbhMkbWLTNyd5H5cVyl/q/jL4L+Ktev7nRW1/wAI6tfvfvc25/e2rP13dcYAA5GDgYYciuz8K6B4+1TU7XUPiXqGnrDYN5ltp2mocSS4wJJWPXGThRxnB7CpNHtfHnh6TVrSbS9L1rTrq+uLiyIvzE8KSSM2yQNGQR82eM4yRzRqtvP8bf8AD/8ABFo9/L9f+GNf4cap4d1fwXBd+D3Y6bJNLIInAVoXdy7oR2wWPHpjk9a6quM+F/gQ+APCsthNLFJdXd1Jd3AgBEUbNgbEzztAAGT19uldnVStfQSv1CiiipGFFFFABRRRQAUUUUAFFFFABRRRQAUUUUAFFFFABRRRQAVWuLjqkZ+pouLjqkZ+pqrWsY9WQ2FFFSQwmVvRR1Nat2JCGEyt6KOpq8qhVAUYAoVQqgKMAUtc8pXNErBRRRUjCiiigAooooAKKKKACiiigAooooAKKKKACiiigAooooAKKKKACiiigAooooAKKKKACiiigAooooAKKKKACiiigAooooAKKKKAOT+KH/JONT+sP/o5K6yuT+KH/JONT+sP/o5K6ygChr3/ACLmpf8AXpL/AOgGuF8EePV/4QHQVg8M+IrlI9PgjE0NkrI5VApKnfyMivRpoY7iCSGZd8cilHU9wRgivL/hx4Oubn4b6HNF4u8QWiPaqVgglgCRjJ4XMROPqTQB0/8Awnj/APQo+J//AAAX/wCLo/4Tx/8AoUfE/wD4AL/8XR/wg95/0PHif/v9b/8Axmj/AIQe8/6HjxP/AN/rf/4zQAf8J4//AEKPif8A8AF/+Lo/4Tx/+hR8T/8AgAv/AMXR/wAIPef9Dx4n/wC/1v8A/GaP+EHvP+h48T/9/rf/AOM0AH/CeP8A9Cj4n/8AABf/AIuj/hPH/wChR8T/APgAv/xdH/CD3n/Q8eJ/+/1v/wDGaP8AhB7z/oePE/8A3+t//jNAB/wnj/8AQo+J/wDwAX/4uj/hPH/6FHxP/wCAC/8AxdH/AAg95/0PHif/AL/W/wD8Zo/4Qe8/6HjxP/3+t/8A4zQAf8J4/wD0KPif/wAAF/8Ai6P+E8f/AKFHxP8A+AC//F0f8IPef9Dx4n/7/W//AMZo/wCEHvP+h48T/wDf63/+M0AH/CeP/wBCj4n/APABf/i6P+E8f/oUfE//AIAL/wDF0f8ACD3n/Q8eJ/8Av9b/APxmj/hB7z/oePE//f63/wDjNAB/wnj/APQo+J//AAAX/wCLo/4Tx/8AoUfE/wD4AL/8XR/wg95/0PHif/v9b/8Axmj/AIQe8/6HjxP/AN/rf/4zQAf8J4//AEKPif8A8AF/+Lo/4Tx/+hR8T/8AgAv/AMXR/wAIPef9Dx4n/wC/1v8A/GaP+EHvP+h48T/9/rf/AOM0AH/CeP8A9Cj4n/8AABf/AIuj/hPH/wChR8T/APgAv/xdH/CD3n/Q8eJ/+/1v/wDGaP8AhB7z/oePE/8A3+t//jNAB/wnj/8AQo+J/wDwAX/4uj/hPH/6FHxP/wCAC/8AxdH/AAg95/0PHif/AL/W/wD8Zo/4Qe8/6HjxP/3+t/8A4zQAf8J4/wD0KPif/wAAF/8Ai6P+E8f/AKFHxP8A+AC//F0f8IPef9Dx4n/7/W//AMZo/wCEHvP+h48T/wDf63/+M0AH/CeP/wBCj4n/APABf/i6P+E8f/oUfE//AIAL/wDF0f8ACD3n/Q8eJ/8Av9b/APxmj/hB7z/oePE//f63/wDjNAB/wnj/APQo+J//AAAX/wCLo/4Tx/8AoUfE/wD4AL/8XR/wg95/0PHif/v9b/8Axmj/AIQe8/6HjxP/AN/rf/4zQAf8J4//AEKPif8A8AF/+Lo/4Tx/+hR8T/8AgAv/AMXR/wAIPef9Dx4n/wC/1v8A/GaP+EHvP+h48T/9/rf/AOM0AH/CeP8A9Cj4n/8AABf/AIuj/hPH/wChR8T/APgAv/xdH/CD3n/Q8eJ/+/1v/wDGaP8AhB7z/oePE/8A3+t//jNAB/wnj/8AQo+J/wDwAX/4uj/hPH/6FHxP/wCAC/8AxdH/AAg95/0PHif/AL/W/wD8Zo/4Qe8/6HjxP/3+t/8A4zQAf8J4/wD0KPif/wAAF/8Ai6P+E8f/AKFHxP8A+AC//F0f8IPef9Dx4n/7/W//AMZo/wCEHvP+h48T/wDf63/+M0Acz4B8ZvaeGp4x4Y8Qz51TUH3w2aso3Xkrbc7+ozgjsQa6b/hPH/6FHxP/AOAC/wDxdV7L4cNp1uYLHxj4kgiaR5SiS24Bd2Luf9T1LMT+NWP+EHvP+h48T/8Af63/APjNAB/wnj/9Cj4n/wDABf8A4uj/AITx/wDoUfE//gAv/wAXR/wg95/0PHif/v8AW/8A8Zo/4Qe8/wCh48T/APf63/8AjNAB/wAJ4/8A0KPif/wAX/4uj/hPH/6FHxP/AOAC/wDxdH/CD3n/AEPHif8A7/W//wAZo/4Qe8/6HjxP/wB/rf8A+M0AH/CeP/0KPif/AMAF/wDi6P8AhPH/AOhR8T/+AC//ABdH/CD3n/Q8eJ/+/wBb/wDxmj/hB7z/AKHjxP8A9/rf/wCM0AH/AAnj/wDQo+J//ABf/i6P+E8f/oUfE/8A4AL/APF0f8IPef8AQ8eJ/wDv9b//ABmj/hB7z/oePE//AH+t/wD4zQBzPjTxm9yNAz4Y8Qw+VrdtJ+9s1G/G75V+flj2FdN/wnj/APQo+J//AAAX/wCLqvd/Dhr/AMj7Z4x8STfZ5lni3S2/ySL0YfueozVj/hB7z/oePE//AH+t/wD4zQAf8J4//Qo+J/8AwAX/AOLo/wCE8f8A6FHxP/4AL/8AF0f8IPef9Dx4n/7/AFv/APGaP+EHvP8AoePE/wD3+t//AIzQAf8ACeP/ANCj4n/8AF/+Lo/4Tx/+hR8T/wDgAv8A8XR/wg95/wBDx4n/AO/1v/8AGaP+EHvP+h48T/8Af63/APjNAB/wnj/9Cj4n/wDABf8A4uj/AITx/wDoUfE//gAv/wAXR/wg95/0PHif/v8AW/8A8Zo/4Qe8/wCh48T/APf63/8AjNAB/wAJ4/8A0KPif/wAX/4uj/hPH/6FHxP/AOAC/wDxdH/CD3n/AEPHif8A7/W//wAZo/4Qe8/6HjxP/wB/rf8A+M0AH/CeP/0KPif/AMAF/wDi6P8AhPH/AOhR8T/+AC//ABdH/CD3n/Q8eJ/+/wBb/wDxmj/hB7z/AKHjxP8A9/rf/wCM0AH/AAnj/wDQo+J//ABf/i6oar4jttaijh1Lwd4qmt1bc0H2QCOX2dRJhx/snI9qv/8ACD3n/Q8eJ/8Av9b/APxmj/hB7z/oePE//f63/wDjNACDx2wAA8IeJwB0AsF/+Lpf+E8f/oUfE/8A4AL/APF0f8IPef8AQ8eJ/wDv9b//ABmj/hB7z/oePE//AH+t/wD4zQAf8J4//Qo+J/8AwAX/AOLo/wCE8f8A6FHxP/4AL/8AF0f8IPef9Dx4n/7/AFv/APGaP+EHvP8AoePE/wD3+t//AIzQAf8ACeP/ANCj4n/8AF/+Lo/4Tx/+hR8T/wDgAv8A8XR/wg95/wBDx4n/AO/1v/8AGaP+EHvP+h48T/8Af63/APjNAB/wnj/9Cj4n/wDABf8A4uj/AITx/wDoUfE//gAv/wAXR/wg95/0PHif/v8AW/8A8Zo/4Qe8/wCh48T/APf63/8AjNAB/wAJ4/8A0KPif/wAX/4uj/hPH/6FHxP/AOAC/wDxdH/CD3n/AEPHif8A7/W//wAZo/4Qe8/6HjxP/wB/rf8A+M0AH/CeP/0KPif/AMAF/wDi6P8AhPH/AOhR8T/+AC//ABdH/CD3n/Q8eJ/+/wBb/wDxmj/hB7z/AKHjxP8A9/rf/wCM0AH/AAnj/wDQo+J//ABf/i6P+E8f/oUfE/8A4AL/APF0f8IPef8AQ8eJ/wDv9b//ABmj/hB7z/oePE//AH+t/wD4zQAf8J4//Qo+J/8AwAX/AOLo/wCE8f8A6FHxP/4AL/8AF0f8IPef9Dx4n/7/AFv/APGaP+EHvP8AoePE/wD3+t//AIzQAf8ACeP/ANCj4n/8AF/+Lo/4Tx/+hR8T/wDgAv8A8XR/wg95/wBDx4n/AO/1v/8AGaP+EHvP+h48T/8Af63/APjNAB/wnj/9Cj4n/wDABf8A4uj/AITx/wDoUfE//gAv/wAXR/wg95/0PHif/v8AW/8A8Zo/4Qe8/wCh48T/APf63/8AjNAB/wAJ4/8A0KPif/wAX/4uj/hPH/6FHxP/AOAC/wDxdH/CD3n/AEPHif8A7/W//wAZo/4Qe8/6HjxP/wB/rf8A+M0AH/CeP/0KPif/AMAF/wDi6P8AhPH/AOhR8T/+AC//ABdH/CD3n/Q8eJ/+/wBb/wDxmj/hB7z/AKHjxP8A9/rf/wCM0AH/AAnj/wDQo+J//ABf/i6P+E8f/oUfE/8A4AL/APF0f8IPef8AQ8eJ/wDv9b//ABmj/hB7z/oePE//AH+t/wD4zQAf8J4//Qo+J/8AwAX/AOLo/wCE8f8A6FHxP/4AL/8AF0f8IPef9Dx4n/7/AFv/APGaP+EHvP8AoePE/wD3+t//AIzQAf8ACeP/ANCj4n/8AF/+Lo/4Tx/+hR8T/wDgAv8A8XR/wg95/wBDx4n/AO/1v/8AGaP+EHvP+h48T/8Af63/APjNAB/wnj/9Cj4n/wDABf8A4uj/AITx/wDoUfE//gAv/wAXR/wg95/0PHif/v8AW/8A8Zo/4Qe8/wCh48T/APf63/8AjNAB/wAJ4/8A0KPif/wAX/4uj/hPH/6FHxP/AOAC/wDxdH/CD3n/AEPHif8A7/W//wAZo/4Qe8/6HjxP/wB/rf8A+M0AH/CeP/0KPif/AMAF/wDi6P8AhPH/AOhR8T/+AC//ABdH/CD3n/Q8eJ/+/wBb/wDxmj/hB7z/AKHjxP8A9/rf/wCM0AH/AAnj/wDQo+J//ABf/i6P+E8f/oUfE/8A4AL/APF0f8IPef8AQ8eJ/wDv9b//ABmj/hB7z/oePE//AH+t/wD4zQAf8J4//Qo+J/8AwAX/AOLo/wCE8f8A6FHxP/4AL/8AF0f8IPef9Dx4n/7/AFv/APGaP+EHvP8AoePE/wD3+t//AIzQAf8ACeP/ANCj4n/8AF/+Lo/4Tx/+hR8T/wDgAv8A8XR/wg95/wBDx4n/AO/1v/8AGaP+EHvP+h48T/8Af63/APjNAB/wnj/9Cj4n/wDABf8A4uj/AITx/wDoUfE//gAv/wAXR/wg95/0PHif/v8AW/8A8Zo/4Qe8/wCh48T/APf63/8AjNAB/wAJ4/8A0KPif/wAX/4uj/hPH/6FHxP/AOAC/wDxdH/CD3n/AEPHif8A7/W//wAZo/4Qe8/6HjxP/wB/rf8A+M0AH/CeP/0KPif/AMAF/wDi6P8AhPH/AOhR8T/+AC//ABdH/CD3n/Q8eJ/+/wBb/wDxmj/hB7z/AKHjxP8A9/rf/wCM0AH/AAnj/wDQo+J//ABf/i6P+E8f/oUfE/8A4AL/APF0f8IPef8AQ8eJ/wDv9b//ABmj/hB7z/oePE//AH+t/wD4zQAf8J4//Qo+J/8AwAX/AOLo/wCE8f8A6FHxP/4AL/8AF0f8IPef9Dx4n/7/AFv/APGaP+EHvP8AoePE/wD3+t//AIzQAf8ACeP/ANCj4n/8AF/+Lo/4Tx/+hR8T/wDgAv8A8XR/wg95/wBDx4n/AO/1v/8AGaP+EHvP+h48T/8Af63/APjNAB/wnj/9Cj4n/wDABf8A4uj/AITx/wDoUfE//gAv/wAXR/wg95/0PHif/v8AW/8A8Zo/4Qe8/wCh48T/APf63/8AjNAB/wAJ4/8A0KPif/wAX/4uq83xBcjanhPxKPU/YV/+Lpbjwbex4UeN/E3PXM1v/wDGaq/8IXd/9Dp4k/7/AFv/APGa0jHqS2H/AAnD/wDQqeJP/AFf/i6P+E4f/oVPEn/gCv8A8XR/whd3/wBDp4k/7/W//wAZo/4Qu7/6HTxJ/wB/rf8A+M1rqRoH/CcP/wBCp4k/8AV/+Lp8Xj2SJsjwp4kx3H2Jef8Ax+mf8IXd/wDQ6eJP+/1v/wDGaP8AhC7v/odPEn/f63/+M0tWBfXx8zjK+EvEx/7cV/8Ai6d/wnj/APQo+J//AAAX/wCLqgng69Rvl8a+JR64mt//AIzV/wD4Qi8/6HfxP/3+t/8A4zWMo2NE7h/wnj/9Cj4n/wDABf8A4uj/AITx/wDoUfE//gAv/wAXR/wg95/0PHif/v8AW/8A8Zo/4Qe8/wCh48T/APf63/8AjNSMP+E8f/oUfE//AIAL/wDF0f8ACeP/ANCj4n/8AF/+Lo/4Qe8/6HjxP/3+t/8A4zR/wg95/wBDx4n/AO/1v/8AGaAD/hPH/wChR8T/APgAv/xdH/CeP/0KPif/AMAF/wDi6P8AhB7z/oePE/8A3+t//jNH/CD3n/Q8eJ/+/wBb/wDxmgA/4Tx/+hR8T/8AgAv/AMXR/wAJ4/8A0KPif/wAX/4uj/hB7z/oePE//f63/wDjNH/CD3n/AEPHif8A7/W//wAZoAP+E8f/AKFHxP8A+AC//F0f8J4//Qo+J/8AwAX/AOLo/wCEHvP+h48T/wDf63/+M0f8IPef9Dx4n/7/AFv/APGaAD/hPH/6FHxP/wCAC/8AxdH/AAnj/wDQo+J//ABf/i6P+EHvP+h48T/9/rf/AOM0f8IPef8AQ8eJ/wDv9b//ABmgA/4Tx/8AoUfE/wD4AL/8XR/wnj/9Cj4n/wDABf8A4uj/AIQe8/6HjxP/AN/rf/4zR/wg95/0PHif/v8AW/8A8ZoAP+E8f/oUfE//AIAL/wDF0f8ACeP/ANCj4n/8AF/+Lo/4Qe8/6HjxP/3+t/8A4zR/wg95/wBDx4n/AO/1v/8AGaAD/hPH/wChR8T/APgAv/xdH/CeP/0KPif/AMAF/wDi6P8AhB7z/oePE/8A3+t//jNH/CD3n/Q8eJ/+/wBb/wDxmgA/4Tx/+hR8T/8AgAv/AMXR/wAJ4/8A0KPif/wAX/4uj/hB7z/oePE//f63/wDjNH/CD3n/AEPHif8A7/W//wAZoAP+E8f/AKFHxP8A+AC//F0f8J4//Qo+J/8AwAX/AOLo/wCEHvP+h48T/wDf63/+M0f8IPef9Dx4n/7/AFv/APGaAD/hPH/6FHxP/wCAC/8AxdH/AAnj/wDQo+J//ABf/i6P+EHvP+h48T/9/rf/AOM0f8IPef8AQ8eJ/wDv9b//ABmgA/4Tx/8AoUfE/wD4AL/8XR/wnj/9Cj4n/wDABf8A4uj/AIQe8/6HjxP/AN/rf/4zR/wg95/0PHif/v8AW/8A8ZoAP+E8f/oUfE//AIAL/wDF0f8ACeP/ANCj4n/8AF/+Lo/4Qe8/6HjxP/3+t/8A4zR/wg95/wBDx4n/AO/1v/8AGaAD/hPH/wChR8T/APgAv/xdH/CeP/0KPif/AMAF/wDi6P8AhB7z/oePE/8A3+t//jNH/CD3n/Q8eJ/+/wBb/wDxmgA/4Tx/+hR8T/8AgAv/AMXR/wAJ4/8A0KPif/wAX/4uj/hB7z/oePE//f63/wDjNH/CD3n/AEPHif8A7/W//wAZoAP+E8f/AKFHxP8A+AC//F0f8J4//Qo+J/8AwAX/AOLo/wCEHvP+h48T/wDf63/+M0f8IPef9Dx4n/7/AFv/APGaAD/hPH/6FHxP/wCAC/8AxdH/AAnj/wDQo+J//ABf/i6P+EHvP+h48T/9/rf/AOM0f8IPef8AQ8eJ/wDv9b//ABmgA/4Tx/8AoUfE/wD4AL/8XR/wnj/9Cj4n/wDABf8A4uj/AIQe8/6HjxP/AN/rf/4zR/wg95/0PHif/v8AW/8A8ZoA5f4i+N1uPBF1az+HdeshcTQRLPdWipGrGZMZO44r1SvLvHHg97fTNLN94l1vVLd9b06OS0vZYTFIrXUYOdkanv2Neo0Af//Z)"
      ],
      "metadata": {
        "id": "R66WiGMThGvG"
      }
    }
  ]
}