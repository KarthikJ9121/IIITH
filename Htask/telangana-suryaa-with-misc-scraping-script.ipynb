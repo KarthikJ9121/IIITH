{
 "cells": [
  {
   "cell_type": "markdown",
   "id": "28f057b4",
   "metadata": {
    "papermill": {
     "duration": 0.012296,
     "end_time": "2023-03-04T15:22:32.352873",
     "exception": false,
     "start_time": "2023-03-04T15:22:32.340577",
     "status": "completed"
    },
    "tags": []
   },
   "source": [
    "#### Installing necessary packages"
   ]
  },
  {
   "cell_type": "code",
   "execution_count": 1,
   "id": "a23080b5",
   "metadata": {
    "execution": {
     "iopub.execute_input": "2023-03-04T15:22:32.376975Z",
     "iopub.status.busy": "2023-03-04T15:22:32.376572Z",
     "iopub.status.idle": "2023-03-04T15:23:04.959590Z",
     "shell.execute_reply": "2023-03-04T15:23:04.958370Z"
    },
    "papermill": {
     "duration": 32.598531,
     "end_time": "2023-03-04T15:23:04.962493",
     "exception": false,
     "start_time": "2023-03-04T15:22:32.363962",
     "status": "completed"
    },
    "tags": []
   },
   "outputs": [
    {
     "name": "stdout",
     "output_type": "stream",
     "text": [
      "--2023-03-04 15:22:33--  https://dl.google.com/linux/linux_signing_key.pub\r\n",
      "Resolving dl.google.com (dl.google.com)... 172.217.203.136, 172.217.203.91, 172.217.203.190, ...\r\n",
      "Connecting to dl.google.com (dl.google.com)|172.217.203.136|:443... connected.\r\n",
      "HTTP request sent, awaiting response... 200 OK\r\n",
      "Length: 14613 (14K) [application/octet-stream]\r\n",
      "Saving to: ‘linux_signing_key.pub’\r\n",
      "\r\n",
      "linux_signing_key.p 100%[===================>]  14.27K  --.-KB/s    in 0s      \r\n",
      "\r\n",
      "2023-03-04 15:22:33 (62.2 MB/s) - ‘linux_signing_key.pub’ saved [14613/14613]\r\n",
      "\r\n",
      "OK\r\n",
      "Get:1 http://packages.cloud.google.com/apt gcsfuse-focal InRelease [5002 B]\r\n",
      "Get:2 http://dl.google.com/linux/chrome/deb stable InRelease [1811 B]\r\n",
      "Get:3 https://packages.cloud.google.com/apt cloud-sdk InRelease [6361 B]\r\n",
      "Get:4 http://packages.cloud.google.com/apt gcsfuse-focal/main amd64 Packages [2015 B]\r\n",
      "Get:5 http://dl.google.com/linux/chrome/deb stable/main amd64 Packages [1082 B]\r\n",
      "Hit:6 http://archive.ubuntu.com/ubuntu focal InRelease\r\n",
      "Get:7 https://packages.cloud.google.com/apt cloud-sdk/main amd64 Packages [400 kB]\r\n",
      "Get:8 http://security.ubuntu.com/ubuntu focal-security InRelease [114 kB]\r\n",
      "Get:9 http://archive.ubuntu.com/ubuntu focal-updates InRelease [114 kB]\r\n",
      "Get:10 http://archive.ubuntu.com/ubuntu focal-backports InRelease [108 kB]\r\n",
      "Get:11 http://security.ubuntu.com/ubuntu focal-security/main amd64 Packages [2535 kB]\r\n",
      "Get:12 http://archive.ubuntu.com/ubuntu focal-updates/universe amd64 Packages [1308 kB]\r\n",
      "Get:13 http://archive.ubuntu.com/ubuntu focal-updates/multiverse amd64 Packages [31.3 kB]\r\n",
      "Get:14 http://archive.ubuntu.com/ubuntu focal-updates/restricted amd64 Packages [2134 kB]\r\n",
      "Get:15 http://archive.ubuntu.com/ubuntu focal-updates/main amd64 Packages [3012 kB]\r\n",
      "Get:16 http://archive.ubuntu.com/ubuntu focal-backports/universe amd64 Packages [28.6 kB]\r\n",
      "Get:17 http://security.ubuntu.com/ubuntu focal-security/universe amd64 Packages [1013 kB]\r\n",
      "Get:18 http://security.ubuntu.com/ubuntu focal-security/restricted amd64 Packages [1998 kB]\r\n",
      "Fetched 12.8 MB in 4s (3657 kB/s)\r\n",
      "\r\n",
      "\r\n",
      "\r\n",
      "\r\n",
      "The following additional packages will be installed:\r\n",
      "  fonts-liberation libgbm1 libu2f-udev libwayland-server0 udev\r\n",
      "The following NEW packages will be installed:\r\n",
      "  fonts-liberation google-chrome-stable libgbm1 libu2f-udev libwayland-server0\r\n",
      "  udev\r\n",
      "0 upgraded, 6 newly installed, 0 to remove and 43 not upgraded.\r\n",
      "Need to get 96.3 MB of archives.\r\n",
      "After this operation, 330 MB of additional disk space will be used.\r\n",
      "Get:1 http://dl.google.com/linux/chrome/deb stable/main amd64 google-chrome-stable amd64 110.0.5481.177-1 [94.0 MB]\r\n",
      "Get:2 http://archive.ubuntu.com/ubuntu focal/main amd64 fonts-liberation all 1:1.07.4-11 [822 kB]\r\n",
      "Get:3 http://archive.ubuntu.com/ubuntu focal-updates/main amd64 libwayland-server0 amd64 1.18.0-1ubuntu0.1 [31.3 kB]\r\n",
      "Get:4 http://archive.ubuntu.com/ubuntu focal-updates/main amd64 libgbm1 amd64 21.2.6-0ubuntu0.1~20.04.2 [29.2 kB]\r\n",
      "Get:5 http://archive.ubuntu.com/ubuntu focal-updates/main amd64 udev amd64 245.4-4ubuntu3.19 [1367 kB]\r\n",
      "Get:6 http://archive.ubuntu.com/ubuntu focal/main amd64 libu2f-udev all 1.1.10-1 [6108 B]\r\n",
      "Fetched 96.3 MB in 3s (36.7 MB/s)\r\n",
      "Selecting previously unselected package fonts-liberation.\r\n",
      "(Reading database ... 108881 files and directories currently installed.)\r\n",
      "Preparing to unpack .../0-fonts-liberation_1%3a1.07.4-11_all.deb ...\r\n",
      "Unpacking fonts-liberation (1:1.07.4-11) ...\r\n",
      "Selecting previously unselected package libwayland-server0:amd64.\r\n",
      "Preparing to unpack .../1-libwayland-server0_1.18.0-1ubuntu0.1_amd64.deb ...\r\n",
      "Unpacking libwayland-server0:amd64 (1.18.0-1ubuntu0.1) ...\r\n",
      "Selecting previously unselected package libgbm1:amd64.\r\n",
      "Preparing to unpack .../2-libgbm1_21.2.6-0ubuntu0.1~20.04.2_amd64.deb ...\r\n",
      "Unpacking libgbm1:amd64 (21.2.6-0ubuntu0.1~20.04.2) ...\r\n",
      "Selecting previously unselected package udev.\r\n",
      "Preparing to unpack .../3-udev_245.4-4ubuntu3.19_amd64.deb ...\r\n",
      "Unpacking udev (245.4-4ubuntu3.19) ...\r\n",
      "Selecting previously unselected package libu2f-udev.\r\n",
      "Preparing to unpack .../4-libu2f-udev_1.1.10-1_all.deb ...\r\n",
      "Unpacking libu2f-udev (1.1.10-1) ...\r\n",
      "Selecting previously unselected package google-chrome-stable.\r\n",
      "Preparing to unpack .../5-google-chrome-stable_110.0.5481.177-1_amd64.deb ...\r\n",
      "Unpacking google-chrome-stable (110.0.5481.177-1) ...\r\n",
      "Setting up libwayland-server0:amd64 (1.18.0-1ubuntu0.1) ...\r\n",
      "Setting up libgbm1:amd64 (21.2.6-0ubuntu0.1~20.04.2) ...\r\n",
      "Setting up udev (245.4-4ubuntu3.19) ...\r\n",
      "invoke-rc.d: could not determine current runlevel\r\n",
      "invoke-rc.d: policy-rc.d denied execution of start.\r\n",
      "Setting up fonts-liberation (1:1.07.4-11) ...\r\n",
      "Setting up libu2f-udev (1.1.10-1) ...\r\n",
      "Failed to send reload request: No such file or directory\r\n",
      "Setting up google-chrome-stable (110.0.5481.177-1) ...\r\n",
      "update-alternatives: using /usr/bin/google-chrome-stable to provide /usr/bin/x-www-browser (x-www-browser) in auto mode\r\n",
      "update-alternatives: using /usr/bin/google-chrome-stable to provide /usr/bin/gnome-www-browser (gnome-www-browser) in auto mode\r\n",
      "update-alternatives: using /usr/bin/google-chrome-stable to provide /usr/bin/google-chrome (google-chrome) in auto mode\r\n",
      "Processing triggers for libc-bin (2.31-0ubuntu9.9) ...\r\n",
      "Processing triggers for systemd (245.4-4ubuntu3.19) ...\r\n",
      "Processing triggers for man-db (2.9.1-1) ...\r\n",
      "Processing triggers for fontconfig (2.13.1-2ubuntu3) ...\r\n",
      "Processing triggers for mime-support (3.64ubuntu1) ...\r\n"
     ]
    }
   ],
   "source": [
    "# install google chrome\n",
    "!wget https://dl.google.com/linux/linux_signing_key.pub\n",
    "!sudo apt-key add linux_signing_key.pub\n",
    "!echo 'deb [arch=amd64] http://dl.google.com/linux/chrome/deb/ stable main' >> /etc/apt/sources.list.d/google-chrome.list\n",
    "!sudo apt-get -y update\n",
    "!sudo apt-get install -y google-chrome-stable"
   ]
  },
  {
   "cell_type": "code",
   "execution_count": 2,
   "id": "946aeab1",
   "metadata": {
    "execution": {
     "iopub.execute_input": "2023-03-04T15:23:05.003270Z",
     "iopub.status.busy": "2023-03-04T15:23:05.002292Z",
     "iopub.status.idle": "2023-03-04T15:23:07.827449Z",
     "shell.execute_reply": "2023-03-04T15:23:07.825497Z"
    },
    "papermill": {
     "duration": 2.849145,
     "end_time": "2023-03-04T15:23:07.830381",
     "exception": false,
     "start_time": "2023-03-04T15:23:04.981236",
     "status": "completed"
    },
    "tags": []
   },
   "outputs": [
    {
     "name": "stdout",
     "output_type": "stream",
     "text": [
      "--2023-03-04 15:23:06--  http://chromedriver.storage.googleapis.com/110.0.5481.77/chromedriver_linux64.zip\r\n",
      "Resolving chromedriver.storage.googleapis.com (chromedriver.storage.googleapis.com)... 172.217.193.128, 2607:f8b0:400c:c03::80\r\n",
      "Connecting to chromedriver.storage.googleapis.com (chromedriver.storage.googleapis.com)|172.217.193.128|:80... connected.\r\n",
      "HTTP request sent, awaiting response... 200 OK\r\n",
      "Length: 7396711 (7.1M) [application/zip]\r\n",
      "Saving to: ‘/tmp/chromedriver.zip’\r\n",
      "\r\n",
      "/tmp/chromedriver.z 100%[===================>]   7.05M  --.-KB/s    in 0.04s   \r\n",
      "\r\n",
      "2023-03-04 15:23:06 (169 MB/s) - ‘/tmp/chromedriver.zip’ saved [7396711/7396711]\r\n",
      "\r\n",
      "Archive:  /tmp/chromedriver.zip\r\n",
      "  inflating: /usr/local/bin/chromedriver  \r\n"
     ]
    }
   ],
   "source": [
    "# install chromedriver\n",
    "# !apt-get install -y qq unzip\n",
    "!wget -O /tmp/chromedriver.zip http://chromedriver.storage.googleapis.com/`curl -sS chromedriver.storage.googleapis.com/LATEST_RELEASE`/chromedriver_linux64.zip\n",
    "!unzip /tmp/chromedriver.zip chromedriver -d /usr/local/bin/"
   ]
  },
  {
   "cell_type": "code",
   "execution_count": 3,
   "id": "779d047a",
   "metadata": {
    "execution": {
     "iopub.execute_input": "2023-03-04T15:23:07.870795Z",
     "iopub.status.busy": "2023-03-04T15:23:07.870314Z",
     "iopub.status.idle": "2023-03-04T15:23:48.245599Z",
     "shell.execute_reply": "2023-03-04T15:23:48.244355Z"
    },
    "papermill": {
     "duration": 40.399829,
     "end_time": "2023-03-04T15:23:48.249069",
     "exception": false,
     "start_time": "2023-03-04T15:23:07.849240",
     "status": "completed"
    },
    "tags": []
   },
   "outputs": [
    {
     "name": "stdout",
     "output_type": "stream",
     "text": [
      "\r\n",
      "\r\n",
      "\r\n",
      "The following additional packages will be installed:\r\n",
      "  apparmor chromium-browser chromium-chromedriver liblzo2-2 snapd\r\n",
      "  squashfs-tools\r\n",
      "Suggested packages:\r\n",
      "  apparmor-profiles-extra apparmor-utils zenity | kdialog\r\n",
      "The following NEW packages will be installed:\r\n",
      "  apparmor chromium-browser chromium-chromedriver liblzo2-2 python3-selenium\r\n",
      "  snapd squashfs-tools\r\n",
      "0 upgraded, 7 newly installed, 0 to remove and 43 not upgraded.\r\n",
      "Need to get 38.7 MB of archives.\r\n",
      "After this operation, 174 MB of additional disk space will be used.\r\n",
      "Get:1 http://archive.ubuntu.com/ubuntu focal-updates/main amd64 apparmor amd64 2.13.3-7ubuntu5.1 [494 kB]\r\n",
      "Get:2 http://archive.ubuntu.com/ubuntu focal/main amd64 liblzo2-2 amd64 2.10-2 [50.8 kB]\r\n",
      "Get:3 http://archive.ubuntu.com/ubuntu focal-updates/main amd64 squashfs-tools amd64 1:4.4-1ubuntu0.3 [117 kB]\r\n",
      "Get:4 http://archive.ubuntu.com/ubuntu focal-updates/main amd64 snapd amd64 2.58+20.04 [37.9 MB]\r\n",
      "Get:5 http://archive.ubuntu.com/ubuntu focal-updates/universe amd64 chromium-browser amd64 1:85.0.4183.83-0ubuntu0.20.04.3 [48.5 kB]\r\n",
      "Get:6 http://archive.ubuntu.com/ubuntu focal-updates/universe amd64 chromium-chromedriver amd64 1:85.0.4183.83-0ubuntu0.20.04.3 [2496 B]\r\n",
      "Get:7 http://archive.ubuntu.com/ubuntu focal/universe amd64 python3-selenium all 4.0.0~a1+dfsg1-1.1 [86.2 kB]\r\n",
      "Fetched 38.7 MB in 6s (6911 kB/s)\r\n",
      "Preconfiguring packages ...\r\n",
      "\n",
      "\u001b7\u001b[0;23r\u001b8\u001b[1ASelecting previously unselected package apparmor.\r\n",
      "(Reading database ... 109152 files and directories currently installed.)\r\n",
      "Preparing to unpack .../apparmor_2.13.3-7ubuntu5.1_amd64.deb ...\r\n",
      "\u001b7\u001b[24;0f\u001b[42m\u001b[30mProgress: [  0%]\u001b[49m\u001b[39m [..........................................................] \u001b8\u001b7\u001b[24;0f\u001b[42m\u001b[30mProgress: [  3%]\u001b[49m\u001b[39m [##........................................................] \u001b8Unpacking apparmor (2.13.3-7ubuntu5.1) ...\r\n",
      "\u001b7\u001b[24;0f\u001b[42m\u001b[30mProgress: [  7%]\u001b[49m\u001b[39m [####......................................................] \u001b8Selecting previously unselected package liblzo2-2:amd64.\r\n",
      "Preparing to unpack .../liblzo2-2_2.10-2_amd64.deb ...\r\n",
      "\u001b7\u001b[24;0f\u001b[42m\u001b[30mProgress: [ 10%]\u001b[49m\u001b[39m [######....................................................] \u001b8Unpacking liblzo2-2:amd64 (2.10-2) ...\r\n",
      "\u001b7\u001b[24;0f\u001b[42m\u001b[30mProgress: [ 14%]\u001b[49m\u001b[39m [########..................................................] \u001b8Selecting previously unselected package squashfs-tools.\r\n",
      "Preparing to unpack .../squashfs-tools_1%3a4.4-1ubuntu0.3_amd64.deb ...\r\n",
      "\u001b7\u001b[24;0f\u001b[42m\u001b[30mProgress: [ 17%]\u001b[49m\u001b[39m [#########.................................................] \u001b8Unpacking squashfs-tools (1:4.4-1ubuntu0.3) ...\r\n",
      "\u001b7\u001b[24;0f\u001b[42m\u001b[30mProgress: [ 21%]\u001b[49m\u001b[39m [############..............................................] \u001b8Selecting previously unselected package snapd.\r\n",
      "Preparing to unpack .../snapd_2.58+20.04_amd64.deb ...\r\n",
      "\u001b7\u001b[24;0f\u001b[42m\u001b[30mProgress: [ 24%]\u001b[49m\u001b[39m [##############............................................] \u001b8Unpacking snapd (2.58+20.04) ...\r\n",
      "\u001b7\u001b[24;0f\u001b[42m\u001b[30mProgress: [ 28%]\u001b[49m\u001b[39m [################..........................................] \u001b8Setting up apparmor (2.13.3-7ubuntu5.1) ...\r\n",
      "\u001b7\u001b[24;0f\u001b[42m\u001b[30mProgress: [ 31%]\u001b[49m\u001b[39m [##################........................................] \u001b8Created symlink /etc/systemd/system/sysinit.target.wants/apparmor.service → /lib/systemd/system/apparmor.service.\r\n",
      "\u001b7\u001b[24;0f\u001b[42m\u001b[30mProgress: [ 34%]\u001b[49m\u001b[39m [###################.......................................] \u001b8Setting up liblzo2-2:amd64 (2.10-2) ...\r\n",
      "\u001b7\u001b[24;0f\u001b[42m\u001b[30mProgress: [ 38%]\u001b[49m\u001b[39m [######################....................................] \u001b8\u001b7\u001b[24;0f\u001b[42m\u001b[30mProgress: [ 41%]\u001b[49m\u001b[39m [########################..................................] \u001b8Setting up squashfs-tools (1:4.4-1ubuntu0.3) ...\r\n",
      "\u001b7\u001b[24;0f\u001b[42m\u001b[30mProgress: [ 45%]\u001b[49m\u001b[39m [##########################................................] \u001b8\u001b7\u001b[24;0f\u001b[42m\u001b[30mProgress: [ 48%]\u001b[49m\u001b[39m [############################..............................] \u001b8Setting up snapd (2.58+20.04) ...\r\n",
      "\u001b7\u001b[24;0f\u001b[42m\u001b[30mProgress: [ 52%]\u001b[49m\u001b[39m [#############################.............................] \u001b8Created symlink /etc/systemd/system/multi-user.target.wants/snapd.aa-prompt-listener.service → /lib/systemd/system/snapd.aa-prompt-listener.service.\r\n",
      "Created symlink /etc/systemd/system/multi-user.target.wants/snapd.apparmor.service → /lib/systemd/system/snapd.apparmor.service.\r\n",
      "Created symlink /etc/systemd/system/multi-user.target.wants/snapd.autoimport.service → /lib/systemd/system/snapd.autoimport.service.\r\n",
      "Created symlink /etc/systemd/system/multi-user.target.wants/snapd.core-fixup.service → /lib/systemd/system/snapd.core-fixup.service.\r\n",
      "Created symlink /etc/systemd/system/multi-user.target.wants/snapd.recovery-chooser-trigger.service → /lib/systemd/system/snapd.recovery-chooser-trigger.service.\r\n",
      "Created symlink /etc/systemd/system/multi-user.target.wants/snapd.seeded.service → /lib/systemd/system/snapd.seeded.service.\r\n",
      "Created symlink /etc/systemd/system/cloud-final.service.wants/snapd.seeded.service → /lib/systemd/system/snapd.seeded.service.\r\n",
      "Created symlink /etc/systemd/system/multi-user.target.wants/snapd.service → /lib/systemd/system/snapd.service.\r\n",
      "Created symlink /etc/systemd/system/timers.target.wants/snapd.snap-repair.timer → /lib/systemd/system/snapd.snap-repair.timer.\r\n",
      "Created symlink /etc/systemd/system/sockets.target.wants/snapd.socket → /lib/systemd/system/snapd.socket.\r\n",
      "Created symlink /etc/systemd/system/final.target.wants/snapd.system-shutdown.service → /lib/systemd/system/snapd.system-shutdown.service.\r\n",
      "\u001b7\u001b[24;0f\u001b[42m\u001b[30mProgress: [ 55%]\u001b[49m\u001b[39m [################################..........................] \u001b8Selecting previously unselected package chromium-browser.\r\n",
      "(Reading database ... 109446 files and directories currently installed.)\r\n",
      "Preparing to unpack .../chromium-browser_1%3a85.0.4183.83-0ubuntu0.20.04.3_amd64.deb ...\r\n",
      "\u001b7\u001b[24;0f\u001b[42m\u001b[30mProgress: [ 59%]\u001b[49m\u001b[39m [##################################........................] \u001b8=> Installing the chromium snap\r\n",
      "==> Checking connectivity with the snap store\r\n",
      "===> System doesn't have a working snapd, skipping\r\n",
      "Unpacking chromium-browser (1:85.0.4183.83-0ubuntu0.20.04.3) ...\r\n",
      "\u001b7\u001b[24;0f\u001b[42m\u001b[30mProgress: [ 62%]\u001b[49m\u001b[39m [####################################......................] \u001b8Selecting previously unselected package chromium-chromedriver.\r\n",
      "Preparing to unpack .../chromium-chromedriver_1%3a85.0.4183.83-0ubuntu0.20.04.3_amd64.deb ...\r\n",
      "\u001b7\u001b[24;0f\u001b[42m\u001b[30mProgress: [ 66%]\u001b[49m\u001b[39m [######################################....................] \u001b8Unpacking chromium-chromedriver (1:85.0.4183.83-0ubuntu0.20.04.3) ...\r\n",
      "\u001b7\u001b[24;0f\u001b[42m\u001b[30mProgress: [ 69%]\u001b[49m\u001b[39m [#######################################...................] \u001b8Selecting previously unselected package python3-selenium.\r\n",
      "Preparing to unpack .../python3-selenium_4.0.0~a1+dfsg1-1.1_all.deb ...\r\n",
      "\u001b7\u001b[24;0f\u001b[42m\u001b[30mProgress: [ 72%]\u001b[49m\u001b[39m [##########################################................] \u001b8Unpacking python3-selenium (4.0.0~a1+dfsg1-1.1) ...\r\n",
      "\u001b7\u001b[24;0f\u001b[42m\u001b[30mProgress: [ 76%]\u001b[49m\u001b[39m [############################################..............] \u001b8Setting up python3-selenium (4.0.0~a1+dfsg1-1.1) ...\r\n",
      "\u001b7\u001b[24;0f\u001b[42m\u001b[30mProgress: [ 79%]\u001b[49m\u001b[39m [##############################################............] \u001b8\u001b7\u001b[24;0f\u001b[42m\u001b[30mProgress: [ 83%]\u001b[49m\u001b[39m [################################################..........] \u001b8Setting up chromium-browser (1:85.0.4183.83-0ubuntu0.20.04.3) ...\r\n",
      "\u001b7\u001b[24;0f\u001b[42m\u001b[30mProgress: [ 86%]\u001b[49m\u001b[39m [##################################################........] \u001b8\u001b7\u001b[24;0f\u001b[42m\u001b[30mProgress: [ 90%]\u001b[49m\u001b[39m [####################################################......] \u001b8Setting up chromium-chromedriver (1:85.0.4183.83-0ubuntu0.20.04.3) ...\r\n",
      "\u001b7\u001b[24;0f\u001b[42m\u001b[30mProgress: [ 93%]\u001b[49m\u001b[39m [#####################################################.....] \u001b8\u001b7\u001b[24;0f\u001b[42m\u001b[30mProgress: [ 97%]\u001b[49m\u001b[39m [########################################################..] \u001b8Processing triggers for mime-support (3.64ubuntu1) ...\r\n",
      "Processing triggers for hicolor-icon-theme (0.17-2) ...\r\n",
      "Processing triggers for libc-bin (2.31-0ubuntu9.9) ...\r\n",
      "Processing triggers for systemd (245.4-4ubuntu3.19) ...\r\n",
      "Processing triggers for man-db (2.9.1-1) ...\r\n",
      "Processing triggers for dbus (1.12.16-2ubuntu2.3) ...\r\n",
      "\r\n",
      "\u001b7\u001b[0;24r\u001b8\u001b[1A\u001b[J\u001b[33mWARNING: Running pip as the 'root' user can result in broken permissions and conflicting behaviour with the system package manager. It is recommended to use a virtual environment instead: https://pip.pypa.io/warnings/venv\u001b[0m\u001b[33m\r\n",
      "\u001b[0m"
     ]
    }
   ],
   "source": [
    "# install selenium\n",
    "!sudo apt install -y python3-selenium\n",
    "!pip install selenium > /dev/null"
   ]
  },
  {
   "cell_type": "code",
   "execution_count": 4,
   "id": "820e985a",
   "metadata": {
    "execution": {
     "iopub.execute_input": "2023-03-04T15:23:48.297893Z",
     "iopub.status.busy": "2023-03-04T15:23:48.297426Z",
     "iopub.status.idle": "2023-03-04T15:23:49.516927Z",
     "shell.execute_reply": "2023-03-04T15:23:49.514931Z"
    },
    "papermill": {
     "duration": 1.247594,
     "end_time": "2023-03-04T15:23:49.520153",
     "exception": false,
     "start_time": "2023-03-04T15:23:48.272559",
     "status": "completed"
    },
    "tags": []
   },
   "outputs": [
    {
     "name": "stdout",
     "output_type": "stream",
     "text": [
      "Google Chrome 110.0.5481.177 \r\n"
     ]
    }
   ],
   "source": [
    "# To check Google Chrome's version\n",
    "!google-chrome --version"
   ]
  },
  {
   "cell_type": "code",
   "execution_count": 5,
   "id": "9a3df992",
   "metadata": {
    "execution": {
     "iopub.execute_input": "2023-03-04T15:23:49.570845Z",
     "iopub.status.busy": "2023-03-04T15:23:49.570284Z",
     "iopub.status.idle": "2023-03-04T15:23:50.708838Z",
     "shell.execute_reply": "2023-03-04T15:23:50.707401Z"
    },
    "papermill": {
     "duration": 1.166835,
     "end_time": "2023-03-04T15:23:50.711714",
     "exception": false,
     "start_time": "2023-03-04T15:23:49.544879",
     "status": "completed"
    },
    "tags": []
   },
   "outputs": [
    {
     "name": "stdout",
     "output_type": "stream",
     "text": [
      "ChromeDriver 110.0.5481.77 (65ed616c6e8ee3fe0ad64fe83796c020644d42af-refs/branch-heads/5481@{#839})\r\n"
     ]
    }
   ],
   "source": [
    "# To check Chrome Driver's version\n",
    "!chromedriver -v"
   ]
  },
  {
   "cell_type": "code",
   "execution_count": null,
   "id": "7db50d33",
   "metadata": {
    "papermill": {
     "duration": 0.02289,
     "end_time": "2023-03-04T15:23:50.758368",
     "exception": false,
     "start_time": "2023-03-04T15:23:50.735478",
     "status": "completed"
    },
    "tags": []
   },
   "outputs": [],
   "source": []
  },
  {
   "cell_type": "markdown",
   "id": "b9b830d8",
   "metadata": {
    "papermill": {
     "duration": 0.023212,
     "end_time": "2023-03-04T15:23:50.804895",
     "exception": false,
     "start_time": "2023-03-04T15:23:50.781683",
     "status": "completed"
    },
    "tags": []
   },
   "source": [
    "#### Importing necessary packages"
   ]
  },
  {
   "cell_type": "code",
   "execution_count": 6,
   "id": "7874de4d",
   "metadata": {
    "execution": {
     "iopub.execute_input": "2023-03-04T15:23:50.854619Z",
     "iopub.status.busy": "2023-03-04T15:23:50.853893Z",
     "iopub.status.idle": "2023-03-04T15:23:50.890287Z",
     "shell.execute_reply": "2023-03-04T15:23:50.888664Z"
    },
    "papermill": {
     "duration": 0.065098,
     "end_time": "2023-03-04T15:23:50.893233",
     "exception": false,
     "start_time": "2023-03-04T15:23:50.828135",
     "status": "completed"
    },
    "tags": []
   },
   "outputs": [],
   "source": [
    "from selenium import webdriver\n",
    "from selenium.webdriver.common.by import By\n",
    "# from selenium.webdriver.chrome.service import Service\n",
    "# from webdriver_manager.chrome import ChromeDriverManager\n",
    "# from selenium.webdriver.chrome.options import Options\n",
    "\n",
    "chrome_options = webdriver.ChromeOptions()\n",
    "\n",
    "chrome_options.add_argument('--headless')\n",
    "chrome_options.add_argument('--no-sandbox')\n",
    "chrome_options.add_argument('--disable-dev-shm-usage')\n",
    "chrome_options.add_argument('--disable-gpu')\n",
    "# chrome_options.add_argument(\"--window-size=1920,1080\")"
   ]
  },
  {
   "cell_type": "code",
   "execution_count": 7,
   "id": "f04fa729",
   "metadata": {
    "_cell_guid": "b1076dfc-b9ad-4769-8c92-a6c4dae69d19",
    "_uuid": "8f2839f25d086af736a60e9eeb907d3b93b6e0e5",
    "execution": {
     "iopub.execute_input": "2023-03-04T15:23:50.943131Z",
     "iopub.status.busy": "2023-03-04T15:23:50.942690Z",
     "iopub.status.idle": "2023-03-04T15:23:51.143530Z",
     "shell.execute_reply": "2023-03-04T15:23:51.142056Z"
    },
    "papermill": {
     "duration": 0.22968,
     "end_time": "2023-03-04T15:23:51.146590",
     "exception": false,
     "start_time": "2023-03-04T15:23:50.916910",
     "status": "completed"
    },
    "tags": []
   },
   "outputs": [],
   "source": [
    "import requests\n",
    "import json\n",
    "import pandas as pd\n",
    "import numpy as np\n",
    "import re\n",
    "\n",
    "from tqdm import tqdm\n",
    "from bs4 import BeautifulSoup"
   ]
  },
  {
   "cell_type": "markdown",
   "id": "0687588d",
   "metadata": {
    "papermill": {
     "duration": 0.022884,
     "end_time": "2023-03-04T15:23:51.192800",
     "exception": false,
     "start_time": "2023-03-04T15:23:51.169916",
     "status": "completed"
    },
    "tags": []
   },
   "source": [
    "#### Parameters"
   ]
  },
  {
   "cell_type": "code",
   "execution_count": 8,
   "id": "f9d43912",
   "metadata": {
    "execution": {
     "iopub.execute_input": "2023-03-04T15:23:51.242019Z",
     "iopub.status.busy": "2023-03-04T15:23:51.241287Z",
     "iopub.status.idle": "2023-03-04T15:23:51.248210Z",
     "shell.execute_reply": "2023-03-04T15:23:51.246746Z"
    },
    "papermill": {
     "duration": 0.035202,
     "end_time": "2023-03-04T15:23:51.251216",
     "exception": false,
     "start_time": "2023-03-04T15:23:51.216014",
     "status": "completed"
    },
    "tags": []
   },
   "outputs": [
    {
     "name": "stdout",
     "output_type": "stream",
     "text": [
      "Start:  0 \tEnd:  1000\n"
     ]
    }
   ],
   "source": [
    "start = 0\n",
    "offset = 50\n",
    "no_of_urls_to_scrape = 1000\n",
    "\n",
    "end = start + no_of_urls_to_scrape\n",
    "print(\"Start: \", start, \"\\tEnd: \", end)"
   ]
  },
  {
   "cell_type": "code",
   "execution_count": 9,
   "id": "1e714da3",
   "metadata": {
    "execution": {
     "iopub.execute_input": "2023-03-04T15:23:51.300649Z",
     "iopub.status.busy": "2023-03-04T15:23:51.299603Z",
     "iopub.status.idle": "2023-03-04T15:23:52.136172Z",
     "shell.execute_reply": "2023-03-04T15:23:52.134908Z"
    },
    "papermill": {
     "duration": 0.864513,
     "end_time": "2023-03-04T15:23:52.139279",
     "exception": false,
     "start_time": "2023-03-04T15:23:51.274766",
     "status": "completed"
    },
    "tags": []
   },
   "outputs": [],
   "source": [
    "driver = webdriver.Chrome(options = chrome_options)"
   ]
  },
  {
   "cell_type": "markdown",
   "id": "5a8d15d6",
   "metadata": {
    "papermill": {
     "duration": 0.023889,
     "end_time": "2023-03-04T15:23:52.190874",
     "exception": false,
     "start_time": "2023-03-04T15:23:52.166985",
     "status": "completed"
    },
    "tags": []
   },
   "source": [
    "#### Read test dataset"
   ]
  },
  {
   "cell_type": "code",
   "execution_count": 10,
   "id": "4e9b106f",
   "metadata": {
    "execution": {
     "iopub.execute_input": "2023-03-04T15:23:52.240530Z",
     "iopub.status.busy": "2023-03-04T15:23:52.239644Z",
     "iopub.status.idle": "2023-03-04T15:23:52.280939Z",
     "shell.execute_reply": "2023-03-04T15:23:52.279412Z"
    },
    "papermill": {
     "duration": 0.069528,
     "end_time": "2023-03-04T15:23:52.283745",
     "exception": false,
     "start_time": "2023-03-04T15:23:52.214217",
     "status": "completed"
    },
    "tags": []
   },
   "outputs": [
    {
     "name": "stdout",
     "output_type": "stream",
     "text": [
      "Output Data:\n",
      "(1000, 3)\n",
      "   Unnamed: 0                                                url  sample_id\n",
      "0           0  https://telangana.suryaa.com/telangana-updates...      41102\n",
      "1           1  https://telangana.suryaa.com/telangana-updates...     125199\n",
      "2           2  https://telangana.suryaa.com/telangana-updates...      10947\n",
      "3           3  https://telangana.suryaa.com/telangana-updates...      30599\n",
      "4           4  https://telangana.suryaa.com/telangana-updates...     127395\n"
     ]
    }
   ],
   "source": [
    "samples_count = 0\n",
    "out_df = None\n",
    "for chunk in pd.read_csv('/kaggle/input/telugu-news-urls/telangana_suryaa.csv', chunksize = no_of_urls_to_scrape):\n",
    "    if samples_count == start:\n",
    "        out_df = chunk.copy()\n",
    "        break\n",
    "    samples_count += int(chunk.shape[0])\n",
    "    \n",
    "\n",
    "if out_df is not None:\n",
    "    print(\"Output Data:\")\n",
    "    print(out_df.shape)\n",
    "    print(out_df.head())\n",
    "else:\n",
    "    exit('Something went wrong with reading the input data...')"
   ]
  },
  {
   "cell_type": "code",
   "execution_count": 11,
   "id": "f7a72b16",
   "metadata": {
    "execution": {
     "iopub.execute_input": "2023-03-04T15:23:52.349147Z",
     "iopub.status.busy": "2023-03-04T15:23:52.347840Z",
     "iopub.status.idle": "2023-03-04T15:23:52.364559Z",
     "shell.execute_reply": "2023-03-04T15:23:52.363146Z"
    },
    "papermill": {
     "duration": 0.059929,
     "end_time": "2023-03-04T15:23:52.367689",
     "exception": false,
     "start_time": "2023-03-04T15:23:52.307760",
     "status": "completed"
    },
    "tags": []
   },
   "outputs": [
    {
     "data": {
      "text/plain": [
       "'https://telangana.suryaa.com/telangana-updates-2083-.html'"
      ]
     },
     "execution_count": 11,
     "metadata": {},
     "output_type": "execute_result"
    }
   ],
   "source": [
    "url = out_df['url'][0]\n",
    "url"
   ]
  },
  {
   "cell_type": "markdown",
   "id": "393eedc1",
   "metadata": {
    "papermill": {
     "duration": 0.036825,
     "end_time": "2023-03-04T15:23:52.441009",
     "exception": false,
     "start_time": "2023-03-04T15:23:52.404184",
     "status": "completed"
    },
    "tags": []
   },
   "source": [
    "#### Scrape news content"
   ]
  },
  {
   "cell_type": "code",
   "execution_count": 12,
   "id": "fbe2791a",
   "metadata": {
    "execution": {
     "iopub.execute_input": "2023-03-04T15:23:52.517434Z",
     "iopub.status.busy": "2023-03-04T15:23:52.517001Z",
     "iopub.status.idle": "2023-03-04T15:23:52.523987Z",
     "shell.execute_reply": "2023-03-04T15:23:52.522934Z"
    },
    "papermill": {
     "duration": 0.052999,
     "end_time": "2023-03-04T15:23:52.526413",
     "exception": false,
     "start_time": "2023-03-04T15:23:52.473414",
     "status": "completed"
    },
    "tags": []
   },
   "outputs": [],
   "source": [
    "def find_tag_sequence(element):\n",
    "    parent_elements = []\n",
    "    while element is not None:\n",
    "        p_name = getattr(element, 'name', None)\n",
    "        parent_elements.append(p_name)\n",
    "        element = element.parent\n",
    "\n",
    "        if element.parent is None:\n",
    "            break\n",
    "    return '>'.join(parent_elements[::-1])"
   ]
  },
  {
   "cell_type": "code",
   "execution_count": 13,
   "id": "8e64e181",
   "metadata": {
    "execution": {
     "iopub.execute_input": "2023-03-04T15:23:52.585720Z",
     "iopub.status.busy": "2023-03-04T15:23:52.584222Z",
     "iopub.status.idle": "2023-03-04T15:23:52.595928Z",
     "shell.execute_reply": "2023-03-04T15:23:52.594376Z"
    },
    "papermill": {
     "duration": 0.048327,
     "end_time": "2023-03-04T15:23:52.599939",
     "exception": false,
     "start_time": "2023-03-04T15:23:52.551612",
     "status": "completed"
    },
    "tags": []
   },
   "outputs": [],
   "source": [
    "def find_neighbours_and_parent(element):\n",
    "    parent_tag = None\n",
    "    prev_tag = None\n",
    "    next_tag = None\n",
    "    child_tags = None\n",
    "    \n",
    "    if element is not None:\n",
    "        #### Next sibling\n",
    "        next_sib = element.find_next_sibling()\n",
    "        if next_sib is not None:\n",
    "            next_tag = getattr(next_sib, 'name', None)\n",
    "        \n",
    "        #### Previous sibling\n",
    "        previous_sib = element.find_previous_sibling()\n",
    "        if previous_sib is not None:\n",
    "            prev_tag = getattr(previous_sib, 'name', None)\n",
    "        \n",
    "        #### Element parent\n",
    "        if element.parent is not None:\n",
    "            parent = element.parent\n",
    "            parent_tag = getattr(parent, 'name', None)\n",
    "    \n",
    "        #### Children\n",
    "        childs = element.find_all(recursive=False)\n",
    "        if childs is not None:\n",
    "            child_tag_names = []\n",
    "            for child in childs:\n",
    "                child_tag_names.append(getattr(child, 'name', None))\n",
    "            child_tags = list(set(child_tag_names.copy()))\n",
    "    \n",
    "    return {'next_sibling': next_tag, 'parent_node': parent_tag, 'prev_sibling': prev_tag, 'child_nodes': child_tags}"
   ]
  },
  {
   "cell_type": "code",
   "execution_count": 14,
   "id": "234ceea5",
   "metadata": {
    "execution": {
     "iopub.execute_input": "2023-03-04T15:23:52.661231Z",
     "iopub.status.busy": "2023-03-04T15:23:52.660434Z",
     "iopub.status.idle": "2023-03-04T15:23:52.673536Z",
     "shell.execute_reply": "2023-03-04T15:23:52.672616Z"
    },
    "papermill": {
     "duration": 0.045545,
     "end_time": "2023-03-04T15:23:52.676232",
     "exception": false,
     "start_time": "2023-03-04T15:23:52.630687",
     "status": "completed"
    },
    "tags": []
   },
   "outputs": [],
   "source": [
    "def extract_visual_features(web_element):\n",
    "    features = {\n",
    "        'x': np.nan,\n",
    "        'y': np.nan,\n",
    "        'height': np.nan,\n",
    "        'width': np.nan,\n",
    "        'is_visible': np.nan,\n",
    "        'aria_role': np.nan,\n",
    "        'bgcolor': np.nan,\n",
    "        'font_color': np.nan,\n",
    "        'font_size': np.nan,\n",
    "        'font_style': np.nan,\n",
    "        'font_family': np.nan,\n",
    "    }\n",
    "    \n",
    "    \n",
    "    try:\n",
    "        loc = web_element.rect\n",
    "        features['x'] = loc.get('x', np.nan)\n",
    "        features['y'] = loc.get('y', np.nan)\n",
    "        features['height'] = loc.get('height', np.nan)\n",
    "        features['width'] = loc.get('width', np.nan)\n",
    "    except:\n",
    "        pass\n",
    "    \n",
    "    try:\n",
    "        is_display = web_element.is_displayed()\n",
    "        features['is_visible'] = is_display\n",
    "    except:\n",
    "        pass\n",
    "    \n",
    "    try:\n",
    "        aria_role = web_element.aria_role\n",
    "        features['aria_role'] = aria_role\n",
    "    except:\n",
    "        pass\n",
    "\n",
    "    try:\n",
    "        bgcolor = web_element.value_of_css_property('background-color')\n",
    "        bgcolor = [int(val.strip()) for val in bgcolor.replace('rgba(','').replace(')','').split(',') if val.strip()!='']\n",
    "        features['bgcolor'] = bgcolor\n",
    "    except:\n",
    "        pass\n",
    "    \n",
    "    try:\n",
    "        font_size = web_element.value_of_css_property('font-size')\n",
    "        features['font_size'] = font_size\n",
    "    except:\n",
    "        pass\n",
    "    \n",
    "    try:\n",
    "        font_style = web_element.value_of_css_property('font-style')\n",
    "        features['font_style'] = font_style\n",
    "    except:\n",
    "        pass\n",
    "    \n",
    "    try:\n",
    "        font_family = web_element.value_of_css_property('font-family')\n",
    "        features['font_family'] = font_family\n",
    "    except:\n",
    "        pass\n",
    "    \n",
    "    try:\n",
    "        font_color = web_element.value_of_css_property('color')\n",
    "        font_color = [int(val.strip()) for val in font_color.replace('rgba(','').replace(')','').split(',') if val.strip()!='']\n",
    "        features['font_color'] = font_color\n",
    "    except:\n",
    "        pass\n",
    "    \n",
    "    \n",
    "    return features"
   ]
  },
  {
   "cell_type": "code",
   "execution_count": null,
   "id": "53d1c8b3",
   "metadata": {
    "papermill": {
     "duration": 0.023472,
     "end_time": "2023-03-04T15:23:52.724760",
     "exception": false,
     "start_time": "2023-03-04T15:23:52.701288",
     "status": "completed"
    },
    "tags": []
   },
   "outputs": [],
   "source": []
  },
  {
   "cell_type": "markdown",
   "id": "49e78f33",
   "metadata": {
    "papermill": {
     "duration": 0.023064,
     "end_time": "2023-03-04T15:23:52.771801",
     "exception": false,
     "start_time": "2023-03-04T15:23:52.748737",
     "status": "completed"
    },
    "tags": []
   },
   "source": [
    "#### Extraction methods"
   ]
  },
  {
   "cell_type": "code",
   "execution_count": 15,
   "id": "1fa8d4ed",
   "metadata": {
    "execution": {
     "iopub.execute_input": "2023-03-04T15:23:52.821749Z",
     "iopub.status.busy": "2023-03-04T15:23:52.820879Z",
     "iopub.status.idle": "2023-03-04T15:23:52.830553Z",
     "shell.execute_reply": "2023-03-04T15:23:52.829617Z"
    },
    "papermill": {
     "duration": 0.038483,
     "end_time": "2023-03-04T15:23:52.833631",
     "exception": false,
     "start_time": "2023-03-04T15:23:52.795148",
     "status": "completed"
    },
    "tags": []
   },
   "outputs": [],
   "source": [
    "def extract_title(soup, driver):\n",
    "    try:\n",
    "        #### Title Tag\n",
    "        title = soup.title\n",
    "        features = {}\n",
    "        title_tag = np.nan\n",
    "        if title is not None:\n",
    "            title_tag = str(title)\n",
    "            \n",
    "            tag_sequence = ''\n",
    "            try:\n",
    "                tag_sequence = find_tag_sequence(title)\n",
    "            except:\n",
    "                pass\n",
    "            if tag_sequence!='':\n",
    "                features['tag_sequence'] = tag_sequence\n",
    "            \n",
    "            neighbours = {}\n",
    "            try:\n",
    "                neighbours = find_neighbours_and_parent(title)\n",
    "            except:\n",
    "                pass\n",
    "            for key, value in neighbours.items():\n",
    "                features[key] = value\n",
    "                \n",
    "            visual_features = {}\n",
    "            try:\n",
    "                if driver is not None:\n",
    "                    title = driver.title\n",
    "                    visual_features = extract_visual_features(title)\n",
    "                    for key, value in visual_features.items():\n",
    "                        features[key] = value\n",
    "            except:\n",
    "                pass\n",
    "        else:\n",
    "            title_tag = np.nan\n",
    "            \n",
    "        if len(features)>0:\n",
    "            features = json.dumps(features, ensure_ascii=False)\n",
    "        else:\n",
    "            features = np.nan\n",
    "        return title_tag, features\n",
    "    except:\n",
    "        return np.nan, np.nan"
   ]
  },
  {
   "cell_type": "code",
   "execution_count": 16,
   "id": "8a2fe77a",
   "metadata": {
    "execution": {
     "iopub.execute_input": "2023-03-04T15:23:52.886453Z",
     "iopub.status.busy": "2023-03-04T15:23:52.885631Z",
     "iopub.status.idle": "2023-03-04T15:23:52.910097Z",
     "shell.execute_reply": "2023-03-04T15:23:52.909069Z"
    },
    "papermill": {
     "duration": 0.053373,
     "end_time": "2023-03-04T15:23:52.912922",
     "exception": false,
     "start_time": "2023-03-04T15:23:52.859549",
     "status": "completed"
    },
    "tags": []
   },
   "outputs": [],
   "source": [
    "def extract_headline_category_pdate(soup, driver):\n",
    "    try:\n",
    "        #### Headline\n",
    "        headline = np.nan\n",
    "        headline_features = {}\n",
    "        \n",
    "        #### Category\n",
    "        category = np.nan\n",
    "        category_features = {}\n",
    "        \n",
    "        #### Publish Date\n",
    "        publish_date = np.nan\n",
    "        pdate_features = {}\n",
    "        \n",
    "        main_div = soup.find('div', attrs={'class':'container'})\n",
    "        if main_div is not None:\n",
    "            sub_div = main_div.find('div', attrs={'class':'container'})\n",
    "            if sub_div is not None:\n",
    "                content_div = sub_div.find('div', attrs={'class':'col-lg-12 col-md-12'})\n",
    "                if content_div is not None:\n",
    "                    h1 = content_div.find('h1')\n",
    "                    if h1 is not None:\n",
    "                        headline = str(h1)\n",
    "                        \n",
    "                        tag_sequence = ''\n",
    "                        try:\n",
    "                            tag_sequence = find_tag_sequence(h1)\n",
    "                        except:\n",
    "                            pass\n",
    "                        if tag_sequence!='':\n",
    "                            headline_features['tag_sequence'] = tag_sequence\n",
    "\n",
    "                        try:\n",
    "                            neighbours = find_neighbours_and_parent(h1)\n",
    "                        except:\n",
    "                            pass\n",
    "                        for key, value in neighbours.items():\n",
    "                            headline_features[key] = value\n",
    "                            \n",
    "                    spans = content_div.find_all('span')\n",
    "                    if spans is not None and len(spans)>0:\n",
    "                        cat = spans[0]\n",
    "                        if cat is not None:\n",
    "                            category = str(cat)\n",
    "                            \n",
    "                            tag_sequence = ''\n",
    "                            try:\n",
    "                                tag_sequence = find_tag_sequence(cat)\n",
    "                            except:\n",
    "                                pass\n",
    "                            if tag_sequence!='':\n",
    "                                category_features['tag_sequence'] = tag_sequence\n",
    "\n",
    "                            try:\n",
    "                                neighbours = find_neighbours_and_parent(cat)\n",
    "                            except:\n",
    "                                pass\n",
    "                            for key, value in neighbours.items():\n",
    "                                category_features[key] = value\n",
    "                    \n",
    "                        if len(spans)>1:\n",
    "                            pdate = spans[1]\n",
    "                            if pdate is not None:\n",
    "                                publish_date = str(pdate)\n",
    "                                \n",
    "                                tag_sequence = ''\n",
    "                                try:\n",
    "                                    tag_sequence = find_tag_sequence(pdate)\n",
    "                                except:\n",
    "                                    pass\n",
    "                                if tag_sequence!='':\n",
    "                                    pdate_features['tag_sequence'] = tag_sequence\n",
    "\n",
    "                                try:\n",
    "                                    neighbours = find_neighbours_and_parent(pdate)\n",
    "                                except:\n",
    "                                    pass\n",
    "                                for key, value in neighbours.items():\n",
    "                                    pdate_features[key] = value\n",
    "                                \n",
    "                \n",
    "            try:\n",
    "                if driver is not None:\n",
    "                    main_div_ = driver.find_element(By.CSS_SELECTOR, 'div.container')\n",
    "                    if main_div_ is not None:\n",
    "                        sub_div_ = main_div_.find_element(By.CSS_SELECTOR, 'div.container')\n",
    "                        if sub_div_ is not None:\n",
    "                            content_div_ = sub_div_.find_element(By.CSS_SELECTOR, 'div.col-lg-12.col-md-12')\n",
    "                            if content_div_ is not None:\n",
    "                                \n",
    "                                ### Headline\n",
    "                                h1_ = content_div_.find_element(By.TAG_NAME, 'h1')\n",
    "                                if h1_ is not None:\n",
    "                                    visual_features = extract_visual_features(h1_)\n",
    "                                    for key, value in visual_features.items():\n",
    "                                        headline_features[key] = value\n",
    "                                        \n",
    "                                spans_ = content_div.find_elements(By.TAG_NAME, 'span')\n",
    "                                if spans_ is not None and len(spans_)>0:\n",
    "                                    cat_ = spans_[0]\n",
    "                                    if cat_ is not None:\n",
    "                                        visual_features = extract_visual_features(cat_)\n",
    "                                        for key, value in visual_features.items():\n",
    "                                            category_features[key] = value\n",
    "                                    \n",
    "                                    if len(spans_)>1:\n",
    "                                        pdate_ = spans_[1]\n",
    "                                        if pdate_ is not None:\n",
    "                                            visual_features = extract_visual_features(pdate_)\n",
    "                                            for key, value in visual_features.items():\n",
    "                                                pdate_features[key] = value\n",
    "            except:\n",
    "                pass\n",
    "            \n",
    "            headline = str(headline)\n",
    "            category = str(category)\n",
    "            publish_date = str(publish_date)\n",
    "        else:\n",
    "            headline = np.nan\n",
    "            category = np.nan\n",
    "            publish_date = np.nan\n",
    "            \n",
    "            \n",
    "        if len(headline_features)>0:\n",
    "            headline_features = json.dumps(headline_features, ensure_ascii=False)\n",
    "        else:\n",
    "            headline_features = np.nan\n",
    "        \n",
    "        if len(category_features)>0:\n",
    "            category_features = json.dumps(category_features, ensure_ascii=False)\n",
    "        else:\n",
    "            category_features = np.nan\n",
    "        \n",
    "        if len(pdate_features)>0:\n",
    "            pdate_features = json.dumps(pdate_features, ensure_ascii=False)\n",
    "        else:\n",
    "            pdate_features = np.nan\n",
    "        return headline, headline_features, category, category_features, publish_date, pdate_features\n",
    "    except:\n",
    "        return np.nan, np.nan, np.nan, np.nan, np.nan, np.nan"
   ]
  },
  {
   "cell_type": "code",
   "execution_count": 17,
   "id": "64675c00",
   "metadata": {
    "execution": {
     "iopub.execute_input": "2023-03-04T15:23:52.963197Z",
     "iopub.status.busy": "2023-03-04T15:23:52.962437Z",
     "iopub.status.idle": "2023-03-04T15:23:52.976189Z",
     "shell.execute_reply": "2023-03-04T15:23:52.974931Z"
    },
    "papermill": {
     "duration": 0.042208,
     "end_time": "2023-03-04T15:23:52.979366",
     "exception": false,
     "start_time": "2023-03-04T15:23:52.937158",
     "status": "completed"
    },
    "tags": []
   },
   "outputs": [],
   "source": [
    "def extract_article_content(soup, driver):\n",
    "    try:\n",
    "        #### Article\n",
    "        article_div = soup.find('div', attrs={'align': 'justify'})\n",
    "        para_list = []\n",
    "        features = []\n",
    "        if article_div is not None:\n",
    "            paras = article_div.find_all('p', attrs = {'class': ''})\n",
    "            \n",
    "            for i in range(len(paras)):\n",
    "                features.append({})\n",
    "            \n",
    "            if paras is not None:\n",
    "                count = 0\n",
    "                    \n",
    "                for para in paras:\n",
    "                    para_list.append(str(para))\n",
    "                    tag_sequence = ''\n",
    "                    try:\n",
    "                        tag_sequence = find_tag_sequence(para)\n",
    "                    except:\n",
    "                        pass\n",
    "                    if tag_sequence!='':\n",
    "                        features[count]['tag_sequence'] = tag_sequence\n",
    "                    \n",
    "                    neighbours = {}\n",
    "                    try:\n",
    "                        neighbours = find_neighbours_and_parent(para)\n",
    "                    except:\n",
    "                        pass\n",
    "                    for key, value in neighbours.items():\n",
    "                        features[count][key] = value\n",
    "                    \n",
    "                    count += 1\n",
    "                \n",
    "                try:\n",
    "                    if driver is not None:\n",
    "                        article_div_ = driver.find_element(By.XPATH, '//div[@align=\"justify\"]')\n",
    "                        if article_div_ is not None:\n",
    "                            paras_ = article_div_.find_elements(By.TAG_NAME, 'p')\n",
    "                            if paras_ is not None:\n",
    "                                count = 0\n",
    "\n",
    "                                for para_ in paras_:\n",
    "                                    visual_features = {}\n",
    "                                    try:\n",
    "                                        visual_features = extract_visual_features(para_)\n",
    "                                    except:\n",
    "                                        pass\n",
    "                                    for key, value in visual_features.items():\n",
    "                                        features[count][key] = value\n",
    "\n",
    "                                    count += 1\n",
    "                except:\n",
    "                    pass\n",
    "            \n",
    "            para_list = json.dumps(para_list, ensure_ascii=False)\n",
    "        else:\n",
    "            para_list = np.nan\n",
    "            \n",
    "        if len(features)>0:\n",
    "            features = json.dumps(features, ensure_ascii=False)\n",
    "        else:\n",
    "            features = np.nan\n",
    "        return para_list, features\n",
    "    except:\n",
    "        return np.nan, np.nan"
   ]
  },
  {
   "cell_type": "code",
   "execution_count": 18,
   "id": "069b64fc",
   "metadata": {
    "execution": {
     "iopub.execute_input": "2023-03-04T15:23:53.030175Z",
     "iopub.status.busy": "2023-03-04T15:23:53.029721Z",
     "iopub.status.idle": "2023-03-04T15:23:53.045814Z",
     "shell.execute_reply": "2023-03-04T15:23:53.044511Z"
    },
    "papermill": {
     "duration": 0.044526,
     "end_time": "2023-03-04T15:23:53.048109",
     "exception": false,
     "start_time": "2023-03-04T15:23:53.003583",
     "status": "completed"
    },
    "tags": []
   },
   "outputs": [],
   "source": [
    "def extract_images(soup, driver):\n",
    "    try:\n",
    "        image = None\n",
    "        features = {}\n",
    "        \n",
    "        #### Images\n",
    "        main_div = soup.find('div', attrs={'class':'container'})\n",
    "        if main_div is not None:\n",
    "            sub_div = main_div.find('div', attrs={'class':'container'})\n",
    "            if sub_div is not None:\n",
    "                content_div = sub_div.find_all('div', attrs={'class':'col-md-12'})\n",
    "                if content_div is not None and len(content_div)>1:\n",
    "                    content_div = content_div[1]\n",
    "                    images = content_div.find('img')\n",
    "                    if images is not None:\n",
    "                        \n",
    "                        image = str(images)\n",
    "                        match = re.search(r'<img.*?>', image)\n",
    "                        if match is not None:\n",
    "                            image = image[match.span()[0]:match.span()[1]]\n",
    "                        \n",
    "                        tag_sequence = ''\n",
    "                        try:\n",
    "                            tag_sequence = find_tag_sequence(image)\n",
    "                        except:\n",
    "                            pass\n",
    "                        if tag_sequence!='':\n",
    "                            features['tag_sequence'] = tag_sequence\n",
    "\n",
    "                        neighbours = {}\n",
    "                        try:\n",
    "                            neighbours = find_neighbours_and_parent(image)\n",
    "                        except:\n",
    "                            pass\n",
    "                        for key, value in neighbours.items():\n",
    "                            features[key] = value\n",
    "\n",
    "            if driver is not None:\n",
    "                main_div_ = driver.find_element(By.CSS_SELECTOR, 'div.container')\n",
    "                if main_div_ is not None:\n",
    "                    sub_div_ = main_div_.find_element(By.CSS_SELECTOR, 'div.container')\n",
    "                    if sub_div_ is not None:\n",
    "                        content_div_ = sub_div_.find_elements(By.CSS_SELECTOR, 'div.col-md-12')\n",
    "                        if content_div_ is not None and len(content_div_)>1:\n",
    "                            content_div_ = content_div_[1]\n",
    "                            images_ = content_div_.find_element(By.TAG_NAME, 'img')\n",
    "                            if images_ is not None:\n",
    "                                visual_features = {}\n",
    "                                try:\n",
    "                                    visual_features = extract_visual_features(images_)\n",
    "                                except:\n",
    "                                    pass\n",
    "                                for key, value in visual_features.items():\n",
    "                                    features[key] = value\n",
    "\n",
    "            image = str(image)\n",
    "        else:\n",
    "            image = np.nan\n",
    "            \n",
    "        if len(features)>0:\n",
    "            features = json.dumps(features, ensure_ascii=False)\n",
    "        else:\n",
    "            features = np.nan\n",
    "        \n",
    "        return image, features\n",
    "    except Exception as e:\n",
    "#         print(\"Exception (img): \", e)\n",
    "        return np.nan, np.nan"
   ]
  },
  {
   "cell_type": "code",
   "execution_count": 19,
   "id": "9d320c3d",
   "metadata": {
    "execution": {
     "iopub.execute_input": "2023-03-04T15:23:53.098099Z",
     "iopub.status.busy": "2023-03-04T15:23:53.097658Z",
     "iopub.status.idle": "2023-03-04T15:23:53.110402Z",
     "shell.execute_reply": "2023-03-04T15:23:53.109173Z"
    },
    "papermill": {
     "duration": 0.040597,
     "end_time": "2023-03-04T15:23:53.112810",
     "exception": false,
     "start_time": "2023-03-04T15:23:53.072213",
     "status": "completed"
    },
    "tags": []
   },
   "outputs": [],
   "source": [
    "def extract_tags(soup, driver):\n",
    "    try:\n",
    "        #### Tags\n",
    "        anchors = soup.find_all('a', attrs={'class': 'btn btn-sm btn-outline-secondary m-1'})\n",
    "        tags_list = []\n",
    "        features = []\n",
    "        if anchors is not None:\n",
    "            \n",
    "            for count in range(len(anchors)):\n",
    "                features.append({})\n",
    "                \n",
    "                anchor = anchors[count]\n",
    "                tags_list.append(str(anchor))\n",
    "\n",
    "                tag_sequence = ''\n",
    "                try:\n",
    "                    tag_sequence = find_tag_sequence(anchor)\n",
    "                except:\n",
    "                    pass\n",
    "                if tag_sequence!='':\n",
    "                    features[count]['tag_sequence'] = tag_sequence\n",
    "\n",
    "                neighbours = {}\n",
    "                try:\n",
    "                    neighbours = find_neighbours_and_parent(anchor)\n",
    "                except:\n",
    "                    pass\n",
    "                for key, value in neighbours.items():\n",
    "                    features[count][key] = value\n",
    "\n",
    "                    \n",
    "            if driver is not None:\n",
    "                anchors_ = driver.find_elements(By.CSS_SELECTOR, 'a.btn.btn-sm.btn-outline-secondary.m-1')\n",
    "                if anchors_ is not None:\n",
    "                    count = 0\n",
    "                    for anchor_ in anchors_:\n",
    "\n",
    "                        visual_features = {}\n",
    "                        try:\n",
    "                            visual_features = extract_visual_features(anchor_)\n",
    "                        except:\n",
    "                            pass\n",
    "                        \n",
    "                        for key, value in visual_features.items():\n",
    "                            features[count][key] = value\n",
    "                        count += 1\n",
    "                                \n",
    "            tags_list = json.dumps(tags_list, ensure_ascii=False)\n",
    "        else:\n",
    "            tags_list = np.nan\n",
    "        \n",
    "        \n",
    "        if len(features)>0:\n",
    "            features = json.dumps(features, ensure_ascii=False)\n",
    "        else:\n",
    "            features = np.nan    \n",
    "        return tags_list, features\n",
    "    except Exception as e:\n",
    "#         print(\"Exception (tag): \", e)\n",
    "        return np.nan, np.nan"
   ]
  },
  {
   "cell_type": "code",
   "execution_count": null,
   "id": "924e2cff",
   "metadata": {
    "papermill": {
     "duration": 0.023625,
     "end_time": "2023-03-04T15:23:53.160257",
     "exception": false,
     "start_time": "2023-03-04T15:23:53.136632",
     "status": "completed"
    },
    "tags": []
   },
   "outputs": [],
   "source": []
  },
  {
   "cell_type": "code",
   "execution_count": null,
   "id": "30675201",
   "metadata": {
    "papermill": {
     "duration": 0.023359,
     "end_time": "2023-03-04T15:23:53.207142",
     "exception": false,
     "start_time": "2023-03-04T15:23:53.183783",
     "status": "completed"
    },
    "tags": []
   },
   "outputs": [],
   "source": []
  },
  {
   "cell_type": "code",
   "execution_count": 20,
   "id": "372f573c",
   "metadata": {
    "execution": {
     "iopub.execute_input": "2023-03-04T15:23:53.257204Z",
     "iopub.status.busy": "2023-03-04T15:23:53.256749Z",
     "iopub.status.idle": "2023-03-04T15:23:53.267962Z",
     "shell.execute_reply": "2023-03-04T15:23:53.267011Z"
    },
    "papermill": {
     "duration": 0.039605,
     "end_time": "2023-03-04T15:23:53.270495",
     "exception": false,
     "start_time": "2023-03-04T15:23:53.230890",
     "status": "completed"
    },
    "tags": []
   },
   "outputs": [],
   "source": [
    "def scrape_news_contents(source_code, url, sample_id, driver=None):\n",
    "    soup = BeautifulSoup(source_code, 'html.parser')\n",
    "    \n",
    "    article = {\n",
    "    \t'url': url,\n",
    "        'sample_id': sample_id,\n",
    "        'title': np.nan,\n",
    "        'title_features': np.nan,\n",
    "        'headline': np.nan,\n",
    "        'headline_features': np.nan,\n",
    "        'category': np.nan,\n",
    "        'category_features': np.nan,\n",
    "        'publish_date': np.nan,\n",
    "        'publish_date_features': np.nan,\n",
    "        'article': np.nan,\n",
    "        'article_features': np.nan,\n",
    "        'images': np.nan,\n",
    "        'images_features': np.nan,\n",
    "        'tags': np.nan,\n",
    "        'tags_features': np.nan,\n",
    "        'source': soup,\n",
    "    }\n",
    "\n",
    "    title_tag, title_features = extract_title(soup, driver)\n",
    "    article['title'] = title_tag\n",
    "    article['title_features'] = title_features\n",
    "    \n",
    "    headline, headline_features, category, category_features, publish_date, date_features = extract_headline_category_pdate(soup, driver)\n",
    "    article['headline'] = headline\n",
    "    article['headline_features'] = headline_features\n",
    "    \n",
    "    article['category'] = category\n",
    "    article['category_features'] = category_features\n",
    "    \n",
    "    article['publish_date'] = publish_date\n",
    "    article['publish_date_features'] = date_features\n",
    "    \n",
    "    content, article_features = extract_article_content(soup, driver)\n",
    "    article['article'] = content\n",
    "    article['article_features'] = article_features\n",
    "    \n",
    "    images, images_features = extract_images(soup,driver)\n",
    "    article['images'] = images\n",
    "    article['images_features'] = images_features\n",
    "    \n",
    "    tags, tags_features = extract_tags(soup, driver)\n",
    "    article['tags'] = tags\n",
    "    article['tags_features'] = tags_features\n",
    "    \n",
    "    return article"
   ]
  },
  {
   "cell_type": "code",
   "execution_count": null,
   "id": "b92f7eea",
   "metadata": {
    "papermill": {
     "duration": 0.023221,
     "end_time": "2023-03-04T15:23:53.317601",
     "exception": false,
     "start_time": "2023-03-04T15:23:53.294380",
     "status": "completed"
    },
    "tags": []
   },
   "outputs": [],
   "source": []
  },
  {
   "cell_type": "code",
   "execution_count": null,
   "id": "5cc0f00d",
   "metadata": {
    "papermill": {
     "duration": 0.023016,
     "end_time": "2023-03-04T15:23:53.364177",
     "exception": false,
     "start_time": "2023-03-04T15:23:53.341161",
     "status": "completed"
    },
    "tags": []
   },
   "outputs": [],
   "source": []
  },
  {
   "cell_type": "code",
   "execution_count": 21,
   "id": "9f82ba00",
   "metadata": {
    "execution": {
     "iopub.execute_input": "2023-03-04T15:23:53.413523Z",
     "iopub.status.busy": "2023-03-04T15:23:53.413065Z",
     "iopub.status.idle": "2023-03-04T15:23:53.430306Z",
     "shell.execute_reply": "2023-03-04T15:23:53.428919Z"
    },
    "papermill": {
     "duration": 0.045575,
     "end_time": "2023-03-04T15:23:53.433292",
     "exception": false,
     "start_time": "2023-03-04T15:23:53.387717",
     "status": "completed"
    },
    "tags": []
   },
   "outputs": [],
   "source": [
    "def scrape_misc_contents(source_code, article, driver=None):\n",
    "    misc_content = []\n",
    "    misc_features = []\n",
    "    \n",
    "    try:\n",
    "        ### Extracting the article features from the json to remove from misc content (leaf nodes)\n",
    "        article_fields = []\n",
    "        for field in SINGLE_ENTRIES:\n",
    "            article_fields.append(article[field])\n",
    "\n",
    "        for field in MULTIPLE_ENTRIES:\n",
    "            entries = article[field]\n",
    "            if type(entries)==str:\n",
    "                entries = json.loads(entries)\n",
    "                for entry in entries:\n",
    "                    article_fields.append(entry)\n",
    "\n",
    "\n",
    "        ### Extracting all leaf nodes from the soup object and removing the noisy tags, article fields\n",
    "        all_leaf_nodes = []\n",
    "        leaf_node_features = []\n",
    "        soup = BeautifulSoup(source_code, 'html.parser')\n",
    "        body = soup.find('body')\n",
    "        for child in body.recursiveChildGenerator():\n",
    "            name = getattr(child, \"name\", None)\n",
    "            if name is None:\n",
    "                if not child.isspace(): # leaf node, don't print spaces\n",
    "                    p_name = getattr(child.parent, 'name', None)\n",
    "                    if p_name is not None and p_name not in EXCLUDE_TAGS and str(child.parent) not in article_fields:\n",
    "                        entry = {}\n",
    "                        entry['misc_features'] = {}\n",
    "                        entry['misc_features']['tag_sequence'] = find_tag_sequence(child.parent)\n",
    "                        neighbours = find_neighbours_and_parent(child.parent)\n",
    "                        for key, value in neighbours.items():\n",
    "                            entry['misc_features'][key] = value\n",
    "\n",
    "                        all_leaf_nodes.append(str(child.parent))\n",
    "                        leaf_node_features.append(entry)\n",
    "\n",
    "\n",
    "        ### Extracting the features for the leaf nodes (only for soup leaf nodes from above) using selenium\n",
    "        leaf_node_selenium_features = {}\n",
    "        if driver is not None:\n",
    "            body_element = driver.find_element(By.TAG_NAME, 'body')\n",
    "            if body_element is not None:\n",
    "                childs = body_element.find_elements(By.XPATH,\".//*\")\n",
    "                for child in childs:\n",
    "                    try:\n",
    "                        html_content = child.get_attribute('outerHTML')\n",
    "                        if html_content in all_leaf_nodes:\n",
    "                            index = all_leaf_nodes.index(html_content)\n",
    "                            leaf_node_selenium_features[index] = extract_visual_features(child)\n",
    "                    except:\n",
    "                        pass\n",
    "\n",
    "\n",
    "        ### Combining the features of soup and selenium\n",
    "        for index, tag_html in enumerate(all_leaf_nodes):\n",
    "            sel_feature = leaf_node_selenium_features.get(index, None)\n",
    "            if sel_feature is not None:\n",
    "                if len(sel_feature)>0:\n",
    "                    for key, value in sel_feature.items():\n",
    "                        leaf_node_features[index]['misc_features'][key] = value\n",
    "\n",
    "            misc_content.append(all_leaf_nodes[index])\n",
    "            misc_features.append(json.dumps(leaf_node_features[index].get('misc_features', {})))\n",
    "    except Exception as e:\n",
    "        print(\"Exception in misc: \", e)\n",
    "        pass\n",
    "    \n",
    "    return misc_content, misc_features"
   ]
  },
  {
   "cell_type": "code",
   "execution_count": null,
   "id": "441f65da",
   "metadata": {
    "papermill": {
     "duration": 0.024364,
     "end_time": "2023-03-04T15:23:53.481546",
     "exception": false,
     "start_time": "2023-03-04T15:23:53.457182",
     "status": "completed"
    },
    "tags": []
   },
   "outputs": [],
   "source": []
  },
  {
   "cell_type": "markdown",
   "id": "441552c6",
   "metadata": {
    "papermill": {
     "duration": 0.024125,
     "end_time": "2023-03-04T15:23:53.529603",
     "exception": false,
     "start_time": "2023-03-04T15:23:53.505478",
     "status": "completed"
    },
    "tags": []
   },
   "source": [
    "#### Crawling the links"
   ]
  },
  {
   "cell_type": "code",
   "execution_count": 22,
   "id": "03374fe2",
   "metadata": {
    "execution": {
     "iopub.execute_input": "2023-03-04T15:23:53.579686Z",
     "iopub.status.busy": "2023-03-04T15:23:53.579236Z",
     "iopub.status.idle": "2023-03-04T15:23:53.587950Z",
     "shell.execute_reply": "2023-03-04T15:23:53.586503Z"
    },
    "papermill": {
     "duration": 0.037025,
     "end_time": "2023-03-04T15:23:53.590540",
     "exception": false,
     "start_time": "2023-03-04T15:23:53.553515",
     "status": "completed"
    },
    "tags": []
   },
   "outputs": [
    {
     "data": {
      "text/plain": [
       "['url',\n",
       " 'sample_id',\n",
       " 'title',\n",
       " 'title_features',\n",
       " 'headline',\n",
       " 'headline_features',\n",
       " 'category',\n",
       " 'category_features',\n",
       " 'publish_date',\n",
       " 'publish_date_features',\n",
       " 'article',\n",
       " 'article_features',\n",
       " 'images',\n",
       " 'images_features',\n",
       " 'tags',\n",
       " 'tags_features',\n",
       " 'source']"
      ]
     },
     "execution_count": 22,
     "metadata": {},
     "output_type": "execute_result"
    }
   ],
   "source": [
    "column_names = [\n",
    "    'url', 'sample_id', 'title', 'title_features', 'headline',\n",
    "    'headline_features', 'category', 'category_features', 'publish_date',\n",
    "    'publish_date_features', 'article', 'article_features', 'images', 'images_features',\n",
    "    'tags', 'tags_features', 'source'\n",
    "]\n",
    "column_names"
   ]
  },
  {
   "cell_type": "code",
   "execution_count": 23,
   "id": "fd21fff1",
   "metadata": {
    "execution": {
     "iopub.execute_input": "2023-03-04T15:23:53.640661Z",
     "iopub.status.busy": "2023-03-04T15:23:53.640201Z",
     "iopub.status.idle": "2023-03-04T15:23:53.645928Z",
     "shell.execute_reply": "2023-03-04T15:23:53.644847Z"
    },
    "papermill": {
     "duration": 0.033739,
     "end_time": "2023-03-04T15:23:53.648621",
     "exception": false,
     "start_time": "2023-03-04T15:23:53.614882",
     "status": "completed"
    },
    "tags": []
   },
   "outputs": [],
   "source": [
    "SINGLE_ENTRIES = ['title', 'headline', 'category', 'publish_date', 'images']\n",
    "MULTIPLE_ENTRIES = ['article', 'tags']\n",
    "EXCLUDE_TAGS = ['script', 'style', 'header', 'footer', 'iframe', 'formgroup', 'form']"
   ]
  },
  {
   "cell_type": "code",
   "execution_count": 24,
   "id": "deb35bb9",
   "metadata": {
    "execution": {
     "iopub.execute_input": "2023-03-04T15:23:53.698627Z",
     "iopub.status.busy": "2023-03-04T15:23:53.698163Z",
     "iopub.status.idle": "2023-03-04T15:23:53.706894Z",
     "shell.execute_reply": "2023-03-04T15:23:53.705527Z"
    },
    "papermill": {
     "duration": 0.037306,
     "end_time": "2023-03-04T15:23:53.709558",
     "exception": false,
     "start_time": "2023-03-04T15:23:53.672252",
     "status": "completed"
    },
    "tags": []
   },
   "outputs": [
    {
     "data": {
      "text/plain": [
       "('./telangana_suryaa_0_1000.csv', './telangana_suryaa_0_1000_misc.csv')"
      ]
     },
     "execution_count": 24,
     "metadata": {},
     "output_type": "execute_result"
    }
   ],
   "source": [
    "output_file_name = './telangana_suryaa_{}_{}.csv'.format(start, end)\n",
    "output_file_name_misc = './telangana_suryaa_{}_{}_misc.csv'.format(start, end)\n",
    "output_file_name, output_file_name_misc"
   ]
  },
  {
   "cell_type": "code",
   "execution_count": null,
   "id": "ad8fb06c",
   "metadata": {
    "papermill": {
     "duration": 0.023382,
     "end_time": "2023-03-04T15:23:53.756790",
     "exception": false,
     "start_time": "2023-03-04T15:23:53.733408",
     "status": "completed"
    },
    "tags": []
   },
   "outputs": [],
   "source": []
  },
  {
   "cell_type": "code",
   "execution_count": 25,
   "id": "bae35cb4",
   "metadata": {
    "execution": {
     "iopub.execute_input": "2023-03-04T15:23:53.806120Z",
     "iopub.status.busy": "2023-03-04T15:23:53.805700Z",
     "iopub.status.idle": "2023-03-04T20:36:00.141801Z",
     "shell.execute_reply": "2023-03-04T20:36:00.140288Z"
    },
    "papermill": {
     "duration": 18726.364218,
     "end_time": "2023-03-04T20:36:00.144794",
     "exception": false,
     "start_time": "2023-03-04T15:23:53.780576",
     "status": "completed"
    },
    "tags": []
   },
   "outputs": [
    {
     "name": "stdout",
     "output_type": "stream",
     "text": [
      "Extracting the contents from the source\n"
     ]
    },
    {
     "name": "stderr",
     "output_type": "stream",
     "text": [
      "100%|██████████| 1000/1000 [5:11:59<00:00, 18.72s/it]\n"
     ]
    },
    {
     "name": "stdout",
     "output_type": "stream",
     "text": [
      "Saving the pandas data frame\n"
     ]
    }
   ],
   "source": [
    "print(\"Extracting the contents from the source\")\n",
    "final_data = []\n",
    "final_misc_content = []\n",
    "final_misc_features = []\n",
    "\n",
    "for i in tqdm(range(start, start + min(end, out_df.shape[0]))):\n",
    "    url = out_df['url'][i]\n",
    "    sample_id = out_df['sample_id'][i]\n",
    "\n",
    "    try:\n",
    "        response = requests.get(url)\n",
    "        if response.status_code==200:\n",
    "            driver.get(url)\n",
    "            article = scrape_news_contents(response.content, url, sample_id, driver)\n",
    "            final_data.append(article)\n",
    "            misc_content, misc_features = scrape_misc_contents(response.content, article, driver)\n",
    "#             print(\"misc Len: \", len(misc_content))\n",
    "#             print(\"misc Feat: \", len(misc_features))\n",
    "            \n",
    "            for i in range(len(misc_content)):\n",
    "                if misc_content[i] not in final_misc_content:\n",
    "                    final_misc_content.append(misc_content[i])\n",
    "                    final_misc_features.append(misc_features[i])\n",
    "#             print(\"Misc Len: \", len(final_misc_content))\n",
    "#             print(\"Feat Len: \", len(final_misc_features))\n",
    "            \n",
    "        else:\n",
    "            print(\"Status Code: \", response.status_code)\n",
    "    except Exception as e:\n",
    "        print(\"Exception: \", e)\n",
    "        driver = webdriver.Chrome(options = chrome_options)\n",
    "\n",
    "\n",
    "    if (i+1)%100 == 0:\n",
    "        print(\"Saving the checkpoint at {}\".format((i+1)/100))\n",
    "        df = pd.DataFrame(final_data, columns=column_names)\n",
    "        df.to_csv(output_file_name)\n",
    "        \n",
    "        misc_df = pd.DataFrame(data={'misc': final_misc_content, 'misc_features': final_misc_features}, columns=['misc', 'misc_features'])\n",
    "        misc_df.to_csv(output_file_name_misc)\n",
    "\n",
    "print(\"Saving the pandas data frame\")\n",
    "df = pd.DataFrame(final_data, columns=column_names)\n",
    "df.to_csv(output_file_name)\n",
    "\n",
    "misc_df = pd.DataFrame(data={'misc': final_misc_content, 'misc_features': final_misc_features}, columns=['misc', 'misc_features'])\n",
    "misc_df.to_csv(output_file_name_misc)"
   ]
  },
  {
   "cell_type": "code",
   "execution_count": 26,
   "id": "d4e0da85",
   "metadata": {
    "execution": {
     "iopub.execute_input": "2023-03-04T20:36:00.321421Z",
     "iopub.status.busy": "2023-03-04T20:36:00.321019Z",
     "iopub.status.idle": "2023-03-04T20:36:00.418032Z",
     "shell.execute_reply": "2023-03-04T20:36:00.416981Z"
    },
    "papermill": {
     "duration": 0.188969,
     "end_time": "2023-03-04T20:36:00.421215",
     "exception": false,
     "start_time": "2023-03-04T20:36:00.232246",
     "status": "completed"
    },
    "tags": []
   },
   "outputs": [
    {
     "data": {
      "text/html": [
       "<div>\n",
       "<style scoped>\n",
       "    .dataframe tbody tr th:only-of-type {\n",
       "        vertical-align: middle;\n",
       "    }\n",
       "\n",
       "    .dataframe tbody tr th {\n",
       "        vertical-align: top;\n",
       "    }\n",
       "\n",
       "    .dataframe thead th {\n",
       "        text-align: right;\n",
       "    }\n",
       "</style>\n",
       "<table border=\"1\" class=\"dataframe\">\n",
       "  <thead>\n",
       "    <tr style=\"text-align: right;\">\n",
       "      <th></th>\n",
       "      <th>url</th>\n",
       "      <th>sample_id</th>\n",
       "      <th>title</th>\n",
       "      <th>title_features</th>\n",
       "      <th>headline</th>\n",
       "      <th>headline_features</th>\n",
       "      <th>category</th>\n",
       "      <th>category_features</th>\n",
       "      <th>publish_date</th>\n",
       "      <th>publish_date_features</th>\n",
       "      <th>article</th>\n",
       "      <th>article_features</th>\n",
       "      <th>images</th>\n",
       "      <th>images_features</th>\n",
       "      <th>tags</th>\n",
       "      <th>tags_features</th>\n",
       "      <th>source</th>\n",
       "    </tr>\n",
       "  </thead>\n",
       "  <tbody>\n",
       "    <tr>\n",
       "      <th>0</th>\n",
       "      <td>https://telangana.suryaa.com/telangana-updates...</td>\n",
       "      <td>41102</td>\n",
       "      <td>&lt;title&gt; జనహిత ప్రగతి సభలో మంత్రి కేటీఆర్&lt;/title&gt;</td>\n",
       "      <td>{\"tag_sequence\": \"html&gt;head&gt;title\", \"next_sibl...</td>\n",
       "      <td>&lt;h1 style=\"font-family: 'Mallanna', sans-serif...</td>\n",
       "      <td>{\"tag_sequence\": \"html&gt;body&gt;div&gt;div&gt;div&gt;div&gt;di...</td>\n",
       "      <td>&lt;span style=\"color:#c72c0d; font-family:Arial,...</td>\n",
       "      <td>{\"tag_sequence\": \"html&gt;body&gt;div&gt;div&gt;div&gt;div&gt;di...</td>\n",
       "      <td>&lt;span style=\"color:#333333; font-family:Arial,...</td>\n",
       "      <td>{\"tag_sequence\": \"html&gt;body&gt;div&gt;div&gt;div&gt;div&gt;di...</td>\n",
       "      <td>[\"&lt;p&gt;నిజామాబాద్: పార్లమెంట్‌లో అద్బుతంగా మాట్ల...</td>\n",
       "      <td>[{\"tag_sequence\": \"html&gt;body&gt;div&gt;div&gt;div&gt;div&gt;d...</td>\n",
       "      <td>&lt;img alt=\"\" class=\"img-responsive\" src=\"https:...</td>\n",
       "      <td>{\"x\": 107.5, \"y\": 373.1875, \"height\": 322, \"wi...</td>\n",
       "      <td>[\"&lt;a class=\\\"btn btn-sm btn-outline-secondary ...</td>\n",
       "      <td>[{\"tag_sequence\": \"html&gt;body&gt;div&gt;div&gt;div&gt;div&gt;a...</td>\n",
       "      <td>[ , [\\n  (function(i,s,o,g,r,a,m){i['GoogleAna...</td>\n",
       "    </tr>\n",
       "    <tr>\n",
       "      <th>1</th>\n",
       "      <td>https://telangana.suryaa.com/telangana-updates...</td>\n",
       "      <td>125199</td>\n",
       "      <td>&lt;title&gt; టెన్త్ పరీక్షల్లో కీలక మార్పులు...!\\r\\...</td>\n",
       "      <td>{\"tag_sequence\": \"html&gt;head&gt;title\", \"next_sibl...</td>\n",
       "      <td>&lt;h1 style=\"font-family: 'Mallanna', sans-serif...</td>\n",
       "      <td>{\"tag_sequence\": \"html&gt;body&gt;div&gt;div&gt;div&gt;div&gt;di...</td>\n",
       "      <td>&lt;span style=\"color:#c72c0d; font-family:Arial,...</td>\n",
       "      <td>{\"tag_sequence\": \"html&gt;body&gt;div&gt;div&gt;div&gt;div&gt;di...</td>\n",
       "      <td>&lt;span style=\"color:#333333; font-family:Arial,...</td>\n",
       "      <td>{\"tag_sequence\": \"html&gt;body&gt;div&gt;div&gt;div&gt;div&gt;di...</td>\n",
       "      <td>[\"&lt;p&gt;కరోనా కారణంగా ఈ ఏడాది కూడా విద్యారంగంపై త...</td>\n",
       "      <td>[{\"tag_sequence\": \"html&gt;body&gt;div&gt;div&gt;div&gt;div&gt;d...</td>\n",
       "      <td>&lt;img alt=\"\" class=\"img-responsive\" src=\"https:...</td>\n",
       "      <td>{\"x\": 107.5, \"y\": 373.1875, \"height\": 305, \"wi...</td>\n",
       "      <td>[\"&lt;a class=\\\"btn btn-sm btn-outline-secondary ...</td>\n",
       "      <td>[{\"tag_sequence\": \"html&gt;body&gt;div&gt;div&gt;div&gt;div&gt;a...</td>\n",
       "      <td>[ , [\\n  (function(i,s,o,g,r,a,m){i['GoogleAna...</td>\n",
       "    </tr>\n",
       "    <tr>\n",
       "      <th>2</th>\n",
       "      <td>https://telangana.suryaa.com/telangana-updates...</td>\n",
       "      <td>10947</td>\n",
       "      <td>&lt;title&gt; ప్రభుత్వ ఉన్నతాధికారులకు హైకోర్టు ఆదేశ...</td>\n",
       "      <td>{\"tag_sequence\": \"html&gt;head&gt;title\", \"next_sibl...</td>\n",
       "      <td>&lt;h1 style=\"font-family: 'Mallanna', sans-serif...</td>\n",
       "      <td>{\"tag_sequence\": \"html&gt;body&gt;div&gt;div&gt;div&gt;div&gt;di...</td>\n",
       "      <td>&lt;span style=\"color:#c72c0d; font-family:Arial,...</td>\n",
       "      <td>{\"tag_sequence\": \"html&gt;body&gt;div&gt;div&gt;div&gt;div&gt;di...</td>\n",
       "      <td>&lt;span style=\"color:#333333; font-family:Arial,...</td>\n",
       "      <td>{\"tag_sequence\": \"html&gt;body&gt;div&gt;div&gt;div&gt;div&gt;di...</td>\n",
       "      <td>[\"&lt;p style=\\\"text-align: justify;\\\"&gt; ఈ నెల 7వ ...</td>\n",
       "      <td>[{\"tag_sequence\": \"html&gt;body&gt;div&gt;div&gt;div&gt;div&gt;d...</td>\n",
       "      <td>&lt;img alt=\"\" class=\"img-responsive\" src=\"https:...</td>\n",
       "      <td>{\"x\": 107.5, \"y\": 373.1875, \"height\": 351, \"wi...</td>\n",
       "      <td>[\"&lt;a class=\\\"btn btn-sm btn-outline-secondary ...</td>\n",
       "      <td>[{\"tag_sequence\": \"html&gt;body&gt;div&gt;div&gt;div&gt;div&gt;a...</td>\n",
       "      <td>[ , [\\n  (function(i,s,o,g,r,a,m){i['GoogleAna...</td>\n",
       "    </tr>\n",
       "    <tr>\n",
       "      <th>3</th>\n",
       "      <td>https://telangana.suryaa.com/telangana-updates...</td>\n",
       "      <td>30599</td>\n",
       "      <td>&lt;title&gt; రేప్ కేసులో ఎమ్మెల్యేకు బిగుస్తున్న ఉచ...</td>\n",
       "      <td>{\"tag_sequence\": \"html&gt;head&gt;title\", \"next_sibl...</td>\n",
       "      <td>&lt;h1 style=\"font-family: 'Mallanna', sans-serif...</td>\n",
       "      <td>{\"tag_sequence\": \"html&gt;body&gt;div&gt;div&gt;div&gt;div&gt;di...</td>\n",
       "      <td>&lt;span style=\"color:#c72c0d; font-family:Arial,...</td>\n",
       "      <td>{\"tag_sequence\": \"html&gt;body&gt;div&gt;div&gt;div&gt;div&gt;di...</td>\n",
       "      <td>&lt;span style=\"color:#333333; font-family:Arial,...</td>\n",
       "      <td>{\"tag_sequence\": \"html&gt;body&gt;div&gt;div&gt;div&gt;div&gt;di...</td>\n",
       "      <td>[\"&lt;p&gt;ఉత్తరప్రదేశ్‌లోని ఉన్నవ్ ఘటనపై యోగీ ఆదిత్...</td>\n",
       "      <td>[{\"tag_sequence\": \"html&gt;body&gt;div&gt;div&gt;div&gt;div&gt;d...</td>\n",
       "      <td>&lt;img alt=\"\" class=\"img-responsive\" src=\"https:...</td>\n",
       "      <td>{\"x\": 107.5, \"y\": 373.1875, \"height\": 320, \"wi...</td>\n",
       "      <td>[\"&lt;a class=\\\"btn btn-sm btn-outline-secondary ...</td>\n",
       "      <td>[{\"tag_sequence\": \"html&gt;body&gt;div&gt;div&gt;div&gt;div&gt;a...</td>\n",
       "      <td>[ , [\\n  (function(i,s,o,g,r,a,m){i['GoogleAna...</td>\n",
       "    </tr>\n",
       "    <tr>\n",
       "      <th>4</th>\n",
       "      <td>https://telangana.suryaa.com/telangana-updates...</td>\n",
       "      <td>127395</td>\n",
       "      <td>&lt;title&gt; నందమూరి బాలకృష్ణ సంచలన వ్యాఖ్యలు&lt;/title&gt;</td>\n",
       "      <td>{\"tag_sequence\": \"html&gt;head&gt;title\", \"next_sibl...</td>\n",
       "      <td>&lt;h1 style=\"font-family: 'Mallanna', sans-serif...</td>\n",
       "      <td>{\"tag_sequence\": \"html&gt;body&gt;div&gt;div&gt;div&gt;div&gt;di...</td>\n",
       "      <td>&lt;span style=\"color:#c72c0d; font-family:Arial,...</td>\n",
       "      <td>{\"tag_sequence\": \"html&gt;body&gt;div&gt;div&gt;div&gt;div&gt;di...</td>\n",
       "      <td>&lt;span style=\"color:#333333; font-family:Arial,...</td>\n",
       "      <td>{\"tag_sequence\": \"html&gt;body&gt;div&gt;div&gt;div&gt;div&gt;di...</td>\n",
       "      <td>[\"&lt;p&gt;కరోనా వ్యాక్సిన్‌పై ప్రముఖ నటుడు నందమూరి ...</td>\n",
       "      <td>[{\"tag_sequence\": \"html&gt;body&gt;div&gt;div&gt;div&gt;div&gt;d...</td>\n",
       "      <td>&lt;img alt=\"\" class=\"img-responsive\" src=\"https:...</td>\n",
       "      <td>{\"x\": 107.5, \"y\": 373.1875, \"height\": 401, \"wi...</td>\n",
       "      <td>[\"&lt;a class=\\\"btn btn-sm btn-outline-secondary ...</td>\n",
       "      <td>[{\"tag_sequence\": \"html&gt;body&gt;div&gt;div&gt;div&gt;div&gt;a...</td>\n",
       "      <td>[ , [\\n  (function(i,s,o,g,r,a,m){i['GoogleAna...</td>\n",
       "    </tr>\n",
       "  </tbody>\n",
       "</table>\n",
       "</div>"
      ],
      "text/plain": [
       "                                                 url  sample_id  \\\n",
       "0  https://telangana.suryaa.com/telangana-updates...      41102   \n",
       "1  https://telangana.suryaa.com/telangana-updates...     125199   \n",
       "2  https://telangana.suryaa.com/telangana-updates...      10947   \n",
       "3  https://telangana.suryaa.com/telangana-updates...      30599   \n",
       "4  https://telangana.suryaa.com/telangana-updates...     127395   \n",
       "\n",
       "                                               title  \\\n",
       "0   <title> జనహిత ప్రగతి సభలో మంత్రి కేటీఆర్</title>   \n",
       "1  <title> టెన్త్ పరీక్షల్లో కీలక మార్పులు...!\\r\\...   \n",
       "2  <title> ప్రభుత్వ ఉన్నతాధికారులకు హైకోర్టు ఆదేశ...   \n",
       "3  <title> రేప్ కేసులో ఎమ్మెల్యేకు బిగుస్తున్న ఉచ...   \n",
       "4   <title> నందమూరి బాలకృష్ణ సంచలన వ్యాఖ్యలు</title>   \n",
       "\n",
       "                                      title_features  \\\n",
       "0  {\"tag_sequence\": \"html>head>title\", \"next_sibl...   \n",
       "1  {\"tag_sequence\": \"html>head>title\", \"next_sibl...   \n",
       "2  {\"tag_sequence\": \"html>head>title\", \"next_sibl...   \n",
       "3  {\"tag_sequence\": \"html>head>title\", \"next_sibl...   \n",
       "4  {\"tag_sequence\": \"html>head>title\", \"next_sibl...   \n",
       "\n",
       "                                            headline  \\\n",
       "0  <h1 style=\"font-family: 'Mallanna', sans-serif...   \n",
       "1  <h1 style=\"font-family: 'Mallanna', sans-serif...   \n",
       "2  <h1 style=\"font-family: 'Mallanna', sans-serif...   \n",
       "3  <h1 style=\"font-family: 'Mallanna', sans-serif...   \n",
       "4  <h1 style=\"font-family: 'Mallanna', sans-serif...   \n",
       "\n",
       "                                   headline_features  \\\n",
       "0  {\"tag_sequence\": \"html>body>div>div>div>div>di...   \n",
       "1  {\"tag_sequence\": \"html>body>div>div>div>div>di...   \n",
       "2  {\"tag_sequence\": \"html>body>div>div>div>div>di...   \n",
       "3  {\"tag_sequence\": \"html>body>div>div>div>div>di...   \n",
       "4  {\"tag_sequence\": \"html>body>div>div>div>div>di...   \n",
       "\n",
       "                                            category  \\\n",
       "0  <span style=\"color:#c72c0d; font-family:Arial,...   \n",
       "1  <span style=\"color:#c72c0d; font-family:Arial,...   \n",
       "2  <span style=\"color:#c72c0d; font-family:Arial,...   \n",
       "3  <span style=\"color:#c72c0d; font-family:Arial,...   \n",
       "4  <span style=\"color:#c72c0d; font-family:Arial,...   \n",
       "\n",
       "                                   category_features  \\\n",
       "0  {\"tag_sequence\": \"html>body>div>div>div>div>di...   \n",
       "1  {\"tag_sequence\": \"html>body>div>div>div>div>di...   \n",
       "2  {\"tag_sequence\": \"html>body>div>div>div>div>di...   \n",
       "3  {\"tag_sequence\": \"html>body>div>div>div>div>di...   \n",
       "4  {\"tag_sequence\": \"html>body>div>div>div>div>di...   \n",
       "\n",
       "                                        publish_date  \\\n",
       "0  <span style=\"color:#333333; font-family:Arial,...   \n",
       "1  <span style=\"color:#333333; font-family:Arial,...   \n",
       "2  <span style=\"color:#333333; font-family:Arial,...   \n",
       "3  <span style=\"color:#333333; font-family:Arial,...   \n",
       "4  <span style=\"color:#333333; font-family:Arial,...   \n",
       "\n",
       "                               publish_date_features  \\\n",
       "0  {\"tag_sequence\": \"html>body>div>div>div>div>di...   \n",
       "1  {\"tag_sequence\": \"html>body>div>div>div>div>di...   \n",
       "2  {\"tag_sequence\": \"html>body>div>div>div>div>di...   \n",
       "3  {\"tag_sequence\": \"html>body>div>div>div>div>di...   \n",
       "4  {\"tag_sequence\": \"html>body>div>div>div>div>di...   \n",
       "\n",
       "                                             article  \\\n",
       "0  [\"<p>నిజామాబాద్: పార్లమెంట్‌లో అద్బుతంగా మాట్ల...   \n",
       "1  [\"<p>కరోనా కారణంగా ఈ ఏడాది కూడా విద్యారంగంపై త...   \n",
       "2  [\"<p style=\\\"text-align: justify;\\\"> ఈ నెల 7వ ...   \n",
       "3  [\"<p>ఉత్తరప్రదేశ్‌లోని ఉన్నవ్ ఘటనపై యోగీ ఆదిత్...   \n",
       "4  [\"<p>కరోనా వ్యాక్సిన్‌పై ప్రముఖ నటుడు నందమూరి ...   \n",
       "\n",
       "                                    article_features  \\\n",
       "0  [{\"tag_sequence\": \"html>body>div>div>div>div>d...   \n",
       "1  [{\"tag_sequence\": \"html>body>div>div>div>div>d...   \n",
       "2  [{\"tag_sequence\": \"html>body>div>div>div>div>d...   \n",
       "3  [{\"tag_sequence\": \"html>body>div>div>div>div>d...   \n",
       "4  [{\"tag_sequence\": \"html>body>div>div>div>div>d...   \n",
       "\n",
       "                                              images  \\\n",
       "0  <img alt=\"\" class=\"img-responsive\" src=\"https:...   \n",
       "1  <img alt=\"\" class=\"img-responsive\" src=\"https:...   \n",
       "2  <img alt=\"\" class=\"img-responsive\" src=\"https:...   \n",
       "3  <img alt=\"\" class=\"img-responsive\" src=\"https:...   \n",
       "4  <img alt=\"\" class=\"img-responsive\" src=\"https:...   \n",
       "\n",
       "                                     images_features  \\\n",
       "0  {\"x\": 107.5, \"y\": 373.1875, \"height\": 322, \"wi...   \n",
       "1  {\"x\": 107.5, \"y\": 373.1875, \"height\": 305, \"wi...   \n",
       "2  {\"x\": 107.5, \"y\": 373.1875, \"height\": 351, \"wi...   \n",
       "3  {\"x\": 107.5, \"y\": 373.1875, \"height\": 320, \"wi...   \n",
       "4  {\"x\": 107.5, \"y\": 373.1875, \"height\": 401, \"wi...   \n",
       "\n",
       "                                                tags  \\\n",
       "0  [\"<a class=\\\"btn btn-sm btn-outline-secondary ...   \n",
       "1  [\"<a class=\\\"btn btn-sm btn-outline-secondary ...   \n",
       "2  [\"<a class=\\\"btn btn-sm btn-outline-secondary ...   \n",
       "3  [\"<a class=\\\"btn btn-sm btn-outline-secondary ...   \n",
       "4  [\"<a class=\\\"btn btn-sm btn-outline-secondary ...   \n",
       "\n",
       "                                       tags_features  \\\n",
       "0  [{\"tag_sequence\": \"html>body>div>div>div>div>a...   \n",
       "1  [{\"tag_sequence\": \"html>body>div>div>div>div>a...   \n",
       "2  [{\"tag_sequence\": \"html>body>div>div>div>div>a...   \n",
       "3  [{\"tag_sequence\": \"html>body>div>div>div>div>a...   \n",
       "4  [{\"tag_sequence\": \"html>body>div>div>div>div>a...   \n",
       "\n",
       "                                              source  \n",
       "0  [ , [\\n  (function(i,s,o,g,r,a,m){i['GoogleAna...  \n",
       "1  [ , [\\n  (function(i,s,o,g,r,a,m){i['GoogleAna...  \n",
       "2  [ , [\\n  (function(i,s,o,g,r,a,m){i['GoogleAna...  \n",
       "3  [ , [\\n  (function(i,s,o,g,r,a,m){i['GoogleAna...  \n",
       "4  [ , [\\n  (function(i,s,o,g,r,a,m){i['GoogleAna...  "
      ]
     },
     "execution_count": 26,
     "metadata": {},
     "output_type": "execute_result"
    }
   ],
   "source": [
    "df.head()"
   ]
  },
  {
   "cell_type": "code",
   "execution_count": 27,
   "id": "f49ec3db",
   "metadata": {
    "execution": {
     "iopub.execute_input": "2023-03-04T20:36:00.603669Z",
     "iopub.status.busy": "2023-03-04T20:36:00.602534Z",
     "iopub.status.idle": "2023-03-04T20:36:00.629720Z",
     "shell.execute_reply": "2023-03-04T20:36:00.628433Z"
    },
    "papermill": {
     "duration": 0.120178,
     "end_time": "2023-03-04T20:36:00.632504",
     "exception": false,
     "start_time": "2023-03-04T20:36:00.512326",
     "status": "completed"
    },
    "tags": []
   },
   "outputs": [
    {
     "name": "stdout",
     "output_type": "stream",
     "text": [
      "<class 'pandas.core.frame.DataFrame'>\n",
      "RangeIndex: 1000 entries, 0 to 999\n",
      "Data columns (total 17 columns):\n",
      " #   Column                 Non-Null Count  Dtype \n",
      "---  ------                 --------------  ----- \n",
      " 0   url                    1000 non-null   object\n",
      " 1   sample_id              1000 non-null   int64 \n",
      " 2   title                  1000 non-null   object\n",
      " 3   title_features         1000 non-null   object\n",
      " 4   headline               1000 non-null   object\n",
      " 5   headline_features      1000 non-null   object\n",
      " 6   category               1000 non-null   object\n",
      " 7   category_features      1000 non-null   object\n",
      " 8   publish_date           1000 non-null   object\n",
      " 9   publish_date_features  1000 non-null   object\n",
      " 10  article                1000 non-null   object\n",
      " 11  article_features       989 non-null    object\n",
      " 12  images                 1000 non-null   object\n",
      " 13  images_features        1000 non-null   object\n",
      " 14  tags                   1000 non-null   object\n",
      " 15  tags_features          1000 non-null   object\n",
      " 16  source                 1000 non-null   object\n",
      "dtypes: int64(1), object(16)\n",
      "memory usage: 132.9+ KB\n"
     ]
    }
   ],
   "source": [
    "df.info()"
   ]
  },
  {
   "cell_type": "code",
   "execution_count": 28,
   "id": "416d4005",
   "metadata": {
    "execution": {
     "iopub.execute_input": "2023-03-04T20:36:00.839525Z",
     "iopub.status.busy": "2023-03-04T20:36:00.839101Z",
     "iopub.status.idle": "2023-03-04T20:36:00.849802Z",
     "shell.execute_reply": "2023-03-04T20:36:00.848867Z"
    },
    "papermill": {
     "duration": 0.102037,
     "end_time": "2023-03-04T20:36:00.851921",
     "exception": false,
     "start_time": "2023-03-04T20:36:00.749884",
     "status": "completed"
    },
    "tags": []
   },
   "outputs": [
    {
     "data": {
      "text/html": [
       "<div>\n",
       "<style scoped>\n",
       "    .dataframe tbody tr th:only-of-type {\n",
       "        vertical-align: middle;\n",
       "    }\n",
       "\n",
       "    .dataframe tbody tr th {\n",
       "        vertical-align: top;\n",
       "    }\n",
       "\n",
       "    .dataframe thead th {\n",
       "        text-align: right;\n",
       "    }\n",
       "</style>\n",
       "<table border=\"1\" class=\"dataframe\">\n",
       "  <thead>\n",
       "    <tr style=\"text-align: right;\">\n",
       "      <th></th>\n",
       "      <th>misc</th>\n",
       "      <th>misc_features</th>\n",
       "    </tr>\n",
       "  </thead>\n",
       "  <tbody>\n",
       "    <tr>\n",
       "      <th>0</th>\n",
       "      <td>&lt;body&gt;\\n&lt;!-- Navigation --&gt;&lt;!-- Go to www.addt...</td>\n",
       "      <td>{\"tag_sequence\": \"html&gt;body\", \"next_sibling\": ...</td>\n",
       "    </tr>\n",
       "    <tr>\n",
       "      <th>1</th>\n",
       "      <td>&lt;div class=\"bg-primary text-white text-center ...</td>\n",
       "      <td>{\"tag_sequence\": \"html&gt;body&gt;div&gt;div&gt;div&gt;div&gt;di...</td>\n",
       "    </tr>\n",
       "    <tr>\n",
       "      <th>2</th>\n",
       "      <td>&lt;a class=\"text-secondary\" href=\"https://telugu...</td>\n",
       "      <td>{\"tag_sequence\": \"html&gt;body&gt;div&gt;div&gt;div&gt;div&gt;di...</td>\n",
       "    </tr>\n",
       "    <tr>\n",
       "      <th>3</th>\n",
       "      <td>&lt;a class=\"text-secondary\" href=\"https://telugu...</td>\n",
       "      <td>{\"tag_sequence\": \"html&gt;body&gt;div&gt;div&gt;div&gt;div&gt;di...</td>\n",
       "    </tr>\n",
       "    <tr>\n",
       "      <th>4</th>\n",
       "      <td>&lt;a class=\"text-secondary\" href=\"https://telugu...</td>\n",
       "      <td>{\"tag_sequence\": \"html&gt;body&gt;div&gt;div&gt;div&gt;div&gt;di...</td>\n",
       "    </tr>\n",
       "  </tbody>\n",
       "</table>\n",
       "</div>"
      ],
      "text/plain": [
       "                                                misc  \\\n",
       "0  <body>\\n<!-- Navigation --><!-- Go to www.addt...   \n",
       "1  <div class=\"bg-primary text-white text-center ...   \n",
       "2  <a class=\"text-secondary\" href=\"https://telugu...   \n",
       "3  <a class=\"text-secondary\" href=\"https://telugu...   \n",
       "4  <a class=\"text-secondary\" href=\"https://telugu...   \n",
       "\n",
       "                                       misc_features  \n",
       "0  {\"tag_sequence\": \"html>body\", \"next_sibling\": ...  \n",
       "1  {\"tag_sequence\": \"html>body>div>div>div>div>di...  \n",
       "2  {\"tag_sequence\": \"html>body>div>div>div>div>di...  \n",
       "3  {\"tag_sequence\": \"html>body>div>div>div>div>di...  \n",
       "4  {\"tag_sequence\": \"html>body>div>div>div>div>di...  "
      ]
     },
     "execution_count": 28,
     "metadata": {},
     "output_type": "execute_result"
    }
   ],
   "source": [
    "misc_df.head()"
   ]
  },
  {
   "cell_type": "code",
   "execution_count": 29,
   "id": "326e5fa1",
   "metadata": {
    "execution": {
     "iopub.execute_input": "2023-03-04T20:36:01.034626Z",
     "iopub.status.busy": "2023-03-04T20:36:01.033945Z",
     "iopub.status.idle": "2023-03-04T20:36:01.048076Z",
     "shell.execute_reply": "2023-03-04T20:36:01.046727Z"
    },
    "papermill": {
     "duration": 0.109288,
     "end_time": "2023-03-04T20:36:01.050505",
     "exception": false,
     "start_time": "2023-03-04T20:36:00.941217",
     "status": "completed"
    },
    "tags": []
   },
   "outputs": [
    {
     "name": "stdout",
     "output_type": "stream",
     "text": [
      "<class 'pandas.core.frame.DataFrame'>\n",
      "RangeIndex: 4183 entries, 0 to 4182\n",
      "Data columns (total 2 columns):\n",
      " #   Column         Non-Null Count  Dtype \n",
      "---  ------         --------------  ----- \n",
      " 0   misc           4183 non-null   object\n",
      " 1   misc_features  4183 non-null   object\n",
      "dtypes: object(2)\n",
      "memory usage: 65.5+ KB\n"
     ]
    }
   ],
   "source": [
    "misc_df.info()"
   ]
  },
  {
   "cell_type": "markdown",
   "id": "ad8487d8",
   "metadata": {
    "papermill": {
     "duration": 0.090891,
     "end_time": "2023-03-04T20:36:01.234780",
     "exception": false,
     "start_time": "2023-03-04T20:36:01.143889",
     "status": "completed"
    },
    "tags": []
   },
   "source": [
    "## Rough"
   ]
  },
  {
   "cell_type": "code",
   "execution_count": 30,
   "id": "689c0b91",
   "metadata": {
    "execution": {
     "iopub.execute_input": "2023-03-04T20:36:01.435405Z",
     "iopub.status.busy": "2023-03-04T20:36:01.434956Z",
     "iopub.status.idle": "2023-03-04T20:36:01.440012Z",
     "shell.execute_reply": "2023-03-04T20:36:01.438868Z"
    },
    "papermill": {
     "duration": 0.113563,
     "end_time": "2023-03-04T20:36:01.442960",
     "exception": false,
     "start_time": "2023-03-04T20:36:01.329397",
     "status": "completed"
    },
    "tags": []
   },
   "outputs": [],
   "source": [
    "# index = 2\n",
    "\n",
    "# url = out_df['url'][index]\n",
    "# sample_id = out_df['sample_id'][index]\n",
    "# print(\"Sample ID: \", sample_id, \"\\tURL: \", url)"
   ]
  },
  {
   "cell_type": "code",
   "execution_count": 31,
   "id": "a83a9b3d",
   "metadata": {
    "execution": {
     "iopub.execute_input": "2023-03-04T20:36:01.631933Z",
     "iopub.status.busy": "2023-03-04T20:36:01.631501Z",
     "iopub.status.idle": "2023-03-04T20:36:01.636157Z",
     "shell.execute_reply": "2023-03-04T20:36:01.635166Z"
    },
    "papermill": {
     "duration": 0.102145,
     "end_time": "2023-03-04T20:36:01.638459",
     "exception": false,
     "start_time": "2023-03-04T20:36:01.536314",
     "status": "completed"
    },
    "tags": []
   },
   "outputs": [],
   "source": [
    "# print(\"Extracting the contents from the source\")\n",
    "# article = {}\n",
    "# response = requests.get(url)\n",
    "# if response.status_code==200:\n",
    "#     driver.get(url)\n",
    "#     article = scrape_news_contents(response.content, url, sample_id, driver)\n",
    "# else:\n",
    "#     print(\"Status Code: \", response.status_code)"
   ]
  },
  {
   "cell_type": "code",
   "execution_count": 32,
   "id": "2348b259",
   "metadata": {
    "execution": {
     "iopub.execute_input": "2023-03-04T20:36:01.820499Z",
     "iopub.status.busy": "2023-03-04T20:36:01.819494Z",
     "iopub.status.idle": "2023-03-04T20:36:01.824566Z",
     "shell.execute_reply": "2023-03-04T20:36:01.823276Z"
    },
    "papermill": {
     "duration": 0.099755,
     "end_time": "2023-03-04T20:36:01.828035",
     "exception": false,
     "start_time": "2023-03-04T20:36:01.728280",
     "status": "completed"
    },
    "tags": []
   },
   "outputs": [],
   "source": [
    "# column_names = list(article.keys())\n",
    "# column_names"
   ]
  },
  {
   "cell_type": "code",
   "execution_count": 33,
   "id": "6ef138da",
   "metadata": {
    "execution": {
     "iopub.execute_input": "2023-03-04T20:36:02.015279Z",
     "iopub.status.busy": "2023-03-04T20:36:02.014522Z",
     "iopub.status.idle": "2023-03-04T20:36:02.018477Z",
     "shell.execute_reply": "2023-03-04T20:36:02.017644Z"
    },
    "papermill": {
     "duration": 0.101518,
     "end_time": "2023-03-04T20:36:02.020907",
     "exception": false,
     "start_time": "2023-03-04T20:36:01.919389",
     "status": "completed"
    },
    "tags": []
   },
   "outputs": [],
   "source": [
    "# df = pd.DataFrame(data=[article], columns = column_names)\n",
    "# df.shape"
   ]
  },
  {
   "cell_type": "code",
   "execution_count": 34,
   "id": "89e166e8",
   "metadata": {
    "execution": {
     "iopub.execute_input": "2023-03-04T20:36:02.208595Z",
     "iopub.status.busy": "2023-03-04T20:36:02.207737Z",
     "iopub.status.idle": "2023-03-04T20:36:02.212927Z",
     "shell.execute_reply": "2023-03-04T20:36:02.212051Z"
    },
    "papermill": {
     "duration": 0.102675,
     "end_time": "2023-03-04T20:36:02.215229",
     "exception": false,
     "start_time": "2023-03-04T20:36:02.112554",
     "status": "completed"
    },
    "tags": []
   },
   "outputs": [],
   "source": [
    "# df.head()"
   ]
  },
  {
   "cell_type": "code",
   "execution_count": null,
   "id": "13fdc7be",
   "metadata": {
    "papermill": {
     "duration": 0.09038,
     "end_time": "2023-03-04T20:36:02.396540",
     "exception": false,
     "start_time": "2023-03-04T20:36:02.306160",
     "status": "completed"
    },
    "tags": []
   },
   "outputs": [],
   "source": []
  }
 ],
 "metadata": {
  "kernelspec": {
   "display_name": "Python 3",
   "language": "python",
   "name": "python3"
  },
  "language_info": {
   "codemirror_mode": {
    "name": "ipython",
    "version": 3
   },
   "file_extension": ".py",
   "mimetype": "text/x-python",
   "name": "python",
   "nbconvert_exporter": "python",
   "pygments_lexer": "ipython3",
   "version": "3.7.12"
  },
  "papermill": {
   "default_parameters": {},
   "duration": 18823.062061,
   "end_time": "2023-03-04T20:36:05.150203",
   "environment_variables": {},
   "exception": null,
   "input_path": "__notebook__.ipynb",
   "output_path": "__notebook__.ipynb",
   "parameters": {},
   "start_time": "2023-03-04T15:22:22.088142",
   "version": "2.4.0"
  }
 },
 "nbformat": 4,
 "nbformat_minor": 5
}
