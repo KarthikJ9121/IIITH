{
 "cells": [
  {
   "cell_type": "markdown",
   "id": "2bf96376",
   "metadata": {
    "id": "7NtHLUGvMKUt",
    "papermill": {
     "duration": 0.012932,
     "end_time": "2023-07-18T07:56:29.213153",
     "exception": false,
     "start_time": "2023-07-18T07:56:29.200221",
     "status": "completed"
    },
    "tags": []
   },
   "source": [
    "#### Installing necessary packages"
   ]
  },
  {
   "cell_type": "code",
   "execution_count": 1,
   "id": "860179cd",
   "metadata": {
    "execution": {
     "iopub.execute_input": "2023-07-18T07:56:29.242338Z",
     "iopub.status.busy": "2023-07-18T07:56:29.241601Z",
     "iopub.status.idle": "2023-07-18T07:57:02.502956Z",
     "shell.execute_reply": "2023-07-18T07:57:02.501607Z"
    },
    "id": "kJSSW73cMKVO",
    "outputId": "4fb93401-cfff-4704-aeca-07910122c5c5",
    "papermill": {
     "duration": 33.279749,
     "end_time": "2023-07-18T07:57:02.505632",
     "exception": false,
     "start_time": "2023-07-18T07:56:29.225883",
     "status": "completed"
    },
    "tags": []
   },
   "outputs": [
    {
     "name": "stdout",
     "output_type": "stream",
     "text": [
      "--2023-07-18 07:56:30--  https://dl.google.com/linux/linux_signing_key.pub\r\n",
      "Resolving dl.google.com (dl.google.com)... 74.125.23.136, 74.125.23.93, 74.125.23.190, ...\r\n",
      "Connecting to dl.google.com (dl.google.com)|74.125.23.136|:443... connected.\r\n",
      "HTTP request sent, awaiting response... 200 OK\r\n",
      "Length: 14605 (14K) [application/octet-stream]\r\n",
      "Saving to: ‘linux_signing_key.pub’\r\n",
      "\r\n",
      "linux_signing_key.p 100%[===================>]  14.26K  --.-KB/s    in 0s      \r\n",
      "\r\n",
      "2023-07-18 07:56:30 (47.5 MB/s) - ‘linux_signing_key.pub’ saved [14605/14605]\r\n",
      "\r\n",
      "OK\r\n",
      "Get:1 http://dl.google.com/linux/chrome/deb stable InRelease [1825 B]\r\n",
      "Get:2 http://packages.cloud.google.com/apt gcsfuse-focal InRelease [5002 B]\r\n",
      "Get:3 https://packages.cloud.google.com/apt cloud-sdk InRelease [6361 B]\r\n",
      "Get:4 http://dl.google.com/linux/chrome/deb stable/main amd64 Packages [1078 B]\r\n",
      "Hit:5 http://archive.ubuntu.com/ubuntu focal InRelease\r\n",
      "Get:6 https://packages.cloud.google.com/apt cloud-sdk/main amd64 Packages [478 kB]\r\n",
      "Get:7 http://security.ubuntu.com/ubuntu focal-security InRelease [114 kB]\r\n",
      "Get:8 http://archive.ubuntu.com/ubuntu focal-updates InRelease [114 kB]\r\n",
      "Get:9 http://archive.ubuntu.com/ubuntu focal-backports InRelease [108 kB]\r\n",
      "Get:10 http://security.ubuntu.com/ubuntu focal-security/restricted amd64 Packages [2536 kB]\r\n",
      "Get:11 http://archive.ubuntu.com/ubuntu focal-updates/restricted amd64 Packages [2677 kB]\r\n",
      "Get:12 http://archive.ubuntu.com/ubuntu focal-updates/multiverse amd64 Packages [32.0 kB]\r\n",
      "Get:13 http://archive.ubuntu.com/ubuntu focal-updates/main amd64 Packages [3347 kB]\r\n",
      "Get:14 http://archive.ubuntu.com/ubuntu focal-updates/universe amd64 Packages [1372 kB]\r\n",
      "Get:15 http://security.ubuntu.com/ubuntu focal-security/main amd64 Packages [2866 kB]\r\n",
      "Get:16 http://security.ubuntu.com/ubuntu focal-security/universe amd64 Packages [1072 kB]\r\n",
      "Get:17 http://security.ubuntu.com/ubuntu focal-security/multiverse amd64 Packages [29.3 kB]\r\n",
      "Fetched 14.8 MB in 4s (4145 kB/s)\r\n",
      "\r\n",
      "\r\n",
      "\r\n",
      "\r\n",
      "The following additional packages will be installed:\r\n",
      "  libgbm1 libu2f-udev libwayland-server0 udev\r\n",
      "The following NEW packages will be installed:\r\n",
      "  google-chrome-stable libgbm1 libu2f-udev libwayland-server0 udev\r\n",
      "0 upgraded, 5 newly installed, 0 to remove and 6 not upgraded.\r\n",
      "Need to get 95.8 MB of archives.\r\n",
      "After this operation, 331 MB of additional disk space will be used.\r\n",
      "Get:1 http://dl.google.com/linux/chrome/deb stable/main amd64 google-chrome-stable amd64 114.0.5735.198-1 [94.3 MB]\r\n",
      "Get:2 http://archive.ubuntu.com/ubuntu focal-updates/main amd64 libwayland-server0 amd64 1.18.0-1ubuntu0.1 [31.3 kB]\r\n",
      "Get:3 http://archive.ubuntu.com/ubuntu focal-updates/main amd64 libgbm1 amd64 21.2.6-0ubuntu0.1~20.04.2 [29.2 kB]\r\n",
      "Get:4 http://archive.ubuntu.com/ubuntu focal-updates/main amd64 udev amd64 245.4-4ubuntu3.22 [1366 kB]\r\n",
      "Get:5 http://archive.ubuntu.com/ubuntu focal/main amd64 libu2f-udev all 1.1.10-1 [6108 B]\r\n",
      "Fetched 95.8 MB in 2s (43.0 MB/s)\r\n",
      "Selecting previously unselected package libwayland-server0:amd64.\r\n",
      "(Reading database ... 107656 files and directories currently installed.)\r\n",
      "Preparing to unpack .../libwayland-server0_1.18.0-1ubuntu0.1_amd64.deb ...\r\n",
      "Unpacking libwayland-server0:amd64 (1.18.0-1ubuntu0.1) ...\r\n",
      "Selecting previously unselected package libgbm1:amd64.\r\n",
      "Preparing to unpack .../libgbm1_21.2.6-0ubuntu0.1~20.04.2_amd64.deb ...\r\n",
      "Unpacking libgbm1:amd64 (21.2.6-0ubuntu0.1~20.04.2) ...\r\n",
      "Selecting previously unselected package udev.\r\n",
      "Preparing to unpack .../udev_245.4-4ubuntu3.22_amd64.deb ...\r\n",
      "Unpacking udev (245.4-4ubuntu3.22) ...\r\n",
      "Selecting previously unselected package libu2f-udev.\r\n",
      "Preparing to unpack .../libu2f-udev_1.1.10-1_all.deb ...\r\n",
      "Unpacking libu2f-udev (1.1.10-1) ...\r\n",
      "Selecting previously unselected package google-chrome-stable.\r\n",
      "Preparing to unpack .../google-chrome-stable_114.0.5735.198-1_amd64.deb ...\r\n",
      "Unpacking google-chrome-stable (114.0.5735.198-1) ...\r\n",
      "Setting up libwayland-server0:amd64 (1.18.0-1ubuntu0.1) ...\r\n",
      "Setting up libgbm1:amd64 (21.2.6-0ubuntu0.1~20.04.2) ...\r\n",
      "Setting up udev (245.4-4ubuntu3.22) ...\r\n",
      "invoke-rc.d: could not determine current runlevel\r\n",
      "invoke-rc.d: policy-rc.d denied execution of start.\r\n",
      "Setting up libu2f-udev (1.1.10-1) ...\r\n",
      "Failed to send reload request: No such file or directory\r\n",
      "Setting up google-chrome-stable (114.0.5735.198-1) ...\r\n",
      "update-alternatives: using /usr/bin/google-chrome-stable to provide /usr/bin/x-www-browser (x-www-browser) in auto mode\r\n",
      "update-alternatives: using /usr/bin/google-chrome-stable to provide /usr/bin/gnome-www-browser (gnome-www-browser) in auto mode\r\n",
      "update-alternatives: using /usr/bin/google-chrome-stable to provide /usr/bin/google-chrome (google-chrome) in auto mode\r\n",
      "Processing triggers for libc-bin (2.31-0ubuntu9.9) ...\r\n",
      "Processing triggers for systemd (245.4-4ubuntu3.22) ...\r\n",
      "Processing triggers for man-db (2.9.1-1) ...\r\n",
      "Processing triggers for mime-support (3.64ubuntu1) ...\r\n"
     ]
    }
   ],
   "source": [
    "# install google chrome\n",
    "!wget https://dl.google.com/linux/linux_signing_key.pub\n",
    "!sudo apt-key add linux_signing_key.pub\n",
    "!echo 'deb [arch=amd64] http://dl.google.com/linux/chrome/deb/ stable main' >> /etc/apt/sources.list.d/google-chrome.list\n",
    "!sudo apt-get -y update\n",
    "!sudo apt-get install -y google-chrome-stable"
   ]
  },
  {
   "cell_type": "code",
   "execution_count": 2,
   "id": "bb627545",
   "metadata": {
    "execution": {
     "iopub.execute_input": "2023-07-18T07:57:02.548489Z",
     "iopub.status.busy": "2023-07-18T07:57:02.548098Z",
     "iopub.status.idle": "2023-07-18T07:57:06.800023Z",
     "shell.execute_reply": "2023-07-18T07:57:06.798414Z"
    },
    "id": "qiG91POkMKVa",
    "outputId": "68b943f2-39bf-40f7-8c11-81c042a4d210",
    "papermill": {
     "duration": 4.277704,
     "end_time": "2023-07-18T07:57:06.803322",
     "exception": false,
     "start_time": "2023-07-18T07:57:02.525618",
     "status": "completed"
    },
    "tags": []
   },
   "outputs": [
    {
     "name": "stdout",
     "output_type": "stream",
     "text": [
      "curl: /opt/conda/lib/libcurl.so.4: no version information available (required by curl)\r\n",
      "--2023-07-18 07:57:04--  http://chromedriver.storage.googleapis.com/114.0.5735.90/chromedriver_linux64.zip\r\n",
      "Resolving chromedriver.storage.googleapis.com (chromedriver.storage.googleapis.com)... 142.251.170.128, 2404:6800:4008:c19::80\r\n",
      "Connecting to chromedriver.storage.googleapis.com (chromedriver.storage.googleapis.com)|142.251.170.128|:80... connected.\r\n",
      "HTTP request sent, awaiting response... 200 OK\r\n",
      "Length: 7407250 (7.1M) [application/zip]\r\n",
      "Saving to: ‘/tmp/chromedriver.zip’\r\n",
      "\r\n",
      "/tmp/chromedriver.z 100%[===================>]   7.06M  6.81MB/s    in 1.0s    \r\n",
      "\r\n",
      "2023-07-18 07:57:05 (6.81 MB/s) - ‘/tmp/chromedriver.zip’ saved [7407250/7407250]\r\n",
      "\r\n",
      "Archive:  /tmp/chromedriver.zip\r\n",
      "  inflating: /usr/local/bin/chromedriver  \r\n"
     ]
    }
   ],
   "source": [
    "# install chromedriver\n",
    "# !apt-get install -y qq unzip\n",
    "!wget -O /tmp/chromedriver.zip http://chromedriver.storage.googleapis.com/`curl -sS chromedriver.storage.googleapis.com/LATEST_RELEASE`/chromedriver_linux64.zip\n",
    "!unzip /tmp/chromedriver.zip chromedriver -d /usr/local/bin/"
   ]
  },
  {
   "cell_type": "code",
   "execution_count": 3,
   "id": "833cd40e",
   "metadata": {
    "execution": {
     "iopub.execute_input": "2023-07-18T07:57:06.847728Z",
     "iopub.status.busy": "2023-07-18T07:57:06.847258Z",
     "iopub.status.idle": "2023-07-18T07:57:45.149713Z",
     "shell.execute_reply": "2023-07-18T07:57:45.147976Z"
    },
    "id": "tAdHm4rgMKVd",
    "outputId": "db307fb1-9e6c-485c-b075-7cc12fc66370",
    "papermill": {
     "duration": 38.32832,
     "end_time": "2023-07-18T07:57:45.152600",
     "exception": false,
     "start_time": "2023-07-18T07:57:06.824280",
     "status": "completed"
    },
    "tags": []
   },
   "outputs": [
    {
     "name": "stdout",
     "output_type": "stream",
     "text": [
      "\r\n",
      "\r\n",
      "\r\n",
      "The following additional packages will be installed:\r\n",
      "  apparmor chromium-browser chromium-chromedriver liblzo2-2 snapd\r\n",
      "  squashfs-tools\r\n",
      "Suggested packages:\r\n",
      "  apparmor-profiles-extra apparmor-utils zenity | kdialog\r\n",
      "The following NEW packages will be installed:\r\n",
      "  apparmor chromium-browser chromium-chromedriver liblzo2-2 python3-selenium\r\n",
      "  snapd squashfs-tools\r\n",
      "0 upgraded, 7 newly installed, 0 to remove and 6 not upgraded.\r\n",
      "Need to get 38.7 MB of archives.\r\n",
      "After this operation, 174 MB of additional disk space will be used.\r\n",
      "Get:1 http://archive.ubuntu.com/ubuntu focal-updates/main amd64 apparmor amd64 2.13.3-7ubuntu5.2 [502 kB]\r\n",
      "Get:2 http://archive.ubuntu.com/ubuntu focal/main amd64 liblzo2-2 amd64 2.10-2 [50.8 kB]\r\n",
      "Get:3 http://archive.ubuntu.com/ubuntu focal-updates/main amd64 squashfs-tools amd64 1:4.4-1ubuntu0.3 [117 kB]\r\n",
      "Get:4 http://archive.ubuntu.com/ubuntu focal-updates/main amd64 snapd amd64 2.58+20.04.1 [37.9 MB]\r\n",
      "Get:5 http://archive.ubuntu.com/ubuntu focal-updates/universe amd64 chromium-browser amd64 1:85.0.4183.83-0ubuntu0.20.04.3 [48.5 kB]\r\n",
      "Get:6 http://archive.ubuntu.com/ubuntu focal-updates/universe amd64 chromium-chromedriver amd64 1:85.0.4183.83-0ubuntu0.20.04.3 [2496 B]\r\n",
      "Get:7 http://archive.ubuntu.com/ubuntu focal/universe amd64 python3-selenium all 4.0.0~a1+dfsg1-1.1 [86.2 kB]\r\n",
      "Fetched 38.7 MB in 6s (6805 kB/s)\r\n",
      "Preconfiguring packages ...\r\n",
      "\n",
      "\u001b7\u001b[0;23r\u001b8\u001b[1ASelecting previously unselected package apparmor.\r\n",
      "(Reading database ... 107904 files and directories currently installed.)\r\n",
      "Preparing to unpack .../apparmor_2.13.3-7ubuntu5.2_amd64.deb ...\r\n",
      "\u001b7\u001b[24;0f\u001b[42m\u001b[30mProgress: [  0%]\u001b[49m\u001b[39m [..........................................................] \u001b8\u001b7\u001b[24;0f\u001b[42m\u001b[30mProgress: [  3%]\u001b[49m\u001b[39m [##........................................................] \u001b8Unpacking apparmor (2.13.3-7ubuntu5.2) ...\r\n",
      "\u001b7\u001b[24;0f\u001b[42m\u001b[30mProgress: [  7%]\u001b[49m\u001b[39m [####......................................................] \u001b8Selecting previously unselected package liblzo2-2:amd64.\r\n",
      "Preparing to unpack .../liblzo2-2_2.10-2_amd64.deb ...\r\n",
      "\u001b7\u001b[24;0f\u001b[42m\u001b[30mProgress: [ 10%]\u001b[49m\u001b[39m [######....................................................] \u001b8Unpacking liblzo2-2:amd64 (2.10-2) ...\r\n",
      "\u001b7\u001b[24;0f\u001b[42m\u001b[30mProgress: [ 14%]\u001b[49m\u001b[39m [########..................................................] \u001b8Selecting previously unselected package squashfs-tools.\r\n",
      "Preparing to unpack .../squashfs-tools_1%3a4.4-1ubuntu0.3_amd64.deb ...\r\n",
      "\u001b7\u001b[24;0f\u001b[42m\u001b[30mProgress: [ 17%]\u001b[49m\u001b[39m [#########.................................................] \u001b8Unpacking squashfs-tools (1:4.4-1ubuntu0.3) ...\r\n",
      "\u001b7\u001b[24;0f\u001b[42m\u001b[30mProgress: [ 21%]\u001b[49m\u001b[39m [############..............................................] \u001b8Selecting previously unselected package snapd.\r\n",
      "Preparing to unpack .../snapd_2.58+20.04.1_amd64.deb ...\r\n",
      "\u001b7\u001b[24;0f\u001b[42m\u001b[30mProgress: [ 24%]\u001b[49m\u001b[39m [##############............................................] \u001b8Unpacking snapd (2.58+20.04.1) ...\r\n",
      "\u001b7\u001b[24;0f\u001b[42m\u001b[30mProgress: [ 28%]\u001b[49m\u001b[39m [################..........................................] \u001b8Setting up apparmor (2.13.3-7ubuntu5.2) ...\r\n",
      "\u001b7\u001b[24;0f\u001b[42m\u001b[30mProgress: [ 31%]\u001b[49m\u001b[39m [##################........................................] \u001b8Created symlink /etc/systemd/system/sysinit.target.wants/apparmor.service → /lib/systemd/system/apparmor.service.\r\n",
      "\u001b7\u001b[24;0f\u001b[42m\u001b[30mProgress: [ 34%]\u001b[49m\u001b[39m [###################.......................................] \u001b8Setting up liblzo2-2:amd64 (2.10-2) ...\r\n",
      "\u001b7\u001b[24;0f\u001b[42m\u001b[30mProgress: [ 38%]\u001b[49m\u001b[39m [######################....................................] \u001b8\u001b7\u001b[24;0f\u001b[42m\u001b[30mProgress: [ 41%]\u001b[49m\u001b[39m [########################..................................] \u001b8Setting up squashfs-tools (1:4.4-1ubuntu0.3) ...\r\n",
      "\u001b7\u001b[24;0f\u001b[42m\u001b[30mProgress: [ 45%]\u001b[49m\u001b[39m [##########################................................] \u001b8\u001b7\u001b[24;0f\u001b[42m\u001b[30mProgress: [ 48%]\u001b[49m\u001b[39m [############################..............................] \u001b8Setting up snapd (2.58+20.04.1) ...\r\n",
      "\u001b7\u001b[24;0f\u001b[42m\u001b[30mProgress: [ 52%]\u001b[49m\u001b[39m [#############################.............................] \u001b8Created symlink /etc/systemd/system/multi-user.target.wants/snapd.aa-prompt-listener.service → /lib/systemd/system/snapd.aa-prompt-listener.service.\r\n",
      "Created symlink /etc/systemd/system/multi-user.target.wants/snapd.apparmor.service → /lib/systemd/system/snapd.apparmor.service.\r\n",
      "Created symlink /etc/systemd/system/multi-user.target.wants/snapd.autoimport.service → /lib/systemd/system/snapd.autoimport.service.\r\n",
      "Created symlink /etc/systemd/system/multi-user.target.wants/snapd.core-fixup.service → /lib/systemd/system/snapd.core-fixup.service.\r\n",
      "Created symlink /etc/systemd/system/multi-user.target.wants/snapd.recovery-chooser-trigger.service → /lib/systemd/system/snapd.recovery-chooser-trigger.service.\r\n",
      "Created symlink /etc/systemd/system/multi-user.target.wants/snapd.seeded.service → /lib/systemd/system/snapd.seeded.service.\r\n",
      "Created symlink /etc/systemd/system/cloud-final.service.wants/snapd.seeded.service → /lib/systemd/system/snapd.seeded.service.\r\n",
      "Created symlink /etc/systemd/system/multi-user.target.wants/snapd.service → /lib/systemd/system/snapd.service.\r\n",
      "Created symlink /etc/systemd/system/timers.target.wants/snapd.snap-repair.timer → /lib/systemd/system/snapd.snap-repair.timer.\r\n",
      "Created symlink /etc/systemd/system/sockets.target.wants/snapd.socket → /lib/systemd/system/snapd.socket.\r\n",
      "Created symlink /etc/systemd/system/final.target.wants/snapd.system-shutdown.service → /lib/systemd/system/snapd.system-shutdown.service.\r\n",
      "\u001b7\u001b[24;0f\u001b[42m\u001b[30mProgress: [ 55%]\u001b[49m\u001b[39m [################################..........................] \u001b8Selecting previously unselected package chromium-browser.\r\n",
      "(Reading database ... 108200 files and directories currently installed.)\r\n",
      "Preparing to unpack .../chromium-browser_1%3a85.0.4183.83-0ubuntu0.20.04.3_amd64.deb ...\r\n",
      "\u001b7\u001b[24;0f\u001b[42m\u001b[30mProgress: [ 59%]\u001b[49m\u001b[39m [##################################........................] \u001b8=> Installing the chromium snap\r\n",
      "==> Checking connectivity with the snap store\r\n",
      "===> System doesn't have a working snapd, skipping\r\n",
      "Unpacking chromium-browser (1:85.0.4183.83-0ubuntu0.20.04.3) ...\r\n",
      "\u001b7\u001b[24;0f\u001b[42m\u001b[30mProgress: [ 62%]\u001b[49m\u001b[39m [####################################......................] \u001b8Selecting previously unselected package chromium-chromedriver.\r\n",
      "Preparing to unpack .../chromium-chromedriver_1%3a85.0.4183.83-0ubuntu0.20.04.3_amd64.deb ...\r\n",
      "\u001b7\u001b[24;0f\u001b[42m\u001b[30mProgress: [ 66%]\u001b[49m\u001b[39m [######################################....................] \u001b8Unpacking chromium-chromedriver (1:85.0.4183.83-0ubuntu0.20.04.3) ...\r\n",
      "\u001b7\u001b[24;0f\u001b[42m\u001b[30mProgress: [ 69%]\u001b[49m\u001b[39m [#######################################...................] \u001b8Selecting previously unselected package python3-selenium.\r\n",
      "Preparing to unpack .../python3-selenium_4.0.0~a1+dfsg1-1.1_all.deb ...\r\n",
      "\u001b7\u001b[24;0f\u001b[42m\u001b[30mProgress: [ 72%]\u001b[49m\u001b[39m [##########################################................] \u001b8Unpacking python3-selenium (4.0.0~a1+dfsg1-1.1) ...\r\n",
      "\u001b7\u001b[24;0f\u001b[42m\u001b[30mProgress: [ 76%]\u001b[49m\u001b[39m [############################################..............] \u001b8Setting up python3-selenium (4.0.0~a1+dfsg1-1.1) ...\r\n",
      "\u001b7\u001b[24;0f\u001b[42m\u001b[30mProgress: [ 79%]\u001b[49m\u001b[39m [##############################################............] \u001b8\u001b7\u001b[24;0f\u001b[42m\u001b[30mProgress: [ 83%]\u001b[49m\u001b[39m [################################################..........] \u001b8Setting up chromium-browser (1:85.0.4183.83-0ubuntu0.20.04.3) ...\r\n",
      "\u001b7\u001b[24;0f\u001b[42m\u001b[30mProgress: [ 86%]\u001b[49m\u001b[39m [##################################################........] \u001b8\u001b7\u001b[24;0f\u001b[42m\u001b[30mProgress: [ 90%]\u001b[49m\u001b[39m [####################################################......] \u001b8Setting up chromium-chromedriver (1:85.0.4183.83-0ubuntu0.20.04.3) ...\r\n",
      "\u001b7\u001b[24;0f\u001b[42m\u001b[30mProgress: [ 93%]\u001b[49m\u001b[39m [#####################################################.....] \u001b8\u001b7\u001b[24;0f\u001b[42m\u001b[30mProgress: [ 97%]\u001b[49m\u001b[39m [########################################################..] \u001b8Processing triggers for mime-support (3.64ubuntu1) ...\r\n",
      "Processing triggers for hicolor-icon-theme (0.17-2) ...\r\n",
      "Processing triggers for libc-bin (2.31-0ubuntu9.9) ...\r\n",
      "Processing triggers for systemd (245.4-4ubuntu3.22) ...\r\n",
      "Processing triggers for man-db (2.9.1-1) ...\r\n",
      "Processing triggers for dbus (1.12.16-2ubuntu2.3) ...\r\n",
      "\r\n",
      "\u001b7\u001b[0;24r\u001b8\u001b[1A\u001b[J"
     ]
    }
   ],
   "source": [
    "# install selenium\n",
    "!sudo apt install -y python3-selenium\n",
    "!pip install selenium > /dev/null"
   ]
  },
  {
   "cell_type": "code",
   "execution_count": 4,
   "id": "a3e6da62",
   "metadata": {
    "execution": {
     "iopub.execute_input": "2023-07-18T07:57:45.208224Z",
     "iopub.status.busy": "2023-07-18T07:57:45.207618Z",
     "iopub.status.idle": "2023-07-18T07:57:46.416907Z",
     "shell.execute_reply": "2023-07-18T07:57:46.415653Z"
    },
    "id": "pbJyBI3kMKVg",
    "outputId": "d58aaf07-5b86-4545-f129-ce4c83641ff7",
    "papermill": {
     "duration": 1.240977,
     "end_time": "2023-07-18T07:57:46.419543",
     "exception": false,
     "start_time": "2023-07-18T07:57:45.178566",
     "status": "completed"
    },
    "tags": []
   },
   "outputs": [
    {
     "name": "stdout",
     "output_type": "stream",
     "text": [
      "Google Chrome 114.0.5735.198 \r\n"
     ]
    }
   ],
   "source": [
    "# To check Google Chrome's version\n",
    "!google-chrome --version"
   ]
  },
  {
   "cell_type": "code",
   "execution_count": 5,
   "id": "b04a4031",
   "metadata": {
    "execution": {
     "iopub.execute_input": "2023-07-18T07:57:46.475780Z",
     "iopub.status.busy": "2023-07-18T07:57:46.475323Z",
     "iopub.status.idle": "2023-07-18T07:57:47.514396Z",
     "shell.execute_reply": "2023-07-18T07:57:47.513121Z"
    },
    "id": "0Xqt7ZWVMKVj",
    "outputId": "3c9f6164-ca14-41a3-fe11-78b37ae693ff",
    "papermill": {
     "duration": 1.070571,
     "end_time": "2023-07-18T07:57:47.517069",
     "exception": false,
     "start_time": "2023-07-18T07:57:46.446498",
     "status": "completed"
    },
    "tags": []
   },
   "outputs": [
    {
     "name": "stdout",
     "output_type": "stream",
     "text": [
      "ChromeDriver 114.0.5735.90 (386bc09e8f4f2e025eddae123f36f6263096ae49-refs/branch-heads/5735@{#1052})\r\n"
     ]
    }
   ],
   "source": [
    "# To check Chrome Driver's version\n",
    "!chromedriver -v"
   ]
  },
  {
   "cell_type": "code",
   "execution_count": null,
   "id": "c71f17d9",
   "metadata": {
    "id": "Q9V1n0EiMKVn",
    "papermill": {
     "duration": 0.02547,
     "end_time": "2023-07-18T07:57:47.568480",
     "exception": false,
     "start_time": "2023-07-18T07:57:47.543010",
     "status": "completed"
    },
    "tags": []
   },
   "outputs": [],
   "source": []
  },
  {
   "cell_type": "markdown",
   "id": "769d68ac",
   "metadata": {
    "id": "XJ5IHsrtMKVr",
    "papermill": {
     "duration": 0.025461,
     "end_time": "2023-07-18T07:57:47.620714",
     "exception": false,
     "start_time": "2023-07-18T07:57:47.595253",
     "status": "completed"
    },
    "tags": []
   },
   "source": [
    "#### Importing necessary packages"
   ]
  },
  {
   "cell_type": "code",
   "execution_count": 6,
   "id": "bce78db1",
   "metadata": {
    "execution": {
     "iopub.execute_input": "2023-07-18T07:57:47.675082Z",
     "iopub.status.busy": "2023-07-18T07:57:47.673836Z",
     "iopub.status.idle": "2023-07-18T07:57:47.715694Z",
     "shell.execute_reply": "2023-07-18T07:57:47.714420Z"
    },
    "id": "qEgts72hMKVu",
    "papermill": {
     "duration": 0.072257,
     "end_time": "2023-07-18T07:57:47.718643",
     "exception": false,
     "start_time": "2023-07-18T07:57:47.646386",
     "status": "completed"
    },
    "tags": []
   },
   "outputs": [],
   "source": [
    "from selenium import webdriver\n",
    "from selenium.webdriver.common.by import By\n",
    "# from selenium.webdriver.chrome.service import Service\n",
    "# from webdriver_manager.chrome import ChromeDriverManager\n",
    "# from selenium.webdriver.chrome.options import Options\n",
    "\n",
    "chrome_options = webdriver.ChromeOptions()\n",
    "\n",
    "chrome_options.add_argument('--headless')\n",
    "chrome_options.add_argument('--no-sandbox')\n",
    "chrome_options.add_argument('--disable-dev-shm-usage')\n",
    "chrome_options.add_argument('--disable-gpu')\n",
    "# chrome_options.add_argument(\"--window-size=1920,1080\")"
   ]
  },
  {
   "cell_type": "code",
   "execution_count": 7,
   "id": "1daeec0c",
   "metadata": {
    "execution": {
     "iopub.execute_input": "2023-07-18T07:57:47.772309Z",
     "iopub.status.busy": "2023-07-18T07:57:47.771920Z",
     "iopub.status.idle": "2023-07-18T07:57:47.974990Z",
     "shell.execute_reply": "2023-07-18T07:57:47.973971Z"
    },
    "id": "D_2ATNwHMKVy",
    "papermill": {
     "duration": 0.23271,
     "end_time": "2023-07-18T07:57:47.977434",
     "exception": false,
     "start_time": "2023-07-18T07:57:47.744724",
     "status": "completed"
    },
    "tags": []
   },
   "outputs": [],
   "source": [
    "import requests\n",
    "import json\n",
    "import pandas as pd\n",
    "import numpy as np\n",
    "import re\n",
    "\n",
    "from tqdm import tqdm\n",
    "from bs4 import BeautifulSoup"
   ]
  },
  {
   "cell_type": "markdown",
   "id": "e6d51210",
   "metadata": {
    "id": "V4QVMna3MKV1",
    "papermill": {
     "duration": 0.026013,
     "end_time": "2023-07-18T07:57:48.028972",
     "exception": false,
     "start_time": "2023-07-18T07:57:48.002959",
     "status": "completed"
    },
    "tags": []
   },
   "source": [
    "#### Parameters"
   ]
  },
  {
   "cell_type": "code",
   "execution_count": 8,
   "id": "e1d341d6",
   "metadata": {
    "execution": {
     "iopub.execute_input": "2023-07-18T07:57:48.083350Z",
     "iopub.status.busy": "2023-07-18T07:57:48.082062Z",
     "iopub.status.idle": "2023-07-18T07:57:48.089399Z",
     "shell.execute_reply": "2023-07-18T07:57:48.088199Z"
    },
    "id": "chnXSgp_MKV4",
    "outputId": "80077c66-364c-4f7f-89bd-16aeb7396477",
    "papermill": {
     "duration": 0.036564,
     "end_time": "2023-07-18T07:57:48.091858",
     "exception": false,
     "start_time": "2023-07-18T07:57:48.055294",
     "status": "completed"
    },
    "tags": []
   },
   "outputs": [
    {
     "name": "stdout",
     "output_type": "stream",
     "text": [
      "Start:  0 \tEnd:  50\n"
     ]
    }
   ],
   "source": [
    "start = 0\n",
    "offset = 50\n",
    "no_of_urls_to_scrape = 50\n",
    "\n",
    "end = start + no_of_urls_to_scrape\n",
    "print(\"Start: \", start, \"\\tEnd: \", end)"
   ]
  },
  {
   "cell_type": "code",
   "execution_count": 9,
   "id": "8253023a",
   "metadata": {
    "execution": {
     "iopub.execute_input": "2023-07-18T07:57:48.145769Z",
     "iopub.status.busy": "2023-07-18T07:57:48.144015Z",
     "iopub.status.idle": "2023-07-18T07:57:49.597338Z",
     "shell.execute_reply": "2023-07-18T07:57:49.596116Z"
    },
    "id": "LidmWCBjMKV7",
    "papermill": {
     "duration": 1.483158,
     "end_time": "2023-07-18T07:57:49.600423",
     "exception": false,
     "start_time": "2023-07-18T07:57:48.117265",
     "status": "completed"
    },
    "tags": []
   },
   "outputs": [],
   "source": [
    "driver = webdriver.Chrome(options = chrome_options)"
   ]
  },
  {
   "cell_type": "markdown",
   "id": "ee28bdbf",
   "metadata": {
    "id": "YfwiGdKCMKV9",
    "papermill": {
     "duration": 0.027695,
     "end_time": "2023-07-18T07:57:49.660701",
     "exception": false,
     "start_time": "2023-07-18T07:57:49.633006",
     "status": "completed"
    },
    "tags": []
   },
   "source": [
    "#### Read test dataset"
   ]
  },
  {
   "cell_type": "code",
   "execution_count": 10,
   "id": "b778b3e9",
   "metadata": {
    "execution": {
     "iopub.execute_input": "2023-07-18T07:57:49.720095Z",
     "iopub.status.busy": "2023-07-18T07:57:49.719383Z",
     "iopub.status.idle": "2023-07-18T07:57:50.665932Z",
     "shell.execute_reply": "2023-07-18T07:57:50.664736Z"
    },
    "id": "nRJa9m93lxdE",
    "outputId": "ab536636-2d38-48eb-bcdf-de81e5978362",
    "papermill": {
     "duration": 0.979936,
     "end_time": "2023-07-18T07:57:50.669807",
     "exception": false,
     "start_time": "2023-07-18T07:57:49.689871",
     "status": "completed"
    },
    "tags": []
   },
   "outputs": [
    {
     "name": "stdout",
     "output_type": "stream",
     "text": [
      "['https://www.madhyamam.com//kerala/oommen-chandys-cremation-will-be-held-at-puthupally-on-thursday-1182431', 'article_url']\n",
      "['https://www.madhyamam.com//offbeat/oommen-chandys-real-life-humorous-situations-1182546', 'article_url']\n",
      "['https://www.madhyamam.com//kerala/oommen-chandys-physical-body-will-arrive-soon-heres-the-schedule-1182581', 'article_url']\n",
      "['https://www.madhyamam.com//sports/football/saudi-pro-league-is-better-than-american-major-league-ronaldo-against-messi-1182551', 'article_url']\n",
      "['https://www.madhyamam.com//travel/travelogue/flow-of-tourists-the-people-of-kollankodu-are-in-trouble-1182584', 'article_url']\n",
      "['https://www.madhyamam.com//business/corporates/hindenburg-report-combination-of-targeted-misinformation-discredited-allegations-adani-1182577', 'article_url']\n",
      "['https://www.madhyamam.com//multimedia/videos/poli-troll-1182270', 'article_url']\n",
      "['https://www.madhyamam.com//india/arikomban-health-updates-from-tamilnadu-forest-department-1182569', 'article_url']\n",
      "['https://www.madhyamam.com//entertainment/movie-news/kerala-state-awards-date-postponed-will-be-held-on-july-21-friday-1182562', 'article_url']\n",
      "['https://www.madhyamam.com//crime/the-priest-saw-the-opening-of-the-church-treasury-live-on-cctv-the-thieves-were-arrested-1182557', 'article_url']\n",
      "['https://www.madhyamam.com//kerala/elderly-woman-dies-without-treatment-health-department-starts-investigation-1182554', 'article_url']\n",
      "['https://www.madhyamam.com//india/supreme-court-adjourns-hearing-in-snc-lavalin-case-at-cbis-request-posts-to-september-1182545', 'article_url']\n",
      "['https://www.madhyamam.com//entertainment/celebrities/actor-akshay-radakrishnan-about-keralas-streat-dog-issue-1182544', 'article_url']\n",
      "['https://www.madhyamam.com//india/supreme-court-to-hear-rahul-gandhis-plea-to-stay-conviction-in-defamation-case-on-july-21-1182526', 'article_url']\n",
      "['https://www.madhyamam.com//kerala/i-have-never-seen-such-a-political-leader-et-muhammed-basheer-about-oommen-chandy-1182523', 'article_url']\n",
      "['https://www.madhyamam.com//kerala/abdussamad-samadani-about-oommen-chandy-1182514', 'article_url']\n",
      "['https://www.madhyamam.com//entertainment/filmy-talk/sajin-cherukayil-latest-interview-about-his-new-movie-padmini-1182512', 'article_url']\n",
      "['https://www.madhyamam.com//sports/football/renew-contract-or-leave-club-psg-with-ultimatum-to-mbappe-1182506', 'article_url']\n",
      "['https://www.madhyamam.com//travel/huge-rush-of-tourists-to-board-the-kottavanchi-at-atavi-1182505', 'article_url']\n",
      "['https://www.madhyamam.com//india/viral-video-kirit-somaiya-caught-in-compromising-position-bjp-leader-alleges-political-conspiracy-1182497', 'article_url']\n",
      "['https://www.madhyamam.com//sports/football/some-goodbyes-are-hard-he-won-our-hearts-manjappada-on-sahal-abdul-samad-1181214', 'article_url']\n",
      "['https://www.madhyamam.com//entertainment/celebrities/dhoni-makes-fun-of-yogi-babu-at-lgm-cake-cutting-session-1181246', 'article_url']\n",
      "['https://www.madhyamam.com//crime/gang-arrested-for-beating-youths-and-looting-money-and-mobile-phones-1182206', 'article_url']\n",
      "['https://www.madhyamam.com//sports/football/wants-to-play-football-with-these-superstars-ranbir-kapoor-revealed-his-dream-1181848', 'article_url']\n",
      "['https://www.madhyamam.com//gulf-news/oman/arrest-oman-1182240', 'article_url']\n",
      "['https://www.madhyamam.com//kerala/plus-one-seat-crisis-students-in-malabar-are-waiting-for-the-decision-1182334', 'article_url']\n",
      "['https://www.madhyamam.com//entertainment/movie-news/gokul-suresh-aju-varghese-and-anarkali-marikar-movie-gaganachari-official-trailer-1181834', 'article_url']\n",
      "['https://www.madhyamam.com//india/madhya-pradesh-school-disallows-student-entry-over-tilak-1179841', 'article_url']\n",
      "['https://www.madhyamam.com//kerala/remand-accused-in-intensive-care-unit-his-wife-who-came-to-see-him-was-stopped-1182330', 'article_url']\n",
      "['https://www.madhyamam.com//gulf-news/bahrain/bahrain-human-rights-1182583', 'article_url']\n",
      "['https://www.madhyamam.com//gulf-news/bahrain/medical-camp-1182574', 'article_url']\n",
      "['https://www.madhyamam.com//gulf-news/oman/banking-fraud-1182570', 'article_url']\n",
      "['https://www.madhyamam.com//gulf-news/oman/h-m-sultan-haitham-exchanges-new-hijri-year-greetings-1182566', 'article_url']\n",
      "['https://www.madhyamam.com//gulf-news/oman/theft-arest-1182563', 'article_url']\n",
      "['https://www.madhyamam.com//gulf-news/oman/acc-mens-emerging-teams-asia-cup-1182558', 'article_url']\n",
      "['https://www.madhyamam.com//sports/football/saudi-pro-league-is-better-than-american-major-league-ronaldo-against-messi-1182551', 'article_url']\n",
      "['https://www.madhyamam.com//offbeat/oommen-chandys-real-life-humorous-situations-1182546', 'article_url']\n",
      "['https://www.madhyamam.com//multimedia/wide-angle/oommen-chandys-life-through-pictures-1182483', 'article_url']\n",
      "['https://www.madhyamam.com//kerala/oommen-chandy-will-remain-in-hearts-as-the-face-of-political-gentleness-and-simplicity-1182425', 'article_url']\n",
      "['https://www.madhyamam.com//opinion/open-forum/is-the-aap-congress-alliance-effective-1182385', 'article_url']\n",
      "['https://www.madhyamam.com//opinion/editorial/madhyamam-editorial-assam-constituency-reorganization-1182323', 'article_url']\n",
      "['https://www.madhyamam.com/https://english.madhyamam.com/opinion/editorial/constituency-delimitation-ie-elimination-of-muslim-visibility-1182451', 'article_url']\n",
      "['https://www.madhyamam.com//offbeat/oommen-chandys-real-life-humorous-situations-1182546', 'article_url']\n",
      "['https://www.madhyamam.com//opinion/open-forum/is-the-aap-congress-alliance-effective-1182385', 'article_url']\n",
      "['https://www.madhyamam.com//opinion/open-forum/the-academy-and-controversies-1182382', 'article_url']\n",
      "['https://www.madhyamam.com//opinion/open-forum/milan-kundera-the-political-creativity-of-the-novel-1182371', 'article_url']\n",
      "['https://www.madhyamam.com//opinion/editorial/madhyamam-editorial-assam-constituency-reorganization-1182323', 'article_url']\n",
      "['https://www.madhyamam.com//opinion/open-forum/uniform-civil-code-and-constituent-assembly-1182033', 'article_url']\n",
      "['https://www.madhyamam.com//opinion/open-forum/in-the-middle-of-flood-and-violence-1182032', 'article_url']\n",
      "['https://www.madhyamam.com//kerala/local-news/thrissur/elephants-without-decorations-pooraparamb-1182582', 'article_url']\n",
      "['https://www.madhyamam.com//kerala/local-news/palakkad/300-dengue-patients-in-karimba-panchayath-1182580', 'article_url']\n",
      "['https://www.madhyamam.com//kerala/local-news/palakkad/attempted-robbery-at-four-temples-in-mankara-with-in-a-month-1182579', 'article_url']\n",
      "['https://www.madhyamam.com//kerala/local-news/thrissur/elephant-protection-lovers-and-owners-in-open-battle-1182578', 'article_url']\n",
      "['https://www.madhyamam.com//kerala/local-news/thrissur/kodungallur/a-stray-dog-jumped-across-the-bike-father-and-daughter-injured-1182576', 'article_url']\n",
      "['https://www.madhyamam.com//kerala/local-news/palakkad/gang-attack-at-kannadi-accused-arrested-in-tirupathi-1182575', 'article_url']\n",
      "['https://www.madhyamam.com//kerala/local-news/thrissur/facilities-limited-iranikulam-family-health-centre-should-be-expanded-1182573', 'article_url']\n",
      "['https://www.madhyamam.com//kerala/local-news/alappuzha/58-people-got-dengue-fever-and-21-people-got-rat-fever-in-two-weeks-1182571', 'article_url']\n",
      "['https://www.madhyamam.com//kerala/local-news/alappuzha/no-drinking-water-in-kuttanad-1182568', 'article_url']\n",
      "['https://www.madhyamam.com//cartoon/daily-cartoon/madhyamam-daily-cartoon-1181352', 'article_url']\n",
      "['https://www.madhyamam.com//offbeat/oommen-chandys-real-life-humorous-situations-1182546', 'article_url']\n",
      "['https://www.madhyamam.com//multimedia/videos/poli-troll-1182270', 'article_url']\n",
      "['https://www.madhyamam.com//multimedia/videos/googles-bard-ai-chatbot-adds-more-languages-to-take-on-chatgpt-1181950', 'article_url']\n",
      "['https://www.madhyamam.com//multimedia/videos/hollywood-strike-without-acting-1181618', 'article_url']\n",
      "['https://www.madhyamam.com//multimedia/videos/you-can-make-money-from-twitter-like-youtube-20-lakhs-for-creators-1181616', 'article_url']\n",
      "['https://www.madhyamam.com//multimedia/videos/miya-muslims-responsible-for-surge-in-vegetable-prices-assam-cm-1181553', 'article_url']\n",
      "['https://www.madhyamam.com//multimedia/videos/from-a-beggar-to-a-millionaire-bharat-jain-worlds-richest-1181222', 'article_url']\n",
      "['https://www.madhyamam.com//multimedia/videos/up-man-urinates-upon-tribal-youths-mouth-in-sonbhadra-cops-launch-probe-after-video-goes-viral-1181194', 'article_url']\n",
      "['https://www.madhyamam.com//multimedia/videos/heavy-rain-in-delhi-visuals-1181148', 'article_url']\n",
      "['https://www.madhyamam.com//multimedia/videos/bengaluru-bus-conductor-forced-to-remove-skullcap-1180884', 'article_url']\n",
      "['https://www.madhyamam.com//multimedia/videos/chandrayaan-3-will-launch-tomorrow-more-challenges-1180882', 'article_url']\n",
      "['https://www.madhyamam.com//weekly/column/kalantharam-premchand-column-1181220', 'article_url']\n",
      "['https://www.madhyamam.com//travel/travelogue/flow-of-tourists-the-people-of-kollankodu-are-in-trouble-1182584', 'article_url']\n",
      "['https://www.madhyamam.com//kerala/oommen-chandys-physical-body-will-arrive-soon-heres-the-schedule-1182581', 'article_url']\n",
      "['https://www.madhyamam.com//business/corporates/hindenburg-report-combination-of-targeted-misinformation-discredited-allegations-adani-1182577', 'article_url']\n",
      "['https://www.madhyamam.com//kerala/local-news/thrissur/kodungallur/a-stray-dog-jumped-across-the-bike-father-and-daughter-injured-1182576', 'article_url']\n",
      "['https://www.madhyamam.com//india/arikomban-health-updates-from-tamilnadu-forest-department-1182569', 'article_url']\n",
      "['https://www.madhyamam.com//entertainment/movie-news/kerala-state-awards-date-postponed-will-be-held-on-july-21-friday-1182562', 'article_url']\n",
      "['https://www.madhyamam.com//kerala/local-news/ernakulam/aluva/drugs-and-prohibited-tobacco-products-were-destroyed-1182560', 'article_url']\n",
      "['https://www.madhyamam.com//kerala/local-news/kollam/ochira/fight-at-inter-state-labour-camp-one-is-in-a-critical-condition-1182559', 'article_url']\n",
      "['https://www.madhyamam.com//crime/the-priest-saw-the-opening-of-the-church-treasury-live-on-cctv-the-thieves-were-arrested-1182557', 'article_url']\n",
      "['https://www.madhyamam.com//kerala/local-news/kollam/chavara/man-who-sold-illegal-liquor-jumps-into-pond-swimming-with-the-police-1182556', 'article_url']\n",
      "['https://www.madhyamam.com//kerala/elderly-woman-dies-without-treatment-health-department-starts-investigation-1182554', 'article_url']\n",
      "['https://www.madhyamam.com//kerala/local-news/kollam/ochira/rs-80000-stolen-by-mortgaging-fake-gold-1182553', 'article_url']\n",
      "['https://www.madhyamam.com//sports/football/saudi-pro-league-is-better-than-american-major-league-ronaldo-against-messi-1182551', 'article_url']\n",
      "['https://www.madhyamam.com//kerala/local-news/kollam/kannanallur/family-health-center-delayed-in-opening-eventually-the-lock-was-broken-1182549', 'article_url']\n",
      "['https://www.madhyamam.com//kerala/local-news/ernakulam/kalamassery/hotel-employees-stabbing-incident-accused-arrested-1182547', 'article_url']\n",
      "['https://www.madhyamam.com//india/supreme-court-adjourns-hearing-in-snc-lavalin-case-at-cbis-request-posts-to-september-1182545', 'article_url']\n",
      "['https://www.madhyamam.com//entertainment/celebrities/actor-akshay-radakrishnan-about-keralas-streat-dog-issue-1182544', 'article_url']\n",
      "['https://www.madhyamam.com//kerala/local-news/trivandrum/balaramapuram/balaramapuram-in-fear-of-dogs-1182542', 'article_url']\n",
      "['https://www.madhyamam.com//kerala/local-news/trivandrum/kallambalam/missing-youth-returns-home-after-two-decades-1182539', 'article_url']\n",
      "['https://www.madhyamam.com//kerala/local-news/trivandrum/kallambalam/road-is-filled-with-muddy-water-1182534', 'article_url']\n",
      "['https://www.madhyamam.com//kerala/local-news/idukki/peerumedu/no-facilities-in-peerumedu-taluk-hospital-1182531', 'article_url']\n",
      "['https://www.madhyamam.com//kerala/local-news/trivandrum/attingal/muthalapozhi-whatever-the-politics-of-the-fronts-contest-the-solution-is-needed-1182529', 'article_url']\n",
      "['https://www.madhyamam.com//india/supreme-court-to-hear-rahul-gandhis-plea-to-stay-conviction-in-defamation-case-on-july-21-1182526', 'article_url']\n",
      "['https://www.madhyamam.com//kerala/local-news/kasarkode/cheruvathoor/amardutt-that-ran-in-the-volleyball-court-in-the-courtyard-of-the-olat-library-in-kodakad-1182524', 'article_url']\n",
      "['https://www.madhyamam.com//kerala/i-have-never-seen-such-a-political-leader-et-muhammed-basheer-about-oommen-chandy-1182523', 'article_url']\n",
      "['https://www.madhyamam.com//kerala/local-news/kasarkode/cheruvathoor/district-junior-wushu-championship-grandmaster-academy-champions-1182519', 'article_url']\n",
      "['https://www.madhyamam.com//kerala/abdussamad-samadani-about-oommen-chandy-1182514', 'article_url']\n",
      "['https://www.madhyamam.com//entertainment/filmy-talk/sajin-cherukayil-latest-interview-about-his-new-movie-padmini-1182512', 'article_url']\n",
      "['https://www.madhyamam.com//kerala/local-news/kannur/panur/champad-indoor-stadium-leaked-1182508', 'article_url']\n",
      "['https://www.madhyamam.com//sports/football/renew-contract-or-leave-club-psg-with-ultimatum-to-mbappe-1182506', 'article_url']\n",
      "['https://www.madhyamam.com//travel/huge-rush-of-tourists-to-board-the-kottavanchi-at-atavi-1182505', 'article_url']\n",
      "['https://www.madhyamam.com//kerala/local-news/kannur/mattannur/its-been-seven-years-since-shamna-tasneem-of-sivapuram-passed-away-and-denial-of-justice-1182504', 'article_url']\n",
      "['https://www.madhyamam.com//kerala/local-news/kannur/kelakam/no-salary-for-six-months-forest-department-watchers-go-on-strike-1182502', 'article_url']\n",
      "['https://www.madhyamam.com//kerala/local-news/pathanamthitta/ranni/the-car-fell-downhill-in-ranni-1182501', 'article_url']\n",
      "['https://www.madhyamam.com//kerala/local-news/kannur/iritty/wild-elephant-on-ayyan-hill-causing-widespread-damage-to-crops-1182500', 'article_url']\n"
     ]
    }
   ],
   "source": [
    "url=\"https://www.madhyamam.com/\"\n",
    "main_list=[]\n",
    "response=requests.get(url).content\n",
    "soup=BeautifulSoup(response,\"html.parser\")\n",
    "main=soup.find_all(\"div\",attrs={'class':'heading'})\n",
    "anchors=[]\n",
    "for i in main:\n",
    "  anchors.append(i.find('a'))\n",
    "\n",
    "for anchor in anchors:\n",
    "    sublist=[]\n",
    "    href=anchor.get(\"href\")\n",
    "    if(href.startswith!=\"https://www.madhyamam.com/\"):\n",
    "        href=\"https://www.madhyamam.com/\"+href\n",
    "    sublist.append(href)\n",
    "    sublist.append(\"article_url\")\n",
    "    main_list.append(sublist)\n",
    "for link in main_list:\n",
    "    print(link)\n"
   ]
  },
  {
   "cell_type": "code",
   "execution_count": 11,
   "id": "50ddf978",
   "metadata": {
    "execution": {
     "iopub.execute_input": "2023-07-18T07:57:50.731497Z",
     "iopub.status.busy": "2023-07-18T07:57:50.729936Z",
     "iopub.status.idle": "2023-07-18T07:57:50.750369Z",
     "shell.execute_reply": "2023-07-18T07:57:50.749371Z"
    },
    "id": "ld0SicucwTKG",
    "papermill": {
     "duration": 0.054539,
     "end_time": "2023-07-18T07:57:50.752936",
     "exception": false,
     "start_time": "2023-07-18T07:57:50.698397",
     "status": "completed"
    },
    "tags": []
   },
   "outputs": [],
   "source": [
    "df=pd.DataFrame(main_list,columns=[\"url\",\"category\"])\n",
    "df.to_csv(\"madhyamam.csv\")"
   ]
  },
  {
   "cell_type": "code",
   "execution_count": 12,
   "id": "074b604c",
   "metadata": {
    "execution": {
     "iopub.execute_input": "2023-07-18T07:57:50.811314Z",
     "iopub.status.busy": "2023-07-18T07:57:50.810564Z",
     "iopub.status.idle": "2023-07-18T07:57:50.834810Z",
     "shell.execute_reply": "2023-07-18T07:57:50.833529Z"
    },
    "id": "nYLscEYYxF7h",
    "outputId": "425c558e-986b-4fda-de02-1a869d5aa256",
    "papermill": {
     "duration": 0.056488,
     "end_time": "2023-07-18T07:57:50.837594",
     "exception": false,
     "start_time": "2023-07-18T07:57:50.781106",
     "status": "completed"
    },
    "tags": []
   },
   "outputs": [
    {
     "data": {
      "text/html": [
       "<div>\n",
       "<style scoped>\n",
       "    .dataframe tbody tr th:only-of-type {\n",
       "        vertical-align: middle;\n",
       "    }\n",
       "\n",
       "    .dataframe tbody tr th {\n",
       "        vertical-align: top;\n",
       "    }\n",
       "\n",
       "    .dataframe thead th {\n",
       "        text-align: right;\n",
       "    }\n",
       "</style>\n",
       "<table border=\"1\" class=\"dataframe\">\n",
       "  <thead>\n",
       "    <tr style=\"text-align: right;\">\n",
       "      <th></th>\n",
       "      <th>url</th>\n",
       "      <th>category</th>\n",
       "    </tr>\n",
       "  </thead>\n",
       "  <tbody>\n",
       "    <tr>\n",
       "      <th>0</th>\n",
       "      <td>https://www.madhyamam.com//kerala/oommen-chand...</td>\n",
       "      <td>article_url</td>\n",
       "    </tr>\n",
       "    <tr>\n",
       "      <th>1</th>\n",
       "      <td>https://www.madhyamam.com//offbeat/oommen-chan...</td>\n",
       "      <td>article_url</td>\n",
       "    </tr>\n",
       "    <tr>\n",
       "      <th>2</th>\n",
       "      <td>https://www.madhyamam.com//kerala/oommen-chand...</td>\n",
       "      <td>article_url</td>\n",
       "    </tr>\n",
       "    <tr>\n",
       "      <th>3</th>\n",
       "      <td>https://www.madhyamam.com//sports/football/sau...</td>\n",
       "      <td>article_url</td>\n",
       "    </tr>\n",
       "    <tr>\n",
       "      <th>4</th>\n",
       "      <td>https://www.madhyamam.com//travel/travelogue/f...</td>\n",
       "      <td>article_url</td>\n",
       "    </tr>\n",
       "    <tr>\n",
       "      <th>5</th>\n",
       "      <td>https://www.madhyamam.com//business/corporates...</td>\n",
       "      <td>article_url</td>\n",
       "    </tr>\n",
       "    <tr>\n",
       "      <th>6</th>\n",
       "      <td>https://www.madhyamam.com//multimedia/videos/p...</td>\n",
       "      <td>article_url</td>\n",
       "    </tr>\n",
       "    <tr>\n",
       "      <th>7</th>\n",
       "      <td>https://www.madhyamam.com//india/arikomban-hea...</td>\n",
       "      <td>article_url</td>\n",
       "    </tr>\n",
       "    <tr>\n",
       "      <th>8</th>\n",
       "      <td>https://www.madhyamam.com//entertainment/movie...</td>\n",
       "      <td>article_url</td>\n",
       "    </tr>\n",
       "    <tr>\n",
       "      <th>9</th>\n",
       "      <td>https://www.madhyamam.com//crime/the-priest-sa...</td>\n",
       "      <td>article_url</td>\n",
       "    </tr>\n",
       "  </tbody>\n",
       "</table>\n",
       "</div>"
      ],
      "text/plain": [
       "                                                 url     category\n",
       "0  https://www.madhyamam.com//kerala/oommen-chand...  article_url\n",
       "1  https://www.madhyamam.com//offbeat/oommen-chan...  article_url\n",
       "2  https://www.madhyamam.com//kerala/oommen-chand...  article_url\n",
       "3  https://www.madhyamam.com//sports/football/sau...  article_url\n",
       "4  https://www.madhyamam.com//travel/travelogue/f...  article_url\n",
       "5  https://www.madhyamam.com//business/corporates...  article_url\n",
       "6  https://www.madhyamam.com//multimedia/videos/p...  article_url\n",
       "7  https://www.madhyamam.com//india/arikomban-hea...  article_url\n",
       "8  https://www.madhyamam.com//entertainment/movie...  article_url\n",
       "9  https://www.madhyamam.com//crime/the-priest-sa...  article_url"
      ]
     },
     "execution_count": 12,
     "metadata": {},
     "output_type": "execute_result"
    }
   ],
   "source": [
    "df.head(10)"
   ]
  },
  {
   "cell_type": "code",
   "execution_count": 13,
   "id": "f3f7d424",
   "metadata": {
    "execution": {
     "iopub.execute_input": "2023-07-18T07:57:50.892475Z",
     "iopub.status.busy": "2023-07-18T07:57:50.892103Z",
     "iopub.status.idle": "2023-07-18T07:57:50.906792Z",
     "shell.execute_reply": "2023-07-18T07:57:50.905431Z"
    },
    "id": "hXY6vuvWMKV-",
    "outputId": "df2afb61-3cb2-4be0-8d9e-552c6c687d2d",
    "papermill": {
     "duration": 0.045059,
     "end_time": "2023-07-18T07:57:50.909170",
     "exception": false,
     "start_time": "2023-07-18T07:57:50.864111",
     "status": "completed"
    },
    "tags": []
   },
   "outputs": [
    {
     "name": "stdout",
     "output_type": "stream",
     "text": [
      "Output Data:\n",
      "(50, 3)\n",
      "   Unnamed: 0                                                url     category\n",
      "0           0  https://www.madhyamam.com//kerala/oommen-chand...  article_url\n",
      "1           1  https://www.madhyamam.com//offbeat/oommen-chan...  article_url\n",
      "2           2  https://www.madhyamam.com//kerala/oommen-chand...  article_url\n",
      "3           3  https://www.madhyamam.com//sports/football/sau...  article_url\n",
      "4           4  https://www.madhyamam.com//travel/travelogue/f...  article_url\n"
     ]
    }
   ],
   "source": [
    "samples_count = 0\n",
    "out_df = None\n",
    "for chunk in pd.read_csv('madhyamam.csv', chunksize = no_of_urls_to_scrape):\n",
    "    if samples_count == start:\n",
    "        out_df = chunk.copy()\n",
    "        break\n",
    "    samples_count += int(chunk.shape[0])\n",
    "\n",
    "if out_df is not None:\n",
    "    print(\"Output Data:\")\n",
    "    print(out_df.shape)\n",
    "    print(out_df.head())\n",
    "else:\n",
    "    exit('Something went wrong with reading the input data...')"
   ]
  },
  {
   "cell_type": "code",
   "execution_count": 14,
   "id": "2fff42f9",
   "metadata": {
    "execution": {
     "iopub.execute_input": "2023-07-18T07:57:50.978400Z",
     "iopub.status.busy": "2023-07-18T07:57:50.977757Z",
     "iopub.status.idle": "2023-07-18T07:57:50.985300Z",
     "shell.execute_reply": "2023-07-18T07:57:50.983157Z"
    },
    "id": "tCabb6gTMKV_",
    "outputId": "2deee949-2a3f-40dc-b1d1-11c5b09a23af",
    "papermill": {
     "duration": 0.048701,
     "end_time": "2023-07-18T07:57:50.988238",
     "exception": false,
     "start_time": "2023-07-18T07:57:50.939537",
     "status": "completed"
    },
    "tags": []
   },
   "outputs": [
    {
     "name": "stdout",
     "output_type": "stream",
     "text": [
      "https://www.madhyamam.com//kerala/oommen-chandys-cremation-will-be-held-at-puthupally-on-thursday-1182431\n"
     ]
    }
   ],
   "source": [
    "url = out_df['url'][0]\n",
    "print(url)"
   ]
  },
  {
   "cell_type": "markdown",
   "id": "07dcb7e8",
   "metadata": {
    "id": "HP0aHuXAMKWC",
    "papermill": {
     "duration": 0.035557,
     "end_time": "2023-07-18T07:57:51.055795",
     "exception": false,
     "start_time": "2023-07-18T07:57:51.020238",
     "status": "completed"
    },
    "tags": []
   },
   "source": [
    "#### Scrape news content"
   ]
  },
  {
   "cell_type": "code",
   "execution_count": 15,
   "id": "6caf508f",
   "metadata": {
    "execution": {
     "iopub.execute_input": "2023-07-18T07:57:51.117237Z",
     "iopub.status.busy": "2023-07-18T07:57:51.116482Z",
     "iopub.status.idle": "2023-07-18T07:57:51.122949Z",
     "shell.execute_reply": "2023-07-18T07:57:51.121890Z"
    },
    "id": "aA0vgsX1MKWD",
    "papermill": {
     "duration": 0.039867,
     "end_time": "2023-07-18T07:57:51.125805",
     "exception": false,
     "start_time": "2023-07-18T07:57:51.085938",
     "status": "completed"
    },
    "tags": []
   },
   "outputs": [],
   "source": [
    "def find_tag_sequence(element):\n",
    "    parent_elements = []\n",
    "    while element is not None:\n",
    "        p_name = getattr(element, 'name', None)\n",
    "        parent_elements.append(p_name)\n",
    "        element = element.parent\n",
    "\n",
    "        if element.parent is None:\n",
    "            break\n",
    "    return '>'.join(parent_elements[::-1])"
   ]
  },
  {
   "cell_type": "code",
   "execution_count": 16,
   "id": "7d9e78dc",
   "metadata": {
    "execution": {
     "iopub.execute_input": "2023-07-18T07:57:51.197683Z",
     "iopub.status.busy": "2023-07-18T07:57:51.196981Z",
     "iopub.status.idle": "2023-07-18T07:57:51.205321Z",
     "shell.execute_reply": "2023-07-18T07:57:51.204351Z"
    },
    "id": "myBPtZBfMKWE",
    "papermill": {
     "duration": 0.041138,
     "end_time": "2023-07-18T07:57:51.207669",
     "exception": false,
     "start_time": "2023-07-18T07:57:51.166531",
     "status": "completed"
    },
    "tags": []
   },
   "outputs": [],
   "source": [
    "def find_neighbours_and_parent(element):\n",
    "    parent_tag = None\n",
    "    prev_tag = None\n",
    "    next_tag = None\n",
    "    child_tags = None\n",
    "\n",
    "    if element is not None:\n",
    "        #### Next sibling\n",
    "        next_sib = element.find_next_sibling()\n",
    "        if next_sib is not None:\n",
    "            next_tag = getattr(next_sib, 'name', None)\n",
    "\n",
    "        #### Previous sibling\n",
    "        previous_sib = element.find_previous_sibling()\n",
    "        if previous_sib is not None:\n",
    "            prev_tag = getattr(previous_sib, 'name', None)\n",
    "\n",
    "        #### Element parent\n",
    "        if element.parent is not None:\n",
    "            parent = element.parent\n",
    "            parent_tag = getattr(parent, 'name', None)\n",
    "\n",
    "        #### Children\n",
    "        childs = element.find_all(recursive=False)\n",
    "        if childs is not None:\n",
    "            child_tag_names = []\n",
    "            for child in childs:\n",
    "                child_tag_names.append(getattr(child, 'name', None))\n",
    "            child_tags = list(set(child_tag_names.copy()))\n",
    "\n",
    "    return {'next_sibling': next_tag, 'parent_node': parent_tag, 'prev_sibling': prev_tag, 'child_nodes': child_tags}"
   ]
  },
  {
   "cell_type": "code",
   "execution_count": 17,
   "id": "80bd4932",
   "metadata": {
    "execution": {
     "iopub.execute_input": "2023-07-18T07:57:51.263661Z",
     "iopub.status.busy": "2023-07-18T07:57:51.262951Z",
     "iopub.status.idle": "2023-07-18T07:57:51.275294Z",
     "shell.execute_reply": "2023-07-18T07:57:51.274354Z"
    },
    "id": "KIiGC85oMKWF",
    "papermill": {
     "duration": 0.043808,
     "end_time": "2023-07-18T07:57:51.277675",
     "exception": false,
     "start_time": "2023-07-18T07:57:51.233867",
     "status": "completed"
    },
    "tags": []
   },
   "outputs": [],
   "source": [
    "def extract_visual_features(web_element):\n",
    "    features = {\n",
    "        'x': np.nan,\n",
    "        'y': np.nan,\n",
    "        'height': np.nan,\n",
    "        'width': np.nan,\n",
    "        'is_visible': np.nan,\n",
    "        'aria_role': np.nan,\n",
    "        'bgcolor': np.nan,\n",
    "        'font_color': np.nan,\n",
    "        'font_size': np.nan,\n",
    "        'font_style': np.nan,\n",
    "        'font_family': np.nan,\n",
    "    }\n",
    "\n",
    "\n",
    "    try:\n",
    "        loc = web_element.rect\n",
    "        features['x'] = loc.get('x', np.nan)\n",
    "        features['y'] = loc.get('y', np.nan)\n",
    "        features['height'] = loc.get('height', np.nan)\n",
    "        features['width'] = loc.get('width', np.nan)\n",
    "    except:\n",
    "        pass\n",
    "\n",
    "    try:\n",
    "        is_display = web_element.is_displayed()\n",
    "        features['is_visible'] = is_display\n",
    "    except:\n",
    "        pass\n",
    "\n",
    "    try:\n",
    "        aria_role = web_element.aria_role\n",
    "        features['aria_role'] = aria_role\n",
    "    except:\n",
    "        pass\n",
    "\n",
    "    try:\n",
    "        bgcolor = web_element.value_of_css_property('background-color')\n",
    "        bgcolor = [int(val.strip()) for val in bgcolor.replace('rgba(','').replace(')','').split(',') if val.strip()!='']\n",
    "        features['bgcolor'] = bgcolor\n",
    "    except:\n",
    "        pass\n",
    "\n",
    "    try:\n",
    "        font_size = web_element.value_of_css_property('font-size')\n",
    "        features['font_size'] = font_size\n",
    "    except:\n",
    "        pass\n",
    "\n",
    "    try:\n",
    "        font_style = web_element.value_of_css_property('font-style')\n",
    "        features['font_style'] = font_style\n",
    "    except:\n",
    "        pass\n",
    "\n",
    "    try:\n",
    "        font_family = web_element.value_of_css_property('font-family')\n",
    "        features['font_family'] = font_family\n",
    "    except:\n",
    "        pass\n",
    "\n",
    "    try:\n",
    "        font_color = web_element.value_of_css_property('color')\n",
    "        font_color = [int(val.strip()) for val in font_color.replace('rgba(','').replace(')','').split(',') if val.strip()!='']\n",
    "        features['font_color'] = font_color\n",
    "    except:\n",
    "        pass\n",
    "\n",
    "\n",
    "    return features"
   ]
  },
  {
   "cell_type": "code",
   "execution_count": null,
   "id": "85e96f5d",
   "metadata": {
    "id": "i_SoKqdzMKWJ",
    "papermill": {
     "duration": 0.028679,
     "end_time": "2023-07-18T07:57:51.333933",
     "exception": false,
     "start_time": "2023-07-18T07:57:51.305254",
     "status": "completed"
    },
    "tags": []
   },
   "outputs": [],
   "source": []
  },
  {
   "cell_type": "markdown",
   "id": "63d00b77",
   "metadata": {
    "id": "fZEHGWWzMKWN",
    "papermill": {
     "duration": 0.026268,
     "end_time": "2023-07-18T07:57:51.388408",
     "exception": false,
     "start_time": "2023-07-18T07:57:51.362140",
     "status": "completed"
    },
    "tags": []
   },
   "source": [
    "#### Extraction methods"
   ]
  },
  {
   "cell_type": "code",
   "execution_count": 18,
   "id": "8b8511b5",
   "metadata": {
    "execution": {
     "iopub.execute_input": "2023-07-18T07:57:51.444441Z",
     "iopub.status.busy": "2023-07-18T07:57:51.443834Z",
     "iopub.status.idle": "2023-07-18T07:57:51.452153Z",
     "shell.execute_reply": "2023-07-18T07:57:51.451277Z"
    },
    "id": "cfc1vp-3MKWO",
    "papermill": {
     "duration": 0.039515,
     "end_time": "2023-07-18T07:57:51.454528",
     "exception": false,
     "start_time": "2023-07-18T07:57:51.415013",
     "status": "completed"
    },
    "tags": []
   },
   "outputs": [],
   "source": [
    "def extract_title(soup, driver):\n",
    "    try:\n",
    "        #### Title Tag\n",
    "        title = soup.title\n",
    "        features = {}\n",
    "        title_tag = np.nan\n",
    "        if title is not None:\n",
    "            title_tag = str(title)\n",
    "            tag_sequence = ''\n",
    "            try:\n",
    "                tag_sequence = find_tag_sequence(title)\n",
    "            except:\n",
    "                pass\n",
    "            if tag_sequence!='':\n",
    "                features['tag_sequence'] = tag_sequence\n",
    "\n",
    "            neighbours = {}\n",
    "            try:\n",
    "                neighbours = find_neighbours_and_parent(title)\n",
    "            except:\n",
    "                pass\n",
    "            for key, value in neighbours.items():\n",
    "                features[key] = value\n",
    "\n",
    "            visual_features = {}\n",
    "            try:\n",
    "                if driver is not None:\n",
    "                    title = driver.title\n",
    "                    visual_features = extract_visual_features(title)\n",
    "                    for key, value in visual_features.items():\n",
    "                        features[key] = value\n",
    "            except:\n",
    "                pass\n",
    "        else:\n",
    "            title_tag = np.nan\n",
    "\n",
    "        if len(features)>0:\n",
    "            features = json.dumps(features, ensure_ascii=False)\n",
    "        else:\n",
    "            features = np.nan\n",
    "        return title_tag, features\n",
    "    except:\n",
    "        return np.nan, np.nan"
   ]
  },
  {
   "cell_type": "code",
   "execution_count": 19,
   "id": "d702ea5c",
   "metadata": {
    "execution": {
     "iopub.execute_input": "2023-07-18T07:57:51.510293Z",
     "iopub.status.busy": "2023-07-18T07:57:51.509693Z",
     "iopub.status.idle": "2023-07-18T07:57:55.689298Z",
     "shell.execute_reply": "2023-07-18T07:57:55.687180Z"
    },
    "id": "Ix-wdL1JMKWQ",
    "outputId": "48ad75ee-cc89-4da2-b490-b7e63be61bfc",
    "papermill": {
     "duration": 4.211033,
     "end_time": "2023-07-18T07:57:55.692642",
     "exception": false,
     "start_time": "2023-07-18T07:57:51.481609",
     "status": "completed"
    },
    "tags": []
   },
   "outputs": [
    {
     "name": "stdout",
     "output_type": "stream",
     "text": [
      "<title>ഉമ്മൻ ചാണ്ടി ഇനി ജനഹൃദയങ്ങളിൽ; സംസ്‌കാരം വ്യാഴാഴ്ച | Oommen chandy's cremation will be held at Puthupally on Thursday | Madhyamam</title> {\"tag_sequence\": \"html>head>title\", \"next_sibling\": \"link\", \"parent_node\": \"head\", \"prev_sibling\": null, \"child_nodes\": [], \"x\": NaN, \"y\": NaN, \"height\": NaN, \"width\": NaN, \"is_visible\": NaN, \"aria_role\": NaN, \"bgcolor\": NaN, \"font_color\": NaN, \"font_size\": NaN, \"font_style\": NaN, \"font_family\": NaN}\n"
     ]
    }
   ],
   "source": [
    "response=requests.get(url).content\n",
    "soup=BeautifulSoup(response,'html.parser')\n",
    "driver.get(url)\n",
    "title_tag,features=extract_title(soup,driver)\n",
    "print(title_tag,features)"
   ]
  },
  {
   "cell_type": "markdown",
   "id": "b20124e3",
   "metadata": {
    "id": "BhjAD9OgNRjH",
    "papermill": {
     "duration": 0.032613,
     "end_time": "2023-07-18T07:57:55.753409",
     "exception": false,
     "start_time": "2023-07-18T07:57:55.720796",
     "status": "completed"
    },
    "tags": []
   },
   "source": []
  },
  {
   "cell_type": "code",
   "execution_count": 20,
   "id": "5796dc42",
   "metadata": {
    "execution": {
     "iopub.execute_input": "2023-07-18T07:57:55.810321Z",
     "iopub.status.busy": "2023-07-18T07:57:55.809805Z",
     "iopub.status.idle": "2023-07-18T07:57:55.829367Z",
     "shell.execute_reply": "2023-07-18T07:57:55.828382Z"
    },
    "id": "rrv1z8zjMKWR",
    "papermill": {
     "duration": 0.051832,
     "end_time": "2023-07-18T07:57:55.831993",
     "exception": false,
     "start_time": "2023-07-18T07:57:55.780161",
     "status": "completed"
    },
    "tags": []
   },
   "outputs": [],
   "source": [
    "def extract_headline_category_pdate(soup, driver):\n",
    "    try:\n",
    "        #### Headline\n",
    "        headline = np.nan\n",
    "        headline_features = {}\n",
    "\n",
    "        #### Category\n",
    "        category = np.nan\n",
    "        category_features = {}\n",
    "\n",
    "        #### Publish Date\n",
    "        publish_date = np.nan\n",
    "        pdate_features = {}\n",
    "\n",
    "        main_div = soup.find('div', attrs={'class':'pos-rel'})\n",
    "        if main_div is not None:\n",
    "            sub_div = main_div.find('div', attrs={'class':'mdm-content-section-wrap'})\n",
    "            if sub_div is not None:\n",
    "                content_div = sub_div.find('div', attrs={'class':'mdm-blue-box-content'})\n",
    "                if content_div is not None:\n",
    "                    h1 = content_div.find('h1',attrs={'class':'blue-box-paira'})\n",
    "                    if h1 is not None:\n",
    "                        headline = str(h1)\n",
    "\n",
    "                        tag_sequence = ''\n",
    "                        try:\n",
    "                            tag_sequence = find_tag_sequence(h1)\n",
    "                        except:\n",
    "                            pass\n",
    "                        if tag_sequence!='':\n",
    "                            headline_features['tag_sequence'] = tag_sequence\n",
    "\n",
    "                        try:\n",
    "                            neighbours = find_neighbours_and_parent(h1)\n",
    "                        except:\n",
    "                            pass\n",
    "                        for key, value in neighbours.items():\n",
    "                            headline_features[key] = value\n",
    "\n",
    "                    date_div =main_div.find(\"div\",attrs={'class':'mdm-story-date-cover'})\n",
    "                    pdate_div=date_div.find_all(\"span\")\n",
    "                    for pdate in pdate_div:\n",
    "                      if pdate is not None:\n",
    "                          publish_date = str(pdate)\n",
    "\n",
    "                          tag_sequence = ''\n",
    "                          try:\n",
    "                              tag_sequence = find_tag_sequence(pdate)\n",
    "                          except:\n",
    "                              pass\n",
    "                          if tag_sequence!='':\n",
    "                              pdate_features['tag_sequence'] = tag_sequence\n",
    "\n",
    "                          try:\n",
    "                              neighbours = find_neighbours_and_parent(pdate)\n",
    "                          except:\n",
    "                              pass\n",
    "                          for key, value in neighbours.items():\n",
    "                              pdate_features[key] = value\n",
    "            try:\n",
    "                if driver is not None:\n",
    "                    main_div_ = driver.find_element(By.CSS_SELECTOR, 'div.pos-rel')\n",
    "                    if main_div_ is not None:\n",
    "                        sub_div_ = main_div_.find_element(By.CSS_SELECTOR, 'div.mdm-content-section-wrap')\n",
    "                        if sub_div_ is not None:\n",
    "                            content_div_ = sub_div_.find_element(By.CSS_SELECTOR, 'div.mdm-blue-box-content')\n",
    "                            if content_div_ is not None:\n",
    "                                ### Headline\n",
    "                                h1_ = content_div_.find_element(By.CSS_SELECTOR, 'h1.blue-box-paira')\n",
    "                                if h1_ is not None:\n",
    "                                    visual_features = extract_visual_features(h1_)\n",
    "                                    for key, value in visual_features.items():\n",
    "                                        headline_features[key] = value\n",
    "\n",
    "                                date_div_=main_div_.find_element(By.CSS_SELECTOR,\"div.mdm-story-date-cover\")\n",
    "                                pdate_div_=date_div_.find_elements(By.TAG_NAME,\"span\")\n",
    "                                for pdate_ in pdate_div:\n",
    "                                  if pdate_ is not None:\n",
    "                                      visual_features = extract_visual_features(pdate_)\n",
    "                                      for key, value in visual_features.items():\n",
    "                                              pdate_features[key] = value\n",
    "            except:\n",
    "                pass\n",
    "\n",
    "            headline = str(headline)\n",
    "            category = str(category)\n",
    "            publish_date = str(publish_date)\n",
    "        else:\n",
    "            headline = np.nan\n",
    "            category = np.nan\n",
    "            publish_date = np.nan\n",
    "\n",
    "\n",
    "        if len(headline_features)>0:\n",
    "            headline_features = json.dumps(headline_features, ensure_ascii=False)\n",
    "        else:\n",
    "            headline_features = np.nan\n",
    "\n",
    "        if len(category_features)>0:\n",
    "            category_features = json.dumps(category_features, ensure_ascii=False)\n",
    "        else:\n",
    "            category_features = np.nan\n",
    "\n",
    "        if len(pdate_features)>0:\n",
    "            pdate_features = json.dumps(pdate_features, ensure_ascii=False)\n",
    "        else:\n",
    "            pdate_features = np.nan\n",
    "        return headline, headline_features, category, category_features, publish_date, pdate_features\n",
    "    except:\n",
    "        print(\"Except at end\")\n",
    "        return np.nan, np.nan, np.nan, np.nan, np.nan, np.nan"
   ]
  },
  {
   "cell_type": "code",
   "execution_count": 21,
   "id": "dfaa30a1",
   "metadata": {
    "execution": {
     "iopub.execute_input": "2023-07-18T07:57:55.886899Z",
     "iopub.status.busy": "2023-07-18T07:57:55.886467Z",
     "iopub.status.idle": "2023-07-18T07:57:56.759495Z",
     "shell.execute_reply": "2023-07-18T07:57:56.758545Z"
    },
    "id": "RwDbikn3MKWU",
    "outputId": "c8260ac4-e453-4150-f8ca-608aa9571235",
    "papermill": {
     "duration": 0.903029,
     "end_time": "2023-07-18T07:57:56.761813",
     "exception": false,
     "start_time": "2023-07-18T07:57:55.858784",
     "status": "completed"
    },
    "tags": []
   },
   "outputs": [
    {
     "name": "stdout",
     "output_type": "stream",
     "text": [
      "<h1 class=\"blue-box-paira\">ഉമ്മൻ ചാണ്ടി ഇനി ജനഹൃദയങ്ങളിൽ; സംസ്‌കാരം വ്യാഴാഴ്ച</h1> {\"tag_sequence\": \"html>body>div>div>main>div>div>div>div>div>div>div>div>div>div>div>div>div>h1\", \"next_sibling\": \"span\", \"parent_node\": \"div\", \"prev_sibling\": \"div\", \"child_nodes\": [], \"x\": 29.828125, \"y\": 242, \"height\": 26, \"width\": 552, \"is_visible\": true, \"aria_role\": \"heading\", \"bgcolor\": [0, 0, 0, 0], \"font_color\": [255, 255, 255, 1], \"font_size\": \"23.8px\", \"font_style\": \"normal\", \"font_family\": \"\\\"KENZ MDM HEAD online\\\", Roboto, sans-serif\"} nan nan <span class=\"convert-to-localtime\" data-datestring=\"2023-07-18 07:03:13\">18 July 2023 7:03 AM GMT</span> {\"tag_sequence\": \"html>body>div>div>main>div>div>div>div>div>div>div>div>div>div>div>div>div>div>div>div>span>span\", \"next_sibling\": null, \"parent_node\": \"span\", \"prev_sibling\": null, \"child_nodes\": [], \"x\": NaN, \"y\": NaN, \"height\": NaN, \"width\": NaN, \"is_visible\": NaN, \"aria_role\": null, \"bgcolor\": NaN, \"font_color\": NaN, \"font_size\": NaN, \"font_style\": NaN, \"font_family\": NaN}\n"
     ]
    }
   ],
   "source": [
    "# response=requests.get(url).content\n",
    "# soup=BeautifulSoup(response,'html.parser')\n",
    "# driver=webdriver.Chrome(options=chrome_options)\n",
    "driver.get(url)\n",
    "h,hf,cat,catf,pdate,pdatef=extract_headline_category_pdate(soup,driver)\n",
    "print(h,hf,cat,catf,pdate,pdatef)"
   ]
  },
  {
   "cell_type": "code",
   "execution_count": 22,
   "id": "0098b175",
   "metadata": {
    "execution": {
     "iopub.execute_input": "2023-07-18T07:57:56.816524Z",
     "iopub.status.busy": "2023-07-18T07:57:56.815710Z",
     "iopub.status.idle": "2023-07-18T07:57:56.827272Z",
     "shell.execute_reply": "2023-07-18T07:57:56.826043Z"
    },
    "id": "CS_i37gzMKWV",
    "papermill": {
     "duration": 0.041446,
     "end_time": "2023-07-18T07:57:56.829635",
     "exception": false,
     "start_time": "2023-07-18T07:57:56.788189",
     "status": "completed"
    },
    "tags": []
   },
   "outputs": [],
   "source": [
    "def extract_article_content(soup, driver):\n",
    "    try:\n",
    "        #### Article\n",
    "        article_div = soup.find_all('div', attrs={'class': 'story'})\n",
    "        para_list = []\n",
    "        features = []\n",
    "        if article_div is not None:\n",
    "          for i in article_div:\n",
    "              paras = i.find_all('p')\n",
    "              for i in range(len(paras)):\n",
    "                  features.append({})\n",
    "\n",
    "              if paras is not None:\n",
    "                  count = 0\n",
    "                  for para in paras:\n",
    "                      para_list.append(str(para))\n",
    "                      tag_sequence = ''\n",
    "                      try:\n",
    "                          tag_sequence = find_tag_sequence(para)\n",
    "                      except:\n",
    "                          pass\n",
    "                      if tag_sequence != '':\n",
    "                          features[count]['tag_sequence'] = tag_sequence\n",
    "\n",
    "                      neighbours = {}\n",
    "                      try:\n",
    "                          neighbours = find_neighbours_and_parent(para)\n",
    "                      except:\n",
    "                          pass\n",
    "                      for key, value in neighbours.items():\n",
    "                          features[count][key] = value\n",
    "                      count += 1\n",
    "\n",
    "        try:\n",
    "            if driver is not None:\n",
    "                article_divs = driver.find_element(By.CSS_SELECTOR, 'div.story')\n",
    "                if article_divs is not None:\n",
    "                    paras_ = article_divs.find_elements(By.TAG_NAME, 'p')\n",
    "                    if paras_:\n",
    "                            count = 0\n",
    "                            for para_ in paras_:\n",
    "                                visual_features = {}\n",
    "                                try:\n",
    "                                    visual_features = extract_visual_features(para_)\n",
    "                                except:\n",
    "                                    pass\n",
    "                                for key, value in visual_features.items():\n",
    "                                    features[count][key] = value\n",
    "                            count += 1\n",
    "        except:\n",
    "            pass\n",
    "        para_list = json.dumps(para_list, ensure_ascii=False)\n",
    "        features = json.dumps(features, ensure_ascii=False)\n",
    "        return para_list, features\n",
    "    except:\n",
    "        return np.nan, np.nan\n"
   ]
  },
  {
   "cell_type": "code",
   "execution_count": 23,
   "id": "82f70bd5",
   "metadata": {
    "execution": {
     "iopub.execute_input": "2023-07-18T07:57:56.886279Z",
     "iopub.status.busy": "2023-07-18T07:57:56.885844Z",
     "iopub.status.idle": "2023-07-18T07:57:57.943157Z",
     "shell.execute_reply": "2023-07-18T07:57:57.940790Z"
    },
    "id": "AOCNcisiPQxd",
    "outputId": "76026041-0252-4cc2-e693-bc65b697fc7a",
    "papermill": {
     "duration": 1.089814,
     "end_time": "2023-07-18T07:57:57.946013",
     "exception": false,
     "start_time": "2023-07-18T07:57:56.856199",
     "status": "completed"
    },
    "tags": []
   },
   "outputs": [
    {
     "name": "stdout",
     "output_type": "stream",
     "text": [
      "[\"<p>തിരുവനന്തപുരം: അന്തരിച്ച മുൻ മുഖ്യമന്ത്രിയും കോൺഗ്രസിന്‍റെ സമുന്നത നേതാവുമായ ഉമ്മൻ ചാണ്ടിയുടെ സംസ്‌കാരം വ്യാഴാഴ്ച ഉച്ചക്ക് രണ്ടുമണിക്ക് പുതുപ്പള്ളി പള്ളിയിൽ നടക്കും. മൃതദേഹം ഇന്ന് ഉച്ചക്ക് രണ്ടുമണിയോടെ തിരുവനന്തപുരത്ത് എത്തിക്കും. ബംഗളൂരുവിൽ നിന്ന് പ്രത്യേക വിമാനത്തിലായിരിക്കും തിരുവനന്തപുരത്ത് എത്തിക്കുക. ബംഗളുരുവിൽ ഉമ്മൻ ചാണ്ടി താമസിച്ചിരുന്ന ഇന്ദിരാനഗറിലെ വസതിയിൽ പൊതുദർശനത്തിന് ശേഷമാണ് തിരുവനന്തപുരത്തേക്ക് കൊണ്ടുവരുന്നത്. </p>\", \"<p>അവിടെനിന്ന് തിരുവനന്തപുരത്തെ വസതിയിലേക്ക് കൊണ്ടുപോകും. പിന്നീട് സെക്രട്ടറിയേറ്റിലെ ദർബാർഹാളിൽ പൊതുദർശനത്തിന് വെക്കും. തുടർന്ന് വൈകുന്നേരത്തോട് കൂടി സെക്രട്ടറിയേറ്റിന് സമീപത്തെ സെന്റ് ജോർജ് ഓർത്തഡോക്‌സ് കത്ത്രീഡലിൽ പൊതുദർശനത്തിന് വെക്കും. ശേഷം കെ.പി.സി.സി ഓഫിസിലും പൊതുദർശനമുണ്ടാകും. </p>\", \"<p> </p>\", \"<p>ബുധനാഴ്ച രാവിലെ ഏഴുമണിക്ക് വിലാപയാത്രയായി തിരുവനന്തപുരത്തെ വീട്ടിൽ നിന്ന് കോട്ടയത്തേക്ക് പുറപ്പെടും. കോട്ടയം തിരുനക്കര മൈതാനത്ത് പൊതുദർശനത്തിന് വെച്ച ശേഷം രാത്രിയോട് കൂടി പുതുപ്പള്ളിയിലേക്ക് കൊണ്ടുപോകും. വ്യാഴാഴ്ച ഉച്ചക്ക് രണ്ടുമണിക്കായിരിക്കും സംസ്‌കാരചടങ്ങുകൾ നടക്കുകയെന്നും പ്രതിപക്ഷനേതാവ് വി.ഡി. സതീശൻ മാധ്യമങ്ങളെ അറിയിച്ചു. </p>\", \"<p> ചൊവ്വാഴ്ച പുലർച്ചെ 4.25ന് ബെംഗളൂരു ചിന്മയ മിഷന്‍ ആശുപത്രിയിലായിരുന്നു അന്ത്യം. കാൻസർ ബാധിച്ച് ഏറെക്കാലമായി ചികിത്സയിലായിരുന്നു. ഉമ്മൻ ചാണ്ടിയുടെ നിര്യാണത്തിൽ അനുശോചിച്ച് സംസ്ഥാനത്ത് ഇന്ന് സർക്കാർ പൊതു അവധി പ്രഖ്യാപിച്ചു. രണ്ടു ദിവസത്തെ ഔദ്യോഗിക ദുഃഖാചരണത്തിനും ആഹ്വാനം ചെയ്തു. </p>\"] [{\"tag_sequence\": \"html>body>div>div>main>div>div>div>div>div>div>div>div>div>div>div>div>div>div>div>div>div>div>div>div>div>p\", \"next_sibling\": \"div\", \"parent_node\": \"div\", \"prev_sibling\": null, \"child_nodes\": [], \"x\": 27.828125, \"y\": 2193.234375, \"height\": 117, \"width\": 736, \"is_visible\": true, \"aria_role\": \"paragraph\", \"bgcolor\": [0, 0, 0, 0], \"font_color\": [68, 68, 68, 1], \"font_size\": \"18.2px\", \"font_style\": \"normal\", \"font_family\": \"Roboto, \\\"KENZ MDM body online\\\"\"}, {\"tag_sequence\": \"html>body>div>div>main>div>div>div>div>div>div>div>div>div>div>div>div>div>div>div>div>div>div>div>div>div>p\", \"next_sibling\": \"div\", \"parent_node\": \"div\", \"prev_sibling\": \"div\", \"child_nodes\": []}, {\"tag_sequence\": \"html>body>div>div>main>div>div>div>div>div>div>div>div>div>div>div>div>div>div>div>div>div>div>div>div>div>p\", \"next_sibling\": \"p\", \"parent_node\": \"div\", \"prev_sibling\": \"div\", \"child_nodes\": []}, {\"tag_sequence\": \"html>body>div>div>main>div>div>div>div>div>div>div>div>div>div>div>div>div>div>div>div>div>div>div>div>div>p\", \"next_sibling\": \"p\", \"parent_node\": \"div\", \"prev_sibling\": \"p\", \"child_nodes\": []}, {\"tag_sequence\": \"html>body>div>div>main>div>div>div>div>div>div>div>div>div>div>div>div>div>div>div>div>div>div>div>div>div>p\", \"next_sibling\": null, \"parent_node\": \"div\", \"prev_sibling\": \"p\", \"child_nodes\": []}]\n"
     ]
    }
   ],
   "source": [
    "# response=requests.get(url).content\n",
    "# soup=BeautifulSoup(response,\"html.parser\")\n",
    "# driver=webdriver.Chrome(options=chrome_options)\n",
    "driver.get(url)\n",
    "p_list,features=extract_article_content(soup,driver)\n",
    "print(p_list,features)"
   ]
  },
  {
   "cell_type": "code",
   "execution_count": 24,
   "id": "c760e3b0",
   "metadata": {
    "execution": {
     "iopub.execute_input": "2023-07-18T07:57:58.004049Z",
     "iopub.status.busy": "2023-07-18T07:57:58.003661Z",
     "iopub.status.idle": "2023-07-18T07:57:58.016533Z",
     "shell.execute_reply": "2023-07-18T07:57:58.015658Z"
    },
    "id": "vibJ5LNsMKWX",
    "papermill": {
     "duration": 0.044299,
     "end_time": "2023-07-18T07:57:58.018497",
     "exception": false,
     "start_time": "2023-07-18T07:57:57.974198",
     "status": "completed"
    },
    "tags": []
   },
   "outputs": [],
   "source": [
    "def extract_images(soup, driver):\n",
    "    try:\n",
    "        image = None\n",
    "        features = {}\n",
    "\n",
    "        #### Images\n",
    "        main_div = soup.find('div', attrs={'class':'story-white-box-content'})\n",
    "        if main_div is not None:\n",
    "            sub_div = main_div.find('div', attrs={'class':'master-image-wrap single-image'})\n",
    "            if sub_div is not None:\n",
    "                content_div = sub_div.find('div', attrs={'class':'img-and-ad-wrap'})\n",
    "                if content_div is not None:\n",
    "                    images = content_div.find('img')\n",
    "                    if images is not None:\n",
    "\n",
    "                        image = str(images)\n",
    "                        match = re.search(r'<img.*?>', image)\n",
    "                        if match is not None:\n",
    "                            image = image[match.span()[0]:match.span()[1]]\n",
    "\n",
    "                        tag_sequence = ''\n",
    "                        try:\n",
    "                            tag_sequence = find_tag_sequence(images)\n",
    "                        except:\n",
    "                            pass\n",
    "                        if tag_sequence!='':\n",
    "                            features['tag_sequence'] = tag_sequence\n",
    "\n",
    "                        neighbours = {}\n",
    "                        try:\n",
    "                            neighbours = find_neighbours_and_parent(images)\n",
    "                        except:\n",
    "                            pass\n",
    "                        for key, value in neighbours.items():\n",
    "                            features[key] = value\n",
    "\n",
    "            if driver is not None:\n",
    "                main_div_ = driver.find_element(By.CSS_SELECTOR, 'div.story-white-box-content')\n",
    "                if main_div_ is not None:\n",
    "                    sub_div_ = main_div_.find_element(By.CSS_SELECTOR, 'div.master-image-wrap')\n",
    "                    if sub_div_ is not None:\n",
    "                        content_div_ = sub_div_.find_element(By.CSS_SELECTOR, 'div.img-and-ad-wrap')\n",
    "                        if content_div_ is not None:\n",
    "                            images_ = content_div_.find_element(By.TAG_NAME, 'img')\n",
    "                            if images_ is not None:\n",
    "                                visual_features = {}\n",
    "                                try:\n",
    "                                    visual_features = extract_visual_features(images_)\n",
    "                                except:\n",
    "                                    pass\n",
    "                                for key, value in visual_features.items():\n",
    "                                    features[key] = value\n",
    "\n",
    "            image = str(image)\n",
    "        else:\n",
    "            image = np.nan\n",
    "\n",
    "        if len(features)>0:\n",
    "            features = json.dumps(features, ensure_ascii=False)\n",
    "        else:\n",
    "            features = np.nan\n",
    "\n",
    "        return image, features\n",
    "    except Exception as e:\n",
    "#         print(\"Exception (img): \", e)\n",
    "        return np.nan, np.nan"
   ]
  },
  {
   "cell_type": "code",
   "execution_count": 25,
   "id": "eb8ec11d",
   "metadata": {
    "execution": {
     "iopub.execute_input": "2023-07-18T07:57:58.075984Z",
     "iopub.status.busy": "2023-07-18T07:57:58.074951Z",
     "iopub.status.idle": "2023-07-18T07:57:58.885013Z",
     "shell.execute_reply": "2023-07-18T07:57:58.883460Z"
    },
    "id": "kWD0wGFDTa2y",
    "outputId": "205f3add-e954-4794-bb8e-52a756cb417d",
    "papermill": {
     "duration": 0.841672,
     "end_time": "2023-07-18T07:57:58.887333",
     "exception": false,
     "start_time": "2023-07-18T07:57:58.045661",
     "status": "completed"
    },
    "tags": []
   },
   "outputs": [
    {
     "name": "stdout",
     "output_type": "stream",
     "text": [
      "<img alt=\"oommen chandy\" data-class=\"h-custom-image\" src=\"https://www.madhyamam.com/h-upload/2023/07/18/2025102-oommen-chandy-786565.webp\" title=\"oommen chandy\"> {\"tag_sequence\": \"html>body>div>div>main>div>div>div>div>div>div>div>div>div>div>div>div>div>div>div>div>div>div>img\", \"next_sibling\": null, \"parent_node\": \"div\", \"prev_sibling\": null, \"child_nodes\": [\"div\"], \"x\": 27.828125, \"y\": 362.1875, \"height\": 442, \"width\": 736, \"is_visible\": true, \"aria_role\": \"img\", \"bgcolor\": [0, 0, 0, 0], \"font_color\": [0, 0, 0, 1], \"font_size\": \"14px\", \"font_style\": \"normal\", \"font_family\": \"Roboto, \\\"KENZ MDM body online\\\", sans-serif\"}\n"
     ]
    }
   ],
   "source": [
    "# response=requests.get(url).content\n",
    "# soup=BeautifulSoup(response,\"html.parser\")\n",
    "# driver=webdriver.Chrome(options=chrome_options)\n",
    "driver.get(url)\n",
    "img,imgf=extract_images(soup,driver)\n",
    "print(img,imgf)"
   ]
  },
  {
   "cell_type": "code",
   "execution_count": 26,
   "id": "a09153df",
   "metadata": {
    "execution": {
     "iopub.execute_input": "2023-07-18T07:57:58.943352Z",
     "iopub.status.busy": "2023-07-18T07:57:58.942986Z",
     "iopub.status.idle": "2023-07-18T07:57:58.954697Z",
     "shell.execute_reply": "2023-07-18T07:57:58.953599Z"
    },
    "id": "kgJWMgSCMKWZ",
    "papermill": {
     "duration": 0.042731,
     "end_time": "2023-07-18T07:57:58.957018",
     "exception": false,
     "start_time": "2023-07-18T07:57:58.914287",
     "status": "completed"
    },
    "tags": []
   },
   "outputs": [],
   "source": [
    "def extract_tags(soup, driver):\n",
    "    try:\n",
    "        #### Tags\n",
    "        main_div=soup.find('div',attrs={'class':'story-bottom-tags'})\n",
    "        anchors = main_div.find_all('a')\n",
    "        tags_list = []\n",
    "        features = []\n",
    "        if anchors is not None:\n",
    "            for count in range(len(anchors)):\n",
    "                features.append({})\n",
    "\n",
    "                anchor = anchors[count]\n",
    "                tags_list.append(str(anchor))\n",
    "\n",
    "                tag_sequence = ''\n",
    "                try:\n",
    "                    tag_sequence = find_tag_sequence(anchor)\n",
    "                except:\n",
    "                    pass\n",
    "                if tag_sequence!='':\n",
    "                    features[count]['tag_sequence'] = tag_sequence\n",
    "\n",
    "                neighbours = {}\n",
    "                try:\n",
    "                    neighbours = find_neighbours_and_parent(anchor)\n",
    "                except:\n",
    "                    pass\n",
    "                for key, value in neighbours.items():\n",
    "                    features[count][key] = value\n",
    "\n",
    "            if driver is not None:\n",
    "                main_div_= driver.find_element(By.CSS_SELECTOR, 'div.story-bottom-tags')\n",
    "                anchors_=main_div_.find_elements(By.TAG_NAME,'a')\n",
    "                if anchors_ is not None:\n",
    "                    count = 0\n",
    "                    for anchor_ in anchors_:\n",
    "\n",
    "                        visual_features = {}\n",
    "                        try:\n",
    "                            visual_features = extract_visual_features(anchor_)\n",
    "                        except:\n",
    "                            pass\n",
    "\n",
    "                        for key, value in visual_features.items():\n",
    "                            features[count][key] = value\n",
    "                        count += 1\n",
    "\n",
    "            tags_list = json.dumps(tags_list, ensure_ascii=False)\n",
    "        else:\n",
    "            tags_list = np.nan\n",
    "\n",
    "\n",
    "        if len(features)>0:\n",
    "            features = json.dumps(features, ensure_ascii=False)\n",
    "        else:\n",
    "            features = np.nan\n",
    "        return tags_list, features\n",
    "    except Exception as e:\n",
    "        return np.nan, np.nan"
   ]
  },
  {
   "cell_type": "code",
   "execution_count": 27,
   "id": "10bc03c8",
   "metadata": {
    "execution": {
     "iopub.execute_input": "2023-07-18T07:57:59.017117Z",
     "iopub.status.busy": "2023-07-18T07:57:59.016735Z",
     "iopub.status.idle": "2023-07-18T07:57:59.805769Z",
     "shell.execute_reply": "2023-07-18T07:57:59.804527Z"
    },
    "id": "gBhh448_MKWa",
    "outputId": "47b8be31-8d35-42bb-dbbd-a154074d0002",
    "papermill": {
     "duration": 0.821067,
     "end_time": "2023-07-18T07:57:59.808659",
     "exception": false,
     "start_time": "2023-07-18T07:57:58.987592",
     "status": "completed"
    },
    "tags": []
   },
   "outputs": [
    {
     "name": "stdout",
     "output_type": "stream",
     "text": [
      "[\"<a class=\\\"tg\\\" href=\\\"https://www.madhyamam.com/tags/oommen-chandy\\\">oommen chandy</a>\", \"<a class=\\\"tg\\\" href=\\\"https://www.madhyamam.com/tags/oommen-chandy-passed-away\\\">Oommen Chandy Passed Away</a>\"] [{\"tag_sequence\": \"html>body>div>div>main>div>div>div>div>div>div>div>div>div>div>div>div>div>div>div>div>div>div>div>div>a\", \"next_sibling\": \"a\", \"parent_node\": \"div\", \"prev_sibling\": \"span\", \"child_nodes\": [], \"x\": 73.828125, \"y\": 2362.734375, \"height\": 26, \"width\": 106, \"is_visible\": true, \"aria_role\": \"link\", \"bgcolor\": [222, 222, 222, 1], \"font_color\": [0, 0, 0, 1], \"font_size\": \"12px\", \"font_style\": \"normal\", \"font_family\": \"Roboto, \\\"KENZ MDM body online\\\", sans-serif\"}, {\"tag_sequence\": \"html>body>div>div>main>div>div>div>div>div>div>div>div>div>div>div>div>div>div>div>div>div>div>div>div>a\", \"next_sibling\": null, \"parent_node\": \"div\", \"prev_sibling\": \"a\", \"child_nodes\": [], \"x\": 184.828125, \"y\": 2362.734375, \"height\": 26, \"width\": 185, \"is_visible\": true, \"aria_role\": \"link\", \"bgcolor\": [222, 222, 222, 1], \"font_color\": [0, 0, 0, 1], \"font_size\": \"12px\", \"font_style\": \"normal\", \"font_family\": \"Roboto, \\\"KENZ MDM body online\\\", sans-serif\"}]\n"
     ]
    }
   ],
   "source": [
    "# response=requests.get(url).content\n",
    "# soup=BeautifulSoup(response,)\n",
    "driver.get(url)\n",
    "l,f=extract_tags(soup,driver)\n",
    "print(l,f)"
   ]
  },
  {
   "cell_type": "code",
   "execution_count": null,
   "id": "7a426520",
   "metadata": {
    "id": "Bfr_C5x2MKWb",
    "papermill": {
     "duration": 0.026965,
     "end_time": "2023-07-18T07:57:59.862324",
     "exception": false,
     "start_time": "2023-07-18T07:57:59.835359",
     "status": "completed"
    },
    "tags": []
   },
   "outputs": [],
   "source": []
  },
  {
   "cell_type": "code",
   "execution_count": 28,
   "id": "a06766ee",
   "metadata": {
    "execution": {
     "iopub.execute_input": "2023-07-18T07:57:59.920795Z",
     "iopub.status.busy": "2023-07-18T07:57:59.919729Z",
     "iopub.status.idle": "2023-07-18T07:57:59.930258Z",
     "shell.execute_reply": "2023-07-18T07:57:59.929465Z"
    },
    "id": "mbaIZS5OMKWc",
    "papermill": {
     "duration": 0.042309,
     "end_time": "2023-07-18T07:57:59.932675",
     "exception": false,
     "start_time": "2023-07-18T07:57:59.890366",
     "status": "completed"
    },
    "tags": []
   },
   "outputs": [],
   "source": [
    "def scrape_news_contents(source_code, url, sample_id, driver=None):\n",
    "    soup = BeautifulSoup(source_code, 'html.parser')\n",
    "\n",
    "    article = {\n",
    "    \t'url': url,\n",
    "        'sample_id': sample_id,\n",
    "        'title': np.nan,\n",
    "        'title_features': np.nan,\n",
    "        'headline': np.nan,\n",
    "        'headline_features': np.nan,\n",
    "        'category': np.nan,\n",
    "        'category_features': np.nan,\n",
    "        'publish_date': np.nan,\n",
    "        'publish_date_features': np.nan,\n",
    "        'article': np.nan,\n",
    "        'article_features': np.nan,\n",
    "        'images': np.nan,\n",
    "        'images_features': np.nan,\n",
    "        'tags': np.nan,\n",
    "        'tags_features': np.nan,\n",
    "        'source': soup,\n",
    "    }\n",
    "\n",
    "    title_tag, title_features = extract_title(soup, driver)\n",
    "    article['title'] = title_tag\n",
    "    article['title_features'] = title_features\n",
    "\n",
    "    headline, headline_features, category, category_features, publish_date, date_features = extract_headline_category_pdate(soup, driver)\n",
    "    article['headline'] = headline\n",
    "    article['headline_features'] = headline_features\n",
    "\n",
    "    article['category'] = category\n",
    "    article['category_features'] = category_features\n",
    "\n",
    "    article['publish_date'] = publish_date\n",
    "    article['publish_date_features'] = date_features\n",
    "\n",
    "    content, article_features = extract_article_content(soup, driver)\n",
    "    article['article'] = content\n",
    "    article['article_features'] = article_features\n",
    "\n",
    "    images, images_features = extract_images(soup,driver)\n",
    "    article['images'] = images\n",
    "    article['images_features'] = images_features\n",
    "\n",
    "    tags, tags_features = extract_tags(soup, driver)\n",
    "    article['tags'] = tags\n",
    "    article['tags_features'] = tags_features\n",
    "\n",
    "    return article"
   ]
  },
  {
   "cell_type": "code",
   "execution_count": 29,
   "id": "65ccf5c9",
   "metadata": {
    "execution": {
     "iopub.execute_input": "2023-07-18T07:57:59.991821Z",
     "iopub.status.busy": "2023-07-18T07:57:59.991124Z",
     "iopub.status.idle": "2023-07-18T07:58:04.234026Z",
     "shell.execute_reply": "2023-07-18T07:58:04.233089Z"
    },
    "id": "LtEjRvW3MKWd",
    "papermill": {
     "duration": 4.275796,
     "end_time": "2023-07-18T07:58:04.236904",
     "exception": false,
     "start_time": "2023-07-18T07:57:59.961108",
     "status": "completed"
    },
    "tags": []
   },
   "outputs": [],
   "source": [
    "response=requests.get(url).content\n",
    "# soup=BeautifulSoup(response,\"html.parser\")\n",
    "driver=webdriver.Chrome(options=chrome_options)\n",
    "driver.get(url)\n",
    "article=scrape_news_contents(response,url,1,driver)\n",
    "# print(article)"
   ]
  },
  {
   "cell_type": "code",
   "execution_count": null,
   "id": "52560324",
   "metadata": {
    "id": "Loa_lPmsMKWe",
    "papermill": {
     "duration": 0.02688,
     "end_time": "2023-07-18T07:58:04.291154",
     "exception": false,
     "start_time": "2023-07-18T07:58:04.264274",
     "status": "completed"
    },
    "tags": []
   },
   "outputs": [],
   "source": []
  },
  {
   "cell_type": "code",
   "execution_count": 30,
   "id": "c09b2921",
   "metadata": {
    "execution": {
     "iopub.execute_input": "2023-07-18T07:58:04.348130Z",
     "iopub.status.busy": "2023-07-18T07:58:04.347458Z",
     "iopub.status.idle": "2023-07-18T07:58:04.361301Z",
     "shell.execute_reply": "2023-07-18T07:58:04.360360Z"
    },
    "id": "sNkvv9NlMKWe",
    "papermill": {
     "duration": 0.046811,
     "end_time": "2023-07-18T07:58:04.365073",
     "exception": false,
     "start_time": "2023-07-18T07:58:04.318262",
     "status": "completed"
    },
    "tags": []
   },
   "outputs": [],
   "source": [
    "def scrape_misc_contents(source_code, article, driver=None):\n",
    "    misc_content = []\n",
    "    misc_features = []\n",
    "\n",
    "    try:\n",
    "        ### Extracting the article features from the json to remove from misc content (leaf nodes)\n",
    "        article_fields = []\n",
    "        for field in SINGLE_ENTRIES:\n",
    "            article_fields.append(article[field])\n",
    "\n",
    "        for field in MULTIPLE_ENTRIES:\n",
    "            entries = article[field]\n",
    "            if type(entries)==str:\n",
    "                entries = json.loads(entries)\n",
    "                for entry in entries:\n",
    "                    article_fields.append(entry)\n",
    "\n",
    "\n",
    "        ### Extracting all leaf nodes from the soup object and removing the noisy tags, article fields\n",
    "        all_leaf_nodes = []\n",
    "        leaf_node_features = []\n",
    "        soup = BeautifulSoup(source_code, 'html.parser')\n",
    "        body = soup.find('body')\n",
    "        for child in body.recursiveChildGenerator():\n",
    "            name = getattr(child, \"name\", None)\n",
    "            if name is None:\n",
    "                if not child.isspace(): # leaf node, don't print spaces\n",
    "                    p_name = getattr(child.parent, 'name', None)\n",
    "                    if p_name is not None and p_name not in EXCLUDE_TAGS and str(child.parent) not in article_fields:\n",
    "                        entry = {}\n",
    "                        entry['misc_features'] = {}\n",
    "                        entry['misc_features']['tag_sequence'] = find_tag_sequence(child.parent)\n",
    "                        neighbours = find_neighbours_and_parent(child.parent)\n",
    "                        for key, value in neighbours.items():\n",
    "                            entry['misc_features'][key] = value\n",
    "\n",
    "                        all_leaf_nodes.append(str(child.parent))\n",
    "                        leaf_node_features.append(entry)\n",
    "\n",
    "\n",
    "        ### Extracting the features for the leaf nodes (only for soup leaf nodes from above) using selenium\n",
    "        leaf_node_selenium_features = {}\n",
    "        if driver is not None:\n",
    "            body_element = driver.find_element(By.TAG_NAME, 'body')\n",
    "            if body_element is not None:\n",
    "                childs = body_element.find_elements(By.XPATH,\".//*\")\n",
    "                for child in childs:\n",
    "                    try:\n",
    "                        html_content = child.get_attribute('outerHTML')\n",
    "                        if html_content in all_leaf_nodes:\n",
    "                            index = all_leaf_nodes.index(html_content)\n",
    "                            leaf_node_selenium_features[index] = extract_visual_features(child)\n",
    "                    except:\n",
    "                        pass\n",
    "\n",
    "\n",
    "        ### Combining the features of soup and selenium\n",
    "        for index, tag_html in enumerate(all_leaf_nodes):\n",
    "            sel_feature = leaf_node_selenium_features.get(index, None)\n",
    "            if sel_feature is not None:\n",
    "                if len(sel_feature)>0:\n",
    "                    for key, value in sel_feature.items():\n",
    "                        leaf_node_features[index]['misc_features'][key] = value\n",
    "\n",
    "            misc_content.append(all_leaf_nodes[index])\n",
    "            misc_features.append(json.dumps(leaf_node_features[index].get('misc_features', {})))\n",
    "    except Exception as e:\n",
    "        print(\"Exception in misc: \", e)\n",
    "        pass\n",
    "\n",
    "    return misc_content, misc_features"
   ]
  },
  {
   "cell_type": "code",
   "execution_count": null,
   "id": "3a138c9e",
   "metadata": {
    "id": "DiGiy9mFMKWg",
    "papermill": {
     "duration": 0.027724,
     "end_time": "2023-07-18T07:58:04.421206",
     "exception": false,
     "start_time": "2023-07-18T07:58:04.393482",
     "status": "completed"
    },
    "tags": []
   },
   "outputs": [],
   "source": []
  },
  {
   "cell_type": "markdown",
   "id": "b7d2825b",
   "metadata": {
    "id": "l0KKVVMGMKWh",
    "papermill": {
     "duration": 0.02691,
     "end_time": "2023-07-18T07:58:04.474959",
     "exception": false,
     "start_time": "2023-07-18T07:58:04.448049",
     "status": "completed"
    },
    "tags": []
   },
   "source": [
    "#### Crawling the links"
   ]
  },
  {
   "cell_type": "code",
   "execution_count": 31,
   "id": "3c99e3f0",
   "metadata": {
    "execution": {
     "iopub.execute_input": "2023-07-18T07:58:04.531908Z",
     "iopub.status.busy": "2023-07-18T07:58:04.531074Z",
     "iopub.status.idle": "2023-07-18T07:58:04.539872Z",
     "shell.execute_reply": "2023-07-18T07:58:04.538259Z"
    },
    "id": "rMCr9jp9MKWi",
    "outputId": "3a297235-82e0-4c35-b18f-cfb38ecebb8b",
    "papermill": {
     "duration": 0.040546,
     "end_time": "2023-07-18T07:58:04.542300",
     "exception": false,
     "start_time": "2023-07-18T07:58:04.501754",
     "status": "completed"
    },
    "tags": []
   },
   "outputs": [
    {
     "data": {
      "text/plain": [
       "['url',\n",
       " 'sample_id',\n",
       " 'title',\n",
       " 'title_features',\n",
       " 'headline',\n",
       " 'headline_features',\n",
       " 'category',\n",
       " 'category_features',\n",
       " 'publish_date',\n",
       " 'publish_date_features',\n",
       " 'article',\n",
       " 'article_features',\n",
       " 'images',\n",
       " 'images_features',\n",
       " 'tags',\n",
       " 'tags_features',\n",
       " 'source']"
      ]
     },
     "execution_count": 31,
     "metadata": {},
     "output_type": "execute_result"
    }
   ],
   "source": [
    "column_names = [\n",
    "    'url', 'sample_id', 'title', 'title_features', 'headline',\n",
    "    'headline_features', 'category', 'category_features', 'publish_date',\n",
    "    'publish_date_features', 'article', 'article_features', 'images', 'images_features',\n",
    "    'tags', 'tags_features', 'source'\n",
    "]\n",
    "column_names"
   ]
  },
  {
   "cell_type": "code",
   "execution_count": 32,
   "id": "9b5b7090",
   "metadata": {
    "execution": {
     "iopub.execute_input": "2023-07-18T07:58:04.614726Z",
     "iopub.status.busy": "2023-07-18T07:58:04.614311Z",
     "iopub.status.idle": "2023-07-18T07:58:04.620275Z",
     "shell.execute_reply": "2023-07-18T07:58:04.618813Z"
    },
    "id": "QLI0wEpXMKW3",
    "papermill": {
     "duration": 0.049297,
     "end_time": "2023-07-18T07:58:04.622446",
     "exception": false,
     "start_time": "2023-07-18T07:58:04.573149",
     "status": "completed"
    },
    "tags": []
   },
   "outputs": [],
   "source": [
    "SINGLE_ENTRIES = ['title', 'headline', 'category', 'publish_date', 'images']\n",
    "MULTIPLE_ENTRIES = ['article', 'tags']\n",
    "EXCLUDE_TAGS = ['script', 'style', 'header', 'footer', 'iframe', 'formgroup', 'form']"
   ]
  },
  {
   "cell_type": "code",
   "execution_count": 33,
   "id": "6e1ae388",
   "metadata": {
    "execution": {
     "iopub.execute_input": "2023-07-18T07:58:04.679621Z",
     "iopub.status.busy": "2023-07-18T07:58:04.678392Z",
     "iopub.status.idle": "2023-07-18T07:58:04.685697Z",
     "shell.execute_reply": "2023-07-18T07:58:04.684605Z"
    },
    "id": "niQW7vQzMKW5",
    "outputId": "cfe8d579-4a9b-4898-a5dc-c218953e3540",
    "papermill": {
     "duration": 0.038382,
     "end_time": "2023-07-18T07:58:04.688345",
     "exception": false,
     "start_time": "2023-07-18T07:58:04.649963",
     "status": "completed"
    },
    "tags": []
   },
   "outputs": [
    {
     "data": {
      "text/plain": [
       "('./madhyamam0_50.csv', './madhyamam0_50_misc.csv')"
      ]
     },
     "execution_count": 33,
     "metadata": {},
     "output_type": "execute_result"
    }
   ],
   "source": [
    "output_file_name = './madhyamam{}_{}.csv'.format(start, end)\n",
    "output_file_name_misc = './madhyamam{}_{}_misc.csv'.format(start, end)\n",
    "output_file_name, output_file_name_misc"
   ]
  },
  {
   "cell_type": "code",
   "execution_count": null,
   "id": "2cfa2c4f",
   "metadata": {
    "id": "hdYcmcjRMKW7",
    "papermill": {
     "duration": 0.028085,
     "end_time": "2023-07-18T07:58:04.744101",
     "exception": false,
     "start_time": "2023-07-18T07:58:04.716016",
     "status": "completed"
    },
    "tags": []
   },
   "outputs": [],
   "source": []
  },
  {
   "cell_type": "code",
   "execution_count": 34,
   "id": "af809ce8",
   "metadata": {
    "execution": {
     "iopub.execute_input": "2023-07-18T07:58:04.804773Z",
     "iopub.status.busy": "2023-07-18T07:58:04.804072Z",
     "iopub.status.idle": "2023-07-18T11:00:12.201087Z",
     "shell.execute_reply": "2023-07-18T11:00:12.199568Z"
    },
    "id": "ku4kKS1FMKW9",
    "outputId": "92590242-c1f8-49bf-a815-121f70e51119",
    "papermill": {
     "duration": 10927.429919,
     "end_time": "2023-07-18T11:00:12.204183",
     "exception": false,
     "start_time": "2023-07-18T07:58:04.774264",
     "status": "completed"
    },
    "tags": []
   },
   "outputs": [
    {
     "name": "stdout",
     "output_type": "stream",
     "text": [
      "Extracting the contents from the source\n"
     ]
    },
    {
     "name": "stderr",
     "output_type": "stream",
     "text": [
      " 84%|████████▍ | 42/50 [2:27:11<21:10, 158.86s/it]"
     ]
    },
    {
     "name": "stdout",
     "output_type": "stream",
     "text": [
      "Status Code:  404\n"
     ]
    },
    {
     "name": "stderr",
     "output_type": "stream",
     "text": [
      "100%|██████████| 50/50 [3:02:04<00:00, 218.50s/it]\n"
     ]
    },
    {
     "name": "stdout",
     "output_type": "stream",
     "text": [
      "Saving the pandas data frame\n"
     ]
    }
   ],
   "source": [
    "print(\"Extracting the contents from the source\")\n",
    "final_data = []\n",
    "final_misc_content = []\n",
    "final_misc_features = []\n",
    "\n",
    "for i in tqdm(range(start, start + min(end, out_df.shape[0]))):\n",
    "    url = out_df['url'][i]\n",
    "    sample_id = i\n",
    "\n",
    "    try:\n",
    "        response = requests.get(url)\n",
    "        if response.status_code==200:\n",
    "            driver.get(url)\n",
    "            article = scrape_news_contents(response.content, url, sample_id, driver)\n",
    "            final_data.append(article)\n",
    "            misc_content, misc_features = scrape_misc_contents(response.content, article, driver)\n",
    "#             print(\"misc Len: \", len(misc_content))\n",
    "#             print(\"misc Feat: \", len(misc_features))\n",
    "\n",
    "            for i in range(len(misc_content)):\n",
    "                if misc_content[i] not in final_misc_content:\n",
    "                    final_misc_content.append(misc_content[i])\n",
    "                    final_misc_features.append(misc_features[i])\n",
    "#             print(\"Misc Len: \", len(final_misc_content))\n",
    "#             print(\"Feat Len: \", len(final_misc_features))\n",
    "\n",
    "        else:\n",
    "            print(\"Status Code: \", response.status_code)\n",
    "    except Exception as e:\n",
    "        print(\"Exception: \", e)\n",
    "        driver = webdriver.Chrome(options = chrome_options)\n",
    "\n",
    "\n",
    "    if (i+1)%100 == 0:\n",
    "        print(\"Saving the checkpoint at {}\".format((i+1)/100))\n",
    "        df = pd.DataFrame(final_data, columns=column_names)\n",
    "        df.to_csv(output_file_name)\n",
    "\n",
    "        misc_df = pd.DataFrame(data={'misc': final_misc_content, 'misc_features': final_misc_features}, columns=['misc', 'misc_features'])\n",
    "        misc_df.to_csv(output_file_name_misc)\n",
    "\n",
    "print(\"Saving the pandas data frame\")\n",
    "df = pd.DataFrame(final_data, columns=column_names)\n",
    "df.to_csv(output_file_name)\n",
    "\n",
    "misc_df = pd.DataFrame(data={'misc': final_misc_content, 'misc_features': final_misc_features}, columns=['misc', 'misc_features'])\n",
    "misc_df.to_csv(output_file_name_misc)"
   ]
  },
  {
   "cell_type": "code",
   "execution_count": 35,
   "id": "d37bb3ed",
   "metadata": {
    "execution": {
     "iopub.execute_input": "2023-07-18T11:00:12.284976Z",
     "iopub.status.busy": "2023-07-18T11:00:12.284209Z",
     "iopub.status.idle": "2023-07-18T11:00:12.607859Z",
     "shell.execute_reply": "2023-07-18T11:00:12.606400Z"
    },
    "id": "CZrRfP32MKW_",
    "papermill": {
     "duration": 0.367008,
     "end_time": "2023-07-18T11:00:12.611185",
     "exception": false,
     "start_time": "2023-07-18T11:00:12.244177",
     "status": "completed"
    },
    "tags": []
   },
   "outputs": [
    {
     "data": {
      "text/html": [
       "<div>\n",
       "<style scoped>\n",
       "    .dataframe tbody tr th:only-of-type {\n",
       "        vertical-align: middle;\n",
       "    }\n",
       "\n",
       "    .dataframe tbody tr th {\n",
       "        vertical-align: top;\n",
       "    }\n",
       "\n",
       "    .dataframe thead th {\n",
       "        text-align: right;\n",
       "    }\n",
       "</style>\n",
       "<table border=\"1\" class=\"dataframe\">\n",
       "  <thead>\n",
       "    <tr style=\"text-align: right;\">\n",
       "      <th></th>\n",
       "      <th>url</th>\n",
       "      <th>sample_id</th>\n",
       "      <th>title</th>\n",
       "      <th>title_features</th>\n",
       "      <th>headline</th>\n",
       "      <th>headline_features</th>\n",
       "      <th>category</th>\n",
       "      <th>category_features</th>\n",
       "      <th>publish_date</th>\n",
       "      <th>publish_date_features</th>\n",
       "      <th>article</th>\n",
       "      <th>article_features</th>\n",
       "      <th>images</th>\n",
       "      <th>images_features</th>\n",
       "      <th>tags</th>\n",
       "      <th>tags_features</th>\n",
       "      <th>source</th>\n",
       "    </tr>\n",
       "  </thead>\n",
       "  <tbody>\n",
       "    <tr>\n",
       "      <th>0</th>\n",
       "      <td>https://www.madhyamam.com//kerala/oommen-chand...</td>\n",
       "      <td>0</td>\n",
       "      <td>&lt;title&gt;ഉമ്മൻ ചാണ്ടി ഇനി ജനഹൃദയങ്ങളിൽ; സംസ്‌കാര...</td>\n",
       "      <td>{\"tag_sequence\": \"html&gt;head&gt;title\", \"next_sibl...</td>\n",
       "      <td>&lt;h1 class=\"blue-box-paira\"&gt;ഉമ്മൻ ചാണ്ടി ഇനി ജന...</td>\n",
       "      <td>{\"tag_sequence\": \"html&gt;body&gt;div&gt;div&gt;main&gt;div&gt;d...</td>\n",
       "      <td>nan</td>\n",
       "      <td>NaN</td>\n",
       "      <td>&lt;span class=\"convert-to-localtime\" data-datest...</td>\n",
       "      <td>{\"tag_sequence\": \"html&gt;body&gt;div&gt;div&gt;main&gt;div&gt;d...</td>\n",
       "      <td>[\"&lt;p&gt;തിരുവനന്തപുരം: അന്തരിച്ച മുൻ മുഖ്യമന്ത്രി...</td>\n",
       "      <td>[{\"tag_sequence\": \"html&gt;body&gt;div&gt;div&gt;main&gt;div&gt;...</td>\n",
       "      <td>&lt;img alt=\"oommen chandy\" data-class=\"h-custom-...</td>\n",
       "      <td>{\"tag_sequence\": \"html&gt;body&gt;div&gt;div&gt;main&gt;div&gt;d...</td>\n",
       "      <td>[\"&lt;a class=\\\"tg\\\" href=\\\"https://www.madhyamam...</td>\n",
       "      <td>[{\"tag_sequence\": \"html&gt;body&gt;div&gt;div&gt;main&gt;div&gt;...</td>\n",
       "      <td>[html, [[&lt;title&gt;ഉമ്മൻ ചാണ്ടി ഇനി ജനഹൃദയങ്ങളിൽ;...</td>\n",
       "    </tr>\n",
       "    <tr>\n",
       "      <th>1</th>\n",
       "      <td>https://www.madhyamam.com//offbeat/oommen-chan...</td>\n",
       "      <td>1</td>\n",
       "      <td>&lt;title&gt;മുഖ്യമന്ത്രി ഉമ്മൻചാണ്ടിയു​ടെ സീറ്റി​ൽ ...</td>\n",
       "      <td>{\"tag_sequence\": \"html&gt;head&gt;title\", \"next_sibl...</td>\n",
       "      <td>&lt;h1 class=\"blue-box-paira\"&gt;മുഖ്യമന്ത്രി ഉമ്മൻച...</td>\n",
       "      <td>{\"tag_sequence\": \"html&gt;body&gt;div&gt;div&gt;main&gt;div&gt;d...</td>\n",
       "      <td>nan</td>\n",
       "      <td>NaN</td>\n",
       "      <td>&lt;span class=\"convert-to-localtime\" data-datest...</td>\n",
       "      <td>{\"tag_sequence\": \"html&gt;body&gt;div&gt;div&gt;main&gt;div&gt;d...</td>\n",
       "      <td>[\"&lt;p&gt;ഉമ്മൻ ചാണ്ടിയുടെ തിരക്കുപിടിച്ച ജീവിതത്തി...</td>\n",
       "      <td>[{\"tag_sequence\": \"html&gt;body&gt;div&gt;div&gt;main&gt;div&gt;...</td>\n",
       "      <td>&lt;img alt=\"മുഖ്യമന്ത്രി ഉമ്മൻചാണ്ടിയു​ടെ സീറ്റി...</td>\n",
       "      <td>{\"tag_sequence\": \"html&gt;body&gt;div&gt;div&gt;main&gt;div&gt;d...</td>\n",
       "      <td>[\"&lt;a class=\\\"tg\\\" href=\\\"https://www.madhyamam...</td>\n",
       "      <td>[{\"tag_sequence\": \"html&gt;body&gt;div&gt;div&gt;main&gt;div&gt;...</td>\n",
       "      <td>[html, [[&lt;title&gt;മുഖ്യമന്ത്രി ഉമ്മൻചാണ്ടിയു​ടെ ...</td>\n",
       "    </tr>\n",
       "    <tr>\n",
       "      <th>2</th>\n",
       "      <td>https://www.madhyamam.com//kerala/oommen-chand...</td>\n",
       "      <td>2</td>\n",
       "      <td>&lt;title&gt;ഉമ്മൻചാണ്ടിയുടെ ഭൗതികശരീരം ഉടൻ എത്തും; ...</td>\n",
       "      <td>{\"tag_sequence\": \"html&gt;head&gt;title\", \"next_sibl...</td>\n",
       "      <td>&lt;h1 class=\"blue-box-paira\"&gt;ഉമ്മൻചാണ്ടിയുടെ ഭൗത...</td>\n",
       "      <td>{\"tag_sequence\": \"html&gt;body&gt;div&gt;div&gt;main&gt;div&gt;d...</td>\n",
       "      <td>nan</td>\n",
       "      <td>NaN</td>\n",
       "      <td>&lt;span class=\"convert-to-localtime\" data-datest...</td>\n",
       "      <td>{\"tag_sequence\": \"html&gt;body&gt;div&gt;div&gt;main&gt;div&gt;d...</td>\n",
       "      <td>[\"&lt;p&gt;അന്തരിച്ച മുൻ മുഖ്യമന്ത്രി ഉമ്മൻ ചാണ്ടിയു...</td>\n",
       "      <td>[{\"tag_sequence\": \"html&gt;body&gt;div&gt;div&gt;main&gt;div&gt;...</td>\n",
       "      <td>&lt;img alt=\"ഉമ്മൻചാണ്ടിയുടെ ഭൗതികശരീരം ഉടൻ എത്തു...</td>\n",
       "      <td>{\"tag_sequence\": \"html&gt;body&gt;div&gt;div&gt;main&gt;div&gt;d...</td>\n",
       "      <td>[\"&lt;a class=\\\"tg\\\" href=\\\"https://www.madhyamam...</td>\n",
       "      <td>[{\"tag_sequence\": \"html&gt;body&gt;div&gt;div&gt;main&gt;div&gt;...</td>\n",
       "      <td>[html, [[&lt;title&gt;ഉമ്മൻചാണ്ടിയുടെ ഭൗതികശരീരം ഉടൻ...</td>\n",
       "    </tr>\n",
       "    <tr>\n",
       "      <th>3</th>\n",
       "      <td>https://www.madhyamam.com//sports/football/sau...</td>\n",
       "      <td>3</td>\n",
       "      <td>&lt;title&gt;‘അമേരിക്കൻ മേജർ ലീഗിനേക്കാൾ മികച്ചത് സൗ...</td>\n",
       "      <td>{\"tag_sequence\": \"html&gt;head&gt;title\", \"next_sibl...</td>\n",
       "      <td>&lt;h1 class=\"blue-box-paira\"&gt;‘അമേരിക്കൻ മേജർ ലീഗ...</td>\n",
       "      <td>{\"tag_sequence\": \"html&gt;body&gt;div&gt;div&gt;main&gt;div&gt;d...</td>\n",
       "      <td>nan</td>\n",
       "      <td>NaN</td>\n",
       "      <td>&lt;span class=\"convert-to-localtime\" data-datest...</td>\n",
       "      <td>{\"tag_sequence\": \"html&gt;body&gt;div&gt;div&gt;main&gt;div&gt;d...</td>\n",
       "      <td>[\"&lt;p&gt;അമേരിക്കൻ മേജർ ലീഗ് സോക്കറിനേക്കാൾ (എം.എൽ...</td>\n",
       "      <td>[{\"tag_sequence\": \"html&gt;body&gt;div&gt;div&gt;main&gt;div&gt;...</td>\n",
       "      <td>&lt;img alt=\"‘അമേരിക്കൻ മേജർ ലീഗിനേക്കാൾ മികച്ചത്...</td>\n",
       "      <td>{\"tag_sequence\": \"html&gt;body&gt;div&gt;div&gt;main&gt;div&gt;d...</td>\n",
       "      <td>[\"&lt;a class=\\\"tg\\\" href=\\\"https://www.madhyamam...</td>\n",
       "      <td>[{\"tag_sequence\": \"html&gt;body&gt;div&gt;div&gt;main&gt;div&gt;...</td>\n",
       "      <td>[html, [[&lt;title&gt;‘അമേരിക്കൻ മേജർ ലീഗിനേക്കാൾ മി...</td>\n",
       "    </tr>\n",
       "    <tr>\n",
       "      <th>4</th>\n",
       "      <td>https://www.madhyamam.com//travel/travelogue/f...</td>\n",
       "      <td>4</td>\n",
       "      <td>&lt;title&gt;സഞ്ചാരികളുടെ ഒഴുക്ക്; പുലിവാല് പിടിച്ച്...</td>\n",
       "      <td>{\"tag_sequence\": \"html&gt;head&gt;title\", \"next_sibl...</td>\n",
       "      <td>&lt;h1 class=\"blue-box-paira\"&gt;സഞ്ചാരികളുടെ ഒഴുക്ക...</td>\n",
       "      <td>{\"tag_sequence\": \"html&gt;body&gt;div&gt;div&gt;main&gt;div&gt;d...</td>\n",
       "      <td>nan</td>\n",
       "      <td>NaN</td>\n",
       "      <td>&lt;span class=\"convert-to-localtime\" data-datest...</td>\n",
       "      <td>{\"tag_sequence\": \"html&gt;body&gt;div&gt;div&gt;main&gt;div&gt;d...</td>\n",
       "      <td>[\"&lt;p&gt;കൊ​ല്ല​ങ്കോ​ട്: ന​യ​ന​മ​നോ​ഹ​ര ​ഗ്രാ​മീ​ണ...</td>\n",
       "      <td>[{\"tag_sequence\": \"html&gt;body&gt;div&gt;div&gt;main&gt;div&gt;...</td>\n",
       "      <td>&lt;img alt=\"സഞ്ചാരികളുടെ ഒഴുക്ക്; പുലിവാല് പിടിച...</td>\n",
       "      <td>{\"tag_sequence\": \"html&gt;body&gt;div&gt;div&gt;main&gt;div&gt;d...</td>\n",
       "      <td>[\"&lt;a class=\\\"tg\\\" href=\\\"https://www.madhyamam...</td>\n",
       "      <td>[{\"tag_sequence\": \"html&gt;body&gt;div&gt;div&gt;main&gt;div&gt;...</td>\n",
       "      <td>[html, [[&lt;title&gt;സഞ്ചാരികളുടെ ഒഴുക്ക്; പുലിവാല്...</td>\n",
       "    </tr>\n",
       "  </tbody>\n",
       "</table>\n",
       "</div>"
      ],
      "text/plain": [
       "                                                 url  sample_id  \\\n",
       "0  https://www.madhyamam.com//kerala/oommen-chand...          0   \n",
       "1  https://www.madhyamam.com//offbeat/oommen-chan...          1   \n",
       "2  https://www.madhyamam.com//kerala/oommen-chand...          2   \n",
       "3  https://www.madhyamam.com//sports/football/sau...          3   \n",
       "4  https://www.madhyamam.com//travel/travelogue/f...          4   \n",
       "\n",
       "                                               title  \\\n",
       "0  <title>ഉമ്മൻ ചാണ്ടി ഇനി ജനഹൃദയങ്ങളിൽ; സംസ്‌കാര...   \n",
       "1  <title>മുഖ്യമന്ത്രി ഉമ്മൻചാണ്ടിയു​ടെ സീറ്റി​ൽ ...   \n",
       "2  <title>ഉമ്മൻചാണ്ടിയുടെ ഭൗതികശരീരം ഉടൻ എത്തും; ...   \n",
       "3  <title>‘അമേരിക്കൻ മേജർ ലീഗിനേക്കാൾ മികച്ചത് സൗ...   \n",
       "4  <title>സഞ്ചാരികളുടെ ഒഴുക്ക്; പുലിവാല് പിടിച്ച്...   \n",
       "\n",
       "                                      title_features  \\\n",
       "0  {\"tag_sequence\": \"html>head>title\", \"next_sibl...   \n",
       "1  {\"tag_sequence\": \"html>head>title\", \"next_sibl...   \n",
       "2  {\"tag_sequence\": \"html>head>title\", \"next_sibl...   \n",
       "3  {\"tag_sequence\": \"html>head>title\", \"next_sibl...   \n",
       "4  {\"tag_sequence\": \"html>head>title\", \"next_sibl...   \n",
       "\n",
       "                                            headline  \\\n",
       "0  <h1 class=\"blue-box-paira\">ഉമ്മൻ ചാണ്ടി ഇനി ജന...   \n",
       "1  <h1 class=\"blue-box-paira\">മുഖ്യമന്ത്രി ഉമ്മൻച...   \n",
       "2  <h1 class=\"blue-box-paira\">ഉമ്മൻചാണ്ടിയുടെ ഭൗത...   \n",
       "3  <h1 class=\"blue-box-paira\">‘അമേരിക്കൻ മേജർ ലീഗ...   \n",
       "4  <h1 class=\"blue-box-paira\">സഞ്ചാരികളുടെ ഒഴുക്ക...   \n",
       "\n",
       "                                   headline_features category  \\\n",
       "0  {\"tag_sequence\": \"html>body>div>div>main>div>d...      nan   \n",
       "1  {\"tag_sequence\": \"html>body>div>div>main>div>d...      nan   \n",
       "2  {\"tag_sequence\": \"html>body>div>div>main>div>d...      nan   \n",
       "3  {\"tag_sequence\": \"html>body>div>div>main>div>d...      nan   \n",
       "4  {\"tag_sequence\": \"html>body>div>div>main>div>d...      nan   \n",
       "\n",
       "   category_features                                       publish_date  \\\n",
       "0                NaN  <span class=\"convert-to-localtime\" data-datest...   \n",
       "1                NaN  <span class=\"convert-to-localtime\" data-datest...   \n",
       "2                NaN  <span class=\"convert-to-localtime\" data-datest...   \n",
       "3                NaN  <span class=\"convert-to-localtime\" data-datest...   \n",
       "4                NaN  <span class=\"convert-to-localtime\" data-datest...   \n",
       "\n",
       "                               publish_date_features  \\\n",
       "0  {\"tag_sequence\": \"html>body>div>div>main>div>d...   \n",
       "1  {\"tag_sequence\": \"html>body>div>div>main>div>d...   \n",
       "2  {\"tag_sequence\": \"html>body>div>div>main>div>d...   \n",
       "3  {\"tag_sequence\": \"html>body>div>div>main>div>d...   \n",
       "4  {\"tag_sequence\": \"html>body>div>div>main>div>d...   \n",
       "\n",
       "                                             article  \\\n",
       "0  [\"<p>തിരുവനന്തപുരം: അന്തരിച്ച മുൻ മുഖ്യമന്ത്രി...   \n",
       "1  [\"<p>ഉമ്മൻ ചാണ്ടിയുടെ തിരക്കുപിടിച്ച ജീവിതത്തി...   \n",
       "2  [\"<p>അന്തരിച്ച മുൻ മുഖ്യമന്ത്രി ഉമ്മൻ ചാണ്ടിയു...   \n",
       "3  [\"<p>അമേരിക്കൻ മേജർ ലീഗ് സോക്കറിനേക്കാൾ (എം.എൽ...   \n",
       "4  [\"<p>കൊ​ല്ല​ങ്കോ​ട്: ന​യ​ന​മ​നോ​ഹ​ര ​ഗ്രാ​മീ​ണ...   \n",
       "\n",
       "                                    article_features  \\\n",
       "0  [{\"tag_sequence\": \"html>body>div>div>main>div>...   \n",
       "1  [{\"tag_sequence\": \"html>body>div>div>main>div>...   \n",
       "2  [{\"tag_sequence\": \"html>body>div>div>main>div>...   \n",
       "3  [{\"tag_sequence\": \"html>body>div>div>main>div>...   \n",
       "4  [{\"tag_sequence\": \"html>body>div>div>main>div>...   \n",
       "\n",
       "                                              images  \\\n",
       "0  <img alt=\"oommen chandy\" data-class=\"h-custom-...   \n",
       "1  <img alt=\"മുഖ്യമന്ത്രി ഉമ്മൻചാണ്ടിയു​ടെ സീറ്റി...   \n",
       "2  <img alt=\"ഉമ്മൻചാണ്ടിയുടെ ഭൗതികശരീരം ഉടൻ എത്തു...   \n",
       "3  <img alt=\"‘അമേരിക്കൻ മേജർ ലീഗിനേക്കാൾ മികച്ചത്...   \n",
       "4  <img alt=\"സഞ്ചാരികളുടെ ഒഴുക്ക്; പുലിവാല് പിടിച...   \n",
       "\n",
       "                                     images_features  \\\n",
       "0  {\"tag_sequence\": \"html>body>div>div>main>div>d...   \n",
       "1  {\"tag_sequence\": \"html>body>div>div>main>div>d...   \n",
       "2  {\"tag_sequence\": \"html>body>div>div>main>div>d...   \n",
       "3  {\"tag_sequence\": \"html>body>div>div>main>div>d...   \n",
       "4  {\"tag_sequence\": \"html>body>div>div>main>div>d...   \n",
       "\n",
       "                                                tags  \\\n",
       "0  [\"<a class=\\\"tg\\\" href=\\\"https://www.madhyamam...   \n",
       "1  [\"<a class=\\\"tg\\\" href=\\\"https://www.madhyamam...   \n",
       "2  [\"<a class=\\\"tg\\\" href=\\\"https://www.madhyamam...   \n",
       "3  [\"<a class=\\\"tg\\\" href=\\\"https://www.madhyamam...   \n",
       "4  [\"<a class=\\\"tg\\\" href=\\\"https://www.madhyamam...   \n",
       "\n",
       "                                       tags_features  \\\n",
       "0  [{\"tag_sequence\": \"html>body>div>div>main>div>...   \n",
       "1  [{\"tag_sequence\": \"html>body>div>div>main>div>...   \n",
       "2  [{\"tag_sequence\": \"html>body>div>div>main>div>...   \n",
       "3  [{\"tag_sequence\": \"html>body>div>div>main>div>...   \n",
       "4  [{\"tag_sequence\": \"html>body>div>div>main>div>...   \n",
       "\n",
       "                                              source  \n",
       "0  [html, [[<title>ഉമ്മൻ ചാണ്ടി ഇനി ജനഹൃദയങ്ങളിൽ;...  \n",
       "1  [html, [[<title>മുഖ്യമന്ത്രി ഉമ്മൻചാണ്ടിയു​ടെ ...  \n",
       "2  [html, [[<title>ഉമ്മൻചാണ്ടിയുടെ ഭൗതികശരീരം ഉടൻ...  \n",
       "3  [html, [[<title>‘അമേരിക്കൻ മേജർ ലീഗിനേക്കാൾ മി...  \n",
       "4  [html, [[<title>സഞ്ചാരികളുടെ ഒഴുക്ക്; പുലിവാല്...  "
      ]
     },
     "execution_count": 35,
     "metadata": {},
     "output_type": "execute_result"
    }
   ],
   "source": [
    "df.head()"
   ]
  },
  {
   "cell_type": "code",
   "execution_count": 36,
   "id": "08aa6d47",
   "metadata": {
    "execution": {
     "iopub.execute_input": "2023-07-18T11:00:12.681065Z",
     "iopub.status.busy": "2023-07-18T11:00:12.680194Z",
     "iopub.status.idle": "2023-07-18T11:00:12.715895Z",
     "shell.execute_reply": "2023-07-18T11:00:12.712811Z"
    },
    "id": "XNJcFd7QMKXA",
    "papermill": {
     "duration": 0.07321,
     "end_time": "2023-07-18T11:00:12.718853",
     "exception": false,
     "start_time": "2023-07-18T11:00:12.645643",
     "status": "completed"
    },
    "tags": []
   },
   "outputs": [
    {
     "name": "stdout",
     "output_type": "stream",
     "text": [
      "<class 'pandas.core.frame.DataFrame'>\n",
      "RangeIndex: 49 entries, 0 to 48\n",
      "Data columns (total 17 columns):\n",
      " #   Column                 Non-Null Count  Dtype  \n",
      "---  ------                 --------------  -----  \n",
      " 0   url                    49 non-null     object \n",
      " 1   sample_id              49 non-null     int64  \n",
      " 2   title                  49 non-null     object \n",
      " 3   title_features         49 non-null     object \n",
      " 4   headline               48 non-null     object \n",
      " 5   headline_features      48 non-null     object \n",
      " 6   category               48 non-null     object \n",
      " 7   category_features      0 non-null      float64\n",
      " 8   publish_date           48 non-null     object \n",
      " 9   publish_date_features  48 non-null     object \n",
      " 10  article                49 non-null     object \n",
      " 11  article_features       49 non-null     object \n",
      " 12  images                 47 non-null     object \n",
      " 13  images_features        47 non-null     object \n",
      " 14  tags                   49 non-null     object \n",
      " 15  tags_features          48 non-null     object \n",
      " 16  source                 49 non-null     object \n",
      "dtypes: float64(1), int64(1), object(15)\n",
      "memory usage: 6.6+ KB\n"
     ]
    }
   ],
   "source": [
    "df.info()"
   ]
  },
  {
   "cell_type": "code",
   "execution_count": 37,
   "id": "7587a45b",
   "metadata": {
    "execution": {
     "iopub.execute_input": "2023-07-18T11:00:12.795938Z",
     "iopub.status.busy": "2023-07-18T11:00:12.794704Z",
     "iopub.status.idle": "2023-07-18T11:00:12.805526Z",
     "shell.execute_reply": "2023-07-18T11:00:12.804572Z"
    },
    "id": "Ys5bFs_eMKXC",
    "outputId": "5a403ce2-52bd-40eb-f8d7-8772695efd10",
    "papermill": {
     "duration": 0.05393,
     "end_time": "2023-07-18T11:00:12.808034",
     "exception": false,
     "start_time": "2023-07-18T11:00:12.754104",
     "status": "completed"
    },
    "tags": []
   },
   "outputs": [
    {
     "data": {
      "text/html": [
       "<div>\n",
       "<style scoped>\n",
       "    .dataframe tbody tr th:only-of-type {\n",
       "        vertical-align: middle;\n",
       "    }\n",
       "\n",
       "    .dataframe tbody tr th {\n",
       "        vertical-align: top;\n",
       "    }\n",
       "\n",
       "    .dataframe thead th {\n",
       "        text-align: right;\n",
       "    }\n",
       "</style>\n",
       "<table border=\"1\" class=\"dataframe\">\n",
       "  <thead>\n",
       "    <tr style=\"text-align: right;\">\n",
       "      <th></th>\n",
       "      <th>misc</th>\n",
       "      <th>misc_features</th>\n",
       "    </tr>\n",
       "  </thead>\n",
       "  <tbody>\n",
       "    <tr>\n",
       "      <th>0</th>\n",
       "      <td>&lt;small class=\"text-white pt-3\"&gt;Begin typing yo...</td>\n",
       "      <td>{\"tag_sequence\": \"html&gt;body&gt;div&gt;div&gt;main&gt;div&gt;d...</td>\n",
       "    </tr>\n",
       "    <tr>\n",
       "      <th>1</th>\n",
       "      <td>&lt;a class=\"mdl-navigation__link hide-for-paytm\"...</td>\n",
       "      <td>{\"tag_sequence\": \"html&gt;body&gt;div&gt;div&gt;main&gt;heade...</td>\n",
       "    </tr>\n",
       "    <tr>\n",
       "      <th>2</th>\n",
       "      <td>&lt;a class=\"mdl-navigation__link\" href=\"/weekly\"...</td>\n",
       "      <td>{\"tag_sequence\": \"html&gt;body&gt;div&gt;div&gt;main&gt;heade...</td>\n",
       "    </tr>\n",
       "    <tr>\n",
       "      <th>3</th>\n",
       "      <td>&lt;a class=\"mdl-navigation__link list_alt\" href=...</td>\n",
       "      <td>{\"tag_sequence\": \"html&gt;body&gt;div&gt;div&gt;main&gt;heade...</td>\n",
       "    </tr>\n",
       "    <tr>\n",
       "      <th>4</th>\n",
       "      <td>&lt;a class=\"mdl-navigation__link\" href=\"/velicha...</td>\n",
       "      <td>{\"tag_sequence\": \"html&gt;body&gt;div&gt;div&gt;main&gt;heade...</td>\n",
       "    </tr>\n",
       "  </tbody>\n",
       "</table>\n",
       "</div>"
      ],
      "text/plain": [
       "                                                misc  \\\n",
       "0  <small class=\"text-white pt-3\">Begin typing yo...   \n",
       "1  <a class=\"mdl-navigation__link hide-for-paytm\"...   \n",
       "2  <a class=\"mdl-navigation__link\" href=\"/weekly\"...   \n",
       "3  <a class=\"mdl-navigation__link list_alt\" href=...   \n",
       "4  <a class=\"mdl-navigation__link\" href=\"/velicha...   \n",
       "\n",
       "                                       misc_features  \n",
       "0  {\"tag_sequence\": \"html>body>div>div>main>div>d...  \n",
       "1  {\"tag_sequence\": \"html>body>div>div>main>heade...  \n",
       "2  {\"tag_sequence\": \"html>body>div>div>main>heade...  \n",
       "3  {\"tag_sequence\": \"html>body>div>div>main>heade...  \n",
       "4  {\"tag_sequence\": \"html>body>div>div>main>heade...  "
      ]
     },
     "execution_count": 37,
     "metadata": {},
     "output_type": "execute_result"
    }
   ],
   "source": [
    "misc_df.head()"
   ]
  },
  {
   "cell_type": "code",
   "execution_count": 38,
   "id": "d894d7d1",
   "metadata": {
    "execution": {
     "iopub.execute_input": "2023-07-18T11:00:12.877702Z",
     "iopub.status.busy": "2023-07-18T11:00:12.877108Z",
     "iopub.status.idle": "2023-07-18T11:00:12.893492Z",
     "shell.execute_reply": "2023-07-18T11:00:12.891730Z"
    },
    "id": "QJvxg-GsMKXD",
    "outputId": "fc8c4ac3-adee-43fb-8ff5-15da0f4ce370",
    "papermill": {
     "duration": 0.054224,
     "end_time": "2023-07-18T11:00:12.896030",
     "exception": false,
     "start_time": "2023-07-18T11:00:12.841806",
     "status": "completed"
    },
    "tags": []
   },
   "outputs": [
    {
     "name": "stdout",
     "output_type": "stream",
     "text": [
      "<class 'pandas.core.frame.DataFrame'>\n",
      "RangeIndex: 737 entries, 0 to 736\n",
      "Data columns (total 2 columns):\n",
      " #   Column         Non-Null Count  Dtype \n",
      "---  ------         --------------  ----- \n",
      " 0   misc           737 non-null    object\n",
      " 1   misc_features  737 non-null    object\n",
      "dtypes: object(2)\n",
      "memory usage: 11.6+ KB\n"
     ]
    }
   ],
   "source": [
    "misc_df.info()"
   ]
  },
  {
   "cell_type": "markdown",
   "id": "21cb9e41",
   "metadata": {
    "id": "so6ydlN_MKXE",
    "papermill": {
     "duration": 0.034363,
     "end_time": "2023-07-18T11:00:12.965929",
     "exception": false,
     "start_time": "2023-07-18T11:00:12.931566",
     "status": "completed"
    },
    "tags": []
   },
   "source": [
    "## Rough"
   ]
  },
  {
   "cell_type": "code",
   "execution_count": 39,
   "id": "e5e4fc8c",
   "metadata": {
    "execution": {
     "iopub.execute_input": "2023-07-18T11:00:13.038310Z",
     "iopub.status.busy": "2023-07-18T11:00:13.037930Z",
     "iopub.status.idle": "2023-07-18T11:00:13.042990Z",
     "shell.execute_reply": "2023-07-18T11:00:13.041884Z"
    },
    "id": "xZB8cDCUMKXF",
    "papermill": {
     "duration": 0.041846,
     "end_time": "2023-07-18T11:00:13.045134",
     "exception": false,
     "start_time": "2023-07-18T11:00:13.003288",
     "status": "completed"
    },
    "tags": []
   },
   "outputs": [],
   "source": [
    "# index = 2\n",
    "\n",
    "# url = out_df['url'][index]\n",
    "# sample_id = out_df['sample_id'][index]\n",
    "# print(\"Sample ID: \", sample_id, \"\\tURL: \", url)"
   ]
  },
  {
   "cell_type": "code",
   "execution_count": 40,
   "id": "25e98356",
   "metadata": {
    "execution": {
     "iopub.execute_input": "2023-07-18T11:00:13.116157Z",
     "iopub.status.busy": "2023-07-18T11:00:13.115632Z",
     "iopub.status.idle": "2023-07-18T11:00:13.121394Z",
     "shell.execute_reply": "2023-07-18T11:00:13.119743Z"
    },
    "id": "Ok_GbOZWMKXG",
    "papermill": {
     "duration": 0.045277,
     "end_time": "2023-07-18T11:00:13.123971",
     "exception": false,
     "start_time": "2023-07-18T11:00:13.078694",
     "status": "completed"
    },
    "tags": []
   },
   "outputs": [],
   "source": [
    "# print(\"Extracting the contents from the source\")\n",
    "# article = {}\n",
    "# response = requests.get(url)\n",
    "# if response.status_code==200:\n",
    "#     driver.get(url)\n",
    "#     article = scrape_news_contents(response.content, url, sample_id, driver)\n",
    "# else:\n",
    "#     print(\"Status Code: \", response.status_code)"
   ]
  },
  {
   "cell_type": "code",
   "execution_count": 41,
   "id": "b83621e9",
   "metadata": {
    "execution": {
     "iopub.execute_input": "2023-07-18T11:00:13.193350Z",
     "iopub.status.busy": "2023-07-18T11:00:13.192931Z",
     "iopub.status.idle": "2023-07-18T11:00:13.198211Z",
     "shell.execute_reply": "2023-07-18T11:00:13.196582Z"
    },
    "id": "CdQHt_E6MKXH",
    "papermill": {
     "duration": 0.042644,
     "end_time": "2023-07-18T11:00:13.200866",
     "exception": false,
     "start_time": "2023-07-18T11:00:13.158222",
     "status": "completed"
    },
    "tags": []
   },
   "outputs": [],
   "source": [
    "# column_names = list(article.keys())\n",
    "# column_names"
   ]
  },
  {
   "cell_type": "code",
   "execution_count": 42,
   "id": "404bb7a3",
   "metadata": {
    "execution": {
     "iopub.execute_input": "2023-07-18T11:00:13.270285Z",
     "iopub.status.busy": "2023-07-18T11:00:13.269409Z",
     "iopub.status.idle": "2023-07-18T11:00:13.274816Z",
     "shell.execute_reply": "2023-07-18T11:00:13.273831Z"
    },
    "id": "L8En5xrKMKXJ",
    "papermill": {
     "duration": 0.043062,
     "end_time": "2023-07-18T11:00:13.277273",
     "exception": false,
     "start_time": "2023-07-18T11:00:13.234211",
     "status": "completed"
    },
    "tags": []
   },
   "outputs": [],
   "source": [
    "# df = pd.DataFrame(data=[article], columns = column_names)\n",
    "# df.shape"
   ]
  },
  {
   "cell_type": "code",
   "execution_count": 43,
   "id": "128c1460",
   "metadata": {
    "execution": {
     "iopub.execute_input": "2023-07-18T11:00:13.348176Z",
     "iopub.status.busy": "2023-07-18T11:00:13.347377Z",
     "iopub.status.idle": "2023-07-18T11:00:13.352140Z",
     "shell.execute_reply": "2023-07-18T11:00:13.351343Z"
    },
    "id": "AHEtafUBMKXK",
    "papermill": {
     "duration": 0.042975,
     "end_time": "2023-07-18T11:00:13.354352",
     "exception": false,
     "start_time": "2023-07-18T11:00:13.311377",
     "status": "completed"
    },
    "tags": []
   },
   "outputs": [],
   "source": [
    "# df.head()"
   ]
  },
  {
   "cell_type": "code",
   "execution_count": null,
   "id": "b30e53e6",
   "metadata": {
    "id": "VR610Y9wMKXN",
    "papermill": {
     "duration": 0.032385,
     "end_time": "2023-07-18T11:00:13.418495",
     "exception": false,
     "start_time": "2023-07-18T11:00:13.386110",
     "status": "completed"
    },
    "tags": []
   },
   "outputs": [],
   "source": []
  }
 ],
 "metadata": {
  "kernelspec": {
   "display_name": "Python 3",
   "language": "python",
   "name": "python3"
  },
  "language_info": {
   "codemirror_mode": {
    "name": "ipython",
    "version": 3
   },
   "file_extension": ".py",
   "mimetype": "text/x-python",
   "name": "python",
   "nbconvert_exporter": "python",
   "pygments_lexer": "ipython3",
   "version": "3.10.12"
  },
  "papermill": {
   "default_parameters": {},
   "duration": 11037.451311,
   "end_time": "2023-07-18T11:00:16.094354",
   "environment_variables": {},
   "exception": null,
   "input_path": "__notebook__.ipynb",
   "output_path": "__notebook__.ipynb",
   "parameters": {},
   "start_time": "2023-07-18T07:56:18.643043",
   "version": "2.4.0"
  }
 },
 "nbformat": 4,
 "nbformat_minor": 5
}
