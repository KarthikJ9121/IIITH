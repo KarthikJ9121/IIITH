{
  "metadata": {
    "kernelspec": {
      "display_name": "Python 3",
      "language": "python",
      "name": "python3"
    },
    "language_info": {
      "name": "python",
      "version": "3.10.12",
      "mimetype": "text/x-python",
      "codemirror_mode": {
        "name": "ipython",
        "version": 3
      },
      "pygments_lexer": "ipython3",
      "nbconvert_exporter": "python",
      "file_extension": ".py"
    },
    "papermill": {
      "default_parameters": {},
      "duration": 18823.062061,
      "end_time": "2023-03-04T20:36:05.150203",
      "environment_variables": {},
      "exception": null,
      "input_path": "__notebook__.ipynb",
      "output_path": "__notebook__.ipynb",
      "parameters": {},
      "start_time": "2023-03-04T15:22:22.088142",
      "version": "2.4.0"
    },
    "colab": {
      "provenance": []
    }
  },
  "nbformat_minor": 5,
  "nbformat": 4,
  "cells": [
    {
      "cell_type": "markdown",
      "source": [
        "#### Installing necessary packages"
      ],
      "metadata": {
        "papermill": {
          "duration": 0.012296,
          "end_time": "2023-03-04T15:22:32.352873",
          "exception": false,
          "start_time": "2023-03-04T15:22:32.340577",
          "status": "completed"
        },
        "tags": [],
        "id": "7NtHLUGvMKUt"
      },
      "id": "7NtHLUGvMKUt"
    },
    {
      "cell_type": "code",
      "source": [
        "# install google chrome\n",
        "!wget https://dl.google.com/linux/linux_signing_key.pub\n",
        "!sudo apt-key add linux_signing_key.pub\n",
        "!echo 'deb [arch=amd64] http://dl.google.com/linux/chrome/deb/ stable main' >> /etc/apt/sources.list.d/google-chrome.list\n",
        "!sudo apt-get -y update\n",
        "!sudo apt-get install -y google-chrome-stable"
      ],
      "metadata": {
        "papermill": {
          "duration": 32.598531,
          "end_time": "2023-03-04T15:23:04.962493",
          "exception": false,
          "start_time": "2023-03-04T15:22:32.363962",
          "status": "completed"
        },
        "tags": [],
        "colab": {
          "base_uri": "https://localhost:8080/"
        },
        "id": "kJSSW73cMKVO",
        "outputId": "5d677274-7192-4cc6-effc-31396ee166c2",
        "execution": {
          "iopub.status.busy": "2023-07-13T17:04:23.272424Z",
          "iopub.execute_input": "2023-07-13T17:04:23.272859Z",
          "iopub.status.idle": "2023-07-13T17:04:28.732663Z",
          "shell.execute_reply.started": "2023-07-13T17:04:23.272831Z",
          "shell.execute_reply": "2023-07-13T17:04:28.730664Z"
        },
        "trusted": true
      },
      "execution_count": null,
      "outputs": [
        {
          "output_type": "stream",
          "name": "stdout",
          "text": [
            "--2023-07-14 09:51:41--  https://dl.google.com/linux/linux_signing_key.pub\n",
            "Resolving dl.google.com (dl.google.com)... 74.125.20.91, 74.125.20.190, 74.125.20.136, ...\n",
            "Connecting to dl.google.com (dl.google.com)|74.125.20.91|:443... connected.\n",
            "HTTP request sent, awaiting response... 200 OK\n",
            "Length: 14605 (14K) [application/octet-stream]\n",
            "Saving to: ‘linux_signing_key.pub’\n",
            "\n",
            "\rlinux_signing_key.p   0%[                    ]       0  --.-KB/s               \rlinux_signing_key.p 100%[===================>]  14.26K  --.-KB/s    in 0s      \n",
            "\n",
            "2023-07-14 09:51:41 (126 MB/s) - ‘linux_signing_key.pub’ saved [14605/14605]\n",
            "\n",
            "OK\n",
            "Get:1 http://dl.google.com/linux/chrome/deb stable InRelease [1,825 B]\n",
            "Get:2 https://cloud.r-project.org/bin/linux/ubuntu focal-cran40/ InRelease [3,622 B]\n",
            "Get:3 https://developer.download.nvidia.com/compute/cuda/repos/ubuntu2004/x86_64  InRelease [1,581 B]\n",
            "Get:4 http://dl.google.com/linux/chrome/deb stable/main amd64 Packages [1,077 B]\n",
            "Hit:5 http://archive.ubuntu.com/ubuntu focal InRelease\n",
            "Get:6 http://archive.ubuntu.com/ubuntu focal-updates InRelease [114 kB]\n",
            "Get:7 https://developer.download.nvidia.com/compute/cuda/repos/ubuntu2004/x86_64  Packages [1,084 kB]\n",
            "Get:8 http://security.ubuntu.com/ubuntu focal-security InRelease [114 kB]\n",
            "Hit:9 http://ppa.launchpad.net/c2d4u.team/c2d4u4.0+/ubuntu focal InRelease\n",
            "Get:10 http://archive.ubuntu.com/ubuntu focal-backports InRelease [108 kB]\n",
            "Get:11 http://archive.ubuntu.com/ubuntu focal-updates/restricted amd64 Packages [2,677 kB]\n",
            "Hit:12 http://ppa.launchpad.net/cran/libgit2/ubuntu focal InRelease\n",
            "Hit:13 http://ppa.launchpad.net/deadsnakes/ppa/ubuntu focal InRelease\n",
            "Get:14 http://archive.ubuntu.com/ubuntu focal-updates/universe amd64 Packages [1,372 kB]\n",
            "Get:15 http://archive.ubuntu.com/ubuntu focal-updates/main amd64 Packages [3,347 kB]\n",
            "Get:16 http://security.ubuntu.com/ubuntu focal-security/multiverse amd64 Packages [29.3 kB]\n",
            "Get:17 http://archive.ubuntu.com/ubuntu focal-updates/multiverse amd64 Packages [32.0 kB]\n",
            "Get:18 http://security.ubuntu.com/ubuntu focal-security/universe amd64 Packages [1,072 kB]\n",
            "Hit:19 http://ppa.launchpad.net/graphics-drivers/ppa/ubuntu focal InRelease\n",
            "Hit:20 http://ppa.launchpad.net/ubuntugis/ppa/ubuntu focal InRelease\n",
            "Get:21 http://security.ubuntu.com/ubuntu focal-security/main amd64 Packages [2,866 kB]\n",
            "Get:22 http://security.ubuntu.com/ubuntu focal-security/restricted amd64 Packages [2,536 kB]\n",
            "Fetched 15.4 MB in 2s (7,139 kB/s)\n",
            "Reading package lists... Done\n",
            "Reading package lists... Done\n",
            "Building dependency tree       \n",
            "Reading state information... Done\n",
            "The following additional packages will be installed:\n",
            "  libu2f-udev libudev1 udev\n",
            "The following NEW packages will be installed:\n",
            "  google-chrome-stable libu2f-udev udev\n",
            "The following packages will be upgraded:\n",
            "  libudev1\n",
            "1 upgraded, 3 newly installed, 0 to remove and 14 not upgraded.\n",
            "Need to get 95.8 MB of archives.\n",
            "After this operation, 331 MB of additional disk space will be used.\n",
            "Get:1 http://dl.google.com/linux/chrome/deb stable/main amd64 google-chrome-stable amd64 114.0.5735.198-1 [94.3 MB]\n",
            "Get:2 http://archive.ubuntu.com/ubuntu focal-updates/main amd64 libudev1 amd64 245.4-4ubuntu3.22 [75.4 kB]\n",
            "Get:3 http://archive.ubuntu.com/ubuntu focal-updates/main amd64 udev amd64 245.4-4ubuntu3.22 [1,366 kB]\n",
            "Get:4 http://archive.ubuntu.com/ubuntu focal/main amd64 libu2f-udev all 1.1.10-1 [6,108 B]\n",
            "Fetched 95.8 MB in 1s (99.1 MB/s)\n",
            "debconf: unable to initialize frontend: Dialog\n",
            "debconf: (No usable dialog-like program is installed, so the dialog based frontend cannot be used. at /usr/share/perl5/Debconf/FrontEnd/Dialog.pm line 76, <> line 4.)\n",
            "debconf: falling back to frontend: Readline\n",
            "debconf: unable to initialize frontend: Readline\n",
            "debconf: (This frontend requires a controlling tty.)\n",
            "debconf: falling back to frontend: Teletype\n",
            "dpkg-preconfigure: unable to re-open stdin: \n",
            "(Reading database ... 123105 files and directories currently installed.)\n",
            "Preparing to unpack .../libudev1_245.4-4ubuntu3.22_amd64.deb ...\n",
            "Unpacking libudev1:amd64 (245.4-4ubuntu3.22) over (245.4-4ubuntu3.21) ...\n",
            "Setting up libudev1:amd64 (245.4-4ubuntu3.22) ...\n",
            "Selecting previously unselected package udev.\n",
            "(Reading database ... 123105 files and directories currently installed.)\n",
            "Preparing to unpack .../udev_245.4-4ubuntu3.22_amd64.deb ...\n",
            "Unpacking udev (245.4-4ubuntu3.22) ...\n",
            "Selecting previously unselected package libu2f-udev.\n",
            "Preparing to unpack .../libu2f-udev_1.1.10-1_all.deb ...\n",
            "Unpacking libu2f-udev (1.1.10-1) ...\n",
            "Selecting previously unselected package google-chrome-stable.\n",
            "Preparing to unpack .../google-chrome-stable_114.0.5735.198-1_amd64.deb ...\n",
            "Unpacking google-chrome-stable (114.0.5735.198-1) ...\n",
            "Setting up udev (245.4-4ubuntu3.22) ...\n",
            "invoke-rc.d: could not determine current runlevel\n",
            "invoke-rc.d: policy-rc.d denied execution of start.\n",
            "Setting up libu2f-udev (1.1.10-1) ...\n",
            "Failed to send reload request: No such file or directory\n",
            "Setting up google-chrome-stable (114.0.5735.198-1) ...\n",
            "update-alternatives: using /usr/bin/google-chrome-stable to provide /usr/bin/x-www-browser (x-www-browser) in auto mode\n",
            "update-alternatives: using /usr/bin/google-chrome-stable to provide /usr/bin/gnome-www-browser (gnome-www-browser) in auto mode\n",
            "update-alternatives: using /usr/bin/google-chrome-stable to provide /usr/bin/google-chrome (google-chrome) in auto mode\n",
            "Processing triggers for libc-bin (2.31-0ubuntu9.9) ...\n",
            "Processing triggers for systemd (245.4-4ubuntu3.22) ...\n",
            "Processing triggers for man-db (2.9.1-1) ...\n",
            "Processing triggers for mime-support (3.64ubuntu1) ...\n"
          ]
        }
      ],
      "id": "kJSSW73cMKVO"
    },
    {
      "cell_type": "code",
      "source": [
        "# install chromedriver\n",
        "# !apt-get install -y qq unzip\n",
        "!wget -O /tmp/chromedriver.zip http://chromedriver.storage.googleapis.com/`curl -sS chromedriver.storage.googleapis.com/LATEST_RELEASE`/chromedriver_linux64.zip\n",
        "!unzip /tmp/chromedriver.zip chromedriver -d /usr/local/bin/"
      ],
      "metadata": {
        "papermill": {
          "duration": 2.849145,
          "end_time": "2023-03-04T15:23:07.830381",
          "exception": false,
          "start_time": "2023-03-04T15:23:04.981236",
          "status": "completed"
        },
        "tags": [],
        "colab": {
          "base_uri": "https://localhost:8080/"
        },
        "id": "qiG91POkMKVa",
        "outputId": "298df0c0-7e33-4b4b-ff3d-12179f64a9aa",
        "execution": {
          "iopub.status.busy": "2023-07-13T17:04:38.307335Z",
          "iopub.execute_input": "2023-07-13T17:04:38.307697Z",
          "iopub.status.idle": "2023-07-13T17:04:50.405866Z",
          "shell.execute_reply.started": "2023-07-13T17:04:38.307672Z",
          "shell.execute_reply": "2023-07-13T17:04:50.404991Z"
        },
        "trusted": true
      },
      "execution_count": null,
      "outputs": [
        {
          "output_type": "stream",
          "name": "stdout",
          "text": [
            "--2023-07-14 09:52:59--  http://chromedriver.storage.googleapis.com/114.0.5735.90/chromedriver_linux64.zip\n",
            "Resolving chromedriver.storage.googleapis.com (chromedriver.storage.googleapis.com)... 74.125.197.128, 2607:f8b0:400e:c03::80\n",
            "Connecting to chromedriver.storage.googleapis.com (chromedriver.storage.googleapis.com)|74.125.197.128|:80... connected.\n",
            "HTTP request sent, awaiting response... 200 OK\n",
            "Length: 7407250 (7.1M) [application/zip]\n",
            "Saving to: ‘/tmp/chromedriver.zip’\n",
            "\n",
            "\r/tmp/chromedriver.z   0%[                    ]       0  --.-KB/s               \r/tmp/chromedriver.z 100%[===================>]   7.06M  --.-KB/s    in 0.07s   \n",
            "\n",
            "2023-07-14 09:52:59 (100 MB/s) - ‘/tmp/chromedriver.zip’ saved [7407250/7407250]\n",
            "\n",
            "Archive:  /tmp/chromedriver.zip\n",
            "  inflating: /usr/local/bin/chromedriver  \n"
          ]
        }
      ],
      "id": "qiG91POkMKVa"
    },
    {
      "cell_type": "code",
      "source": [
        "# install selenium\n",
        "!sudo apt install -y python3-selenium\n",
        "!pip install selenium > /dev/null"
      ],
      "metadata": {
        "papermill": {
          "duration": 40.399829,
          "end_time": "2023-03-04T15:23:48.249069",
          "exception": false,
          "start_time": "2023-03-04T15:23:07.849240",
          "status": "completed"
        },
        "tags": [],
        "colab": {
          "base_uri": "https://localhost:8080/"
        },
        "id": "tAdHm4rgMKVd",
        "outputId": "9231ad39-6fc1-460c-d357-32451bae7443",
        "execution": {
          "iopub.status.busy": "2023-07-13T17:04:53.957417Z",
          "iopub.execute_input": "2023-07-13T17:04:53.958526Z",
          "iopub.status.idle": "2023-07-13T17:05:05.641180Z",
          "shell.execute_reply.started": "2023-07-13T17:04:53.958482Z",
          "shell.execute_reply": "2023-07-13T17:05:05.638992Z"
        },
        "trusted": true
      },
      "execution_count": null,
      "outputs": [
        {
          "output_type": "stream",
          "name": "stdout",
          "text": [
            "Reading package lists... Done\n",
            "Building dependency tree       \n",
            "Reading state information... Done\n",
            "The following additional packages will be installed:\n",
            "  apparmor chromium-browser chromium-chromedriver liblzo2-2 snapd\n",
            "  squashfs-tools\n",
            "Suggested packages:\n",
            "  apparmor-profiles-extra apparmor-utils zenity | kdialog\n",
            "The following NEW packages will be installed:\n",
            "  apparmor chromium-browser chromium-chromedriver liblzo2-2 python3-selenium\n",
            "  snapd squashfs-tools\n",
            "0 upgraded, 7 newly installed, 0 to remove and 14 not upgraded.\n",
            "Need to get 38.7 MB of archives.\n",
            "After this operation, 174 MB of additional disk space will be used.\n",
            "Get:1 http://archive.ubuntu.com/ubuntu focal-updates/main amd64 apparmor amd64 2.13.3-7ubuntu5.2 [502 kB]\n",
            "Get:2 http://archive.ubuntu.com/ubuntu focal/main amd64 liblzo2-2 amd64 2.10-2 [50.8 kB]\n",
            "Get:3 http://archive.ubuntu.com/ubuntu focal-updates/main amd64 squashfs-tools amd64 1:4.4-1ubuntu0.3 [117 kB]\n",
            "Get:4 http://archive.ubuntu.com/ubuntu focal-updates/main amd64 snapd amd64 2.58+20.04.1 [37.9 MB]\n",
            "Get:5 http://archive.ubuntu.com/ubuntu focal-updates/universe amd64 chromium-browser amd64 1:85.0.4183.83-0ubuntu0.20.04.3 [48.5 kB]\n",
            "Get:6 http://archive.ubuntu.com/ubuntu focal-updates/universe amd64 chromium-chromedriver amd64 1:85.0.4183.83-0ubuntu0.20.04.3 [2,496 B]\n",
            "Get:7 http://archive.ubuntu.com/ubuntu focal/universe amd64 python3-selenium all 4.0.0~a1+dfsg1-1.1 [86.2 kB]\n",
            "Fetched 38.7 MB in 2s (24.4 MB/s)\n",
            "debconf: unable to initialize frontend: Dialog\n",
            "debconf: (No usable dialog-like program is installed, so the dialog based frontend cannot be used. at /usr/share/perl5/Debconf/FrontEnd/Dialog.pm line 76, <> line 7.)\n",
            "debconf: falling back to frontend: Readline\n",
            "debconf: unable to initialize frontend: Readline\n",
            "debconf: (This frontend requires a controlling tty.)\n",
            "debconf: falling back to frontend: Teletype\n",
            "dpkg-preconfigure: unable to re-open stdin: \n",
            "Selecting previously unselected package apparmor.\n",
            "(Reading database ... 123337 files and directories currently installed.)\n",
            "Preparing to unpack .../apparmor_2.13.3-7ubuntu5.2_amd64.deb ...\n",
            "Unpacking apparmor (2.13.3-7ubuntu5.2) ...\n",
            "Selecting previously unselected package liblzo2-2:amd64.\n",
            "Preparing to unpack .../liblzo2-2_2.10-2_amd64.deb ...\n",
            "Unpacking liblzo2-2:amd64 (2.10-2) ...\n",
            "Selecting previously unselected package squashfs-tools.\n",
            "Preparing to unpack .../squashfs-tools_1%3a4.4-1ubuntu0.3_amd64.deb ...\n",
            "Unpacking squashfs-tools (1:4.4-1ubuntu0.3) ...\n",
            "Selecting previously unselected package snapd.\n",
            "Preparing to unpack .../snapd_2.58+20.04.1_amd64.deb ...\n",
            "Unpacking snapd (2.58+20.04.1) ...\n",
            "Setting up apparmor (2.13.3-7ubuntu5.2) ...\n",
            "debconf: unable to initialize frontend: Dialog\n",
            "debconf: (No usable dialog-like program is installed, so the dialog based frontend cannot be used. at /usr/share/perl5/Debconf/FrontEnd/Dialog.pm line 76.)\n",
            "debconf: falling back to frontend: Readline\n",
            "Created symlink /etc/systemd/system/sysinit.target.wants/apparmor.service → /lib/systemd/system/apparmor.service.\n",
            "Setting up liblzo2-2:amd64 (2.10-2) ...\n",
            "Setting up squashfs-tools (1:4.4-1ubuntu0.3) ...\n",
            "Setting up snapd (2.58+20.04.1) ...\n",
            "Created symlink /etc/systemd/system/multi-user.target.wants/snapd.aa-prompt-listener.service → /lib/systemd/system/snapd.aa-prompt-listener.service.\n",
            "Created symlink /etc/systemd/system/multi-user.target.wants/snapd.apparmor.service → /lib/systemd/system/snapd.apparmor.service.\n",
            "Created symlink /etc/systemd/system/multi-user.target.wants/snapd.autoimport.service → /lib/systemd/system/snapd.autoimport.service.\n",
            "Created symlink /etc/systemd/system/multi-user.target.wants/snapd.core-fixup.service → /lib/systemd/system/snapd.core-fixup.service.\n",
            "Created symlink /etc/systemd/system/multi-user.target.wants/snapd.recovery-chooser-trigger.service → /lib/systemd/system/snapd.recovery-chooser-trigger.service.\n",
            "Created symlink /etc/systemd/system/multi-user.target.wants/snapd.seeded.service → /lib/systemd/system/snapd.seeded.service.\n",
            "Created symlink /etc/systemd/system/cloud-final.service.wants/snapd.seeded.service → /lib/systemd/system/snapd.seeded.service.\n",
            "Created symlink /etc/systemd/system/multi-user.target.wants/snapd.service → /lib/systemd/system/snapd.service.\n",
            "Created symlink /etc/systemd/system/timers.target.wants/snapd.snap-repair.timer → /lib/systemd/system/snapd.snap-repair.timer.\n",
            "Created symlink /etc/systemd/system/sockets.target.wants/snapd.socket → /lib/systemd/system/snapd.socket.\n",
            "Created symlink /etc/systemd/system/final.target.wants/snapd.system-shutdown.service → /lib/systemd/system/snapd.system-shutdown.service.\n",
            "Selecting previously unselected package chromium-browser.\n",
            "(Reading database ... 123633 files and directories currently installed.)\n",
            "Preparing to unpack .../chromium-browser_1%3a85.0.4183.83-0ubuntu0.20.04.3_amd64.deb ...\n",
            "debconf: unable to initialize frontend: Dialog\n",
            "debconf: (No usable dialog-like program is installed, so the dialog based frontend cannot be used. at /usr/share/perl5/Debconf/FrontEnd/Dialog.pm line 76.)\n",
            "debconf: falling back to frontend: Readline\n",
            "=> Installing the chromium snap\n",
            "==> Checking connectivity with the snap store\n",
            "===> System doesn't have a working snapd, skipping\n",
            "Unpacking chromium-browser (1:85.0.4183.83-0ubuntu0.20.04.3) ...\n",
            "Selecting previously unselected package chromium-chromedriver.\n",
            "Preparing to unpack .../chromium-chromedriver_1%3a85.0.4183.83-0ubuntu0.20.04.3_amd64.deb ...\n",
            "Unpacking chromium-chromedriver (1:85.0.4183.83-0ubuntu0.20.04.3) ...\n",
            "Selecting previously unselected package python3-selenium.\n",
            "Preparing to unpack .../python3-selenium_4.0.0~a1+dfsg1-1.1_all.deb ...\n",
            "Unpacking python3-selenium (4.0.0~a1+dfsg1-1.1) ...\n",
            "Setting up python3-selenium (4.0.0~a1+dfsg1-1.1) ...\n",
            "Setting up chromium-browser (1:85.0.4183.83-0ubuntu0.20.04.3) ...\n",
            "Setting up chromium-chromedriver (1:85.0.4183.83-0ubuntu0.20.04.3) ...\n",
            "Processing triggers for mime-support (3.64ubuntu1) ...\n",
            "Processing triggers for hicolor-icon-theme (0.17-2) ...\n",
            "Processing triggers for libc-bin (2.31-0ubuntu9.9) ...\n",
            "Processing triggers for systemd (245.4-4ubuntu3.22) ...\n",
            "Processing triggers for man-db (2.9.1-1) ...\n",
            "Processing triggers for dbus (1.12.16-2ubuntu2.3) ...\n"
          ]
        }
      ],
      "id": "tAdHm4rgMKVd"
    },
    {
      "cell_type": "code",
      "source": [
        "# To check Google Chrome's version\n",
        "!google-chrome --version"
      ],
      "metadata": {
        "papermill": {
          "duration": 1.247594,
          "end_time": "2023-03-04T15:23:49.520153",
          "exception": false,
          "start_time": "2023-03-04T15:23:48.272559",
          "status": "completed"
        },
        "tags": [],
        "colab": {
          "base_uri": "https://localhost:8080/"
        },
        "id": "pbJyBI3kMKVg",
        "outputId": "2fa9acc8-025e-4cfc-aa39-3375568d4e8f",
        "execution": {
          "iopub.status.busy": "2023-07-13T17:05:12.302487Z",
          "iopub.execute_input": "2023-07-13T17:05:12.302859Z",
          "iopub.status.idle": "2023-07-13T17:05:12.604710Z",
          "shell.execute_reply.started": "2023-07-13T17:05:12.302827Z",
          "shell.execute_reply": "2023-07-13T17:05:12.602389Z"
        },
        "trusted": true
      },
      "execution_count": null,
      "outputs": [
        {
          "output_type": "stream",
          "name": "stdout",
          "text": [
            "Google Chrome 114.0.5735.198 \n"
          ]
        }
      ],
      "id": "pbJyBI3kMKVg"
    },
    {
      "cell_type": "code",
      "source": [
        "# To check Chrome Driver's version\n",
        "!chromedriver -v"
      ],
      "metadata": {
        "papermill": {
          "duration": 1.166835,
          "end_time": "2023-03-04T15:23:50.711714",
          "exception": false,
          "start_time": "2023-03-04T15:23:49.544879",
          "status": "completed"
        },
        "tags": [],
        "colab": {
          "base_uri": "https://localhost:8080/"
        },
        "id": "0Xqt7ZWVMKVj",
        "outputId": "5d761c90-c2f7-4b9d-c317-cd266b3d0291",
        "execution": {
          "iopub.status.busy": "2023-07-13T17:05:16.668233Z",
          "iopub.execute_input": "2023-07-13T17:05:16.669794Z",
          "iopub.status.idle": "2023-07-13T17:05:16.936267Z",
          "shell.execute_reply.started": "2023-07-13T17:05:16.669726Z",
          "shell.execute_reply": "2023-07-13T17:05:16.934645Z"
        },
        "trusted": true
      },
      "execution_count": null,
      "outputs": [
        {
          "output_type": "stream",
          "name": "stdout",
          "text": [
            "ChromeDriver 114.0.5735.90 (386bc09e8f4f2e025eddae123f36f6263096ae49-refs/branch-heads/5735@{#1052})\n"
          ]
        }
      ],
      "id": "0Xqt7ZWVMKVj"
    },
    {
      "cell_type": "code",
      "source": [],
      "metadata": {
        "papermill": {
          "duration": 0.02289,
          "end_time": "2023-03-04T15:23:50.758368",
          "exception": false,
          "start_time": "2023-03-04T15:23:50.735478",
          "status": "completed"
        },
        "tags": [],
        "id": "Q9V1n0EiMKVn"
      },
      "execution_count": null,
      "outputs": [],
      "id": "Q9V1n0EiMKVn"
    },
    {
      "cell_type": "markdown",
      "source": [
        "#### Importing necessary packages"
      ],
      "metadata": {
        "papermill": {
          "duration": 0.023212,
          "end_time": "2023-03-04T15:23:50.804895",
          "exception": false,
          "start_time": "2023-03-04T15:23:50.781683",
          "status": "completed"
        },
        "tags": [],
        "id": "XJ5IHsrtMKVr"
      },
      "id": "XJ5IHsrtMKVr"
    },
    {
      "cell_type": "code",
      "source": [
        "from selenium import webdriver\n",
        "from selenium.webdriver.common.by import By\n",
        "# from selenium.webdriver.chrome.service import Service\n",
        "# from webdriver_manager.chrome import ChromeDriverManager\n",
        "# from selenium.webdriver.chrome.options import Options\n",
        "\n",
        "chrome_options = webdriver.ChromeOptions()\n",
        "\n",
        "chrome_options.add_argument('--headless')\n",
        "chrome_options.add_argument('--no-sandbox')\n",
        "chrome_options.add_argument('--disable-dev-shm-usage')\n",
        "chrome_options.add_argument('--disable-gpu')\n",
        "# chrome_options.add_argument(\"--window-size=1920,1080\")"
      ],
      "metadata": {
        "papermill": {
          "duration": 0.065098,
          "end_time": "2023-03-04T15:23:50.893233",
          "exception": false,
          "start_time": "2023-03-04T15:23:50.828135",
          "status": "completed"
        },
        "tags": [],
        "id": "qEgts72hMKVu",
        "execution": {
          "iopub.status.busy": "2023-07-13T17:05:21.161680Z",
          "iopub.execute_input": "2023-07-13T17:05:21.162132Z",
          "iopub.status.idle": "2023-07-13T17:05:21.169621Z",
          "shell.execute_reply.started": "2023-07-13T17:05:21.162095Z",
          "shell.execute_reply": "2023-07-13T17:05:21.167963Z"
        },
        "trusted": true
      },
      "execution_count": null,
      "outputs": [],
      "id": "qEgts72hMKVu"
    },
    {
      "cell_type": "code",
      "source": [
        "import requests\n",
        "import json\n",
        "import pandas as pd\n",
        "import numpy as np\n",
        "import re\n",
        "\n",
        "from tqdm import tqdm\n",
        "from bs4 import BeautifulSoup"
      ],
      "metadata": {
        "_cell_guid": "b1076dfc-b9ad-4769-8c92-a6c4dae69d19",
        "_uuid": "8f2839f25d086af736a60e9eeb907d3b93b6e0e5",
        "papermill": {
          "duration": 0.22968,
          "end_time": "2023-03-04T15:23:51.146590",
          "exception": false,
          "start_time": "2023-03-04T15:23:50.916910",
          "status": "completed"
        },
        "tags": [],
        "id": "D_2ATNwHMKVy",
        "execution": {
          "iopub.status.busy": "2023-07-13T17:05:23.144334Z",
          "iopub.execute_input": "2023-07-13T17:05:23.144721Z",
          "iopub.status.idle": "2023-07-13T17:05:23.150707Z",
          "shell.execute_reply.started": "2023-07-13T17:05:23.144690Z",
          "shell.execute_reply": "2023-07-13T17:05:23.149083Z"
        },
        "trusted": true
      },
      "execution_count": null,
      "outputs": [],
      "id": "D_2ATNwHMKVy"
    },
    {
      "cell_type": "markdown",
      "source": [
        "#### Parameters"
      ],
      "metadata": {
        "papermill": {
          "duration": 0.022884,
          "end_time": "2023-03-04T15:23:51.192800",
          "exception": false,
          "start_time": "2023-03-04T15:23:51.169916",
          "status": "completed"
        },
        "tags": [],
        "id": "V4QVMna3MKV1"
      },
      "id": "V4QVMna3MKV1"
    },
    {
      "cell_type": "code",
      "source": [
        "start = 0\n",
        "offset = 50\n",
        "no_of_urls_to_scrape = 1000\n",
        "\n",
        "end = start + no_of_urls_to_scrape\n",
        "print(\"Start: \", start, \"\\tEnd: \", end)"
      ],
      "metadata": {
        "papermill": {
          "duration": 0.035202,
          "end_time": "2023-03-04T15:23:51.251216",
          "exception": false,
          "start_time": "2023-03-04T15:23:51.216014",
          "status": "completed"
        },
        "tags": [],
        "colab": {
          "base_uri": "https://localhost:8080/"
        },
        "id": "chnXSgp_MKV4",
        "outputId": "e6485af4-b9e4-4874-bb88-1815960e337d",
        "execution": {
          "iopub.status.busy": "2023-07-13T17:05:26.027150Z",
          "iopub.execute_input": "2023-07-13T17:05:26.027517Z",
          "iopub.status.idle": "2023-07-13T17:05:26.034340Z",
          "shell.execute_reply.started": "2023-07-13T17:05:26.027488Z",
          "shell.execute_reply": "2023-07-13T17:05:26.032646Z"
        },
        "trusted": true
      },
      "execution_count": null,
      "outputs": [
        {
          "output_type": "stream",
          "name": "stdout",
          "text": [
            "Start:  0 \tEnd:  1000\n"
          ]
        }
      ],
      "id": "chnXSgp_MKV4"
    },
    {
      "cell_type": "code",
      "source": [
        "driver = webdriver.Chrome(options = chrome_options)"
      ],
      "metadata": {
        "papermill": {
          "duration": 0.864513,
          "end_time": "2023-03-04T15:23:52.139279",
          "exception": false,
          "start_time": "2023-03-04T15:23:51.274766",
          "status": "completed"
        },
        "tags": [],
        "id": "LidmWCBjMKV7",
        "execution": {
          "iopub.status.busy": "2023-07-13T17:05:26.988960Z",
          "iopub.execute_input": "2023-07-13T17:05:26.989958Z",
          "iopub.status.idle": "2023-07-13T17:05:28.287948Z",
          "shell.execute_reply.started": "2023-07-13T17:05:26.989905Z",
          "shell.execute_reply": "2023-07-13T17:05:28.287075Z"
        },
        "trusted": true
      },
      "execution_count": null,
      "outputs": [],
      "id": "LidmWCBjMKV7"
    },
    {
      "cell_type": "markdown",
      "source": [
        "#### Read test dataset"
      ],
      "metadata": {
        "papermill": {
          "duration": 0.023889,
          "end_time": "2023-03-04T15:23:52.190874",
          "exception": false,
          "start_time": "2023-03-04T15:23:52.166985",
          "status": "completed"
        },
        "tags": [],
        "id": "YfwiGdKCMKV9"
      },
      "id": "YfwiGdKCMKV9"
    },
    {
      "cell_type": "code",
      "source": [
        "url=\"https://www.deshdoot.com/\"\n",
        "main_list=[]\n",
        "response=requests.get(url).content\n",
        "soup=BeautifulSoup(response,\"html.parser\")\n",
        "main=soup.find(\"div\",attrs={'class':'home-page'})\n",
        "anchors=main.find_all('a')\n",
        "\n",
        "for anchor in anchors:\n",
        "    sublist=[]\n",
        "    href=anchor.get(\"href\")\n",
        "    if(href.startswith(\"https://www.deshdoot.com/\")):\n",
        "        sublist.append(href)\n",
        "        sublist.append(\"article_url\")\n",
        "        main_list.append(sublist)\n",
        "for link in main_list:\n",
        "  print(link)\n"
      ],
      "metadata": {
        "id": "nRJa9m93lxdE",
        "execution": {
          "iopub.status.busy": "2023-07-13T17:07:54.805197Z",
          "iopub.execute_input": "2023-07-13T17:07:54.805631Z",
          "iopub.status.idle": "2023-07-13T17:07:54.972801Z",
          "shell.execute_reply.started": "2023-07-13T17:07:54.805599Z",
          "shell.execute_reply": "2023-07-13T17:07:54.971817Z"
        },
        "trusted": true,
        "colab": {
          "base_uri": "https://localhost:8080/"
        },
        "outputId": "f4a47c8b-9198-443d-c1d2-ece65643911c"
      },
      "execution_count": null,
      "outputs": [
        {
          "output_type": "stream",
          "name": "stdout",
          "text": [
            "['https://www.deshdoot.com/others/national-international/isro-chandrayaan-3-launch-complete-india-moon-mission-successful', 'article_url']\n",
            "['https://www.deshdoot.com/others/national-international', 'article_url']\n",
            "['https://www.deshdoot.com/others/national-international/isro-chandrayaan-3-launch-complete-india-moon-mission-successful', 'article_url']\n",
            "['https://www.deshdoot.com/breaking-news/pm-narendra-modi-awarded-by-frances-highest-honour-who-became-first-prime-minister', 'article_url']\n",
            "['https://www.deshdoot.com/breaking-news', 'article_url']\n",
            "['https://www.deshdoot.com/breaking-news/pm-narendra-modi-awarded-by-frances-highest-honour-who-became-first-prime-minister', 'article_url']\n",
            "['https://www.deshdoot.com/breaking-news/supreme-court-notice-to-assembly-speaker-rahul-narvekar-in-disqualification-of-16-mlas', 'article_url']\n",
            "['https://www.deshdoot.com/breaking-news', 'article_url']\n",
            "['https://www.deshdoot.com/breaking-news/supreme-court-notice-to-assembly-speaker-rahul-narvekar-in-disqualification-of-16-mlas', 'article_url']\n",
            "['https://www.deshdoot.com/breaking-news/maharashtra-cabinet-portfolio-ajit-pawar-is-likely-to-get-finance-and-chhagan-bhujbal-will-get-agriculture', 'article_url']\n",
            "['https://www.deshdoot.com/breaking-news', 'article_url']\n",
            "['https://www.deshdoot.com/breaking-news/maharashtra-cabinet-portfolio-ajit-pawar-is-likely-to-get-finance-and-chhagan-bhujbal-will-get-agriculture', 'article_url']\n",
            "['https://www.deshdoot.com/local-news/nasik', 'article_url']\n",
            "['https://www.deshdoot.com/local-news/nasik/anti-robbery-and-anti-arms-squad-has-arrested-those-who-were-terrorizing-people-with-knives-in-their-hands', 'article_url']\n",
            "['https://www.deshdoot.com/local-news/nasik', 'article_url']\n",
            "['https://www.deshdoot.com/local-news/nasik/anti-robbery-and-anti-arms-squad-has-arrested-those-who-were-terrorizing-people-with-knives-in-their-hands', 'article_url']\n",
            "['https://www.deshdoot.com/breaking-news/instructions-to-jnpa-for-purchase-of-niphad-dryport-land', 'article_url']\n",
            "['https://www.deshdoot.com/breaking-news', 'article_url']\n",
            "['https://www.deshdoot.com/breaking-news/instructions-to-jnpa-for-purchase-of-niphad-dryport-land', 'article_url']\n",
            "['https://www.deshdoot.com/local-news/nasik/special-planning-of-transport-by-police-for-sasan-aipana-dari-programme', 'article_url']\n",
            "['https://www.deshdoot.com/local-news/nasik', 'article_url']\n",
            "['https://www.deshdoot.com/local-news/nasik/special-planning-of-transport-by-police-for-sasan-aipana-dari-programme', 'article_url']\n",
            "['https://www.deshdoot.com/local-news/nasik/state-cabinet-expansion-stalled-another-disappointment-for-nashik', 'article_url']\n",
            "['https://www.deshdoot.com/local-news/nasik', 'article_url']\n",
            "['https://www.deshdoot.com/local-news/nasik/state-cabinet-expansion-stalled-another-disappointment-for-nashik', 'article_url']\n",
            "['https://www.deshdoot.com/local-news/nasik/two-leopard-cubs-in-chadegaon-cctv-cameras-installed-to-search-for-the-mother', 'article_url']\n",
            "['https://www.deshdoot.com/local-news/nasik', 'article_url']\n",
            "['https://www.deshdoot.com/local-news/nasik/two-leopard-cubs-in-chadegaon-cctv-cameras-installed-to-search-for-the-mother', 'article_url']\n",
            "['https://www.deshdoot.com/local-news/nasik', 'article_url']\n",
            "['https://www.deshdoot.com/khandesh', 'article_url']\n",
            "['https://www.deshdoot.com/khandesh/jalgaon-updates/threat-to-eknath-shindes-post-as-chief-minister-in-the-future-mla-eknathrao-khadse', 'article_url']\n",
            "['https://www.deshdoot.com/khandesh/jalgaon-updates', 'article_url']\n",
            "['https://www.deshdoot.com/khandesh/jalgaon-updates/threat-to-eknath-shindes-post-as-chief-minister-in-the-future-mla-eknathrao-khadse', 'article_url']\n",
            "['https://www.deshdoot.com/breaking-news/guardian-minister-gulabrao-patil-interacted-with-reporters-at-his-residence-in-paladhi', 'article_url']\n",
            "['https://www.deshdoot.com/breaking-news', 'article_url']\n",
            "['https://www.deshdoot.com/breaking-news/guardian-minister-gulabrao-patil-interacted-with-reporters-at-his-residence-in-paladhi', 'article_url']\n",
            "['https://www.deshdoot.com/khandesh/dhule-news/orders-of-the-upper-district-magistrate-to-maintain-law-and-order-in-the-district', 'article_url']\n",
            "['https://www.deshdoot.com/khandesh/dhule-news', 'article_url']\n",
            "['https://www.deshdoot.com/khandesh/dhule-news/orders-of-the-upper-district-magistrate-to-maintain-law-and-order-in-the-district', 'article_url']\n",
            "['https://www.deshdoot.com/khandesh/nandurbar-news/villages-on-the-banks-of-tapi-river-alerted', 'article_url']\n",
            "['https://www.deshdoot.com/khandesh/nandurbar-news', 'article_url']\n",
            "['https://www.deshdoot.com/khandesh/nandurbar-news/villages-on-the-banks-of-tapi-river-alerted', 'article_url']\n",
            "['https://www.deshdoot.com/khandesh', 'article_url']\n",
            "['https://www.deshdoot.com/local-news/sarvamat', 'article_url']\n",
            "['https://www.deshdoot.com/local-news/sarvamat/akole-amit-bhangre-sunita-bhangre-parner-sujit-zaware-sharad-pawar-support-ahmednagar', 'article_url']\n",
            "['https://www.deshdoot.com/local-news/sarvamat', 'article_url']\n",
            "['https://www.deshdoot.com/local-news/sarvamat/akole-amit-bhangre-sunita-bhangre-parner-sujit-zaware-sharad-pawar-support-ahmednagar', 'article_url']\n",
            "['https://www.deshdoot.com/local-news/sarvamat/minister-dhananjay-munde-political-statement-ahmednagar', 'article_url']\n",
            "['https://www.deshdoot.com/local-news/sarvamat', 'article_url']\n",
            "['https://www.deshdoot.com/local-news/sarvamat/minister-dhananjay-munde-political-statement-ahmednagar', 'article_url']\n",
            "['https://www.deshdoot.com/local-news/sarvamat/ahmednagar-district-tomatoes-planting-ahmednagar', 'article_url']\n",
            "['https://www.deshdoot.com/local-news/sarvamat', 'article_url']\n",
            "['https://www.deshdoot.com/local-news/sarvamat/ahmednagar-district-tomatoes-planting-ahmednagar', 'article_url']\n",
            "['https://www.deshdoot.com/local-news/sarvamat/dhananjay-munde-rohit-pawar-supporters-protest-jamkhed', 'article_url']\n",
            "['https://www.deshdoot.com/local-news/sarvamat', 'article_url']\n",
            "['https://www.deshdoot.com/local-news/sarvamat/dhananjay-munde-rohit-pawar-supporters-protest-jamkhed', 'article_url']\n",
            "['https://www.deshdoot.com/local-news/sarvamat', 'article_url']\n"
          ]
        }
      ],
      "id": "nRJa9m93lxdE"
    },
    {
      "cell_type": "code",
      "source": [
        "df=pd.DataFrame(main_list,columns=[\"url\",\"category\"])\n",
        "df.to_csv(\"deshdoot.csv\")"
      ],
      "metadata": {
        "id": "ld0SicucwTKG",
        "execution": {
          "iopub.status.busy": "2023-07-13T17:07:55.738069Z",
          "iopub.execute_input": "2023-07-13T17:07:55.738889Z",
          "iopub.status.idle": "2023-07-13T17:07:55.745503Z",
          "shell.execute_reply.started": "2023-07-13T17:07:55.738857Z",
          "shell.execute_reply": "2023-07-13T17:07:55.743893Z"
        },
        "trusted": true
      },
      "execution_count": 11,
      "outputs": [],
      "id": "ld0SicucwTKG"
    },
    {
      "cell_type": "code",
      "source": [
        "df.head(10)"
      ],
      "metadata": {
        "colab": {
          "base_uri": "https://localhost:8080/",
          "height": 363
        },
        "id": "nYLscEYYxF7h",
        "outputId": "45ad030a-469a-43e9-fb3e-20654c2e324c",
        "execution": {
          "iopub.status.busy": "2023-07-13T17:07:58.450528Z",
          "iopub.execute_input": "2023-07-13T17:07:58.451235Z",
          "iopub.status.idle": "2023-07-13T17:07:58.462047Z",
          "shell.execute_reply.started": "2023-07-13T17:07:58.451202Z",
          "shell.execute_reply": "2023-07-13T17:07:58.460280Z"
        },
        "trusted": true
      },
      "execution_count": 12,
      "outputs": [
        {
          "output_type": "execute_result",
          "data": {
            "text/plain": [
              "                                                 url     category\n",
              "0  https://www.deshdoot.com/others/national-inter...  article_url\n",
              "1  https://www.deshdoot.com/others/national-inter...  article_url\n",
              "2  https://www.deshdoot.com/others/national-inter...  article_url\n",
              "3  https://www.deshdoot.com/breaking-news/pm-nare...  article_url\n",
              "4             https://www.deshdoot.com/breaking-news  article_url\n",
              "5  https://www.deshdoot.com/breaking-news/pm-nare...  article_url\n",
              "6  https://www.deshdoot.com/breaking-news/supreme...  article_url\n",
              "7             https://www.deshdoot.com/breaking-news  article_url\n",
              "8  https://www.deshdoot.com/breaking-news/supreme...  article_url\n",
              "9  https://www.deshdoot.com/breaking-news/maharas...  article_url"
            ],
            "text/html": [
              "\n",
              "\n",
              "  <div id=\"df-e6c94de3-5975-4164-a464-036fc08a6f35\">\n",
              "    <div class=\"colab-df-container\">\n",
              "      <div>\n",
              "<style scoped>\n",
              "    .dataframe tbody tr th:only-of-type {\n",
              "        vertical-align: middle;\n",
              "    }\n",
              "\n",
              "    .dataframe tbody tr th {\n",
              "        vertical-align: top;\n",
              "    }\n",
              "\n",
              "    .dataframe thead th {\n",
              "        text-align: right;\n",
              "    }\n",
              "</style>\n",
              "<table border=\"1\" class=\"dataframe\">\n",
              "  <thead>\n",
              "    <tr style=\"text-align: right;\">\n",
              "      <th></th>\n",
              "      <th>url</th>\n",
              "      <th>category</th>\n",
              "    </tr>\n",
              "  </thead>\n",
              "  <tbody>\n",
              "    <tr>\n",
              "      <th>0</th>\n",
              "      <td>https://www.deshdoot.com/others/national-inter...</td>\n",
              "      <td>article_url</td>\n",
              "    </tr>\n",
              "    <tr>\n",
              "      <th>1</th>\n",
              "      <td>https://www.deshdoot.com/others/national-inter...</td>\n",
              "      <td>article_url</td>\n",
              "    </tr>\n",
              "    <tr>\n",
              "      <th>2</th>\n",
              "      <td>https://www.deshdoot.com/others/national-inter...</td>\n",
              "      <td>article_url</td>\n",
              "    </tr>\n",
              "    <tr>\n",
              "      <th>3</th>\n",
              "      <td>https://www.deshdoot.com/breaking-news/pm-nare...</td>\n",
              "      <td>article_url</td>\n",
              "    </tr>\n",
              "    <tr>\n",
              "      <th>4</th>\n",
              "      <td>https://www.deshdoot.com/breaking-news</td>\n",
              "      <td>article_url</td>\n",
              "    </tr>\n",
              "    <tr>\n",
              "      <th>5</th>\n",
              "      <td>https://www.deshdoot.com/breaking-news/pm-nare...</td>\n",
              "      <td>article_url</td>\n",
              "    </tr>\n",
              "    <tr>\n",
              "      <th>6</th>\n",
              "      <td>https://www.deshdoot.com/breaking-news/supreme...</td>\n",
              "      <td>article_url</td>\n",
              "    </tr>\n",
              "    <tr>\n",
              "      <th>7</th>\n",
              "      <td>https://www.deshdoot.com/breaking-news</td>\n",
              "      <td>article_url</td>\n",
              "    </tr>\n",
              "    <tr>\n",
              "      <th>8</th>\n",
              "      <td>https://www.deshdoot.com/breaking-news/supreme...</td>\n",
              "      <td>article_url</td>\n",
              "    </tr>\n",
              "    <tr>\n",
              "      <th>9</th>\n",
              "      <td>https://www.deshdoot.com/breaking-news/maharas...</td>\n",
              "      <td>article_url</td>\n",
              "    </tr>\n",
              "  </tbody>\n",
              "</table>\n",
              "</div>\n",
              "      <button class=\"colab-df-convert\" onclick=\"convertToInteractive('df-e6c94de3-5975-4164-a464-036fc08a6f35')\"\n",
              "              title=\"Convert this dataframe to an interactive table.\"\n",
              "              style=\"display:none;\">\n",
              "\n",
              "  <svg xmlns=\"http://www.w3.org/2000/svg\" height=\"24px\"viewBox=\"0 0 24 24\"\n",
              "       width=\"24px\">\n",
              "    <path d=\"M0 0h24v24H0V0z\" fill=\"none\"/>\n",
              "    <path d=\"M18.56 5.44l.94 2.06.94-2.06 2.06-.94-2.06-.94-.94-2.06-.94 2.06-2.06.94zm-11 1L8.5 8.5l.94-2.06 2.06-.94-2.06-.94L8.5 2.5l-.94 2.06-2.06.94zm10 10l.94 2.06.94-2.06 2.06-.94-2.06-.94-.94-2.06-.94 2.06-2.06.94z\"/><path d=\"M17.41 7.96l-1.37-1.37c-.4-.4-.92-.59-1.43-.59-.52 0-1.04.2-1.43.59L10.3 9.45l-7.72 7.72c-.78.78-.78 2.05 0 2.83L4 21.41c.39.39.9.59 1.41.59.51 0 1.02-.2 1.41-.59l7.78-7.78 2.81-2.81c.8-.78.8-2.07 0-2.86zM5.41 20L4 18.59l7.72-7.72 1.47 1.35L5.41 20z\"/>\n",
              "  </svg>\n",
              "      </button>\n",
              "\n",
              "\n",
              "\n",
              "    <div id=\"df-4002bfbd-bd1c-46be-85f5-bd7a2ae35208\">\n",
              "      <button class=\"colab-df-quickchart\" onclick=\"quickchart('df-4002bfbd-bd1c-46be-85f5-bd7a2ae35208')\"\n",
              "              title=\"Suggest charts.\"\n",
              "              style=\"display:none;\">\n",
              "\n",
              "<svg xmlns=\"http://www.w3.org/2000/svg\" height=\"24px\"viewBox=\"0 0 24 24\"\n",
              "     width=\"24px\">\n",
              "    <g>\n",
              "        <path d=\"M19 3H5c-1.1 0-2 .9-2 2v14c0 1.1.9 2 2 2h14c1.1 0 2-.9 2-2V5c0-1.1-.9-2-2-2zM9 17H7v-7h2v7zm4 0h-2V7h2v10zm4 0h-2v-4h2v4z\"/>\n",
              "    </g>\n",
              "</svg>\n",
              "      </button>\n",
              "    </div>\n",
              "\n",
              "<style>\n",
              "  .colab-df-quickchart {\n",
              "    background-color: #E8F0FE;\n",
              "    border: none;\n",
              "    border-radius: 50%;\n",
              "    cursor: pointer;\n",
              "    display: none;\n",
              "    fill: #1967D2;\n",
              "    height: 32px;\n",
              "    padding: 0 0 0 0;\n",
              "    width: 32px;\n",
              "  }\n",
              "\n",
              "  .colab-df-quickchart:hover {\n",
              "    background-color: #E2EBFA;\n",
              "    box-shadow: 0px 1px 2px rgba(60, 64, 67, 0.3), 0px 1px 3px 1px rgba(60, 64, 67, 0.15);\n",
              "    fill: #174EA6;\n",
              "  }\n",
              "\n",
              "  [theme=dark] .colab-df-quickchart {\n",
              "    background-color: #3B4455;\n",
              "    fill: #D2E3FC;\n",
              "  }\n",
              "\n",
              "  [theme=dark] .colab-df-quickchart:hover {\n",
              "    background-color: #434B5C;\n",
              "    box-shadow: 0px 1px 3px 1px rgba(0, 0, 0, 0.15);\n",
              "    filter: drop-shadow(0px 1px 2px rgba(0, 0, 0, 0.3));\n",
              "    fill: #FFFFFF;\n",
              "  }\n",
              "</style>\n",
              "\n",
              "    <script>\n",
              "      async function quickchart(key) {\n",
              "        const containerElement = document.querySelector('#' + key);\n",
              "        const charts = await google.colab.kernel.invokeFunction(\n",
              "            'suggestCharts', [key], {});\n",
              "      }\n",
              "    </script>\n",
              "\n",
              "      <script>\n",
              "\n",
              "function displayQuickchartButton(domScope) {\n",
              "  let quickchartButtonEl =\n",
              "    domScope.querySelector('#df-4002bfbd-bd1c-46be-85f5-bd7a2ae35208 button.colab-df-quickchart');\n",
              "  quickchartButtonEl.style.display =\n",
              "    google.colab.kernel.accessAllowed ? 'block' : 'none';\n",
              "}\n",
              "\n",
              "        displayQuickchartButton(document);\n",
              "      </script>\n",
              "      <style>\n",
              "    .colab-df-container {\n",
              "      display:flex;\n",
              "      flex-wrap:wrap;\n",
              "      gap: 12px;\n",
              "    }\n",
              "\n",
              "    .colab-df-convert {\n",
              "      background-color: #E8F0FE;\n",
              "      border: none;\n",
              "      border-radius: 50%;\n",
              "      cursor: pointer;\n",
              "      display: none;\n",
              "      fill: #1967D2;\n",
              "      height: 32px;\n",
              "      padding: 0 0 0 0;\n",
              "      width: 32px;\n",
              "    }\n",
              "\n",
              "    .colab-df-convert:hover {\n",
              "      background-color: #E2EBFA;\n",
              "      box-shadow: 0px 1px 2px rgba(60, 64, 67, 0.3), 0px 1px 3px 1px rgba(60, 64, 67, 0.15);\n",
              "      fill: #174EA6;\n",
              "    }\n",
              "\n",
              "    [theme=dark] .colab-df-convert {\n",
              "      background-color: #3B4455;\n",
              "      fill: #D2E3FC;\n",
              "    }\n",
              "\n",
              "    [theme=dark] .colab-df-convert:hover {\n",
              "      background-color: #434B5C;\n",
              "      box-shadow: 0px 1px 3px 1px rgba(0, 0, 0, 0.15);\n",
              "      filter: drop-shadow(0px 1px 2px rgba(0, 0, 0, 0.3));\n",
              "      fill: #FFFFFF;\n",
              "    }\n",
              "  </style>\n",
              "\n",
              "      <script>\n",
              "        const buttonEl =\n",
              "          document.querySelector('#df-e6c94de3-5975-4164-a464-036fc08a6f35 button.colab-df-convert');\n",
              "        buttonEl.style.display =\n",
              "          google.colab.kernel.accessAllowed ? 'block' : 'none';\n",
              "\n",
              "        async function convertToInteractive(key) {\n",
              "          const element = document.querySelector('#df-e6c94de3-5975-4164-a464-036fc08a6f35');\n",
              "          const dataTable =\n",
              "            await google.colab.kernel.invokeFunction('convertToInteractive',\n",
              "                                                     [key], {});\n",
              "          if (!dataTable) return;\n",
              "\n",
              "          const docLinkHtml = 'Like what you see? Visit the ' +\n",
              "            '<a target=\"_blank\" href=https://colab.research.google.com/notebooks/data_table.ipynb>data table notebook</a>'\n",
              "            + ' to learn more about interactive tables.';\n",
              "          element.innerHTML = '';\n",
              "          dataTable['output_type'] = 'display_data';\n",
              "          await google.colab.output.renderOutput(dataTable, element);\n",
              "          const docLink = document.createElement('div');\n",
              "          docLink.innerHTML = docLinkHtml;\n",
              "          element.appendChild(docLink);\n",
              "        }\n",
              "      </script>\n",
              "    </div>\n",
              "  </div>\n"
            ]
          },
          "metadata": {},
          "execution_count": 12
        }
      ],
      "id": "nYLscEYYxF7h"
    },
    {
      "cell_type": "code",
      "source": [
        "samples_count = 0\n",
        "out_df = None\n",
        "for chunk in pd.read_csv('/content/deshdoot.csv', chunksize = no_of_urls_to_scrape):\n",
        "    if samples_count == start:\n",
        "        out_df = chunk.copy()\n",
        "        break\n",
        "    samples_count += int(chunk.shape[0])\n",
        "\n",
        "\n",
        "if out_df is not None:\n",
        "    print(\"Output Data:\")\n",
        "    print(out_df.shape)\n",
        "    print(out_df.head())\n",
        "else:\n",
        "    exit('Something went wrong with reading the input data...')"
      ],
      "metadata": {
        "papermill": {
          "duration": 0.069528,
          "end_time": "2023-03-04T15:23:52.283745",
          "exception": false,
          "start_time": "2023-03-04T15:23:52.214217",
          "status": "completed"
        },
        "tags": [],
        "colab": {
          "base_uri": "https://localhost:8080/"
        },
        "id": "hXY6vuvWMKV-",
        "outputId": "04403013-33b8-40be-f0a5-7b5456482556",
        "execution": {
          "iopub.status.busy": "2023-07-13T17:08:05.156034Z",
          "iopub.execute_input": "2023-07-13T17:08:05.156412Z",
          "iopub.status.idle": "2023-07-13T17:08:05.170329Z",
          "shell.execute_reply.started": "2023-07-13T17:08:05.156385Z",
          "shell.execute_reply": "2023-07-13T17:08:05.168901Z"
        },
        "trusted": true
      },
      "execution_count": 13,
      "outputs": [
        {
          "output_type": "stream",
          "name": "stdout",
          "text": [
            "Output Data:\n",
            "(57, 3)\n",
            "   Unnamed: 0                                                url     category\n",
            "0           0  https://www.deshdoot.com/others/national-inter...  article_url\n",
            "1           1  https://www.deshdoot.com/others/national-inter...  article_url\n",
            "2           2  https://www.deshdoot.com/others/national-inter...  article_url\n",
            "3           3  https://www.deshdoot.com/breaking-news/pm-nare...  article_url\n",
            "4           4             https://www.deshdoot.com/breaking-news  article_url\n"
          ]
        }
      ],
      "id": "hXY6vuvWMKV-"
    },
    {
      "cell_type": "code",
      "source": [
        "url = out_df['url'][0]\n",
        "print(url)"
      ],
      "metadata": {
        "papermill": {
          "duration": 0.059929,
          "end_time": "2023-03-04T15:23:52.367689",
          "exception": false,
          "start_time": "2023-03-04T15:23:52.307760",
          "status": "completed"
        },
        "tags": [],
        "colab": {
          "base_uri": "https://localhost:8080/"
        },
        "id": "tCabb6gTMKV_",
        "outputId": "1801c966-e71f-41ef-8182-92aa4995714d",
        "execution": {
          "iopub.status.busy": "2023-07-13T17:08:09.325054Z",
          "iopub.execute_input": "2023-07-13T17:08:09.326553Z",
          "iopub.status.idle": "2023-07-13T17:08:09.332973Z",
          "shell.execute_reply.started": "2023-07-13T17:08:09.326514Z",
          "shell.execute_reply": "2023-07-13T17:08:09.331321Z"
        },
        "trusted": true
      },
      "execution_count": 14,
      "outputs": [
        {
          "output_type": "stream",
          "name": "stdout",
          "text": [
            "https://www.deshdoot.com/others/national-international/isro-chandrayaan-3-launch-complete-india-moon-mission-successful\n"
          ]
        }
      ],
      "id": "tCabb6gTMKV_"
    },
    {
      "cell_type": "markdown",
      "source": [
        "#### Scrape news content"
      ],
      "metadata": {
        "papermill": {
          "duration": 0.036825,
          "end_time": "2023-03-04T15:23:52.441009",
          "exception": false,
          "start_time": "2023-03-04T15:23:52.404184",
          "status": "completed"
        },
        "tags": [],
        "id": "HP0aHuXAMKWC"
      },
      "id": "HP0aHuXAMKWC"
    },
    {
      "cell_type": "code",
      "source": [
        "def find_tag_sequence(element):\n",
        "    parent_elements = []\n",
        "    while element is not None:\n",
        "        p_name = getattr(element, 'name', None)\n",
        "        parent_elements.append(p_name)\n",
        "        element = element.parent\n",
        "\n",
        "        if element.parent is None:\n",
        "            break\n",
        "    return '>'.join(parent_elements[::-1])"
      ],
      "metadata": {
        "papermill": {
          "duration": 0.052999,
          "end_time": "2023-03-04T15:23:52.526413",
          "exception": false,
          "start_time": "2023-03-04T15:23:52.473414",
          "status": "completed"
        },
        "tags": [],
        "id": "aA0vgsX1MKWD",
        "execution": {
          "iopub.status.busy": "2023-07-13T17:08:14.295213Z",
          "iopub.execute_input": "2023-07-13T17:08:14.295906Z",
          "iopub.status.idle": "2023-07-13T17:08:14.302887Z",
          "shell.execute_reply.started": "2023-07-13T17:08:14.295863Z",
          "shell.execute_reply": "2023-07-13T17:08:14.301274Z"
        },
        "trusted": true
      },
      "execution_count": 15,
      "outputs": [],
      "id": "aA0vgsX1MKWD"
    },
    {
      "cell_type": "code",
      "source": [
        "def find_neighbours_and_parent(element):\n",
        "    parent_tag = None\n",
        "    prev_tag = None\n",
        "    next_tag = None\n",
        "    child_tags = None\n",
        "\n",
        "    if element is not None:\n",
        "        #### Next sibling\n",
        "        next_sib = element.find_next_sibling()\n",
        "        if next_sib is not None:\n",
        "            next_tag = getattr(next_sib, 'name', None)\n",
        "\n",
        "        #### Previous sibling\n",
        "        previous_sib = element.find_previous_sibling()\n",
        "        if previous_sib is not None:\n",
        "            prev_tag = getattr(previous_sib, 'name', None)\n",
        "\n",
        "        #### Element parent\n",
        "        if element.parent is not None:\n",
        "            parent = element.parent\n",
        "            parent_tag = getattr(parent, 'name', None)\n",
        "\n",
        "        #### Children\n",
        "        childs = element.find_all(recursive=False)\n",
        "        if childs is not None:\n",
        "            child_tag_names = []\n",
        "            for child in childs:\n",
        "                child_tag_names.append(getattr(child, 'name', None))\n",
        "            child_tags = list(set(child_tag_names.copy()))\n",
        "\n",
        "    return {'next_sibling': next_tag, 'parent_node': parent_tag, 'prev_sibling': prev_tag, 'child_nodes': child_tags}"
      ],
      "metadata": {
        "papermill": {
          "duration": 0.048327,
          "end_time": "2023-03-04T15:23:52.599939",
          "exception": false,
          "start_time": "2023-03-04T15:23:52.551612",
          "status": "completed"
        },
        "tags": [],
        "id": "myBPtZBfMKWE",
        "execution": {
          "iopub.status.busy": "2023-07-13T17:08:14.956072Z",
          "iopub.execute_input": "2023-07-13T17:08:14.957068Z",
          "iopub.status.idle": "2023-07-13T17:08:14.964464Z",
          "shell.execute_reply.started": "2023-07-13T17:08:14.957011Z",
          "shell.execute_reply": "2023-07-13T17:08:14.963341Z"
        },
        "trusted": true
      },
      "execution_count": 16,
      "outputs": [],
      "id": "myBPtZBfMKWE"
    },
    {
      "cell_type": "code",
      "source": [
        "def extract_visual_features(web_element):\n",
        "    features = {\n",
        "        'x': np.nan,\n",
        "        'y': np.nan,\n",
        "        'height': np.nan,\n",
        "        'width': np.nan,\n",
        "        'is_visible': np.nan,\n",
        "        'aria_role': np.nan,\n",
        "        'bgcolor': np.nan,\n",
        "        'font_color': np.nan,\n",
        "        'font_size': np.nan,\n",
        "        'font_style': np.nan,\n",
        "        'font_family': np.nan,\n",
        "    }\n",
        "\n",
        "\n",
        "    try:\n",
        "        loc = web_element.rect\n",
        "        features['x'] = loc.get('x', np.nan)\n",
        "        features['y'] = loc.get('y', np.nan)\n",
        "        features['height'] = loc.get('height', np.nan)\n",
        "        features['width'] = loc.get('width', np.nan)\n",
        "    except:\n",
        "        pass\n",
        "\n",
        "    try:\n",
        "        is_display = web_element.is_displayed()\n",
        "        features['is_visible'] = is_display\n",
        "    except:\n",
        "        pass\n",
        "\n",
        "    try:\n",
        "        aria_role = web_element.aria_role\n",
        "        features['aria_role'] = aria_role\n",
        "    except:\n",
        "        pass\n",
        "\n",
        "    try:\n",
        "        bgcolor = web_element.value_of_css_property('background-color')\n",
        "        bgcolor = [int(val.strip()) for val in bgcolor.replace('rgba(','').replace(')','').split(',') if val.strip()!='']\n",
        "        features['bgcolor'] = bgcolor\n",
        "    except:\n",
        "        pass\n",
        "\n",
        "    try:\n",
        "        font_size = web_element.value_of_css_property('font-size')\n",
        "        features['font_size'] = font_size\n",
        "    except:\n",
        "        pass\n",
        "\n",
        "    try:\n",
        "        font_style = web_element.value_of_css_property('font-style')\n",
        "        features['font_style'] = font_style\n",
        "    except:\n",
        "        pass\n",
        "\n",
        "    try:\n",
        "        font_family = web_element.value_of_css_property('font-family')\n",
        "        features['font_family'] = font_family\n",
        "    except:\n",
        "        pass\n",
        "\n",
        "    try:\n",
        "        font_color = web_element.value_of_css_property('color')\n",
        "        font_color = [int(val.strip()) for val in font_color.replace('rgba(','').replace(')','').split(',') if val.strip()!='']\n",
        "        features['font_color'] = font_color\n",
        "    except:\n",
        "        pass\n",
        "\n",
        "\n",
        "    return features"
      ],
      "metadata": {
        "papermill": {
          "duration": 0.045545,
          "end_time": "2023-03-04T15:23:52.676232",
          "exception": false,
          "start_time": "2023-03-04T15:23:52.630687",
          "status": "completed"
        },
        "tags": [],
        "id": "KIiGC85oMKWF",
        "execution": {
          "iopub.status.busy": "2023-07-13T17:08:15.888753Z",
          "iopub.execute_input": "2023-07-13T17:08:15.889134Z",
          "iopub.status.idle": "2023-07-13T17:08:15.900164Z",
          "shell.execute_reply.started": "2023-07-13T17:08:15.889103Z",
          "shell.execute_reply": "2023-07-13T17:08:15.899300Z"
        },
        "trusted": true
      },
      "execution_count": 17,
      "outputs": [],
      "id": "KIiGC85oMKWF"
    },
    {
      "cell_type": "code",
      "source": [],
      "metadata": {
        "papermill": {
          "duration": 0.023472,
          "end_time": "2023-03-04T15:23:52.724760",
          "exception": false,
          "start_time": "2023-03-04T15:23:52.701288",
          "status": "completed"
        },
        "tags": [],
        "id": "i_SoKqdzMKWJ"
      },
      "execution_count": 17,
      "outputs": [],
      "id": "i_SoKqdzMKWJ"
    },
    {
      "cell_type": "markdown",
      "source": [
        "#### Extraction methods"
      ],
      "metadata": {
        "papermill": {
          "duration": 0.023064,
          "end_time": "2023-03-04T15:23:52.771801",
          "exception": false,
          "start_time": "2023-03-04T15:23:52.748737",
          "status": "completed"
        },
        "tags": [],
        "id": "fZEHGWWzMKWN"
      },
      "id": "fZEHGWWzMKWN"
    },
    {
      "cell_type": "code",
      "source": [
        "def extract_title(soup, driver):\n",
        "    try:\n",
        "        #### Title Tag\n",
        "        title = soup.title\n",
        "        features = {}\n",
        "        title_tag = np.nan\n",
        "        if title is not None:\n",
        "            title_tag = str(title)\n",
        "            tag_sequence = ''\n",
        "            try:\n",
        "                tag_sequence = find_tag_sequence(title)\n",
        "            except:\n",
        "                pass\n",
        "            if tag_sequence!='':\n",
        "                features['tag_sequence'] = tag_sequence\n",
        "\n",
        "            neighbours = {}\n",
        "            try:\n",
        "                neighbours = find_neighbours_and_parent(title)\n",
        "            except:\n",
        "                pass\n",
        "            for key, value in neighbours.items():\n",
        "                features[key] = value\n",
        "\n",
        "            visual_features = {}\n",
        "            try:\n",
        "                if driver is not None:\n",
        "                    title = driver.title\n",
        "                    visual_features = extract_visual_features(title)\n",
        "                    for key, value in visual_features.items():\n",
        "                        features[key] = value\n",
        "            except:\n",
        "                pass\n",
        "        else:\n",
        "            title_tag = np.nan\n",
        "\n",
        "        if len(features)>0:\n",
        "            features = json.dumps(features, ensure_ascii=False)\n",
        "        else:\n",
        "            features = np.nan\n",
        "        return title_tag, features\n",
        "    except:\n",
        "        return np.nan, np.nan"
      ],
      "metadata": {
        "papermill": {
          "duration": 0.038483,
          "end_time": "2023-03-04T15:23:52.833631",
          "exception": false,
          "start_time": "2023-03-04T15:23:52.795148",
          "status": "completed"
        },
        "tags": [],
        "id": "cfc1vp-3MKWO",
        "execution": {
          "iopub.status.busy": "2023-07-13T17:08:32.048965Z",
          "iopub.execute_input": "2023-07-13T17:08:32.049785Z",
          "iopub.status.idle": "2023-07-13T17:08:32.059777Z",
          "shell.execute_reply.started": "2023-07-13T17:08:32.049724Z",
          "shell.execute_reply": "2023-07-13T17:08:32.058463Z"
        },
        "trusted": true
      },
      "execution_count": 18,
      "outputs": [],
      "id": "cfc1vp-3MKWO"
    },
    {
      "cell_type": "code",
      "source": [
        "response=requests.get(url).content\n",
        "soup=BeautifulSoup(response,'html.parser')\n",
        "driver.get(url)\n",
        "title_tag,features=extract_title(soup,driver)\n",
        "print(title_tag,features)"
      ],
      "metadata": {
        "colab": {
          "base_uri": "https://localhost:8080/"
        },
        "id": "Ix-wdL1JMKWQ",
        "outputId": "cb7fba39-cc7d-4cc9-b917-2c6f0f701325",
        "execution": {
          "iopub.status.busy": "2023-07-13T17:08:33.907896Z",
          "iopub.execute_input": "2023-07-13T17:08:33.908349Z",
          "iopub.status.idle": "2023-07-13T17:08:34.070562Z",
          "shell.execute_reply.started": "2023-07-13T17:08:33.908315Z",
          "shell.execute_reply": "2023-07-13T17:08:34.069787Z"
        },
        "trusted": true
      },
      "execution_count": 20,
      "outputs": [
        {
          "output_type": "stream",
          "name": "stdout",
          "text": [
            "<title>Chandrayaan 3 : भारताची भरारी! 'चांद्रयान -३' ची अवकाशात ऐतिहासिक झेप | isro chandrayaan 3 launch complete india moon mission successful</title> {\"tag_sequence\": \"html>head>title\", \"next_sibling\": \"link\", \"parent_node\": \"head\", \"prev_sibling\": \"meta\", \"child_nodes\": [], \"x\": NaN, \"y\": NaN, \"height\": NaN, \"width\": NaN, \"is_visible\": NaN, \"aria_role\": NaN, \"bgcolor\": NaN, \"font_color\": NaN, \"font_size\": NaN, \"font_style\": NaN, \"font_family\": NaN}\n"
          ]
        }
      ],
      "id": "Ix-wdL1JMKWQ"
    },
    {
      "cell_type": "code",
      "source": [
        "def extract_headline_category_pdate(soup, driver):\n",
        "    try:\n",
        "        #### Headline\n",
        "        headline = np.nan\n",
        "        headline_features = {}\n",
        "\n",
        "        #### Category\n",
        "        category = np.nan\n",
        "        category_features = {}\n",
        "\n",
        "        #### Publish Date\n",
        "        publish_date = np.nan\n",
        "        pdate_features = {}\n",
        "\n",
        "        main_div = soup.find('div', attrs={'class':'infinite-wrapper'})\n",
        "        if main_div is not None:\n",
        "            sub_div = main_div.find('div', attrs={'class':'text-story-m_header-details__3D-Xf'})\n",
        "            if sub_div is not None:\n",
        "                content_div = sub_div.find('div', attrs={'class':'arr--story-headline'})\n",
        "                if content_div is not None:\n",
        "                    h1 = content_div.find('h1')\n",
        "                    if h1 is not None:\n",
        "                        headline = str(h1)\n",
        "\n",
        "                        tag_sequence = ''\n",
        "                        try:\n",
        "                            tag_sequence = find_tag_sequence(h1)\n",
        "                        except:\n",
        "                            pass\n",
        "                        if tag_sequence!='':\n",
        "                            headline_features['tag_sequence'] = tag_sequence\n",
        "\n",
        "                        try:\n",
        "                            neighbours = find_neighbours_and_parent(h1)\n",
        "                        except:\n",
        "                            pass\n",
        "                        for key, value in neighbours.items():\n",
        "                            headline_features[key] = value\n",
        "\n",
        "\n",
        "                    spans_div = soup.find('div',attrs={'data-test-id':'author-card-default'})\n",
        "                    spans=spans_div.find('a',attrs={'aria-label':'author-name'})\n",
        "                    if spans is not None:\n",
        "                        cat = spans\n",
        "                        if cat is not None:\n",
        "                            category = str(cat)\n",
        "\n",
        "                            tag_sequence = ''\n",
        "                            try:\n",
        "                                tag_sequence = find_tag_sequence(cat)\n",
        "                            except:\n",
        "                                pass\n",
        "                            if tag_sequence!='':\n",
        "                                category_features['tag_sequence'] = tag_sequence\n",
        "\n",
        "                            try:\n",
        "                                neighbours = find_neighbours_and_parent(cat)\n",
        "                            except:\n",
        "                                pass\n",
        "                            for key, value in neighbours.items():\n",
        "                                category_features[key] = value\n",
        "\n",
        "                    date_div =main_div.find(\"div\",attrs={'class':'publish-details-m_publish-details__2a1Xq publish-details-m_dark__1L30z'})\n",
        "                    pdate=date_div.find(\"time\")\n",
        "                    if pdate is not None:\n",
        "                        publish_date = str(pdate)\n",
        "\n",
        "                        tag_sequence = ''\n",
        "                        try:\n",
        "                            tag_sequence = find_tag_sequence(pdate)\n",
        "                        except:\n",
        "                            pass\n",
        "                        if tag_sequence!='':\n",
        "                            pdate_features['tag_sequence'] = tag_sequence\n",
        "\n",
        "                        try:\n",
        "                            neighbours = find_neighbours_and_parent(pdate)\n",
        "                        except:\n",
        "                            pass\n",
        "                        for key, value in neighbours.items():\n",
        "                            pdate_features[key] = value\n",
        "\n",
        "            try:\n",
        "                if driver is not None:\n",
        "                    main_div_ = driver.find_element(By.ID, 'container')\n",
        "                    if main_div_ is not None:\n",
        "                        sub_div_ = main_div_.find_element(By.CSS_SELECTOR, 'div.infinite-wrapper')\n",
        "                        if sub_div_ is not None:\n",
        "                            content_div_ = sub_div_.find_element(By.CSS_SELECTOR, 'div.arrow-component')\n",
        "                            if content_div_ is not None:\n",
        "\n",
        "                                ### Headline\n",
        "                                h1_ = content_div_.find_element(By.CSS_SELECTOR, 'h1.arr--story--headline-h1')\n",
        "                                if h1_ is not None:\n",
        "                                    visual_features = extract_visual_features(h1_)\n",
        "                                    for key, value in visual_features.items():\n",
        "                                        headline_features[key] = value\n",
        "\n",
        "#                                 cat_=content_div_.find_element(By.CSS_SELECTOR,\"span.twp-caption\")\n",
        "#                                 # print(cat_)\n",
        "#                                 if cat_ is not None:\n",
        "#                                     visual_features = extract_visual_features(cat_)\n",
        "#                                     # print(visual_features)\n",
        "#                                     for key, value in visual_features.items():\n",
        "#                                         category_features[key] = value\n",
        "#                                     # print(category_features)\n",
        "\n",
        "\n",
        "#                                 print(main_div_)\n",
        "                                date_div_=main_div_.find_element(By.CSS_SELECTOR,\"div.publish-details-m_date__3ZIQN\")\n",
        "                                pdate_=date_div_.find_element(By.TAG_NAME,\"time\")\n",
        "                                if pdate_ is not None:\n",
        "                                    visual_features = extract_visual_features(pdate_)\n",
        "                                    for key, value in visual_features.items():\n",
        "                                            pdate_features[key] = value\n",
        "            except:\n",
        "                pass\n",
        "\n",
        "            headline = str(headline)\n",
        "            category = str(category)\n",
        "            publish_date = str(publish_date)\n",
        "        else:\n",
        "            headline = np.nan\n",
        "            category = np.nan\n",
        "            publish_date = np.nan\n",
        "\n",
        "\n",
        "        if len(headline_features)>0:\n",
        "            headline_features = json.dumps(headline_features, ensure_ascii=False)\n",
        "        else:\n",
        "            headline_features = np.nan\n",
        "\n",
        "        if len(category_features)>0:\n",
        "            category_features = json.dumps(category_features, ensure_ascii=False)\n",
        "        else:\n",
        "            category_features = np.nan\n",
        "\n",
        "        if len(pdate_features)>0:\n",
        "            pdate_features = json.dumps(pdate_features, ensure_ascii=False)\n",
        "        else:\n",
        "            pdate_features = np.nan\n",
        "        return headline, headline_features, category, category_features, publish_date, pdate_features\n",
        "    except:\n",
        "        print(\"Except at end\")\n",
        "        return np.nan, np.nan, np.nan, np.nan, np.nan, np.nan"
      ],
      "metadata": {
        "papermill": {
          "duration": 0.053373,
          "end_time": "2023-03-04T15:23:52.912922",
          "exception": false,
          "start_time": "2023-03-04T15:23:52.859549",
          "status": "completed"
        },
        "tags": [],
        "id": "rrv1z8zjMKWR",
        "execution": {
          "iopub.status.busy": "2023-07-13T17:57:24.859100Z",
          "iopub.execute_input": "2023-07-13T17:57:24.859488Z",
          "iopub.status.idle": "2023-07-13T17:57:24.881833Z",
          "shell.execute_reply.started": "2023-07-13T17:57:24.859460Z",
          "shell.execute_reply": "2023-07-13T17:57:24.880683Z"
        },
        "trusted": true
      },
      "execution_count": 201,
      "outputs": [],
      "id": "rrv1z8zjMKWR"
    },
    {
      "cell_type": "code",
      "source": [
        "\n",
        "# response=requests.get(url).content\n",
        "# # print(response.status_code)\n",
        "# soup=BeautifulSoup(response,'html.parser')\n",
        "# driver=webdriver.Chrome(options=chrome_options)\n",
        "# driver.get(url)\n",
        "h,hf,cat,catf,pdate,pdatef=extract_headline_category_pdate(soup,driver)\n",
        "print(h,hf,cat,catf,pdate,pdatef)"
      ],
      "metadata": {
        "id": "RwDbikn3MKWU",
        "execution": {
          "iopub.status.busy": "2023-07-13T17:57:25.484593Z",
          "iopub.execute_input": "2023-07-13T17:57:25.484986Z",
          "iopub.status.idle": "2023-07-13T17:57:25.874341Z",
          "shell.execute_reply.started": "2023-07-13T17:57:25.484952Z",
          "shell.execute_reply": "2023-07-13T17:57:25.873396Z"
        },
        "trusted": true,
        "colab": {
          "base_uri": "https://localhost:8080/"
        },
        "outputId": "a02f5670-2cf0-4b08-a586-a5cbd92b00ca"
      },
      "execution_count": 203,
      "outputs": [
        {
          "output_type": "stream",
          "name": "stdout",
          "text": [
            "<h1 class=\"arr--story--headline-h1 story-headline-m_headline__x10-O story-headline-m_dark__1_kPz\" data-testid=\"story-headline\"><bdi>Chandrayaan 3 : भारताची भरारी! 'चांद्रयान -३' ची अवकाशात ऐतिहासिक झेप </bdi></h1> {\"tag_sequence\": \"html>body>div>div>div>div>div>div>div>div>div>h1\", \"next_sibling\": null, \"parent_node\": \"div\", \"prev_sibling\": null, \"child_nodes\": [\"bdi\"], \"x\": 72, \"y\": 547, \"height\": 156, \"width\": 641, \"is_visible\": true, \"aria_role\": NaN, \"bgcolor\": [0, 0, 0, 0], \"font_color\": NaN, \"font_size\": \"40px\", \"font_style\": \"normal\", \"font_family\": \"Poppins, -apple-system, BlinkMacSystemFont, \\\"Segoe UI\\\", Roboto, Oxygen, Ubuntu, Cantarell, \\\"Fira Sans\\\", \\\"Droid Sans\\\", \\\"Helvetica Neue\\\", sans-serif\"} <a aria-label=\"author-name\" class=\"author-card-m_multiple-author-style__1Fd3D author-card-m_dark__1u0YB\" href=\"/author/mohan-kankate\">Mohan Kankate</a> {\"tag_sequence\": \"html>body>div>div>div>div>div>div>div>div>div>div>div>div>span>a\", \"next_sibling\": null, \"parent_node\": \"span\", \"prev_sibling\": null, \"child_nodes\": []} <time class=\"arr__timeago\" datetime=\"2023-07-14T09:23:25.552Z\" title=\"2023-07-14 09:23\">14 Jul 2023, 9:23 am</time> {\"tag_sequence\": \"html>body>div>div>div>div>div>div>div>div>div>div>div>div>div>div>time\", \"next_sibling\": null, \"parent_node\": \"div\", \"prev_sibling\": null, \"child_nodes\": [], \"x\": 182, \"y\": 1310.953125, \"height\": 23, \"width\": 150, \"is_visible\": true, \"aria_role\": NaN, \"bgcolor\": [0, 0, 0, 0], \"font_color\": NaN, \"font_size\": \"16px\", \"font_style\": \"normal\", \"font_family\": \"Poppins, -apple-system, BlinkMacSystemFont, \\\"Segoe UI\\\", Roboto, Oxygen, Ubuntu, Cantarell, \\\"Fira Sans\\\", \\\"Droid Sans\\\", \\\"Helvetica Neue\\\", sans-serif\"}\n"
          ]
        }
      ],
      "id": "RwDbikn3MKWU"
    },
    {
      "cell_type": "code",
      "source": [
        "def extract_article_content(soup, driver):\n",
        "    try:\n",
        "        #### Article\n",
        "        article_div = soup.find_all('div', attrs={'class': 'arr--element-container'})\n",
        "        para_list = []\n",
        "        features = []\n",
        "        if article_div is not None:\n",
        "          for i in article_div:\n",
        "              paras = i.find_all('p')\n",
        "              for i in range(len(paras)):\n",
        "                  features.append({})\n",
        "\n",
        "              if paras is not None:\n",
        "                  count = 0\n",
        "                  for para in paras:\n",
        "                      para_list.append(str(para))\n",
        "                      tag_sequence = ''\n",
        "                      try:\n",
        "                          tag_sequence = find_tag_sequence(para)\n",
        "                      except:\n",
        "                          pass\n",
        "                      if tag_sequence != '':\n",
        "                          features[count]['tag_sequence'] = tag_sequence\n",
        "\n",
        "                      neighbours = {}\n",
        "                      try:\n",
        "                          neighbours = find_neighbours_and_parent(para)\n",
        "                      except:\n",
        "                          pass\n",
        "                      for key, value in neighbours.items():\n",
        "                          features[count][key] = value\n",
        "                      count += 1\n",
        "        try:\n",
        "            if driver is not None:\n",
        "                article_divs = driver.find_element(By.CSS_SELECTOR, 'div.infinite-wrapper')\n",
        "                if article_divs is not None:\n",
        "                    paras_ = article_divs.find_elements(By.TAG_NAME, 'p')\n",
        "                    if paras_:\n",
        "                            count = 0\n",
        "                            for para_ in paras_:\n",
        "                                visual_features = {}\n",
        "                                try:\n",
        "                                    visual_features = extract_visual_features(para_)\n",
        "                                except:\n",
        "                                    pass\n",
        "                                for key, value in visual_features.items():\n",
        "                                    features[count][key] = value\n",
        "                            count += 1\n",
        "        except:\n",
        "            pass\n",
        "        para_list = json.dumps(para_list, ensure_ascii=False)\n",
        "        features = json.dumps(features, ensure_ascii=False)\n",
        "        return para_list, features\n",
        "    except:\n",
        "        return np.nan, np.nan\n"
      ],
      "metadata": {
        "execution": {
          "iopub.execute_input": "2023-03-04T15:23:52.963197Z",
          "iopub.status.busy": "2023-03-04T15:23:52.962437Z",
          "iopub.status.idle": "2023-03-04T15:23:52.976189Z",
          "shell.execute_reply": "2023-03-04T15:23:52.974931Z"
        },
        "papermill": {
          "duration": 0.042208,
          "end_time": "2023-03-04T15:23:52.979366",
          "exception": false,
          "start_time": "2023-03-04T15:23:52.937158",
          "status": "completed"
        },
        "tags": [],
        "id": "CS_i37gzMKWV"
      },
      "execution_count": 199,
      "outputs": [],
      "id": "CS_i37gzMKWV"
    },
    {
      "cell_type": "code",
      "source": [
        "# response=requests.get(url).content\n",
        "# soup=BeautifulSoup(response,\"html.parser\")\n",
        "# driver=webdriver.Chrome(options=chrome_options)\n",
        "# driver.get(url)\n",
        "p_list,features=extract_article_content(soup,driver)\n",
        "print(p_list,features)"
      ],
      "metadata": {
        "id": "AOCNcisiPQxd",
        "colab": {
          "base_uri": "https://localhost:8080/"
        },
        "outputId": "e94484f7-17dc-4e28-8867-3374adbac7ec"
      },
      "execution_count": 200,
      "outputs": [
        {
          "output_type": "stream",
          "name": "stdout",
          "text": [
            "[\"<p><strong>नवी दिल्ली | वृत्तसंस्था | New Delhi</strong></p>\", \"<p>संपूर्ण भारतीयांचे लक्ष लागून असलेल्या भारतीय अंतराळ संशोधन संस्था (ISRO) च्या चांद्रयान -३ ने आज (१४ जुलै) दुपारी २ वाजून ३५ मिनिटांनी आंध्र प्रदेशच्या श्री हरिकोट येथील सतीश धवन आंतरिक्ष केंद्रातून (Satish Dhawan Inner Center) अवकाशात यशस्वीरित्या झेप घेतली...  </p>\", \"<p>चांद्रयान-३ (Chandrayaan-3) इस्रोच्या विश्वासनीय रॉकेट एलवीएममार्फत प्रक्षेपित केले गेले  आहे. इस्रोने आतापर्यंत अनेक मोहिमा हाती घेतल्या आहेत. यात मंगलयान, चांद्रयान -१, चांद्रयान -२ आणि चांद्रयान -३ यांचा समावेश आहे. जवळपास ४ वर्षांपूर्वी विश्वासनीय रॉकेट एलवीएममार्फत चांद्रयान -२ प्रक्षेपित करण्यात आले होते. मात्र, काही तांत्रिक अडचणींमुळे चांद्रयान -२ व्यवस्थित उतरु शकले नाही. त्यामुळे ही मोहीम त्यावेळी अयशस्वी ठरली होती. त्यानंतर आज चांद्रयान -३ ने अवकाशात झेप घेतली असून चांद्रयान-३ मोहीम यशस्वी झाल्यास चंद्रावर उतरणारा भारत चौथा देश ठरणार आहे. </p>\", \"<p>तसेच चंद्रावर जात असलेले इस्त्रोचे चांद्रयान -३ हे चंद्राच्या (Moon) दक्षिण ध्रुवावर उतरणार आहे. आतापर्यंत या ठिकाणी कुठलेही यान पोहोचलेले नाही. त्यामुळे संपूर्ण जगभरातील शास्त्रज्ञ भारताच्या चांद्रयान -३ मोहीमेवर लक्ष ठेवून आहेत. चांद्रयान -२ मध्ये अपयश मिळाल्यानंतर भारताचा हा दुसरा प्रयत्न आहे. ही मोहीम यशस्वी झाल्यास भारत तंत्रज्ञानात किती पुढे आहे हे दाखवून देण्याची एक मोठी संधी मिळणार आहे.</p>\", \"<p dir=\\\"ltr\\\" lang=\\\"en\\\">LVM3 M4/Chandrayaan-3 Mission:<br/>Mission Readiness Review is completed.<br/>The board has authorised the launch.<br/>The countdown begins tomorrow.<br/><br/>The launch can be viewed LIVE on<a href=\\\"https://t.co/5wOj8aimkH\\\">https://t.co/5wOj8aimkH</a><a href=\\\"https://t.co/zugXQAY0c0\\\">https://t.co/zugXQAY0c0</a><a href=\\\"https://t.co/u5b07tA9e5\\\">https://t.co/u5b07tA9e5</a><br/><br/>DD National<br/>from 14:00 Hrs. IST…</p>\", \"<p>दरम्यान, चांद्रयान-३ तयार करण्यासाठी सुमारे ६१५ कोटी रुपये खर्च करण्यात आल्याची माहिती समोर आली आहे. चांद्रयान -२ च्या तुलनेने चांद्रयान -३ मोहिमेसाठी कमी खर्च आला आहे. चांद्रयान -३ मोहिमेच्या माध्यमातून फक्त लँडर आणि रोव्हर हे अवकाशात पाठवले गेले आहेत. तर यापूर्वी इस्रोने प्रक्षेपित केलेल्या चांद्रयान -२ च्या ऑर्बिटरचा वापर चांद्रयान -३ मोहिमेत करण्यात येणार आहे. त्यामुळे चांद्रयान -३ मध्ये ऑर्बिटर पाठवण्यात येणार नाही. यापूर्वी चांद्रयान -२ मोहिमेसाठी ९६० कोटी रुपये खर्च आला होता. पंरतु, चांद्रयान -३ मोहिमेचा खर्च मागच्या मोहिमेपेक्षा कमी आल्याचे दिसत आहे. </p>\", \"<p><strong>बाहुबली रॉकेट' द्वारे चांद्रयान-३ चे प्रक्षेपण</strong></p>\", \"<p>चांद्रयान-३ चे प्रक्षेपण इस्रोच्या 'बाहुबली रॉकेट' म्हणजेच LVM-3 (लाँच व्हेईकल मार्क) मधून करण्यात आले आहे. बाहुबली रॉकेटची उंची ४३.५ मीटर आणि वजन ६.४ लाख किलो आहे. तसेच हे भारतातील सर्वात वजनदार रॉकेट आहे. या रॉकेटच्या प्रक्षेपणाच्या यशाचा दर १०० टक्के आहे. याशिवाय LVM-3 रॉकेटचे वजन ६४२ टन असून याचे वजन सुमारे जवळपास १३० हत्तींच्या वजना इतके आहे. तसेच LVM-3 हे रॉकेट तयार करण्यासाठी इस्रोला १५ वर्षे लागली असून इस्रोने बनवलेले हे सर्वात शक्तिशाली रॉकेट आहे.</p>\"] [{\"tag_sequence\": \"html>body>div>div>div>div>div>div>div>div>div>div>div>div>p\", \"next_sibling\": \"p\", \"parent_node\": \"div\", \"prev_sibling\": null, \"child_nodes\": [\"strong\"], \"x\": 72, \"y\": 6615.90625, \"height\": 240, \"width\": 437, \"is_visible\": true, \"aria_role\": NaN, \"bgcolor\": [0, 0, 0, 0], \"font_color\": [51, 51, 51, 1], \"font_size\": \"20px\", \"font_style\": \"normal\", \"font_family\": \"Mukta, -apple-system, BlinkMacSystemFont, \\\"Segoe UI\\\", Roboto, Oxygen, Ubuntu, Cantarell, \\\"Fira Sans\\\", \\\"Droid Sans\\\", \\\"Helvetica Neue\\\", sans-serif\"}, {\"tag_sequence\": \"html>body>div>div>div>div>div>div>div>div>div>div>div>div>p\", \"next_sibling\": null, \"parent_node\": \"div\", \"prev_sibling\": \"p\", \"child_nodes\": []}, {}, {}, {}, {}, {}, {}]\n"
          ]
        }
      ],
      "id": "AOCNcisiPQxd"
    },
    {
      "cell_type": "code",
      "source": [
        "def extract_images(soup, driver):\n",
        "    try:\n",
        "        image = None\n",
        "        features = {}\n",
        "\n",
        "        #### Images\n",
        "        main_div = soup.find('div', attrs={'id':'container'})\n",
        "        if main_div is not None:\n",
        "            sub_div = main_div.find('div', attrs={'class':'infinite-wrapper'})\n",
        "            if sub_div is not None:\n",
        "                content_div = sub_div.find('div', attrs={'class':'arr--hero-image'})\n",
        "                if content_div is not None:\n",
        "                    images = content_div.find('img')\n",
        "                    if images is not None:\n",
        "\n",
        "                        image = str(images)\n",
        "                        match = re.search(r'<img.*?>', image)\n",
        "                        if match is not None:\n",
        "                            image = image[match.span()[0]:match.span()[1]]\n",
        "\n",
        "                        tag_sequence = ''\n",
        "                        try:\n",
        "                            tag_sequence = find_tag_sequence(images)\n",
        "                        except:\n",
        "                            pass\n",
        "                        if tag_sequence!='':\n",
        "                            features['tag_sequence'] = tag_sequence\n",
        "\n",
        "                        neighbours = {}\n",
        "                        try:\n",
        "                            neighbours = find_neighbours_and_parent(images)\n",
        "                        except:\n",
        "                            pass\n",
        "                        for key, value in neighbours.items():\n",
        "                            features[key] = value\n",
        "\n",
        "\n",
        "            if driver is not None:\n",
        "                main_div_ = driver.find_element(By.ID, 'container')\n",
        "                if main_div_ is not None:\n",
        "                    sub_div_ = main_div_.find_element(By.CSS_SELECTOR, 'div.infinite-wrapper')\n",
        "                    if sub_div_ is not None:\n",
        "                        content_div_ = sub_div_.find_element(By.CSS_SELECTOR, 'div.arr--hero-image')\n",
        "                        if content_div_ is not None:\n",
        "                            images_ = content_div_.find_element(By.TAG_NAME, 'img')\n",
        "                            if images_ is not None:\n",
        "                                visual_features = {}\n",
        "                                try:\n",
        "                                    visual_features = extract_visual_features(images_)\n",
        "                                except:\n",
        "                                    pass\n",
        "                                for key, value in visual_features.items():\n",
        "                                    features[key] = value\n",
        "\n",
        "            image = str(image)\n",
        "        else:\n",
        "            image = np.nan\n",
        "\n",
        "        if len(features)>0:\n",
        "            features = json.dumps(features, ensure_ascii=False)\n",
        "        else:\n",
        "            features = np.nan\n",
        "\n",
        "        return image, features\n",
        "    except Exception as e:\n",
        "#         print(\"Exception (img): \", e)\n",
        "        return np.nan, np.nan"
      ],
      "metadata": {
        "execution": {
          "iopub.execute_input": "2023-03-04T15:23:53.030175Z",
          "iopub.status.busy": "2023-03-04T15:23:53.029721Z",
          "iopub.status.idle": "2023-03-04T15:23:53.045814Z",
          "shell.execute_reply": "2023-03-04T15:23:53.044511Z"
        },
        "papermill": {
          "duration": 0.044526,
          "end_time": "2023-03-04T15:23:53.048109",
          "exception": false,
          "start_time": "2023-03-04T15:23:53.003583",
          "status": "completed"
        },
        "tags": [],
        "id": "vibJ5LNsMKWX"
      },
      "execution_count": 226,
      "outputs": [],
      "id": "vibJ5LNsMKWX"
    },
    {
      "cell_type": "code",
      "source": [
        "# response=requests.get(url).content\n",
        "# soup=BeautifulSoup(response,\"html.parser\")\n",
        "# driver=webdriver.Chrome(options=chrome_options)\n",
        "# driver.get(url)\n",
        "img,imgf=extract_images(soup,driver)\n",
        "print(img,imgf)"
      ],
      "metadata": {
        "id": "kWD0wGFDTa2y",
        "colab": {
          "base_uri": "https://localhost:8080/"
        },
        "outputId": "f5973964-8f76-4b09-fa3c-4cb93c30614e"
      },
      "execution_count": 227,
      "outputs": [
        {
          "output_type": "stream",
          "name": "stdout",
          "text": [
            "<img alt=\"Chandrayaan 3 : भारताची भरारी! 'चांद्रयान -३' ची अवकाशात ऐतिहासिक झेप \" class=\"qt-image\" data-src=\"https://gumlet.assettype.com/deshdoot%2F2023-07%2Ff08d8a8b-291e-471f-99ea-b64d24e47e20%2Fchandrayan_images.jpg?auto=format%2Ccompress&amp;fit=max\" src=\"data:image/gif;base64,R0lGODlhAQABAAD/ACwAAAAAAQABAAACADs=\"/> {\"tag_sequence\": \"html>body>div>div>div>div>div>div>div>div>div>figure>img\", \"next_sibling\": \"noscript\", \"parent_node\": \"figure\", \"prev_sibling\": null, \"child_nodes\": [], \"x\": 72, \"y\": 743, \"height\": 246, \"width\": 437, \"is_visible\": true, \"aria_role\": NaN, \"bgcolor\": [0, 0, 0, 0], \"font_color\": [51, 51, 51, 1], \"font_size\": \"16px\", \"font_style\": \"normal\", \"font_family\": \"Poppins, -apple-system, BlinkMacSystemFont, \\\"Segoe UI\\\", Roboto, Oxygen, Ubuntu, Cantarell, \\\"Fira Sans\\\", \\\"Droid Sans\\\", \\\"Helvetica Neue\\\", sans-serif\"}\n"
          ]
        }
      ],
      "id": "kWD0wGFDTa2y"
    },
    {
      "cell_type": "code",
      "source": [
        "def extract_tags(soup, driver):\n",
        "    try:\n",
        "        #### Tags\n",
        "        main_div=soup.find('div',attrs={'class':'text-story-m_story-tags__Roh7y'})\n",
        "        anchors = main_div.find_all('a')\n",
        "        tags_list = []\n",
        "        features = []\n",
        "        if anchors is not None:\n",
        "            for count in range(len(anchors)):\n",
        "                features.append({})\n",
        "\n",
        "                anchor = anchors[count]\n",
        "                tags_list.append(str(anchor))\n",
        "\n",
        "                tag_sequence = ''\n",
        "                try:\n",
        "                    tag_sequence = find_tag_sequence(anchor)\n",
        "                except:\n",
        "                    pass\n",
        "                if tag_sequence!='':\n",
        "                    features[count]['tag_sequence'] = tag_sequence\n",
        "\n",
        "                neighbours = {}\n",
        "                try:\n",
        "                    neighbours = find_neighbours_and_parent(anchor)\n",
        "                except:\n",
        "                    pass\n",
        "                for key, value in neighbours.items():\n",
        "                    features[count][key] = value\n",
        "\n",
        "            if driver is not None:\n",
        "                main_div_= driver.find_element(By.CSS_SELECTOR, 'div.arr--story-tags')\n",
        "                anchors_=main_div_.find_elements(By.TAG_NAME,'a')\n",
        "                if anchors_ is not None:\n",
        "                    count = 0\n",
        "                    for anchor_ in anchors_:\n",
        "\n",
        "                        visual_features = {}\n",
        "                        try:\n",
        "                            visual_features = extract_visual_features(anchor_)\n",
        "                        except:\n",
        "                            pass\n",
        "\n",
        "                        for key, value in visual_features.items():\n",
        "                            features[count][key] = value\n",
        "                        count += 1\n",
        "\n",
        "            tags_list = json.dumps(tags_list, ensure_ascii=False)\n",
        "        else:\n",
        "            tags_list = np.nan\n",
        "\n",
        "\n",
        "        if len(features)>0:\n",
        "            features = json.dumps(features, ensure_ascii=False)\n",
        "        else:\n",
        "            features = np.nan\n",
        "        return tags_list, features\n",
        "    except Exception as e:\n",
        "        return np.nan, np.nan"
      ],
      "metadata": {
        "execution": {
          "iopub.execute_input": "2023-03-04T15:23:53.098099Z",
          "iopub.status.busy": "2023-03-04T15:23:53.097658Z",
          "iopub.status.idle": "2023-03-04T15:23:53.110402Z",
          "shell.execute_reply": "2023-03-04T15:23:53.109173Z"
        },
        "papermill": {
          "duration": 0.040597,
          "end_time": "2023-03-04T15:23:53.112810",
          "exception": false,
          "start_time": "2023-03-04T15:23:53.072213",
          "status": "completed"
        },
        "tags": [],
        "id": "kgJWMgSCMKWZ"
      },
      "execution_count": 264,
      "outputs": [],
      "id": "kgJWMgSCMKWZ"
    },
    {
      "cell_type": "code",
      "source": [
        "# response=requests.get(url).content\n",
        "# soup=BeautifulSoup(response,)\n",
        "# driver.get(url)\n",
        "l,f=extract_tags(soup,driver)\n",
        "print(l,f)"
      ],
      "metadata": {
        "papermill": {
          "duration": 0.023625,
          "end_time": "2023-03-04T15:23:53.160257",
          "exception": false,
          "start_time": "2023-03-04T15:23:53.136632",
          "status": "completed"
        },
        "tags": [],
        "id": "gBhh448_MKWa",
        "colab": {
          "base_uri": "https://localhost:8080/"
        },
        "outputId": "64cd2417-5afe-4986-d589-c4d2e2de95df"
      },
      "execution_count": 265,
      "outputs": [
        {
          "output_type": "stream",
          "name": "stdout",
          "text": [
            "[\"<a aria-label=\\\"story-tag-name\\\" href=\\\"/topic/isro\\\">ISRO</a>\", \"<a aria-label=\\\"story-tag-name\\\" href=\\\"/topic/chandrayaan-3\\\">Chandrayaan 3</a>\"] [{\"tag_sequence\": \"html>body>div>div>div>div>div>div>div>div>div>div>div>div>a\", \"next_sibling\": null, \"parent_node\": \"div\", \"prev_sibling\": null, \"child_nodes\": [], \"x\": 89, \"y\": 12812.65625, \"height\": 23, \"width\": 36, \"is_visible\": true, \"aria_role\": NaN, \"bgcolor\": [0, 0, 0, 0], \"font_color\": NaN, \"font_size\": \"16px\", \"font_style\": \"normal\", \"font_family\": \"Poppins, -apple-system, BlinkMacSystemFont, \\\"Segoe UI\\\", Roboto, Oxygen, Ubuntu, Cantarell, \\\"Fira Sans\\\", \\\"Droid Sans\\\", \\\"Helvetica Neue\\\", sans-serif\"}, {\"tag_sequence\": \"html>body>div>div>div>div>div>div>div>div>div>div>div>div>a\", \"next_sibling\": null, \"parent_node\": \"div\", \"prev_sibling\": null, \"child_nodes\": [], \"x\": 175, \"y\": 12812.65625, \"height\": 23, \"width\": 121, \"is_visible\": true, \"aria_role\": NaN, \"bgcolor\": [0, 0, 0, 0], \"font_color\": NaN, \"font_size\": \"16px\", \"font_style\": \"normal\", \"font_family\": \"Poppins, -apple-system, BlinkMacSystemFont, \\\"Segoe UI\\\", Roboto, Oxygen, Ubuntu, Cantarell, \\\"Fira Sans\\\", \\\"Droid Sans\\\", \\\"Helvetica Neue\\\", sans-serif\"}]\n"
          ]
        }
      ],
      "id": "gBhh448_MKWa"
    },
    {
      "cell_type": "code",
      "source": [],
      "metadata": {
        "papermill": {
          "duration": 0.023359,
          "end_time": "2023-03-04T15:23:53.207142",
          "exception": false,
          "start_time": "2023-03-04T15:23:53.183783",
          "status": "completed"
        },
        "tags": [],
        "id": "Bfr_C5x2MKWb"
      },
      "execution_count": null,
      "outputs": [],
      "id": "Bfr_C5x2MKWb"
    },
    {
      "cell_type": "code",
      "source": [
        "def scrape_news_contents(source_code, url, sample_id, driver=None):\n",
        "    soup = BeautifulSoup(source_code, 'html.parser')\n",
        "\n",
        "    article = {\n",
        "    \t'url': url,\n",
        "        'sample_id': sample_id,\n",
        "        'title': np.nan,\n",
        "        'title_features': np.nan,\n",
        "        'headline': np.nan,\n",
        "        'headline_features': np.nan,\n",
        "        'category': np.nan,\n",
        "        'category_features': np.nan,\n",
        "        'publish_date': np.nan,\n",
        "        'publish_date_features': np.nan,\n",
        "        'article': np.nan,\n",
        "        'article_features': np.nan,\n",
        "        'images': np.nan,\n",
        "        'images_features': np.nan,\n",
        "        'tags': np.nan,\n",
        "        'tags_features': np.nan,\n",
        "        'source': soup,\n",
        "    }\n",
        "\n",
        "    title_tag, title_features = extract_title(soup, driver)\n",
        "    article['title'] = title_tag\n",
        "    article['title_features'] = title_features\n",
        "\n",
        "    headline, headline_features, category, category_features, publish_date, date_features = extract_headline_category_pdate(soup, driver)\n",
        "    article['headline'] = headline\n",
        "    article['headline_features'] = headline_features\n",
        "\n",
        "    article['category'] = category\n",
        "    article['category_features'] = category_features\n",
        "\n",
        "    article['publish_date'] = publish_date\n",
        "    article['publish_date_features'] = date_features\n",
        "\n",
        "    content, article_features = extract_article_content(soup, driver)\n",
        "    article['article'] = content\n",
        "    article['article_features'] = article_features\n",
        "\n",
        "    images, images_features = extract_images(soup,driver)\n",
        "    article['images'] = images\n",
        "    article['images_features'] = images_features\n",
        "\n",
        "    # tags, tags_features = extract_tags(soup, driver)\n",
        "    # article['tags'] = tags\n",
        "    # article['tags_features'] = tags_features\n",
        "\n",
        "    return article"
      ],
      "metadata": {
        "execution": {
          "iopub.execute_input": "2023-03-04T15:23:53.257204Z",
          "iopub.status.busy": "2023-03-04T15:23:53.256749Z",
          "iopub.status.idle": "2023-03-04T15:23:53.267962Z",
          "shell.execute_reply": "2023-03-04T15:23:53.267011Z"
        },
        "papermill": {
          "duration": 0.039605,
          "end_time": "2023-03-04T15:23:53.270495",
          "exception": false,
          "start_time": "2023-03-04T15:23:53.230890",
          "status": "completed"
        },
        "tags": [],
        "id": "mbaIZS5OMKWc"
      },
      "execution_count": 266,
      "outputs": [],
      "id": "mbaIZS5OMKWc"
    },
    {
      "cell_type": "code",
      "source": [
        "response=requests.get(url).content\n",
        "# soup=BeautifulSoup(response,\"html.parser\")\n",
        "driver=webdriver.Chrome(options=chrome_options)\n",
        "driver.get(url)\n",
        "article=scrape_news_contents(response,url,1,driver)\n",
        "# print(article)"
      ],
      "metadata": {
        "papermill": {
          "duration": 0.023221,
          "end_time": "2023-03-04T15:23:53.317601",
          "exception": false,
          "start_time": "2023-03-04T15:23:53.294380",
          "status": "completed"
        },
        "tags": [],
        "id": "LtEjRvW3MKWd"
      },
      "execution_count": 267,
      "outputs": [],
      "id": "LtEjRvW3MKWd"
    },
    {
      "cell_type": "code",
      "source": [],
      "metadata": {
        "papermill": {
          "duration": 0.023016,
          "end_time": "2023-03-04T15:23:53.364177",
          "exception": false,
          "start_time": "2023-03-04T15:23:53.341161",
          "status": "completed"
        },
        "tags": [],
        "id": "Loa_lPmsMKWe"
      },
      "execution_count": null,
      "outputs": [],
      "id": "Loa_lPmsMKWe"
    },
    {
      "cell_type": "code",
      "source": [
        "def scrape_misc_contents(source_code, article, driver=None):\n",
        "    misc_content = []\n",
        "    misc_features = []\n",
        "\n",
        "    try:\n",
        "        ### Extracting the article features from the json to remove from misc content (leaf nodes)\n",
        "        article_fields = []\n",
        "        for field in SINGLE_ENTRIES:\n",
        "            article_fields.append(article[field])\n",
        "\n",
        "        for field in MULTIPLE_ENTRIES:\n",
        "            entries = article[field]\n",
        "            if type(entries)==str:\n",
        "                entries = json.loads(entries)\n",
        "                for entry in entries:\n",
        "                    article_fields.append(entry)\n",
        "\n",
        "\n",
        "        ### Extracting all leaf nodes from the soup object and removing the noisy tags, article fields\n",
        "        all_leaf_nodes = []\n",
        "        leaf_node_features = []\n",
        "        soup = BeautifulSoup(source_code, 'html.parser')\n",
        "        body = soup.find('body')\n",
        "        for child in body.recursiveChildGenerator():\n",
        "            name = getattr(child, \"name\", None)\n",
        "            if name is None:\n",
        "                if not child.isspace(): # leaf node, don't print spaces\n",
        "                    p_name = getattr(child.parent, 'name', None)\n",
        "                    if p_name is not None and p_name not in EXCLUDE_TAGS and str(child.parent) not in article_fields:\n",
        "                        entry = {}\n",
        "                        entry['misc_features'] = {}\n",
        "                        entry['misc_features']['tag_sequence'] = find_tag_sequence(child.parent)\n",
        "                        neighbours = find_neighbours_and_parent(child.parent)\n",
        "                        for key, value in neighbours.items():\n",
        "                            entry['misc_features'][key] = value\n",
        "\n",
        "                        all_leaf_nodes.append(str(child.parent))\n",
        "                        leaf_node_features.append(entry)\n",
        "\n",
        "\n",
        "        ### Extracting the features for the leaf nodes (only for soup leaf nodes from above) using selenium\n",
        "        leaf_node_selenium_features = {}\n",
        "        if driver is not None:\n",
        "            body_element = driver.find_element(By.TAG_NAME, 'body')\n",
        "            if body_element is not None:\n",
        "                childs = body_element.find_elements(By.XPATH,\".//*\")\n",
        "                for child in childs:\n",
        "                    try:\n",
        "                        html_content = child.get_attribute('outerHTML')\n",
        "                        if html_content in all_leaf_nodes:\n",
        "                            index = all_leaf_nodes.index(html_content)\n",
        "                            leaf_node_selenium_features[index] = extract_visual_features(child)\n",
        "                    except:\n",
        "                        pass\n",
        "\n",
        "\n",
        "        ### Combining the features of soup and selenium\n",
        "        for index, tag_html in enumerate(all_leaf_nodes):\n",
        "            sel_feature = leaf_node_selenium_features.get(index, None)\n",
        "            if sel_feature is not None:\n",
        "                if len(sel_feature)>0:\n",
        "                    for key, value in sel_feature.items():\n",
        "                        leaf_node_features[index]['misc_features'][key] = value\n",
        "\n",
        "            misc_content.append(all_leaf_nodes[index])\n",
        "            misc_features.append(json.dumps(leaf_node_features[index].get('misc_features', {})))\n",
        "    except Exception as e:\n",
        "        print(\"Exception in misc: \", e)\n",
        "        pass\n",
        "\n",
        "    return misc_content, misc_features"
      ],
      "metadata": {
        "execution": {
          "iopub.execute_input": "2023-03-04T15:23:53.413523Z",
          "iopub.status.busy": "2023-03-04T15:23:53.413065Z",
          "iopub.status.idle": "2023-03-04T15:23:53.430306Z",
          "shell.execute_reply": "2023-03-04T15:23:53.428919Z"
        },
        "papermill": {
          "duration": 0.045575,
          "end_time": "2023-03-04T15:23:53.433292",
          "exception": false,
          "start_time": "2023-03-04T15:23:53.387717",
          "status": "completed"
        },
        "tags": [],
        "id": "sNkvv9NlMKWe"
      },
      "execution_count": 268,
      "outputs": [],
      "id": "sNkvv9NlMKWe"
    },
    {
      "cell_type": "code",
      "source": [],
      "metadata": {
        "papermill": {
          "duration": 0.024364,
          "end_time": "2023-03-04T15:23:53.481546",
          "exception": false,
          "start_time": "2023-03-04T15:23:53.457182",
          "status": "completed"
        },
        "tags": [],
        "id": "DiGiy9mFMKWg"
      },
      "execution_count": 268,
      "outputs": [],
      "id": "DiGiy9mFMKWg"
    },
    {
      "cell_type": "markdown",
      "source": [
        "#### Crawling the links"
      ],
      "metadata": {
        "papermill": {
          "duration": 0.024125,
          "end_time": "2023-03-04T15:23:53.529603",
          "exception": false,
          "start_time": "2023-03-04T15:23:53.505478",
          "status": "completed"
        },
        "tags": [],
        "id": "l0KKVVMGMKWh"
      },
      "id": "l0KKVVMGMKWh"
    },
    {
      "cell_type": "code",
      "source": [
        "column_names = [\n",
        "    'url', 'sample_id', 'title', 'title_features', 'headline',\n",
        "    'headline_features', 'category', 'category_features', 'publish_date',\n",
        "    'publish_date_features', 'article', 'article_features', 'images', 'images_features',\n",
        "    'tags', 'tags_features', 'source'\n",
        "]\n",
        "column_names"
      ],
      "metadata": {
        "execution": {
          "iopub.execute_input": "2023-03-04T15:23:53.579686Z",
          "iopub.status.busy": "2023-03-04T15:23:53.579236Z",
          "iopub.status.idle": "2023-03-04T15:23:53.587950Z",
          "shell.execute_reply": "2023-03-04T15:23:53.586503Z"
        },
        "papermill": {
          "duration": 0.037025,
          "end_time": "2023-03-04T15:23:53.590540",
          "exception": false,
          "start_time": "2023-03-04T15:23:53.553515",
          "status": "completed"
        },
        "tags": [],
        "colab": {
          "base_uri": "https://localhost:8080/"
        },
        "id": "rMCr9jp9MKWi",
        "outputId": "0154fe09-fa2e-4641-f68f-c4015468bfac"
      },
      "execution_count": 269,
      "outputs": [
        {
          "output_type": "execute_result",
          "data": {
            "text/plain": [
              "['url',\n",
              " 'sample_id',\n",
              " 'title',\n",
              " 'title_features',\n",
              " 'headline',\n",
              " 'headline_features',\n",
              " 'category',\n",
              " 'category_features',\n",
              " 'publish_date',\n",
              " 'publish_date_features',\n",
              " 'article',\n",
              " 'article_features',\n",
              " 'images',\n",
              " 'images_features',\n",
              " 'tags',\n",
              " 'tags_features',\n",
              " 'source']"
            ]
          },
          "metadata": {},
          "execution_count": 269
        }
      ],
      "id": "rMCr9jp9MKWi"
    },
    {
      "cell_type": "code",
      "source": [
        "SINGLE_ENTRIES = ['title', 'headline', 'category', 'publish_date', 'images']\n",
        "MULTIPLE_ENTRIES = ['article', 'tags']\n",
        "EXCLUDE_TAGS = ['script', 'style', 'header', 'footer', 'iframe', 'formgroup', 'form']"
      ],
      "metadata": {
        "execution": {
          "iopub.execute_input": "2023-03-04T15:23:53.640661Z",
          "iopub.status.busy": "2023-03-04T15:23:53.640201Z",
          "iopub.status.idle": "2023-03-04T15:23:53.645928Z",
          "shell.execute_reply": "2023-03-04T15:23:53.644847Z"
        },
        "papermill": {
          "duration": 0.033739,
          "end_time": "2023-03-04T15:23:53.648621",
          "exception": false,
          "start_time": "2023-03-04T15:23:53.614882",
          "status": "completed"
        },
        "tags": [],
        "id": "QLI0wEpXMKW3"
      },
      "execution_count": 270,
      "outputs": [],
      "id": "QLI0wEpXMKW3"
    },
    {
      "cell_type": "code",
      "source": [
        "output_file_name = './deshdoot{}_{}.csv'.format(start, end)\n",
        "output_file_name_misc = './deshdoot{}_{}_misc.csv'.format(start, end)\n",
        "output_file_name, output_file_name_misc"
      ],
      "metadata": {
        "execution": {
          "iopub.execute_input": "2023-03-04T15:23:53.698627Z",
          "iopub.status.busy": "2023-03-04T15:23:53.698163Z",
          "iopub.status.idle": "2023-03-04T15:23:53.706894Z",
          "shell.execute_reply": "2023-03-04T15:23:53.705527Z"
        },
        "papermill": {
          "duration": 0.037306,
          "end_time": "2023-03-04T15:23:53.709558",
          "exception": false,
          "start_time": "2023-03-04T15:23:53.672252",
          "status": "completed"
        },
        "tags": [],
        "colab": {
          "base_uri": "https://localhost:8080/"
        },
        "id": "niQW7vQzMKW5",
        "outputId": "1338e701-bc96-4c19-bcb2-5ad7c6db52e3"
      },
      "execution_count": 272,
      "outputs": [
        {
          "output_type": "execute_result",
          "data": {
            "text/plain": [
              "('./deshdoot0_1000.csv', './deshdoot0_1000_misc.csv')"
            ]
          },
          "metadata": {},
          "execution_count": 272
        }
      ],
      "id": "niQW7vQzMKW5"
    },
    {
      "cell_type": "code",
      "source": [],
      "metadata": {
        "papermill": {
          "duration": 0.023382,
          "end_time": "2023-03-04T15:23:53.756790",
          "exception": false,
          "start_time": "2023-03-04T15:23:53.733408",
          "status": "completed"
        },
        "tags": [],
        "id": "hdYcmcjRMKW7"
      },
      "execution_count": 272,
      "outputs": [],
      "id": "hdYcmcjRMKW7"
    },
    {
      "cell_type": "code",
      "source": [
        "print(\"Extracting the contents from the source\")\n",
        "final_data = []\n",
        "final_misc_content = []\n",
        "final_misc_features = []\n",
        "\n",
        "for i in tqdm(range(start, start + min(end, out_df.shape[0]))):\n",
        "    url = out_df['url'][i]\n",
        "    sample_id = i\n",
        "\n",
        "    try:\n",
        "        response = requests.get(url)\n",
        "        if response.status_code==200:\n",
        "            driver.get(url)\n",
        "            article = scrape_news_contents(response.content, url, sample_id, driver)\n",
        "            final_data.append(article)\n",
        "            misc_content, misc_features = scrape_misc_contents(response.content, article, driver)\n",
        "#             print(\"misc Len: \", len(misc_content))\n",
        "#             print(\"misc Feat: \", len(misc_features))\n",
        "\n",
        "            for i in range(len(misc_content)):\n",
        "                if misc_content[i] not in final_misc_content:\n",
        "                    final_misc_content.append(misc_content[i])\n",
        "                    final_misc_features.append(misc_features[i])\n",
        "#             print(\"Misc Len: \", len(final_misc_content))\n",
        "#             print(\"Feat Len: \", len(final_misc_features))\n",
        "\n",
        "        else:\n",
        "            print(\"Status Code: \", response.status_code)\n",
        "    except Exception as e:\n",
        "        print(\"Exception: \", e)\n",
        "        driver = webdriver.Chrome(options = chrome_options)\n",
        "\n",
        "\n",
        "    if (i+1)%100 == 0:\n",
        "        print(\"Saving the checkpoint at {}\".format((i+1)/100))\n",
        "        df = pd.DataFrame(final_data, columns=column_names)\n",
        "        df.to_csv(output_file_name)\n",
        "\n",
        "        misc_df = pd.DataFrame(data={'misc': final_misc_content, 'misc_features': final_misc_features}, columns=['misc', 'misc_features'])\n",
        "        misc_df.to_csv(output_file_name_misc)\n",
        "\n",
        "print(\"Saving the pandas data frame\")\n",
        "df = pd.DataFrame(final_data, columns=column_names)\n",
        "df.to_csv(output_file_name)\n",
        "\n",
        "misc_df = pd.DataFrame(data={'misc': final_misc_content, 'misc_features': final_misc_features}, columns=['misc', 'misc_features'])\n",
        "misc_df.to_csv(output_file_name_misc)"
      ],
      "metadata": {
        "execution": {
          "iopub.execute_input": "2023-03-04T15:23:53.806120Z",
          "iopub.status.busy": "2023-03-04T15:23:53.805700Z",
          "iopub.status.idle": "2023-03-04T20:36:00.141801Z",
          "shell.execute_reply": "2023-03-04T20:36:00.140288Z"
        },
        "papermill": {
          "duration": 18726.364218,
          "end_time": "2023-03-04T20:36:00.144794",
          "exception": false,
          "start_time": "2023-03-04T15:23:53.780576",
          "status": "completed"
        },
        "tags": [],
        "colab": {
          "base_uri": "https://localhost:8080/"
        },
        "id": "ku4kKS1FMKW9",
        "outputId": "be9109cb-2b5c-47c7-aceb-01761e71ab65"
      },
      "execution_count": 273,
      "outputs": [
        {
          "output_type": "stream",
          "name": "stdout",
          "text": [
            "Extracting the contents from the source\n"
          ]
        },
        {
          "output_type": "stream",
          "name": "stderr",
          "text": [
            "100%|██████████| 57/57 [22:25<00:00, 23.61s/it]\n"
          ]
        },
        {
          "output_type": "stream",
          "name": "stdout",
          "text": [
            "Saving the pandas data frame\n"
          ]
        }
      ],
      "id": "ku4kKS1FMKW9"
    },
    {
      "cell_type": "code",
      "source": [
        "df.head()"
      ],
      "metadata": {
        "execution": {
          "iopub.execute_input": "2023-03-04T20:36:00.321421Z",
          "iopub.status.busy": "2023-03-04T20:36:00.321019Z",
          "iopub.status.idle": "2023-03-04T20:36:00.418032Z",
          "shell.execute_reply": "2023-03-04T20:36:00.416981Z"
        },
        "papermill": {
          "duration": 0.188969,
          "end_time": "2023-03-04T20:36:00.421215",
          "exception": false,
          "start_time": "2023-03-04T20:36:00.232246",
          "status": "completed"
        },
        "tags": [],
        "id": "CZrRfP32MKW_",
        "colab": {
          "base_uri": "https://localhost:8080/",
          "height": 635
        },
        "outputId": "466e1be3-a928-4103-be96-a808236b8d98"
      },
      "execution_count": 274,
      "outputs": [
        {
          "output_type": "execute_result",
          "data": {
            "text/plain": [
              "                                                 url  sample_id  \\\n",
              "0  https://www.deshdoot.com/others/national-inter...          0   \n",
              "1  https://www.deshdoot.com/others/national-inter...          1   \n",
              "2  https://www.deshdoot.com/others/national-inter...          2   \n",
              "3  https://www.deshdoot.com/breaking-news/pm-nare...          3   \n",
              "4             https://www.deshdoot.com/breaking-news          4   \n",
              "\n",
              "                                               title  \\\n",
              "0  <title>Chandrayaan 3 : भारताची भरारी! 'चांद्रय...   \n",
              "1                           <title>देश-विदेश</title>   \n",
              "2  <title>Chandrayaan 3 : भारताची भरारी! 'चांद्रय...   \n",
              "3  <title>गौरवास्पद ! पंतप्रधान नरेंद्र मोदी फ्रा...   \n",
              "4                       <title>मुख्य बातम्या</title>   \n",
              "\n",
              "                                      title_features  \\\n",
              "0  {\"tag_sequence\": \"html>head>title\", \"next_sibl...   \n",
              "1  {\"tag_sequence\": \"html>head>title\", \"next_sibl...   \n",
              "2  {\"tag_sequence\": \"html>head>title\", \"next_sibl...   \n",
              "3  {\"tag_sequence\": \"html>head>title\", \"next_sibl...   \n",
              "4  {\"tag_sequence\": \"html>head>title\", \"next_sibl...   \n",
              "\n",
              "                                            headline  \\\n",
              "0  <h1 class=\"arr--story--headline-h1 story-headl...   \n",
              "1                                                NaN   \n",
              "2  <h1 class=\"arr--story--headline-h1 story-headl...   \n",
              "3  <h1 class=\"arr--story--headline-h1 story-headl...   \n",
              "4                                                NaN   \n",
              "\n",
              "                                   headline_features  \\\n",
              "0  {\"tag_sequence\": \"html>body>div>div>div>div>di...   \n",
              "1                                                NaN   \n",
              "2  {\"tag_sequence\": \"html>body>div>div>div>div>di...   \n",
              "3  {\"tag_sequence\": \"html>body>div>div>div>div>di...   \n",
              "4                                                NaN   \n",
              "\n",
              "                                            category  \\\n",
              "0  <a aria-label=\"author-name\" class=\"author-card...   \n",
              "1                                                NaN   \n",
              "2  <a aria-label=\"author-name\" class=\"author-card...   \n",
              "3  <a aria-label=\"author-name\" class=\"author-card...   \n",
              "4                                                NaN   \n",
              "\n",
              "                                   category_features  \\\n",
              "0  {\"tag_sequence\": \"html>body>div>div>div>div>di...   \n",
              "1                                                NaN   \n",
              "2  {\"tag_sequence\": \"html>body>div>div>div>div>di...   \n",
              "3  {\"tag_sequence\": \"html>body>div>div>div>div>di...   \n",
              "4                                                NaN   \n",
              "\n",
              "                                        publish_date  \\\n",
              "0  <time class=\"arr__timeago\" datetime=\"2023-07-1...   \n",
              "1                                                NaN   \n",
              "2  <time class=\"arr__timeago\" datetime=\"2023-07-1...   \n",
              "3  <time class=\"arr__timeago\" datetime=\"2023-07-1...   \n",
              "4                                                NaN   \n",
              "\n",
              "                               publish_date_features  \\\n",
              "0  {\"tag_sequence\": \"html>body>div>div>div>div>di...   \n",
              "1                                                NaN   \n",
              "2  {\"tag_sequence\": \"html>body>div>div>div>div>di...   \n",
              "3  {\"tag_sequence\": \"html>body>div>div>div>div>di...   \n",
              "4                                                NaN   \n",
              "\n",
              "                                             article  \\\n",
              "0  [\"<p><strong>नवी दिल्ली | वृत्तसंस्था | New De...   \n",
              "1                                                 []   \n",
              "2  [\"<p><strong>नवी दिल्ली | वृत्तसंस्था | New De...   \n",
              "3  [\"<p><strong>नवी दिल्ली वृत्तसंस्था | New Delh...   \n",
              "4                                                 []   \n",
              "\n",
              "                                    article_features  \\\n",
              "0  [{\"tag_sequence\": \"html>body>div>div>div>div>d...   \n",
              "1                                                 []   \n",
              "2  [{\"tag_sequence\": \"html>body>div>div>div>div>d...   \n",
              "3  [{\"tag_sequence\": \"html>body>div>div>div>div>d...   \n",
              "4                                                 []   \n",
              "\n",
              "                                              images  \\\n",
              "0  <img alt=\"Chandrayaan 3 : भारताची भरारी! 'चांद...   \n",
              "1                                                NaN   \n",
              "2  <img alt=\"Chandrayaan 3 : भारताची भरारी! 'चांद...   \n",
              "3  <img alt=\"गौरवास्पद ! पंतप्रधान नरेंद्र मोदी फ...   \n",
              "4                                                NaN   \n",
              "\n",
              "                                     images_features  tags  tags_features  \\\n",
              "0  {\"tag_sequence\": \"html>body>div>div>div>div>di...   NaN            NaN   \n",
              "1                                                NaN   NaN            NaN   \n",
              "2  {\"tag_sequence\": \"html>body>div>div>div>div>di...   NaN            NaN   \n",
              "3  {\"tag_sequence\": \"html>body>div>div>div>div>di...   NaN            NaN   \n",
              "4                                                NaN   NaN            NaN   \n",
              "\n",
              "                                              source  \n",
              "0  [html, \\n, [\\n, [\\n, <meta charset=\"utf-8\"/>, ...  \n",
              "1  [html, \\n, [\\n, [\\n, <meta charset=\"utf-8\"/>, ...  \n",
              "2  [html, \\n, [\\n, [\\n, <meta charset=\"utf-8\"/>, ...  \n",
              "3  [html, \\n, [\\n, [\\n, <meta charset=\"utf-8\"/>, ...  \n",
              "4  [html, \\n, [\\n, [\\n, <meta charset=\"utf-8\"/>, ...  "
            ],
            "text/html": [
              "\n",
              "\n",
              "  <div id=\"df-91be128c-4c2f-4522-8618-e17153a37fe4\">\n",
              "    <div class=\"colab-df-container\">\n",
              "      <div>\n",
              "<style scoped>\n",
              "    .dataframe tbody tr th:only-of-type {\n",
              "        vertical-align: middle;\n",
              "    }\n",
              "\n",
              "    .dataframe tbody tr th {\n",
              "        vertical-align: top;\n",
              "    }\n",
              "\n",
              "    .dataframe thead th {\n",
              "        text-align: right;\n",
              "    }\n",
              "</style>\n",
              "<table border=\"1\" class=\"dataframe\">\n",
              "  <thead>\n",
              "    <tr style=\"text-align: right;\">\n",
              "      <th></th>\n",
              "      <th>url</th>\n",
              "      <th>sample_id</th>\n",
              "      <th>title</th>\n",
              "      <th>title_features</th>\n",
              "      <th>headline</th>\n",
              "      <th>headline_features</th>\n",
              "      <th>category</th>\n",
              "      <th>category_features</th>\n",
              "      <th>publish_date</th>\n",
              "      <th>publish_date_features</th>\n",
              "      <th>article</th>\n",
              "      <th>article_features</th>\n",
              "      <th>images</th>\n",
              "      <th>images_features</th>\n",
              "      <th>tags</th>\n",
              "      <th>tags_features</th>\n",
              "      <th>source</th>\n",
              "    </tr>\n",
              "  </thead>\n",
              "  <tbody>\n",
              "    <tr>\n",
              "      <th>0</th>\n",
              "      <td>https://www.deshdoot.com/others/national-inter...</td>\n",
              "      <td>0</td>\n",
              "      <td>&lt;title&gt;Chandrayaan 3 : भारताची भरारी! 'चांद्रय...</td>\n",
              "      <td>{\"tag_sequence\": \"html&gt;head&gt;title\", \"next_sibl...</td>\n",
              "      <td>&lt;h1 class=\"arr--story--headline-h1 story-headl...</td>\n",
              "      <td>{\"tag_sequence\": \"html&gt;body&gt;div&gt;div&gt;div&gt;div&gt;di...</td>\n",
              "      <td>&lt;a aria-label=\"author-name\" class=\"author-card...</td>\n",
              "      <td>{\"tag_sequence\": \"html&gt;body&gt;div&gt;div&gt;div&gt;div&gt;di...</td>\n",
              "      <td>&lt;time class=\"arr__timeago\" datetime=\"2023-07-1...</td>\n",
              "      <td>{\"tag_sequence\": \"html&gt;body&gt;div&gt;div&gt;div&gt;div&gt;di...</td>\n",
              "      <td>[\"&lt;p&gt;&lt;strong&gt;नवी दिल्ली | वृत्तसंस्था | New De...</td>\n",
              "      <td>[{\"tag_sequence\": \"html&gt;body&gt;div&gt;div&gt;div&gt;div&gt;d...</td>\n",
              "      <td>&lt;img alt=\"Chandrayaan 3 : भारताची भरारी! 'चांद...</td>\n",
              "      <td>{\"tag_sequence\": \"html&gt;body&gt;div&gt;div&gt;div&gt;div&gt;di...</td>\n",
              "      <td>NaN</td>\n",
              "      <td>NaN</td>\n",
              "      <td>[html, \\n, [\\n, [\\n, &lt;meta charset=\"utf-8\"/&gt;, ...</td>\n",
              "    </tr>\n",
              "    <tr>\n",
              "      <th>1</th>\n",
              "      <td>https://www.deshdoot.com/others/national-inter...</td>\n",
              "      <td>1</td>\n",
              "      <td>&lt;title&gt;देश-विदेश&lt;/title&gt;</td>\n",
              "      <td>{\"tag_sequence\": \"html&gt;head&gt;title\", \"next_sibl...</td>\n",
              "      <td>NaN</td>\n",
              "      <td>NaN</td>\n",
              "      <td>NaN</td>\n",
              "      <td>NaN</td>\n",
              "      <td>NaN</td>\n",
              "      <td>NaN</td>\n",
              "      <td>[]</td>\n",
              "      <td>[]</td>\n",
              "      <td>NaN</td>\n",
              "      <td>NaN</td>\n",
              "      <td>NaN</td>\n",
              "      <td>NaN</td>\n",
              "      <td>[html, \\n, [\\n, [\\n, &lt;meta charset=\"utf-8\"/&gt;, ...</td>\n",
              "    </tr>\n",
              "    <tr>\n",
              "      <th>2</th>\n",
              "      <td>https://www.deshdoot.com/others/national-inter...</td>\n",
              "      <td>2</td>\n",
              "      <td>&lt;title&gt;Chandrayaan 3 : भारताची भरारी! 'चांद्रय...</td>\n",
              "      <td>{\"tag_sequence\": \"html&gt;head&gt;title\", \"next_sibl...</td>\n",
              "      <td>&lt;h1 class=\"arr--story--headline-h1 story-headl...</td>\n",
              "      <td>{\"tag_sequence\": \"html&gt;body&gt;div&gt;div&gt;div&gt;div&gt;di...</td>\n",
              "      <td>&lt;a aria-label=\"author-name\" class=\"author-card...</td>\n",
              "      <td>{\"tag_sequence\": \"html&gt;body&gt;div&gt;div&gt;div&gt;div&gt;di...</td>\n",
              "      <td>&lt;time class=\"arr__timeago\" datetime=\"2023-07-1...</td>\n",
              "      <td>{\"tag_sequence\": \"html&gt;body&gt;div&gt;div&gt;div&gt;div&gt;di...</td>\n",
              "      <td>[\"&lt;p&gt;&lt;strong&gt;नवी दिल्ली | वृत्तसंस्था | New De...</td>\n",
              "      <td>[{\"tag_sequence\": \"html&gt;body&gt;div&gt;div&gt;div&gt;div&gt;d...</td>\n",
              "      <td>&lt;img alt=\"Chandrayaan 3 : भारताची भरारी! 'चांद...</td>\n",
              "      <td>{\"tag_sequence\": \"html&gt;body&gt;div&gt;div&gt;div&gt;div&gt;di...</td>\n",
              "      <td>NaN</td>\n",
              "      <td>NaN</td>\n",
              "      <td>[html, \\n, [\\n, [\\n, &lt;meta charset=\"utf-8\"/&gt;, ...</td>\n",
              "    </tr>\n",
              "    <tr>\n",
              "      <th>3</th>\n",
              "      <td>https://www.deshdoot.com/breaking-news/pm-nare...</td>\n",
              "      <td>3</td>\n",
              "      <td>&lt;title&gt;गौरवास्पद ! पंतप्रधान नरेंद्र मोदी फ्रा...</td>\n",
              "      <td>{\"tag_sequence\": \"html&gt;head&gt;title\", \"next_sibl...</td>\n",
              "      <td>&lt;h1 class=\"arr--story--headline-h1 story-headl...</td>\n",
              "      <td>{\"tag_sequence\": \"html&gt;body&gt;div&gt;div&gt;div&gt;div&gt;di...</td>\n",
              "      <td>&lt;a aria-label=\"author-name\" class=\"author-card...</td>\n",
              "      <td>{\"tag_sequence\": \"html&gt;body&gt;div&gt;div&gt;div&gt;div&gt;di...</td>\n",
              "      <td>&lt;time class=\"arr__timeago\" datetime=\"2023-07-1...</td>\n",
              "      <td>{\"tag_sequence\": \"html&gt;body&gt;div&gt;div&gt;div&gt;div&gt;di...</td>\n",
              "      <td>[\"&lt;p&gt;&lt;strong&gt;नवी दिल्ली वृत्तसंस्था | New Delh...</td>\n",
              "      <td>[{\"tag_sequence\": \"html&gt;body&gt;div&gt;div&gt;div&gt;div&gt;d...</td>\n",
              "      <td>&lt;img alt=\"गौरवास्पद ! पंतप्रधान नरेंद्र मोदी फ...</td>\n",
              "      <td>{\"tag_sequence\": \"html&gt;body&gt;div&gt;div&gt;div&gt;div&gt;di...</td>\n",
              "      <td>NaN</td>\n",
              "      <td>NaN</td>\n",
              "      <td>[html, \\n, [\\n, [\\n, &lt;meta charset=\"utf-8\"/&gt;, ...</td>\n",
              "    </tr>\n",
              "    <tr>\n",
              "      <th>4</th>\n",
              "      <td>https://www.deshdoot.com/breaking-news</td>\n",
              "      <td>4</td>\n",
              "      <td>&lt;title&gt;मुख्य बातम्या&lt;/title&gt;</td>\n",
              "      <td>{\"tag_sequence\": \"html&gt;head&gt;title\", \"next_sibl...</td>\n",
              "      <td>NaN</td>\n",
              "      <td>NaN</td>\n",
              "      <td>NaN</td>\n",
              "      <td>NaN</td>\n",
              "      <td>NaN</td>\n",
              "      <td>NaN</td>\n",
              "      <td>[]</td>\n",
              "      <td>[]</td>\n",
              "      <td>NaN</td>\n",
              "      <td>NaN</td>\n",
              "      <td>NaN</td>\n",
              "      <td>NaN</td>\n",
              "      <td>[html, \\n, [\\n, [\\n, &lt;meta charset=\"utf-8\"/&gt;, ...</td>\n",
              "    </tr>\n",
              "  </tbody>\n",
              "</table>\n",
              "</div>\n",
              "      <button class=\"colab-df-convert\" onclick=\"convertToInteractive('df-91be128c-4c2f-4522-8618-e17153a37fe4')\"\n",
              "              title=\"Convert this dataframe to an interactive table.\"\n",
              "              style=\"display:none;\">\n",
              "\n",
              "  <svg xmlns=\"http://www.w3.org/2000/svg\" height=\"24px\"viewBox=\"0 0 24 24\"\n",
              "       width=\"24px\">\n",
              "    <path d=\"M0 0h24v24H0V0z\" fill=\"none\"/>\n",
              "    <path d=\"M18.56 5.44l.94 2.06.94-2.06 2.06-.94-2.06-.94-.94-2.06-.94 2.06-2.06.94zm-11 1L8.5 8.5l.94-2.06 2.06-.94-2.06-.94L8.5 2.5l-.94 2.06-2.06.94zm10 10l.94 2.06.94-2.06 2.06-.94-2.06-.94-.94-2.06-.94 2.06-2.06.94z\"/><path d=\"M17.41 7.96l-1.37-1.37c-.4-.4-.92-.59-1.43-.59-.52 0-1.04.2-1.43.59L10.3 9.45l-7.72 7.72c-.78.78-.78 2.05 0 2.83L4 21.41c.39.39.9.59 1.41.59.51 0 1.02-.2 1.41-.59l7.78-7.78 2.81-2.81c.8-.78.8-2.07 0-2.86zM5.41 20L4 18.59l7.72-7.72 1.47 1.35L5.41 20z\"/>\n",
              "  </svg>\n",
              "      </button>\n",
              "\n",
              "\n",
              "\n",
              "    <div id=\"df-94f366b1-49f3-4d0b-b6d2-c7b8db4cfebf\">\n",
              "      <button class=\"colab-df-quickchart\" onclick=\"quickchart('df-94f366b1-49f3-4d0b-b6d2-c7b8db4cfebf')\"\n",
              "              title=\"Suggest charts.\"\n",
              "              style=\"display:none;\">\n",
              "\n",
              "<svg xmlns=\"http://www.w3.org/2000/svg\" height=\"24px\"viewBox=\"0 0 24 24\"\n",
              "     width=\"24px\">\n",
              "    <g>\n",
              "        <path d=\"M19 3H5c-1.1 0-2 .9-2 2v14c0 1.1.9 2 2 2h14c1.1 0 2-.9 2-2V5c0-1.1-.9-2-2-2zM9 17H7v-7h2v7zm4 0h-2V7h2v10zm4 0h-2v-4h2v4z\"/>\n",
              "    </g>\n",
              "</svg>\n",
              "      </button>\n",
              "    </div>\n",
              "\n",
              "<style>\n",
              "  .colab-df-quickchart {\n",
              "    background-color: #E8F0FE;\n",
              "    border: none;\n",
              "    border-radius: 50%;\n",
              "    cursor: pointer;\n",
              "    display: none;\n",
              "    fill: #1967D2;\n",
              "    height: 32px;\n",
              "    padding: 0 0 0 0;\n",
              "    width: 32px;\n",
              "  }\n",
              "\n",
              "  .colab-df-quickchart:hover {\n",
              "    background-color: #E2EBFA;\n",
              "    box-shadow: 0px 1px 2px rgba(60, 64, 67, 0.3), 0px 1px 3px 1px rgba(60, 64, 67, 0.15);\n",
              "    fill: #174EA6;\n",
              "  }\n",
              "\n",
              "  [theme=dark] .colab-df-quickchart {\n",
              "    background-color: #3B4455;\n",
              "    fill: #D2E3FC;\n",
              "  }\n",
              "\n",
              "  [theme=dark] .colab-df-quickchart:hover {\n",
              "    background-color: #434B5C;\n",
              "    box-shadow: 0px 1px 3px 1px rgba(0, 0, 0, 0.15);\n",
              "    filter: drop-shadow(0px 1px 2px rgba(0, 0, 0, 0.3));\n",
              "    fill: #FFFFFF;\n",
              "  }\n",
              "</style>\n",
              "\n",
              "    <script>\n",
              "      async function quickchart(key) {\n",
              "        const containerElement = document.querySelector('#' + key);\n",
              "        const charts = await google.colab.kernel.invokeFunction(\n",
              "            'suggestCharts', [key], {});\n",
              "      }\n",
              "    </script>\n",
              "\n",
              "      <script>\n",
              "\n",
              "function displayQuickchartButton(domScope) {\n",
              "  let quickchartButtonEl =\n",
              "    domScope.querySelector('#df-94f366b1-49f3-4d0b-b6d2-c7b8db4cfebf button.colab-df-quickchart');\n",
              "  quickchartButtonEl.style.display =\n",
              "    google.colab.kernel.accessAllowed ? 'block' : 'none';\n",
              "}\n",
              "\n",
              "        displayQuickchartButton(document);\n",
              "      </script>\n",
              "      <style>\n",
              "    .colab-df-container {\n",
              "      display:flex;\n",
              "      flex-wrap:wrap;\n",
              "      gap: 12px;\n",
              "    }\n",
              "\n",
              "    .colab-df-convert {\n",
              "      background-color: #E8F0FE;\n",
              "      border: none;\n",
              "      border-radius: 50%;\n",
              "      cursor: pointer;\n",
              "      display: none;\n",
              "      fill: #1967D2;\n",
              "      height: 32px;\n",
              "      padding: 0 0 0 0;\n",
              "      width: 32px;\n",
              "    }\n",
              "\n",
              "    .colab-df-convert:hover {\n",
              "      background-color: #E2EBFA;\n",
              "      box-shadow: 0px 1px 2px rgba(60, 64, 67, 0.3), 0px 1px 3px 1px rgba(60, 64, 67, 0.15);\n",
              "      fill: #174EA6;\n",
              "    }\n",
              "\n",
              "    [theme=dark] .colab-df-convert {\n",
              "      background-color: #3B4455;\n",
              "      fill: #D2E3FC;\n",
              "    }\n",
              "\n",
              "    [theme=dark] .colab-df-convert:hover {\n",
              "      background-color: #434B5C;\n",
              "      box-shadow: 0px 1px 3px 1px rgba(0, 0, 0, 0.15);\n",
              "      filter: drop-shadow(0px 1px 2px rgba(0, 0, 0, 0.3));\n",
              "      fill: #FFFFFF;\n",
              "    }\n",
              "  </style>\n",
              "\n",
              "      <script>\n",
              "        const buttonEl =\n",
              "          document.querySelector('#df-91be128c-4c2f-4522-8618-e17153a37fe4 button.colab-df-convert');\n",
              "        buttonEl.style.display =\n",
              "          google.colab.kernel.accessAllowed ? 'block' : 'none';\n",
              "\n",
              "        async function convertToInteractive(key) {\n",
              "          const element = document.querySelector('#df-91be128c-4c2f-4522-8618-e17153a37fe4');\n",
              "          const dataTable =\n",
              "            await google.colab.kernel.invokeFunction('convertToInteractive',\n",
              "                                                     [key], {});\n",
              "          if (!dataTable) return;\n",
              "\n",
              "          const docLinkHtml = 'Like what you see? Visit the ' +\n",
              "            '<a target=\"_blank\" href=https://colab.research.google.com/notebooks/data_table.ipynb>data table notebook</a>'\n",
              "            + ' to learn more about interactive tables.';\n",
              "          element.innerHTML = '';\n",
              "          dataTable['output_type'] = 'display_data';\n",
              "          await google.colab.output.renderOutput(dataTable, element);\n",
              "          const docLink = document.createElement('div');\n",
              "          docLink.innerHTML = docLinkHtml;\n",
              "          element.appendChild(docLink);\n",
              "        }\n",
              "      </script>\n",
              "    </div>\n",
              "  </div>\n"
            ]
          },
          "metadata": {},
          "execution_count": 274
        }
      ],
      "id": "CZrRfP32MKW_"
    },
    {
      "cell_type": "code",
      "source": [
        "# df.info()"
      ],
      "metadata": {
        "execution": {
          "iopub.execute_input": "2023-03-04T20:36:00.603669Z",
          "iopub.status.busy": "2023-03-04T20:36:00.602534Z",
          "iopub.status.idle": "2023-03-04T20:36:00.629720Z",
          "shell.execute_reply": "2023-03-04T20:36:00.628433Z"
        },
        "papermill": {
          "duration": 0.120178,
          "end_time": "2023-03-04T20:36:00.632504",
          "exception": false,
          "start_time": "2023-03-04T20:36:00.512326",
          "status": "completed"
        },
        "tags": [],
        "id": "XNJcFd7QMKXA"
      },
      "execution_count": null,
      "outputs": [],
      "id": "XNJcFd7QMKXA"
    },
    {
      "cell_type": "code",
      "source": [
        "misc_df.head()"
      ],
      "metadata": {
        "execution": {
          "iopub.execute_input": "2023-03-04T20:36:00.839525Z",
          "iopub.status.busy": "2023-03-04T20:36:00.839101Z",
          "iopub.status.idle": "2023-03-04T20:36:00.849802Z",
          "shell.execute_reply": "2023-03-04T20:36:00.848867Z"
        },
        "papermill": {
          "duration": 0.102037,
          "end_time": "2023-03-04T20:36:00.851921",
          "exception": false,
          "start_time": "2023-03-04T20:36:00.749884",
          "status": "completed"
        },
        "tags": [],
        "id": "Ys5bFs_eMKXC"
      },
      "execution_count": null,
      "outputs": [],
      "id": "Ys5bFs_eMKXC"
    },
    {
      "cell_type": "code",
      "source": [
        "misc_df.info()"
      ],
      "metadata": {
        "execution": {
          "iopub.execute_input": "2023-03-04T20:36:01.034626Z",
          "iopub.status.busy": "2023-03-04T20:36:01.033945Z",
          "iopub.status.idle": "2023-03-04T20:36:01.048076Z",
          "shell.execute_reply": "2023-03-04T20:36:01.046727Z"
        },
        "papermill": {
          "duration": 0.109288,
          "end_time": "2023-03-04T20:36:01.050505",
          "exception": false,
          "start_time": "2023-03-04T20:36:00.941217",
          "status": "completed"
        },
        "tags": [],
        "id": "QJvxg-GsMKXD"
      },
      "execution_count": null,
      "outputs": [],
      "id": "QJvxg-GsMKXD"
    },
    {
      "cell_type": "markdown",
      "source": [
        "## Rough"
      ],
      "metadata": {
        "papermill": {
          "duration": 0.090891,
          "end_time": "2023-03-04T20:36:01.234780",
          "exception": false,
          "start_time": "2023-03-04T20:36:01.143889",
          "status": "completed"
        },
        "tags": [],
        "id": "so6ydlN_MKXE"
      },
      "id": "so6ydlN_MKXE"
    },
    {
      "cell_type": "code",
      "source": [
        "# index = 2\n",
        "\n",
        "# url = out_df['url'][index]\n",
        "# sample_id = out_df['sample_id'][index]\n",
        "# print(\"Sample ID: \", sample_id, \"\\tURL: \", url)"
      ],
      "metadata": {
        "execution": {
          "iopub.execute_input": "2023-03-04T20:36:01.435405Z",
          "iopub.status.busy": "2023-03-04T20:36:01.434956Z",
          "iopub.status.idle": "2023-03-04T20:36:01.440012Z",
          "shell.execute_reply": "2023-03-04T20:36:01.438868Z"
        },
        "papermill": {
          "duration": 0.113563,
          "end_time": "2023-03-04T20:36:01.442960",
          "exception": false,
          "start_time": "2023-03-04T20:36:01.329397",
          "status": "completed"
        },
        "tags": [],
        "id": "xZB8cDCUMKXF"
      },
      "execution_count": null,
      "outputs": [],
      "id": "xZB8cDCUMKXF"
    },
    {
      "cell_type": "code",
      "source": [
        "# print(\"Extracting the contents from the source\")\n",
        "# article = {}\n",
        "# response = requests.get(url)\n",
        "# if response.status_code==200:\n",
        "#     driver.get(url)\n",
        "#     article = scrape_news_contents(response.content, url, sample_id, driver)\n",
        "# else:\n",
        "#     print(\"Status Code: \", response.status_code)"
      ],
      "metadata": {
        "execution": {
          "iopub.execute_input": "2023-03-04T20:36:01.631933Z",
          "iopub.status.busy": "2023-03-04T20:36:01.631501Z",
          "iopub.status.idle": "2023-03-04T20:36:01.636157Z",
          "shell.execute_reply": "2023-03-04T20:36:01.635166Z"
        },
        "papermill": {
          "duration": 0.102145,
          "end_time": "2023-03-04T20:36:01.638459",
          "exception": false,
          "start_time": "2023-03-04T20:36:01.536314",
          "status": "completed"
        },
        "tags": [],
        "id": "Ok_GbOZWMKXG"
      },
      "execution_count": null,
      "outputs": [],
      "id": "Ok_GbOZWMKXG"
    },
    {
      "cell_type": "code",
      "source": [
        "# column_names = list(article.keys())\n",
        "# column_names"
      ],
      "metadata": {
        "execution": {
          "iopub.execute_input": "2023-03-04T20:36:01.820499Z",
          "iopub.status.busy": "2023-03-04T20:36:01.819494Z",
          "iopub.status.idle": "2023-03-04T20:36:01.824566Z",
          "shell.execute_reply": "2023-03-04T20:36:01.823276Z"
        },
        "papermill": {
          "duration": 0.099755,
          "end_time": "2023-03-04T20:36:01.828035",
          "exception": false,
          "start_time": "2023-03-04T20:36:01.728280",
          "status": "completed"
        },
        "tags": [],
        "id": "CdQHt_E6MKXH"
      },
      "execution_count": null,
      "outputs": [],
      "id": "CdQHt_E6MKXH"
    },
    {
      "cell_type": "code",
      "source": [
        "# df = pd.DataFrame(data=[article], columns = column_names)\n",
        "# df.shape"
      ],
      "metadata": {
        "execution": {
          "iopub.execute_input": "2023-03-04T20:36:02.015279Z",
          "iopub.status.busy": "2023-03-04T20:36:02.014522Z",
          "iopub.status.idle": "2023-03-04T20:36:02.018477Z",
          "shell.execute_reply": "2023-03-04T20:36:02.017644Z"
        },
        "papermill": {
          "duration": 0.101518,
          "end_time": "2023-03-04T20:36:02.020907",
          "exception": false,
          "start_time": "2023-03-04T20:36:01.919389",
          "status": "completed"
        },
        "tags": [],
        "id": "L8En5xrKMKXJ"
      },
      "execution_count": null,
      "outputs": [],
      "id": "L8En5xrKMKXJ"
    },
    {
      "cell_type": "code",
      "source": [
        "# df.head()"
      ],
      "metadata": {
        "execution": {
          "iopub.execute_input": "2023-03-04T20:36:02.208595Z",
          "iopub.status.busy": "2023-03-04T20:36:02.207737Z",
          "iopub.status.idle": "2023-03-04T20:36:02.212927Z",
          "shell.execute_reply": "2023-03-04T20:36:02.212051Z"
        },
        "papermill": {
          "duration": 0.102675,
          "end_time": "2023-03-04T20:36:02.215229",
          "exception": false,
          "start_time": "2023-03-04T20:36:02.112554",
          "status": "completed"
        },
        "tags": [],
        "id": "AHEtafUBMKXK"
      },
      "execution_count": null,
      "outputs": [],
      "id": "AHEtafUBMKXK"
    },
    {
      "cell_type": "code",
      "source": [],
      "metadata": {
        "papermill": {
          "duration": 0.09038,
          "end_time": "2023-03-04T20:36:02.396540",
          "exception": false,
          "start_time": "2023-03-04T20:36:02.306160",
          "status": "completed"
        },
        "tags": [],
        "id": "VR610Y9wMKXN"
      },
      "execution_count": null,
      "outputs": [],
      "id": "VR610Y9wMKXN"
    }
  ]
}