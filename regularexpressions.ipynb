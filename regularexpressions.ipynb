{
  "metadata": {
    "kernelspec": {
      "language": "python",
      "display_name": "Python 3",
      "name": "python3"
    },
    "language_info": {
      "name": "python",
      "version": "3.10.13",
      "mimetype": "text/x-python",
      "codemirror_mode": {
        "name": "ipython",
        "version": 3
      },
      "pygments_lexer": "ipython3",
      "nbconvert_exporter": "python",
      "file_extension": ".py"
    },
    "kaggle": {
      "accelerator": "none",
      "dataSources": [],
      "dockerImageVersionId": 30746,
      "isInternetEnabled": false,
      "language": "python",
      "sourceType": "notebook",
      "isGpuEnabled": false
    },
    "colab": {
      "provenance": [],
      "collapsed_sections": [
        "7F8bIKLXhjsn",
        "Gd6dWLbtC5J0",
        "HTMIpBwBC5KD",
        "2bf-RAAKGoMA",
        "AiQfFUcOC5KE",
        "VBwinB8-C5KE",
        "QdVy9Cz0FAbu"
      ]
    }
  },
  "nbformat_minor": 0,
  "nbformat": 4,
  "cells": [
    {
      "cell_type": "markdown",
      "source": [
        "# Syntactic Analysis\n",
        "\n",
        "Deals with the syntax of the text"
      ],
      "metadata": {
        "id": "7F8bIKLXhjsn"
      }
    },
    {
      "cell_type": "markdown",
      "source": [
        "## Regular Expressions\n",
        "\n",
        "pattern matching"
      ],
      "metadata": {
        "id": "Gd6dWLbtC5J0"
      }
    },
    {
      "cell_type": "code",
      "source": [
        "import re\n",
        "import nltk\n",
        "\n",
        "nltk.download(\"punkt\")"
      ],
      "metadata": {
        "_uuid": "8f2839f25d086af736a60e9eeb907d3b93b6e0e5",
        "_cell_guid": "b1076dfc-b9ad-4769-8c92-a6c4dae69d19",
        "execution": {
          "iopub.status.busy": "2024-07-24T17:45:28.081721Z",
          "iopub.execute_input": "2024-07-24T17:45:28.082210Z",
          "iopub.status.idle": "2024-07-24T17:45:48.133600Z",
          "shell.execute_reply.started": "2024-07-24T17:45:28.082171Z",
          "shell.execute_reply": "2024-07-24T17:45:48.132283Z"
        },
        "trusted": true,
        "colab": {
          "base_uri": "https://localhost:8080/"
        },
        "id": "KE2yVdY8C5J3",
        "outputId": "364350bd-9e84-4a20-d879-0d19046d236c"
      },
      "execution_count": null,
      "outputs": [
        {
          "output_type": "stream",
          "name": "stderr",
          "text": [
            "[nltk_data] Downloading package punkt to /root/nltk_data...\n",
            "[nltk_data]   Unzipping tokenizers/punkt.zip.\n"
          ]
        },
        {
          "output_type": "execute_result",
          "data": {
            "text/plain": [
              "True"
            ]
          },
          "metadata": {},
          "execution_count": 1
        }
      ]
    },
    {
      "cell_type": "code",
      "source": [
        "text = \"This is Rgukt Basar\""
      ],
      "metadata": {
        "execution": {
          "iopub.status.busy": "2024-07-24T11:00:19.563966Z",
          "iopub.execute_input": "2024-07-24T11:00:19.564329Z",
          "iopub.status.idle": "2024-07-24T11:00:19.569257Z",
          "shell.execute_reply.started": "2024-07-24T11:00:19.564302Z",
          "shell.execute_reply": "2024-07-24T11:00:19.568142Z"
        },
        "trusted": true,
        "id": "N3OvGCgiC5J5"
      },
      "execution_count": null,
      "outputs": []
    },
    {
      "cell_type": "code",
      "source": [
        "pat = re.compile(r\"This\")\n",
        "match = pat.match(text)\n",
        "print(match)\n",
        "print(type(match))\n",
        "\n",
        "pat = re.compile(r\"is\")\n",
        "match = pat.match(text)   #match only matches at the beginning\n",
        "print(match)\n",
        "print(type(match))"
      ],
      "metadata": {
        "execution": {
          "iopub.status.busy": "2024-07-24T11:36:44.059898Z",
          "iopub.execute_input": "2024-07-24T11:36:44.060274Z",
          "iopub.status.idle": "2024-07-24T11:36:44.066970Z",
          "shell.execute_reply.started": "2024-07-24T11:36:44.060244Z",
          "shell.execute_reply": "2024-07-24T11:36:44.065944Z"
        },
        "trusted": true,
        "colab": {
          "base_uri": "https://localhost:8080/"
        },
        "id": "nlQCMp2cC5J6",
        "outputId": "a96d5250-1732-4ad6-9af0-eed4ba551969"
      },
      "execution_count": null,
      "outputs": [
        {
          "output_type": "stream",
          "name": "stdout",
          "text": [
            "<re.Match object; span=(0, 4), match='This'>\n",
            "<class 're.Match'>\n",
            "None\n",
            "<class 'NoneType'>\n"
          ]
        }
      ]
    },
    {
      "cell_type": "code",
      "source": [
        "pat = re.compile('\\w+')\n",
        "match = pat.findall(text) #returns list of matched ob\n",
        "print(match)\n",
        "print(type(match))"
      ],
      "metadata": {
        "execution": {
          "iopub.status.busy": "2024-07-24T11:39:27.218110Z",
          "iopub.execute_input": "2024-07-24T11:39:27.219239Z",
          "iopub.status.idle": "2024-07-24T11:39:27.224483Z",
          "shell.execute_reply.started": "2024-07-24T11:39:27.219195Z",
          "shell.execute_reply": "2024-07-24T11:39:27.223358Z"
        },
        "trusted": true,
        "colab": {
          "base_uri": "https://localhost:8080/"
        },
        "id": "8iG-W5XLC5J7",
        "outputId": "21343847-7609-4682-ad69-fdbccf207c2b"
      },
      "execution_count": null,
      "outputs": [
        {
          "output_type": "stream",
          "name": "stdout",
          "text": [
            "['This', 'is', 'Rgukt', 'Basar']\n",
            "<class 'list'>\n"
          ]
        }
      ]
    },
    {
      "cell_type": "code",
      "source": [
        "pat = re.compile(\"is\")\n",
        "match = pat.search(text)\n",
        "print(match)\n",
        "print(type(match))\n",
        "\n",
        "user = input(\"Enter the String To Search: \")\n",
        "pat = re.compile(user)\n",
        "match = pat.search(text)\n",
        "print(match)"
      ],
      "metadata": {
        "execution": {
          "iopub.status.busy": "2024-07-24T11:44:41.219632Z",
          "iopub.execute_input": "2024-07-24T11:44:41.220591Z",
          "iopub.status.idle": "2024-07-24T11:44:45.682434Z",
          "shell.execute_reply.started": "2024-07-24T11:44:41.220552Z",
          "shell.execute_reply": "2024-07-24T11:44:45.681089Z"
        },
        "trusted": true,
        "colab": {
          "base_uri": "https://localhost:8080/"
        },
        "id": "pEI_g6SHC5J7",
        "outputId": "5cc96a57-514c-4da4-bcf7-2b840a1811ce"
      },
      "execution_count": null,
      "outputs": [
        {
          "output_type": "stream",
          "name": "stdout",
          "text": [
            "<re.Match object; span=(2, 4), match='is'>\n",
            "<class 're.Match'>\n",
            "Enter the String To Search: rgukt\n",
            "None\n"
          ]
        }
      ]
    },
    {
      "cell_type": "code",
      "source": [
        "text = '''\n",
        "abcdefghijklmnopqurtuvwxyz\n",
        "ABCDEFGHIJKLMNOPQRSTUVWXYZ\n",
        "\n",
        "1234567890\n",
        "\n",
        "Ha HazHa\n",
        "\n",
        "MetaCharacters (Need to be escaped):\n",
        ". ^ $ * + ? { } [ ] \\ | ( )\n",
        "\n",
        "coreyms.com\n",
        "\n",
        "321-555-4321\n",
        "123.555.1234\n",
        "123*555*1234\n",
        "800-555-1234\n",
        "900-555-1234\n",
        "\n",
        "Mr. Schafer\n",
        "Mr Smith\n",
        "Ms Davis\n",
        "Mrs. Robinson\n",
        "Mr. T\n",
        "\n",
        "cat\n",
        "mat\n",
        "pat\n",
        "bat\n",
        "'''\n",
        "\n",
        "emails = '''\n",
        "CoreyMSchafer@gmail.com\n",
        "corey.schafer@university.edu\n",
        "corey-321-schafer@my-work.net\n",
        "'''\n",
        "\n",
        "urls = '''\n",
        "https://www.google.com\n",
        "http://coreyms.com\n",
        "https://youtube.com\n",
        "https://www.nasa.gov\n",
        "'''\n",
        "\n",
        "sentence = 'Start a sentence and then bring it to an end'\n"
      ],
      "metadata": {
        "execution": {
          "iopub.status.busy": "2024-07-24T11:50:17.237315Z",
          "iopub.execute_input": "2024-07-24T11:50:17.237705Z",
          "iopub.status.idle": "2024-07-24T11:50:17.242920Z",
          "shell.execute_reply.started": "2024-07-24T11:50:17.237673Z",
          "shell.execute_reply": "2024-07-24T11:50:17.241783Z"
        },
        "trusted": true,
        "id": "z6ujC23YC5J8"
      },
      "execution_count": null,
      "outputs": []
    },
    {
      "cell_type": "code",
      "source": [
        "pat = re.compile(\"\\w+\")\n",
        "match = pat.findall(text)\n",
        "print(match)"
      ],
      "metadata": {
        "execution": {
          "iopub.status.busy": "2024-07-24T11:51:22.869271Z",
          "iopub.execute_input": "2024-07-24T11:51:22.870213Z",
          "iopub.status.idle": "2024-07-24T11:51:22.876444Z",
          "shell.execute_reply.started": "2024-07-24T11:51:22.870109Z",
          "shell.execute_reply": "2024-07-24T11:51:22.875071Z"
        },
        "trusted": true,
        "colab": {
          "base_uri": "https://localhost:8080/"
        },
        "id": "1jGABCL8C5J9",
        "outputId": "6672c6c9-8645-4c68-b810-ff58120518e6"
      },
      "execution_count": null,
      "outputs": [
        {
          "output_type": "stream",
          "name": "stdout",
          "text": [
            "['abcdefghijklmnopqurtuvwxyz', 'ABCDEFGHIJKLMNOPQRSTUVWXYZ', '1234567890', 'Ha', 'HazHa', 'MetaCharacters', 'Need', 'to', 'be', 'escaped', 'coreyms', 'com', '321', '555', '4321', '123', '555', '1234', '123', '555', '1234', '800', '555', '1234', '900', '555', '1234', 'Mr', 'Schafer', 'Mr', 'Smith', 'Ms', 'Davis', 'Mrs', 'Robinson', 'Mr', 'T', 'cat', 'mat', 'pat', 'bat']\n"
          ]
        }
      ]
    },
    {
      "cell_type": "code",
      "source": [
        "pat = re.compile(\"\\W+\")\n",
        "match = pat.findall(text)\n",
        "print(match)"
      ],
      "metadata": {
        "execution": {
          "iopub.status.busy": "2024-07-24T11:52:29.564923Z",
          "iopub.execute_input": "2024-07-24T11:52:29.566192Z",
          "iopub.status.idle": "2024-07-24T11:52:29.572050Z",
          "shell.execute_reply.started": "2024-07-24T11:52:29.566100Z",
          "shell.execute_reply": "2024-07-24T11:52:29.571060Z"
        },
        "trusted": true,
        "colab": {
          "base_uri": "https://localhost:8080/"
        },
        "id": "t5Zz7Zg2C5J9",
        "outputId": "5126c563-bad9-4abe-d494-dfa3c08eadf5"
      },
      "execution_count": null,
      "outputs": [
        {
          "output_type": "stream",
          "name": "stdout",
          "text": [
            "['\\n', '\\n', '\\n\\n', '\\n\\n', ' ', '\\n\\n', ' (', ' ', ' ', ' ', '):\\n. ^ $ * + ? { } [ ] \\\\ | ( )\\n\\n', '.', '\\n\\n', '-', '-', '\\n', '.', '.', '\\n', '*', '*', '\\n', '-', '-', '\\n', '-', '-', '\\n\\n', '. ', '\\n', ' ', '\\n', ' ', '\\n', '. ', '\\n', '. ', '\\n\\n', '\\n', '\\n', '\\n', '\\n']\n"
          ]
        }
      ]
    },
    {
      "cell_type": "code",
      "source": [
        "pat = re.compile(\"\\s+\")\n",
        "match = pat.findall(text)\n",
        "print(match)"
      ],
      "metadata": {
        "execution": {
          "iopub.status.busy": "2024-07-24T11:51:24.815897Z",
          "iopub.execute_input": "2024-07-24T11:51:24.816256Z",
          "iopub.status.idle": "2024-07-24T11:51:24.822262Z",
          "shell.execute_reply.started": "2024-07-24T11:51:24.816228Z",
          "shell.execute_reply": "2024-07-24T11:51:24.821144Z"
        },
        "trusted": true,
        "colab": {
          "base_uri": "https://localhost:8080/"
        },
        "id": "nPws2oP9C5J-",
        "outputId": "f2dac5fe-2a07-47bc-e4cc-548db8bde100"
      },
      "execution_count": null,
      "outputs": [
        {
          "output_type": "stream",
          "name": "stdout",
          "text": [
            "['\\n', '\\n', '\\n\\n', '\\n\\n', ' ', '\\n\\n', ' ', ' ', ' ', ' ', '\\n', ' ', ' ', ' ', ' ', ' ', ' ', ' ', ' ', ' ', ' ', ' ', ' ', ' ', '\\n\\n', '\\n\\n', '\\n', '\\n', '\\n', '\\n', '\\n\\n', ' ', '\\n', ' ', '\\n', ' ', '\\n', ' ', '\\n', ' ', '\\n\\n', '\\n', '\\n', '\\n', '\\n']\n"
          ]
        }
      ]
    },
    {
      "cell_type": "code",
      "source": [
        "pat = re.compile(\"\\S+\")\n",
        "match = pat.findall(text)\n",
        "print(match)"
      ],
      "metadata": {
        "execution": {
          "iopub.status.busy": "2024-07-24T11:52:02.049081Z",
          "iopub.execute_input": "2024-07-24T11:52:02.049494Z",
          "iopub.status.idle": "2024-07-24T11:52:02.055015Z",
          "shell.execute_reply.started": "2024-07-24T11:52:02.049461Z",
          "shell.execute_reply": "2024-07-24T11:52:02.053958Z"
        },
        "trusted": true,
        "colab": {
          "base_uri": "https://localhost:8080/"
        },
        "id": "Duem2e7-C5J-",
        "outputId": "b1afcaaf-deaf-4b89-da56-ad8a4e52b07b"
      },
      "execution_count": null,
      "outputs": [
        {
          "output_type": "stream",
          "name": "stdout",
          "text": [
            "['abcdefghijklmnopqurtuvwxyz', 'ABCDEFGHIJKLMNOPQRSTUVWXYZ', '1234567890', 'Ha', 'HazHa', 'MetaCharacters', '(Need', 'to', 'be', 'escaped):', '.', '^', '$', '*', '+', '?', '{', '}', '[', ']', '\\\\', '|', '(', ')', 'coreyms.com', '321-555-4321', '123.555.1234', '123*555*1234', '800-555-1234', '900-555-1234', 'Mr.', 'Schafer', 'Mr', 'Smith', 'Ms', 'Davis', 'Mrs.', 'Robinson', 'Mr.', 'T', 'cat', 'mat', 'pat', 'bat']\n"
          ]
        }
      ]
    },
    {
      "cell_type": "code",
      "source": [
        "pat = re.compile(\"\\d+\")\n",
        "match = pat.findall(text)\n",
        "print(match)"
      ],
      "metadata": {
        "execution": {
          "iopub.status.busy": "2024-07-24T11:51:44.844123Z",
          "iopub.execute_input": "2024-07-24T11:51:44.844919Z",
          "iopub.status.idle": "2024-07-24T11:51:44.850532Z",
          "shell.execute_reply.started": "2024-07-24T11:51:44.844884Z",
          "shell.execute_reply": "2024-07-24T11:51:44.849482Z"
        },
        "trusted": true,
        "colab": {
          "base_uri": "https://localhost:8080/"
        },
        "id": "CT38zZZFC5KA",
        "outputId": "f3ba3fcd-7b9b-42ff-ea57-2d0f05a0c462"
      },
      "execution_count": null,
      "outputs": [
        {
          "output_type": "stream",
          "name": "stdout",
          "text": [
            "['1234567890', '321', '555', '4321', '123', '555', '1234', '123', '555', '1234', '800', '555', '1234', '900', '555', '1234']\n"
          ]
        }
      ]
    },
    {
      "cell_type": "code",
      "source": [
        "pat = re.compile(\"\\D+\")\n",
        "match = pat.findall(text)\n",
        "print(match)"
      ],
      "metadata": {
        "execution": {
          "iopub.status.busy": "2024-07-24T11:53:44.144550Z",
          "iopub.execute_input": "2024-07-24T11:53:44.144975Z",
          "iopub.status.idle": "2024-07-24T11:53:44.150858Z",
          "shell.execute_reply.started": "2024-07-24T11:53:44.144944Z",
          "shell.execute_reply": "2024-07-24T11:53:44.149750Z"
        },
        "trusted": true,
        "colab": {
          "base_uri": "https://localhost:8080/"
        },
        "id": "Q9-94718C5KB",
        "outputId": "be6dbd2c-f1cf-45cf-a48c-3aeeb74413c1"
      },
      "execution_count": null,
      "outputs": [
        {
          "output_type": "stream",
          "name": "stdout",
          "text": [
            "['\\nabcdefghijklmnopqurtuvwxyz\\nABCDEFGHIJKLMNOPQRSTUVWXYZ\\n\\n', '\\n\\nHa HazHa\\n\\nMetaCharacters (Need to be escaped):\\n. ^ $ * + ? { } [ ] \\\\ | ( )\\n\\ncoreyms.com\\n\\n', '-', '-', '\\n', '.', '.', '\\n', '*', '*', '\\n', '-', '-', '\\n', '-', '-', '\\n\\nMr. Schafer\\nMr Smith\\nMs Davis\\nMrs. Robinson\\nMr. T\\n\\ncat\\nmat\\npat\\nbat\\n']\n"
          ]
        }
      ]
    },
    {
      "cell_type": "code",
      "source": [
        "pat = re.compile(\"^Start\")\n",
        "match = pat.findall(sentence)\n",
        "print(match)\n",
        "\n",
        "pat = re.compile(\"^[Ss]tart\") #any one from the Bracket\n",
        "match = pat.findall(sentence)\n",
        "print(match)"
      ],
      "metadata": {
        "execution": {
          "iopub.status.busy": "2024-07-24T11:57:42.904443Z",
          "iopub.execute_input": "2024-07-24T11:57:42.904830Z",
          "iopub.status.idle": "2024-07-24T11:57:42.911630Z",
          "shell.execute_reply.started": "2024-07-24T11:57:42.904784Z",
          "shell.execute_reply": "2024-07-24T11:57:42.910416Z"
        },
        "trusted": true,
        "colab": {
          "base_uri": "https://localhost:8080/"
        },
        "id": "RSdWwfVXC5KB",
        "outputId": "cb96a85f-0bf5-4350-a7ae-f6a4d9b12435"
      },
      "execution_count": null,
      "outputs": [
        {
          "output_type": "stream",
          "name": "stdout",
          "text": [
            "['Start']\n",
            "['Start']\n"
          ]
        }
      ]
    },
    {
      "cell_type": "code",
      "source": [
        "pat = re.compile(r'\\d{3}.\\d\\d\\d.\\d{4}') #exactly specified format\n",
        "match = pat.findall(text)\n",
        "print(match)"
      ],
      "metadata": {
        "execution": {
          "iopub.status.busy": "2024-07-24T11:58:59.519734Z",
          "iopub.execute_input": "2024-07-24T11:58:59.520146Z",
          "iopub.status.idle": "2024-07-24T11:58:59.525866Z",
          "shell.execute_reply.started": "2024-07-24T11:58:59.520116Z",
          "shell.execute_reply": "2024-07-24T11:58:59.524735Z"
        },
        "trusted": true,
        "colab": {
          "base_uri": "https://localhost:8080/"
        },
        "id": "oe8lWvKHC5KB",
        "outputId": "8342531b-2bf2-4529-c806-2e87b682ed41"
      },
      "execution_count": null,
      "outputs": [
        {
          "output_type": "stream",
          "name": "stdout",
          "text": [
            "['321-555-4321', '123.555.1234', '123*555*1234', '800-555-1234', '900-555-1234']\n"
          ]
        }
      ]
    },
    {
      "cell_type": "code",
      "source": [
        "pat = re.compile(r'\\d{,3}.\\d\\d\\d.\\d{4}') #min 3 chars\n",
        "match = pat.findall(text)\n",
        "print(match)"
      ],
      "metadata": {
        "execution": {
          "iopub.status.busy": "2024-07-24T12:01:23.690165Z",
          "iopub.execute_input": "2024-07-24T12:01:23.690570Z",
          "iopub.status.idle": "2024-07-24T12:01:23.696388Z",
          "shell.execute_reply.started": "2024-07-24T12:01:23.690538Z",
          "shell.execute_reply": "2024-07-24T12:01:23.695167Z"
        },
        "trusted": true,
        "colab": {
          "base_uri": "https://localhost:8080/"
        },
        "id": "tQnEMBTIC5KC",
        "outputId": "a022c4e5-5c1b-444e-8f36-b144b0833207"
      },
      "execution_count": null,
      "outputs": [
        {
          "output_type": "stream",
          "name": "stdout",
          "text": [
            "['1234567890', '321-555-4321', '123.555.1234', '123*555*1234', '800-555-1234', '900-555-1234']\n"
          ]
        }
      ]
    },
    {
      "cell_type": "code",
      "source": [
        "pat = re.compile(r'\\d{3,}.\\d\\d\\d.\\d{4}') #max 3 chars\n",
        "match = pat.findall(text)\n",
        "print(match)"
      ],
      "metadata": {
        "execution": {
          "iopub.status.busy": "2024-07-24T12:01:24.999719Z",
          "iopub.execute_input": "2024-07-24T12:01:25.000224Z",
          "iopub.status.idle": "2024-07-24T12:01:25.006102Z",
          "shell.execute_reply.started": "2024-07-24T12:01:25.000187Z",
          "shell.execute_reply": "2024-07-24T12:01:25.004890Z"
        },
        "trusted": true,
        "colab": {
          "base_uri": "https://localhost:8080/"
        },
        "id": "mG0LEA2LC5KC",
        "outputId": "3f009f3f-0cec-44fa-afbc-732015ef9c36"
      },
      "execution_count": null,
      "outputs": [
        {
          "output_type": "stream",
          "name": "stdout",
          "text": [
            "['321-555-4321', '123.555.1234', '123*555*1234', '800-555-1234', '900-555-1234']\n"
          ]
        }
      ]
    },
    {
      "cell_type": "code",
      "source": [
        "pat = re.compile(r'Mr\\.?\\s[A-Z]\\w+') #? is for whether . present or not\n",
        "match = pat.findall(text)\n",
        "print(match)"
      ],
      "metadata": {
        "execution": {
          "iopub.status.busy": "2024-07-24T12:34:14.907124Z",
          "iopub.execute_input": "2024-07-24T12:34:14.907525Z",
          "iopub.status.idle": "2024-07-24T12:34:14.913175Z",
          "shell.execute_reply.started": "2024-07-24T12:34:14.907489Z",
          "shell.execute_reply": "2024-07-24T12:34:14.912052Z"
        },
        "trusted": true,
        "colab": {
          "base_uri": "https://localhost:8080/"
        },
        "id": "LDzlKUOqC5KC",
        "outputId": "3755a8af-3502-4250-cbaa-f11a071a74d0"
      },
      "execution_count": null,
      "outputs": [
        {
          "output_type": "stream",
          "name": "stdout",
          "text": [
            "['Mr. Schafer', 'Mr Smith']\n"
          ]
        }
      ]
    },
    {
      "cell_type": "code",
      "source": [
        "pat = re.compile(r'Mr\\.?\\s*\\w+') #? is for whether . is their or not\n",
        "match = pat.findall(text)\n",
        "print(match)"
      ],
      "metadata": {
        "execution": {
          "iopub.status.busy": "2024-07-24T12:39:04.603485Z",
          "iopub.execute_input": "2024-07-24T12:39:04.603884Z",
          "iopub.status.idle": "2024-07-24T12:39:04.609610Z",
          "shell.execute_reply.started": "2024-07-24T12:39:04.603850Z",
          "shell.execute_reply": "2024-07-24T12:39:04.608612Z"
        },
        "trusted": true,
        "colab": {
          "base_uri": "https://localhost:8080/"
        },
        "id": "Y5MU07bYC5KC",
        "outputId": "0f5d760f-fab2-4029-e729-f4e8c95f3d44"
      },
      "execution_count": null,
      "outputs": [
        {
          "output_type": "stream",
          "name": "stdout",
          "text": [
            "['Mr. Schafer', 'Mr Smith', 'Mrs', 'Mr. T']\n"
          ]
        }
      ]
    },
    {
      "cell_type": "code",
      "source": [
        "pat = re.compile(r'a')\n",
        "match = pat.finditer(text)\n",
        "for i in match:\n",
        "    print(i)"
      ],
      "metadata": {
        "execution": {
          "iopub.status.busy": "2024-07-24T12:44:57.172658Z",
          "iopub.execute_input": "2024-07-24T12:44:57.173049Z",
          "iopub.status.idle": "2024-07-24T12:44:57.179095Z",
          "shell.execute_reply.started": "2024-07-24T12:44:57.173021Z",
          "shell.execute_reply": "2024-07-24T12:44:57.177891Z"
        },
        "trusted": true,
        "colab": {
          "base_uri": "https://localhost:8080/"
        },
        "id": "wNydrrPBC5KC",
        "outputId": "1c7f74db-6a24-4d2c-9ca8-e1351674cab6"
      },
      "execution_count": null,
      "outputs": [
        {
          "output_type": "stream",
          "name": "stdout",
          "text": [
            "<re.Match object; span=(1, 2), match='a'>\n",
            "<re.Match object; span=(69, 70), match='a'>\n",
            "<re.Match object; span=(72, 73), match='a'>\n",
            "<re.Match object; span=(75, 76), match='a'>\n",
            "<re.Match object; span=(81, 82), match='a'>\n",
            "<re.Match object; span=(84, 85), match='a'>\n",
            "<re.Match object; span=(86, 87), match='a'>\n",
            "<re.Match object; span=(108, 109), match='a'>\n",
            "<re.Match object; span=(230, 231), match='a'>\n",
            "<re.Match object; span=(248, 249), match='a'>\n",
            "<re.Match object; span=(275, 276), match='a'>\n",
            "<re.Match object; span=(279, 280), match='a'>\n",
            "<re.Match object; span=(283, 284), match='a'>\n",
            "<re.Match object; span=(287, 288), match='a'>\n"
          ]
        }
      ]
    },
    {
      "cell_type": "code",
      "source": [
        "pat = re.compile(r'Mr\\.?\\s*\\w+') #? is for whether . is their or not\n",
        "match = pat.finditer(text)\n",
        "for i in match:\n",
        "    print(i)"
      ],
      "metadata": {
        "execution": {
          "iopub.status.busy": "2024-07-24T12:45:49.698499Z",
          "iopub.execute_input": "2024-07-24T12:45:49.698887Z",
          "iopub.status.idle": "2024-07-24T12:45:49.704324Z",
          "shell.execute_reply.started": "2024-07-24T12:45:49.698856Z",
          "shell.execute_reply": "2024-07-24T12:45:49.703212Z"
        },
        "trusted": true,
        "colab": {
          "base_uri": "https://localhost:8080/"
        },
        "id": "1Th5rIcsC5KD",
        "outputId": "cf2ae252-1b0d-4ed8-8aae-8f49f1af6ba4"
      },
      "execution_count": null,
      "outputs": [
        {
          "output_type": "stream",
          "name": "stdout",
          "text": [
            "<re.Match object; span=(223, 234), match='Mr. Schafer'>\n",
            "<re.Match object; span=(235, 243), match='Mr Smith'>\n",
            "<re.Match object; span=(253, 256), match='Mrs'>\n",
            "<re.Match object; span=(267, 272), match='Mr. T'>\n"
          ]
        }
      ]
    },
    {
      "cell_type": "code",
      "source": [
        "pat = re.compile(r'com')\n",
        "match = pat.finditer(text)\n",
        "for i in match:\n",
        "    print(i)"
      ],
      "metadata": {
        "execution": {
          "iopub.status.busy": "2024-07-24T13:01:50.724081Z",
          "iopub.execute_input": "2024-07-24T13:01:50.724487Z",
          "iopub.status.idle": "2024-07-24T13:01:50.729947Z",
          "shell.execute_reply.started": "2024-07-24T13:01:50.724435Z",
          "shell.execute_reply": "2024-07-24T13:01:50.728762Z"
        },
        "trusted": true,
        "colab": {
          "base_uri": "https://localhost:8080/"
        },
        "id": "v_WEYPrYC5KD",
        "outputId": "050ef536-9441-4175-f430-682efe4aecb9"
      },
      "execution_count": null,
      "outputs": [
        {
          "output_type": "stream",
          "name": "stdout",
          "text": [
            "<re.Match object; span=(152, 155), match='com'>\n"
          ]
        }
      ]
    },
    {
      "cell_type": "markdown",
      "source": [
        "## Tokenization\n",
        "\n",
        "splitting of words/sentences"
      ],
      "metadata": {
        "id": "HTMIpBwBC5KD"
      }
    },
    {
      "cell_type": "code",
      "source": [
        "text = \"This is Rgukt. Basar. IIITB. Offers 6 Year Integrated B.Tech Course.\"\n",
        "sent = text.split(\".\") #splits on the given char\n",
        "print(sent)\n",
        "\n",
        "#since there are Mr. Ms. , split cant be used to split\n",
        "#the sentences"
      ],
      "metadata": {
        "execution": {
          "iopub.status.busy": "2024-07-24T13:05:59.039533Z",
          "iopub.execute_input": "2024-07-24T13:05:59.039933Z",
          "iopub.status.idle": "2024-07-24T13:05:59.045609Z",
          "shell.execute_reply.started": "2024-07-24T13:05:59.039900Z",
          "shell.execute_reply": "2024-07-24T13:05:59.044474Z"
        },
        "trusted": true,
        "colab": {
          "base_uri": "https://localhost:8080/"
        },
        "id": "X95ldzcNC5KD",
        "outputId": "36530caa-6221-4617-c2b1-cb7638f50883"
      },
      "execution_count": null,
      "outputs": [
        {
          "output_type": "stream",
          "name": "stdout",
          "text": [
            "['This is Rgukt', ' Basar', ' IIITB', ' Offers 6 Year Integrated B', 'Tech Course', '']\n"
          ]
        }
      ]
    },
    {
      "cell_type": "markdown",
      "source": [
        "## Challenges in Tokenization"
      ],
      "metadata": {
        "id": "2bf-RAAKGoMA"
      }
    },
    {
      "cell_type": "code",
      "source": [
        "text = \"He has Completed his Ph.D degree. he is Happy.\"\n",
        "sent = text.split(\".\")\n",
        "print(sent)\n",
        "\n",
        "#Now this is splitting based on the \".\" which is not good in this case"
      ],
      "metadata": {
        "colab": {
          "base_uri": "https://localhost:8080/"
        },
        "id": "aHDtoiHjFcfa",
        "outputId": "a0b82767-1712-48f9-e0cf-f325a5ddeaeb"
      },
      "execution_count": null,
      "outputs": [
        {
          "output_type": "stream",
          "name": "stdout",
          "text": [
            "['He has Completed his Ph', 'D degree', ' he is Happy', '']\n"
          ]
        }
      ]
    },
    {
      "cell_type": "code",
      "source": [
        "# so we use this way\n",
        "pat = re.compile(r'Ph\\.D\\s+degree')\n",
        "text_after = re.sub(pat, '[degree]', text)\n",
        "print(text_after)\n",
        "\n",
        "#now split and substitute back\n",
        "sent = text_after.split(\".\")\n",
        "sent = [i.replace('[degree]', 'Ph.D degree') for i in sent]\n",
        "print(sent)"
      ],
      "metadata": {
        "colab": {
          "base_uri": "https://localhost:8080/"
        },
        "id": "juvekUbGHWKM",
        "outputId": "74a861c6-f18f-4cb4-fb2c-d4ea1ec5c45f"
      },
      "execution_count": null,
      "outputs": [
        {
          "output_type": "stream",
          "name": "stdout",
          "text": [
            "He has Completed his [degree]. he is Happy.\n",
            "['He has Completed his Ph.D degree', ' he is Happy', '']\n"
          ]
        }
      ]
    },
    {
      "cell_type": "markdown",
      "source": [
        "## Stop Words\n",
        "\n",
        "words even if removed still the meaning\n",
        "remains same"
      ],
      "metadata": {
        "id": "AiQfFUcOC5KE"
      }
    },
    {
      "cell_type": "code",
      "source": [
        "stopwords = ['a', 'the', 'we', 'such','this', 'an','will', 'is', 'are', 'were', 'am', 'was', 'being', 'to', 'for', 'on','you', 'I', 'me', 'he', 'him', 'she','her']\n",
        "text = \"Oh man, this is pretty cool. We will do more such things.\"\n",
        "\n",
        "words = text.lower().split()\n",
        "print(words)\n",
        "\n",
        "filtered_words = [i for i in words if i not in stopwords]\n",
        "print(filtered_words)"
      ],
      "metadata": {
        "execution": {
          "iopub.status.busy": "2024-07-24T17:34:39.710903Z",
          "iopub.execute_input": "2024-07-24T17:34:39.711297Z",
          "iopub.status.idle": "2024-07-24T17:34:39.719703Z",
          "shell.execute_reply.started": "2024-07-24T17:34:39.711266Z",
          "shell.execute_reply": "2024-07-24T17:34:39.718441Z"
        },
        "trusted": true,
        "colab": {
          "base_uri": "https://localhost:8080/"
        },
        "id": "HuTxVnxhC5KE",
        "outputId": "fbe42367-d7be-455e-c0f0-911a68939a29"
      },
      "execution_count": null,
      "outputs": [
        {
          "output_type": "stream",
          "name": "stdout",
          "text": [
            "['oh', 'man,', 'this', 'is', 'pretty', 'cool.', 'we', 'will', 'do', 'more', 'such', 'things.']\n",
            "['oh', 'man,', 'pretty', 'cool.', 'do', 'more', 'things.']\n"
          ]
        }
      ]
    },
    {
      "cell_type": "markdown",
      "source": [
        "## Lemmatization\n",
        "getting root word from the word"
      ],
      "metadata": {
        "id": "VBwinB8-C5KE"
      }
    },
    {
      "cell_type": "code",
      "source": [
        "import nltk\n",
        "nltk.download('wordnet')\n",
        "nltk.download('omw-1.4')  # Optional, for additional languages\n"
      ],
      "metadata": {
        "colab": {
          "base_uri": "https://localhost:8080/"
        },
        "id": "IwiL1VODEL8T",
        "outputId": "ea8556a4-9604-4c25-f4f2-7ba5ab7960f7"
      },
      "execution_count": null,
      "outputs": [
        {
          "output_type": "stream",
          "name": "stderr",
          "text": [
            "[nltk_data] Downloading package wordnet to /root/nltk_data...\n",
            "[nltk_data] Downloading package omw-1.4 to /root/nltk_data...\n"
          ]
        },
        {
          "output_type": "execute_result",
          "data": {
            "text/plain": [
              "True"
            ]
          },
          "metadata": {},
          "execution_count": 30
        }
      ]
    },
    {
      "cell_type": "code",
      "source": [
        "from nltk.stem import WordNetLemmatizer"
      ],
      "metadata": {
        "execution": {
          "iopub.status.busy": "2024-07-24T17:42:55.061016Z",
          "iopub.execute_input": "2024-07-24T17:42:55.061460Z",
          "iopub.status.idle": "2024-07-24T17:42:55.066942Z",
          "shell.execute_reply.started": "2024-07-24T17:42:55.061426Z",
          "shell.execute_reply": "2024-07-24T17:42:55.065545Z"
        },
        "trusted": true,
        "id": "0e8pGyCHC5KE"
      },
      "execution_count": null,
      "outputs": []
    },
    {
      "cell_type": "code",
      "source": [
        "lemmatizer = WordNetLemmatizer()"
      ],
      "metadata": {
        "execution": {
          "iopub.status.busy": "2024-07-24T17:42:57.975622Z",
          "iopub.execute_input": "2024-07-24T17:42:57.976052Z",
          "iopub.status.idle": "2024-07-24T17:42:57.981409Z",
          "shell.execute_reply.started": "2024-07-24T17:42:57.976020Z",
          "shell.execute_reply": "2024-07-24T17:42:57.980100Z"
        },
        "trusted": true,
        "id": "h14K8vSwC5KE"
      },
      "execution_count": null,
      "outputs": []
    },
    {
      "cell_type": "code",
      "source": [
        "print(\"cats : \", lemmatizer.lemmatize(\"cats\"))\n",
        "print(\"feet: \", lemmatizer.lemmatize(\"feet\"))\n",
        "print(\"Walks : \", lemmatizer.lemmatize(\"Walks\"))"
      ],
      "metadata": {
        "trusted": true,
        "colab": {
          "base_uri": "https://localhost:8080/"
        },
        "id": "OijJ1N8AC5KF",
        "outputId": "5a85fcec-5099-46f4-a8cd-c365f8cdd910"
      },
      "execution_count": null,
      "outputs": [
        {
          "output_type": "stream",
          "name": "stdout",
          "text": [
            "cats :  cat\n",
            "feet:  foot\n",
            "Walks :  Walks\n"
          ]
        }
      ]
    },
    {
      "cell_type": "markdown",
      "source": [
        "## Stemming\n",
        "removing the affixes from the word"
      ],
      "metadata": {
        "id": "QdVy9Cz0FAbu"
      }
    },
    {
      "cell_type": "code",
      "source": [
        "from nltk.stem import PorterStemmer"
      ],
      "metadata": {
        "id": "EhnjwbbhE1a9"
      },
      "execution_count": null,
      "outputs": []
    },
    {
      "cell_type": "code",
      "source": [
        "stemmer = PorterStemmer()\n",
        "\n",
        "print(\"Googly : \", stemmer.stem(\"Googly\"))\n",
        "print(\"Likely: \", stemmer.stem(\"Likely\"))\n",
        "print(\"Walking : \", stemmer.stem(\"Walking\"))\n",
        "print(\"Feet : \", stemmer.stem(\"Footing\"))"
      ],
      "metadata": {
        "colab": {
          "base_uri": "https://localhost:8080/"
        },
        "id": "umKJ1O1OFVyI",
        "outputId": "9387f06c-b6cb-48ad-b30d-677ef4400045"
      },
      "execution_count": null,
      "outputs": [
        {
          "output_type": "stream",
          "name": "stdout",
          "text": [
            "Googly :  googli\n",
            "Likely:  like\n",
            "Walking :  walk\n",
            "Feet :  foot\n"
          ]
        }
      ]
    }
  ]
}