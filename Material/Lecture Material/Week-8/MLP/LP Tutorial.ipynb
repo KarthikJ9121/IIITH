{
 "cells": [
  {
   "cell_type": "markdown",
   "metadata": {
    "colab_type": "text",
    "id": "aNOlBglREJwz"
   },
   "source": [
    "Run the below cell to import all relevant notebooks."
   ]
  },
  {
   "cell_type": "code",
   "execution_count": 1,
   "metadata": {
    "colab": {
     "base_uri": "https://localhost:8080/",
     "height": 34
    },
    "colab_type": "code",
    "executionInfo": {
     "elapsed": 2874,
     "status": "ok",
     "timestamp": 1596983910402,
     "user": {
      "displayName": "KARTIK RISHI BHARADWAJ 14BEE0070",
      "photoUrl": "",
      "userId": "12368401133146776355"
     },
     "user_tz": -330
    },
    "id": "05nyKS2TBZJC",
    "outputId": "fdd07951-2d3f-484a-a790-d6e08331baa0"
   },
   "outputs": [
    {
     "name": "stdout",
     "output_type": "stream",
     "text": [
      "running importer\n"
     ]
    }
   ],
   "source": [
    "import io, os, sys, types\n",
    "from IPython import get_ipython\n",
    "from nbformat import read\n",
    "from IPython.core.interactiveshell import InteractiveShell\n",
    "\n",
    "def find_notebook(fullname, path=None):\n",
    "    \"\"\"find a notebook, given its fully qualified name and an optional path\n",
    "\n",
    "    This turns \"foo.bar\" into \"foo/bar.ipynb\"\n",
    "    and tries turning \"Foo_Bar\" into \"Foo Bar\" if Foo_Bar\n",
    "    does not exist.\n",
    "    \"\"\"\n",
    "    name = fullname.rsplit('.', 1)[-1]\n",
    "    if not path:\n",
    "        path = ['']\n",
    "    for d in path:\n",
    "        nb_path = os.path.join(d, name + \".ipynb\")\n",
    "        #print('searching: %s'%nb_path)\n",
    "        if os.path.isfile(nb_path):\n",
    "            return nb_path\n",
    "        # let import Notebook_Name find \"Notebook Name.ipynb\"\n",
    "        nb_path = nb_path.replace(\"_\", \" \")\n",
    "        #print('searching: %s' % nb_path)\n",
    "        if os.path.isfile(nb_path):\n",
    "            return nb_path\n",
    "\n",
    "class NotebookLoader(object):\n",
    "    \"\"\"Module Loader for Jupyter Notebooks\"\"\"\n",
    "    def __init__(self, path=None):\n",
    "        self.shell = InteractiveShell.instance()\n",
    "        self.path = path\n",
    "\n",
    "    def load_module(self, fullname):\n",
    "        \"\"\"import a notebook as a module\"\"\"\n",
    "        path = find_notebook(fullname, self.path)\n",
    "\n",
    "        print (\"importing Jupyter notebook from %s\" % path)\n",
    "\n",
    "        # load the notebook object\n",
    "        with io.open(path, 'r', encoding='utf-8') as f:\n",
    "            nb = read(f, 4)\n",
    "\n",
    "\n",
    "        # create the module and add it to sys.modules\n",
    "        # if name in sys.modules:\n",
    "        #    return sys.modules[name]\n",
    "        mod = types.ModuleType(fullname)\n",
    "        mod.__file__ = path\n",
    "        mod.__loader__ = self\n",
    "        mod.__dict__['get_ipython'] = get_ipython\n",
    "        sys.modules[fullname] = mod\n",
    "\n",
    "        # extra work to ensure that magics that would affect the user_ns\n",
    "        # actually affect the notebook module's ns\n",
    "        save_user_ns = self.shell.user_ns\n",
    "        self.shell.user_ns = mod.__dict__\n",
    "\n",
    "        #print('Found %d cells'%len(nb.cells))\n",
    "        try:\n",
    "          for cell in nb.cells:\n",
    "            if cell.cell_type == 'code':\n",
    "                # transform the input to executable Python\n",
    "                code = self.shell.input_transformer_manager.transform_cell(cell.source)\n",
    "                # run the code in themodule\n",
    "                exec(code, mod.__dict__)\n",
    "        finally:\n",
    "            self.shell.user_ns = save_user_ns\n",
    "        return mod\n",
    "\n",
    "class NotebookFinder(object):\n",
    "    \"\"\"Module finder that locates Jupyter Notebooks\"\"\"\n",
    "    def __init__(self):\n",
    "        self.loaders = {}\n",
    "\n",
    "    def find_module(self, fullname, path=None):\n",
    "        nb_path = find_notebook(fullname, path)\n",
    "        if not nb_path:\n",
    "            return\n",
    "\n",
    "        key = path\n",
    "        if path:\n",
    "            # lists aren't hashable\n",
    "            key = os.path.sep.join(path)\n",
    "\n",
    "        if key not in self.loaders:\n",
    "            self.loaders[key] = NotebookLoader(path)\n",
    "        return self.loaders[key]\n",
    "\n",
    "\n",
    "#  register the NotebookFinder with sys.meta_path\n",
    "print('running importer')\n",
    "sys.meta_path.append(NotebookFinder())"
   ]
  },
  {
   "cell_type": "code",
   "execution_count": 2,
   "metadata": {
    "colab": {
     "base_uri": "https://localhost:8080/",
     "height": 87
    },
    "colab_type": "code",
    "executionInfo": {
     "elapsed": 14073,
     "status": "ok",
     "timestamp": 1596983921673,
     "user": {
      "displayName": "KARTIK RISHI BHARADWAJ 14BEE0070",
      "photoUrl": "",
      "userId": "12368401133146776355"
     },
     "user_tz": -330
    },
    "id": "OmcZvOJHJ0Qp",
    "outputId": "30aedb40-abdf-4f3b-efba-20dc33fbd835"
   },
   "outputs": [
    {
     "name": "stdout",
     "output_type": "stream",
     "text": [
      "importing Jupyter notebook from utils.ipynb\n"
     ]
    }
   ],
   "source": [
    "# Import all relevant functions\n",
    "from sklearn import datasets\n",
    "from sklearn.datasets import make_classification\n",
    "from sklearn.model_selection import train_test_split\n",
    "\n",
    "from utils import plot_decision_boundary, multi_class_signum, get_accuracy, get_prediction\n",
    "from utils import plot_2D_input_datapoints, generate_gifs, normalize, signum\n",
    "\n",
    "import matplotlib.pyplot as plt\n",
    "import random\n",
    "import numpy as np\n",
    "import seaborn as sns; sns.set();\n",
    "import pandas as pd\n",
    "import math\n",
    "import gif\n",
    "import warnings\n",
    "warnings.filterwarnings('ignore')"
   ]
  },
  {
   "cell_type": "markdown",
   "metadata": {
    "colab_type": "text",
    "id": "BIO1nums-lFw"
   },
   "source": [
    "# Introduction to Perceptron Algorithm"
   ]
  },
  {
   "cell_type": "markdown",
   "metadata": {
    "colab_type": "text",
    "id": "V-4xvt_B_OHB"
   },
   "source": [
    "The Perceptron Algorithm is a supervised learning algorithm of binary classifiers. A binary classifier is a function that decides whether an input data vector belongs to a specific class. In our case, we define our output class $\\mathbf{y} = \\{-1, +1\\}$, where $+1$ denotes positive class and $-1$ denotes negative class.\n",
    "\n",
    "Perceptron algorithm makes a fundamental assumption i.e., all datapoints are linearly separable.\n",
    "\n",
    "In our perceptron algorithm problem, our goal is to classify a set of points into two classes in n-dimensional space. This classification is done by a hyperplane defined by a hypothesis function, $h_{\\mathbf{w}}$ as follows:\n",
    "\n",
    "\\begin{equation}\n",
    "\\mathbf{X}: \\mathbf{w^{\\top}X + b} = 0\n",
    "\\end{equation}\n",
    "\n",
    "where,\n",
    "*   $\\mathbf{m}  $ Number of examples/datapoints.\n",
    "*   $\\mathbf{d}  $ Number of features/dimensions.\n",
    "*   $\\mathbf{n}  $ Number of output categories.\n",
    "*   $\\mathbf{X} \\in \\mathbf{R^{m \\times d}}$\n",
    "*   $\\mathbf{w} \\in \\mathbf{R^{d \\times n}}$, Weights of the hyperplane\n",
    "*   $\\mathbf{b} \\in \\mathbf{R^n} $, Bias of the hyperplane\n",
    "\n",
    "Instead of finding both $\\mathbf{w}$ and $\\mathbf{b}$, we make the following modifications to the above equation:\n",
    "\n",
    "\\begin{equation}\n",
    "\\mathbf{x_i} \\rightarrow\n",
    "\\begin{bmatrix}\n",
    "\\mathbf{x_i} \\\\ 1\n",
    "\\end{bmatrix},\n",
    "\\mathbf{w} \\rightarrow\n",
    "\\begin{bmatrix}\n",
    "\\mathbf{w} \\\\ \\mathbf{b}\n",
    "\\end{bmatrix}\n",
    "\\end{equation}\n",
    "\n",
    "When we generalize this modification for $\\mathbf{X}$, our hyperplane necessarily goes through origin, which simplifies our hypothesis function as follows:\n",
    "\n",
    "\\begin{equation}\n",
    "h_{\\mathbf{w}} = \\mathbf{w^{\\top} X}\n",
    "\\end{equation}\n",
    "\n",
    "Depending on the sign of this hypothesis function, it can predict three situations,\n",
    "\n",
    "\\begin{equation}\n",
    "sign(h_{\\mathbf{w}}) = sign(\\mathbf{w^{\\top} X}) = \\left\\{\n",
    "  \\begin{array}{ll}\n",
    "    \\text{1 if } \\; \\mathbf{w^{\\top} X} \\text{ > 0}\\\\\n",
    "    \\text{-1 if } \\; \\mathbf{w^{\\top} X} \\text{ <= 0}\n",
    "  \\end{array}\n",
    "  \\right.\n",
    "\\end{equation}\n",
    "\n",
    "In our binary classification problem, the hypothesis function, $h_{\\mathbf{w}}$, classifies a particular datapoint $(x_i, y_i)$ correctly if,\n",
    "\n",
    "\\begin{equation}\n",
    "sign(\\mathbf{w^{\\top}x_i}) = \\mathbf{y_i} \\equiv \\mathbf{y_i \\cdot w^{\\top} x_i > 0}\n",
    "\\end{equation}\n",
    "\n",
    "On the other hand, $h_{\\mathbf{w}}$ incorrectly classifies a datapoint $(x_i, y_i)$ if,\n",
    "\n",
    "\\begin{equation}\n",
    "sign(\\mathbf{w^{\\top}x_i}) \\neq \\mathbf{y_i} \\equiv \\mathbf{y_i \\cdot w^{\\top} x_i \\leq 0}\n",
    "\\end{equation}\n",
    "\n",
    "$\\;$\n",
    "\n",
    "<img class=\"align-center\" border=\"2\" src=\"https://www.cs.cornell.edu/courses/cs4780/2017sp/lectures/images/perceptron/perceptron_img1.png\" width=\"500\"/>\n",
    "\n",
    "$\\;$\n",
    "\n",
    "The quantity, $\\mathbf{y \\cdot w^{\\top} X}$, is the margin or the distance between the datapoints in $\\mathbf{X}$ and the hyperplane.\n",
    "\n",
    "Consider our desired behavior: we would like to have $\\mathbf{y \\cdot w^{\\top} X > 0}$ for all training examples, and penalize those $\\mathbf{w}$ where $\\mathbf{y \\cdot w^{\\top} X \\leq 0}$.\n",
    "\n",
    "Intuitively, we would like to have our loss function defined only for misclassified training datapoints. For the correctly classified ones, we define zero loss.\n",
    "\n",
    "Hence, our loss function is as follows:\n",
    "\n",
    "\\begin{equation}\n",
    "J = \\sum_{x_i \\in \\varepsilon} - \\mathbf{y_i \\cdot w^{\\top} x_i}\n",
    "\\end{equation}\n",
    "\n",
    "where $\\varepsilon$ is the set of misclassified samples i.e.,\n",
    "\n",
    "\\begin{equation}\n",
    "\\varepsilon = \\{\\mathbf{x_i | w^{\\top} x_i < 0 }\\}\n",
    "\\end{equation}\n",
    "\n",
    "This loss is differentiable. For a batch of samples, we can now write our gradient descent update rule as follows:\n",
    "\n",
    "\\begin{equation}\n",
    "\\mathbf{w^{k+1} \\leftarrow w^k} + \\eta \\sum_{x_i \\in \\varepsilon} \\mathbf{y_i x_i}\n",
    "\\end{equation}"
   ]
  },
  {
   "cell_type": "markdown",
   "metadata": {
    "colab_type": "text",
    "id": "pnQpjXa3DgR9"
   },
   "source": [
    "Now that we have seen an introduction on how the Perceptron model works, we will dive into the code implementations. Also, we will answer some open-ended questions such as:\n",
    "\n",
    "1.   Effect of weight initialization\n",
    "2.   Do we need biases?\n",
    "3.   What happens if we have non-linearly separable dataset, like XOR problem?\n",
    "4.   Training perceptron model on a partially separable dataset"
   ]
  },
  {
   "cell_type": "markdown",
   "metadata": {
    "colab_type": "text",
    "id": "GN5FSt66RLjd"
   },
   "source": [
    "# Example 1 - Toy dataset"
   ]
  },
  {
   "cell_type": "code",
   "execution_count": 3,
   "metadata": {
    "colab": {},
    "colab_type": "code",
    "executionInfo": {
     "elapsed": 14067,
     "status": "ok",
     "timestamp": 1596983921677,
     "user": {
      "displayName": "KARTIK RISHI BHARADWAJ 14BEE0070",
      "photoUrl": "",
      "userId": "12368401133146776355"
     },
     "user_tz": -330
    },
    "id": "RDTaWuuvTviP"
   },
   "outputs": [],
   "source": [
    "# Setting the seed to ensure reproducibility of experiments\n",
    "np.random.seed(10)\n",
    "\n",
    "# Getting only linearly separable dataset\n",
    "separable = False\n",
    "while not separable:\n",
    "  samples = make_classification(n_samples=1000, n_features=2, n_redundant=0, n_informative=1, n_clusters_per_class=1, flip_y=-1)\n",
    "  red = samples[0][samples[1] == 0]\n",
    "  blue = samples[0][samples[1] == 1]\n",
    "  separable = any([red[:, k].max() < blue[:, k].min() or red[:, k].min() > blue[:, k].max() for k in range(2)])\n",
    "\n",
    "X, y = samples\n",
    "\n",
    "# Adding column of ones to absorb bias b of the hyperplane into X\n",
    "bias_ones = np.ones((len(X), 1))\n",
    "X = np.hstack((X, bias_ones))\n",
    "\n",
    "# Setting y from {0,1} to {-1, 1}\n",
    "y[y == 0] = -1\n",
    "y = y.reshape(-1, 1)"
   ]
  },
  {
   "cell_type": "code",
   "execution_count": 4,
   "metadata": {
    "colab": {
     "base_uri": "https://localhost:8080/",
     "height": 303
    },
    "colab_type": "code",
    "executionInfo": {
     "elapsed": 14048,
     "status": "ok",
     "timestamp": 1596983921689,
     "user": {
      "displayName": "KARTIK RISHI BHARADWAJ 14BEE0070",
      "photoUrl": "",
      "userId": "12368401133146776355"
     },
     "user_tz": -330
    },
    "id": "9n5iS1TNFrP9",
    "outputId": "878adb09-7d6f-45f1-f698-f20e1fbfde5e"
   },
   "outputs": [
    {
     "data": {
      "image/png": "[encoded data removed]",
      "text/plain": [
       "<Figure size 432x288 with 1 Axes>"
      ]
     },
     "metadata": {},
     "output_type": "display_data"
    }
   ],
   "source": [
    "plot_2D_input_datapoints(X[:, :2], y)"
   ]
  },
  {
   "cell_type": "code",
   "execution_count": 5,
   "metadata": {
    "colab": {
     "base_uri": "https://localhost:8080/",
     "height": 67
    },
    "colab_type": "code",
    "executionInfo": {
     "elapsed": 14015,
     "status": "ok",
     "timestamp": 1596983921692,
     "user": {
      "displayName": "KARTIK RISHI BHARADWAJ 14BEE0070",
      "photoUrl": "",
      "userId": "12368401133146776355"
     },
     "user_tz": -330
    },
    "id": "u5rrR7CJnpoa",
    "outputId": "d978ceb0-2ae2-466b-a804-4cd1fded406e"
   },
   "outputs": [
    {
     "name": "stdout",
     "output_type": "stream",
     "text": [
      "Training dataset:  (700, 3)\n",
      "Validation dataset:  (100, 3)\n",
      "Test dataset:  (200, 3)\n"
     ]
    }
   ],
   "source": [
    "# Train-Val-Test split\n",
    "X_train_val, X_test, Y_train_val, Y_test = train_test_split(X, y, shuffle=True, test_size = 0.2)\n",
    "X_train, X_val, Y_train, Y_val = train_test_split(X_train_val, Y_train_val, test_size = 0.125)\n",
    "\n",
    "print(\"Training dataset: \", X_train.shape)\n",
    "print(\"Validation dataset: \", X_val.shape)\n",
    "print(\"Test dataset: \", X_test.shape)"
   ]
  },
  {
   "cell_type": "code",
   "execution_count": 6,
   "metadata": {
    "colab": {},
    "colab_type": "code",
    "executionInfo": {
     "elapsed": 14004,
     "status": "ok",
     "timestamp": 1596983921694,
     "user": {
      "displayName": "KARTIK RISHI BHARADWAJ 14BEE0070",
      "photoUrl": "",
      "userId": "12368401133146776355"
     },
     "user_tz": -330
    },
    "id": "F4HJx37iG3nn"
   },
   "outputs": [],
   "source": [
    "# Normalizing X_train and absorbing weight b of the hyperplane\n",
    "X_normalized_train = normalize(X_train[:, :2])\n",
    "\n",
    "b_ones = np.ones((len(X_normalized_train), 1))\n",
    "X_normalized_train = np.hstack((X_normalized_train, b_ones))"
   ]
  },
  {
   "cell_type": "markdown",
   "metadata": {
    "colab_type": "text",
    "id": "2ye-6RDBF_tL"
   },
   "source": [
    "Note above that 1st and 2nd column are input data features and the 3rd column effectively translates to the bias column. Adding column of ones to the input data helps in easier matrix multiplication between the input data $X$ and weights $w$."
   ]
  },
  {
   "cell_type": "markdown",
   "metadata": {
    "colab_type": "text",
    "id": "-bgqqnr3hTy4"
   },
   "source": [
    "The pseudo-code for our perceptron algorithm is as follows:\n",
    "\n",
    "<img class=\"align-center\" border=\"2\" src=\"https://www.cs.cornell.edu/courses/cs4780/2017sp/lectures/images/perceptron/perceptron_algo.png\" width=\"600\"/>"
   ]
  },
  {
   "cell_type": "code",
   "execution_count": 7,
   "metadata": {
    "colab": {},
    "colab_type": "code",
    "executionInfo": {
     "elapsed": 14947,
     "status": "ok",
     "timestamp": 1596983922645,
     "user": {
      "displayName": "KARTIK RISHI BHARADWAJ 14BEE0070",
      "photoUrl": "",
      "userId": "12368401133146776355"
     },
     "user_tz": -330
    },
    "id": "A9z-aoNUqXcP"
   },
   "outputs": [],
   "source": [
    "# Perceptron training algorithm\n",
    "def train(X_train, Y_train, weights, learning_rate=1, total_epochs=100):\n",
    "\n",
    "    \"\"\"Training method for Perceptron.\n",
    "\n",
    "    Parameters\n",
    "    -----------\n",
    "\n",
    "    X_train: ndarray (num_examples(rows) vs num_features(columns))\n",
    "    Input dataset which perceptron will use to learn optimal weights\n",
    "\n",
    "    Y_train: ndarray (num_examples(rows) vs class_labels(columns))\n",
    "    Class labels for input data\n",
    "\n",
    "    weights: ndarray (num_features vs n_output)\n",
    "    Weights used to train the network and predict on test set\n",
    "\n",
    "    learning_rate: int\n",
    "    Learning rate use to learn and update weights\n",
    "\n",
    "    total_epochs: int\n",
    "    Max number of epochs to train the perceptron model\n",
    "    \"\"\"\n",
    "\n",
    "    n_samples, _ = np.shape(X_train)\n",
    "    history_weights = []\n",
    "    epoch = 1\n",
    "\n",
    "    # Number of missclassified points we would like to see in the train set.\n",
    "    # While training, its value will change every epoch. If m==0, our training \n",
    "    # error will be zero.\n",
    "    m = 1\n",
    "\n",
    "    # If the most recent weights gave 0 misclassifications, break the loop.\n",
    "    # Else continue until total_epochs is completed.\n",
    "    while m != 0 and epoch <= total_epochs:\n",
    "        m = 0\n",
    "\n",
    "        # Compute weighted inputs and predict class labels on training set.\n",
    "        weights_transpose_x = np.dot(X_train, weights)\n",
    "        weights_transpose_x = signum(weights_transpose_x)\n",
    "        y_train_out = np.multiply(Y_train, weights_transpose_x)\n",
    "        epoch += 1\n",
    "\n",
    "        # Collecting misclassified indexes and count them\n",
    "        y_miscls_idxs = np.argwhere(y_train_out <= 0)[:, 0]\n",
    "        y_miscls_idxs = np.unique(y_miscls_idxs)\n",
    "        m = len(y_miscls_idxs)\n",
    "\n",
    "        # Calculate gradients and update weights\n",
    "        dweights = np.dot((X_train[y_miscls_idxs]).T, Y_train[y_miscls_idxs])\n",
    "        weights += (learning_rate/n_samples) * dweights\n",
    "        weights = np.round(weights, decimals=4)\n",
    "\n",
    "        # Append weights to visualize decision boundary later\n",
    "        history_weights.append(weights)\n",
    "\n",
    "        if m == 0 and epoch <= total_epochs:\n",
    "            print(\"Training has stabilized with all points classified: \", epoch)\n",
    "        else:\n",
    "            print(f'Training completed at {epoch-1} epochs. {m} misclassified points remain.')\n",
    "\n",
    "    return history_weights"
   ]
  },
  {
   "cell_type": "code",
   "execution_count": 8,
   "metadata": {
    "colab": {},
    "colab_type": "code",
    "executionInfo": {
     "elapsed": 14939,
     "status": "ok",
     "timestamp": 1596983922649,
     "user": {
      "displayName": "KARTIK RISHI BHARADWAJ 14BEE0070",
      "photoUrl": "",
      "userId": "12368401133146776355"
     },
     "user_tz": -330
    },
    "id": "RgaljZ10EjKD"
   },
   "outputs": [],
   "source": [
    "# Initializing weights to zero\n",
    "_, n_features = np.shape(X_normalized_train)\n",
    "_, n_outputs = np.shape(Y_train)\n",
    "\n",
    "weights = np.zeros((n_features, n_outputs))"
   ]
  },
  {
   "cell_type": "code",
   "execution_count": 9,
   "metadata": {},
   "outputs": [
    {
     "data": {
      "text/plain": [
       "(3, 1)"
      ]
     },
     "execution_count": 9,
     "metadata": {},
     "output_type": "execute_result"
    }
   ],
   "source": [
    "weights.shape"
   ]
  },
  {
   "cell_type": "code",
   "execution_count": 10,
   "metadata": {
    "colab": {
     "base_uri": "https://localhost:8080/",
     "height": 34
    },
    "colab_type": "code",
    "executionInfo": {
     "elapsed": 14922,
     "status": "ok",
     "timestamp": 1596983922664,
     "user": {
      "displayName": "KARTIK RISHI BHARADWAJ 14BEE0070",
      "photoUrl": "",
      "userId": "12368401133146776355"
     },
     "user_tz": -330
    },
    "id": "C_4Fa59K11rQ",
    "outputId": "21e9b8b4-04bd-4dcf-969b-097ed428a07e"
   },
   "outputs": [
    {
     "name": "stdout",
     "output_type": "stream",
     "text": [
      "Training completed at 1 epochs. 372 misclassified points remain.\n",
      "Training completed at 2 epochs. 328 misclassified points remain.\n",
      "Training completed at 3 epochs. 10 misclassified points remain.\n",
      "Training completed at 4 epochs. 8 misclassified points remain.\n",
      "Training completed at 5 epochs. 8 misclassified points remain.\n",
      "Training completed at 6 epochs. 8 misclassified points remain.\n",
      "Training completed at 7 epochs. 7 misclassified points remain.\n",
      "Training completed at 8 epochs. 7 misclassified points remain.\n",
      "Training completed at 9 epochs. 7 misclassified points remain.\n",
      "Training completed at 10 epochs. 6 misclassified points remain.\n",
      "Training completed at 11 epochs. 6 misclassified points remain.\n",
      "Training completed at 12 epochs. 4 misclassified points remain.\n",
      "Training completed at 13 epochs. 4 misclassified points remain.\n",
      "Training completed at 14 epochs. 4 misclassified points remain.\n",
      "Training completed at 15 epochs. 3 misclassified points remain.\n",
      "Training completed at 16 epochs. 3 misclassified points remain.\n",
      "Training completed at 17 epochs. 3 misclassified points remain.\n",
      "Training completed at 18 epochs. 3 misclassified points remain.\n",
      "Training completed at 19 epochs. 3 misclassified points remain.\n",
      "Training completed at 20 epochs. 3 misclassified points remain.\n",
      "Training completed at 21 epochs. 3 misclassified points remain.\n",
      "Training completed at 22 epochs. 3 misclassified points remain.\n",
      "Training completed at 23 epochs. 3 misclassified points remain.\n",
      "Training completed at 24 epochs. 3 misclassified points remain.\n",
      "Training completed at 25 epochs. 3 misclassified points remain.\n",
      "Training completed at 26 epochs. 3 misclassified points remain.\n",
      "Training completed at 27 epochs. 3 misclassified points remain.\n",
      "Training completed at 28 epochs. 3 misclassified points remain.\n",
      "Training completed at 29 epochs. 3 misclassified points remain.\n",
      "Training completed at 30 epochs. 3 misclassified points remain.\n",
      "Training completed at 31 epochs. 3 misclassified points remain.\n",
      "Training completed at 32 epochs. 3 misclassified points remain.\n",
      "Training completed at 33 epochs. 3 misclassified points remain.\n",
      "Training completed at 34 epochs. 3 misclassified points remain.\n",
      "Training completed at 35 epochs. 3 misclassified points remain.\n",
      "Training completed at 36 epochs. 3 misclassified points remain.\n",
      "Training completed at 37 epochs. 2 misclassified points remain.\n",
      "Training completed at 38 epochs. 2 misclassified points remain.\n",
      "Training completed at 39 epochs. 2 misclassified points remain.\n",
      "Training completed at 40 epochs. 2 misclassified points remain.\n",
      "Training completed at 41 epochs. 2 misclassified points remain.\n",
      "Training completed at 42 epochs. 2 misclassified points remain.\n",
      "Training completed at 43 epochs. 2 misclassified points remain.\n",
      "Training completed at 44 epochs. 2 misclassified points remain.\n",
      "Training completed at 45 epochs. 2 misclassified points remain.\n",
      "Training completed at 46 epochs. 2 misclassified points remain.\n",
      "Training completed at 47 epochs. 2 misclassified points remain.\n",
      "Training completed at 48 epochs. 2 misclassified points remain.\n",
      "Training completed at 49 epochs. 2 misclassified points remain.\n",
      "Training completed at 50 epochs. 2 misclassified points remain.\n"
     ]
    }
   ],
   "source": [
    "trained_weights = train(X_normalized_train, Y_train, weights, learning_rate=0.05, total_epochs=50)"
   ]
  },
  {
   "cell_type": "code",
   "execution_count": 11,
   "metadata": {
    "colab": {
     "base_uri": "https://localhost:8080/",
     "height": 84
    },
    "colab_type": "code",
    "executionInfo": {
     "elapsed": 37297,
     "status": "ok",
     "timestamp": 1596983945105,
     "user": {
      "displayName": "KARTIK RISHI BHARADWAJ 14BEE0070",
      "photoUrl": "",
      "userId": "12368401133146776355"
     },
     "user_tz": -330
    },
    "id": "YbYWSS__CzTf",
    "outputId": "20cd8eb6-701e-4cfc-dc28-7bf783656b76"
   },
   "outputs": [
    {
     "name": "stdout",
     "output_type": "stream",
     "text": [
      "Evaluation results\n",
      "Training accuracy: 99.571\n",
      "Validation accuracy: 99.000\n",
      "Test accuracy: 99.500\n"
     ]
    }
   ],
   "source": [
    "best_weights = trained_weights[-1]\n",
    "train_acc, _ = get_prediction(X_train, Y_train, best_weights, get_acc=True)\n",
    "val_acc, _ = get_prediction(X_val, Y_val, best_weights, get_acc=True)\n",
    "test_acc, _ = get_prediction(X_test, Y_test, best_weights, get_acc=True)\n",
    "\n",
    "print(\"Evaluation results\")\n",
    "print(\"Training accuracy: {:.3f}\" .format(train_acc))\n",
    "print(\"Validation accuracy: {:.3f}\" .format(val_acc))\n",
    "print(\"Test accuracy: {:.3f}\" .format(test_acc))"
   ]
  },
  {
   "cell_type": "code",
   "execution_count": 12,
   "metadata": {
    "colab": {
     "base_uri": "https://localhost:8080/",
     "height": 593
    },
    "colab_type": "code",
    "executionInfo": {
     "elapsed": 37267,
     "status": "ok",
     "timestamp": 1596983945107,
     "user": {
      "displayName": "KARTIK RISHI BHARADWAJ 14BEE0070",
      "photoUrl": "",
      "userId": "12368401133146776355"
     },
     "user_tz": -330
    },
    "id": "k4YWSk3oC80X",
    "outputId": "881725a1-c066-4f7f-d510-0b59ed84bbb8"
   },
   "outputs": [
    {
     "data": {
      "image/png": "[encoded data removed]",
      "text/plain": [
       "<PIL.PngImagePlugin.PngImageFile image mode=RGBA size=576x576 at 0x7FFC16C88C50>"
      ]
     },
     "execution_count": 12,
     "metadata": {},
     "output_type": "execute_result"
    }
   ],
   "source": [
    "plot_decision_boundary(X_test, Y_test, best_weights, dataset_type='test')"
   ]
  }
 ],
 "metadata": {
  "colab": {
   "collapsed_sections": [
    "ZQQfFFOrqST3"
   ],
   "name": "LinearPerceptron_draft4.ipynb",
   "provenance": [],
   "toc_visible": true
  },
  "kernelspec": {
   "display_name": "Python 3",
   "language": "python",
   "name": "python3"
  },
  "language_info": {
   "codemirror_mode": {
    "name": "ipython",
    "version": 3
   },
   "file_extension": ".py",
   "mimetype": "text/x-python",
   "name": "python",
   "nbconvert_exporter": "python",
   "pygments_lexer": "ipython3",
   "version": "3.7.6"
  }
 },
 "nbformat": 4,
 "nbformat_minor": 1
}
